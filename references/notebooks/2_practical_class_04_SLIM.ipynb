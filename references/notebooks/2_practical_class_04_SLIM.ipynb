{
 "cells": [
  {
   "cell_type": "markdown",
   "metadata": {},
   "source": [
    "# Global settings"
   ]
  },
  {
   "cell_type": "markdown",
   "metadata": {},
   "source": [
    "## Imports"
   ]
  },
  {
   "cell_type": "code",
   "execution_count": null,
   "metadata": {},
   "outputs": [],
   "source": [
    "import os\n",
    "import pickle\n",
    "import datetime\n",
    "import torch\n",
    "import random\n",
    "\n",
    "import pandas as pd\n",
    "import numpy as np\n",
    "import plotly.graph_objects as go\n",
    "\n",
    "from itertools import product\n",
    "from collections import defaultdict\n",
    "from sklearn.model_selection import KFold\n",
    "from torch.utils.data import DataLoader, TensorDataset\n",
    "\n",
    "from slim_gsgp.datasets.data_loader import *\n",
    "from slim_gsgp.main_slim import slim\n",
    "\n",
    "from plots import *\n"
   ]
  },
  {
   "cell_type": "markdown",
   "metadata": {},
   "source": [
    "## Settings"
   ]
  },
  {
   "cell_type": "code",
   "execution_count": null,
   "metadata": {},
   "outputs": [],
   "source": [
    "seed = 1111\n",
    "np.random.seed(seed)\n",
    "random.seed(seed)\n"
   ]
  },
  {
   "cell_type": "markdown",
   "metadata": {},
   "source": [
    "# Cross-validation objects"
   ]
  },
  {
   "cell_type": "code",
   "execution_count": null,
   "metadata": {},
   "outputs": [],
   "source": [
    "k_outer = 15\n",
    "k_inner = 10\n",
    "cv_outer = KFold(n_splits=k_outer, random_state=seed, shuffle=True)\n",
    "cv_inner = KFold(n_splits=k_inner, random_state=seed, shuffle=True)\n"
   ]
  },
  {
   "cell_type": "markdown",
   "metadata": {},
   "source": [
    "# Problem Instance definition\n",
    "\n",
    "- `X` and `y`: which dataset will be used?\n",
    "- `fitnesss_function`: the fitness function that will be used to measure the algorithm learning.\n",
    "- `minimization`: is this a minimization problem?\n"
   ]
  },
  {
   "cell_type": "code",
   "execution_count": null,
   "metadata": {},
   "outputs": [],
   "source": [
    "# DATASET = 'boston'\n",
    "# DATASET = 'concrete_strength'\n",
    "DATASET = 'bike'\n",
    "\n",
    "if DATASET == 'boston':\n",
    "    X, y = load_boston(X_y=True)\n",
    "    DATASET_NAME = 'Boston'\n",
    "elif DATASET == 'bike':\n",
    "    X, y = load_bike_sharing(X_y=True)\n",
    "    # X = X[:, :11]\n",
    "    DATASET_NAME = 'Bike'\n",
    "elif DATASET == 'concrete_strength':\n",
    "    X, y = load_concrete_strength(X_y=True)\n",
    "    DATASET_NAME = 'Concrete-Strength'\n",
    "    \n",
    "FITNESS_FUNCTION = 'rmse'\n",
    "MINIMIZATION = True\n",
    "\n",
    "total_instances = X.shape[0]\n",
    "outer_test_size = total_instances // k_outer\n",
    "outer_train_size = total_instances - outer_test_size\n",
    "inner_val_size = outer_train_size // k_inner\n",
    "inner_train_size = outer_train_size - inner_val_size\n",
    "\n",
    "print(f'Total Instances:\\t{total_instances}\\n--')\n",
    "print(f'Outer Train set:\\t{outer_train_size}')\n",
    "print(f'Test set:\\t\\t{outer_test_size}\\n--')\n",
    "print(f'Inner Train set:\\t{inner_train_size}')\n",
    "print(f'Validation set:\\t\\t{inner_val_size}\\n')\n"
   ]
  },
  {
   "cell_type": "markdown",
   "metadata": {},
   "source": [
    "# Solve settings\n"
   ]
  },
  {
   "cell_type": "code",
   "execution_count": null,
   "metadata": {},
   "outputs": [],
   "source": [
    "LOG_DIR = './log/PC4/'\n",
    "LOG_LEVEL = 2\n",
    "if not os.path.exists(LOG_DIR):\n",
    "    os.makedirs(LOG_DIR)\n"
   ]
  },
  {
   "cell_type": "code",
   "execution_count": null,
   "metadata": {},
   "outputs": [],
   "source": [
    "POP_SIZE = 20\n",
    "SLIM_VERSIONS = ['SLIM+SIG2', 'SLIM+SIG1', 'SLIM+ABS', 'SLIM*SIG2', 'SLIM*SIG1', 'SLIM*ABS']\n",
    "\n",
    "fixed_params = {\n",
    "    # ---\n",
    "    # Search Space\n",
    "    'initializer': 'rhh',\n",
    "    'init_depth': 2,\n",
    "    'max_depth': 10,\n",
    "    'tree_constants': [random.uniform(0, 1) for _ in range(9)]+[ -1.], \n",
    "    'tree_functions': ['add', 'subtract'],\n",
    "    'prob_const': 0.1,\n",
    "    # ---\n",
    "    # Problem Instance\n",
    "    'dataset_name': DATASET_NAME,\n",
    "    'fitness_function': 'rmse',\n",
    "    'minimization': True,\n",
    "    # ---\n",
    "    # GSGP instance \n",
    "    'tournament_size': int(POP_SIZE*0.02) if POP_SIZE>100 else 2,\n",
    "    'pop_size': POP_SIZE,\n",
    "    'ms_lower': 0,\n",
    "    'ms_upper': 0.5,\n",
    "    'p_inflate': 0.05,\n",
    "    'copy_parent': True,\n",
    "    'reconstruct': False,\n",
    "    # ---\n",
    "    # Solve settings\n",
    "    'n_iter': 500,\n",
    "    'elitism': True,\n",
    "    'n_elites': 2, \n",
    "    'test_elite': True,\n",
    "    'log_level': LOG_LEVEL,\n",
    "    'verbose': 0,\n",
    "    'n_jobs': 1\n",
    "}\n",
    "\n",
    "param_grid = {\n",
    "    'slim_version': SLIM_VERSIONS\n",
    "}\n"
   ]
  },
  {
   "cell_type": "code",
   "execution_count": null,
   "metadata": {},
   "outputs": [],
   "source": [
    "def call_slim(fixed_params, param_grid, seed, set_max_depth = False):\n",
    "    models = []\n",
    "    keys, values = zip(*param_grid.items())\n",
    "    for combo in product(*values):\n",
    "        dynamic_params = dict(zip(keys, combo))\n",
    "        full_params = {**fixed_params, **dynamic_params}\n",
    "        if set_max_depth:\n",
    "            full_params.update({'max_depth': full_params['init_depth']+15})\n",
    "        model = slim(**full_params, seed=seed)\n",
    "        res = {'model': model}\n",
    "        res.update({'rmse_train': model.fitness.item()})\n",
    "        res.update({'rmse_test': model.test_fitness.item()})\n",
    "        res.update({'dynamic_params': dynamic_params})\n",
    "        models.append(res)\n",
    "    return models      \n"
   ]
  },
  {
   "cell_type": "code",
   "execution_count": null,
   "metadata": {},
   "outputs": [],
   "source": [
    "# Outer CV loop\n",
    "# Notice that here we are using only the first iteration of the outer CV loop\n",
    "data_cv_outer = [[learning_ix, test_ix] for learning_ix, test_ix in cv_outer.split(X, y)][0]\n",
    "\n",
    "X_learning = ...\n",
    "y_learning = ...\n",
    "X_test = ...\n",
    "y_test = ...\n",
    "\n",
    "print('\\n'+'-'*41+'\\n')\n",
    "print(f'Outer CV\\nLearning shape: {X_learning.shape}\\nTest shape: {X_test.shape}\\n')\n",
    "\n",
    "# Inner CV loop\n",
    "results = []\n",
    "data_cv_inner = [[train_ix, val_ix] for train_ix, val_ix in cv_inner.split(X_learning, y_learning)]\n",
    "for i_inner, data_cv in enumerate(data_cv_inner):\n",
    "    print('-----\\nInner CV {}'.format(i_inner))\n",
    "    # ----------\n",
    "    # Data\n",
    "    \n",
    "    \n",
    "    print(f'Training shape: {X_train.shape}\\nValidation shape: {X_val.shape}\\n')\n",
    "    fixed_params.update({\n",
    "        'X_train': X_train, 'y_train': y_train,\n",
    "        'X_test': X_val, 'y_test': y_val\n",
    "    })\n",
    "\n",
    "    # Fit\n",
    "    LOG_PATH = LOG_DIR+'slim_'+DATASET_NAME+'_'+str(i_inner)+'.csv'\n",
    "    if os.path.exists(LOG_PATH):\n",
    "        os.remove(LOG_PATH)\n",
    "    fixed_params.update({'log_path': LOG_PATH})\n",
    "    res = call_slim(fixed_params, param_grid, seed=(seed+i_inner))\n",
    "    \n",
    "    # Log\n",
    "    results.append(res)\n"
   ]
  },
  {
   "cell_type": "code",
   "execution_count": null,
   "metadata": {},
   "outputs": [],
   "source": [
    "rmse_by_config = defaultdict(list)\n",
    "\n",
    "for split in results:\n",
    "    rmse_train = []\n",
    "    rmse_test = []\n",
    "    \n",
    "    for result in split:\n",
    "        key = ''\n",
    "        for k, v in result['dynamic_params'].items():\n",
    "            key += k+': '+str(v)+' <br /> '\n",
    "        rmse_by_config[key].append(result['rmse_test'])\n",
    "\n",
    "fig = go.Figure()\n",
    "for config, rmse_values in rmse_by_config.items():\n",
    "    fig.add_trace(go.Box(\n",
    "        y=rmse_values,\n",
    "        boxpoints='all',\n",
    "        jitter=0.5,\n",
    "        pointpos=0,\n",
    "        line=dict(color='orange'),\n",
    "        name=config\n",
    "    ))\n",
    "\n",
    "fig.update_layout(\n",
    "    title=DATASET_NAME+' dataset',\n",
    "    xaxis_title='',\n",
    "    yaxis_title='Test RMSE',\n",
    "    height=500, width=1100,\n",
    "    xaxis_tickangle=-90,\n",
    "    yaxis_range=[0,None],\n",
    "    margin=dict(l=50, r=50, t=50, b=20),\n",
    "    showlegend=False,\n",
    "    template='plotly_white'\n",
    ")\n",
    "\n",
    "fig.show()\n"
   ]
  },
  {
   "cell_type": "code",
   "execution_count": null,
   "metadata": {},
   "outputs": [],
   "source": [
    "# Plot settings\n",
    "df_log = []\n",
    "for i_inner in range(k_inner):\n",
    "    tmp = pd.read_csv(LOG_DIR+'slim_'+DATASET_NAME+'_'+str(i_inner)+'.csv', header=None)\n",
    "    tmp['cv'] = i_inner\n",
    "    df_log.append(tmp)\n",
    "df_log = pd.concat(df_log, ignore_index=True)\n",
    "\n",
    "n_rows = 2\n",
    "n_cols = 3\n"
   ]
  },
  {
   "cell_type": "code",
   "execution_count": null,
   "metadata": {},
   "outputs": [],
   "source": [
    "make_evolution_plots(n_rows, n_cols, SLIM_VERSIONS, df_log, plot_title = 'SLIM - Train vs Test Fitness ('+DATASET_NAME+' dataset)')\n",
    "[fixed_params['pop_size'], fixed_params['tournament_size']]"
   ]
  },
  {
   "cell_type": "code",
   "execution_count": null,
   "metadata": {},
   "outputs": [],
   "source": [
    "make_evolution_plots(n_rows, n_cols, SLIM_VERSIONS, df_log, var='size', plot_title = 'SLIM -Size ('+DATASET_NAME+' dataset)')"
   ]
  },
  {
   "cell_type": "markdown",
   "metadata": {},
   "source": [
    "<br />\n",
    "<hr />\n",
    "\n",
    "# Exercises (not graded)\n",
    "\n",
    "- Run the nested crossvalidation for hyperparameters tunning using the Concrete Strength dataset.\n",
    "\n",
    "<br />"
   ]
  },
  {
   "cell_type": "code",
   "execution_count": null,
   "metadata": {},
   "outputs": [],
   "source": []
  }
 ],
 "metadata": {
  "kernelspec": {
   "display_name": "Python 3.12",
   "language": "python",
   "name": "xai_clustering"
  },
  "language_info": {
   "codemirror_mode": {
    "name": "ipython",
    "version": 3
   },
   "file_extension": ".py",
   "mimetype": "text/x-python",
   "name": "python",
   "nbconvert_exporter": "python",
   "pygments_lexer": "ipython3",
   "version": "3.12.4"
  }
 },
 "nbformat": 4,
 "nbformat_minor": 4
}
