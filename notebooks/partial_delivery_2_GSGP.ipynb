{
 "cells": [
  {
   "cell_type": "markdown",
   "metadata": {},
   "source": [
    "# Partial Delivery II – Genetic Programming (GSGP)\n",
    "\n",
    "In this notebook, we address the problem of predicting **crude protein** weight using the other variables in the dataset `sustavianfeed.xlsx`. This is achieved through **Genetic Semantic Genetic Programming (GSGP)**, using symbolic regression to evolve a mathematical expression that approximates the target variable.\n",
    "\n",
    "The notebook is organized into the following sections:\n",
    "\n",
    "- [1. Imports and Configurations](#1-imports-and-configurations)  \n",
    "- [2. Data Wrangling](#2-data-wrangling)  \n",
    "- [3. Initialization](#3-initialization)  \n",
    "- [4. Hyperparameter Tuning](#4-hyperparameter-tuning)\n",
    "- [5. Model Assessment](#5-model-assessment)\n",
    "- [6. Discussion](#6-discussion)\n"
   ]
  },
  {
   "cell_type": "markdown",
   "metadata": {},
   "source": [
    "## 1. Imports and Configurations\n",
    "- Imports the necessary libraries.\n",
    "- Validates and loads configuration `.json` file."
   ]
  },
  {
   "cell_type": "markdown",
   "metadata": {},
   "source": [
    "### Imports\n",
    "\n",
    "Below the list of imports used for this notebook."
   ]
  },
  {
   "cell_type": "code",
   "execution_count": 16,
   "metadata": {},
   "outputs": [],
   "source": [
    "# Standard Library\n",
    "import datetime\n",
    "import json\n",
    "import os\n",
    "import pickle\n",
    "import random\n",
    "from collections import defaultdict\n",
    "\n",
    "# Data-handling\n",
    "import numpy as np\n",
    "import pandas as pd\n",
    "\n",
    "# Plotting\n",
    "import plotly.graph_objects as go\n",
    "\n",
    "# Validation\n",
    "from sklearn.model_selection import KFold\n",
    "\n",
    "# Tensors\n",
    "import torch\n",
    "\n",
    "# Optimizer\n",
    "from slim_gsgp.main_gsgp import gsgp\n",
    "\n",
    "# Local\n",
    "from nel_utils import json_parser, plotter, imputer, caller\n"
   ]
  },
  {
   "cell_type": "markdown",
   "metadata": {},
   "source": [
    "### Configurations\n",
    "\n",
    "When possible, our pattern of choice is to load our configurations from a `.json` file. This ensures easy reproducibility across all notebooks that make use of configurations, as well as making versioning simpler.\n",
    "\n",
    "Our notebook requires **four types of input arguments**:\n",
    "\n",
    "- **System and visualization parameters:** Control the aesthetics of plots.  \n",
    "- **Solution Space parameters:** Define the problem being solved.  \n",
    "- **Solver parameters:** Specify optimization and algorithmic settings.  \n",
    "- **Model hyperparameters:** Configure model-specific options.\n",
    "- **Logger parameters:** Manages model and solver logging ouputs.  "
   ]
  },
  {
   "cell_type": "code",
   "execution_count": 17,
   "metadata": {},
   "outputs": [],
   "source": [
    "# Configuration File\n",
    "config_path = '../configs/gsgp_config.json'\n",
    "config = json_parser.load_config(\n",
    "    config_path,\n",
    "    algorithm_schema='gsgp'\n",
    ")"
   ]
  },
  {
   "cell_type": "code",
   "execution_count": 18,
   "metadata": {},
   "outputs": [],
   "source": [
    "# Assigning them out to their respective key entries\n",
    "sys_params = config.get('system_params')\n",
    "data_params = config.get('data_params')\n",
    "solver_params = config.get('solver_params')\n",
    "grid_params = config.get('grid_params')\n",
    "log_params = config.get('logging_params')"
   ]
  },
  {
   "cell_type": "code",
   "execution_count": 19,
   "metadata": {},
   "outputs": [],
   "source": [
    "# Ensuring logging\n",
    "\n",
    "if not os.path.exists(log_params['log_path']):\n",
    "    os.makedirs(log_params['log_path'])"
   ]
  },
  {
   "cell_type": "markdown",
   "metadata": {},
   "source": [
    "## 2. Data Wrangling\n",
    "\n",
    "We now ingest, and wrangle the data."
   ]
  },
  {
   "cell_type": "code",
   "execution_count": 20,
   "metadata": {},
   "outputs": [
    {
     "data": {
      "application/vnd.microsoft.datawrangler.viewer.v0+json": {
       "columns": [
        {
         "name": "WING TAG",
         "rawType": "object",
         "type": "string"
        },
        {
         "name": "WEIGHT",
         "rawType": "float64",
         "type": "float"
        },
        {
         "name": "HOT CARCASS WEIGHT",
         "rawType": "float64",
         "type": "float"
        },
        {
         "name": "CARCASS WEIGHT WITH HEAD AND LEGS",
         "rawType": "float64",
         "type": "float"
        },
        {
         "name": "COLD CARCASS WEIGHT",
         "rawType": "float64",
         "type": "float"
        },
        {
         "name": "BREAST WEIGHT (2)",
         "rawType": "float64",
         "type": "float"
        },
        {
         "name": "THIGH WEIGHT (2)",
         "rawType": "float64",
         "type": "float"
        },
        {
         "name": "SPLEEN",
         "rawType": "float64",
         "type": "float"
        },
        {
         "name": "LIVER",
         "rawType": "float64",
         "type": "float"
        },
        {
         "name": "HEART",
         "rawType": "float64",
         "type": "float"
        },
        {
         "name": "INTESTINE",
         "rawType": "float64",
         "type": "float"
        },
        {
         "name": "EMPTY MUSCULAR STOMACH",
         "rawType": "float64",
         "type": "float"
        },
        {
         "name": "GLANDULAR STOMACH",
         "rawType": "float64",
         "type": "float"
        },
        {
         "name": "CRUDE PROTEIN",
         "rawType": "float64",
         "type": "float"
        },
        {
         "name": "ETHER EXTRACT",
         "rawType": "float64",
         "type": "float"
        }
       ],
       "ref": "e7d3ecb4-8399-4904-a396-9ca7129baf08",
       "rows": [
        [
         "G403",
         "2223.3",
         "1429.6",
         "1725.6",
         "1394.0",
         "214.0",
         "489.4",
         "3.716",
         "38.636",
         "9.305",
         "123.171",
         null,
         "13.17",
         "86.10546875",
         "0.38"
        ],
        [
         "G439",
         "2201.9",
         "1450.2",
         "1769.8",
         "1405.4",
         "236.0",
         "538.7",
         "3.494",
         "34.725",
         "10.084",
         "71.8",
         "45.273",
         "9.781",
         "86.14347234814144",
         "1.66"
        ],
        [
         "G454",
         "2159.9",
         "1398.4",
         "1724.9",
         "1461.7",
         "241.8",
         "512.1",
         "4.023",
         "31.932",
         "10.635",
         "61.38",
         null,
         "6.217",
         "86.41689847009737",
         "0.98"
        ],
        [
         "G465",
         "2198.7",
         "1473.9",
         "1800.4",
         "1425.1",
         "227.7",
         "549.9",
         "3.087",
         "32.326",
         "11.927",
         "64.879",
         "35.861",
         "8.358",
         "85.95993515516443",
         "1.1"
        ],
        [
         "G428",
         "2003.2",
         "1291.2",
         "1581.6",
         "1260.1",
         "224.7",
         "473.2",
         "3.723",
         "30.105",
         "9.855",
         "68.562",
         "36.526",
         "7.572",
         "81.69363716424483",
         "6.34"
        ]
       ],
       "shape": {
        "columns": 14,
        "rows": 5
       }
      },
      "text/html": [
       "<div>\n",
       "<style scoped>\n",
       "    .dataframe tbody tr th:only-of-type {\n",
       "        vertical-align: middle;\n",
       "    }\n",
       "\n",
       "    .dataframe tbody tr th {\n",
       "        vertical-align: top;\n",
       "    }\n",
       "\n",
       "    .dataframe thead th {\n",
       "        text-align: right;\n",
       "    }\n",
       "</style>\n",
       "<table border=\"1\" class=\"dataframe\">\n",
       "  <thead>\n",
       "    <tr style=\"text-align: right;\">\n",
       "      <th></th>\n",
       "      <th>WEIGHT</th>\n",
       "      <th>HOT CARCASS WEIGHT</th>\n",
       "      <th>CARCASS WEIGHT WITH HEAD AND LEGS</th>\n",
       "      <th>COLD CARCASS WEIGHT</th>\n",
       "      <th>BREAST WEIGHT (2)</th>\n",
       "      <th>THIGH WEIGHT (2)</th>\n",
       "      <th>SPLEEN</th>\n",
       "      <th>LIVER</th>\n",
       "      <th>HEART</th>\n",
       "      <th>INTESTINE</th>\n",
       "      <th>EMPTY MUSCULAR STOMACH</th>\n",
       "      <th>GLANDULAR STOMACH</th>\n",
       "      <th>CRUDE PROTEIN</th>\n",
       "      <th>ETHER EXTRACT</th>\n",
       "    </tr>\n",
       "    <tr>\n",
       "      <th>WING TAG</th>\n",
       "      <th></th>\n",
       "      <th></th>\n",
       "      <th></th>\n",
       "      <th></th>\n",
       "      <th></th>\n",
       "      <th></th>\n",
       "      <th></th>\n",
       "      <th></th>\n",
       "      <th></th>\n",
       "      <th></th>\n",
       "      <th></th>\n",
       "      <th></th>\n",
       "      <th></th>\n",
       "      <th></th>\n",
       "    </tr>\n",
       "  </thead>\n",
       "  <tbody>\n",
       "    <tr>\n",
       "      <th>G403</th>\n",
       "      <td>2223.3</td>\n",
       "      <td>1429.6</td>\n",
       "      <td>1725.6</td>\n",
       "      <td>1394.0</td>\n",
       "      <td>214.0</td>\n",
       "      <td>489.4</td>\n",
       "      <td>3.716</td>\n",
       "      <td>38.636</td>\n",
       "      <td>9.305</td>\n",
       "      <td>123.171</td>\n",
       "      <td>NaN</td>\n",
       "      <td>13.170</td>\n",
       "      <td>86.105469</td>\n",
       "      <td>0.38</td>\n",
       "    </tr>\n",
       "    <tr>\n",
       "      <th>G439</th>\n",
       "      <td>2201.9</td>\n",
       "      <td>1450.2</td>\n",
       "      <td>1769.8</td>\n",
       "      <td>1405.4</td>\n",
       "      <td>236.0</td>\n",
       "      <td>538.7</td>\n",
       "      <td>3.494</td>\n",
       "      <td>34.725</td>\n",
       "      <td>10.084</td>\n",
       "      <td>71.800</td>\n",
       "      <td>45.273</td>\n",
       "      <td>9.781</td>\n",
       "      <td>86.143472</td>\n",
       "      <td>1.66</td>\n",
       "    </tr>\n",
       "    <tr>\n",
       "      <th>G454</th>\n",
       "      <td>2159.9</td>\n",
       "      <td>1398.4</td>\n",
       "      <td>1724.9</td>\n",
       "      <td>1461.7</td>\n",
       "      <td>241.8</td>\n",
       "      <td>512.1</td>\n",
       "      <td>4.023</td>\n",
       "      <td>31.932</td>\n",
       "      <td>10.635</td>\n",
       "      <td>61.380</td>\n",
       "      <td>NaN</td>\n",
       "      <td>6.217</td>\n",
       "      <td>86.416898</td>\n",
       "      <td>0.98</td>\n",
       "    </tr>\n",
       "    <tr>\n",
       "      <th>G465</th>\n",
       "      <td>2198.7</td>\n",
       "      <td>1473.9</td>\n",
       "      <td>1800.4</td>\n",
       "      <td>1425.1</td>\n",
       "      <td>227.7</td>\n",
       "      <td>549.9</td>\n",
       "      <td>3.087</td>\n",
       "      <td>32.326</td>\n",
       "      <td>11.927</td>\n",
       "      <td>64.879</td>\n",
       "      <td>35.861</td>\n",
       "      <td>8.358</td>\n",
       "      <td>85.959935</td>\n",
       "      <td>1.10</td>\n",
       "    </tr>\n",
       "    <tr>\n",
       "      <th>G428</th>\n",
       "      <td>2003.2</td>\n",
       "      <td>1291.2</td>\n",
       "      <td>1581.6</td>\n",
       "      <td>1260.1</td>\n",
       "      <td>224.7</td>\n",
       "      <td>473.2</td>\n",
       "      <td>3.723</td>\n",
       "      <td>30.105</td>\n",
       "      <td>9.855</td>\n",
       "      <td>68.562</td>\n",
       "      <td>36.526</td>\n",
       "      <td>7.572</td>\n",
       "      <td>81.693637</td>\n",
       "      <td>6.34</td>\n",
       "    </tr>\n",
       "  </tbody>\n",
       "</table>\n",
       "</div>"
      ],
      "text/plain": [
       "          WEIGHT  HOT CARCASS WEIGHT  CARCASS WEIGHT WITH HEAD AND LEGS  \\\n",
       "WING TAG                                                                  \n",
       "G403      2223.3              1429.6                             1725.6   \n",
       "G439      2201.9              1450.2                             1769.8   \n",
       "G454      2159.9              1398.4                             1724.9   \n",
       "G465      2198.7              1473.9                             1800.4   \n",
       "G428      2003.2              1291.2                             1581.6   \n",
       "\n",
       "          COLD CARCASS WEIGHT  BREAST WEIGHT (2)  THIGH WEIGHT (2)  SPLEEN  \\\n",
       "WING TAG                                                                     \n",
       "G403                   1394.0              214.0             489.4   3.716   \n",
       "G439                   1405.4              236.0             538.7   3.494   \n",
       "G454                   1461.7              241.8             512.1   4.023   \n",
       "G465                   1425.1              227.7             549.9   3.087   \n",
       "G428                   1260.1              224.7             473.2   3.723   \n",
       "\n",
       "           LIVER   HEART  INTESTINE  EMPTY MUSCULAR STOMACH  \\\n",
       "WING TAG                                                      \n",
       "G403      38.636   9.305    123.171                     NaN   \n",
       "G439      34.725  10.084     71.800                  45.273   \n",
       "G454      31.932  10.635     61.380                     NaN   \n",
       "G465      32.326  11.927     64.879                  35.861   \n",
       "G428      30.105   9.855     68.562                  36.526   \n",
       "\n",
       "          GLANDULAR STOMACH  CRUDE PROTEIN  ETHER EXTRACT  \n",
       "WING TAG                                                   \n",
       "G403                 13.170      86.105469           0.38  \n",
       "G439                  9.781      86.143472           1.66  \n",
       "G454                  6.217      86.416898           0.98  \n",
       "G465                  8.358      85.959935           1.10  \n",
       "G428                  7.572      81.693637           6.34  "
      ]
     },
     "execution_count": 20,
     "metadata": {},
     "output_type": "execute_result"
    }
   ],
   "source": [
    "csv_file = '../data/sustavianfeed.xlsx' \n",
    "df = pd.read_excel(csv_file, index_col='WING TAG', na_values=\"/\")\n",
    "df.head()"
   ]
  },
  {
   "cell_type": "markdown",
   "metadata": {},
   "source": [
    "And inspect the resulting distributions."
   ]
  },
  {
   "cell_type": "code",
   "execution_count": 21,
   "metadata": {},
   "outputs": [
    {
     "data": {
      "application/vnd.plotly.v1+json": {
       "config": {
        "plotlyServerURL": "https://plot.ly"
       },
       "data": [
        {
         "marker": {
          "color": "black"
         },
         "name": "WEIGHT",
         "opacity": 1,
         "showlegend": false,
         "type": "histogram",
         "x": {
          "bdata": "mpmZmZleoUDNzMzMzDOhQM3MzMzM36BAZmZmZmYtoUDNzMzMzEyfQDMzMzMzVaBAMzMzMzMfoEAzMzMzM5ehQM3MzMzMd6FAzczMzMzMoUAzMzMzM0qgQAAAAAAAFqBAAAAAAAC7oECamZmZmXSgQJqZmZmZwZ5AZmZmZmZKoUAzMzMzM3WhQJqZmZmZrKFAmpmZmZmMoEAzMzMzM+egQAAAAAAAAqFAZmZmZmZWokAzMzMzM2ShQM3MzMzMqaFAZmZmZmaJoEBmZmZmZgiiQGZmZmZmsKBAMzMzMzOMokAzMzMzM1qhQDMzMzMzvqFAAAAAAADCoEAzMzMzM7eiQJqZmZmZpqFAzczMzMxCokDNzMzMzLihQJqZmZmZDaJAzczMzMxtoUAzMzMzM9iiQM3MzMzMTKBAmpmZmZmBokAzMzMzM5+fQAAAAAAApKFAAAAAAAAmoUDNzMzMzDKhQGZmZmZmCKJAzczMzMwUokAzMzMzM7agQGZmZmZml6JAAAAAAADuoUAAAAAAAEKkQGZmZmZmPaFAMzMzMzNho0DNzMzMzGWhQGZmZmZm4aJAmpmZmZl8o0DNzMzMzBikQAAAAAAAG6RAAAAAAAA2pEBmZmZmZiqhQAAAAAAA5KJAmpmZmZn4oUDNzMzMzP+hQJqZmZmZVKRAzczMzMyvo0CamZmZmY2iQGZmZmZm9aFAZmZmZmZIoUAAAAAAALqkQGZmZmZm0p9AMzMzMzPNokDNzMzMzEajQGZmZmZmH6RAAAAAAAB4okAAAAAAALOjQAAAAAAAq6RAAAAAAACVpkCamZmZmcKgQJqZmZmZs6VAMzMzMzPnokCamZmZmXSiQAAAAAAAQ6VAzczMzMySpEAzMzMzM1ejQJqZmZmZEKZAZmZmZmaroUBmZmZmZlKjQGZmZmZmbqRAzczMzMw3o0AzMzMzM22hQDMzMzMzH6VAMzMzMzPho0AzMzMzM5KkQGZmZmZmVKJAZmZmZmawpEAzMzMzM62hQJqZmZmZIKVA",
          "dtype": "f8"
         },
         "xaxis": "x",
         "yaxis": "y"
        },
        {
         "marker": {
          "color": "black"
         },
         "name": "HOT CARCASS WEIGHT",
         "opacity": 1,
         "showlegend": false,
         "type": "histogram",
         "x": {
          "bdata": "ZmZmZmZWlkDNzMzMzKiWQJqZmZmZ2ZVAmpmZmZkHl0DNzMzMzCyUQM3MzMzMOpdAMzMzMzPVlEAzMzMzM1OWQAAAAAAAipZAMzMzMzOhlkAzMzMzMzeVQGZmZmZmWJVAAAAAAABqlEBmZmZmZrKUQAAAAAAA1pRAmpmZmZlFlkBmZmZmZiyWQAAAAAAANpdAMzMzMzP/lUAzMzMzM6mWQAAAAAAAApdAZmZmZmbGl0BmZmZmZtqWQGZmZmZm/pZAmpmZmZnblEBmZmZmZgKXQAAAAAAAqpZAmpmZmZlzmEDNzMzMzPKVQJqZmZmZmZdAMzMzMzNDlUAzMzMzM6OYQM3MzMzMJJdAZmZmZmbWlkDNzMzMzIqWQJqZmZmZdZdAZmZmZmZel0BmZmZmZqqXQJqZmZmZE5RAMzMzMzP3mEAzMzMzM++UQAAAAAAASpdAZmZmZmYslkCamZmZmW2WQDMzMzMze5hAZmZmZmbyl0DNzMzMzHiUQM3MzMzMzpdAMzMzMzNRmEBmZmZmZnSaQM3MzMzM1pVAAAAAAAB6mUDNzMzMzI6WQM3MzMzMlJhAMzMzMzOdmECamZmZmVuZQAAAAAAA2ppAAAAAAADamkBmZmZmZr6VQJqZmZmZkZhAZmZmZmbIlUCamZmZmcGWQAAAAAAA4ppAMzMzMzPPmUAAAAAAAGaYQGZmZmZmwJdAmpmZmZlzlUAzMzMzM0ObQGZmZmZmMJRAmpmZmZlHlkAzMzMzMx+ZQM3MzMzMmpxAAAAAAADql0DNzMzMzDiaQDMzMzMzhZlAmpmZmZklnkBmZmZmZsKVQDMzMzMzQ5xAzczMzMzgmECamZmZmXeXQJqZmZmZ05tAmpmZmZkrm0DNzMzMzOKZQDMzMzMzk51AAAAAAABelkDNzMzMzCiZQDMzMzMzQ5tAMzMzMzNhmEAzMzMzM5+WQM3MzMzMZJxAmpmZmZkrmkDNzMzMzEyaQDMzMzMzL5hAmpmZmZnrmkAAAAAAAGqXQDMzMzMzi5pA",
          "dtype": "f8"
         },
         "xaxis": "x2",
         "yaxis": "y2"
        },
        {
         "marker": {
          "color": "black"
         },
         "name": "CARCASS WEIGHT WITH HEAD AND LEGS",
         "opacity": 1,
         "showlegend": false,
         "type": "histogram",
         "x": {
          "bdata": "ZmZmZmb2mkAzMzMzM6ebQJqZmZmZ85pAmpmZmZkhnEBmZmZmZraYQDMzMzMzP5pAmpmZmZnxmECamZmZmVebQGZmZmZmNJtAMzMzMzNvm0AzMzMzMw+aQJqZmZmZsZlAZmZmZmaQmUAzMzMzM9uZQGZmZmZm+JhAMzMzMzOXm0AzMzMzM9eaQJqZmZmZ1ZtAAAAAAADKmkDNzMzMzDCbQM3MzMzMOptAzczMzMyCnUAAAAAAAOKaQGZmZmZmeptAAAAAAAD4mUCamZmZmTOcQJqZmZmZj5pAMzMzMzOTnUDNzMzMzDCbQJqZmZmZqZxAzczMzMwUmkCamZmZmcOdQM3MzMzMNJtAzczMzMzSm0AzMzMzM0ObQJqZmZmZ8ZxAMzMzMzMlnEBmZmZmZvKcQDMzMzMz/5hAZmZmZmbSnUBmZmZmZraZQJqZmZmZtZxAmpmZmZlHm0BmZmZmZkqbQGZmZmZmJJ1AMzMzMzNjnUDNzMzMzBSaQGZmZmZm8pxAMzMzMzOlnEDNzMzMzL6fQM3MzMzMYJpAzczMzMxWnkDNzMzMzKqaQAAAAAAAVp1AmpmZmZl9nUAzMzMzM2eeQM3MzMzMaJ9AmpmZmZm7n0CamZmZmXmaQGZmZmZmfJ1AZmZmZmYQmkAAAAAAALqbQDMzMzMzCqBAmpmZmZmbnkAzMzMzM5udQGZmZmZmyJxAmpmZmZnpmUBmZmZmZtSfQJqZmZmZSZhAMzMzMzNlm0BmZmZmZsqdQJqZmZmZhaBAAAAAAADenEAAAAAAALyfQGZmZmZmbJ9AmpmZmZmtoUAzMzMzM4GaQDMzMzMz3aBAAAAAAABqnUAAAAAAAIqcQJqZmZmZi6BAmpmZmZnHn0CamZmZmbGeQGZmZmZmZKFAAAAAAAAwm0CamZmZmWGeQJqZmZmZw59AmpmZmZnxnUCamZmZmYGbQGZmZmZmvKBAAAAAAAByn0BmZmZmZsifQAAAAAAAbpxAAAAAAAAEoECamZmZmVecQDMzMzMz259A",
          "dtype": "f8"
         },
         "xaxis": "x3",
         "yaxis": "y3"
        },
        {
         "marker": {
          "color": "black"
         },
         "name": "COLD CARCASS WEIGHT",
         "opacity": 1,
         "showlegend": false,
         "type": "histogram",
         "x": {
          "bdata": "AAAAAADIlUCamZmZmfWVQM3MzMzM1pZAZmZmZmZElkBmZmZmZrCTQM3MzMzMApVAZmZmZmY2lEAAAAAAAJaVQM3MzMzM5pVAzczMzMz+lUDNzMzMzHCUQGZmZmZmvpRAAAAAAABSlEDNzMzMzAaUQAAAAAAAKpZAMzMzMzOLlUDNzMzMzIiVQAAAAAAAjpZAzczMzMxylUDNzMzMzPyVQM3MzMzMcpZAmpmZmZn/lkDNzMzMzESWQM3MzMzMRpZAAAAAAADak0BmZmZmZlaWQJqZmZmZX5RAZmZmZma+l0DNzMzMzFKVQJqZmZmZl5ZAzczMzMyqlECamZmZmfeXQM3MzMzMOpZAzczMzMxIlkAAAAAAANCVQM3MzMzM3JZAAAAAAABClUAAAAAAAAiXQGZmZmZmkpNAZmZmZmY0mEBmZmZmZl6UQAAAAAAA0pZAzczMzMyslUBmZmZmZt6VQAAAAAAA3pdAzczMzMxel0AAAAAAAMiTQAAAAAAAJJdAAAAAAAC+l0AAAAAAAOCZQGZmZmZmXJVAAAAAAADwmEAzMzMzMxeWQGZmZmZm+pdAMzMzMzMdmEAAAAAAAKiYQJqZmZmZU5pAzczMzMw2mkAzMzMzM0uVQAAAAAAA2pdAMzMzMzM3lUAAAAAAADSWQGZmZmZmXppAzczMzMxCmUAzMzMzM+WXQGZmZmZmMpdAAAAAAADwlEBmZmZmZoSaQGZmZmZmypNAMzMzMzOdlUDNzMzMzJaYQJqZmZmZr5tAMzMzMzNfl0AzMzMzM52ZQGZmZmZm/JhAzczMzMyOnUAAAAAAAEiVQAAAAAAAgJtAZmZmZmY6mEDNzMzMzM6WQJqZmZmZYZtAMzMzMzMzmkDNzMzMzEaZQDMzMzMz0ZxAZmZmZmbYlUDNzMzMzJaYQAAAAAAAzJpAZmZmZmaql0DNzMzMzDCWQJqZmZmZoZtAmpmZmZmrmUDNzMzMzJSZQM3MzMzMnJdAMzMzMzMXmkAAAAAAAPCWQGZmZmZm3plA",
          "dtype": "f8"
         },
         "xaxis": "x4",
         "yaxis": "y4"
        },
        {
         "marker": {
          "color": "black"
         },
         "name": "BREAST WEIGHT (2)",
         "opacity": 1,
         "showlegend": false,
         "type": "histogram",
         "x": {
          "bdata": "AAAAAADAakAAAAAAAIBtQJqZmZmZOW5AZmZmZmZ2bEBmZmZmZhZsQGZmZmZmxmxAZmZmZma2aUAAAAAAADBuQM3MzMzMvGxAmpmZmZm5b0BmZmZmZrZsQAAAAAAAgGxAzczMzMzsaUDNzMzMzExqQGZmZmZm5m1AMzMzMzMTbEBmZmZmZtZsQDMzMzMzW3FAmpmZmZmJbEDNzMzMzGxtQGZmZmZmBnBAZmZmZmZGbkAAAAAAAABvQJqZmZmZGW1AMzMzMzPjaECamZmZmYlsQDMzMzMzU21AzczMzMwMb0AAAAAAADBuQJqZmZmZmW1AzczMzMzsakAzMzMzM/NwQM3MzMzMfGxAmpmZmZmpa0DNzMzMzHxrQAAAAAAAgG5AMzMzMzPjakCamZmZmdltQJqZmZmZOWpAmpmZmZn5bkDNzMzMzCxqQGZmZmZmRm5AMzMzMzNjbEBmZmZmZuZtQDMzMzMzy3BAMzMzMzPjbUCamZmZmXloQJqZmZmZqW1AZmZmZmambkBmZmZmZg5wQGZmZmZmRmdAmpmZmZnpaUBmZmZmZoZrQM3MzMzMjGtAMzMzMzOjbUAAAAAAAKBsQJqZmZmZeW5AMzMzMzNjbkAzMzMzMyNmQJqZmZmZWW1AzczMzMxMakAAAAAAAIBnQJqZmZmZwXBAzczMzMxMbkAAAAAAAJBsQM3MzMzMLGxAAAAAAAAAaECamZmZmRlwQJqZmZmZuWdAZmZmZmZ2aEAzMzMzM5NqQAAAAAAA8HFAzczMzMy8a0AAAAAAAGBtQAAAAAAAgG1AZmZmZmY2cUAzMzMzM1NnQM3MzMzMHG9AmpmZmZk5bUCamZmZmZloQGZmZmZmhm5AzczMzMwMbUAAAAAAALBsQJqZmZmZGXFAmpmZmZmpgEDNzMzMzFxsQAAAAAAAsHBAmpmZmZlZbUCamZmZmalpQGZmZmZmNnBAzczMzMyMbECamZmZmblqQAAAAAAAgGxAMzMzMzOjb0AzMzMzM4NqQGZmZmZmtm5A",
          "dtype": "f8"
         },
         "xaxis": "x5",
         "yaxis": "y5"
        },
        {
         "marker": {
          "color": "black"
         },
         "name": "THIGH WEIGHT (2)",
         "opacity": 1,
         "showlegend": false,
         "type": "histogram",
         "x": {
          "bdata": "ZmZmZmaWfkCamZmZmdWAQM3MzMzMAIBAMzMzMzMvgUAzMzMzM5N9QAAAAAAAXIBAzczMzMx8fkAzMzMzM+t/QDMzMzMzq39AAAAAAADMgECamZmZmSl/QDMzMzMzo39AMzMzMzNrfUDNzMzMzPR+QM3MzMzM9H9AzczMzMwkgEBmZmZmZqaAQJqZmZmZYYBAmpmZmZm5f0DNzMzMzFx+QDMzMzMzi4BAmpmZmZkpgUAzMzMzMzuAQAAAAAAACIFAAAAAAACgfkDNzMzMzPSAQGZmZmZmFn5AZmZmZmaugUAzMzMzM3N/QGZmZmZmZoFAZmZmZmbGf0AAAAAAAPCBQAAAAAAAEH9AmpmZmZkdgECamZmZmXGAQDMzMzMzy4FAmpmZmZlBf0CamZmZmU2BQJqZmZmZQX1AZmZmZmbugUBmZmZmZq5+QAAAAAAAqIFAAAAAAAAMgEAAAAAAACiAQDMzMzMzb4FAZmZmZmbagUBmZmZmZvZ+QJqZmZmZmYBAMzMzMzN/gkBmZmZmZuKCQGZmZmZm7n9AmpmZmZnhgkDNzMzMzHSAQDMzMzMzq4FAzczMzMwMgUBmZmZmZhaDQGZmZmZmMoNAzczMzMyMgkCamZmZmVGAQGZmZmZmUoFAAAAAAAB4fkBmZmZmZq6AQAAAAAAANIJAZmZmZmZegUDNzMzMzJiBQDMzMzMzm4FAmpmZmZkhfkAAAAAAABSDQGZmZmZmzntAAAAAAABogEBmZmZmZoKAQGZmZmZm1oNAzczMzMxAgUAAAAAAAASDQDMzMzMzJ4JAzczMzMzIhEAzMzMzM7t/QAAAAAAA6INAZmZmZmbKgEDNzMzMzFiBQM3MzMzMXIJAAAAAAAB8gUCamZmZmbWCQM3MzMzMlIVAmpmZmZk5ZkBmZmZmZv6BQAAAAAAAVIRAzczMzMzIgUDNzMzMzJx/QGZmZmZmooNAzczMzMwwg0AzMzMzMxeDQJqZmZmZgYBAAAAAAAAQg0AzMzMzMyOBQDMzMzMz94JA",
          "dtype": "f8"
         },
         "xaxis": "x6",
         "yaxis": "y6"
        },
        {
         "marker": {
          "color": "black"
         },
         "name": "SPLEEN",
         "opacity": 1,
         "showlegend": false,
         "type": "histogram",
         "x": {
          "bdata": "7nw/NV66DUDByqFFtvMLQGQ730+NFxBAGQRWDi2yCEBiEFg5tMgNQCcxCKwcWg5A9ihcj8L1DUC8dJMYBFYEQJMYBFYOLRFAhxbZzvfTEUDRItv5fmoNQNV46SYxCA5AKVyPwvUoF0BYObTIdr4KQH0/NV66SQVA1XjpJjEIH0BmZmZmZmYQQG3n+6nxUhZABFYOLbKdEUDn+6nx0s0SQOxRuB6F6wZAzczMzMzMDUAQWDm0yHYRQF66SQwCKxFAlkOLbOf7CUAIrBxaZLsTQOkmMQisnBFA+n5qvHQTEECsHFpkO98SQHWTGARWDhBAyXa+nxovE0BxPQrXo3AUQAisHFpkuxFAg8DKoUW2A0C28/3UeOkSQG8Sg8DKoQ5AmG4Sg8BKEEBEi2zn+6kaQH9qvHSTGApAWmQ730+NFUD+1HjpJjEFQBfZzvdT4xJA8tJNYhDYFkAbL90kBoEIQCuHFtnO9wtA4XoUrkfhC0Bcj8L1KFwUQDVeukkMghFA4XoUrkfhDkDfT42XbpITQF66SQwCqxFAoBov3SQGDUCPwvUoXI8MQIcW2c73UxJAx0s3iUFgDEACK4cW2c4IQPyp8dJN4hFAjZduEoPAEkC8dJMYBFYHQNejcD0K1xdAO99PjZduCkD2KFyPwvUPQKrx0k1iEApAYOXQItv5B0DByqFFtnMUQB1aZDvfTw1Ay6FFtvP9CEACK4cW2c4XQCcxCKwcWg5AlkOLbOf7DkDn+6nx0k0NQGIQWDm0yBNAc2iR7Xy/EEA730+Nl+4SQHnpJjEILBhAtMh2vp8aDUDufD81XjoSQKwcWmQ73xNAhetRuB6FE0AOLbKd76cPQClcj8L1qBVAc2iR7Xw/C0DVeOkmMQgQQFyPwvUoXBpAzczMzMzMCUCuR+F6FC4RQDvfT42XbhRAI9v5fmq8B0B56SYxCKwHQIGVQ4ts5xNAf2q8dJOYE0DP91PjpRsTQPyp8dJNYg1ATmIQWDm0FEBvEoPAyqEGQNejcD0K1xdA",
          "dtype": "f8"
         },
         "xaxis": "x7",
         "yaxis": "y7"
        },
        {
         "marker": {
          "color": "black"
         },
         "name": "LIVER",
         "opacity": 1,
         "showlegend": false,
         "type": "histogram",
         "x": {
          "bdata": "xSCwcmhRQ0DNzMzMzFxBQDvfT42X7j9AfT81XropQEB7FK5H4Ro+QNEi2/l+6jlAYhBYObQYQEB9PzVeuqlAQLByaJHtfEFAgZVDi2xnQkAj2/l+avw9QBsv3SQG8UFAd76fGi/NSECNl24Sg8BAQLpJDAIrB0JADi2yne9XQkAhsHJokd1AQDm0yHa+nz9AoBov3SQ2QUDXo3A9CjdAQDm0yHa+3z5AF9nO91NjP0DByqFFttM6QJzEILByqEBA5dAi2/kuQ0CPwvUoXC9GQM3MzMzMrEFAObTIdr4PQECoxks3iTFBQGq8dJMYBD1AsHJoke08PUCcxCCwcihAQJhuEoPAekFASgwCK4d2QUA730+Nl/5BQA4tsp3v10BA1XjpJjFIQUCF61G4HuVCQKAaL90kZkJA2/l+arwkQUCHFtnO93NCQHe+nxov3T5AhetRuB6FPUC0yHa+n5pAQI2XbhKDgEVAF9nO91NjPkD8qfHSTSJDQPT91Hjp1kJALbKd76cGQEBSuB6F63FFQNEi2/l+CkFA/tR46SYBQkBxPQrXo6BBQOxRuB6Fi0RArkfhehRuRECLbOf7qaFFQPYoXI/CFUNARrbz/dSIRUAK16NwPfpEQLx0kxgEdkRA001iEFjJQEAxCKwcWtREQOxRuB6FK0RAO99PjZdeQUDpJjEIrOxBQNV46SYxKD1A1XjpJjHYRUDjpZvEIABGQH9qvHSTOEBAGy/dJAaRSkD8qfHSTeJDQIlBYOXQckFAbxKDwMrRR0Dn+6nx0p1DQPhT46WblElAw/UoXI9iQ0AlBoGVQ0tAQO58PzVeWkZA8tJNYhBIQkCNl24Sg0BFQOxRuB6Fe0JAO99PjZcuQkAnMQisHJpEQOxRuB6Fe0JAJzEIrBy6RUB3vp8aL21DQIXrUbgeFUJATmIQWDmEREBiEFg5tOg+QL6fGi/dVEFArkfhehQuREDl0CLb+f5GQOxRuB6Fi0FAcT0K16NASUBqvHSTGEQ+QLx0kxgEdkRA",
          "dtype": "f8"
         },
         "xaxis": "x8",
         "yaxis": "y8"
        },
        {
         "marker": {
          "color": "black"
         },
         "name": "HEART",
         "opacity": 1,
         "showlegend": false,
         "type": "histogram",
         "x": {
          "bdata": "XI/C9SicIkBeukkMAiskQIXrUbgeRSVAtMh2vp/aJ0D2KFyPwrUjQAwCK4cWmS1AnMQgsHLoJUDy0k1iEBgnQDvfT42X7iRAJzEIrByaI0BI4XoUrochQGZmZmZmZixAy6FFtvO9JUDpJjEIrNwmQG8Sg8DKISJAYhBYObTIKkDByqFFtjMlQPyp8dJNYihAz/dT46XbJkCPwvUoXE8qQJqZmZmZGSRAAAAAAAAAJECLbOf7qfEpQBSuR+F6FCZA0SLb+X4qJEBg5dAi2zkrQGZmZmZmJiZAMzMzMzMzLECamZmZmZkkQMUgsHJokSZAg8DKoUW2IkAUrkfhepQqQCcxCKwcGiNATDeJQWAlJ0BOYhBYOfQnQLKd76fGCyhAsp3vp8bLJUBOYhBYOTQsQOXQItv5/iJAhetRuB7FLEDD9Shcj0IkQNejcD0KlytApHA9CtejJ0DJdr6fGi8tQMUgsHJoESVAKVyPwvXoKkDl0CLb+X4kQFyPwvUoHCpAwcqhRbbzJkA1XrpJDEIsQAIrhxbZzitAg8DKoUV2KkD0/dR46eYiQDeJQWDlECdAaJHtfD+1LEB/arx0k9gjQG3n+6nxUiVAvp8aL93kKkDP91PjpdskQHE9CtejMDBA/tR46SbxLECamZmZmRkpQOxRuB6Fqy5ATmIQWDm0JUCgGi/dJAYnQAAAAAAAQClASgwCK4dWLkAbL90kBoEmQFpkO99PDSRArBxaZDsfIUDb+X5qvDQoQGiR7Xw/FTFALbKd76fGKUACK4cW2Y4oQBfZzvdTIydAuB6F61G4KECYbhKDwAooQB+F61G4XixAvp8aL91kJUDTTWIQWLkkQNv5fmq8NCdAQmDl0CIbLEBMN4lBYOUqQEjhehSuhyxAbxKDwMohKkAdWmQ7348pQMP1KFyPgidAGQRWDi0yJkAxCKwcWqQhQLgehetR+CtA/tR46SYxLEBkO99PjZcpQDVeukkMAidAi2zn+6kxMUA1XrpJDEImQHE9CtejMDBA",
          "dtype": "f8"
         },
         "xaxis": "x9",
         "yaxis": "y9"
        },
        {
         "marker": {
          "color": "black"
         },
         "name": "INTESTINE",
         "opacity": 1,
         "showlegend": false,
         "type": "histogram",
         "x": {
          "bdata": "bef7qfHKXkAzMzMzM/NRQHE9CtejsE5Ax0s3iUE4UECHFtnO9yNRQMUgsHJoAU1AtvP91HgJUkAfhetRuCZSQPhT46WbhFRAarx0kxjcVUC28/3UeAlLQNnO91PjVUxAbxKDwMoZWkAj2/l+auxOQCUGgZVDK09AYhBYObQQU0BKDAIrhx5RQB+F61G4XlBApHA9CtfTTEBvEoPAyjlQQIcW2c73q1BAHVpkO98vUEAX2c73UwNSQKAaL90kPlBAsp3vp8ZbUkCWQ4ts52tTQN0kBoGVG1BAmG4Sg8CKUEBiEFg5tEhJQDMzMzMzk0pAokW28/1kT0BU46WbxBBMQMuhRbbzHVJAgZVDi2x/VUDJdr6fGtdTQGiR7Xw/zVBAGy/dJAY5UECWQ4ts5ytRQGZmZmZmblFAXI/C9Si8TEBKDAIrh2ZXQJHtfD81bkpAZDvfT403TkBaZDvfT3VQQIPAyqFFtk9Ax0s3iUGoUED6fmq8dANRQFTjpZvEIFJAZDvfT43XSkCwcmiR7YxVQIts5/upoVFABFYOLbIVUUCe76fGS0dPQH0/NV66uU5ASgwCK4cGVEDP91PjpStTQM3MzMzMDFBA001iEFhhVEAdWmQ73+9SQCcxCKwcMlJAGy/dJAYRRkDXo3A9Cv9QQPCnxks3WU5AmpmZmZlZUUCHFtnO96NOQGZmZmZmBklA6SYxCKwsTEAnMQisHBJTQFyPwvUoPE5A8tJNYhC4U0AAAAAAAEBRQBsv3SQGIVFA4XoUrkdxVUBqvHSTGCRPQHe+nxovNVZAkxgEVg49VEAK16NwPfpHQC/dJAaBPVRAlkOLbOebUEAUrkfhehRRQO58PzVeilNA001iEFiRU0CPwvUoXI9OQNNNYhBYoVFAiUFg5dCSVEDVeOkmMeBQQIPAyqFFtlFAI9v5fmrsUEDjpZvEICBPQFyPwvUopFBAy6FFtvP9UEBGtvP91LhSQIXrUbgeHVFA46WbxCBgVEDFILByaIFKQCcxCKwcMlJA",
          "dtype": "f8"
         },
         "xaxis": "x10",
         "yaxis": "y10"
        },
        {
         "marker": {
          "color": "black"
         },
         "name": "EMPTY MUSCULAR STOMACH",
         "opacity": 1,
         "showlegend": false,
         "type": "histogram",
         "x": {
          "bdata": "bef7qfGiRkCR7Xw/Ne5BQBfZzvdTQ0JAyXa+nxp/REC28/3UeHlEQNNNYhBYqUZAz/dT46ULRUBt5/up8ZJIQJ7vp8ZLZ0dA7nw/NV4aP0Ce76fGS4dIQHNoke18z0NAqvHSTWKQRUCuR+F6FL5KQF66SQwCa0NAdZMYBFY+RkCF61G4HtVHQFTjpZvEAElAKVyPwvXYRUC8dJMYBMZNQLpJDAIrp05AYOXQItvZTkDy0k1iEAhOQBBYObTItkZA7nw/NV66SkBeukkMAstFQG3n+6nx0khADAIrhxbJT0Bt5/up8cJHQK5H4XoU7k9A30+Nl24iUECTGARWDm1FQKwcWmQ7D0lAhetRuB5VQECiRbbz/ZRBQIcW2c73U0dAPQrXo3BtRkBCYOXQIntGQLByaJHt7ElAN4lBYOXARkDFILByaBFJQAwCK4cW6UVAgZVDi2ynUECDwMqhRbY9QCuHFtnOd0RA/Knx0k1CSkBOYhBYObRBQEa28/3U+ElA5/up8dK9REA9CtejcB1MQL6fGi/d1EtAFK5H4XpURUCPwvUoXA9AQAisHFpk+0VADAIrhxbxUkBg5dAi26lGQI2XbhKDEEVACKwcWmT7R0ArhxbZzmdGQOkmMQisTEBA8KfGSzd5QECkcD0K1xNDQP7UeOkmAUhAI9v5fmosTEC0yHa+n8pNQPCnxks3qUlAtMh2vp9aTUBMN4lBYPVEQGZmZmZmNkRA3SQGgZXzSUDTTWIQWFlMQJqZmZmZWURADAIrhxapRkDZzvdT49VLQEoMAiuHJlFAVOOlm8QARkB7FK5H4VpLQMUgsHJo0UZAf2q8dJNYQUCBlUOLbHdIQPYoXI/ChUZAw/UoXI8CSEA3iUFg5VBFQAIrhxbZrkZA0SLb+X46SkCHFtnO96NIQKabxCCwAktAoBov3SQWRUCamZmZmdlIQJzEILByaEdADAIrhxbxUkA=",
          "dtype": "f8"
         },
         "xaxis": "x11",
         "yaxis": "y11"
        },
        {
         "marker": {
          "color": "black"
         },
         "name": "GLANDULAR STOMACH",
         "opacity": 1,
         "showlegend": false,
         "type": "histogram",
         "x": {
          "bdata": "16NwPQpXKkAdWmQ7348jQJHtfD813hhAnu+nxku3IEB9PzVeukkeQB+F61G43iBAqMZLN4nBGkAhsHJokS0hQHnpJjEIrCdASgwCK4dWJkAfhetRuJ4eQP7UeOkmsRlAJQaBlUNLI0Boke18P7UcQCGwcmiRrSRA2/l+arz0HEBaZDvfT40YQG3n+6nxUiNA30+Nl24SHkCe76fGS7clQPT91Hjp5iBAqvHSTWJQIEDRItv5fmohQP7UeOkmMRtAtvP91HhpGUDl0CLb+f4kQL6fGi/dJCBANV66SQyCKED2KFyPwrUgQHsUrkfh+hpAsp3vp8bLGkDfT42XbhIaQBBYObTIdiFA9ihcj8J1JkBcj8L1KNweQLpJDAIrhx9A6SYxCKwcKkAdWmQ7388kQAAAAAAAAB9A8tJNYhBYIkAzMzMzMzMgQBsv3SQGAR5Ag8DKoUW2IkB7FK5H4foeQAIrhxbZzh9AZDvfT42XIUAZBFYOLTIlQLByaJHtPCRAVOOlm8QgH0BCYOXQIlseQIcW2c73UyFA0SLb+X5qGkBzaJHtfD8ZQHNoke18PxpApHA9CtcjJ0ArhxbZzvcbQMuhRbbz/RxAy6FFtvO9KEDjpZvEILAcQK5H4XoUrh1A4XoUrkdhHECDwMqhRbYgQHWTGARWDh1A6SYxCKycH0DD9Shcj8IYQLByaJHt/BVASgwCK4eWGEC+nxov3SQbQESLbOf7KRpAxSCwcmgRHEAAAAAAAAAcQKabxCCwsiNASOF6FK7HHEB9PzVeuokgQCUGgZVDCxlAmpmZmZkZI0BSuB6F61EWQBfZzvdTYxxAwcqhRbbzHUAtsp3vp4YiQCuHFtnONyBABoGVQ4usIUDD9Shcj8IbQPYoXI/CNSBACtejcD2KHkCuR+F6FO4hQB+F61G4niJA7nw/NV66HUB9PzVeukkZQC2yne+nBiBACKwcWmS7IkAhsHJokW0fQAwCK4cWWR9AhxbZzvdTHUAzMzMzM7MVQK5H4XoUrh1A",
          "dtype": "f8"
         },
         "xaxis": "x12",
         "yaxis": "y12"
        },
        {
         "marker": {
          "color": "black"
         },
         "name": "CRUDE PROTEIN",
         "opacity": 1,
         "showlegend": false,
         "type": "histogram",
         "x": {
          "bdata": "AAAAAMCGVUB2yaSmLolVQIW063aumlVAkG3ck299VUAx7iGNZGxUQEb0bL8d4lVAcUCZuNK1VUD+NtePyw9WQKQrHWuN4lVAzCoNBFAMVkCanggGUfJVQP3Ta1HFj1VA0zGXCE+KVUAMvdALvaBVQNbR5n2KtVVAxKzkaK8/VUDOk2HzZJhVQEO9a86nIFZAPY2w3NNAVUB9u2iOnn5VQPz9T97WPVZAfIMKKQwwVUAZ9AV9QcdVQHqzED8B0VVA0NvHm59gVUCMgRLeaMpVQPTtHXqTNVVAyh+Y/IG5VUBC9Zm2xt5VQNcNpshnDVZAvr29vb3dVEB0uVwul5VVQFqgo2yVpVVASTpUSWX5VUDDOjSgHCRWQGlORIPN2lVA+eCDD37+VUAXZc7gJStVQNc/BmyUdVJAoLrUMFJ8VUANUOBBi6NVQDiYIp916VVAdQfAUF/mVUDOmYgtD4tVQPslv8mlFlZA9Tuyy+jQVUDte0ROEK5VQCGCY5dGUVVA2NwBkI3wVUDTRRdddPlVQNXWUWjSClZAAgAAAAAcVkBEhQoVKshVQPJ/YfQT5lVAZeJK9wb8VUDORASS86RVQDseR1E411VAcSE3eDslVkD6yEc+8mFWQMhxHMdxyVVALj03TeL9VUCBxTsyefNVQB4ERhnjglVAkm8NWDMuVkCEu7HvERlWQLb3Oj+dQFZAb+qk1tJBVUDIUBcj1dFVQDgvzuSD41VAHFeM/tLcVUA/iCauKRVWQLAZLJT5RFZAAJMvxJW3VUCVUkoppVxWQI5h7wH3JlZAG9uqsa3qVUBsq8a2auxVQMYsR36uQFZAPCxa1fdnVkAYBlK9Gl9WQAWanCf+PlZAjPmn8I4bVkCv5eBmvyhWQH1zRfJkj1ZAzkQEkvOkVUCLd6zXD9xVQD2xEzsxOlZACkqAD3IuVkCoULxZ5TVWQJze9KY3NVZAFo9ZgYr0VUBRfaat8T9WQMiXMmZ3IFZArC1ynQmYVkCLcEvNhs1WQDeDt4jNNFZA",
          "dtype": "f8"
         },
         "xaxis": "x13",
         "yaxis": "y13"
        },
        {
         "marker": {
          "color": "black"
         },
         "name": "ETHER EXTRACT",
         "opacity": 1,
         "showlegend": false,
         "type": "histogram",
         "x": {
          "bdata": "UrgehetR2D+PwvUoXI/6P1yPwvUoXO8/mpmZmZmZ8T9cj8L1KFwZQOF6FK5H4f4/rkfhehSuCUAzMzMzMzPrP7gehetRuO4/MzMzMzMz9z+PwvUoXI8AQOxRuB6F6+k/zczMzMzMAkCkcD0K16MIQFyPwvUoXPs/16NwPQrXC0BSuB6F61EGQD0K16NwPQJA7FG4HoXrFkD2KFyPwvUIQFK4HoXrUfA/PQrXo3A9EUCuR+F6FK4HQMP1KFyPwu0/rkfhehSuEEDD9Shcj8L1P8P1KFyPwg1A4XoUrkfhAEAAAAAAAAD0P+xRuB6F6/k/uB6F61G4GkAfhetRuB4PQLgehetRuPI/mpmZmZmZAUCPwvUoXI/2P3sUrkfhevw/ZmZmZmZmAED2KFyPwvUWQBSuR+F6FA5AuB6F61G4DEApXI/C9SgQQIXrUbgehQNAKVyPwvUoAkAK16NwPQoPQD0K16NwPeo/H4XrUbge/T8UrkfhehTyPz0K16NwPRVAuB6F61G47j9mZmZmZmbyP8P1KFyPwu0/H4XrUbge7T+4HoXrUbjyP7gehetRuABAmpmZmZmZ/T/2KFyPwvUGQFK4HoXrUfA/pHA9Ctej+D+kcD0K16PoP7gehetRuPo/FK5H4XoU7j97FK5H4Xr8P9ejcD0K1xJA9ihcj8L16D8K16NwPQr7Pz0K16NwPfo/4XoUrkfhBkB7FK5H4XoCQArXo3A9CvM/SOF6FK5HB0C4HoXrUbjyP65H4XoUru8/zczMzMzM9D/D9Shcj8LlPzMzMzMzM/s/PQrXo3A9/j+F61G4HoX/P1yPwvUoXPs/7FG4HoXr/T89CtejcD3iP1yPwvUoXPs/ZmZmZmZm8j9I4XoUrkf5P3sUrkfhetQ/16NwPQrXD0AK16NwPQr/PzMzMzMzM+M/mpmZmZmZ+T/NzMzMzMz8P7gehetRuN4/H4XrUbgeA0AfhetRuB7xPxSuR+F6FPI/j8L1KFyP/j+uR+F6FK4BQClcj8L1KPg/",
          "dtype": "f8"
         },
         "xaxis": "x14",
         "yaxis": "y14"
        }
       ],
       "layout": {
        "annotations": [
         {
          "font": {
           "size": 16
          },
          "showarrow": false,
          "text": "WEIGHT",
          "x": 0.14444444444444446,
          "xanchor": "center",
          "xref": "paper",
          "y": 1,
          "yanchor": "bottom",
          "yref": "paper"
         },
         {
          "font": {
           "size": 16
          },
          "showarrow": false,
          "text": "HOT CARCASS WEIGHT",
          "x": 0.5,
          "xanchor": "center",
          "xref": "paper",
          "y": 1,
          "yanchor": "bottom",
          "yref": "paper"
         },
         {
          "font": {
           "size": 16
          },
          "showarrow": false,
          "text": "CARCASS WEIGHT WITH HEAD AND LEGS",
          "x": 0.8555555555555556,
          "xanchor": "center",
          "xref": "paper",
          "y": 1,
          "yanchor": "bottom",
          "yref": "paper"
         },
         {
          "font": {
           "size": 16
          },
          "showarrow": false,
          "text": "COLD CARCASS WEIGHT",
          "x": 0.14444444444444446,
          "xanchor": "center",
          "xref": "paper",
          "y": 0.78,
          "yanchor": "bottom",
          "yref": "paper"
         },
         {
          "font": {
           "size": 16
          },
          "showarrow": false,
          "text": "BREAST WEIGHT (2)",
          "x": 0.5,
          "xanchor": "center",
          "xref": "paper",
          "y": 0.78,
          "yanchor": "bottom",
          "yref": "paper"
         },
         {
          "font": {
           "size": 16
          },
          "showarrow": false,
          "text": "THIGH WEIGHT (2)",
          "x": 0.8555555555555556,
          "xanchor": "center",
          "xref": "paper",
          "y": 0.78,
          "yanchor": "bottom",
          "yref": "paper"
         },
         {
          "font": {
           "size": 16
          },
          "showarrow": false,
          "text": "SPLEEN",
          "x": 0.14444444444444446,
          "xanchor": "center",
          "xref": "paper",
          "y": 0.56,
          "yanchor": "bottom",
          "yref": "paper"
         },
         {
          "font": {
           "size": 16
          },
          "showarrow": false,
          "text": "LIVER",
          "x": 0.5,
          "xanchor": "center",
          "xref": "paper",
          "y": 0.56,
          "yanchor": "bottom",
          "yref": "paper"
         },
         {
          "font": {
           "size": 16
          },
          "showarrow": false,
          "text": "HEART",
          "x": 0.8555555555555556,
          "xanchor": "center",
          "xref": "paper",
          "y": 0.56,
          "yanchor": "bottom",
          "yref": "paper"
         },
         {
          "font": {
           "size": 16
          },
          "showarrow": false,
          "text": "INTESTINE",
          "x": 0.14444444444444446,
          "xanchor": "center",
          "xref": "paper",
          "y": 0.33999999999999997,
          "yanchor": "bottom",
          "yref": "paper"
         },
         {
          "font": {
           "size": 16
          },
          "showarrow": false,
          "text": "EMPTY MUSCULAR STOMACH",
          "x": 0.5,
          "xanchor": "center",
          "xref": "paper",
          "y": 0.33999999999999997,
          "yanchor": "bottom",
          "yref": "paper"
         },
         {
          "font": {
           "size": 16
          },
          "showarrow": false,
          "text": "GLANDULAR STOMACH",
          "x": 0.8555555555555556,
          "xanchor": "center",
          "xref": "paper",
          "y": 0.33999999999999997,
          "yanchor": "bottom",
          "yref": "paper"
         },
         {
          "font": {
           "size": 16
          },
          "showarrow": false,
          "text": "CRUDE PROTEIN",
          "x": 0.14444444444444446,
          "xanchor": "center",
          "xref": "paper",
          "y": 0.12,
          "yanchor": "bottom",
          "yref": "paper"
         },
         {
          "font": {
           "size": 16
          },
          "showarrow": false,
          "text": "ETHER EXTRACT",
          "x": 0.5,
          "xanchor": "center",
          "xref": "paper",
          "y": 0.12,
          "yanchor": "bottom",
          "yref": "paper"
         }
        ],
        "bargap": 0.2,
        "height": 1500,
        "template": {
         "data": {
          "bar": [
           {
            "error_x": {
             "color": "#2a3f5f"
            },
            "error_y": {
             "color": "#2a3f5f"
            },
            "marker": {
             "line": {
              "color": "#E5ECF6",
              "width": 0.5
             },
             "pattern": {
              "fillmode": "overlay",
              "size": 10,
              "solidity": 0.2
             }
            },
            "type": "bar"
           }
          ],
          "barpolar": [
           {
            "marker": {
             "line": {
              "color": "#E5ECF6",
              "width": 0.5
             },
             "pattern": {
              "fillmode": "overlay",
              "size": 10,
              "solidity": 0.2
             }
            },
            "type": "barpolar"
           }
          ],
          "carpet": [
           {
            "aaxis": {
             "endlinecolor": "#2a3f5f",
             "gridcolor": "white",
             "linecolor": "white",
             "minorgridcolor": "white",
             "startlinecolor": "#2a3f5f"
            },
            "baxis": {
             "endlinecolor": "#2a3f5f",
             "gridcolor": "white",
             "linecolor": "white",
             "minorgridcolor": "white",
             "startlinecolor": "#2a3f5f"
            },
            "type": "carpet"
           }
          ],
          "choropleth": [
           {
            "colorbar": {
             "outlinewidth": 0,
             "ticks": ""
            },
            "type": "choropleth"
           }
          ],
          "contour": [
           {
            "colorbar": {
             "outlinewidth": 0,
             "ticks": ""
            },
            "colorscale": [
             [
              0,
              "#0d0887"
             ],
             [
              0.1111111111111111,
              "#46039f"
             ],
             [
              0.2222222222222222,
              "#7201a8"
             ],
             [
              0.3333333333333333,
              "#9c179e"
             ],
             [
              0.4444444444444444,
              "#bd3786"
             ],
             [
              0.5555555555555556,
              "#d8576b"
             ],
             [
              0.6666666666666666,
              "#ed7953"
             ],
             [
              0.7777777777777778,
              "#fb9f3a"
             ],
             [
              0.8888888888888888,
              "#fdca26"
             ],
             [
              1,
              "#f0f921"
             ]
            ],
            "type": "contour"
           }
          ],
          "contourcarpet": [
           {
            "colorbar": {
             "outlinewidth": 0,
             "ticks": ""
            },
            "type": "contourcarpet"
           }
          ],
          "heatmap": [
           {
            "colorbar": {
             "outlinewidth": 0,
             "ticks": ""
            },
            "colorscale": [
             [
              0,
              "#0d0887"
             ],
             [
              0.1111111111111111,
              "#46039f"
             ],
             [
              0.2222222222222222,
              "#7201a8"
             ],
             [
              0.3333333333333333,
              "#9c179e"
             ],
             [
              0.4444444444444444,
              "#bd3786"
             ],
             [
              0.5555555555555556,
              "#d8576b"
             ],
             [
              0.6666666666666666,
              "#ed7953"
             ],
             [
              0.7777777777777778,
              "#fb9f3a"
             ],
             [
              0.8888888888888888,
              "#fdca26"
             ],
             [
              1,
              "#f0f921"
             ]
            ],
            "type": "heatmap"
           }
          ],
          "histogram": [
           {
            "marker": {
             "pattern": {
              "fillmode": "overlay",
              "size": 10,
              "solidity": 0.2
             }
            },
            "type": "histogram"
           }
          ],
          "histogram2d": [
           {
            "colorbar": {
             "outlinewidth": 0,
             "ticks": ""
            },
            "colorscale": [
             [
              0,
              "#0d0887"
             ],
             [
              0.1111111111111111,
              "#46039f"
             ],
             [
              0.2222222222222222,
              "#7201a8"
             ],
             [
              0.3333333333333333,
              "#9c179e"
             ],
             [
              0.4444444444444444,
              "#bd3786"
             ],
             [
              0.5555555555555556,
              "#d8576b"
             ],
             [
              0.6666666666666666,
              "#ed7953"
             ],
             [
              0.7777777777777778,
              "#fb9f3a"
             ],
             [
              0.8888888888888888,
              "#fdca26"
             ],
             [
              1,
              "#f0f921"
             ]
            ],
            "type": "histogram2d"
           }
          ],
          "histogram2dcontour": [
           {
            "colorbar": {
             "outlinewidth": 0,
             "ticks": ""
            },
            "colorscale": [
             [
              0,
              "#0d0887"
             ],
             [
              0.1111111111111111,
              "#46039f"
             ],
             [
              0.2222222222222222,
              "#7201a8"
             ],
             [
              0.3333333333333333,
              "#9c179e"
             ],
             [
              0.4444444444444444,
              "#bd3786"
             ],
             [
              0.5555555555555556,
              "#d8576b"
             ],
             [
              0.6666666666666666,
              "#ed7953"
             ],
             [
              0.7777777777777778,
              "#fb9f3a"
             ],
             [
              0.8888888888888888,
              "#fdca26"
             ],
             [
              1,
              "#f0f921"
             ]
            ],
            "type": "histogram2dcontour"
           }
          ],
          "mesh3d": [
           {
            "colorbar": {
             "outlinewidth": 0,
             "ticks": ""
            },
            "type": "mesh3d"
           }
          ],
          "parcoords": [
           {
            "line": {
             "colorbar": {
              "outlinewidth": 0,
              "ticks": ""
             }
            },
            "type": "parcoords"
           }
          ],
          "pie": [
           {
            "automargin": true,
            "type": "pie"
           }
          ],
          "scatter": [
           {
            "fillpattern": {
             "fillmode": "overlay",
             "size": 10,
             "solidity": 0.2
            },
            "type": "scatter"
           }
          ],
          "scatter3d": [
           {
            "line": {
             "colorbar": {
              "outlinewidth": 0,
              "ticks": ""
             }
            },
            "marker": {
             "colorbar": {
              "outlinewidth": 0,
              "ticks": ""
             }
            },
            "type": "scatter3d"
           }
          ],
          "scattercarpet": [
           {
            "marker": {
             "colorbar": {
              "outlinewidth": 0,
              "ticks": ""
             }
            },
            "type": "scattercarpet"
           }
          ],
          "scattergeo": [
           {
            "marker": {
             "colorbar": {
              "outlinewidth": 0,
              "ticks": ""
             }
            },
            "type": "scattergeo"
           }
          ],
          "scattergl": [
           {
            "marker": {
             "colorbar": {
              "outlinewidth": 0,
              "ticks": ""
             }
            },
            "type": "scattergl"
           }
          ],
          "scattermap": [
           {
            "marker": {
             "colorbar": {
              "outlinewidth": 0,
              "ticks": ""
             }
            },
            "type": "scattermap"
           }
          ],
          "scattermapbox": [
           {
            "marker": {
             "colorbar": {
              "outlinewidth": 0,
              "ticks": ""
             }
            },
            "type": "scattermapbox"
           }
          ],
          "scatterpolar": [
           {
            "marker": {
             "colorbar": {
              "outlinewidth": 0,
              "ticks": ""
             }
            },
            "type": "scatterpolar"
           }
          ],
          "scatterpolargl": [
           {
            "marker": {
             "colorbar": {
              "outlinewidth": 0,
              "ticks": ""
             }
            },
            "type": "scatterpolargl"
           }
          ],
          "scatterternary": [
           {
            "marker": {
             "colorbar": {
              "outlinewidth": 0,
              "ticks": ""
             }
            },
            "type": "scatterternary"
           }
          ],
          "surface": [
           {
            "colorbar": {
             "outlinewidth": 0,
             "ticks": ""
            },
            "colorscale": [
             [
              0,
              "#0d0887"
             ],
             [
              0.1111111111111111,
              "#46039f"
             ],
             [
              0.2222222222222222,
              "#7201a8"
             ],
             [
              0.3333333333333333,
              "#9c179e"
             ],
             [
              0.4444444444444444,
              "#bd3786"
             ],
             [
              0.5555555555555556,
              "#d8576b"
             ],
             [
              0.6666666666666666,
              "#ed7953"
             ],
             [
              0.7777777777777778,
              "#fb9f3a"
             ],
             [
              0.8888888888888888,
              "#fdca26"
             ],
             [
              1,
              "#f0f921"
             ]
            ],
            "type": "surface"
           }
          ],
          "table": [
           {
            "cells": {
             "fill": {
              "color": "#EBF0F8"
             },
             "line": {
              "color": "white"
             }
            },
            "header": {
             "fill": {
              "color": "#C8D4E3"
             },
             "line": {
              "color": "white"
             }
            },
            "type": "table"
           }
          ]
         },
         "layout": {
          "annotationdefaults": {
           "arrowcolor": "#2a3f5f",
           "arrowhead": 0,
           "arrowwidth": 1
          },
          "autotypenumbers": "strict",
          "coloraxis": {
           "colorbar": {
            "outlinewidth": 0,
            "ticks": ""
           }
          },
          "colorscale": {
           "diverging": [
            [
             0,
             "#8e0152"
            ],
            [
             0.1,
             "#c51b7d"
            ],
            [
             0.2,
             "#de77ae"
            ],
            [
             0.3,
             "#f1b6da"
            ],
            [
             0.4,
             "#fde0ef"
            ],
            [
             0.5,
             "#f7f7f7"
            ],
            [
             0.6,
             "#e6f5d0"
            ],
            [
             0.7,
             "#b8e186"
            ],
            [
             0.8,
             "#7fbc41"
            ],
            [
             0.9,
             "#4d9221"
            ],
            [
             1,
             "#276419"
            ]
           ],
           "sequential": [
            [
             0,
             "#0d0887"
            ],
            [
             0.1111111111111111,
             "#46039f"
            ],
            [
             0.2222222222222222,
             "#7201a8"
            ],
            [
             0.3333333333333333,
             "#9c179e"
            ],
            [
             0.4444444444444444,
             "#bd3786"
            ],
            [
             0.5555555555555556,
             "#d8576b"
            ],
            [
             0.6666666666666666,
             "#ed7953"
            ],
            [
             0.7777777777777778,
             "#fb9f3a"
            ],
            [
             0.8888888888888888,
             "#fdca26"
            ],
            [
             1,
             "#f0f921"
            ]
           ],
           "sequentialminus": [
            [
             0,
             "#0d0887"
            ],
            [
             0.1111111111111111,
             "#46039f"
            ],
            [
             0.2222222222222222,
             "#7201a8"
            ],
            [
             0.3333333333333333,
             "#9c179e"
            ],
            [
             0.4444444444444444,
             "#bd3786"
            ],
            [
             0.5555555555555556,
             "#d8576b"
            ],
            [
             0.6666666666666666,
             "#ed7953"
            ],
            [
             0.7777777777777778,
             "#fb9f3a"
            ],
            [
             0.8888888888888888,
             "#fdca26"
            ],
            [
             1,
             "#f0f921"
            ]
           ]
          },
          "colorway": [
           "#636efa",
           "#EF553B",
           "#00cc96",
           "#ab63fa",
           "#FFA15A",
           "#19d3f3",
           "#FF6692",
           "#B6E880",
           "#FF97FF",
           "#FECB52"
          ],
          "font": {
           "color": "#2a3f5f"
          },
          "geo": {
           "bgcolor": "white",
           "lakecolor": "white",
           "landcolor": "#E5ECF6",
           "showlakes": true,
           "showland": true,
           "subunitcolor": "white"
          },
          "hoverlabel": {
           "align": "left"
          },
          "hovermode": "closest",
          "mapbox": {
           "style": "light"
          },
          "paper_bgcolor": "white",
          "plot_bgcolor": "#E5ECF6",
          "polar": {
           "angularaxis": {
            "gridcolor": "white",
            "linecolor": "white",
            "ticks": ""
           },
           "bgcolor": "#E5ECF6",
           "radialaxis": {
            "gridcolor": "white",
            "linecolor": "white",
            "ticks": ""
           }
          },
          "scene": {
           "xaxis": {
            "backgroundcolor": "#E5ECF6",
            "gridcolor": "white",
            "gridwidth": 2,
            "linecolor": "white",
            "showbackground": true,
            "ticks": "",
            "zerolinecolor": "white"
           },
           "yaxis": {
            "backgroundcolor": "#E5ECF6",
            "gridcolor": "white",
            "gridwidth": 2,
            "linecolor": "white",
            "showbackground": true,
            "ticks": "",
            "zerolinecolor": "white"
           },
           "zaxis": {
            "backgroundcolor": "#E5ECF6",
            "gridcolor": "white",
            "gridwidth": 2,
            "linecolor": "white",
            "showbackground": true,
            "ticks": "",
            "zerolinecolor": "white"
           }
          },
          "shapedefaults": {
           "line": {
            "color": "#2a3f5f"
           }
          },
          "ternary": {
           "aaxis": {
            "gridcolor": "white",
            "linecolor": "white",
            "ticks": ""
           },
           "baxis": {
            "gridcolor": "white",
            "linecolor": "white",
            "ticks": ""
           },
           "bgcolor": "#E5ECF6",
           "caxis": {
            "gridcolor": "white",
            "linecolor": "white",
            "ticks": ""
           }
          },
          "title": {
           "x": 0.05
          },
          "xaxis": {
           "automargin": true,
           "gridcolor": "white",
           "linecolor": "white",
           "ticks": "",
           "title": {
            "standoff": 15
           },
           "zerolinecolor": "white",
           "zerolinewidth": 2
          },
          "yaxis": {
           "automargin": true,
           "gridcolor": "white",
           "linecolor": "white",
           "ticks": "",
           "title": {
            "standoff": 15
           },
           "zerolinecolor": "white",
           "zerolinewidth": 2
          }
         }
        },
        "title": {
         "text": "Feature Distributions"
        },
        "width": 1100,
        "xaxis": {
         "anchor": "y",
         "domain": [
          0,
          0.2888888888888889
         ]
        },
        "xaxis10": {
         "anchor": "y10",
         "domain": [
          0,
          0.2888888888888889
         ]
        },
        "xaxis11": {
         "anchor": "y11",
         "domain": [
          0.35555555555555557,
          0.6444444444444445
         ]
        },
        "xaxis12": {
         "anchor": "y12",
         "domain": [
          0.7111111111111111,
          1
         ]
        },
        "xaxis13": {
         "anchor": "y13",
         "domain": [
          0,
          0.2888888888888889
         ]
        },
        "xaxis14": {
         "anchor": "y14",
         "domain": [
          0.35555555555555557,
          0.6444444444444445
         ]
        },
        "xaxis15": {
         "anchor": "y15",
         "domain": [
          0.7111111111111111,
          1
         ]
        },
        "xaxis2": {
         "anchor": "y2",
         "domain": [
          0.35555555555555557,
          0.6444444444444445
         ]
        },
        "xaxis3": {
         "anchor": "y3",
         "domain": [
          0.7111111111111111,
          1
         ]
        },
        "xaxis4": {
         "anchor": "y4",
         "domain": [
          0,
          0.2888888888888889
         ]
        },
        "xaxis5": {
         "anchor": "y5",
         "domain": [
          0.35555555555555557,
          0.6444444444444445
         ]
        },
        "xaxis6": {
         "anchor": "y6",
         "domain": [
          0.7111111111111111,
          1
         ]
        },
        "xaxis7": {
         "anchor": "y7",
         "domain": [
          0,
          0.2888888888888889
         ]
        },
        "xaxis8": {
         "anchor": "y8",
         "domain": [
          0.35555555555555557,
          0.6444444444444445
         ]
        },
        "xaxis9": {
         "anchor": "y9",
         "domain": [
          0.7111111111111111,
          1
         ]
        },
        "yaxis": {
         "anchor": "x",
         "domain": [
          0.88,
          1
         ]
        },
        "yaxis10": {
         "anchor": "x10",
         "domain": [
          0.22,
          0.33999999999999997
         ]
        },
        "yaxis11": {
         "anchor": "x11",
         "domain": [
          0.22,
          0.33999999999999997
         ]
        },
        "yaxis12": {
         "anchor": "x12",
         "domain": [
          0.22,
          0.33999999999999997
         ]
        },
        "yaxis13": {
         "anchor": "x13",
         "domain": [
          0,
          0.12
         ]
        },
        "yaxis14": {
         "anchor": "x14",
         "domain": [
          0,
          0.12
         ]
        },
        "yaxis15": {
         "anchor": "x15",
         "domain": [
          0,
          0.12
         ]
        },
        "yaxis2": {
         "anchor": "x2",
         "domain": [
          0.88,
          1
         ]
        },
        "yaxis3": {
         "anchor": "x3",
         "domain": [
          0.88,
          1
         ]
        },
        "yaxis4": {
         "anchor": "x4",
         "domain": [
          0.66,
          0.78
         ]
        },
        "yaxis5": {
         "anchor": "x5",
         "domain": [
          0.66,
          0.78
         ]
        },
        "yaxis6": {
         "anchor": "x6",
         "domain": [
          0.66,
          0.78
         ]
        },
        "yaxis7": {
         "anchor": "x7",
         "domain": [
          0.44,
          0.56
         ]
        },
        "yaxis8": {
         "anchor": "x8",
         "domain": [
          0.44,
          0.56
         ]
        },
        "yaxis9": {
         "anchor": "x9",
         "domain": [
          0.44,
          0.56
         ]
        }
       }
      }
     },
     "metadata": {},
     "output_type": "display_data"
    }
   ],
   "source": [
    "plotter.plot_features(\n",
    "    df, \n",
    "    df.columns,\n",
    "    plot_type= 'Histogram',\n",
    "    num_columns=3, \n",
    "    plot_title='Feature Distributions'\n",
    ")"
   ]
  },
  {
   "cell_type": "code",
   "execution_count": 22,
   "metadata": {},
   "outputs": [
    {
     "data": {
      "application/vnd.plotly.v1+json": {
       "config": {
        "plotlyServerURL": "https://plot.ly"
       },
       "data": [
        {
         "boxmean": "sd",
         "marker": {
          "color": "black"
         },
         "name": "WEIGHT",
         "showlegend": false,
         "type": "box",
         "xaxis": "x",
         "y": {
          "bdata": "mpmZmZleoUDNzMzMzDOhQM3MzMzM36BAZmZmZmYtoUDNzMzMzEyfQDMzMzMzVaBAMzMzMzMfoEAzMzMzM5ehQM3MzMzMd6FAzczMzMzMoUAzMzMzM0qgQAAAAAAAFqBAAAAAAAC7oECamZmZmXSgQJqZmZmZwZ5AZmZmZmZKoUAzMzMzM3WhQJqZmZmZrKFAmpmZmZmMoEAzMzMzM+egQAAAAAAAAqFAZmZmZmZWokAzMzMzM2ShQM3MzMzMqaFAZmZmZmaJoEBmZmZmZgiiQGZmZmZmsKBAMzMzMzOMokAzMzMzM1qhQDMzMzMzvqFAAAAAAADCoEAzMzMzM7eiQJqZmZmZpqFAzczMzMxCokDNzMzMzLihQJqZmZmZDaJAzczMzMxtoUAzMzMzM9iiQM3MzMzMTKBAmpmZmZmBokAzMzMzM5+fQAAAAAAApKFAAAAAAAAmoUDNzMzMzDKhQGZmZmZmCKJAzczMzMwUokAzMzMzM7agQGZmZmZml6JAAAAAAADuoUAAAAAAAEKkQGZmZmZmPaFAMzMzMzNho0DNzMzMzGWhQGZmZmZm4aJAmpmZmZl8o0DNzMzMzBikQAAAAAAAG6RAAAAAAAA2pEBmZmZmZiqhQAAAAAAA5KJAmpmZmZn4oUDNzMzMzP+hQJqZmZmZVKRAzczMzMyvo0CamZmZmY2iQGZmZmZm9aFAZmZmZmZIoUAAAAAAALqkQGZmZmZm0p9AMzMzMzPNokDNzMzMzEajQGZmZmZmH6RAAAAAAAB4okAAAAAAALOjQAAAAAAAq6RAAAAAAACVpkCamZmZmcKgQJqZmZmZs6VAMzMzMzPnokCamZmZmXSiQAAAAAAAQ6VAzczMzMySpEAzMzMzM1ejQJqZmZmZEKZAZmZmZmaroUBmZmZmZlKjQGZmZmZmbqRAzczMzMw3o0AzMzMzM22hQDMzMzMzH6VAMzMzMzPho0AzMzMzM5KkQGZmZmZmVKJAZmZmZmawpEAzMzMzM62hQJqZmZmZIKVA",
          "dtype": "f8"
         },
         "yaxis": "y"
        },
        {
         "boxmean": "sd",
         "marker": {
          "color": "black"
         },
         "name": "HOT CARCASS WEIGHT",
         "showlegend": false,
         "type": "box",
         "xaxis": "x2",
         "y": {
          "bdata": "ZmZmZmZWlkDNzMzMzKiWQJqZmZmZ2ZVAmpmZmZkHl0DNzMzMzCyUQM3MzMzMOpdAMzMzMzPVlEAzMzMzM1OWQAAAAAAAipZAMzMzMzOhlkAzMzMzMzeVQGZmZmZmWJVAAAAAAABqlEBmZmZmZrKUQAAAAAAA1pRAmpmZmZlFlkBmZmZmZiyWQAAAAAAANpdAMzMzMzP/lUAzMzMzM6mWQAAAAAAAApdAZmZmZmbGl0BmZmZmZtqWQGZmZmZm/pZAmpmZmZnblEBmZmZmZgKXQAAAAAAAqpZAmpmZmZlzmEDNzMzMzPKVQJqZmZmZmZdAMzMzMzNDlUAzMzMzM6OYQM3MzMzMJJdAZmZmZmbWlkDNzMzMzIqWQJqZmZmZdZdAZmZmZmZel0BmZmZmZqqXQJqZmZmZE5RAMzMzMzP3mEAzMzMzM++UQAAAAAAASpdAZmZmZmYslkCamZmZmW2WQDMzMzMze5hAZmZmZmbyl0DNzMzMzHiUQM3MzMzMzpdAMzMzMzNRmEBmZmZmZnSaQM3MzMzM1pVAAAAAAAB6mUDNzMzMzI6WQM3MzMzMlJhAMzMzMzOdmECamZmZmVuZQAAAAAAA2ppAAAAAAADamkBmZmZmZr6VQJqZmZmZkZhAZmZmZmbIlUCamZmZmcGWQAAAAAAA4ppAMzMzMzPPmUAAAAAAAGaYQGZmZmZmwJdAmpmZmZlzlUAzMzMzM0ObQGZmZmZmMJRAmpmZmZlHlkAzMzMzMx+ZQM3MzMzMmpxAAAAAAADql0DNzMzMzDiaQDMzMzMzhZlAmpmZmZklnkBmZmZmZsKVQDMzMzMzQ5xAzczMzMzgmECamZmZmXeXQJqZmZmZ05tAmpmZmZkrm0DNzMzMzOKZQDMzMzMzk51AAAAAAABelkDNzMzMzCiZQDMzMzMzQ5tAMzMzMzNhmEAzMzMzM5+WQM3MzMzMZJxAmpmZmZkrmkDNzMzMzEyaQDMzMzMzL5hAmpmZmZnrmkAAAAAAAGqXQDMzMzMzi5pA",
          "dtype": "f8"
         },
         "yaxis": "y2"
        },
        {
         "boxmean": "sd",
         "marker": {
          "color": "black"
         },
         "name": "CARCASS WEIGHT WITH HEAD AND LEGS",
         "showlegend": false,
         "type": "box",
         "xaxis": "x3",
         "y": {
          "bdata": "ZmZmZmb2mkAzMzMzM6ebQJqZmZmZ85pAmpmZmZkhnEBmZmZmZraYQDMzMzMzP5pAmpmZmZnxmECamZmZmVebQGZmZmZmNJtAMzMzMzNvm0AzMzMzMw+aQJqZmZmZsZlAZmZmZmaQmUAzMzMzM9uZQGZmZmZm+JhAMzMzMzOXm0AzMzMzM9eaQJqZmZmZ1ZtAAAAAAADKmkDNzMzMzDCbQM3MzMzMOptAzczMzMyCnUAAAAAAAOKaQGZmZmZmeptAAAAAAAD4mUCamZmZmTOcQJqZmZmZj5pAMzMzMzOTnUDNzMzMzDCbQJqZmZmZqZxAzczMzMwUmkCamZmZmcOdQM3MzMzMNJtAzczMzMzSm0AzMzMzM0ObQJqZmZmZ8ZxAMzMzMzMlnEBmZmZmZvKcQDMzMzMz/5hAZmZmZmbSnUBmZmZmZraZQJqZmZmZtZxAmpmZmZlHm0BmZmZmZkqbQGZmZmZmJJ1AMzMzMzNjnUDNzMzMzBSaQGZmZmZm8pxAMzMzMzOlnEDNzMzMzL6fQM3MzMzMYJpAzczMzMxWnkDNzMzMzKqaQAAAAAAAVp1AmpmZmZl9nUAzMzMzM2eeQM3MzMzMaJ9AmpmZmZm7n0CamZmZmXmaQGZmZmZmfJ1AZmZmZmYQmkAAAAAAALqbQDMzMzMzCqBAmpmZmZmbnkAzMzMzM5udQGZmZmZmyJxAmpmZmZnpmUBmZmZmZtSfQJqZmZmZSZhAMzMzMzNlm0BmZmZmZsqdQJqZmZmZhaBAAAAAAADenEAAAAAAALyfQGZmZmZmbJ9AmpmZmZmtoUAzMzMzM4GaQDMzMzMz3aBAAAAAAABqnUAAAAAAAIqcQJqZmZmZi6BAmpmZmZnHn0CamZmZmbGeQGZmZmZmZKFAAAAAAAAwm0CamZmZmWGeQJqZmZmZw59AmpmZmZnxnUCamZmZmYGbQGZmZmZmvKBAAAAAAAByn0BmZmZmZsifQAAAAAAAbpxAAAAAAAAEoECamZmZmVecQDMzMzMz259A",
          "dtype": "f8"
         },
         "yaxis": "y3"
        },
        {
         "boxmean": "sd",
         "marker": {
          "color": "black"
         },
         "name": "COLD CARCASS WEIGHT",
         "showlegend": false,
         "type": "box",
         "xaxis": "x4",
         "y": {
          "bdata": "AAAAAADIlUCamZmZmfWVQM3MzMzM1pZAZmZmZmZElkBmZmZmZrCTQM3MzMzMApVAZmZmZmY2lEAAAAAAAJaVQM3MzMzM5pVAzczMzMz+lUDNzMzMzHCUQGZmZmZmvpRAAAAAAABSlEDNzMzMzAaUQAAAAAAAKpZAMzMzMzOLlUDNzMzMzIiVQAAAAAAAjpZAzczMzMxylUDNzMzMzPyVQM3MzMzMcpZAmpmZmZn/lkDNzMzMzESWQM3MzMzMRpZAAAAAAADak0BmZmZmZlaWQJqZmZmZX5RAZmZmZma+l0DNzMzMzFKVQJqZmZmZl5ZAzczMzMyqlECamZmZmfeXQM3MzMzMOpZAzczMzMxIlkAAAAAAANCVQM3MzMzM3JZAAAAAAABClUAAAAAAAAiXQGZmZmZmkpNAZmZmZmY0mEBmZmZmZl6UQAAAAAAA0pZAzczMzMyslUBmZmZmZt6VQAAAAAAA3pdAzczMzMxel0AAAAAAAMiTQAAAAAAAJJdAAAAAAAC+l0AAAAAAAOCZQGZmZmZmXJVAAAAAAADwmEAzMzMzMxeWQGZmZmZm+pdAMzMzMzMdmEAAAAAAAKiYQJqZmZmZU5pAzczMzMw2mkAzMzMzM0uVQAAAAAAA2pdAMzMzMzM3lUAAAAAAADSWQGZmZmZmXppAzczMzMxCmUAzMzMzM+WXQGZmZmZmMpdAAAAAAADwlEBmZmZmZoSaQGZmZmZmypNAMzMzMzOdlUDNzMzMzJaYQJqZmZmZr5tAMzMzMzNfl0AzMzMzM52ZQGZmZmZm/JhAzczMzMyOnUAAAAAAAEiVQAAAAAAAgJtAZmZmZmY6mEDNzMzMzM6WQJqZmZmZYZtAMzMzMzMzmkDNzMzMzEaZQDMzMzMz0ZxAZmZmZmbYlUDNzMzMzJaYQAAAAAAAzJpAZmZmZmaql0DNzMzMzDCWQJqZmZmZoZtAmpmZmZmrmUDNzMzMzJSZQM3MzMzMnJdAMzMzMzMXmkAAAAAAAPCWQGZmZmZm3plA",
          "dtype": "f8"
         },
         "yaxis": "y4"
        },
        {
         "boxmean": "sd",
         "marker": {
          "color": "black"
         },
         "name": "BREAST WEIGHT (2)",
         "showlegend": false,
         "type": "box",
         "xaxis": "x5",
         "y": {
          "bdata": "AAAAAADAakAAAAAAAIBtQJqZmZmZOW5AZmZmZmZ2bEBmZmZmZhZsQGZmZmZmxmxAZmZmZma2aUAAAAAAADBuQM3MzMzMvGxAmpmZmZm5b0BmZmZmZrZsQAAAAAAAgGxAzczMzMzsaUDNzMzMzExqQGZmZmZm5m1AMzMzMzMTbEBmZmZmZtZsQDMzMzMzW3FAmpmZmZmJbEDNzMzMzGxtQGZmZmZmBnBAZmZmZmZGbkAAAAAAAABvQJqZmZmZGW1AMzMzMzPjaECamZmZmYlsQDMzMzMzU21AzczMzMwMb0AAAAAAADBuQJqZmZmZmW1AzczMzMzsakAzMzMzM/NwQM3MzMzMfGxAmpmZmZmpa0DNzMzMzHxrQAAAAAAAgG5AMzMzMzPjakCamZmZmdltQJqZmZmZOWpAmpmZmZn5bkDNzMzMzCxqQGZmZmZmRm5AMzMzMzNjbEBmZmZmZuZtQDMzMzMzy3BAMzMzMzPjbUCamZmZmXloQJqZmZmZqW1AZmZmZmambkBmZmZmZg5wQGZmZmZmRmdAmpmZmZnpaUBmZmZmZoZrQM3MzMzMjGtAMzMzMzOjbUAAAAAAAKBsQJqZmZmZeW5AMzMzMzNjbkAzMzMzMyNmQJqZmZmZWW1AzczMzMxMakAAAAAAAIBnQJqZmZmZwXBAzczMzMxMbkAAAAAAAJBsQM3MzMzMLGxAAAAAAAAAaECamZmZmRlwQJqZmZmZuWdAZmZmZmZ2aEAzMzMzM5NqQAAAAAAA8HFAzczMzMy8a0AAAAAAAGBtQAAAAAAAgG1AZmZmZmY2cUAzMzMzM1NnQM3MzMzMHG9AmpmZmZk5bUCamZmZmZloQGZmZmZmhm5AzczMzMwMbUAAAAAAALBsQJqZmZmZGXFAmpmZmZmpgEDNzMzMzFxsQAAAAAAAsHBAmpmZmZlZbUCamZmZmalpQGZmZmZmNnBAzczMzMyMbECamZmZmblqQAAAAAAAgGxAMzMzMzOjb0AzMzMzM4NqQGZmZmZmtm5A",
          "dtype": "f8"
         },
         "yaxis": "y5"
        },
        {
         "boxmean": "sd",
         "marker": {
          "color": "black"
         },
         "name": "THIGH WEIGHT (2)",
         "showlegend": false,
         "type": "box",
         "xaxis": "x6",
         "y": {
          "bdata": "ZmZmZmaWfkCamZmZmdWAQM3MzMzMAIBAMzMzMzMvgUAzMzMzM5N9QAAAAAAAXIBAzczMzMx8fkAzMzMzM+t/QDMzMzMzq39AAAAAAADMgECamZmZmSl/QDMzMzMzo39AMzMzMzNrfUDNzMzMzPR+QM3MzMzM9H9AzczMzMwkgEBmZmZmZqaAQJqZmZmZYYBAmpmZmZm5f0DNzMzMzFx+QDMzMzMzi4BAmpmZmZkpgUAzMzMzMzuAQAAAAAAACIFAAAAAAACgfkDNzMzMzPSAQGZmZmZmFn5AZmZmZmaugUAzMzMzM3N/QGZmZmZmZoFAZmZmZmbGf0AAAAAAAPCBQAAAAAAAEH9AmpmZmZkdgECamZmZmXGAQDMzMzMzy4FAmpmZmZlBf0CamZmZmU2BQJqZmZmZQX1AZmZmZmbugUBmZmZmZq5+QAAAAAAAqIFAAAAAAAAMgEAAAAAAACiAQDMzMzMzb4FAZmZmZmbagUBmZmZmZvZ+QJqZmZmZmYBAMzMzMzN/gkBmZmZmZuKCQGZmZmZm7n9AmpmZmZnhgkDNzMzMzHSAQDMzMzMzq4FAzczMzMwMgUBmZmZmZhaDQGZmZmZmMoNAzczMzMyMgkCamZmZmVGAQGZmZmZmUoFAAAAAAAB4fkBmZmZmZq6AQAAAAAAANIJAZmZmZmZegUDNzMzMzJiBQDMzMzMzm4FAmpmZmZkhfkAAAAAAABSDQGZmZmZmzntAAAAAAABogEBmZmZmZoKAQGZmZmZm1oNAzczMzMxAgUAAAAAAAASDQDMzMzMzJ4JAzczMzMzIhEAzMzMzM7t/QAAAAAAA6INAZmZmZmbKgEDNzMzMzFiBQM3MzMzMXIJAAAAAAAB8gUCamZmZmbWCQM3MzMzMlIVAmpmZmZk5ZkBmZmZmZv6BQAAAAAAAVIRAzczMzMzIgUDNzMzMzJx/QGZmZmZmooNAzczMzMwwg0AzMzMzMxeDQJqZmZmZgYBAAAAAAAAQg0AzMzMzMyOBQDMzMzMz94JA",
          "dtype": "f8"
         },
         "yaxis": "y6"
        },
        {
         "boxmean": "sd",
         "marker": {
          "color": "black"
         },
         "name": "SPLEEN",
         "showlegend": false,
         "type": "box",
         "xaxis": "x7",
         "y": {
          "bdata": "7nw/NV66DUDByqFFtvMLQGQ730+NFxBAGQRWDi2yCEBiEFg5tMgNQCcxCKwcWg5A9ihcj8L1DUC8dJMYBFYEQJMYBFYOLRFAhxbZzvfTEUDRItv5fmoNQNV46SYxCA5AKVyPwvUoF0BYObTIdr4KQH0/NV66SQVA1XjpJjEIH0BmZmZmZmYQQG3n+6nxUhZABFYOLbKdEUDn+6nx0s0SQOxRuB6F6wZAzczMzMzMDUAQWDm0yHYRQF66SQwCKxFAlkOLbOf7CUAIrBxaZLsTQOkmMQisnBFA+n5qvHQTEECsHFpkO98SQHWTGARWDhBAyXa+nxovE0BxPQrXo3AUQAisHFpkuxFAg8DKoUW2A0C28/3UeOkSQG8Sg8DKoQ5AmG4Sg8BKEEBEi2zn+6kaQH9qvHSTGApAWmQ730+NFUD+1HjpJjEFQBfZzvdT4xJA8tJNYhDYFkAbL90kBoEIQCuHFtnO9wtA4XoUrkfhC0Bcj8L1KFwUQDVeukkMghFA4XoUrkfhDkDfT42XbpITQF66SQwCqxFAoBov3SQGDUCPwvUoXI8MQIcW2c73UxJAx0s3iUFgDEACK4cW2c4IQPyp8dJN4hFAjZduEoPAEkC8dJMYBFYHQNejcD0K1xdAO99PjZduCkD2KFyPwvUPQKrx0k1iEApAYOXQItv5B0DByqFFtnMUQB1aZDvfTw1Ay6FFtvP9CEACK4cW2c4XQCcxCKwcWg5AlkOLbOf7DkDn+6nx0k0NQGIQWDm0yBNAc2iR7Xy/EEA730+Nl+4SQHnpJjEILBhAtMh2vp8aDUDufD81XjoSQKwcWmQ73xNAhetRuB6FE0AOLbKd76cPQClcj8L1qBVAc2iR7Xw/C0DVeOkmMQgQQFyPwvUoXBpAzczMzMzMCUCuR+F6FC4RQDvfT42XbhRAI9v5fmq8B0B56SYxCKwHQIGVQ4ts5xNAf2q8dJOYE0DP91PjpRsTQPyp8dJNYg1ATmIQWDm0FEBvEoPAyqEGQNejcD0K1xdA",
          "dtype": "f8"
         },
         "yaxis": "y7"
        },
        {
         "boxmean": "sd",
         "marker": {
          "color": "black"
         },
         "name": "LIVER",
         "showlegend": false,
         "type": "box",
         "xaxis": "x8",
         "y": {
          "bdata": "xSCwcmhRQ0DNzMzMzFxBQDvfT42X7j9AfT81XropQEB7FK5H4Ro+QNEi2/l+6jlAYhBYObQYQEB9PzVeuqlAQLByaJHtfEFAgZVDi2xnQkAj2/l+avw9QBsv3SQG8UFAd76fGi/NSECNl24Sg8BAQLpJDAIrB0JADi2yne9XQkAhsHJokd1AQDm0yHa+nz9AoBov3SQ2QUDXo3A9CjdAQDm0yHa+3z5AF9nO91NjP0DByqFFttM6QJzEILByqEBA5dAi2/kuQ0CPwvUoXC9GQM3MzMzMrEFAObTIdr4PQECoxks3iTFBQGq8dJMYBD1AsHJoke08PUCcxCCwcihAQJhuEoPAekFASgwCK4d2QUA730+Nl/5BQA4tsp3v10BA1XjpJjFIQUCF61G4HuVCQKAaL90kZkJA2/l+arwkQUCHFtnO93NCQHe+nxov3T5AhetRuB6FPUC0yHa+n5pAQI2XbhKDgEVAF9nO91NjPkD8qfHSTSJDQPT91Hjp1kJALbKd76cGQEBSuB6F63FFQNEi2/l+CkFA/tR46SYBQkBxPQrXo6BBQOxRuB6Fi0RArkfhehRuRECLbOf7qaFFQPYoXI/CFUNARrbz/dSIRUAK16NwPfpEQLx0kxgEdkRA001iEFjJQEAxCKwcWtREQOxRuB6FK0RAO99PjZdeQUDpJjEIrOxBQNV46SYxKD1A1XjpJjHYRUDjpZvEIABGQH9qvHSTOEBAGy/dJAaRSkD8qfHSTeJDQIlBYOXQckFAbxKDwMrRR0Dn+6nx0p1DQPhT46WblElAw/UoXI9iQ0AlBoGVQ0tAQO58PzVeWkZA8tJNYhBIQkCNl24Sg0BFQOxRuB6Fe0JAO99PjZcuQkAnMQisHJpEQOxRuB6Fe0JAJzEIrBy6RUB3vp8aL21DQIXrUbgeFUJATmIQWDmEREBiEFg5tOg+QL6fGi/dVEFArkfhehQuREDl0CLb+f5GQOxRuB6Fi0FAcT0K16NASUBqvHSTGEQ+QLx0kxgEdkRA",
          "dtype": "f8"
         },
         "yaxis": "y8"
        },
        {
         "boxmean": "sd",
         "marker": {
          "color": "black"
         },
         "name": "HEART",
         "showlegend": false,
         "type": "box",
         "xaxis": "x9",
         "y": {
          "bdata": "XI/C9SicIkBeukkMAiskQIXrUbgeRSVAtMh2vp/aJ0D2KFyPwrUjQAwCK4cWmS1AnMQgsHLoJUDy0k1iEBgnQDvfT42X7iRAJzEIrByaI0BI4XoUrochQGZmZmZmZixAy6FFtvO9JUDpJjEIrNwmQG8Sg8DKISJAYhBYObTIKkDByqFFtjMlQPyp8dJNYihAz/dT46XbJkCPwvUoXE8qQJqZmZmZGSRAAAAAAAAAJECLbOf7qfEpQBSuR+F6FCZA0SLb+X4qJEBg5dAi2zkrQGZmZmZmJiZAMzMzMzMzLECamZmZmZkkQMUgsHJokSZAg8DKoUW2IkAUrkfhepQqQCcxCKwcGiNATDeJQWAlJ0BOYhBYOfQnQLKd76fGCyhAsp3vp8bLJUBOYhBYOTQsQOXQItv5/iJAhetRuB7FLEDD9Shcj0IkQNejcD0KlytApHA9CtejJ0DJdr6fGi8tQMUgsHJoESVAKVyPwvXoKkDl0CLb+X4kQFyPwvUoHCpAwcqhRbbzJkA1XrpJDEIsQAIrhxbZzitAg8DKoUV2KkD0/dR46eYiQDeJQWDlECdAaJHtfD+1LEB/arx0k9gjQG3n+6nxUiVAvp8aL93kKkDP91PjpdskQHE9CtejMDBA/tR46SbxLECamZmZmRkpQOxRuB6Fqy5ATmIQWDm0JUCgGi/dJAYnQAAAAAAAQClASgwCK4dWLkAbL90kBoEmQFpkO99PDSRArBxaZDsfIUDb+X5qvDQoQGiR7Xw/FTFALbKd76fGKUACK4cW2Y4oQBfZzvdTIydAuB6F61G4KECYbhKDwAooQB+F61G4XixAvp8aL91kJUDTTWIQWLkkQNv5fmq8NCdAQmDl0CIbLEBMN4lBYOUqQEjhehSuhyxAbxKDwMohKkAdWmQ7348pQMP1KFyPgidAGQRWDi0yJkAxCKwcWqQhQLgehetR+CtA/tR46SYxLEBkO99PjZcpQDVeukkMAidAi2zn+6kxMUA1XrpJDEImQHE9CtejMDBA",
          "dtype": "f8"
         },
         "yaxis": "y9"
        },
        {
         "boxmean": "sd",
         "marker": {
          "color": "black"
         },
         "name": "INTESTINE",
         "showlegend": false,
         "type": "box",
         "xaxis": "x10",
         "y": {
          "bdata": "bef7qfHKXkAzMzMzM/NRQHE9CtejsE5Ax0s3iUE4UECHFtnO9yNRQMUgsHJoAU1AtvP91HgJUkAfhetRuCZSQPhT46WbhFRAarx0kxjcVUC28/3UeAlLQNnO91PjVUxAbxKDwMoZWkAj2/l+auxOQCUGgZVDK09AYhBYObQQU0BKDAIrhx5RQB+F61G4XlBApHA9CtfTTEBvEoPAyjlQQIcW2c73q1BAHVpkO98vUEAX2c73UwNSQKAaL90kPlBAsp3vp8ZbUkCWQ4ts52tTQN0kBoGVG1BAmG4Sg8CKUEBiEFg5tEhJQDMzMzMzk0pAokW28/1kT0BU46WbxBBMQMuhRbbzHVJAgZVDi2x/VUDJdr6fGtdTQGiR7Xw/zVBAGy/dJAY5UECWQ4ts5ytRQGZmZmZmblFAXI/C9Si8TEBKDAIrh2ZXQJHtfD81bkpAZDvfT403TkBaZDvfT3VQQIPAyqFFtk9Ax0s3iUGoUED6fmq8dANRQFTjpZvEIFJAZDvfT43XSkCwcmiR7YxVQIts5/upoVFABFYOLbIVUUCe76fGS0dPQH0/NV66uU5ASgwCK4cGVEDP91PjpStTQM3MzMzMDFBA001iEFhhVEAdWmQ73+9SQCcxCKwcMlJAGy/dJAYRRkDXo3A9Cv9QQPCnxks3WU5AmpmZmZlZUUCHFtnO96NOQGZmZmZmBklA6SYxCKwsTEAnMQisHBJTQFyPwvUoPE5A8tJNYhC4U0AAAAAAAEBRQBsv3SQGIVFA4XoUrkdxVUBqvHSTGCRPQHe+nxovNVZAkxgEVg49VEAK16NwPfpHQC/dJAaBPVRAlkOLbOebUEAUrkfhehRRQO58PzVeilNA001iEFiRU0CPwvUoXI9OQNNNYhBYoVFAiUFg5dCSVEDVeOkmMeBQQIPAyqFFtlFAI9v5fmrsUEDjpZvEICBPQFyPwvUopFBAy6FFtvP9UEBGtvP91LhSQIXrUbgeHVFA46WbxCBgVEDFILByaIFKQCcxCKwcMlJA",
          "dtype": "f8"
         },
         "yaxis": "y10"
        },
        {
         "boxmean": "sd",
         "marker": {
          "color": "black"
         },
         "name": "EMPTY MUSCULAR STOMACH",
         "showlegend": false,
         "type": "box",
         "xaxis": "x11",
         "y": {
          "bdata": "bef7qfGiRkCR7Xw/Ne5BQBfZzvdTQ0JAyXa+nxp/REC28/3UeHlEQNNNYhBYqUZAz/dT46ULRUBt5/up8ZJIQJ7vp8ZLZ0dA7nw/NV4aP0Ce76fGS4dIQHNoke18z0NAqvHSTWKQRUCuR+F6FL5KQF66SQwCa0NAdZMYBFY+RkCF61G4HtVHQFTjpZvEAElAKVyPwvXYRUC8dJMYBMZNQLpJDAIrp05AYOXQItvZTkDy0k1iEAhOQBBYObTItkZA7nw/NV66SkBeukkMAstFQG3n+6nx0khADAIrhxbJT0Bt5/up8cJHQK5H4XoU7k9A30+Nl24iUECTGARWDm1FQKwcWmQ7D0lAhetRuB5VQECiRbbz/ZRBQIcW2c73U0dAPQrXo3BtRkBCYOXQIntGQLByaJHt7ElAN4lBYOXARkDFILByaBFJQAwCK4cW6UVAgZVDi2ynUECDwMqhRbY9QCuHFtnOd0RA/Knx0k1CSkBOYhBYObRBQEa28/3U+ElA5/up8dK9REA9CtejcB1MQL6fGi/d1EtAFK5H4XpURUCPwvUoXA9AQAisHFpk+0VADAIrhxbxUkBg5dAi26lGQI2XbhKDEEVACKwcWmT7R0ArhxbZzmdGQOkmMQisTEBA8KfGSzd5QECkcD0K1xNDQP7UeOkmAUhAI9v5fmosTEC0yHa+n8pNQPCnxks3qUlAtMh2vp9aTUBMN4lBYPVEQGZmZmZmNkRA3SQGgZXzSUDTTWIQWFlMQJqZmZmZWURADAIrhxapRkDZzvdT49VLQEoMAiuHJlFAVOOlm8QARkB7FK5H4VpLQMUgsHJo0UZAf2q8dJNYQUCBlUOLbHdIQPYoXI/ChUZAw/UoXI8CSEA3iUFg5VBFQAIrhxbZrkZA0SLb+X46SkCHFtnO96NIQKabxCCwAktAoBov3SQWRUCamZmZmdlIQJzEILByaEdADAIrhxbxUkA=",
          "dtype": "f8"
         },
         "yaxis": "y11"
        },
        {
         "boxmean": "sd",
         "marker": {
          "color": "black"
         },
         "name": "GLANDULAR STOMACH",
         "showlegend": false,
         "type": "box",
         "xaxis": "x12",
         "y": {
          "bdata": "16NwPQpXKkAdWmQ7348jQJHtfD813hhAnu+nxku3IEB9PzVeukkeQB+F61G43iBAqMZLN4nBGkAhsHJokS0hQHnpJjEIrCdASgwCK4dWJkAfhetRuJ4eQP7UeOkmsRlAJQaBlUNLI0Boke18P7UcQCGwcmiRrSRA2/l+arz0HEBaZDvfT40YQG3n+6nxUiNA30+Nl24SHkCe76fGS7clQPT91Hjp5iBAqvHSTWJQIEDRItv5fmohQP7UeOkmMRtAtvP91HhpGUDl0CLb+f4kQL6fGi/dJCBANV66SQyCKED2KFyPwrUgQHsUrkfh+hpAsp3vp8bLGkDfT42XbhIaQBBYObTIdiFA9ihcj8J1JkBcj8L1KNweQLpJDAIrhx9A6SYxCKwcKkAdWmQ7388kQAAAAAAAAB9A8tJNYhBYIkAzMzMzMzMgQBsv3SQGAR5Ag8DKoUW2IkB7FK5H4foeQAIrhxbZzh9AZDvfT42XIUAZBFYOLTIlQLByaJHtPCRAVOOlm8QgH0BCYOXQIlseQIcW2c73UyFA0SLb+X5qGkBzaJHtfD8ZQHNoke18PxpApHA9CtcjJ0ArhxbZzvcbQMuhRbbz/RxAy6FFtvO9KEDjpZvEILAcQK5H4XoUrh1A4XoUrkdhHECDwMqhRbYgQHWTGARWDh1A6SYxCKycH0DD9Shcj8IYQLByaJHt/BVASgwCK4eWGEC+nxov3SQbQESLbOf7KRpAxSCwcmgRHEAAAAAAAAAcQKabxCCwsiNASOF6FK7HHEB9PzVeuokgQCUGgZVDCxlAmpmZmZkZI0BSuB6F61EWQBfZzvdTYxxAwcqhRbbzHUAtsp3vp4YiQCuHFtnONyBABoGVQ4usIUDD9Shcj8IbQPYoXI/CNSBACtejcD2KHkCuR+F6FO4hQB+F61G4niJA7nw/NV66HUB9PzVeukkZQC2yne+nBiBACKwcWmS7IkAhsHJokW0fQAwCK4cWWR9AhxbZzvdTHUAzMzMzM7MVQK5H4XoUrh1A",
          "dtype": "f8"
         },
         "yaxis": "y12"
        },
        {
         "boxmean": "sd",
         "marker": {
          "color": "black"
         },
         "name": "CRUDE PROTEIN",
         "showlegend": false,
         "type": "box",
         "xaxis": "x13",
         "y": {
          "bdata": "AAAAAMCGVUB2yaSmLolVQIW063aumlVAkG3ck299VUAx7iGNZGxUQEb0bL8d4lVAcUCZuNK1VUD+NtePyw9WQKQrHWuN4lVAzCoNBFAMVkCanggGUfJVQP3Ta1HFj1VA0zGXCE+KVUAMvdALvaBVQNbR5n2KtVVAxKzkaK8/VUDOk2HzZJhVQEO9a86nIFZAPY2w3NNAVUB9u2iOnn5VQPz9T97WPVZAfIMKKQwwVUAZ9AV9QcdVQHqzED8B0VVA0NvHm59gVUCMgRLeaMpVQPTtHXqTNVVAyh+Y/IG5VUBC9Zm2xt5VQNcNpshnDVZAvr29vb3dVEB0uVwul5VVQFqgo2yVpVVASTpUSWX5VUDDOjSgHCRWQGlORIPN2lVA+eCDD37+VUAXZc7gJStVQNc/BmyUdVJAoLrUMFJ8VUANUOBBi6NVQDiYIp916VVAdQfAUF/mVUDOmYgtD4tVQPslv8mlFlZA9Tuyy+jQVUDte0ROEK5VQCGCY5dGUVVA2NwBkI3wVUDTRRdddPlVQNXWUWjSClZAAgAAAAAcVkBEhQoVKshVQPJ/YfQT5lVAZeJK9wb8VUDORASS86RVQDseR1E411VAcSE3eDslVkD6yEc+8mFWQMhxHMdxyVVALj03TeL9VUCBxTsyefNVQB4ERhnjglVAkm8NWDMuVkCEu7HvERlWQLb3Oj+dQFZAb+qk1tJBVUDIUBcj1dFVQDgvzuSD41VAHFeM/tLcVUA/iCauKRVWQLAZLJT5RFZAAJMvxJW3VUCVUkoppVxWQI5h7wH3JlZAG9uqsa3qVUBsq8a2auxVQMYsR36uQFZAPCxa1fdnVkAYBlK9Gl9WQAWanCf+PlZAjPmn8I4bVkCv5eBmvyhWQH1zRfJkj1ZAzkQEkvOkVUCLd6zXD9xVQD2xEzsxOlZACkqAD3IuVkCoULxZ5TVWQJze9KY3NVZAFo9ZgYr0VUBRfaat8T9WQMiXMmZ3IFZArC1ynQmYVkCLcEvNhs1WQDeDt4jNNFZA",
          "dtype": "f8"
         },
         "yaxis": "y13"
        },
        {
         "boxmean": "sd",
         "marker": {
          "color": "black"
         },
         "name": "ETHER EXTRACT",
         "showlegend": false,
         "type": "box",
         "xaxis": "x14",
         "y": {
          "bdata": "UrgehetR2D+PwvUoXI/6P1yPwvUoXO8/mpmZmZmZ8T9cj8L1KFwZQOF6FK5H4f4/rkfhehSuCUAzMzMzMzPrP7gehetRuO4/MzMzMzMz9z+PwvUoXI8AQOxRuB6F6+k/zczMzMzMAkCkcD0K16MIQFyPwvUoXPs/16NwPQrXC0BSuB6F61EGQD0K16NwPQJA7FG4HoXrFkD2KFyPwvUIQFK4HoXrUfA/PQrXo3A9EUCuR+F6FK4HQMP1KFyPwu0/rkfhehSuEEDD9Shcj8L1P8P1KFyPwg1A4XoUrkfhAEAAAAAAAAD0P+xRuB6F6/k/uB6F61G4GkAfhetRuB4PQLgehetRuPI/mpmZmZmZAUCPwvUoXI/2P3sUrkfhevw/ZmZmZmZmAED2KFyPwvUWQBSuR+F6FA5AuB6F61G4DEApXI/C9SgQQIXrUbgehQNAKVyPwvUoAkAK16NwPQoPQD0K16NwPeo/H4XrUbge/T8UrkfhehTyPz0K16NwPRVAuB6F61G47j9mZmZmZmbyP8P1KFyPwu0/H4XrUbge7T+4HoXrUbjyP7gehetRuABAmpmZmZmZ/T/2KFyPwvUGQFK4HoXrUfA/pHA9Ctej+D+kcD0K16PoP7gehetRuPo/FK5H4XoU7j97FK5H4Xr8P9ejcD0K1xJA9ihcj8L16D8K16NwPQr7Pz0K16NwPfo/4XoUrkfhBkB7FK5H4XoCQArXo3A9CvM/SOF6FK5HB0C4HoXrUbjyP65H4XoUru8/zczMzMzM9D/D9Shcj8LlPzMzMzMzM/s/PQrXo3A9/j+F61G4HoX/P1yPwvUoXPs/7FG4HoXr/T89CtejcD3iP1yPwvUoXPs/ZmZmZmZm8j9I4XoUrkf5P3sUrkfhetQ/16NwPQrXD0AK16NwPQr/PzMzMzMzM+M/mpmZmZmZ+T/NzMzMzMz8P7gehetRuN4/H4XrUbgeA0AfhetRuB7xPxSuR+F6FPI/j8L1KFyP/j+uR+F6FK4BQClcj8L1KPg/",
          "dtype": "f8"
         },
         "yaxis": "y14"
        }
       ],
       "layout": {
        "annotations": [
         {
          "font": {
           "size": 16
          },
          "showarrow": false,
          "text": "WEIGHT",
          "x": 0.14444444444444446,
          "xanchor": "center",
          "xref": "paper",
          "y": 1,
          "yanchor": "bottom",
          "yref": "paper"
         },
         {
          "font": {
           "size": 16
          },
          "showarrow": false,
          "text": "HOT CARCASS WEIGHT",
          "x": 0.5,
          "xanchor": "center",
          "xref": "paper",
          "y": 1,
          "yanchor": "bottom",
          "yref": "paper"
         },
         {
          "font": {
           "size": 16
          },
          "showarrow": false,
          "text": "CARCASS WEIGHT WITH HEAD AND LEGS",
          "x": 0.8555555555555556,
          "xanchor": "center",
          "xref": "paper",
          "y": 1,
          "yanchor": "bottom",
          "yref": "paper"
         },
         {
          "font": {
           "size": 16
          },
          "showarrow": false,
          "text": "COLD CARCASS WEIGHT",
          "x": 0.14444444444444446,
          "xanchor": "center",
          "xref": "paper",
          "y": 0.78,
          "yanchor": "bottom",
          "yref": "paper"
         },
         {
          "font": {
           "size": 16
          },
          "showarrow": false,
          "text": "BREAST WEIGHT (2)",
          "x": 0.5,
          "xanchor": "center",
          "xref": "paper",
          "y": 0.78,
          "yanchor": "bottom",
          "yref": "paper"
         },
         {
          "font": {
           "size": 16
          },
          "showarrow": false,
          "text": "THIGH WEIGHT (2)",
          "x": 0.8555555555555556,
          "xanchor": "center",
          "xref": "paper",
          "y": 0.78,
          "yanchor": "bottom",
          "yref": "paper"
         },
         {
          "font": {
           "size": 16
          },
          "showarrow": false,
          "text": "SPLEEN",
          "x": 0.14444444444444446,
          "xanchor": "center",
          "xref": "paper",
          "y": 0.56,
          "yanchor": "bottom",
          "yref": "paper"
         },
         {
          "font": {
           "size": 16
          },
          "showarrow": false,
          "text": "LIVER",
          "x": 0.5,
          "xanchor": "center",
          "xref": "paper",
          "y": 0.56,
          "yanchor": "bottom",
          "yref": "paper"
         },
         {
          "font": {
           "size": 16
          },
          "showarrow": false,
          "text": "HEART",
          "x": 0.8555555555555556,
          "xanchor": "center",
          "xref": "paper",
          "y": 0.56,
          "yanchor": "bottom",
          "yref": "paper"
         },
         {
          "font": {
           "size": 16
          },
          "showarrow": false,
          "text": "INTESTINE",
          "x": 0.14444444444444446,
          "xanchor": "center",
          "xref": "paper",
          "y": 0.33999999999999997,
          "yanchor": "bottom",
          "yref": "paper"
         },
         {
          "font": {
           "size": 16
          },
          "showarrow": false,
          "text": "EMPTY MUSCULAR STOMACH",
          "x": 0.5,
          "xanchor": "center",
          "xref": "paper",
          "y": 0.33999999999999997,
          "yanchor": "bottom",
          "yref": "paper"
         },
         {
          "font": {
           "size": 16
          },
          "showarrow": false,
          "text": "GLANDULAR STOMACH",
          "x": 0.8555555555555556,
          "xanchor": "center",
          "xref": "paper",
          "y": 0.33999999999999997,
          "yanchor": "bottom",
          "yref": "paper"
         },
         {
          "font": {
           "size": 16
          },
          "showarrow": false,
          "text": "CRUDE PROTEIN",
          "x": 0.14444444444444446,
          "xanchor": "center",
          "xref": "paper",
          "y": 0.12,
          "yanchor": "bottom",
          "yref": "paper"
         },
         {
          "font": {
           "size": 16
          },
          "showarrow": false,
          "text": "ETHER EXTRACT",
          "x": 0.5,
          "xanchor": "center",
          "xref": "paper",
          "y": 0.12,
          "yanchor": "bottom",
          "yref": "paper"
         }
        ],
        "bargap": 0.2,
        "height": 1500,
        "template": {
         "data": {
          "bar": [
           {
            "error_x": {
             "color": "#2a3f5f"
            },
            "error_y": {
             "color": "#2a3f5f"
            },
            "marker": {
             "line": {
              "color": "#E5ECF6",
              "width": 0.5
             },
             "pattern": {
              "fillmode": "overlay",
              "size": 10,
              "solidity": 0.2
             }
            },
            "type": "bar"
           }
          ],
          "barpolar": [
           {
            "marker": {
             "line": {
              "color": "#E5ECF6",
              "width": 0.5
             },
             "pattern": {
              "fillmode": "overlay",
              "size": 10,
              "solidity": 0.2
             }
            },
            "type": "barpolar"
           }
          ],
          "carpet": [
           {
            "aaxis": {
             "endlinecolor": "#2a3f5f",
             "gridcolor": "white",
             "linecolor": "white",
             "minorgridcolor": "white",
             "startlinecolor": "#2a3f5f"
            },
            "baxis": {
             "endlinecolor": "#2a3f5f",
             "gridcolor": "white",
             "linecolor": "white",
             "minorgridcolor": "white",
             "startlinecolor": "#2a3f5f"
            },
            "type": "carpet"
           }
          ],
          "choropleth": [
           {
            "colorbar": {
             "outlinewidth": 0,
             "ticks": ""
            },
            "type": "choropleth"
           }
          ],
          "contour": [
           {
            "colorbar": {
             "outlinewidth": 0,
             "ticks": ""
            },
            "colorscale": [
             [
              0,
              "#0d0887"
             ],
             [
              0.1111111111111111,
              "#46039f"
             ],
             [
              0.2222222222222222,
              "#7201a8"
             ],
             [
              0.3333333333333333,
              "#9c179e"
             ],
             [
              0.4444444444444444,
              "#bd3786"
             ],
             [
              0.5555555555555556,
              "#d8576b"
             ],
             [
              0.6666666666666666,
              "#ed7953"
             ],
             [
              0.7777777777777778,
              "#fb9f3a"
             ],
             [
              0.8888888888888888,
              "#fdca26"
             ],
             [
              1,
              "#f0f921"
             ]
            ],
            "type": "contour"
           }
          ],
          "contourcarpet": [
           {
            "colorbar": {
             "outlinewidth": 0,
             "ticks": ""
            },
            "type": "contourcarpet"
           }
          ],
          "heatmap": [
           {
            "colorbar": {
             "outlinewidth": 0,
             "ticks": ""
            },
            "colorscale": [
             [
              0,
              "#0d0887"
             ],
             [
              0.1111111111111111,
              "#46039f"
             ],
             [
              0.2222222222222222,
              "#7201a8"
             ],
             [
              0.3333333333333333,
              "#9c179e"
             ],
             [
              0.4444444444444444,
              "#bd3786"
             ],
             [
              0.5555555555555556,
              "#d8576b"
             ],
             [
              0.6666666666666666,
              "#ed7953"
             ],
             [
              0.7777777777777778,
              "#fb9f3a"
             ],
             [
              0.8888888888888888,
              "#fdca26"
             ],
             [
              1,
              "#f0f921"
             ]
            ],
            "type": "heatmap"
           }
          ],
          "histogram": [
           {
            "marker": {
             "pattern": {
              "fillmode": "overlay",
              "size": 10,
              "solidity": 0.2
             }
            },
            "type": "histogram"
           }
          ],
          "histogram2d": [
           {
            "colorbar": {
             "outlinewidth": 0,
             "ticks": ""
            },
            "colorscale": [
             [
              0,
              "#0d0887"
             ],
             [
              0.1111111111111111,
              "#46039f"
             ],
             [
              0.2222222222222222,
              "#7201a8"
             ],
             [
              0.3333333333333333,
              "#9c179e"
             ],
             [
              0.4444444444444444,
              "#bd3786"
             ],
             [
              0.5555555555555556,
              "#d8576b"
             ],
             [
              0.6666666666666666,
              "#ed7953"
             ],
             [
              0.7777777777777778,
              "#fb9f3a"
             ],
             [
              0.8888888888888888,
              "#fdca26"
             ],
             [
              1,
              "#f0f921"
             ]
            ],
            "type": "histogram2d"
           }
          ],
          "histogram2dcontour": [
           {
            "colorbar": {
             "outlinewidth": 0,
             "ticks": ""
            },
            "colorscale": [
             [
              0,
              "#0d0887"
             ],
             [
              0.1111111111111111,
              "#46039f"
             ],
             [
              0.2222222222222222,
              "#7201a8"
             ],
             [
              0.3333333333333333,
              "#9c179e"
             ],
             [
              0.4444444444444444,
              "#bd3786"
             ],
             [
              0.5555555555555556,
              "#d8576b"
             ],
             [
              0.6666666666666666,
              "#ed7953"
             ],
             [
              0.7777777777777778,
              "#fb9f3a"
             ],
             [
              0.8888888888888888,
              "#fdca26"
             ],
             [
              1,
              "#f0f921"
             ]
            ],
            "type": "histogram2dcontour"
           }
          ],
          "mesh3d": [
           {
            "colorbar": {
             "outlinewidth": 0,
             "ticks": ""
            },
            "type": "mesh3d"
           }
          ],
          "parcoords": [
           {
            "line": {
             "colorbar": {
              "outlinewidth": 0,
              "ticks": ""
             }
            },
            "type": "parcoords"
           }
          ],
          "pie": [
           {
            "automargin": true,
            "type": "pie"
           }
          ],
          "scatter": [
           {
            "fillpattern": {
             "fillmode": "overlay",
             "size": 10,
             "solidity": 0.2
            },
            "type": "scatter"
           }
          ],
          "scatter3d": [
           {
            "line": {
             "colorbar": {
              "outlinewidth": 0,
              "ticks": ""
             }
            },
            "marker": {
             "colorbar": {
              "outlinewidth": 0,
              "ticks": ""
             }
            },
            "type": "scatter3d"
           }
          ],
          "scattercarpet": [
           {
            "marker": {
             "colorbar": {
              "outlinewidth": 0,
              "ticks": ""
             }
            },
            "type": "scattercarpet"
           }
          ],
          "scattergeo": [
           {
            "marker": {
             "colorbar": {
              "outlinewidth": 0,
              "ticks": ""
             }
            },
            "type": "scattergeo"
           }
          ],
          "scattergl": [
           {
            "marker": {
             "colorbar": {
              "outlinewidth": 0,
              "ticks": ""
             }
            },
            "type": "scattergl"
           }
          ],
          "scattermap": [
           {
            "marker": {
             "colorbar": {
              "outlinewidth": 0,
              "ticks": ""
             }
            },
            "type": "scattermap"
           }
          ],
          "scattermapbox": [
           {
            "marker": {
             "colorbar": {
              "outlinewidth": 0,
              "ticks": ""
             }
            },
            "type": "scattermapbox"
           }
          ],
          "scatterpolar": [
           {
            "marker": {
             "colorbar": {
              "outlinewidth": 0,
              "ticks": ""
             }
            },
            "type": "scatterpolar"
           }
          ],
          "scatterpolargl": [
           {
            "marker": {
             "colorbar": {
              "outlinewidth": 0,
              "ticks": ""
             }
            },
            "type": "scatterpolargl"
           }
          ],
          "scatterternary": [
           {
            "marker": {
             "colorbar": {
              "outlinewidth": 0,
              "ticks": ""
             }
            },
            "type": "scatterternary"
           }
          ],
          "surface": [
           {
            "colorbar": {
             "outlinewidth": 0,
             "ticks": ""
            },
            "colorscale": [
             [
              0,
              "#0d0887"
             ],
             [
              0.1111111111111111,
              "#46039f"
             ],
             [
              0.2222222222222222,
              "#7201a8"
             ],
             [
              0.3333333333333333,
              "#9c179e"
             ],
             [
              0.4444444444444444,
              "#bd3786"
             ],
             [
              0.5555555555555556,
              "#d8576b"
             ],
             [
              0.6666666666666666,
              "#ed7953"
             ],
             [
              0.7777777777777778,
              "#fb9f3a"
             ],
             [
              0.8888888888888888,
              "#fdca26"
             ],
             [
              1,
              "#f0f921"
             ]
            ],
            "type": "surface"
           }
          ],
          "table": [
           {
            "cells": {
             "fill": {
              "color": "#EBF0F8"
             },
             "line": {
              "color": "white"
             }
            },
            "header": {
             "fill": {
              "color": "#C8D4E3"
             },
             "line": {
              "color": "white"
             }
            },
            "type": "table"
           }
          ]
         },
         "layout": {
          "annotationdefaults": {
           "arrowcolor": "#2a3f5f",
           "arrowhead": 0,
           "arrowwidth": 1
          },
          "autotypenumbers": "strict",
          "coloraxis": {
           "colorbar": {
            "outlinewidth": 0,
            "ticks": ""
           }
          },
          "colorscale": {
           "diverging": [
            [
             0,
             "#8e0152"
            ],
            [
             0.1,
             "#c51b7d"
            ],
            [
             0.2,
             "#de77ae"
            ],
            [
             0.3,
             "#f1b6da"
            ],
            [
             0.4,
             "#fde0ef"
            ],
            [
             0.5,
             "#f7f7f7"
            ],
            [
             0.6,
             "#e6f5d0"
            ],
            [
             0.7,
             "#b8e186"
            ],
            [
             0.8,
             "#7fbc41"
            ],
            [
             0.9,
             "#4d9221"
            ],
            [
             1,
             "#276419"
            ]
           ],
           "sequential": [
            [
             0,
             "#0d0887"
            ],
            [
             0.1111111111111111,
             "#46039f"
            ],
            [
             0.2222222222222222,
             "#7201a8"
            ],
            [
             0.3333333333333333,
             "#9c179e"
            ],
            [
             0.4444444444444444,
             "#bd3786"
            ],
            [
             0.5555555555555556,
             "#d8576b"
            ],
            [
             0.6666666666666666,
             "#ed7953"
            ],
            [
             0.7777777777777778,
             "#fb9f3a"
            ],
            [
             0.8888888888888888,
             "#fdca26"
            ],
            [
             1,
             "#f0f921"
            ]
           ],
           "sequentialminus": [
            [
             0,
             "#0d0887"
            ],
            [
             0.1111111111111111,
             "#46039f"
            ],
            [
             0.2222222222222222,
             "#7201a8"
            ],
            [
             0.3333333333333333,
             "#9c179e"
            ],
            [
             0.4444444444444444,
             "#bd3786"
            ],
            [
             0.5555555555555556,
             "#d8576b"
            ],
            [
             0.6666666666666666,
             "#ed7953"
            ],
            [
             0.7777777777777778,
             "#fb9f3a"
            ],
            [
             0.8888888888888888,
             "#fdca26"
            ],
            [
             1,
             "#f0f921"
            ]
           ]
          },
          "colorway": [
           "#636efa",
           "#EF553B",
           "#00cc96",
           "#ab63fa",
           "#FFA15A",
           "#19d3f3",
           "#FF6692",
           "#B6E880",
           "#FF97FF",
           "#FECB52"
          ],
          "font": {
           "color": "#2a3f5f"
          },
          "geo": {
           "bgcolor": "white",
           "lakecolor": "white",
           "landcolor": "#E5ECF6",
           "showlakes": true,
           "showland": true,
           "subunitcolor": "white"
          },
          "hoverlabel": {
           "align": "left"
          },
          "hovermode": "closest",
          "mapbox": {
           "style": "light"
          },
          "paper_bgcolor": "white",
          "plot_bgcolor": "#E5ECF6",
          "polar": {
           "angularaxis": {
            "gridcolor": "white",
            "linecolor": "white",
            "ticks": ""
           },
           "bgcolor": "#E5ECF6",
           "radialaxis": {
            "gridcolor": "white",
            "linecolor": "white",
            "ticks": ""
           }
          },
          "scene": {
           "xaxis": {
            "backgroundcolor": "#E5ECF6",
            "gridcolor": "white",
            "gridwidth": 2,
            "linecolor": "white",
            "showbackground": true,
            "ticks": "",
            "zerolinecolor": "white"
           },
           "yaxis": {
            "backgroundcolor": "#E5ECF6",
            "gridcolor": "white",
            "gridwidth": 2,
            "linecolor": "white",
            "showbackground": true,
            "ticks": "",
            "zerolinecolor": "white"
           },
           "zaxis": {
            "backgroundcolor": "#E5ECF6",
            "gridcolor": "white",
            "gridwidth": 2,
            "linecolor": "white",
            "showbackground": true,
            "ticks": "",
            "zerolinecolor": "white"
           }
          },
          "shapedefaults": {
           "line": {
            "color": "#2a3f5f"
           }
          },
          "ternary": {
           "aaxis": {
            "gridcolor": "white",
            "linecolor": "white",
            "ticks": ""
           },
           "baxis": {
            "gridcolor": "white",
            "linecolor": "white",
            "ticks": ""
           },
           "bgcolor": "#E5ECF6",
           "caxis": {
            "gridcolor": "white",
            "linecolor": "white",
            "ticks": ""
           }
          },
          "title": {
           "x": 0.05
          },
          "xaxis": {
           "automargin": true,
           "gridcolor": "white",
           "linecolor": "white",
           "ticks": "",
           "title": {
            "standoff": 15
           },
           "zerolinecolor": "white",
           "zerolinewidth": 2
          },
          "yaxis": {
           "automargin": true,
           "gridcolor": "white",
           "linecolor": "white",
           "ticks": "",
           "title": {
            "standoff": 15
           },
           "zerolinecolor": "white",
           "zerolinewidth": 2
          }
         }
        },
        "title": {
         "text": "Feature Distributions"
        },
        "width": 1100,
        "xaxis": {
         "anchor": "y",
         "domain": [
          0,
          0.2888888888888889
         ]
        },
        "xaxis10": {
         "anchor": "y10",
         "domain": [
          0,
          0.2888888888888889
         ]
        },
        "xaxis11": {
         "anchor": "y11",
         "domain": [
          0.35555555555555557,
          0.6444444444444445
         ]
        },
        "xaxis12": {
         "anchor": "y12",
         "domain": [
          0.7111111111111111,
          1
         ]
        },
        "xaxis13": {
         "anchor": "y13",
         "domain": [
          0,
          0.2888888888888889
         ]
        },
        "xaxis14": {
         "anchor": "y14",
         "domain": [
          0.35555555555555557,
          0.6444444444444445
         ]
        },
        "xaxis15": {
         "anchor": "y15",
         "domain": [
          0.7111111111111111,
          1
         ]
        },
        "xaxis2": {
         "anchor": "y2",
         "domain": [
          0.35555555555555557,
          0.6444444444444445
         ]
        },
        "xaxis3": {
         "anchor": "y3",
         "domain": [
          0.7111111111111111,
          1
         ]
        },
        "xaxis4": {
         "anchor": "y4",
         "domain": [
          0,
          0.2888888888888889
         ]
        },
        "xaxis5": {
         "anchor": "y5",
         "domain": [
          0.35555555555555557,
          0.6444444444444445
         ]
        },
        "xaxis6": {
         "anchor": "y6",
         "domain": [
          0.7111111111111111,
          1
         ]
        },
        "xaxis7": {
         "anchor": "y7",
         "domain": [
          0,
          0.2888888888888889
         ]
        },
        "xaxis8": {
         "anchor": "y8",
         "domain": [
          0.35555555555555557,
          0.6444444444444445
         ]
        },
        "xaxis9": {
         "anchor": "y9",
         "domain": [
          0.7111111111111111,
          1
         ]
        },
        "yaxis": {
         "anchor": "x",
         "domain": [
          0.88,
          1
         ]
        },
        "yaxis10": {
         "anchor": "x10",
         "domain": [
          0.22,
          0.33999999999999997
         ]
        },
        "yaxis11": {
         "anchor": "x11",
         "domain": [
          0.22,
          0.33999999999999997
         ]
        },
        "yaxis12": {
         "anchor": "x12",
         "domain": [
          0.22,
          0.33999999999999997
         ]
        },
        "yaxis13": {
         "anchor": "x13",
         "domain": [
          0,
          0.12
         ]
        },
        "yaxis14": {
         "anchor": "x14",
         "domain": [
          0,
          0.12
         ]
        },
        "yaxis15": {
         "anchor": "x15",
         "domain": [
          0,
          0.12
         ]
        },
        "yaxis2": {
         "anchor": "x2",
         "domain": [
          0.88,
          1
         ]
        },
        "yaxis3": {
         "anchor": "x3",
         "domain": [
          0.88,
          1
         ]
        },
        "yaxis4": {
         "anchor": "x4",
         "domain": [
          0.66,
          0.78
         ]
        },
        "yaxis5": {
         "anchor": "x5",
         "domain": [
          0.66,
          0.78
         ]
        },
        "yaxis6": {
         "anchor": "x6",
         "domain": [
          0.66,
          0.78
         ]
        },
        "yaxis7": {
         "anchor": "x7",
         "domain": [
          0.44,
          0.56
         ]
        },
        "yaxis8": {
         "anchor": "x8",
         "domain": [
          0.44,
          0.56
         ]
        },
        "yaxis9": {
         "anchor": "x9",
         "domain": [
          0.44,
          0.56
         ]
        }
       }
      }
     },
     "metadata": {},
     "output_type": "display_data"
    }
   ],
   "source": [
    "plotter.plot_features(\n",
    "    df, \n",
    "    df.columns, \n",
    "    plot_type= 'Box',\n",
    "    num_columns=3, \n",
    "    plot_title='Feature Distributions'\n",
    ")"
   ]
  },
  {
   "cell_type": "markdown",
   "metadata": {},
   "source": [
    "#### **On outliers**\n",
    "\n",
    "Inspection of the distributions above informs us that the variables appear more or less normal, with very few abnormal values. Despite the possibility of treating these values, this is fundamentally a problem of learning the best representation of the target variable (**WEIGHT**) using other features. There is no strong reason to assume that outliers, even if present, necessarily break the proportional relationships inherent to animal morphology.\n",
    "\n",
    "Moreover, the **WEIGHT** variable follows a visibly normal distribution. Barring pathological cases—such as an animal with near-zero fitness, or, say, a chicken that has suffered severe physical trauma and lost a significant portion of its body mass—there is no biological or statistical rationale to exclude or transform these points.\n",
    "\n",
    "Thus, we retain all observations, positing — for now — that outliers are not noise to be removed but potential expressions of the natural variation in the population, which a good model would learn to account for. Albeit, naturally, we will revise this approach in a later instance.\n"
   ]
  },
  {
   "cell_type": "markdown",
   "metadata": {},
   "source": [
    "#### **On missing values**\n",
    "\n",
    "Given the well behaved distributions of our features, we can easily and confidently use a Nearest Neighbours approach to fill our missing values."
   ]
  },
  {
   "cell_type": "code",
   "execution_count": 23,
   "metadata": {},
   "outputs": [],
   "source": [
    "df = imputer.knn_impute(df, n_neighbors=5)"
   ]
  },
  {
   "cell_type": "markdown",
   "metadata": {},
   "source": [
    "Inspecting the resulting imputations, they map more or less to the median value, so an even simpler strategy could have been pursued with **SimpleImputer**, and **mode=median**."
   ]
  },
  {
   "cell_type": "markdown",
   "metadata": {},
   "source": [
    "## 3. Initialization\n",
    "\n",
    "- Creates training splits\n",
    "- Initializes the Genetic Programming (GP) model.\n",
    "- Sets up logging mechanisms for tracking progress and results.\n",
    "- Prepares validation logic and supporting utilities."
   ]
  },
  {
   "cell_type": "markdown",
   "metadata": {},
   "source": [
    "### Folds and splits"
   ]
  },
  {
   "cell_type": "code",
   "execution_count": 24,
   "metadata": {},
   "outputs": [],
   "source": [
    "# Get the seed and splits\n",
    "seed = sys_params['random_seed']\n",
    "k_outter = data_params['inner_folds']\n",
    "k_inner = data_params['inner_folds']\n",
    "\n",
    "# Make the folds\n",
    "outter_cv = KFold(\n",
    "    n_splits=k_outter, \n",
    "    random_state=seed, \n",
    "    shuffle=True\n",
    ")\n",
    "\n",
    "inner_cv = KFold(\n",
    "    n_splits=k_inner, \n",
    "    random_state=seed, \n",
    "    shuffle=True\n",
    ")"
   ]
  },
  {
   "cell_type": "markdown",
   "metadata": {},
   "source": [
    "### Setting the target\n",
    "\n",
    "We now set out target and convert to Tensors."
   ]
  },
  {
   "cell_type": "code",
   "execution_count": 25,
   "metadata": {},
   "outputs": [
    {
     "data": {
      "text/plain": [
       "(tensor([[2.2233e+03, 1.4296e+03, 1.7256e+03,  ..., 4.7176e+01, 1.3170e+01,\n",
       "          3.8000e-01],\n",
       "         [2.2019e+03, 1.4502e+03, 1.7698e+03,  ..., 4.5273e+01, 9.7810e+00,\n",
       "          1.6600e+00],\n",
       "         [2.1599e+03, 1.3984e+03, 1.7249e+03,  ..., 4.9286e+01, 6.2170e+00,\n",
       "          9.8000e-01],\n",
       "         ...,\n",
       "         [2.6482e+03, 1.7229e+03, 2.0500e+03,  ..., 4.9700e+01, 7.3320e+00,\n",
       "          1.9100e+00],\n",
       "         [2.2626e+03, 1.4985e+03, 1.8139e+03,  ..., 4.6816e+01, 5.4250e+00,\n",
       "          2.2100e+00],\n",
       "         [2.7043e+03, 1.6988e+03, 2.0388e+03,  ..., 7.5767e+01, 7.4200e+00,\n",
       "          1.5100e+00]]),\n",
       " tensor([86.1055, 86.1435, 86.4169, 85.9599, 81.6936, 87.5331, 86.8410, 88.2468,\n",
       "         87.5399, 88.1924, 87.7862, 86.2464, 86.1611, 86.5115, 86.8366, 84.9951,\n",
       "         86.3812, 88.5102, 85.0129, 85.9784, 88.9662, 84.7507, 87.1134, 87.2657,\n",
       "         85.5097, 87.1627, 84.8371, 86.8986, 87.4809, 88.2095, 83.4647, 86.3373,\n",
       "         86.5872, 87.8968, 88.5642, 87.4188, 87.9764, 84.6742, 73.8372, 85.9425,\n",
       "         86.5554, 87.6478, 87.5996, 86.1728, 88.3539, 87.2642, 86.7197, 85.2699,\n",
       "         87.7586, 87.8977, 88.1691, 88.4375, 87.1276, 87.5950, 87.9379, 86.5774,\n",
       "         87.3628, 88.5818, 89.5304, 87.1476, 87.9669, 87.8043, 86.0451, 88.7219,\n",
       "         88.3917, 89.0096, 85.0285, 87.2786, 87.5549, 87.4504, 88.3307, 89.0777,\n",
       "         86.8685, 89.4476, 88.6088, 87.6669, 87.6940, 89.0107, 89.6245, 89.4860,\n",
       "         88.9843, 88.4306, 88.6367, 90.2405, 86.5774, 87.4385, 88.9093, 88.7257,\n",
       "         88.8421, 88.8315, 87.8210, 88.9991, 88.5073, 90.3756, 91.2113, 88.8250]))"
      ]
     },
     "execution_count": 25,
     "metadata": {},
     "output_type": "execute_result"
    }
   ],
   "source": [
    "X = torch.tensor(\n",
    "    np.delete(\n",
    "        df.values, \n",
    "        -2, \n",
    "        axis=1\n",
    "    ), \n",
    "    dtype=torch.float32\n",
    ")  \n",
    "\n",
    "y = torch.tensor(\n",
    "    df.values[:, -2], \n",
    "    dtype=torch.float32\n",
    ")  \n",
    "\n",
    "X, y"
   ]
  },
  {
   "cell_type": "code",
   "execution_count": 26,
   "metadata": {},
   "outputs": [
    {
     "name": "stdout",
     "output_type": "stream",
     "text": [
      "Total Instances:\t96\n",
      "--\n",
      "Outer Train set:\t77\n",
      "Test set:\t\t19\n",
      "--\n",
      "Inner Train set:\t62\n",
      "Validation set:\t\t15\n",
      "\n"
     ]
    }
   ],
   "source": [
    "total_instances = X.shape[0]\n",
    "outer_test_size = total_instances // k_outter\n",
    "outer_train_size = total_instances - outer_test_size\n",
    "inner_val_size = outer_train_size // k_inner\n",
    "inner_train_size = outer_train_size - inner_val_size\n",
    "\n",
    "print(f'Total Instances:\\t{total_instances}\\n--')\n",
    "print(f'Outer Train set:\\t{outer_train_size}')\n",
    "print(f'Test set:\\t\\t{outer_test_size}\\n--')\n",
    "print(f'Inner Train set:\\t{inner_train_size}')\n",
    "print(f'Validation set:\\t\\t{inner_val_size}\\n')\n"
   ]
  },
  {
   "cell_type": "markdown",
   "metadata": {},
   "source": [
    "## 4. Model fitting with Hyperparameter Tuning\n",
    "\n",
    "- Runs the symbolic regression, making use of nested cross validation with kfolds to optimize for model parameters and hyperparameter.\n",
    "- Evolves expressions to minimize prediction error.\n",
    "- Tracks progress and logs intermediate results."
   ]
  },
  {
   "cell_type": "markdown",
   "metadata": {},
   "source": [
    "### Splits"
   ]
  },
  {
   "cell_type": "code",
   "execution_count": 27,
   "metadata": {},
   "outputs": [],
   "source": [
    "# Enumerating the outer splits\n",
    "data_cv_outer = [\n",
    "    [learning_ix, test_ix] for learning_ix, test_ix in outter_cv.split(X, y)\n",
    "]"
   ]
  },
  {
   "cell_type": "code",
   "execution_count": 28,
   "metadata": {},
   "outputs": [
    {
     "name": "stdout",
     "output_type": "stream",
     "text": [
      "\n",
      "-----------------------------------------\n",
      "\n",
      "Outer CV\n",
      "Learning shape: torch.Size([76, 13])\n",
      "Test shape: torch.Size([20, 13])\n",
      "\n"
     ]
    }
   ],
   "source": [
    "# Asserting Outer CV\n",
    "learning_ix, test_ix = data_cv_outer[0]\n",
    "\n",
    "X_learning = X[learning_ix]\n",
    "y_learning = y[learning_ix]\n",
    "X_test = X[test_ix]\n",
    "y_test = y[test_ix]\n",
    "\n",
    "print('\\n' + '-' * 41 + '\\n')\n",
    "print(f'Outer CV\\nLearning shape: {X_learning.shape}\\nTest shape: {X_test.shape}\\n')"
   ]
  },
  {
   "cell_type": "code",
   "execution_count": 29,
   "metadata": {},
   "outputs": [],
   "source": [
    "# Enumerating the inner splits\n",
    "data_cv_inner = [[train_ix, val_ix] for train_ix, val_ix in inner_cv.split(X_learning, y_learning)]"
   ]
  },
  {
   "cell_type": "markdown",
   "metadata": {},
   "source": [
    "### Model Fitting"
   ]
  },
  {
   "cell_type": "code",
   "execution_count": 30,
   "metadata": {},
   "outputs": [
    {
     "name": "stdout",
     "output_type": "stream",
     "text": [
      "-----\n",
      "Inner CV 0\n",
      "Training shape: torch.Size([60, 13])\n",
      "Validation shape: torch.Size([16, 13])\n",
      "\n",
      "Verbose Reporter\n",
      "-----------------------------------------------------------------------------------------------------------------------------------------\n",
      "|         Dataset         |  Generation  |     Train Fitness     |       Test Fitness       |        Timing          |      Nodes       |\n",
      "-----------------------------------------------------------------------------------------------------------------------------------------\n",
      "|     sustavianfeed       |       0      |   52.40753936767578   |   50.06377410888672      |   0.0034301280975341797|      3           |\n",
      "|     sustavianfeed       |       1      |   52.40753936767578   |   50.06377410888672      |   0.005820751190185547 |      3           |\n",
      "|     sustavianfeed       |       2      |   52.40753936767578   |   50.06377410888672      |   0.00493168830871582  |      3           |\n",
      "|     sustavianfeed       |       3      |   52.38663101196289   |   50.04311752319336      |   0.005071163177490234 |      43          |\n",
      "|     sustavianfeed       |       4      |   52.38663101196289   |   50.04311752319336      |   0.005359172821044922 |      43          |\n",
      "|     sustavianfeed       |       5      |   52.326560974121094  |   49.98329544067383      |   0.004997730255126953 |      201         |\n",
      "|     sustavianfeed       |       6      |   52.326560974121094  |   49.98329544067383      |   0.005195140838623047 |      201         |\n",
      "|     sustavianfeed       |       7      |   52.32554244995117   |   49.9822883605957       |   0.005561351776123047 |      207         |\n",
      "|     sustavianfeed       |       8      |   52.28304672241211   |   49.93943786621094      |   0.005774021148681641 |      1073        |\n",
      "|     sustavianfeed       |       9      |   52.20874786376953   |   49.86602783203125      |   0.01124715805053711  |      213         |\n",
      "|     sustavianfeed       |       10     |   52.20874786376953   |   49.86602783203125      |   0.0060236454010009766|      213         |\n",
      "|     sustavianfeed       |       11     |   52.20874786376953   |   49.86602783203125      |   0.006056547164916992 |      213         |\n",
      "|     sustavianfeed       |       12     |   52.20874786376953   |   49.86602783203125      |   0.006040096282958984 |      213         |\n",
      "|     sustavianfeed       |       13     |   52.17316818237305   |   49.83001708984375      |   0.0055010318756103516|      4063        |\n",
      "|     sustavianfeed       |       14     |   52.17316818237305   |   49.83001708984375      |   0.006092548370361328 |      4063        |\n",
      "|     sustavianfeed       |       15     |   52.17316818237305   |   49.83001708984375      |   0.005645036697387695 |      4063        |\n",
      "|     sustavianfeed       |       16     |   52.15997314453125   |   49.8168830871582       |   0.005753755569458008 |      4073        |\n",
      "|     sustavianfeed       |       17     |   52.15422058105469   |   49.811161041259766     |   0.005996227264404297 |      4069        |\n",
      "|     sustavianfeed       |       18     |   52.15422058105469   |   49.811161041259766     |   0.004922628402709961 |      4069        |\n",
      "|     sustavianfeed       |       19     |   52.15422058105469   |   49.811161041259766     |   0.005326509475708008 |      4069        |\n",
      "|     sustavianfeed       |       20     |   52.10626983642578   |   49.763431549072266     |   0.005414485931396484 |      246099      |\n",
      "|     sustavianfeed       |       21     |   52.10626983642578   |   49.763431549072266     |   0.004694938659667969 |      246099      |\n",
      "|     sustavianfeed       |       22     |   52.05673599243164   |   49.71413040161133      |   0.005625724792480469 |      751029      |\n",
      "|     sustavianfeed       |       23     |   52.05673599243164   |   49.71413040161133      |   0.005048036575317383 |      751029      |\n",
      "|     sustavianfeed       |       24     |   52.014034271240234  |   49.671627044677734     |   0.004579305648803711 |      751037      |\n",
      "|     sustavianfeed       |       25     |   52.014034271240234  |   49.671627044677734     |   0.004506587982177734 |      751037      |\n",
      "|     sustavianfeed       |       26     |   51.95999526977539   |   49.61907196044922      |   0.004658699035644531 |      4165227     |\n",
      "|     sustavianfeed       |       27     |   51.95999526977539   |   49.61907196044922      |   0.0058977603912353516|      4165227     |\n",
      "|     sustavianfeed       |       28     |   51.95999526977539   |   49.61907196044922      |   0.004938840866088867 |      4165227     |\n",
      "|     sustavianfeed       |       29     |   51.95999526977539   |   49.61907196044922      |   0.0046024322509765625|      4165227     |\n",
      "|     sustavianfeed       |       30     |   51.944183349609375  |   49.60251998901367      |   0.006041049957275391 |      42938679    |\n",
      "|     sustavianfeed       |       31     |   51.944183349609375  |   49.60251998901367      |   0.005248069763183594 |      42938679    |\n",
      "|     sustavianfeed       |       32     |   51.91229248046875   |   49.571510314941406     |   0.005043506622314453 |      161002183   |\n",
      "|     sustavianfeed       |       33     |   51.91229248046875   |   49.571510314941406     |   0.004994392395019531 |      161002183   |\n",
      "|     sustavianfeed       |       34     |   51.91229248046875   |   49.571510314941406     |   0.005585432052612305 |      161002183   |\n",
      "|     sustavianfeed       |       35     |   51.91229248046875   |   49.571510314941406     |   0.005586147308349609 |      161002183   |\n",
      "|     sustavianfeed       |       36     |   51.8515510559082    |   49.51104736328125      |   0.0049359798431396484|      1299198221  |\n",
      "|     sustavianfeed       |       37     |   51.8515510559082    |   49.51104736328125      |   0.004431009292602539 |      1299198221  |\n",
      "|     sustavianfeed       |       38     |   51.77864074707031   |   49.4384880065918       |   0.0053234100341796875|      3864479645  |\n",
      "|     sustavianfeed       |       39     |   51.68753433227539   |   49.34780502319336      |   0.0049285888671875   |      3864479651  |\n",
      "|     sustavianfeed       |       40     |   51.68753433227539   |   49.34780502319336      |   0.0048065185546875   |      3864479651  |\n",
      "|     sustavianfeed       |       41     |   51.68753433227539   |   49.34780502319336      |   0.004930257797241211 |      3864479651  |\n",
      "|     sustavianfeed       |       42     |   51.68753433227539   |   49.34780502319336      |   0.005003690719604492 |      3864479651  |\n",
      "|     sustavianfeed       |       43     |   51.632667541503906  |   49.29319763183594      |   0.0051288604736328125|      3864479657  |\n",
      "|     sustavianfeed       |       44     |   51.632667541503906  |   49.29319763183594      |   0.004770040512084961 |      3864479657  |\n",
      "|     sustavianfeed       |       45     |   51.632667541503906  |   49.29319763183594      |   0.0052967071533203125|      3864479657  |\n",
      "|     sustavianfeed       |       46     |   51.63188171386719   |   49.292415618896484     |   0.0049784183502197266|      3864479663  |\n",
      "|     sustavianfeed       |       47     |   51.604042053222656  |   49.26405334472656      |   0.0051424503326416016|      292890845077|\n",
      "|     sustavianfeed       |       48     |   51.604042053222656  |   49.26405334472656      |   0.004833698272705078 |      292890845077|\n",
      "|     sustavianfeed       |       49     |   51.604042053222656  |   49.26405334472656      |   0.004856586456298828 |      292890845077|\n",
      "|     sustavianfeed       |       50     |   51.604042053222656  |   49.26405334472656      |   0.004419088363647461 |      292890845077|\n",
      "|     sustavianfeed       |       51     |   51.604042053222656  |   49.26405334472656      |   0.005127906799316406 |      292890845077|\n",
      "|     sustavianfeed       |       52     |   51.53600311279297   |   49.19657897949219      |   0.004605770111083984 |      3812382980995|\n",
      "|     sustavianfeed       |       53     |   51.53600311279297   |   49.19657897949219      |   0.004738807678222656 |      3812382980995|\n",
      "|     sustavianfeed       |       54     |   51.53600311279297   |   49.19657897949219      |   0.0051424503326416016|      3812382980995|\n",
      "|     sustavianfeed       |       55     |   51.53600311279297   |   49.19657897949219      |   0.005011081695556641 |      3812382980995|\n",
      "|     sustavianfeed       |       56     |   51.53600311279297   |   49.19657897949219      |   0.004883766174316406 |      3812382980995|\n",
      "|     sustavianfeed       |       57     |   51.515220642089844  |   49.17597961425781      |   0.004607200622558594 |      26274102693589|\n",
      "|     sustavianfeed       |       58     |   51.49910354614258   |   49.15934371948242      |   0.004381418228149414 |      26888260625423|\n",
      "|     sustavianfeed       |       59     |   51.49910354614258   |   49.15934371948242      |   0.005070924758911133 |      26888260625423|\n",
      "|     sustavianfeed       |       60     |   51.479095458984375  |   49.140010833740234     |   0.004453420639038086 |      82106261490075|\n",
      "|     sustavianfeed       |       61     |   51.479095458984375  |   49.140010833740234     |   0.004897356033325195 |      82106261490075|\n",
      "|     sustavianfeed       |       62     |   51.479095458984375  |   49.140010833740234     |   0.005183696746826172 |      82106261490075|\n",
      "|     sustavianfeed       |       63     |   51.479095458984375  |   49.140010833740234     |   0.004501819610595703 |      82106261490075|\n",
      "|     sustavianfeed       |       64     |   51.46644973754883   |   49.127254486083984     |   0.004631519317626953 |      446480694768195|\n",
      "|     sustavianfeed       |       65     |   51.45516586303711   |   49.1161994934082       |   0.004780769348144531 |      1827811795541641|\n",
      "|     sustavianfeed       |       66     |   51.428775787353516  |   49.08991622924805      |   0.0053064823150634766|      1827811795541647|\n",
      "|     sustavianfeed       |       67     |   51.428775787353516  |   49.08991622924805      |   0.004858732223510742 |      1827811795541647|\n",
      "|     sustavianfeed       |       68     |   51.428775787353516  |   49.08991622924805      |   0.004477977752685547 |      1827811795541647|\n",
      "|     sustavianfeed       |       69     |   51.41651916503906   |   49.077579498291016     |   0.005106687545776367 |      14773856386681785|\n",
      "|     sustavianfeed       |       70     |   51.41651916503906   |   49.077579498291016     |   0.004456996917724609 |      14773856386681785|\n",
      "|     sustavianfeed       |       71     |   51.41651916503906   |   49.077579498291016     |   0.004210233688354492 |      14773856386681785|\n",
      "|     sustavianfeed       |       72     |   51.41651916503906   |   49.077579498291016     |   0.004837512969970703 |      14773856386681785|\n",
      "|     sustavianfeed       |       73     |   51.41651916503906   |   49.077579498291016     |   0.004471778869628906 |      14773856386681785|\n",
      "|     sustavianfeed       |       74     |   51.41651916503906   |   49.077579498291016     |   0.005743265151977539 |      14773856386681785|\n",
      "|     sustavianfeed       |       75     |   51.339599609375     |   49.00030517578125      |   0.0047931671142578125|      134126589468400447|\n",
      "|     sustavianfeed       |       76     |   51.29595184326172   |   48.956424713134766     |   0.004644155502319336 |      523453599163830953|\n",
      "|     sustavianfeed       |       77     |   51.29595184326172   |   48.956424713134766     |   0.004279136657714844 |      523453599163830953|\n",
      "|     sustavianfeed       |       78     |   51.274192810058594  |   48.93477249145508      |   0.0039327144622802734|      1029283579481019039|\n",
      "|     sustavianfeed       |       79     |   51.274192810058594  |   48.93477249145508      |   0.004266262054443359 |      1029283579481019039|\n",
      "|     sustavianfeed       |       80     |   51.27283477783203   |   48.93365478515625      |   0.004249095916748047 |      4711016000969858203|\n",
      "|     sustavianfeed       |       81     |   51.267822265625     |   48.928428649902344     |   0.004595756530761719 |      5295656417684420317|\n",
      "|     sustavianfeed       |       82     |   51.267822265625     |   48.928428649902344     |   0.004521846771240234 |      5295656417684420317|\n",
      "|     sustavianfeed       |       83     |   51.258338928222656  |   48.919158935546875     |   0.0047261714935302734|      15569514901694987437|\n",
      "|     sustavianfeed       |       84     |   51.25310134887695   |   48.91387176513672      |   0.00513005256652832  |      24686238630377900601|\n",
      "|     sustavianfeed       |       85     |   51.24011993408203   |   48.900909423828125     |   0.004819631576538086 |      24330415112318187207|\n",
      "|     sustavianfeed       |       86     |   51.205772399902344  |   48.86676788330078      |   0.00475764274597168  |      24686238630377900607|\n",
      "|     sustavianfeed       |       87     |   51.20497131347656   |   48.865928649902344     |   0.004841804504394531 |      24330415112318187213|\n",
      "|     sustavianfeed       |       88     |   51.20497131347656   |   48.865928649902344     |   0.004727840423583984 |      24330415112318187213|\n",
      "|     sustavianfeed       |       89     |   51.20497131347656   |   48.865928649902344     |   0.004690408706665039 |      24330415112318187213|\n",
      "|     sustavianfeed       |       90     |   51.187965393066406  |   48.84903335571289      |   0.004835844039916992 |      441022614711785358891|\n",
      "|     sustavianfeed       |       91     |   51.173004150390625  |   48.83414840698242      |   0.0049779415130615234|      1652367111823886314599|\n",
      "|     sustavianfeed       |       92     |   51.08644104003906   |   48.74800109863281      |   0.004979610443115234 |      1652367111823886314607|\n",
      "|     sustavianfeed       |       93     |   51.08644104003906   |   48.74800109863281      |   0.004821062088012695 |      1652367111823886314607|\n",
      "|     sustavianfeed       |       94     |   51.068660736083984  |   48.730308532714844     |   0.004601955413818359 |      4236279742165115055305|\n",
      "|     sustavianfeed       |       95     |   51.068660736083984  |   48.730308532714844     |   0.00466609001159668  |      4236279742165115055305|\n",
      "|     sustavianfeed       |       96     |   51.068660736083984  |   48.730308532714844     |   0.004468441009521484 |      4236279742165115055305|\n",
      "|     sustavianfeed       |       97     |   51.068660736083984  |   48.730308532714844     |   0.004418373107910156 |      4236279742165115055305|\n",
      "|     sustavianfeed       |       98     |   51.05660629272461   |   48.71826934814453      |   0.0047376155853271484|      55749043481319134446363|\n",
      "|     sustavianfeed       |       99     |   51.05660629272461   |   48.71826934814453      |   0.004511117935180664 |      55749043481319134446363|\n",
      "|     sustavianfeed       |       100    |   51.01546096801758   |   48.67735290527344      |   0.004143953323364258 |      133482237965153480282821|\n",
      "Verbose Reporter\n",
      "-----------------------------------------------------------------------------------------------------------------------------------------\n",
      "|         Dataset         |  Generation  |     Train Fitness     |       Test Fitness       |        Timing          |      Nodes       |\n",
      "-----------------------------------------------------------------------------------------------------------------------------------------\n",
      "|     sustavianfeed       |       0      |   52.40753936767578   |   50.06377410888672      |   0.002405881881713867 |      3           |\n",
      "|     sustavianfeed       |       1      |   52.40753936767578   |   50.06377410888672      |   0.0048122406005859375|      3           |\n",
      "|     sustavianfeed       |       2      |   52.40753936767578   |   50.06377410888672      |   0.0040700435638427734|      3           |\n",
      "|     sustavianfeed       |       3      |   52.38140106201172   |   50.0379524230957       |   0.004472255706787109 |      43          |\n",
      "|     sustavianfeed       |       4      |   52.38140106201172   |   50.0379524230957       |   0.0047419071197509766|      43          |\n",
      "|     sustavianfeed       |       5      |   52.306312561035156  |   49.96317672729492      |   0.004340648651123047 |      201         |\n",
      "|     sustavianfeed       |       6      |   52.306312561035156  |   49.96317672729492      |   0.004274845123291016 |      201         |\n",
      "|     sustavianfeed       |       7      |   52.3050422668457    |   49.961910247802734     |   0.0055658817291259766|      207         |\n",
      "|     sustavianfeed       |       8      |   52.251708984375     |   49.908267974853516     |   0.004988193511962891 |      1073        |\n",
      "|     sustavianfeed       |       9      |   52.15904998779297   |   49.816593170166016     |   0.004815340042114258 |      213         |\n",
      "|     sustavianfeed       |       10     |   52.15904998779297   |   49.816593170166016     |   0.004794597625732422 |      213         |\n",
      "|     sustavianfeed       |       11     |   52.15904998779297   |   49.816593170166016     |   0.005277156829833984 |      213         |\n",
      "|     sustavianfeed       |       12     |   52.15904998779297   |   49.816593170166016     |   0.00487828254699707  |      213         |\n",
      "|     sustavianfeed       |       13     |   52.11442184448242   |   49.77147674560547      |   0.004445791244506836 |      4063        |\n",
      "|     sustavianfeed       |       14     |   52.11442184448242   |   49.77147674560547      |   0.0058460235595703125|      4063        |\n",
      "|     sustavianfeed       |       15     |   52.11442184448242   |   49.77147674560547      |   0.004959821701049805 |      4063        |\n",
      "|     sustavianfeed       |       16     |   52.09792709350586   |   49.75505828857422      |   0.004736900329589844 |      4073        |\n",
      "|     sustavianfeed       |       17     |   52.09074020385742   |   49.74790573120117      |   0.004698753356933594 |      4069        |\n",
      "|     sustavianfeed       |       18     |   52.09074020385742   |   49.74790573120117      |   0.004033565521240234 |      4069        |\n",
      "|     sustavianfeed       |       19     |   52.09074020385742   |   49.74790573120117      |   0.004547595977783203 |      4069        |\n",
      "|     sustavianfeed       |       20     |   52.03080368041992   |   49.68825149536133      |   0.005232810974121094 |      246099      |\n",
      "|     sustavianfeed       |       21     |   52.03080368041992   |   49.68825149536133      |   0.004085063934326172 |      246099      |\n",
      "|     sustavianfeed       |       22     |   51.96889114379883   |   49.626625061035156     |   0.004650115966796875 |      751029      |\n",
      "|     sustavianfeed       |       23     |   51.96889114379883   |   49.626625061035156     |   0.004300355911254883 |      751029      |\n",
      "|     sustavianfeed       |       24     |   51.91551208496094   |   49.5734977722168       |   0.00435948371887207  |      751037      |\n",
      "|     sustavianfeed       |       25     |   51.91551208496094   |   49.5734977722168       |   0.0042002201080322266|      751037      |\n",
      "|     sustavianfeed       |       26     |   51.847965240478516  |   49.5078125             |   0.00433039665222168  |      4165227     |\n",
      "|     sustavianfeed       |       27     |   51.847965240478516  |   49.5078125             |   0.004653453826904297 |      4165227     |\n",
      "|     sustavianfeed       |       28     |   51.847965240478516  |   49.5078125             |   0.004578590393066406 |      4165227     |\n",
      "|     sustavianfeed       |       29     |   51.847965240478516  |   49.5078125             |   0.00414276123046875  |      4165227     |\n",
      "|     sustavianfeed       |       30     |   51.828208923339844  |   49.48712158203125      |   0.0046575069427490234|      42938679    |\n",
      "|     sustavianfeed       |       31     |   51.828208923339844  |   49.48712158203125      |   0.00471949577331543  |      42938679    |\n",
      "|     sustavianfeed       |       32     |   51.78834533691406   |   49.448360443115234     |   0.004709005355834961 |      161002183   |\n",
      "|     sustavianfeed       |       33     |   51.78834533691406   |   49.448360443115234     |   0.0044209957122802734|      161002183   |\n",
      "|     sustavianfeed       |       34     |   51.78834533691406   |   49.448360443115234     |   0.004561185836791992 |      161002183   |\n",
      "|     sustavianfeed       |       35     |   51.78834533691406   |   49.448360443115234     |   0.0046541690826416016|      161002183   |\n",
      "|     sustavianfeed       |       36     |   51.71241760253906   |   49.3727912902832       |   0.004628896713256836 |      1299198221  |\n",
      "|     sustavianfeed       |       37     |   51.71241760253906   |   49.3727912902832       |   0.004140615463256836 |      1299198221  |\n",
      "|     sustavianfeed       |       38     |   51.62128829956055   |   49.28209686279297      |   0.0049054622650146484|      3864479645  |\n",
      "|     sustavianfeed       |       39     |   51.50740432739258   |   49.16875457763672      |   0.004337787628173828 |      3864479651  |\n",
      "|     sustavianfeed       |       40     |   51.50740432739258   |   49.16875457763672      |   0.004250764846801758 |      3864479651  |\n",
      "|     sustavianfeed       |       41     |   51.50740432739258   |   49.16875457763672      |   0.004652261734008789 |      3864479651  |\n",
      "|     sustavianfeed       |       42     |   51.50740432739258   |   49.16875457763672      |   0.0043392181396484375|      3864479651  |\n",
      "|     sustavianfeed       |       43     |   51.43882369995117   |   49.100502014160156     |   0.004625558853149414 |      3864479657  |\n",
      "|     sustavianfeed       |       44     |   51.43882369995117   |   49.100502014160156     |   0.004372835159301758 |      3864479657  |\n",
      "|     sustavianfeed       |       45     |   51.43882369995117   |   49.100502014160156     |   0.004793405532836914 |      3864479657  |\n",
      "|     sustavianfeed       |       46     |   51.437843322753906  |   49.09952163696289      |   0.004712104797363281 |      3864479663  |\n",
      "|     sustavianfeed       |       47     |   51.40304946899414   |   49.06407165527344      |   0.004982709884643555 |      292890845077|\n",
      "|     sustavianfeed       |       48     |   51.40304946899414   |   49.06407165527344      |   0.005381584167480469 |      292890845077|\n",
      "|     sustavianfeed       |       49     |   51.40304946899414   |   49.06407165527344      |   0.005497455596923828 |      292890845077|\n",
      "|     sustavianfeed       |       50     |   51.40304946899414   |   49.06407165527344      |   0.0043795108795166016|      292890845077|\n",
      "|     sustavianfeed       |       51     |   51.40304946899414   |   49.06407165527344      |   0.008009672164916992 |      292890845077|\n",
      "|     sustavianfeed       |       52     |   51.31800842285156   |   48.979736328125        |   0.005095958709716797 |      3812382980995|\n",
      "|     sustavianfeed       |       53     |   51.31800842285156   |   48.979736328125        |   0.004998445510864258 |      3812382980995|\n",
      "|     sustavianfeed       |       54     |   51.31800842285156   |   48.979736328125        |   0.005498170852661133 |      3812382980995|\n",
      "|     sustavianfeed       |       55     |   51.31800842285156   |   48.979736328125        |   0.005525350570678711 |      3812382980995|\n",
      "|     sustavianfeed       |       56     |   51.31800842285156   |   48.979736328125        |   0.00565791130065918  |      3812382980995|\n",
      "|     sustavianfeed       |       57     |   51.292022705078125  |   48.9539909362793       |   0.004427909851074219 |      26274102693589|\n",
      "|     sustavianfeed       |       58     |   51.27188491821289   |   48.93320083618164      |   0.004331827163696289 |      26888260625423|\n",
      "|     sustavianfeed       |       59     |   51.27188491821289   |   48.93320083618164      |   0.00467991828918457  |      26888260625423|\n",
      "|     sustavianfeed       |       60     |   51.24687576293945   |   48.909034729003906     |   0.004434347152709961 |      82106261490075|\n",
      "|     sustavianfeed       |       61     |   51.24687576293945   |   48.909034729003906     |   0.004515886306762695 |      82106261490075|\n",
      "|     sustavianfeed       |       62     |   51.24687576293945   |   48.909034729003906     |   0.004759311676025391 |      82106261490075|\n",
      "|     sustavianfeed       |       63     |   51.24687576293945   |   48.909034729003906     |   0.004303932189941406 |      82106261490075|\n",
      "|     sustavianfeed       |       64     |   51.23106384277344   |   48.893089294433594     |   0.00434422492980957  |      446480694768195|\n",
      "|     sustavianfeed       |       65     |   51.21696472167969   |   48.8792724609375       |   0.00444483757019043  |      1827811795541641|\n",
      "|     sustavianfeed       |       66     |   51.18397521972656   |   48.84642028808594      |   0.0041387081146240234|      1827811795541647|\n",
      "|     sustavianfeed       |       67     |   51.18397521972656   |   48.84642028808594      |   0.004679679870605469 |      1827811795541647|\n",
      "|     sustavianfeed       |       68     |   51.18397521972656   |   48.84642028808594      |   0.0044863224029541016|      1827811795541647|\n",
      "|     sustavianfeed       |       69     |   51.16865539550781   |   48.83100509643555      |   0.004374027252197266 |      14773856386681785|\n",
      "|     sustavianfeed       |       70     |   51.16865539550781   |   48.83100509643555      |   0.00438237190246582  |      14773856386681785|\n",
      "|     sustavianfeed       |       71     |   51.16865539550781   |   48.83100509643555      |   0.004858255386352539 |      14773856386681785|\n",
      "|     sustavianfeed       |       72     |   51.16865539550781   |   48.83100509643555      |   0.005966901779174805 |      14773856386681785|\n",
      "|     sustavianfeed       |       73     |   51.16865539550781   |   48.83100509643555      |   0.005972623825073242 |      14773856386681785|\n",
      "|     sustavianfeed       |       74     |   51.16865158081055   |   48.83100509643555      |   0.0055904388427734375|      134126589468400441|\n",
      "|     sustavianfeed       |       75     |   51.072513580322266  |   48.73442077636719      |   0.005002021789550781 |      134126589468400447|\n",
      "|     sustavianfeed       |       76     |   51.01795959472656   |   48.67958068847656      |   0.005331993103027344 |      523453599163830953|\n",
      "|     sustavianfeed       |       77     |   51.01795959472656   |   48.67958068847656      |   0.004988431930541992 |      523453599163830953|\n",
      "|     sustavianfeed       |       78     |   50.99076461791992   |   48.65251922607422      |   0.0052204132080078125|      1029283579481019039|\n",
      "|     sustavianfeed       |       79     |   50.99076461791992   |   48.65251922607422      |   0.005415678024291992 |      1029283579481019039|\n",
      "|     sustavianfeed       |       80     |   50.98905944824219   |   48.651119232177734     |   0.0048694610595703125|      5197600805846047517|\n",
      "|     sustavianfeed       |       81     |   50.9827995300293    |   48.64459228515625      |   0.004984617233276367 |      5901593955642328287|\n",
      "|     sustavianfeed       |       82     |   50.9827995300293    |   48.64459228515625      |   0.005540370941162109 |      5901593955642328287|\n",
      "|     sustavianfeed       |       83     |   50.97093963623047   |   48.63300704956055      |   0.00548243522644043  |      17148622049405274035|\n",
      "|     sustavianfeed       |       84     |   50.97093963623047   |   48.63300704956055      |   0.005923032760620117 |      17148622049405274035|\n",
      "|     sustavianfeed       |       85     |   50.82351303100586   |   48.485904693603516     |   0.006228208541870117 |      40259270192781407657|\n",
      "|     sustavianfeed       |       86     |   50.82351303100586   |   48.485904693603516     |   0.006602287292480469 |      40259270192781407657|\n",
      "|     sustavianfeed       |       87     |   50.77957534790039   |   48.44218444824219      |   0.006922006607055664 |      40259270192781407663|\n",
      "|     sustavianfeed       |       88     |   50.77957534790039   |   48.44218444824219      |   0.004338979721069336 |      40259270192781407663|\n",
      "|     sustavianfeed       |       89     |   50.77957534790039   |   48.44218444824219      |   0.005560159683227539 |      40259270192781407663|\n",
      "|     sustavianfeed       |       90     |   50.77957534790039   |   48.44218444824219      |   0.005277395248413086 |      40259270192781407663|\n",
      "|     sustavianfeed       |       91     |   50.75042724609375   |   48.413150787353516     |   0.0056993961334228516|      508610532289366825739|\n",
      "|     sustavianfeed       |       92     |   50.75042724609375   |   48.413150787353516     |   0.0045566558837890625|      508610532289366825739|\n",
      "|     sustavianfeed       |       93     |   50.72392272949219   |   48.38566970825195      |   0.0072154998779296875|      4168109314315790577865|\n",
      "|     sustavianfeed       |       94     |   50.72392272949219   |   48.38566970825195      |   0.005255937576293945 |      4168109314315790577865|\n",
      "|     sustavianfeed       |       95     |   50.694026947021484  |   48.35592269897461      |   0.004347324371337891 |      4168109314315790577875|\n",
      "|     sustavianfeed       |       96     |   50.68655776977539   |   48.348487854003906     |   0.005197048187255859 |      4168109314315790577881|\n",
      "|     sustavianfeed       |       97     |   50.68655776977539   |   48.348487854003906     |   0.005426168441772461 |      4168109314315790577881|\n",
      "|     sustavianfeed       |       98     |   50.63498306274414   |   48.29716873168945      |   0.005815982818603516 |      36734722745557077829319|\n",
      "|     sustavianfeed       |       99     |   50.62940216064453   |   48.29161071777344      |   0.005602359771728516 |      36734722745557077829325|\n",
      "|     sustavianfeed       |       100    |   50.60953140258789   |   48.271732330322266     |   0.005364656448364258 |      119699785712313540364157|\n",
      "Verbose Reporter\n",
      "-----------------------------------------------------------------------------------------------------------------------------------------\n",
      "|         Dataset         |  Generation  |     Train Fitness     |       Test Fitness       |        Timing          |      Nodes       |\n",
      "-----------------------------------------------------------------------------------------------------------------------------------------\n",
      "|     sustavianfeed       |       0      |   52.40753936767578   |   50.06377410888672      |   0.0022461414337158203|      3           |\n",
      "|     sustavianfeed       |       1      |   52.40753936767578   |   50.06377410888672      |   0.006078004837036133 |      3           |\n",
      "|     sustavianfeed       |       2      |   52.40753936767578   |   50.06377410888672      |   0.005573749542236328 |      3           |\n",
      "|     sustavianfeed       |       3      |   52.37616729736328   |   50.03278732299805      |   0.005803823471069336 |      43          |\n",
      "|     sustavianfeed       |       4      |   52.37616729736328   |   50.03278732299805      |   0.005158901214599609 |      43          |\n",
      "|     sustavianfeed       |       5      |   52.28606033325195   |   49.94305419921875      |   0.005401611328125    |      201         |\n",
      "|     sustavianfeed       |       6      |   52.28606033325195   |   49.94305419921875      |   0.005173206329345703 |      201         |\n",
      "|     sustavianfeed       |       7      |   52.284542083740234  |   49.9415397644043       |   0.0065135955810546875|      207         |\n",
      "|     sustavianfeed       |       8      |   52.22037124633789   |   49.87709045410156      |   0.006135463714599609 |      1073        |\n",
      "|     sustavianfeed       |       9      |   52.10934829711914   |   49.767154693603516     |   0.006194591522216797 |      213         |\n",
      "|     sustavianfeed       |       10     |   52.10934829711914   |   49.767154693603516     |   0.006097316741943359 |      213         |\n",
      "|     sustavianfeed       |       11     |   52.10934829711914   |   49.767154693603516     |   0.008306026458740234 |      213         |\n",
      "|     sustavianfeed       |       12     |   52.10934829711914   |   49.767154693603516     |   0.0049860477447509766|      213         |\n",
      "|     sustavianfeed       |       13     |   52.0556640625       |   49.71292495727539      |   0.004511356353759766 |      4063        |\n",
      "|     sustavianfeed       |       14     |   52.0556640625       |   49.71292495727539      |   0.004522562026977539 |      4063        |\n",
      "|     sustavianfeed       |       15     |   52.0556640625       |   49.71292495727539      |   0.004310131072998047 |      4063        |\n",
      "|     sustavianfeed       |       16     |   52.03587341308594   |   49.69321823120117      |   0.0047800540924072266|      4073        |\n",
      "|     sustavianfeed       |       17     |   52.02724838256836   |   49.68463897705078      |   0.0047724246978759766|      4069        |\n",
      "|     sustavianfeed       |       18     |   52.02724838256836   |   49.68463897705078      |   0.004179716110229492 |      4069        |\n",
      "|     sustavianfeed       |       19     |   52.02724838256836   |   49.68463897705078      |   0.004521369934082031 |      4069        |\n",
      "|     sustavianfeed       |       20     |   51.955318450927734  |   49.6130485534668       |   0.004555940628051758 |      246099      |\n",
      "|     sustavianfeed       |       21     |   51.955318450927734  |   49.6130485534668       |   0.0049016475677490234|      246099      |\n",
      "|     sustavianfeed       |       22     |   51.88102722167969   |   49.539100646972656     |   0.005416393280029297 |      751029      |\n",
      "|     sustavianfeed       |       23     |   51.88102722167969   |   49.539100646972656     |   0.004554033279418945 |      751029      |\n",
      "|     sustavianfeed       |       24     |   51.81696319580078   |   49.475345611572266     |   0.005198240280151367 |      751037      |\n",
      "|     sustavianfeed       |       25     |   51.81696319580078   |   49.475345611572266     |   0.004762172698974609 |      751037      |\n",
      "|     sustavianfeed       |       26     |   51.73590850830078   |   49.396522521972656     |   0.005052804946899414 |      4165227     |\n",
      "|     sustavianfeed       |       27     |   51.73590850830078   |   49.396522521972656     |   0.00513911247253418  |      4165227     |\n",
      "|     sustavianfeed       |       28     |   51.73590850830078   |   49.396522521972656     |   0.005175590515136719 |      4165227     |\n",
      "|     sustavianfeed       |       29     |   51.73590850830078   |   49.396522521972656     |   0.005321979522705078 |      4165227     |\n",
      "|     sustavianfeed       |       30     |   51.712196350097656  |   49.37169647216797      |   0.005212545394897461 |      42938679    |\n",
      "|     sustavianfeed       |       31     |   51.712196350097656  |   49.37169647216797      |   0.005251169204711914 |      42938679    |\n",
      "|     sustavianfeed       |       32     |   51.664363861083984  |   49.3251838684082       |   0.005233287811279297 |      161002183   |\n",
      "|     sustavianfeed       |       33     |   51.664363861083984  |   49.3251838684082       |   0.0045588016510009766|      161002183   |\n",
      "|     sustavianfeed       |       34     |   51.664363861083984  |   49.3251838684082       |   0.005111217498779297 |      161002183   |\n",
      "|     sustavianfeed       |       35     |   51.664363861083984  |   49.3251838684082       |   0.005292415618896484 |      161002183   |\n",
      "|     sustavianfeed       |       36     |   51.57324981689453   |   49.23450469970703      |   0.005201578140258789 |      1299198221  |\n",
      "|     sustavianfeed       |       37     |   51.57324981689453   |   49.23450469970703      |   0.005167484283447266 |      1299198221  |\n",
      "|     sustavianfeed       |       38     |   51.46389389038086   |   49.12567138671875      |   0.004837751388549805 |      3864479645  |\n",
      "|     sustavianfeed       |       39     |   51.327232360839844  |   48.989662170410156     |   0.004839181900024414 |      3864479651  |\n",
      "|     sustavianfeed       |       40     |   51.327232360839844  |   48.989662170410156     |   0.005112648010253906 |      3864479651  |\n",
      "|     sustavianfeed       |       41     |   51.327232360839844  |   48.989662170410156     |   0.005084991455078125 |      3864479651  |\n",
      "|     sustavianfeed       |       42     |   51.327232360839844  |   48.989662170410156     |   0.004790544509887695 |      3864479651  |\n",
      "|     sustavianfeed       |       43     |   51.24493408203125   |   48.90776062011719      |   0.004998922348022461 |      3864479657  |\n",
      "|     sustavianfeed       |       44     |   51.24493408203125   |   48.90776062011719      |   0.005171775817871094 |      3864479657  |\n",
      "|     sustavianfeed       |       45     |   51.24493408203125   |   48.90776062011719      |   0.005389690399169922 |      3864479657  |\n",
      "|     sustavianfeed       |       46     |   51.24375534057617   |   48.906585693359375     |   0.005069732666015625 |      3864479663  |\n",
      "|     sustavianfeed       |       47     |   51.202003479003906  |   48.86404800415039      |   0.0055425167083740234|      292890845077|\n",
      "|     sustavianfeed       |       48     |   51.202003479003906  |   48.86404800415039      |   0.0048291683197021484|      292890845077|\n",
      "|     sustavianfeed       |       49     |   51.202003479003906  |   48.86404800415039      |   0.0051403045654296875|      292890845077|\n",
      "|     sustavianfeed       |       50     |   51.202003479003906  |   48.86404800415039      |   0.005102872848510742 |      292890845077|\n",
      "|     sustavianfeed       |       51     |   51.202003479003906  |   48.86404800415039      |   0.00496983528137207  |      292890845077|\n",
      "|     sustavianfeed       |       52     |   51.09994888305664   |   48.76285171508789      |   0.005148887634277344 |      3812382980995|\n",
      "|     sustavianfeed       |       53     |   51.09994888305664   |   48.76285171508789      |   0.0053310394287109375|      3812382980995|\n",
      "|     sustavianfeed       |       54     |   51.09994888305664   |   48.76285171508789      |   0.0054280757904052734|      3812382980995|\n",
      "|     sustavianfeed       |       55     |   51.09994888305664   |   48.76285171508789      |   0.005685567855834961 |      3812382980995|\n",
      "|     sustavianfeed       |       56     |   51.09994888305664   |   48.76285171508789      |   0.005279541015625    |      3812382980995|\n",
      "|     sustavianfeed       |       57     |   51.06877899169922   |   48.731964111328125     |   0.004515886306762695 |      26274102693589|\n",
      "|     sustavianfeed       |       58     |   51.04460906982422   |   48.7070198059082       |   0.006330728530883789 |      26888260625423|\n",
      "|     sustavianfeed       |       59     |   51.04460906982422   |   48.7070198059082       |   0.0055408477783203125|      26888260625423|\n",
      "|     sustavianfeed       |       60     |   51.01459503173828   |   48.67801284790039      |   0.004607677459716797 |      82106261490075|\n",
      "|     sustavianfeed       |       61     |   51.01459503173828   |   48.67801284790039      |   0.009037494659423828 |      82106261490075|\n",
      "|     sustavianfeed       |       62     |   51.01459503173828   |   48.67801284790039      |   0.005791187286376953 |      82106261490075|\n",
      "|     sustavianfeed       |       63     |   51.01459503173828   |   48.67801284790039      |   0.00539088249206543  |      82106261490075|\n",
      "|     sustavianfeed       |       64     |   50.995628356933594  |   48.65888595581055      |   0.006357669830322266 |      446480694768195|\n",
      "|     sustavianfeed       |       65     |   50.97870635986328   |   48.64229965209961      |   0.005842685699462891 |      1827811795541641|\n",
      "|     sustavianfeed       |       66     |   50.93911361694336   |   48.602882385253906     |   0.00522613525390625  |      1827811795541647|\n",
      "|     sustavianfeed       |       67     |   50.93911361694336   |   48.602882385253906     |   0.005228757858276367 |      1827811795541647|\n",
      "|     sustavianfeed       |       68     |   50.93911361694336   |   48.602882385253906     |   0.005312919616699219 |      1827811795541647|\n",
      "|     sustavianfeed       |       69     |   50.92073059082031   |   48.584388732910156     |   0.005646228790283203 |      14773856386681785|\n",
      "|     sustavianfeed       |       70     |   50.92073059082031   |   48.584388732910156     |   0.0052032470703125   |      14773856386681785|\n",
      "|     sustavianfeed       |       71     |   50.92073059082031   |   48.584388732910156     |   0.004564762115478516 |      14773856386681785|\n",
      "|     sustavianfeed       |       72     |   50.92073059082031   |   48.584388732910156     |   0.005856513977050781 |      14773856386681785|\n",
      "|     sustavianfeed       |       73     |   50.92073059082031   |   48.584388732910156     |   0.0054264068603515625|      14773856386681785|\n",
      "|     sustavianfeed       |       74     |   50.92073059082031   |   48.584388732910156     |   0.005047798156738281 |      14773856386681785|\n",
      "|     sustavianfeed       |       75     |   50.805362701416016  |   48.46849822998047      |   0.005720376968383789 |      134126589468400447|\n",
      "|     sustavianfeed       |       76     |   50.73990249633789   |   48.40269470214844      |   0.005374431610107422 |      523453599163830953|\n",
      "|     sustavianfeed       |       77     |   50.73990249633789   |   48.40269470214844      |   0.005014657974243164 |      523453599163830953|\n",
      "|     sustavianfeed       |       78     |   50.707271575927734  |   48.37022399902344      |   0.005238056182861328 |      1029283579481019039|\n",
      "|     sustavianfeed       |       79     |   50.707271575927734  |   48.37022399902344      |   0.0048787593841552734|      1029283579481019039|\n",
      "|     sustavianfeed       |       80     |   50.705230712890625  |   48.36854934692383      |   0.004845142364501953 |      4711016000969858203|\n",
      "|     sustavianfeed       |       81     |   50.69771194458008   |   48.360713958740234     |   0.004916667938232422 |      5295656417684420317|\n",
      "|     sustavianfeed       |       82     |   50.69771194458008   |   48.360713958740234     |   0.004820585250854492 |      5295656417684420317|\n",
      "|     sustavianfeed       |       83     |   50.68348693847656   |   48.34680938720703      |   0.0052759647369384766|      15569514901694987437|\n",
      "|     sustavianfeed       |       84     |   50.68348693847656   |   48.34680938720703      |   0.0053827762603759766|      15569514901694987437|\n",
      "|     sustavianfeed       |       85     |   50.50657653808594   |   48.17030334472656      |   0.005241870880126953 |      37348935236073586463|\n",
      "|     sustavianfeed       |       86     |   50.50657653808594   |   48.17030334472656      |   0.0050601959228515625|      37348935236073586463|\n",
      "|     sustavianfeed       |       87     |   50.453853607177734  |   48.11784362792969      |   0.0054264068603515625|      37348935236073586469|\n",
      "|     sustavianfeed       |       88     |   50.453853607177734  |   48.11784362792969      |   0.004979372024536133 |      37348935236073586469|\n",
      "|     sustavianfeed       |       89     |   50.453853607177734  |   48.11784362792969      |   0.00514984130859375  |      37348935236073586469|\n",
      "|     sustavianfeed       |       90     |   50.453853607177734  |   48.11784362792969      |   0.0048563480377197266|      37348935236073586469|\n",
      "|     sustavianfeed       |       91     |   50.41887283325195   |   48.083011627197266     |   0.0053253173828125   |      470014192090928264831|\n",
      "|     sustavianfeed       |       92     |   50.41887283325195   |   48.083011627197266     |   0.0052373409271240234|      470014192090928264831|\n",
      "|     sustavianfeed       |       93     |   50.38706970214844   |   48.0500373840332       |   0.005609273910522461 |      3862469285406054719727|\n",
      "|     sustavianfeed       |       94     |   50.38706970214844   |   48.0500373840332       |   0.005547285079956055 |      3862469285406054719727|\n",
      "|     sustavianfeed       |       95     |   50.3511962890625    |   48.014339447021484     |   0.005132436752319336 |      3862469285406054719737|\n",
      "|     sustavianfeed       |       96     |   50.34223175048828   |   48.00542068481445      |   0.005333423614501953 |      3862469285406054719743|\n",
      "|     sustavianfeed       |       97     |   50.34223175048828   |   48.00542068481445      |   0.005585432052612305 |      3862469285406054719743|\n",
      "|     sustavianfeed       |       98     |   50.28035354614258   |   47.943851470947266     |   0.005344867706298828 |      34024192975950899841723|\n",
      "|     sustavianfeed       |       99     |   50.273651123046875  |   47.93718338012695      |   0.005049943923950195 |      34024192975950899841729|\n",
      "|     sustavianfeed       |       100    |   50.24980926513672   |   47.913326263427734     |   0.005311250686645508 |      110865511700949264983895|\n",
      "Verbose Reporter\n",
      "-----------------------------------------------------------------------------------------------------------------------------------------\n",
      "|         Dataset         |  Generation  |     Train Fitness     |       Test Fitness       |        Timing          |      Nodes       |\n",
      "-----------------------------------------------------------------------------------------------------------------------------------------\n",
      "|     sustavianfeed       |       0      |   52.40753936767578   |   50.06377410888672      |   0.0027611255645751953|      3           |\n",
      "|     sustavianfeed       |       1      |   52.40753936767578   |   50.06377410888672      |   0.005339860916137695 |      3           |\n",
      "|     sustavianfeed       |       2      |   52.40753936767578   |   50.06377410888672      |   0.004608154296875    |      3           |\n",
      "|     sustavianfeed       |       3      |   52.38353729248047   |   50.040138244628906     |   0.005080699920654297 |      43          |\n",
      "|     sustavianfeed       |       4      |   52.38353729248047   |   50.040138244628906     |   0.005194902420043945 |      43          |\n",
      "|     sustavianfeed       |       5      |   52.3304557800293    |   49.9871940612793       |   0.005283355712890625 |      201         |\n",
      "|     sustavianfeed       |       6      |   52.3304557800293    |   49.9871940612793       |   0.005189180374145508 |      201         |\n",
      "|     sustavianfeed       |       7      |   52.31792449951172   |   49.97471618652344      |   0.005555868148803711 |      207         |\n",
      "|     sustavianfeed       |       8      |   52.28545379638672   |   49.94245529174805      |   0.004869222640991211 |      691         |\n",
      "|     sustavianfeed       |       9      |   52.19719696044922   |   49.85454559326172      |   0.004986763000488281 |      213         |\n",
      "|     sustavianfeed       |       10     |   52.19719696044922   |   49.85454559326172      |   0.005119800567626953 |      213         |\n",
      "|     sustavianfeed       |       11     |   52.19719696044922   |   49.85454559326172      |   0.005470752716064453 |      213         |\n",
      "|     sustavianfeed       |       12     |   52.19719696044922   |   49.85454559326172      |   0.004997730255126953 |      213         |\n",
      "|     sustavianfeed       |       13     |   52.159446716308594  |   49.81640625            |   0.005031108856201172 |      3299        |\n",
      "|     sustavianfeed       |       14     |   52.159446716308594  |   49.81640625            |   0.0051267147064208984|      3299        |\n",
      "|     sustavianfeed       |       15     |   52.159446716308594  |   49.81640625            |   0.004797220230102539 |      3299        |\n",
      "|     sustavianfeed       |       16     |   52.13454818725586   |   49.791622161865234     |   0.005068302154541016 |      3309        |\n",
      "|     sustavianfeed       |       17     |   52.12919998168945   |   49.78630447387695      |   0.0051801204681396484|      3305        |\n",
      "|     sustavianfeed       |       18     |   52.12919998168945   |   49.78630447387695      |   0.004633665084838867 |      3305        |\n",
      "|     sustavianfeed       |       19     |   52.12541198730469   |   49.782535552978516     |   0.005100727081298828 |      154301      |\n",
      "|     sustavianfeed       |       20     |   52.074283599853516  |   49.73163986206055      |   0.0050656795501708984|      221651      |\n",
      "|     sustavianfeed       |       21     |   52.074283599853516  |   49.73163986206055      |   0.0045506954193115234|      221651      |\n",
      "|     sustavianfeed       |       22     |   52.024986267089844  |   49.68257522583008      |   0.0051457881927490234|      557391      |\n",
      "|     sustavianfeed       |       23     |   52.024986267089844  |   49.68257522583008      |   0.00495457649230957  |      557391      |\n",
      "|     sustavianfeed       |       24     |   51.97763442993164   |   49.63544464111328      |   0.004943132400512695 |      557399      |\n",
      "|     sustavianfeed       |       25     |   51.97763442993164   |   49.63544464111328      |   0.004669189453125    |      557399      |\n",
      "|     sustavianfeed       |       26     |   51.924339294433594  |   49.58376693725586      |   0.004736185073852539 |      3169741     |\n",
      "|     sustavianfeed       |       27     |   51.924339294433594  |   49.58376693725586      |   0.0045375823974609375|      3169741     |\n",
      "|     sustavianfeed       |       28     |   51.924339294433594  |   49.58376693725586      |   0.0042591094970703125|      3169741     |\n",
      "|     sustavianfeed       |       29     |   51.924339294433594  |   49.58376693725586      |   0.004509925842285156 |      3169741     |\n",
      "|     sustavianfeed       |       30     |   51.90406799316406   |   49.562721252441406     |   0.004811763763427734 |      35425023    |\n",
      "|     sustavianfeed       |       31     |   51.90406799316406   |   49.562721252441406     |   0.004915475845336914 |      35425023    |\n",
      "|     sustavianfeed       |       32     |   51.85658264160156   |   49.51605987548828      |   0.005441188812255859 |      118268601   |\n",
      "|     sustavianfeed       |       33     |   51.85658264160156   |   49.51605987548828      |   0.0043582916259765625|      118268601   |\n",
      "|     sustavianfeed       |       34     |   51.85658264160156   |   49.51605987548828      |   0.004750728607177734 |      118268601   |\n",
      "|     sustavianfeed       |       35     |   51.85658264160156   |   49.51605987548828      |   0.005599021911621094 |      118268601   |\n",
      "|     sustavianfeed       |       36     |   51.832061767578125  |   49.491661071777344     |   0.005196571350097656 |      676401339   |\n",
      "|     sustavianfeed       |       37     |   51.832061767578125  |   49.491661071777344     |   0.004715681076049805 |      676401339   |\n",
      "|     sustavianfeed       |       38     |   51.80619430541992   |   49.46590042114258      |   0.005425930023193359 |      2473684963  |\n",
      "|     sustavianfeed       |       39     |   51.79387664794922   |   49.453651428222656     |   0.005218505859375    |      2588105683  |\n",
      "|     sustavianfeed       |       40     |   51.79387664794922   |   49.453651428222656     |   0.004897117614746094 |      2588105683  |\n",
      "|     sustavianfeed       |       41     |   51.79387664794922   |   49.453651428222656     |   0.004079341888427734 |      2588105683  |\n",
      "|     sustavianfeed       |       42     |   51.75249481201172   |   49.41246032714844      |   0.004374027252197266 |      13080127565 |\n",
      "|     sustavianfeed       |       43     |   51.75249481201172   |   49.41246032714844      |   0.0045397281646728516|      13080127565 |\n",
      "|     sustavianfeed       |       44     |   51.73322677612305   |   49.39336013793945      |   0.004449129104614258 |      31440918655 |\n",
      "|     sustavianfeed       |       45     |   51.73322677612305   |   49.39336013793945      |   0.004846334457397461 |      31440918655 |\n",
      "|     sustavianfeed       |       46     |   51.66379165649414   |   49.32417678833008      |   0.004681110382080078 |      128520612891|\n",
      "|     sustavianfeed       |       47     |   51.66379165649414   |   49.32417678833008      |   0.004546642303466797 |      128520612891|\n",
      "|     sustavianfeed       |       48     |   51.66312026977539   |   49.323509216308594     |   0.004449605941772461 |      376321431083|\n",
      "|     sustavianfeed       |       49     |   51.625606536865234  |   49.28645324707031      |   0.004735231399536133 |      442450260249|\n",
      "|     sustavianfeed       |       50     |   51.61776351928711   |   49.27836608886719      |   0.004221200942993164 |      376321431089|\n",
      "|     sustavianfeed       |       51     |   51.61776351928711   |   49.27836608886719      |   0.0050122737884521484|      376321431089|\n",
      "|     sustavianfeed       |       52     |   51.5650634765625    |   49.225914001464844     |   0.0045740604400634766|      1911462681985|\n",
      "|     sustavianfeed       |       53     |   51.5650634765625    |   49.225914001464844     |   0.004343986511230469 |      1911462681985|\n",
      "|     sustavianfeed       |       54     |   51.5650634765625    |   49.225914001464844     |   0.004796743392944336 |      1911462681985|\n",
      "|     sustavianfeed       |       55     |   51.5650634765625    |   49.225914001464844     |   0.0046138763427734375|      1911462681985|\n",
      "|     sustavianfeed       |       56     |   51.5650634765625    |   49.225914001464844     |   0.004303932189941406 |      1911462681985|\n",
      "|     sustavianfeed       |       57     |   51.52910232543945   |   49.190574645996094     |   0.0042836666107177734|      12027026062069|\n",
      "|     sustavianfeed       |       58     |   51.52910232543945   |   49.190574645996094     |   0.00432276725769043  |      12027026062069|\n",
      "|     sustavianfeed       |       59     |   51.52910232543945   |   49.190574645996094     |   0.0048427581787109375|      12027026062069|\n",
      "|     sustavianfeed       |       60     |   51.52910232543945   |   49.190574645996094     |   0.004755735397338867 |      12027026062069|\n",
      "|     sustavianfeed       |       61     |   51.485042572021484  |   49.14662551879883      |   0.004534244537353516 |      65953069755695|\n",
      "|     sustavianfeed       |       62     |   51.485042572021484  |   49.14662551879883      |   0.0047299861907958984|      65953069755695|\n",
      "|     sustavianfeed       |       63     |   51.47634506225586   |   49.13799285888672      |   0.00598597526550293  |      345408286962665|\n",
      "|     sustavianfeed       |       64     |   51.45985412597656   |   49.12162399291992      |   0.0048675537109375   |      603767198121009|\n",
      "|     sustavianfeed       |       65     |   51.440399169921875  |   49.102169036865234     |   0.005330324172973633 |      731596417641055|\n",
      "|     sustavianfeed       |       66     |   51.42127990722656   |   49.08313751220703      |   0.005105018615722656 |      1045261981202905|\n",
      "|     sustavianfeed       |       67     |   51.412498474121094  |   49.07384490966797      |   0.005596160888671875 |      1832210611383541|\n",
      "|     sustavianfeed       |       68     |   51.399967193603516  |   49.06074523925781      |   0.005688190460205078 |      731596417641073|\n",
      "|     sustavianfeed       |       69     |   51.399967193603516  |   49.06074523925781      |   0.004676103591918945 |      731596417641073|\n",
      "|     sustavianfeed       |       70     |   51.399967193603516  |   49.06074523925781      |   0.005097150802612305 |      731596417641073|\n",
      "|     sustavianfeed       |       71     |   51.399967193603516  |   49.06074523925781      |   0.006409168243408203 |      731596417641073|\n",
      "|     sustavianfeed       |       72     |   51.37126541137695   |   49.03252029418945      |   0.00585627555847168  |      26559653877842345|\n",
      "|     sustavianfeed       |       73     |   51.32069396972656   |   48.98188400268555      |   0.005911588668823242 |      49889515283307733|\n",
      "|     sustavianfeed       |       74     |   51.32069396972656   |   48.98188400268555      |   0.0070345401763916016|      49889515283307733|\n",
      "|     sustavianfeed       |       75     |   51.27096176147461   |   48.9306640625          |   0.005059242248535156 |      134169517214128425|\n",
      "|     sustavianfeed       |       76     |   51.27096176147461   |   48.9306640625          |   0.0047607421875      |      134169517214128425|\n",
      "|     sustavianfeed       |       77     |   51.27096176147461   |   48.9306640625          |   0.0053005218505859375|      134169517214128425|\n",
      "|     sustavianfeed       |       78     |   51.25197982788086   |   48.91250991821289      |   0.005174875259399414 |      709305099764352907|\n",
      "|     sustavianfeed       |       79     |   51.233001708984375  |   48.89348220825195      |   0.005287885665893555 |      452398066925693047|\n",
      "|     sustavianfeed       |       80     |   51.23113250732422   |   48.891029357910156     |   0.005055665969848633 |      1959179238507623625|\n",
      "|     sustavianfeed       |       81     |   51.177188873291016  |   48.83732604980469      |   0.004343986511230469 |      1959179238507623633|\n",
      "|     sustavianfeed       |       82     |   51.177188873291016  |   48.83732604980469      |   0.005280971527099609 |      1959179238507623633|\n",
      "|     sustavianfeed       |       83     |   51.177188873291016  |   48.83732604980469      |   0.004467010498046875 |      1959179238507623633|\n",
      "|     sustavianfeed       |       84     |   51.17718505859375   |   48.83732604980469      |   0.004749298095703125 |      7357385981786291009|\n",
      "|     sustavianfeed       |       85     |   51.17718505859375   |   48.83732604980469      |   0.005080223083496094 |      7357385981786291009|\n",
      "|     sustavianfeed       |       86     |   51.10773468017578   |   48.76821517944336      |   0.005319356918334961 |      7357385981786291015|\n",
      "|     sustavianfeed       |       87     |   51.10773468017578   |   48.76821517944336      |   0.005064964294433594 |      7357385981786291015|\n",
      "|     sustavianfeed       |       88     |   51.10773468017578   |   48.76821517944336      |   0.004930734634399414 |      7357385981786291015|\n",
      "|     sustavianfeed       |       89     |   51.10773468017578   |   48.76821517944336      |   0.004860877990722656 |      7357385981786291015|\n",
      "|     sustavianfeed       |       90     |   51.03754425048828   |   48.698360443115234     |   0.0055654048919677734|      29429543927145164105|\n",
      "|     sustavianfeed       |       91     |   51.03754425048828   |   48.698360443115234     |   0.005671977996826172 |      29429543927145164105|\n",
      "|     sustavianfeed       |       92     |   51.03754425048828   |   48.698360443115234     |   0.005144834518432617 |      29429543927145164105|\n",
      "|     sustavianfeed       |       93     |   51.03754425048828   |   48.698360443115234     |   0.005240440368652344 |      29429543927145164105|\n",
      "|     sustavianfeed       |       94     |   50.95018768310547   |   48.611427307128906     |   0.00502324104309082  |      456790207458846981271|\n",
      "|     sustavianfeed       |       95     |   50.95018768310547   |   48.611427307128906     |   0.005002498626708984 |      456790207458846981271|\n",
      "|     sustavianfeed       |       96     |   50.95018768310547   |   48.611427307128906     |   0.005139589309692383 |      456790207458846981271|\n",
      "|     sustavianfeed       |       97     |   50.95018768310547   |   48.611427307128906     |   0.004693746566772461 |      456790207458846981271|\n",
      "|     sustavianfeed       |       98     |   50.942039489746094  |   48.60332489013672      |   0.005049467086791992 |      3097001954005303227449|\n",
      "|     sustavianfeed       |       99     |   50.918853759765625  |   48.58024978637695      |   0.00509953498840332  |      456790207458846981279|\n",
      "|     sustavianfeed       |       100    |   50.88496398925781   |   48.54615020751953      |   0.005152225494384766 |      13452544058642358282849|\n",
      "Verbose Reporter\n",
      "-----------------------------------------------------------------------------------------------------------------------------------------\n",
      "|         Dataset         |  Generation  |     Train Fitness     |       Test Fitness       |        Timing          |      Nodes       |\n",
      "-----------------------------------------------------------------------------------------------------------------------------------------\n",
      "|     sustavianfeed       |       0      |   52.40753936767578   |   50.06377410888672      |   0.0026619434356689453|      3           |\n",
      "|     sustavianfeed       |       1      |   52.40753936767578   |   50.06377410888672      |   0.005536794662475586 |      3           |\n",
      "|     sustavianfeed       |       2      |   52.40753936767578   |   50.06377410888672      |   0.00468134880065918  |      3           |\n",
      "|     sustavianfeed       |       3      |   52.37831497192383   |   50.034976959228516     |   0.005127668380737305 |      43          |\n",
      "|     sustavianfeed       |       4      |   52.37831497192383   |   50.034976959228516     |   0.0053098201751708984|      43          |\n",
      "|     sustavianfeed       |       5      |   52.31021499633789   |   49.96707534790039      |   0.004694938659667969 |      201         |\n",
      "|     sustavianfeed       |       6      |   52.31021499633789   |   49.96707534790039      |   0.005078315734863281 |      201         |\n",
      "|     sustavianfeed       |       7      |   52.29742431640625   |   49.954345703125        |   0.005778074264526367 |      207         |\n",
      "|     sustavianfeed       |       8      |   52.25495910644531   |   49.912139892578125     |   0.005099296569824219 |      691         |\n",
      "|     sustavianfeed       |       9      |   52.14750671386719   |   49.80511474609375      |   0.004999637603759766 |      213         |\n",
      "|     sustavianfeed       |       10     |   52.14750671386719   |   49.80511474609375      |   0.005009651184082031 |      213         |\n",
      "|     sustavianfeed       |       11     |   52.14750671386719   |   49.80511474609375      |   0.005769491195678711 |      213         |\n",
      "|     sustavianfeed       |       12     |   52.14750671386719   |   49.80511474609375      |   0.00609898567199707  |      213         |\n",
      "|     sustavianfeed       |       13     |   52.10094451904297   |   49.75811004638672      |   0.005011320114135742 |      3299        |\n",
      "|     sustavianfeed       |       14     |   52.10094451904297   |   49.75811004638672      |   0.005733013153076172 |      3299        |\n",
      "|     sustavianfeed       |       15     |   52.10094451904297   |   49.75811004638672      |   0.004538774490356445 |      3299        |\n",
      "|     sustavianfeed       |       16     |   52.0727424621582    |   49.730045318603516     |   0.005239248275756836 |      3309        |\n",
      "|     sustavianfeed       |       17     |   52.06596374511719   |   49.72330093383789      |   0.005395412445068359 |      3305        |\n",
      "|     sustavianfeed       |       18     |   52.06596374511719   |   49.72330093383789      |   0.004619598388671875 |      3305        |\n",
      "|     sustavianfeed       |       19     |   52.06462860107422   |   49.721961975097656     |   0.0049746036529541016|      154301      |\n",
      "|     sustavianfeed       |       20     |   51.999061584472656  |   49.65670394897461      |   0.004968404769897461 |      221651      |\n",
      "|     sustavianfeed       |       21     |   51.999061584472656  |   49.65670394897461      |   0.004766941070556641 |      221651      |\n",
      "|     sustavianfeed       |       22     |   51.93738555908203   |   49.595314025878906     |   0.0059125423431396484|      557391      |\n",
      "|     sustavianfeed       |       23     |   51.93738555908203   |   49.595314025878906     |   0.0051043033599853516|      557391      |\n",
      "|     sustavianfeed       |       24     |   51.879356384277344  |   49.537559509277344     |   0.004724740982055664 |      557399      |\n",
      "|     sustavianfeed       |       25     |   51.879356384277344  |   49.537559509277344     |   0.0048656463623046875|      557399      |\n",
      "|     sustavianfeed       |       26     |   51.81255340576172   |   49.47275161743164      |   0.005131959915161133 |      3186871     |\n",
      "|     sustavianfeed       |       27     |   51.81255340576172   |   49.47275161743164      |   0.005123138427734375 |      3186871     |\n",
      "|     sustavianfeed       |       28     |   51.81255340576172   |   49.47275161743164      |   0.005056858062744141 |      3186871     |\n",
      "|     sustavianfeed       |       29     |   51.81255340576172   |   49.47275161743164      |   0.004851102828979492 |      3186871     |\n",
      "|     sustavianfeed       |       30     |   51.788333892822266  |   49.447574615478516     |   0.00551915168762207  |      36087145    |\n",
      "|     sustavianfeed       |       31     |   51.788333892822266  |   49.447574615478516     |   0.0053348541259765625|      36087145    |\n",
      "|     sustavianfeed       |       32     |   51.73289108276367   |   49.39313888549805      |   0.004896402359008789 |      120016069   |\n",
      "|     sustavianfeed       |       33     |   51.73289108276367   |   49.39313888549805      |   0.004600048065185547 |      120016069   |\n",
      "|     sustavianfeed       |       34     |   51.73289108276367   |   49.39313888549805      |   0.005009174346923828 |      120016069   |\n",
      "|     sustavianfeed       |       35     |   51.73289108276367   |   49.39313888549805      |   0.005106210708618164 |      120016069   |\n",
      "|     sustavianfeed       |       36     |   51.7021369934082    |   49.36252975463867      |   0.004830598831176758 |      687144227   |\n",
      "|     sustavianfeed       |       37     |   51.7021369934082    |   49.36252975463867      |   0.004572391510009766 |      687144227   |\n",
      "|     sustavianfeed       |       38     |   51.677486419677734  |   49.337982177734375     |   0.005120038986206055 |      2513059721  |\n",
      "|     sustavianfeed       |       39     |   51.658233642578125  |   49.318817138671875     |   0.005057096481323242 |      6652444993  |\n",
      "|     sustavianfeed       |       40     |   51.658233642578125  |   49.318817138671875     |   0.004774570465087891 |      6652444993  |\n",
      "|     sustavianfeed       |       41     |   51.658233642578125  |   49.318817138671875     |   0.004932403564453125 |      6652444993  |\n",
      "|     sustavianfeed       |       42     |   51.60547637939453   |   49.26631546020508      |   0.004839420318603516 |      17312254285 |\n",
      "|     sustavianfeed       |       43     |   51.60547637939453   |   49.26631546020508      |   0.004943370819091797 |      17312254285 |\n",
      "|     sustavianfeed       |       44     |   51.60547637939453   |   49.26631546020508      |   0.005016326904296875 |      17312254285 |\n",
      "|     sustavianfeed       |       45     |   51.60547637939453   |   49.26631546020508      |   0.005420207977294922 |      17312254285 |\n",
      "|     sustavianfeed       |       46     |   51.57709503173828   |   49.23807144165039      |   0.005623817443847656 |      134932545683|\n",
      "|     sustavianfeed       |       47     |   51.52536392211914   |   49.186424255371094     |   0.005662202835083008 |      392476066825|\n",
      "|     sustavianfeed       |       48     |   51.51334762573242   |   49.17446517944336      |   0.005129337310791016 |      392476066831|\n",
      "|     sustavianfeed       |       49     |   51.4521598815918    |   49.11357116699219      |   0.005822896957397461 |      906992726311|\n",
      "|     sustavianfeed       |       50     |   51.4521598815918    |   49.11357116699219      |   0.004647493362426758 |      906992726311|\n",
      "|     sustavianfeed       |       51     |   51.399269104003906  |   49.06092834472656      |   0.0052013397216796875|      1609732268599|\n",
      "|     sustavianfeed       |       52     |   51.33072280883789   |   48.99271011352539      |   0.005324602127075195 |      906992726327|\n",
      "|     sustavianfeed       |       53     |   51.28561019897461   |   48.946834564208984     |   0.004828929901123047 |      906992726333|\n",
      "|     sustavianfeed       |       54     |   51.28561019897461   |   48.946834564208984     |   0.00502777099609375  |      906992726333|\n",
      "|     sustavianfeed       |       55     |   51.28561019897461   |   48.946834564208984     |   0.005435466766357422 |      906992726333|\n",
      "|     sustavianfeed       |       56     |   51.16208267211914   |   48.82390213012695      |   0.005974531173706055 |      906992726339|\n",
      "|     sustavianfeed       |       57     |   51.16208267211914   |   48.82390213012695      |   0.004846334457397461 |      906992726339|\n",
      "|     sustavianfeed       |       58     |   51.16208267211914   |   48.82390213012695      |   0.005018711090087891 |      906992726339|\n",
      "|     sustavianfeed       |       59     |   51.16208267211914   |   48.82390213012695      |   0.005229949951171875 |      906992726339|\n",
      "|     sustavianfeed       |       60     |   51.141788482666016  |   48.803707122802734     |   0.0045049190521240234|      33624991196261|\n",
      "|     sustavianfeed       |       61     |   51.141788482666016  |   48.803707122802734     |   0.005171775817871094 |      33624991196261|\n",
      "|     sustavianfeed       |       62     |   51.0904655456543    |   48.75263595581055      |   0.004734992980957031 |      178220262549163|\n",
      "|     sustavianfeed       |       63     |   51.0904655456543    |   48.75263595581055      |   0.004820108413696289 |      178220262549163|\n",
      "|     sustavianfeed       |       64     |   51.081844329833984  |   48.744049072265625     |   0.0051043033599853516|      33624991196273|\n",
      "|     sustavianfeed       |       65     |   51.033164978027344  |   48.69613265991211      |   0.005045652389526367 |      178220262549179|\n",
      "|     sustavianfeed       |       66     |   51.033164978027344  |   48.69613265991211      |   0.005298614501953125 |      178220262549179|\n",
      "|     sustavianfeed       |       67     |   51.033119201660156  |   48.696109771728516     |   0.005154848098754883 |      178220262549187|\n",
      "|     sustavianfeed       |       68     |   51.00737762451172   |   48.670711517333984     |   0.004950046539306641 |      2392988573544457|\n",
      "|     sustavianfeed       |       69     |   50.99803161621094   |   48.66191101074219      |   0.005419492721557617 |      4785977147088881|\n",
      "|     sustavianfeed       |       70     |   50.99803161621094   |   48.66191101074219      |   0.0047113895416259766|      4785977147088881|\n",
      "|     sustavianfeed       |       71     |   50.99803161621094   |   48.66191101074219      |   0.004800081253051758 |      4785977147088881|\n",
      "|     sustavianfeed       |       72     |   50.9492073059082    |   48.61296463012695      |   0.005521535873413086 |      26826918093742487|\n",
      "|     sustavianfeed       |       73     |   50.9492073059082    |   48.61296463012695      |   0.00485539436340332  |      26826918093742487|\n",
      "|     sustavianfeed       |       74     |   50.924339294433594  |   48.58797073364258      |   0.005339145660400391 |      78514739538650785|\n",
      "|     sustavianfeed       |       75     |   50.924339294433594  |   48.58797073364258      |   0.005338907241821289 |      78514739538650785|\n",
      "|     sustavianfeed       |       76     |   50.924339294433594  |   48.58797073364258      |   0.0049860477447509766|      78514739538650785|\n",
      "|     sustavianfeed       |       77     |   50.85737609863281   |   48.52180099487305      |   0.005179405212402344 |      311379121712742145|\n",
      "|     sustavianfeed       |       78     |   50.85737609863281   |   48.52180099487305      |   0.005591630935668945 |      311379121712742145|\n",
      "|     sustavianfeed       |       79     |   50.82244110107422   |   48.48697280883789      |   0.005562782287597656 |      742804755689148101|\n",
      "|     sustavianfeed       |       80     |   50.82244110107422   |   48.48697280883789      |   0.005309581756591797 |      742804755689148101|\n",
      "|     sustavianfeed       |       81     |   50.79774856567383   |   48.462467193603516     |   0.00563359260559082  |      4051457235474020243|\n",
      "|     sustavianfeed       |       82     |   50.79774856567383   |   48.462467193603516     |   0.0057523250579833984|      4051457235474020243|\n",
      "|     sustavianfeed       |       83     |   50.77651596069336   |   48.44127655029297      |   0.005533456802368164 |      5044696481674759991|\n",
      "|     sustavianfeed       |       84     |   50.76039123535156   |   48.42527389526367      |   0.005035400390625    |      13088522136329365789|\n",
      "|     sustavianfeed       |       85     |   50.639259338378906  |   48.30475616455078      |   0.005722761154174805 |      35019578756224442061|\n",
      "|     sustavianfeed       |       86     |   50.639259338378906  |   48.30475616455078      |   0.006145954132080078 |      35019578756224442061|\n",
      "|     sustavianfeed       |       87     |   50.606563568115234  |   48.27222442626953      |   0.005716562271118164 |      35019578756224442067|\n",
      "|     sustavianfeed       |       88     |   50.571651458740234  |   48.237430572509766     |   0.005319118499755859 |      35019578756224442067|\n",
      "|     sustavianfeed       |       89     |   50.571651458740234  |   48.237430572509766     |   0.00574946403503418  |      35019578756224442067|\n",
      "|     sustavianfeed       |       90     |   50.571651458740234  |   48.237430572509766     |   0.005370140075683594 |      35019578756224442067|\n",
      "|     sustavianfeed       |       91     |   50.571651458740234  |   48.237430572509766     |   0.006391286849975586 |      35019578756224442067|\n",
      "|     sustavianfeed       |       92     |   50.55241394042969   |   48.218074798583984     |   0.00553441047668457  |      133745334913096147821|\n",
      "|     sustavianfeed       |       93     |   50.51877975463867   |   48.184608459472656     |   0.00537562370300293  |      682852356553763608697|\n",
      "|     sustavianfeed       |       94     |   50.51877975463867   |   48.184608459472656     |   0.005477428436279297 |      682852356553763608697|\n",
      "|     sustavianfeed       |       95     |   50.471839904785156  |   48.137901306152344     |   0.005227088928222656 |      682852356553763608707|\n",
      "|     sustavianfeed       |       96     |   50.471839904785156  |   48.137901306152344     |   0.005024909973144531 |      682852356553763608707|\n",
      "|     sustavianfeed       |       97     |   50.442665100097656  |   48.10889434814453      |   0.005323171615600586 |      3943763378748277864499|\n",
      "|     sustavianfeed       |       98     |   50.442665100097656  |   48.10889434814453      |   0.005557060241699219 |      3943763378748277864499|\n",
      "|     sustavianfeed       |       99     |   50.41005325317383   |   48.076419830322266     |   0.004980325698852539 |      8095654818115836648297|\n",
      "|     sustavianfeed       |       100    |   50.41005325317383   |   48.076419830322266     |   0.005757331848144531 |      8095654818115836648297|\n",
      "Verbose Reporter\n",
      "-----------------------------------------------------------------------------------------------------------------------------------------\n",
      "|         Dataset         |  Generation  |     Train Fitness     |       Test Fitness       |        Timing          |      Nodes       |\n",
      "-----------------------------------------------------------------------------------------------------------------------------------------\n",
      "|     sustavianfeed       |       0      |   52.40753936767578   |   50.06377410888672      |   0.0024521350860595703|      3           |\n",
      "|     sustavianfeed       |       1      |   52.40753936767578   |   50.06377410888672      |   0.00567626953125     |      3           |\n",
      "|     sustavianfeed       |       2      |   52.40753936767578   |   50.06377410888672      |   0.005263566970825195 |      3           |\n",
      "|     sustavianfeed       |       3      |   52.37308120727539   |   50.02981185913086      |   0.004994869232177734 |      43          |\n",
      "|     sustavianfeed       |       4      |   52.37308120727539   |   50.02981185913086      |   0.005239248275756836 |      43          |\n",
      "|     sustavianfeed       |       5      |   52.28995895385742   |   49.94694900512695      |   0.005104780197143555 |      201         |\n",
      "|     sustavianfeed       |       6      |   52.28995895385742   |   49.94694900512695      |   0.005042314529418945 |      201         |\n",
      "|     sustavianfeed       |       7      |   52.27691650390625   |   49.933963775634766     |   0.005296468734741211 |      207         |\n",
      "|     sustavianfeed       |       8      |   52.224456787109375  |   49.881813049316406     |   0.005135297775268555 |      691         |\n",
      "|     sustavianfeed       |       9      |   52.09779357910156   |   49.75566864013672      |   0.0052394866943359375|      213         |\n",
      "|     sustavianfeed       |       10     |   52.09779357910156   |   49.75566864013672      |   0.0047490596771240234|      213         |\n",
      "|     sustavianfeed       |       11     |   52.09779357910156   |   49.75566864013672      |   0.00500798225402832  |      213         |\n",
      "|     sustavianfeed       |       12     |   52.09779357910156   |   49.75566864013672      |   0.005563259124755859 |      213         |\n",
      "|     sustavianfeed       |       13     |   52.04242706298828   |   49.69980239868164      |   0.004997968673706055 |      3299        |\n",
      "|     sustavianfeed       |       14     |   52.04242706298828   |   49.69980239868164      |   0.005015850067138672 |      3299        |\n",
      "|     sustavianfeed       |       15     |   52.04242706298828   |   49.69980239868164      |   0.005222320556640625 |      3299        |\n",
      "|     sustavianfeed       |       16     |   52.01092529296875   |   49.66844940185547      |   0.005202054977416992 |      3309        |\n",
      "|     sustavianfeed       |       17     |   52.00271224975586   |   49.660274505615234     |   0.0056438446044921875|      3305        |\n",
      "|     sustavianfeed       |       18     |   52.00271224975586   |   49.660274505615234     |   0.005087852478027344 |      3305        |\n",
      "|     sustavianfeed       |       19     |   52.00271224975586   |   49.660274505615234     |   0.004803180694580078 |      3305        |\n",
      "|     sustavianfeed       |       20     |   51.92381286621094   |   49.58174514770508      |   0.005202531814575195 |      221651      |\n",
      "|     sustavianfeed       |       21     |   51.92381286621094   |   49.58174514770508      |   0.004839897155761719 |      221651      |\n",
      "|     sustavianfeed       |       22     |   51.849754333496094  |   49.508033752441406     |   0.006057262420654297 |      557391      |\n",
      "|     sustavianfeed       |       23     |   51.849754333496094  |   49.508033752441406     |   0.005236387252807617 |      557391      |\n",
      "|     sustavianfeed       |       24     |   51.78105163574219   |   49.439659118652344     |   0.005532264709472656 |      557399      |\n",
      "|     sustavianfeed       |       25     |   51.78105163574219   |   49.439659118652344     |   0.004700899124145508 |      557399      |\n",
      "|     sustavianfeed       |       26     |   51.70073318481445   |   49.3617057800293       |   0.005499362945556641 |      3159601     |\n",
      "|     sustavianfeed       |       27     |   51.70073318481445   |   49.3617057800293       |   0.0053555965423583984|      3159601     |\n",
      "|     sustavianfeed       |       28     |   51.70073318481445   |   49.3617057800293       |   0.004830837249755859 |      3159601     |\n",
      "|     sustavianfeed       |       29     |   51.70073318481445   |   49.3617057800293       |   0.005120038986206055 |      3159601     |\n",
      "|     sustavianfeed       |       30     |   51.67256546020508   |   49.33238983154297      |   0.005511283874511719 |      35306545    |\n",
      "|     sustavianfeed       |       31     |   51.67256546020508   |   49.33238983154297      |   0.0049326419830322266|      35306545    |\n",
      "|     sustavianfeed       |       32     |   51.60917282104492   |   49.27018737792969      |   0.005360126495361328 |      118486695   |\n",
      "|     sustavianfeed       |       33     |   51.60917282104492   |   49.27018737792969      |   0.004351139068603516 |      118486695   |\n",
      "|     sustavianfeed       |       34     |   51.60917282104492   |   49.27018737792969      |   0.00471949577331543  |      118486695   |\n",
      "|     sustavianfeed       |       35     |   51.60917282104492   |   49.27018737792969      |   0.0045850276947021484|      118486695   |\n",
      "|     sustavianfeed       |       36     |   51.572174072265625  |   49.23336410522461      |   0.0050046443939208984|      676624349   |\n",
      "|     sustavianfeed       |       37     |   51.572174072265625  |   49.23336410522461      |   0.004446506500244141 |      676624349   |\n",
      "|     sustavianfeed       |       38     |   51.548553466796875  |   49.20985412597656      |   0.00448918342590332  |      2461950043  |\n",
      "|     sustavianfeed       |       39     |   51.522132873535156  |   49.183555603027344     |   0.004796028137207031 |      6509478941  |\n",
      "|     sustavianfeed       |       40     |   51.522132873535156  |   49.183555603027344     |   0.004900217056274414 |      6509478941  |\n",
      "|     sustavianfeed       |       41     |   51.522132873535156  |   49.183555603027344     |   0.004360675811767578 |      6509478941  |\n",
      "|     sustavianfeed       |       42     |   51.45819091796875   |   49.11992645263672      |   0.0046079158782958984|      16952643373 |\n",
      "|     sustavianfeed       |       43     |   51.45819091796875   |   49.11992645263672      |   0.0046536922454833984|      16952643373 |\n",
      "|     sustavianfeed       |       44     |   51.45819091796875   |   49.11992645263672      |   0.004926443099975586 |      16952643373 |\n",
      "|     sustavianfeed       |       45     |   51.45819091796875   |   49.11992645263672      |   0.004669189453125    |      16952643373 |\n",
      "|     sustavianfeed       |       46     |   51.426490783691406  |   49.08837127685547      |   0.004866361618041992 |      132215951325|\n",
      "|     sustavianfeed       |       47     |   51.362918853759766  |   49.02491760253906      |   0.004899501800537109 |      397380906179|\n",
      "|     sustavianfeed       |       48     |   51.34857940673828   |   49.010643005371094     |   0.004822492599487305 |      397380906185|\n",
      "|     sustavianfeed       |       49     |   51.27964782714844   |   48.94204330444336      |   0.004717826843261719 |      901731452389|\n",
      "|     sustavianfeed       |       50     |   51.27964782714844   |   48.94204330444336      |   0.004438638687133789 |      901731452389|\n",
      "|     sustavianfeed       |       51     |   51.21876907348633   |   48.88145446777344      |   0.0050432682037353516|      1603103437681|\n",
      "|     sustavianfeed       |       52     |   51.13413619995117   |   48.79723358154297      |   0.004662752151489258 |      901731452405|\n",
      "|     sustavianfeed       |       53     |   51.08563232421875   |   48.74790573120117      |   0.0047795772552490234|      901731452411|\n",
      "|     sustavianfeed       |       54     |   50.95632553100586   |   48.619937896728516     |   0.004637241363525391 |      901731452417|\n",
      "|     sustavianfeed       |       55     |   50.95632553100586   |   48.619937896728516     |   0.004966259002685547 |      901731452417|\n",
      "|     sustavianfeed       |       56     |   50.95632553100586   |   48.619937896728516     |   0.0057260990142822266|      901731452417|\n",
      "|     sustavianfeed       |       57     |   50.95632553100586   |   48.619937896728516     |   0.005165576934814453 |      901731452417|\n",
      "|     sustavianfeed       |       58     |   50.948524475097656  |   48.61225509643555      |   0.005103111267089844 |      36350118729179|\n",
      "|     sustavianfeed       |       59     |   50.948524475097656  |   48.61225509643555      |   0.0051288604736328125|      36350118729179|\n",
      "|     sustavianfeed       |       60     |   50.938758850097656  |   48.60245895385742      |   0.00490570068359375  |      85102288302825|\n",
      "|     sustavianfeed       |       61     |   50.938758850097656  |   48.60245895385742      |   0.005490541458129883 |      85102288302825|\n",
      "|     sustavianfeed       |       62     |   50.85905456542969   |   48.52325439453125      |   0.005942344665527344 |      232306226124423|\n",
      "|     sustavianfeed       |       63     |   50.85905456542969   |   48.52325439453125      |   0.0047757625579833984|      232306226124423|\n",
      "|     sustavianfeed       |       64     |   50.81264877319336   |   48.47702407836914      |   0.004823446273803711 |      885014661388117|\n",
      "|     sustavianfeed       |       65     |   50.81264877319336   |   48.47702407836914      |   0.004724979400634766 |      885014661388117|\n",
      "|     sustavianfeed       |       66     |   50.81264877319336   |   48.47702407836914      |   0.004959583282470703 |      885014661388117|\n",
      "|     sustavianfeed       |       67     |   50.81264877319336   |   48.47702407836914      |   0.004741668701171875 |      885014661388117|\n",
      "|     sustavianfeed       |       68     |   50.756439208984375  |   48.41999435424805      |   0.005063056945800781 |      4601370689972601|\n",
      "|     sustavianfeed       |       69     |   50.756439208984375  |   48.41999435424805      |   0.0048258304595947266|      4601370689972601|\n",
      "|     sustavianfeed       |       70     |   50.756439208984375  |   48.41999435424805      |   0.004732847213745117 |      4601370689972601|\n",
      "|     sustavianfeed       |       71     |   50.756439208984375  |   48.41999435424805      |   0.004156351089477539 |      4601370689972601|\n",
      "|     sustavianfeed       |       72     |   50.73109436035156   |   48.394775390625        |   0.004935741424560547 |      30451842354302989|\n",
      "|     sustavianfeed       |       73     |   50.635311126708984  |   48.29963302612305      |   0.0043032169342041016|      57369511313311963|\n",
      "|     sustavianfeed       |       74     |   50.635311126708984  |   48.29963302612305      |   0.004544734954833984 |      57369511313311963|\n",
      "|     sustavianfeed       |       75     |   50.635311126708984  |   48.29963302612305      |   0.00474095344543457  |      57369511313311963|\n",
      "|     sustavianfeed       |       76     |   50.50452423095703   |   48.16946029663086      |   0.004590272903442383 |      328400502993610083|\n",
      "|     sustavianfeed       |       77     |   50.50452423095703   |   48.16946029663086      |   0.004637956619262695 |      328400502993610083|\n",
      "|     sustavianfeed       |       78     |   50.47779083251953   |   48.142852783203125     |   0.004824161529541016 |      1083087671974362987|\n",
      "|     sustavianfeed       |       79     |   50.47779083251953   |   48.142852783203125     |   0.004233837127685547 |      1083087671974362987|\n",
      "|     sustavianfeed       |       80     |   50.47779083251953   |   48.142852783203125     |   0.0045013427734375   |      1083087671974362987|\n",
      "|     sustavianfeed       |       81     |   50.47779083251953   |   48.142852783203125     |   0.004691123962402344 |      1083087671974362987|\n",
      "|     sustavianfeed       |       82     |   50.357330322265625  |   48.02375030517578      |   0.005002737045288086 |      9677172016335135591|\n",
      "|     sustavianfeed       |       83     |   50.357330322265625  |   48.02375030517578      |   0.0043642520904541016|      9677172016335135591|\n",
      "|     sustavianfeed       |       84     |   50.357330322265625  |   48.02375030517578      |   0.0041615962982177734|      9677172016335135591|\n",
      "|     sustavianfeed       |       85     |   50.357330322265625  |   48.02375030517578      |   0.004881858825683594 |      9677172016335135591|\n",
      "|     sustavianfeed       |       86     |   50.357330322265625  |   48.02375030517578      |   0.0047528743743896484|      9677172016335135591|\n",
      "|     sustavianfeed       |       87     |   50.29358673095703   |   47.9603271484375       |   0.004420280456542969 |      9677172016335135597|\n",
      "|     sustavianfeed       |       88     |   50.196205139160156  |   47.863441467285156     |   0.0046923160552978516|      175479529837286097327|\n",
      "|     sustavianfeed       |       89     |   50.17189025878906   |   47.83924865722656      |   0.00464630126953125  |      175479529837286097333|\n",
      "|     sustavianfeed       |       90     |   50.17189025878906   |   47.83924865722656      |   0.004753828048706055 |      175479529837286097333|\n",
      "|     sustavianfeed       |       91     |   50.016231536865234  |   47.684383392333984     |   0.005224466323852539 |      670594114608386417159|\n",
      "|     sustavianfeed       |       92     |   50.016231536865234  |   47.684383392333984     |   0.004911899566650391 |      670594114608386417159|\n",
      "|     sustavianfeed       |       93     |   50.016231536865234  |   47.684383392333984     |   0.00506281852722168  |      670594114608386417159|\n",
      "|     sustavianfeed       |       94     |   49.983402252197266  |   47.6517219543457       |   0.00470280647277832  |      846073644445672514519|\n",
      "|     sustavianfeed       |       95     |   49.983402252197266  |   47.6517219543457       |   0.004739284515380859 |      846073644445672514519|\n",
      "|     sustavianfeed       |       96     |   49.97087860107422   |   47.63926315307617      |   0.005290031433105469 |      1692147288891345029055|\n",
      "|     sustavianfeed       |       97     |   49.96326446533203   |   47.63164520263672      |   0.005080223083496094 |      13243724701228188163455|\n",
      "|     sustavianfeed       |       98     |   49.908790588378906  |   47.57749557495117      |   0.004775047302246094 |      12677665717178150107527|\n",
      "|     sustavianfeed       |       99     |   49.90874481201172   |   47.5774040222168       |   0.004778385162353516 |      13243724701228188163461|\n",
      "|     sustavianfeed       |       100    |   49.89453887939453   |   47.560630798339844     |   0.004719734191894531 |      27896344439982230527389|\n",
      "Verbose Reporter\n",
      "-----------------------------------------------------------------------------------------------------------------------------------------\n",
      "|         Dataset         |  Generation  |     Train Fitness     |       Test Fitness       |        Timing          |      Nodes       |\n",
      "-----------------------------------------------------------------------------------------------------------------------------------------\n",
      "|     sustavianfeed       |       0      |   52.40753936767578   |   50.06377410888672      |   0.0021774768829345703|      3           |\n",
      "|     sustavianfeed       |       1      |   52.40753936767578   |   50.06377410888672      |   0.005967378616333008 |      3           |\n",
      "|     sustavianfeed       |       2      |   52.40753936767578   |   50.06377410888672      |   0.006043672561645508 |      3           |\n",
      "|     sustavianfeed       |       3      |   52.38045120239258   |   50.037166595458984     |   0.010473966598510742 |      43          |\n",
      "|     sustavianfeed       |       4      |   52.38045120239258   |   50.037166595458984     |   0.00586247444152832  |      43          |\n",
      "|     sustavianfeed       |       5      |   52.33435821533203   |   49.991092681884766     |   0.005685567855834961 |      201         |\n",
      "|     sustavianfeed       |       6      |   52.33435821533203   |   49.991092681884766     |   0.005156278610229492 |      201         |\n",
      "|     sustavianfeed       |       7      |   52.310298919677734  |   49.96714401245117      |   0.006069183349609375 |      207         |\n",
      "|     sustavianfeed       |       8      |   52.28535079956055   |   49.942413330078125     |   0.005082607269287109 |      691         |\n",
      "|     sustavianfeed       |       9      |   52.18564224243164   |   49.84305953979492      |   0.0058574676513671875|      213         |\n"
     ]
    },
    {
     "ename": "KeyboardInterrupt",
     "evalue": "",
     "output_type": "error",
     "traceback": [
      "\u001b[0;31m---------------------------------------------------------------------------\u001b[0m",
      "\u001b[0;31mKeyboardInterrupt\u001b[0m                         Traceback (most recent call last)",
      "Cell \u001b[0;32mIn[30], line 25\u001b[0m\n\u001b[1;32m     21\u001b[0m     os\u001b[38;5;241m.\u001b[39mremove(log_path)\n\u001b[1;32m     23\u001b[0m solver_params\u001b[38;5;241m.\u001b[39mupdate({\u001b[38;5;124m'\u001b[39m\u001b[38;5;124mlog_path\u001b[39m\u001b[38;5;124m'\u001b[39m: log_path})\n\u001b[0;32m---> 25\u001b[0m res \u001b[38;5;241m=\u001b[39m \u001b[43mcaller\u001b[49m\u001b[38;5;241;43m.\u001b[39;49m\u001b[43mcall_model\u001b[49m\u001b[43m(\u001b[49m\n\u001b[1;32m     26\u001b[0m \u001b[43m    \u001b[49m\u001b[43msolver_params\u001b[49m\u001b[43m,\u001b[49m\u001b[43m \u001b[49m\n\u001b[1;32m     27\u001b[0m \u001b[43m    \u001b[49m\u001b[43mgrid_params\u001b[49m\u001b[43m,\u001b[49m\n\u001b[1;32m     28\u001b[0m \u001b[43m    \u001b[49m\u001b[43mseed\u001b[49m\u001b[38;5;241;43m=\u001b[39;49m\u001b[43m(\u001b[49m\u001b[43msys_params\u001b[49m\u001b[43m[\u001b[49m\u001b[38;5;124;43m'\u001b[39;49m\u001b[38;5;124;43mrandom_seed\u001b[39;49m\u001b[38;5;124;43m'\u001b[39;49m\u001b[43m]\u001b[49m\u001b[43m \u001b[49m\u001b[38;5;241;43m+\u001b[39;49m\u001b[43m \u001b[49m\u001b[43mi_inner\u001b[49m\u001b[43m)\u001b[49m\u001b[43m    \u001b[49m\n\u001b[1;32m     29\u001b[0m \u001b[43m\u001b[49m\u001b[43m)\u001b[49m\n\u001b[1;32m     31\u001b[0m \u001b[38;5;66;03m# Log\u001b[39;00m\n\u001b[1;32m     32\u001b[0m results\u001b[38;5;241m.\u001b[39mappend(res)\n",
      "File \u001b[0;32m~/MsC/NEL/src/nel_utils/caller.py:34\u001b[0m, in \u001b[0;36mcall_model\u001b[0;34m(fixed_params, param_grid, seed, set_max_depth)\u001b[0m\n\u001b[1;32m     31\u001b[0m \u001b[38;5;28;01mif\u001b[39;00m set_max_depth:\n\u001b[1;32m     32\u001b[0m     full_params\u001b[38;5;241m.\u001b[39mupdate({\u001b[38;5;124m'\u001b[39m\u001b[38;5;124mmax_depth\u001b[39m\u001b[38;5;124m'\u001b[39m: full_params[\u001b[38;5;124m'\u001b[39m\u001b[38;5;124minit_depth\u001b[39m\u001b[38;5;124m'\u001b[39m]\u001b[38;5;241m+\u001b[39m\u001b[38;5;241m15\u001b[39m})\n\u001b[0;32m---> 34\u001b[0m model \u001b[38;5;241m=\u001b[39m \u001b[43mmodel_dict\u001b[49m\u001b[43m[\u001b[49m\u001b[43mmodel_key\u001b[49m\u001b[43m]\u001b[49m\u001b[43m(\u001b[49m\u001b[38;5;241;43m*\u001b[39;49m\u001b[38;5;241;43m*\u001b[39;49m\u001b[43mfull_params\u001b[49m\u001b[43m,\u001b[49m\u001b[43m \u001b[49m\u001b[43mseed\u001b[49m\u001b[38;5;241;43m=\u001b[39;49m\u001b[43mseed\u001b[49m\u001b[43m)\u001b[49m\n\u001b[1;32m     36\u001b[0m res \u001b[38;5;241m=\u001b[39m {\u001b[38;5;124m'\u001b[39m\u001b[38;5;124mmodel\u001b[39m\u001b[38;5;124m'\u001b[39m: model}\n\u001b[1;32m     37\u001b[0m res\u001b[38;5;241m.\u001b[39mupdate({\u001b[38;5;124m'\u001b[39m\u001b[38;5;124mrmse_train\u001b[39m\u001b[38;5;124m'\u001b[39m: model\u001b[38;5;241m.\u001b[39mfitness\u001b[38;5;241m.\u001b[39mitem()})\n",
      "File \u001b[0;32m~/miniconda3/envs/nel/lib/python3.12/site-packages/slim_gsgp/main_gsgp.py:257\u001b[0m, in \u001b[0;36mgsgp\u001b[0;34m(X_train, y_train, X_test, y_test, dataset_name, pop_size, n_iter, p_xo, elitism, n_elites, init_depth, ms_lower, ms_upper, log_path, seed, log_level, verbose, reconstruct, fitness_function, initializer, minimization, prob_const, tree_functions, tree_constants, n_jobs, tournament_size, test_elite)\u001b[0m\n\u001b[1;32m    251\u001b[0m \u001b[38;5;66;03m# ================================\u001b[39;00m\n\u001b[1;32m    252\u001b[0m \u001b[38;5;66;03m#       Running the Algorithm\u001b[39;00m\n\u001b[1;32m    253\u001b[0m \u001b[38;5;66;03m# ================================\u001b[39;00m\n\u001b[1;32m    255\u001b[0m optimizer \u001b[38;5;241m=\u001b[39m GSGP(pi_init\u001b[38;5;241m=\u001b[39mgsgp_pi_init, \u001b[38;5;241m*\u001b[39m\u001b[38;5;241m*\u001b[39mgsgp_parameters)\n\u001b[0;32m--> 257\u001b[0m \u001b[43moptimizer\u001b[49m\u001b[38;5;241;43m.\u001b[39;49m\u001b[43msolve\u001b[49m\u001b[43m(\u001b[49m\n\u001b[1;32m    258\u001b[0m \u001b[43m    \u001b[49m\u001b[43mX_train\u001b[49m\u001b[38;5;241;43m=\u001b[39;49m\u001b[43mX_train\u001b[49m\u001b[43m,\u001b[49m\n\u001b[1;32m    259\u001b[0m \u001b[43m    \u001b[49m\u001b[43mX_test\u001b[49m\u001b[38;5;241;43m=\u001b[39;49m\u001b[43mX_test\u001b[49m\u001b[43m,\u001b[49m\n\u001b[1;32m    260\u001b[0m \u001b[43m    \u001b[49m\u001b[43my_train\u001b[49m\u001b[38;5;241;43m=\u001b[39;49m\u001b[43my_train\u001b[49m\u001b[43m,\u001b[49m\n\u001b[1;32m    261\u001b[0m \u001b[43m    \u001b[49m\u001b[43my_test\u001b[49m\u001b[38;5;241;43m=\u001b[39;49m\u001b[43my_test\u001b[49m\u001b[43m,\u001b[49m\n\u001b[1;32m    262\u001b[0m \u001b[43m    \u001b[49m\u001b[43mcurr_dataset\u001b[49m\u001b[38;5;241;43m=\u001b[39;49m\u001b[43mdataset_name\u001b[49m\u001b[43m,\u001b[49m\n\u001b[1;32m    263\u001b[0m \u001b[43m    \u001b[49m\u001b[38;5;241;43m*\u001b[39;49m\u001b[38;5;241;43m*\u001b[39;49m\u001b[43mgsgp_solve_parameters\u001b[49m\u001b[43m,\u001b[49m\n\u001b[1;32m    264\u001b[0m \u001b[43m\u001b[49m\u001b[43m)\u001b[49m\n\u001b[1;32m    266\u001b[0m log_settings(\n\u001b[1;32m    267\u001b[0m     path\u001b[38;5;241m=\u001b[39mlog_path[:\u001b[38;5;241m-\u001b[39m\u001b[38;5;241m4\u001b[39m] \u001b[38;5;241m+\u001b[39m \u001b[38;5;124m\"\u001b[39m\u001b[38;5;124m_settings.csv\u001b[39m\u001b[38;5;124m\"\u001b[39m,\n\u001b[1;32m    268\u001b[0m     settings_dict\u001b[38;5;241m=\u001b[39m[gsgp_solve_parameters,\n\u001b[0;32m   (...)\u001b[0m\n\u001b[1;32m    272\u001b[0m     unique_run_id\u001b[38;5;241m=\u001b[39munique_run_id,\n\u001b[1;32m    273\u001b[0m )\n\u001b[1;32m    274\u001b[0m \u001b[38;5;28;01mreturn\u001b[39;00m optimizer\u001b[38;5;241m.\u001b[39melite\n",
      "File \u001b[0;32m~/miniconda3/envs/nel/lib/python3.12/site-packages/slim_gsgp/algorithms/GSGP/gsgp.py:309\u001b[0m, in \u001b[0;36mGSGP.solve\u001b[0;34m(self, X_train, X_test, y_train, y_test, curr_dataset, n_iter, elitism, log, verbose, test_elite, log_path, run_info, ffunction, reconstruct, n_elites, n_jobs)\u001b[0m\n\u001b[1;32m    307\u001b[0m     p1, p2 \u001b[38;5;241m=\u001b[39m \u001b[38;5;28mself\u001b[39m\u001b[38;5;241m.\u001b[39mselector(population), \u001b[38;5;28mself\u001b[39m\u001b[38;5;241m.\u001b[39mselector(population)\n\u001b[1;32m    308\u001b[0m \u001b[38;5;66;03m# getting the random tree\u001b[39;00m\n\u001b[0;32m--> 309\u001b[0m r_tree \u001b[38;5;241m=\u001b[39m \u001b[43mget_random_tree\u001b[49m\u001b[43m(\u001b[49m\n\u001b[1;32m    310\u001b[0m \u001b[43m    \u001b[49m\u001b[43mmax_depth\u001b[49m\u001b[38;5;241;43m=\u001b[39;49m\u001b[38;5;28;43mself\u001b[39;49m\u001b[38;5;241;43m.\u001b[39;49m\u001b[43mpi_init\u001b[49m\u001b[43m[\u001b[49m\u001b[38;5;124;43m\"\u001b[39;49m\u001b[38;5;124;43minit_depth\u001b[39;49m\u001b[38;5;124;43m\"\u001b[39;49m\u001b[43m]\u001b[49m\u001b[43m,\u001b[49m\n\u001b[1;32m    311\u001b[0m \u001b[43m    \u001b[49m\u001b[43mFUNCTIONS\u001b[49m\u001b[38;5;241;43m=\u001b[39;49m\u001b[38;5;28;43mself\u001b[39;49m\u001b[38;5;241;43m.\u001b[39;49m\u001b[43mpi_init\u001b[49m\u001b[43m[\u001b[49m\u001b[38;5;124;43m\"\u001b[39;49m\u001b[38;5;124;43mFUNCTIONS\u001b[39;49m\u001b[38;5;124;43m\"\u001b[39;49m\u001b[43m]\u001b[49m\u001b[43m,\u001b[49m\n\u001b[1;32m    312\u001b[0m \u001b[43m    \u001b[49m\u001b[43mTERMINALS\u001b[49m\u001b[38;5;241;43m=\u001b[39;49m\u001b[38;5;28;43mself\u001b[39;49m\u001b[38;5;241;43m.\u001b[39;49m\u001b[43mpi_init\u001b[49m\u001b[43m[\u001b[49m\u001b[38;5;124;43m\"\u001b[39;49m\u001b[38;5;124;43mTERMINALS\u001b[39;49m\u001b[38;5;124;43m\"\u001b[39;49m\u001b[43m]\u001b[49m\u001b[43m,\u001b[49m\n\u001b[1;32m    313\u001b[0m \u001b[43m    \u001b[49m\u001b[43mCONSTANTS\u001b[49m\u001b[38;5;241;43m=\u001b[39;49m\u001b[38;5;28;43mself\u001b[39;49m\u001b[38;5;241;43m.\u001b[39;49m\u001b[43mpi_init\u001b[49m\u001b[43m[\u001b[49m\u001b[38;5;124;43m\"\u001b[39;49m\u001b[38;5;124;43mCONSTANTS\u001b[39;49m\u001b[38;5;124;43m\"\u001b[39;49m\u001b[43m]\u001b[49m\u001b[43m,\u001b[49m\n\u001b[1;32m    314\u001b[0m \u001b[43m    \u001b[49m\u001b[43minputs\u001b[49m\u001b[38;5;241;43m=\u001b[39;49m\u001b[43mX_train\u001b[49m\u001b[43m,\u001b[49m\n\u001b[1;32m    315\u001b[0m \u001b[43m    \u001b[49m\u001b[43mlogistic\u001b[49m\u001b[38;5;241;43m=\u001b[39;49m\u001b[38;5;28;43;01mTrue\u001b[39;49;00m\u001b[43m,\u001b[49m\n\u001b[1;32m    316\u001b[0m \u001b[43m    \u001b[49m\u001b[43mp_c\u001b[49m\u001b[38;5;241;43m=\u001b[39;49m\u001b[38;5;28;43mself\u001b[39;49m\u001b[38;5;241;43m.\u001b[39;49m\u001b[43mpi_init\u001b[49m\u001b[43m[\u001b[49m\u001b[38;5;124;43m\"\u001b[39;49m\u001b[38;5;124;43mp_c\u001b[39;49m\u001b[38;5;124;43m\"\u001b[39;49m\u001b[43m]\u001b[49m\u001b[43m,\u001b[49m\n\u001b[1;32m    317\u001b[0m \u001b[43m\u001b[49m\u001b[43m)\u001b[49m\n\u001b[1;32m    318\u001b[0m \u001b[38;5;66;03m# getting the testing semantics of the random trees, if applicable\u001b[39;00m\n\u001b[1;32m    319\u001b[0m \u001b[38;5;28;01mif\u001b[39;00m test_elite:\n",
      "File \u001b[0;32m~/miniconda3/envs/nel/lib/python3.12/site-packages/slim_gsgp/utils/utils.py:383\u001b[0m, in \u001b[0;36mget_random_tree\u001b[0;34m(max_depth, FUNCTIONS, TERMINALS, CONSTANTS, inputs, p_c, grow_probability, logistic)\u001b[0m\n\u001b[1;32m    373\u001b[0m     tree_structure \u001b[38;5;241m=\u001b[39m create_full_random_tree(\n\u001b[1;32m    374\u001b[0m         max_depth, FUNCTIONS, TERMINALS, CONSTANTS, p_c\n\u001b[1;32m    375\u001b[0m     )\n\u001b[1;32m    377\u001b[0m tree \u001b[38;5;241m=\u001b[39m Tree(\n\u001b[1;32m    378\u001b[0m     structure\u001b[38;5;241m=\u001b[39mtree_structure,\n\u001b[1;32m    379\u001b[0m     train_semantics\u001b[38;5;241m=\u001b[39m\u001b[38;5;28;01mNone\u001b[39;00m,\n\u001b[1;32m    380\u001b[0m     test_semantics\u001b[38;5;241m=\u001b[39m\u001b[38;5;28;01mNone\u001b[39;00m,\n\u001b[1;32m    381\u001b[0m     reconstruct\u001b[38;5;241m=\u001b[39m\u001b[38;5;28;01mTrue\u001b[39;00m,\n\u001b[1;32m    382\u001b[0m )\n\u001b[0;32m--> 383\u001b[0m \u001b[43mtree\u001b[49m\u001b[38;5;241;43m.\u001b[39;49m\u001b[43mcalculate_semantics\u001b[49m\u001b[43m(\u001b[49m\u001b[43minputs\u001b[49m\u001b[43m,\u001b[49m\u001b[43m \u001b[49m\u001b[43mtesting\u001b[49m\u001b[38;5;241;43m=\u001b[39;49m\u001b[38;5;28;43;01mFalse\u001b[39;49;00m\u001b[43m,\u001b[49m\u001b[43m \u001b[49m\u001b[43mlogistic\u001b[49m\u001b[38;5;241;43m=\u001b[39;49m\u001b[43mlogistic\u001b[49m\u001b[43m)\u001b[49m\n\u001b[1;32m    384\u001b[0m \u001b[38;5;28;01mreturn\u001b[39;00m tree\n",
      "File \u001b[0;32m~/miniconda3/envs/nel/lib/python3.12/site-packages/slim_gsgp/algorithms/GSGP/representations/tree.py:148\u001b[0m, in \u001b[0;36mTree.calculate_semantics\u001b[0;34m(self, inputs, testing, logistic)\u001b[0m\n\u001b[1;32m    144\u001b[0m \u001b[38;5;28;01melif\u001b[39;00m \u001b[38;5;28mself\u001b[39m\u001b[38;5;241m.\u001b[39mtrain_semantics \u001b[38;5;129;01mis\u001b[39;00m \u001b[38;5;28;01mNone\u001b[39;00m:\n\u001b[1;32m    145\u001b[0m     \u001b[38;5;66;03m# if the structure is a base (gp) tree, call apply_tree in order to obtain the semantics\u001b[39;00m\n\u001b[1;32m    146\u001b[0m     \u001b[38;5;28;01mif\u001b[39;00m \u001b[38;5;28misinstance\u001b[39m(\u001b[38;5;28mself\u001b[39m\u001b[38;5;241m.\u001b[39mstructure, \u001b[38;5;28mtuple\u001b[39m):\n\u001b[1;32m    147\u001b[0m         \u001b[38;5;28mself\u001b[39m\u001b[38;5;241m.\u001b[39mtrain_semantics \u001b[38;5;241m=\u001b[39m (\n\u001b[0;32m--> 148\u001b[0m             torch\u001b[38;5;241m.\u001b[39msigmoid(\u001b[43mapply_tree\u001b[49m\u001b[43m(\u001b[49m\u001b[38;5;28;43mself\u001b[39;49m\u001b[43m,\u001b[49m\u001b[43m \u001b[49m\u001b[43minputs\u001b[49m\u001b[43m)\u001b[49m)\n\u001b[1;32m    149\u001b[0m             \u001b[38;5;28;01mif\u001b[39;00m logistic\n\u001b[1;32m    150\u001b[0m             \u001b[38;5;28;01melse\u001b[39;00m apply_tree(\u001b[38;5;28mself\u001b[39m, inputs)\n\u001b[1;32m    151\u001b[0m         )\n\u001b[1;32m    152\u001b[0m     \u001b[38;5;28;01melse\u001b[39;00m:\n\u001b[1;32m    153\u001b[0m         \u001b[38;5;66;03m# otherwise, the semantics are computed by calling the operator (crossover or mutation)\u001b[39;00m\n\u001b[1;32m    154\u001b[0m         \u001b[38;5;66;03m# with the remaining structure of the individual\u001b[39;00m\n\u001b[1;32m    155\u001b[0m         \u001b[38;5;28mself\u001b[39m\u001b[38;5;241m.\u001b[39mtrain_semantics \u001b[38;5;241m=\u001b[39m \u001b[38;5;28mself\u001b[39m\u001b[38;5;241m.\u001b[39mstructure[\u001b[38;5;241m0\u001b[39m](\n\u001b[1;32m    156\u001b[0m             \u001b[38;5;241m*\u001b[39m\u001b[38;5;28mself\u001b[39m\u001b[38;5;241m.\u001b[39mstructure[\u001b[38;5;241m1\u001b[39m:], testing\u001b[38;5;241m=\u001b[39m\u001b[38;5;28;01mFalse\u001b[39;00m\n\u001b[1;32m    157\u001b[0m         )\n",
      "File \u001b[0;32m~/miniconda3/envs/nel/lib/python3.12/site-packages/slim_gsgp/algorithms/GSGP/representations/tree_utils.py:108\u001b[0m, in \u001b[0;36mapply_tree\u001b[0;34m(tree, inputs)\u001b[0m\n\u001b[1;32m    106\u001b[0m     right_subtree \u001b[38;5;241m=\u001b[39m Tree(right_subtree)\n\u001b[1;32m    107\u001b[0m     left_result \u001b[38;5;241m=\u001b[39m left_subtree\u001b[38;5;241m.\u001b[39mapply_tree(inputs)\n\u001b[0;32m--> 108\u001b[0m     right_result \u001b[38;5;241m=\u001b[39m \u001b[43mright_subtree\u001b[49m\u001b[38;5;241;43m.\u001b[39;49m\u001b[43mapply_tree\u001b[49m\u001b[43m(\u001b[49m\u001b[43minputs\u001b[49m\u001b[43m)\u001b[49m\n\u001b[1;32m    109\u001b[0m     output \u001b[38;5;241m=\u001b[39m tree\u001b[38;5;241m.\u001b[39mFUNCTIONS[function_name][\u001b[38;5;124m\"\u001b[39m\u001b[38;5;124mfunction\u001b[39m\u001b[38;5;124m\"\u001b[39m](\n\u001b[1;32m    110\u001b[0m         left_result, right_result\n\u001b[1;32m    111\u001b[0m     )\n\u001b[1;32m    112\u001b[0m \u001b[38;5;28;01melse\u001b[39;00m:\n",
      "File \u001b[0;32m~/miniconda3/envs/nel/lib/python3.12/site-packages/slim_gsgp/algorithms/GP/representations/tree.py:76\u001b[0m, in \u001b[0;36mTree.apply_tree\u001b[0;34m(self, inputs)\u001b[0m\n\u001b[1;32m     73\u001b[0m     \u001b[38;5;28mself\u001b[39m\u001b[38;5;241m.\u001b[39mtest_fitness \u001b[38;5;241m=\u001b[39m \u001b[38;5;28;01mNone\u001b[39;00m\n\u001b[1;32m     74\u001b[0m     \u001b[38;5;28mself\u001b[39m\u001b[38;5;241m.\u001b[39mnode_count \u001b[38;5;241m=\u001b[39m \u001b[38;5;28mlen\u001b[39m(\u001b[38;5;28mlist\u001b[39m(flatten(\u001b[38;5;28mself\u001b[39m\u001b[38;5;241m.\u001b[39mrepr_)))\n\u001b[0;32m---> 76\u001b[0m \u001b[38;5;28;01mdef\u001b[39;00m\u001b[38;5;250m \u001b[39m\u001b[38;5;21mapply_tree\u001b[39m(\u001b[38;5;28mself\u001b[39m, inputs):\n\u001b[1;32m     77\u001b[0m \u001b[38;5;250m    \u001b[39m\u001b[38;5;124;03m\"\"\"\u001b[39;00m\n\u001b[1;32m     78\u001b[0m \u001b[38;5;124;03m    Evaluates the tree on input vectors.\u001b[39;00m\n\u001b[1;32m     79\u001b[0m \n\u001b[0;32m   (...)\u001b[0m\n\u001b[1;32m     88\u001b[0m \u001b[38;5;124;03m        Output of the evaluated tree.\u001b[39;00m\n\u001b[1;32m     89\u001b[0m \u001b[38;5;124;03m    \"\"\"\u001b[39;00m\n\u001b[1;32m     91\u001b[0m     \u001b[38;5;28;01mreturn\u001b[39;00m _execute_tree(\n\u001b[1;32m     92\u001b[0m         repr_\u001b[38;5;241m=\u001b[39m\u001b[38;5;28mself\u001b[39m\u001b[38;5;241m.\u001b[39mrepr_,\n\u001b[1;32m     93\u001b[0m         X\u001b[38;5;241m=\u001b[39minputs,\n\u001b[0;32m   (...)\u001b[0m\n\u001b[1;32m     96\u001b[0m         CONSTANTS\u001b[38;5;241m=\u001b[39m\u001b[38;5;28mself\u001b[39m\u001b[38;5;241m.\u001b[39mCONSTANTS\n\u001b[1;32m     97\u001b[0m     )\n",
      "\u001b[0;31mKeyboardInterrupt\u001b[0m: "
     ]
    }
   ],
   "source": [
    "# Running the model\n",
    "results = []\n",
    "for i_inner, (train_ix, val_ix) in enumerate(data_cv_inner):\n",
    "    print('-----\\nInner CV {}'.format(i_inner))\n",
    "    \n",
    "    # Data\n",
    "    X_train, y_train = X_learning[train_ix], y_learning[train_ix]\n",
    "    X_val, y_val = X_learning[val_ix], y_learning[val_ix]\n",
    "\n",
    "    print(f'Training shape: {X_train.shape}\\nValidation shape: {X_val.shape}\\n')\n",
    "    \n",
    "    solver_params.update({\n",
    "        'X_train': X_train, 'y_train': y_train,\n",
    "        'X_test': X_val, 'y_test': y_val\n",
    "    })\n",
    "\n",
    "    # Fit\n",
    "    log_path = f\"{log_params['log_path']}_{solver_params['algorithm']}_{str(i_inner)}.csv\"\n",
    "\n",
    "    if os.path.exists(log_path):\n",
    "        os.remove(log_path)\n",
    "\n",
    "    solver_params.update({'log_path': log_path})\n",
    "    \n",
    "    res = caller.call_model(\n",
    "        solver_params, \n",
    "        grid_params,\n",
    "        seed=(sys_params['random_seed'] + i_inner)    \n",
    "    )\n",
    "    \n",
    "    # Log\n",
    "    results.append(res)"
   ]
  },
  {
   "cell_type": "markdown",
   "metadata": {},
   "source": [
    "## 5. Model Assessment\n",
    "\n",
    "- Visualize train, validation results for convergence and overfit.\n",
    "- Assesses symbolic expressions for bloat.\n",
    "- Assess best model based on above criteria"
   ]
  },
  {
   "cell_type": "code",
   "execution_count": null,
   "metadata": {},
   "outputs": [],
   "source": [
    "# Plotting Settings\n",
    "dataset_name = solver_params['dataset_name']\n",
    "log_dir = log_params['log_path']\n",
    "train_color = sys_params['train_color']\n",
    "test_color = sys_params['test_color']"
   ]
  },
  {
   "cell_type": "code",
   "execution_count": null,
   "metadata": {},
   "outputs": [],
   "source": [
    "# Plot settings\n",
    "df_log = []\n",
    "for i_inner in range(k_inner):\n",
    "    tmp = pd.read_csv(f\"{log_dir}_{solver_params['algorithm']}_{i_inner}.csv\", header=None)\n",
    "    tmp['cv'] = i_inner\n",
    "    df_log.append(tmp)\n",
    "df_log = pd.concat(df_log, ignore_index=True)"
   ]
  },
  {
   "cell_type": "markdown",
   "metadata": {},
   "source": [
    "### Train, Validation Average Fold Results"
   ]
  },
  {
   "cell_type": "code",
   "execution_count": null,
   "metadata": {},
   "outputs": [
    {
     "data": {
      "application/vnd.plotly.v1+json": {
       "config": {
        "plotlyServerURL": "https://plot.ly"
       },
       "data": [
        {
         "line": {
          "color": "blue"
         },
         "mode": "lines",
         "name": "Train",
         "type": "scatter",
         "x": {
          "bdata": "AAECAwQFBgcICQoLDA0ODxAREhMUFRYXGBkaGxwdHh8gISIjJCUmJygpKissLS4vMDEyMzQ1Njc4OTo7PD0+P0BBQkNERUZHSElKS0xNTk9QUVJTVFVWV1hZWltcXV5fYGFiY2Q=",
          "dtype": "i1"
         },
         "y": {
          "bdata": "REREDKURQUABRxEa4YBAQNSt+UFX/D5Ak3kBV2wHPkCF9hIi1Jc9QGJSxwpdXT1A6tb8ILgjPUAzsQnm2Q89QJjQXuorCj1AtFQSP2oEPUCkDDxF4QE9QH6XD8rV/zxAjyb33az8PEBHUD2zuvo8QNQvI/cO+TxA9xLagxj3PEC/ywcFxPU8QFKEdCEc8zxADgHFL/vwPEBregWSDe88QJ7so9pk7DxACGepfIjqPEDsIWFdi+g8QGJSx+pF5jxAuzmS5o7jPEClzdBPUuE8QIeA4qs93zxAE5vgAuvcPEBFxm2h4tk8QMMeEv791zxAyPNFLGzVPEAMd/UtiNI8QMsDkq1s0DxAMm5LVufNPEBqdrKniMs8QCpGDT/QyDxA/rSbs+zFPECxSBmoOsM8QJqZmYEKwTxAPF/E7GK+PEBzY9iz3rs8QJ+xi2emuDxAAD9rddm1PED1TfKW+LI8QOEslUR7sDxAMiuNDiOuPEBCewk9XKw8QLTWO/ymqTxAG/42lQynPEBAMKU4sKQ8QKvtaPJGojxA8wKOquOfPEAQyv/eVp08QARTCjF3mzxAhnyP+eCYPED6IiYF+5U8QNFilY1gkzxAbQTVe3mRPED+dTBuD488QCAWKQN3jDxAdjBmzciJPEBnqSROAIc8QD/pkz5ehDxAgGBKySGCPEDi8Xxh5388QGt6BWJhfTxAGXi6Vbp6PEApQrocb3g8QB8S1qgFdjxAsQmuiiRzPECZ2AS/DXE8QBh0Z3NAbjxAafA1mP9rPED+tJsDdWk8QAaebkUYZzxAso8qMnVkPEBPt+ZXPmI8QJHvMYV4XzxAAD9r5TtdPEAa+uOai1o8QF7AUUwhWDxAAUcRas1VPEAFlshovFM8QDzdmr9dUTxAJXHZUMNOPECJCrKtHEw8QKbVduxLSTxAWefKc/9GPEAVZBsC5UQ8QB1Jm0l0QjxAhj0k9Ns/PEAjZeDRcz08QCUuG6kROzxANsFVH184PEBI1rkqATY8QHFX3zyqMzxACWv8Li4xPEBaKolL7y48QPG3KQZQLDxAv4yc7w0qPEAumRfwiyc8QA==",
          "dtype": "f8"
         }
        },
        {
         "line": {
          "width": 0
         },
         "mode": "lines",
         "showlegend": false,
         "type": "scatter",
         "x": {
          "bdata": "AAECAwQFBgcICQoLDA0ODxAREhMUFRYXGBkaGxwdHh8gISIjJCUmJygpKissLS4vMDEyMzQ1Njc4OTo7PD0+P0BBQkNERUZHSElKS0xNTk9QUVJTVFVWV1hZWltcXV5fYGFiY2Q=",
          "dtype": "i1"
         },
         "y": {
          "bdata": "JVgZEM5mSkA+hQYNIM1JQOaR2/pmWklAmeJub+cjSUA4nY+7WwpJQJDeghUxBklAGtP/S3MESUC7K9CzfQJJQKy/wbpyAUlAOnM7t67/SEBKy++jyv5IQDTRW5i6/UhAQmjrsBP8SEC+vlGi7PpIQPlvjVNW+khACuQkTvz4SEDwOIjaXPhIQFR1Xf1j9khA9n6IUGH1SEBjgnOOTvRIQDmNhRa78khArlS9yKXxSEAErs2yZvBIQLaW+6Ur70hAPrwKLlbtSEA2T44Q/etIQAoEfl6T6khAvt8A4NDoSEDMa6SJ9OZIQB7hl7Pb5UhA8qAmxnDkSECmopY5quJIQK/d91R24UhAdWHz1bbfSECMZh9bW95IQIx4h3iM3EhA3Qu19H/aSEDZNawg8dhIQLy04z6U10hASedHGOvVSEAaRzxoL9RIQH5uzHhW0khAyuaPlmnQSEAovFbnls5IQCaj744WzUhAJHFD4KvLSEDC7l3jicpIQGqmPZnFyEhAegOsBh3HSED0XdPlssVIQOGkPipSxEhA7JSN+9bCSECjU46GPMFIQKpmGLsKwEhAHkj7uH++SEBAPgeHv7xIQBvz4nIhu0hAzXxiGsu5SEBs16mbJrhIQJZOUr+LtkhAeifpYMe0SEDB5KnX7rJIQO4QanJtsUhAIqYxtBewSEAYbvlauK5IQH71T7v3rEhAWgvwHUurSEDyO/Np5alIQAJaPisrqEhA7B/xwCCmSECPIElZv6RIQNDWKIXsokhAXobz23uhSEDigt6Y959IQGBU45ornkhArAVNoWacSECq0qZrEptIQCugb4cHmUhA9R3/R3SXSEBmJ5x5t5VIQKCUBtkilEhAWDk27oWSSEDjg9iYbJFIQN5Cew32j0hANuiMTomOSECaZuFTy4xIQHhggT23ikhAYm4T8T6JSECKLc9z2YdIQLOSVXZThkhA9PYII4iESEDhmQdc2YJIQDuj3ndagUhATZoID21/SEBuM21SDH5IQOGu8dVJfEhAxUGh/Jl6SECs0siWG3lIQKDik3spd0hATUqdX7J1SEDiBQMY1nNIQA==",
          "dtype": "f8"
         }
        },
        {
         "fill": "tonexty",
         "fillcolor": "rgba(0,0,255,0.1)",
         "line": {
          "width": 0
         },
         "mode": "lines",
         "showlegend": false,
         "type": "scatter",
         "x": {
          "bdata": "AAECAwQFBgcICQoLDA0ODxAREhMUFRYXGBkaGxwdHh8gISIjJCUmJygpKissLS4vMDEyMzQ1Njc4OTo7PD0+P0BBQkNERUZHSElKS0xNTk9QUVJTVFVWV1hZWltcXV5fYGFiY2Q=",
          "dtype": "i1"
         },
         "y": {
          "bdata": "jMG8IfDxLkASI3CciNIsQLpveBzBhyZA6FtKnhOOI0A2ZQ2a4TUiQEbPEdWvXCFAQg/0UxN9IEDgFebIcDUgQLBDdL7kIiBA6IVbH+4SIEBoBTGFWgwgQCgZz8ZsCCBANvkutGQCIEBMjFyHcP4fQNj+rRzF9R9AZHepreHwH0B4lvxTOesfQPB3uCDB5R9AvBDk+c7cH0BAwI8c+NUfQCj78iBOzR9A0JJgnxXHH0BAn5tUJcEfQGDdXSbSuB9A5Os7xMWxH0B48xP6qaofQOTjI2tSpR9ApNr9FtGgH0DE00q+cJcfQCjt0VMSkR9AtJb6MNuHH0Aso/ai734fQOAw0cSydx9A6GXAAoRxH0DsfphkamkfQPBsLjQeYh9ACEk192VbH0DAlmg7TFIfQPQmrxWySx9AmL/jo75DH0DE4uBcej0fQAgZ+nV/Mh9AtMHa9n4rH0Bsjtx8DSMfQNRNLK0lGx9AbNBNcrkTH0AEZFzNkg4fQEyC8RcLBx9ABNVXdHz/HkBcko6W6vceQFBGUkGm7x5AOHADeGXoHkBos4vD0uAeQMxij69j2x5APKOhBArTHkDUJffw28keQLB9k9X4wR5AAD2UC3O9HkCQ9DSURrceQEw8th5arx5A3EfoYwuoHkAwJdazi6AeQIzCTmGGlx5A8NLFqFCQHkBUHhw0eIkeQGgnrDVNgx5A+GVTvnl7HkC8MTiWTXQeQOjAvezTbh5AJE7nTR5oHkBQwN0tc2IeQEDq9HGfWh5AXFAT4h1UHkDgkOlV60seQDBNWlRlRx5ALFDshnRAHkAkJf9hXzkeQDB7Eu6HMx5AWAhh6zwuHkCclT4KoSYeQOxdWZrzHx5ARG3Y3jsaHkAQkYB/fhIeQOzS/JA9Cx5AdEdkEtABHkB0H4XOivodQHCpq3el9B1AvMe7FQTuHUBUtGFyXOgdQFCzLZoG4R1AjDTaiJ7aHUAQWsau09QdQFBX5Im5zR1ASDdpgpDHHUDUFmXCpr8dQIBEbTcDux1AIErZkqG0HUBsvQKmna4dQIyqrlQ0qR1AkBP6f9yiHUBkmqTArp0dQA==",
          "dtype": "f8"
         }
        },
        {
         "line": {
          "color": "orange"
         },
         "mode": "lines",
         "name": "Validation",
         "type": "scatter",
         "x": {
          "bdata": "AAECAwQFBgcICQoLDA0ODxAREhMUFRYXGBkaGxwdHh8gISIjJCUmJygpKissLS4vMDEyMzQ1Njc4OTo7PD0+P0BBQkNERUZHSElKS0xNTk9QUVJTVFVWV1hZWltcXV5fYGFiY2Q=",
          "dtype": "i1"
         },
         "y": {
          "bdata": "zczMFFHdQECVgaeb0yhAQL4GINgfGT9AX0J7QbI/PkCCq67FI+w9QMcysdm76T1A3Rj2cIinPUBPeHtK7ZI9QCd5fx35cz1AYImMi9NtPUCLFqsEg2E9QIrPmUoqZT1AuWwE1d5sPUBNbILrbGU9QJR9VHn9YT1AuvKAfGlgPUC5r8KEll89QDgIZ0ECXj1AjBr+9kddPUC7t2jpYFo9QDgMuuPmVz1A3p5yCA9WPUBgB2NWRVU9QCwPSK6YUT1AhLNUUsNOPUA7Vx6wbUw9QJeNoOpbSj1AMKUQh1JIPUAVZBsiLkU9QDHozi5+Qz1AE5vgCvFAPUCsb5J/ID49QMIavwsrPD1ADwUY6qk5PUCQbQhASzc9QMCQ7+G5ND1AQ77HNL8xPUChfhmpDi89QIvT7HzRLD1Ah0F3pkAqPUBpM/RXxic9QNMr0DyXJD1AkjZDH+ghPUDgKELS9B49QP42xRivHD1AFeZED1YaPUBjlYWanRg9QF+FOVnzFT1Aw119y4UTPUDJuC35LhE9QKA3CK/HDj1Ahj0k7FwMPUCmU02Xygk9QBan2TECCD1ALx+U93UFPUCxykI1hgI9QPys9Xb8/zxAef3zxgz+PEBAbxB2sfs8QGGN39UB+TxA4vF8YUP2PECtc+W5b/M8QDV6RB3I8DxAh79NmX7uPEAI5X93LOw8QDBmpZGa6TxACq66VvfmPEAvnWpyu+Q8QFRNr1gg4jxAP2u9w0LfPEBtBNXrJd08QM4T3g5X2jxAtp920wvYPECBZJ3TgtU8QOaD8n8j0zxAyDYERIzQPEC7eP1LWc48QLs5kmafyzxAQDCl8FvJPEAnOhTAecY8QMIav/sMxDxA72zFGb7BPED42xQLqL88QOsZu8BEvTxAg2xDyMW6PEC1XLgbH7g8QJLzhLcqtTxATS0Xdr2yPEBregXqmbA8QOiLmHwmrjxAJvMCRmWrPEA5EA3WEKk8QCKg+CSBpjxAGXi6pd2jPECIRcpAdqE8QAntJbQMnzxAY9Twh4qcPEA9ooKUWJo8QNxTDrSVlzxAb80P21OVPEDtJbS/r5I8QA==",
          "dtype": "f8"
         }
        },
        {
         "line": {
          "width": 0
         },
         "mode": "lines",
         "showlegend": false,
         "type": "scatter",
         "x": {
          "bdata": "AAECAwQFBgcICQoLDA0ODxAREhMUFRYXGBkaGxwdHh8gISIjJCUmJygpKissLS4vMDEyMzQ1Njc4OTo7PD0+P0BBQkNERUZHSElKS0xNTk9QUVJTVFVWV1hZWltcXV5fYGFiY2Q=",
          "dtype": "i1"
         },
         "y": {
          "bdata": "T0Lo7YsMSkCQInE0gFZJQK6DG4wMeUlA7qp1UtRBSUCiLGr3WCZJQNzKtGYLJElA4tEqZjUbSUDwspttdBVJQDeSAEmNBElAJvkM9DMJSUAGkN9bOwhJQJSUzeDZA0lAXBoPX18JSUBqWutY0QVJQGyDNPQnBElAGELdlgoDSUDIviN4igJJQDKn4/2zAElArfZ6tfT/SECmzaME1/5IQKJBeERR/UhAblbThSz8SEDqULZjevtIQOKxegva+UhAu2lYxsr3SECg+SqFc/ZIQLgfYfAL9UhA+/rgonHzSECWsEJFgvFIQF6gJBuF8EhAMq5W/yPvSEAYTWwVWO1IQKa+4DQv7EhAY1VgOHHqSECsN2vNGulIQJdi6T9Q50hAyW5y21LlSEB4KzFq0ONIQOLO63SC4khAKFoekeLgSECLt0mtKt9IQMiYEOxN3UhAxCXM/2nbSEC3PTv4oNlIQOA/KbIv2EhAWNENacjWSED/mkfpr9VIQLOIEAH200hApELgTljSSEDU5lUR8tBIQBtW3OmZz0hAStMBYRzOSEB5q/2Vk8xIQBKQBL1vy0hAdO3aSuzJSECSuWIGLMhIQCfBinGjxkhApzrxyFTFSED8qI4fvMNIQNLosTQuwkhA/kyb0WrASEBiIpb1mL5IQOa3EtIevUhACtlqmNO7SEAE+1cKfLpIQLv9wle/uEhA0vCAFxm3SEAe282wxrVIQAhnepkRtEhA4HIbCRCySEBOqr0IuLBIQAp6lG3zrkhAZsfF146tSEB6Ly1uEKxIQKBxB45FqkhAXmw24I+oSEAW9OHUR6dIQNT2q99CpUhAbJsFwrejSEB1+om2+qFIQEpwfddxoEhAyhtAFuGeSECja1l0yJ1IQILY4YZnnEhAYtxaQAObSEDzjcV0WZlIQKYx7SlLl0hAyrnhCdeVSECK7fere5RIQPZJVJ38kkhANo37sDORSEAZDh84jY9IQCZjWnsUjkhAdYjXtS+MSEASlfGC0YpIQI1ALGAXiUhAR1R6UnOHSECorzKa/YVIQMzdsXAfhEhAdFo2QK+CSECVmB+t3oBIQA==",
          "dtype": "f8"
         }
        },
        {
         "fill": "tonexty",
         "fillcolor": "rgba(255,165,0,0.1)",
         "line": {
          "width": 0
         },
         "mode": "lines",
         "showlegend": false,
         "type": "scatter",
         "x": {
          "bdata": "AAECAwQFBgcICQoLDA0ODxAREhMUFRYXGBkaGxwdHh8gISIjJCUmJygpKissLS4vMDEyMzQ1Njc4OTo7PD0+P0BBQkNERUZHSElKS0xNTk9QUVJTVFVWV1hZWltcXV5fYGFiY2Q=",
          "dtype": "i1"
         },
         "y": {
          "bdata": "LF3F7li4LkBogncLnOwrQEIMEjBNgCZAxF0WvHf3I0CA+xE5KxcjQK6f8cvBFiNA7BstK0wxIkB8FX9z4/UhQMCb+1GvvSFA6ED+XX6SIUASGi6jHmUhQNrrMKdBhSFAcknV1/2NIUCMR1xKbn4hQJ7ofxRWdyFAiMKOlnt1IUDEw3syMHQhQBqEDQ45dSFAfI8MBk11IUBWqBOTJ24hQFYqB31WaiFAwCF9CopnIUDY2bLKK2chQCp1NYv6XiFAJCfxL+JbIUBuds2r6FchQHq3/eg/VSFA1Ki+kINTIUD6zWJzr04hQE4fqU7kSyFAhLMnLjRHIUBQipioIUMhQG5weVvvPyFAsL7exuI8IUCO13TKwTghQKS4GIimNSFA6D1VZbExIUCkTKH7+CwhQKQSBCA8KSFAep1jVXglIUB476mqbiIhQCxM/kIlHSFANkPcffgZIUCkrBtoTxUhQHjcb5r9ESFA8lLcmDYOIUCQ6ffEtgshQLDyo2D1ByFAemx08rUEIUDWR1+f8wAhQBSGrxS3/CBA8KiJLAL5IEC0oD4F3PQgQA5cVNNJ8iBA7sbksibuIEB+RIC7aOkgQFSvqxVk5SBASAsL+N/iIEASGQda1d8gQDyStoRO2yBAkpOGP2LXIEAqRT0RW9MgQD4JxyylziBA9pmLA6zKIEAOqJ+0wcYgQNShiedswyBA4vTm/Hi/IEBGCHMG07sgQC6Z0/w6uCBAfuGH6sq0IEB+aF2Mt7EgQBBnJoWOrSBAQGHD7vOpIEAa1MCVyaUgQBpJrMd3oyBAqik3j/GfIECUEm7cRZwgQJ4LmRtymSBAUFN+upCWIEDI/igm/JEgQOCpBpFsjiBAlEQVDnSLIEBUwe1afocgQKYFZed0gyBAhkCiHwp/IEAIO8ubFnsgQLAHXzZ+dyBACs7VsJlzIECEMzb4eHAgQMYHEX2nbCBAvpcdVMZoIECACLh3DmYgQPDzeKayYSBAkL6Lv7deIEDWwWL3klogQPCx5k/VVyBAcADa1VxUIEBSyj/pa1EgQEDYcQ3ZTSBA7stla5JKIEBgNVJKREcgQA==",
          "dtype": "f8"
         }
        }
       ],
       "layout": {
        "height": 500,
        "legend": {
         "orientation": "h",
         "x": 0.5,
         "xanchor": "center",
         "y": -0.2
        },
        "template": {
         "data": {
          "bar": [
           {
            "error_x": {
             "color": "#2a3f5f"
            },
            "error_y": {
             "color": "#2a3f5f"
            },
            "marker": {
             "line": {
              "color": "#E5ECF6",
              "width": 0.5
             },
             "pattern": {
              "fillmode": "overlay",
              "size": 10,
              "solidity": 0.2
             }
            },
            "type": "bar"
           }
          ],
          "barpolar": [
           {
            "marker": {
             "line": {
              "color": "#E5ECF6",
              "width": 0.5
             },
             "pattern": {
              "fillmode": "overlay",
              "size": 10,
              "solidity": 0.2
             }
            },
            "type": "barpolar"
           }
          ],
          "carpet": [
           {
            "aaxis": {
             "endlinecolor": "#2a3f5f",
             "gridcolor": "white",
             "linecolor": "white",
             "minorgridcolor": "white",
             "startlinecolor": "#2a3f5f"
            },
            "baxis": {
             "endlinecolor": "#2a3f5f",
             "gridcolor": "white",
             "linecolor": "white",
             "minorgridcolor": "white",
             "startlinecolor": "#2a3f5f"
            },
            "type": "carpet"
           }
          ],
          "choropleth": [
           {
            "colorbar": {
             "outlinewidth": 0,
             "ticks": ""
            },
            "type": "choropleth"
           }
          ],
          "contour": [
           {
            "colorbar": {
             "outlinewidth": 0,
             "ticks": ""
            },
            "colorscale": [
             [
              0,
              "#0d0887"
             ],
             [
              0.1111111111111111,
              "#46039f"
             ],
             [
              0.2222222222222222,
              "#7201a8"
             ],
             [
              0.3333333333333333,
              "#9c179e"
             ],
             [
              0.4444444444444444,
              "#bd3786"
             ],
             [
              0.5555555555555556,
              "#d8576b"
             ],
             [
              0.6666666666666666,
              "#ed7953"
             ],
             [
              0.7777777777777778,
              "#fb9f3a"
             ],
             [
              0.8888888888888888,
              "#fdca26"
             ],
             [
              1,
              "#f0f921"
             ]
            ],
            "type": "contour"
           }
          ],
          "contourcarpet": [
           {
            "colorbar": {
             "outlinewidth": 0,
             "ticks": ""
            },
            "type": "contourcarpet"
           }
          ],
          "heatmap": [
           {
            "colorbar": {
             "outlinewidth": 0,
             "ticks": ""
            },
            "colorscale": [
             [
              0,
              "#0d0887"
             ],
             [
              0.1111111111111111,
              "#46039f"
             ],
             [
              0.2222222222222222,
              "#7201a8"
             ],
             [
              0.3333333333333333,
              "#9c179e"
             ],
             [
              0.4444444444444444,
              "#bd3786"
             ],
             [
              0.5555555555555556,
              "#d8576b"
             ],
             [
              0.6666666666666666,
              "#ed7953"
             ],
             [
              0.7777777777777778,
              "#fb9f3a"
             ],
             [
              0.8888888888888888,
              "#fdca26"
             ],
             [
              1,
              "#f0f921"
             ]
            ],
            "type": "heatmap"
           }
          ],
          "histogram": [
           {
            "marker": {
             "pattern": {
              "fillmode": "overlay",
              "size": 10,
              "solidity": 0.2
             }
            },
            "type": "histogram"
           }
          ],
          "histogram2d": [
           {
            "colorbar": {
             "outlinewidth": 0,
             "ticks": ""
            },
            "colorscale": [
             [
              0,
              "#0d0887"
             ],
             [
              0.1111111111111111,
              "#46039f"
             ],
             [
              0.2222222222222222,
              "#7201a8"
             ],
             [
              0.3333333333333333,
              "#9c179e"
             ],
             [
              0.4444444444444444,
              "#bd3786"
             ],
             [
              0.5555555555555556,
              "#d8576b"
             ],
             [
              0.6666666666666666,
              "#ed7953"
             ],
             [
              0.7777777777777778,
              "#fb9f3a"
             ],
             [
              0.8888888888888888,
              "#fdca26"
             ],
             [
              1,
              "#f0f921"
             ]
            ],
            "type": "histogram2d"
           }
          ],
          "histogram2dcontour": [
           {
            "colorbar": {
             "outlinewidth": 0,
             "ticks": ""
            },
            "colorscale": [
             [
              0,
              "#0d0887"
             ],
             [
              0.1111111111111111,
              "#46039f"
             ],
             [
              0.2222222222222222,
              "#7201a8"
             ],
             [
              0.3333333333333333,
              "#9c179e"
             ],
             [
              0.4444444444444444,
              "#bd3786"
             ],
             [
              0.5555555555555556,
              "#d8576b"
             ],
             [
              0.6666666666666666,
              "#ed7953"
             ],
             [
              0.7777777777777778,
              "#fb9f3a"
             ],
             [
              0.8888888888888888,
              "#fdca26"
             ],
             [
              1,
              "#f0f921"
             ]
            ],
            "type": "histogram2dcontour"
           }
          ],
          "mesh3d": [
           {
            "colorbar": {
             "outlinewidth": 0,
             "ticks": ""
            },
            "type": "mesh3d"
           }
          ],
          "parcoords": [
           {
            "line": {
             "colorbar": {
              "outlinewidth": 0,
              "ticks": ""
             }
            },
            "type": "parcoords"
           }
          ],
          "pie": [
           {
            "automargin": true,
            "type": "pie"
           }
          ],
          "scatter": [
           {
            "fillpattern": {
             "fillmode": "overlay",
             "size": 10,
             "solidity": 0.2
            },
            "type": "scatter"
           }
          ],
          "scatter3d": [
           {
            "line": {
             "colorbar": {
              "outlinewidth": 0,
              "ticks": ""
             }
            },
            "marker": {
             "colorbar": {
              "outlinewidth": 0,
              "ticks": ""
             }
            },
            "type": "scatter3d"
           }
          ],
          "scattercarpet": [
           {
            "marker": {
             "colorbar": {
              "outlinewidth": 0,
              "ticks": ""
             }
            },
            "type": "scattercarpet"
           }
          ],
          "scattergeo": [
           {
            "marker": {
             "colorbar": {
              "outlinewidth": 0,
              "ticks": ""
             }
            },
            "type": "scattergeo"
           }
          ],
          "scattergl": [
           {
            "marker": {
             "colorbar": {
              "outlinewidth": 0,
              "ticks": ""
             }
            },
            "type": "scattergl"
           }
          ],
          "scattermap": [
           {
            "marker": {
             "colorbar": {
              "outlinewidth": 0,
              "ticks": ""
             }
            },
            "type": "scattermap"
           }
          ],
          "scattermapbox": [
           {
            "marker": {
             "colorbar": {
              "outlinewidth": 0,
              "ticks": ""
             }
            },
            "type": "scattermapbox"
           }
          ],
          "scatterpolar": [
           {
            "marker": {
             "colorbar": {
              "outlinewidth": 0,
              "ticks": ""
             }
            },
            "type": "scatterpolar"
           }
          ],
          "scatterpolargl": [
           {
            "marker": {
             "colorbar": {
              "outlinewidth": 0,
              "ticks": ""
             }
            },
            "type": "scatterpolargl"
           }
          ],
          "scatterternary": [
           {
            "marker": {
             "colorbar": {
              "outlinewidth": 0,
              "ticks": ""
             }
            },
            "type": "scatterternary"
           }
          ],
          "surface": [
           {
            "colorbar": {
             "outlinewidth": 0,
             "ticks": ""
            },
            "colorscale": [
             [
              0,
              "#0d0887"
             ],
             [
              0.1111111111111111,
              "#46039f"
             ],
             [
              0.2222222222222222,
              "#7201a8"
             ],
             [
              0.3333333333333333,
              "#9c179e"
             ],
             [
              0.4444444444444444,
              "#bd3786"
             ],
             [
              0.5555555555555556,
              "#d8576b"
             ],
             [
              0.6666666666666666,
              "#ed7953"
             ],
             [
              0.7777777777777778,
              "#fb9f3a"
             ],
             [
              0.8888888888888888,
              "#fdca26"
             ],
             [
              1,
              "#f0f921"
             ]
            ],
            "type": "surface"
           }
          ],
          "table": [
           {
            "cells": {
             "fill": {
              "color": "#EBF0F8"
             },
             "line": {
              "color": "white"
             }
            },
            "header": {
             "fill": {
              "color": "#C8D4E3"
             },
             "line": {
              "color": "white"
             }
            },
            "type": "table"
           }
          ]
         },
         "layout": {
          "annotationdefaults": {
           "arrowcolor": "#2a3f5f",
           "arrowhead": 0,
           "arrowwidth": 1
          },
          "autotypenumbers": "strict",
          "coloraxis": {
           "colorbar": {
            "outlinewidth": 0,
            "ticks": ""
           }
          },
          "colorscale": {
           "diverging": [
            [
             0,
             "#8e0152"
            ],
            [
             0.1,
             "#c51b7d"
            ],
            [
             0.2,
             "#de77ae"
            ],
            [
             0.3,
             "#f1b6da"
            ],
            [
             0.4,
             "#fde0ef"
            ],
            [
             0.5,
             "#f7f7f7"
            ],
            [
             0.6,
             "#e6f5d0"
            ],
            [
             0.7,
             "#b8e186"
            ],
            [
             0.8,
             "#7fbc41"
            ],
            [
             0.9,
             "#4d9221"
            ],
            [
             1,
             "#276419"
            ]
           ],
           "sequential": [
            [
             0,
             "#0d0887"
            ],
            [
             0.1111111111111111,
             "#46039f"
            ],
            [
             0.2222222222222222,
             "#7201a8"
            ],
            [
             0.3333333333333333,
             "#9c179e"
            ],
            [
             0.4444444444444444,
             "#bd3786"
            ],
            [
             0.5555555555555556,
             "#d8576b"
            ],
            [
             0.6666666666666666,
             "#ed7953"
            ],
            [
             0.7777777777777778,
             "#fb9f3a"
            ],
            [
             0.8888888888888888,
             "#fdca26"
            ],
            [
             1,
             "#f0f921"
            ]
           ],
           "sequentialminus": [
            [
             0,
             "#0d0887"
            ],
            [
             0.1111111111111111,
             "#46039f"
            ],
            [
             0.2222222222222222,
             "#7201a8"
            ],
            [
             0.3333333333333333,
             "#9c179e"
            ],
            [
             0.4444444444444444,
             "#bd3786"
            ],
            [
             0.5555555555555556,
             "#d8576b"
            ],
            [
             0.6666666666666666,
             "#ed7953"
            ],
            [
             0.7777777777777778,
             "#fb9f3a"
            ],
            [
             0.8888888888888888,
             "#fdca26"
            ],
            [
             1,
             "#f0f921"
            ]
           ]
          },
          "colorway": [
           "#636efa",
           "#EF553B",
           "#00cc96",
           "#ab63fa",
           "#FFA15A",
           "#19d3f3",
           "#FF6692",
           "#B6E880",
           "#FF97FF",
           "#FECB52"
          ],
          "font": {
           "color": "#2a3f5f"
          },
          "geo": {
           "bgcolor": "white",
           "lakecolor": "white",
           "landcolor": "#E5ECF6",
           "showlakes": true,
           "showland": true,
           "subunitcolor": "white"
          },
          "hoverlabel": {
           "align": "left"
          },
          "hovermode": "closest",
          "mapbox": {
           "style": "light"
          },
          "paper_bgcolor": "white",
          "plot_bgcolor": "#E5ECF6",
          "polar": {
           "angularaxis": {
            "gridcolor": "white",
            "linecolor": "white",
            "ticks": ""
           },
           "bgcolor": "#E5ECF6",
           "radialaxis": {
            "gridcolor": "white",
            "linecolor": "white",
            "ticks": ""
           }
          },
          "scene": {
           "xaxis": {
            "backgroundcolor": "#E5ECF6",
            "gridcolor": "white",
            "gridwidth": 2,
            "linecolor": "white",
            "showbackground": true,
            "ticks": "",
            "zerolinecolor": "white"
           },
           "yaxis": {
            "backgroundcolor": "#E5ECF6",
            "gridcolor": "white",
            "gridwidth": 2,
            "linecolor": "white",
            "showbackground": true,
            "ticks": "",
            "zerolinecolor": "white"
           },
           "zaxis": {
            "backgroundcolor": "#E5ECF6",
            "gridcolor": "white",
            "gridwidth": 2,
            "linecolor": "white",
            "showbackground": true,
            "ticks": "",
            "zerolinecolor": "white"
           }
          },
          "shapedefaults": {
           "line": {
            "color": "#2a3f5f"
           }
          },
          "ternary": {
           "aaxis": {
            "gridcolor": "white",
            "linecolor": "white",
            "ticks": ""
           },
           "baxis": {
            "gridcolor": "white",
            "linecolor": "white",
            "ticks": ""
           },
           "bgcolor": "#E5ECF6",
           "caxis": {
            "gridcolor": "white",
            "linecolor": "white",
            "ticks": ""
           }
          },
          "title": {
           "x": 0.05
          },
          "xaxis": {
           "automargin": true,
           "gridcolor": "white",
           "linecolor": "white",
           "ticks": "",
           "title": {
            "standoff": 15
           },
           "zerolinecolor": "white",
           "zerolinewidth": 2
          },
          "yaxis": {
           "automargin": true,
           "gridcolor": "white",
           "linecolor": "white",
           "ticks": "",
           "title": {
            "standoff": 15
           },
           "zerolinecolor": "white",
           "zerolinewidth": 2
          }
         }
        },
        "title": {
         "text": "GSGP - Train vs Validation Fitness ('sustavianfeed' dataset)"
        },
        "width": 800,
        "xaxis": {
         "title": {
          "text": "Generation"
         }
        },
        "yaxis": {
         "range": [
          0,
          null
         ],
         "title": {
          "text": "RMSE"
         }
        }
       }
      }
     },
     "metadata": {},
     "output_type": "display_data"
    }
   ],
   "source": [
    "plotter.make_evolution_plot(\n",
    "    df_log,  plot_title = f\"GSGP - Train vs Validation Fitness ('{dataset_name}' dataset)\", var='rmse')"
   ]
  },
  {
   "cell_type": "markdown",
   "metadata": {},
   "source": [
    "### By Fold, Test Fitness"
   ]
  },
  {
   "cell_type": "code",
   "execution_count": null,
   "metadata": {},
   "outputs": [
    {
     "data": {
      "application/vnd.plotly.v1+json": {
       "config": {
        "plotlyServerURL": "https://plot.ly"
       },
       "data": [
        {
         "boxpoints": "all",
         "jitter": 0.5,
         "line": {
          "color": "orange"
         },
         "name": "pop_size: 25 <br /> prob_const: 0.7 <br /> p_xo: 0.85 <br /> ms_lower: 0 <br /> ms_upper: 0.13333 <br /> ",
         "pointpos": 0,
         "type": "box",
         "y": [
          48.67735290527344,
          19.807283401489258,
          11.998186111450195,
          21.624731063842773,
          48.34909439086914
         ]
        },
        {
         "boxpoints": "all",
         "jitter": 0.5,
         "line": {
          "color": "orange"
         },
         "name": "pop_size: 25 <br /> prob_const: 0.7 <br /> p_xo: 0.85 <br /> ms_lower: 0 <br /> ms_upper: 0.16666 <br /> ",
         "pointpos": 0,
         "type": "box",
         "y": [
          48.271732330322266,
          19.6462459564209,
          12.097003936767578,
          21.22309112548828,
          47.96400833129883
         ]
        },
        {
         "boxpoints": "all",
         "jitter": 0.5,
         "line": {
          "color": "orange"
         },
         "name": "pop_size: 25 <br /> prob_const: 0.7 <br /> p_xo: 0.85 <br /> ms_lower: 0 <br /> ms_upper: 0.2 <br /> ",
         "pointpos": 0,
         "type": "box",
         "y": [
          47.913326263427734,
          19.397119522094727,
          12.159514427185059,
          20.94673728942871,
          47.599609375
         ]
        },
        {
         "boxpoints": "all",
         "jitter": 0.5,
         "line": {
          "color": "orange"
         },
         "name": "pop_size: 25 <br /> prob_const: 0.7 <br /> p_xo: 0.85 <br /> ms_lower: 0.033 <br /> ms_upper: 0.13333 <br /> ",
         "pointpos": 0,
         "type": "box",
         "y": [
          48.54615020751953,
          19.65451431274414,
          12.011960983276367,
          21.288686752319336,
          48.22575378417969
         ]
        },
        {
         "boxpoints": "all",
         "jitter": 0.5,
         "line": {
          "color": "orange"
         },
         "name": "pop_size: 25 <br /> prob_const: 0.7 <br /> p_xo: 0.85 <br /> ms_lower: 0.033 <br /> ms_upper: 0.16666 <br /> ",
         "pointpos": 0,
         "type": "box",
         "y": [
          48.076419830322266,
          19.52178382873535,
          12.121257781982422,
          20.799196243286133,
          47.91056442260742
         ]
        },
        {
         "boxpoints": "all",
         "jitter": 0.5,
         "line": {
          "color": "orange"
         },
         "name": "pop_size: 25 <br /> prob_const: 0.7 <br /> p_xo: 0.85 <br /> ms_lower: 0.033 <br /> ms_upper: 0.2 <br /> ",
         "pointpos": 0,
         "type": "box",
         "y": [
          47.560630798339844,
          19.094253540039062,
          12.107244491577148,
          20.89044189453125,
          47.57852554321289
         ]
        },
        {
         "boxpoints": "all",
         "jitter": 0.5,
         "line": {
          "color": "orange"
         },
         "name": "pop_size: 25 <br /> prob_const: 0.7 <br /> p_xo: 0.85 <br /> ms_lower: 0.066 <br /> ms_upper: 0.13333 <br /> ",
         "pointpos": 0,
         "type": "box",
         "y": [
          48.50387954711914,
          19.590364456176758,
          12.058318138122559,
          21.113117218017578,
          48.42811584472656
         ]
        },
        {
         "boxpoints": "all",
         "jitter": 0.5,
         "line": {
          "color": "orange"
         },
         "name": "pop_size: 25 <br /> prob_const: 0.7 <br /> p_xo: 0.85 <br /> ms_lower: 0.066 <br /> ms_upper: 0.16666 <br /> ",
         "pointpos": 0,
         "type": "box",
         "y": [
          48.088661193847656,
          19.251522064208984,
          12.119885444641113,
          20.809446334838867,
          47.67362976074219
         ]
        },
        {
         "boxpoints": "all",
         "jitter": 0.5,
         "line": {
          "color": "orange"
         },
         "name": "pop_size: 25 <br /> prob_const: 0.7 <br /> p_xo: 0.85 <br /> ms_lower: 0.066 <br /> ms_upper: 0.2 <br /> ",
         "pointpos": 0,
         "type": "box",
         "y": [
          47.5944938659668,
          18.988740921020508,
          12.264464378356934,
          20.506765365600586,
          47.23621368408203
         ]
        },
        {
         "boxpoints": "all",
         "jitter": 0.5,
         "line": {
          "color": "orange"
         },
         "name": "pop_size: 25 <br /> prob_const: 0.7 <br /> p_xo: 0.9 <br /> ms_lower: 0 <br /> ms_upper: 0.13333 <br /> ",
         "pointpos": 0,
         "type": "box",
         "y": [
          49.184478759765625,
          20.001672744750977,
          11.512293815612793,
          21.758378982543945,
          48.59871292114258
         ]
        },
        {
         "boxpoints": "all",
         "jitter": 0.5,
         "line": {
          "color": "orange"
         },
         "name": "pop_size: 25 <br /> prob_const: 0.7 <br /> p_xo: 0.9 <br /> ms_lower: 0 <br /> ms_upper: 0.16666 <br /> ",
         "pointpos": 0,
         "type": "box",
         "y": [
          48.9647216796875,
          19.7022647857666,
          11.71914291381836,
          21.478702545166016,
          48.340553283691406
         ]
        },
        {
         "boxpoints": "all",
         "jitter": 0.5,
         "line": {
          "color": "orange"
         },
         "name": "pop_size: 25 <br /> prob_const: 0.7 <br /> p_xo: 0.9 <br /> ms_lower: 0 <br /> ms_upper: 0.2 <br /> ",
         "pointpos": 0,
         "type": "box",
         "y": [
          48.74492645263672,
          19.5264892578125,
          11.635276794433594,
          21.252660751342773,
          48.00879669189453
         ]
        },
        {
         "boxpoints": "all",
         "jitter": 0.5,
         "line": {
          "color": "orange"
         },
         "name": "pop_size: 25 <br /> prob_const: 0.7 <br /> p_xo: 0.9 <br /> ms_lower: 0.033 <br /> ms_upper: 0.13333 <br /> ",
         "pointpos": 0,
         "type": "box",
         "y": [
          48.71738052368164,
          19.780155181884766,
          11.56086540222168,
          21.71950340270996,
          48.565711975097656
         ]
        },
        {
         "boxpoints": "all",
         "jitter": 0.5,
         "line": {
          "color": "orange"
         },
         "name": "pop_size: 25 <br /> prob_const: 0.7 <br /> p_xo: 0.9 <br /> ms_lower: 0.033 <br /> ms_upper: 0.16666 <br /> ",
         "pointpos": 0,
         "type": "box",
         "y": [
          48.79140853881836,
          19.405071258544922,
          11.590435981750488,
          21.298954010009766,
          48.24293899536133
         ]
        },
        {
         "boxpoints": "all",
         "jitter": 0.5,
         "line": {
          "color": "orange"
         },
         "name": "pop_size: 25 <br /> prob_const: 0.7 <br /> p_xo: 0.9 <br /> ms_lower: 0.033 <br /> ms_upper: 0.2 <br /> ",
         "pointpos": 0,
         "type": "box",
         "y": [
          48.572662353515625,
          19.607440948486328,
          11.598278999328613,
          21.12978172302246,
          48.22590255737305
         ]
        },
        {
         "boxpoints": "all",
         "jitter": 0.5,
         "line": {
          "color": "orange"
         },
         "name": "pop_size: 25 <br /> prob_const: 0.7 <br /> p_xo: 0.9 <br /> ms_lower: 0.066 <br /> ms_upper: 0.13333 <br /> ",
         "pointpos": 0,
         "type": "box",
         "y": [
          48.517032623291016,
          19.810199737548828,
          11.563711166381836,
          21.354034423828125,
          48.286563873291016
         ]
        },
        {
         "boxpoints": "all",
         "jitter": 0.5,
         "line": {
          "color": "orange"
         },
         "name": "pop_size: 25 <br /> prob_const: 0.7 <br /> p_xo: 0.9 <br /> ms_lower: 0.066 <br /> ms_upper: 0.16666 <br /> ",
         "pointpos": 0,
         "type": "box",
         "y": [
          48.46432113647461,
          19.09583854675293,
          11.630860328674316,
          21.129222869873047,
          47.96299743652344
         ]
        },
        {
         "boxpoints": "all",
         "jitter": 0.5,
         "line": {
          "color": "orange"
         },
         "name": "pop_size: 25 <br /> prob_const: 0.7 <br /> p_xo: 0.9 <br /> ms_lower: 0.066 <br /> ms_upper: 0.2 <br /> ",
         "pointpos": 0,
         "type": "box",
         "y": [
          48.09839630126953,
          18.985124588012695,
          11.73920726776123,
          20.778717041015625,
          47.9685173034668
         ]
        },
        {
         "boxpoints": "all",
         "jitter": 0.5,
         "line": {
          "color": "orange"
         },
         "name": "pop_size: 25 <br /> prob_const: 0.7 <br /> p_xo: 0.95 <br /> ms_lower: 0 <br /> ms_upper: 0.13333 <br /> ",
         "pointpos": 0,
         "type": "box",
         "y": [
          41.10194778442383,
          20.5875244140625,
          11.518669128417969,
          22.1240177154541,
          48.9847297668457
         ]
        },
        {
         "boxpoints": "all",
         "jitter": 0.5,
         "line": {
          "color": "orange"
         },
         "name": "pop_size: 25 <br /> prob_const: 0.7 <br /> p_xo: 0.95 <br /> ms_lower: 0 <br /> ms_upper: 0.16666 <br /> ",
         "pointpos": 0,
         "type": "box",
         "y": [
          41.37331771850586,
          20.29928970336914,
          11.547569274902344,
          21.8241024017334,
          49.04426193237305
         ]
        },
        {
         "boxpoints": "all",
         "jitter": 0.5,
         "line": {
          "color": "orange"
         },
         "name": "pop_size: 25 <br /> prob_const: 0.7 <br /> p_xo: 0.95 <br /> ms_lower: 0 <br /> ms_upper: 0.2 <br /> ",
         "pointpos": 0,
         "type": "box",
         "y": [
          41.175086975097656,
          20.397493362426758,
          11.556840896606445,
          21.551332473754883,
          48.70494842529297
         ]
        },
        {
         "boxpoints": "all",
         "jitter": 0.5,
         "line": {
          "color": "orange"
         },
         "name": "pop_size: 25 <br /> prob_const: 0.7 <br /> p_xo: 0.95 <br /> ms_lower: 0.033 <br /> ms_upper: 0.13333 <br /> ",
         "pointpos": 0,
         "type": "box",
         "y": [
          40.98965072631836,
          20.51813316345215,
          11.536820411682129,
          21.879554748535156,
          48.82331466674805
         ]
        },
        {
         "boxpoints": "all",
         "jitter": 0.5,
         "line": {
          "color": "orange"
         },
         "name": "pop_size: 25 <br /> prob_const: 0.7 <br /> p_xo: 0.95 <br /> ms_lower: 0.033 <br /> ms_upper: 0.16666 <br /> ",
         "pointpos": 0,
         "type": "box",
         "y": [
          41.35780715942383,
          20.422607421875,
          11.608685493469238,
          21.484193801879883,
          48.8204460144043
         ]
        },
        {
         "boxpoints": "all",
         "jitter": 0.5,
         "line": {
          "color": "orange"
         },
         "name": "pop_size: 25 <br /> prob_const: 0.7 <br /> p_xo: 0.95 <br /> ms_lower: 0.033 <br /> ms_upper: 0.2 <br /> ",
         "pointpos": 0,
         "type": "box",
         "y": [
          40.97014617919922,
          20.107059478759766,
          11.632084846496582,
          21.496784210205078,
          48.36293029785156
         ]
        },
        {
         "boxpoints": "all",
         "jitter": 0.5,
         "line": {
          "color": "orange"
         },
         "name": "pop_size: 25 <br /> prob_const: 0.7 <br /> p_xo: 0.95 <br /> ms_lower: 0.066 <br /> ms_upper: 0.13333 <br /> ",
         "pointpos": 0,
         "type": "box",
         "y": [
          41.31586837768555,
          20.407602310180664,
          11.61571216583252,
          21.860334396362305,
          48.72325897216797
         ]
        },
        {
         "boxpoints": "all",
         "jitter": 0.5,
         "line": {
          "color": "orange"
         },
         "name": "pop_size: 25 <br /> prob_const: 0.7 <br /> p_xo: 0.95 <br /> ms_lower: 0.066 <br /> ms_upper: 0.16666 <br /> ",
         "pointpos": 0,
         "type": "box",
         "y": [
          40.98537063598633,
          20.521221160888672,
          11.612603187561035,
          21.52289390563965,
          48.39506912231445
         ]
        },
        {
         "boxpoints": "all",
         "jitter": 0.5,
         "line": {
          "color": "orange"
         },
         "name": "pop_size: 25 <br /> prob_const: 0.7 <br /> p_xo: 0.95 <br /> ms_lower: 0.066 <br /> ms_upper: 0.2 <br /> ",
         "pointpos": 0,
         "type": "box",
         "y": [
          41.1254768371582,
          20.09667205810547,
          11.645794868469238,
          21.17080307006836,
          48.60214614868164
         ]
        },
        {
         "boxpoints": "all",
         "jitter": 0.5,
         "line": {
          "color": "orange"
         },
         "name": "pop_size: 25 <br /> prob_const: 0.8 <br /> p_xo: 0.85 <br /> ms_lower: 0 <br /> ms_upper: 0.13333 <br /> ",
         "pointpos": 0,
         "type": "box",
         "y": [
          48.953651428222656,
          20.0778751373291,
          37.12587356567383,
          22.614273071289062,
          48.48663330078125
         ]
        },
        {
         "boxpoints": "all",
         "jitter": 0.5,
         "line": {
          "color": "orange"
         },
         "name": "pop_size: 25 <br /> prob_const: 0.8 <br /> p_xo: 0.85 <br /> ms_lower: 0 <br /> ms_upper: 0.16666 <br /> ",
         "pointpos": 0,
         "type": "box",
         "y": [
          48.56133270263672,
          19.802152633666992,
          36.854183197021484,
          22.351341247558594,
          48.1617317199707
         ]
        },
        {
         "boxpoints": "all",
         "jitter": 0.5,
         "line": {
          "color": "orange"
         },
         "name": "pop_size: 25 <br /> prob_const: 0.8 <br /> p_xo: 0.85 <br /> ms_lower: 0 <br /> ms_upper: 0.2 <br /> ",
         "pointpos": 0,
         "type": "box",
         "y": [
          48.131832122802734,
          19.532333374023438,
          36.4668083190918,
          22.08941078186035,
          47.83675765991211
         ]
        },
        {
         "boxpoints": "all",
         "jitter": 0.5,
         "line": {
          "color": "orange"
         },
         "name": "pop_size: 25 <br /> prob_const: 0.8 <br /> p_xo: 0.85 <br /> ms_lower: 0.033 <br /> ms_upper: 0.13333 <br /> ",
         "pointpos": 0,
         "type": "box",
         "y": [
          48.822265625,
          19.904632568359375,
          36.7815055847168,
          22.520063400268555,
          48.38784408569336
         ]
        },
        {
         "boxpoints": "all",
         "jitter": 0.5,
         "line": {
          "color": "orange"
         },
         "name": "pop_size: 25 <br /> prob_const: 0.8 <br /> p_xo: 0.85 <br /> ms_lower: 0.033 <br /> ms_upper: 0.16666 <br /> ",
         "pointpos": 0,
         "type": "box",
         "y": [
          48.491966247558594,
          19.58388900756836,
          36.70948791503906,
          22.098918914794922,
          48.23652267456055
         ]
        },
        {
         "boxpoints": "all",
         "jitter": 0.5,
         "line": {
          "color": "orange"
         },
         "name": "pop_size: 25 <br /> prob_const: 0.8 <br /> p_xo: 0.85 <br /> ms_lower: 0.033 <br /> ms_upper: 0.2 <br /> ",
         "pointpos": 0,
         "type": "box",
         "y": [
          48.27912139892578,
          19.370737075805664,
          36.04396438598633,
          21.95856475830078,
          47.760643005371094
         ]
        },
        {
         "boxpoints": "all",
         "jitter": 0.5,
         "line": {
          "color": "orange"
         },
         "name": "pop_size: 25 <br /> prob_const: 0.8 <br /> p_xo: 0.85 <br /> ms_lower: 0.066 <br /> ms_upper: 0.13333 <br /> ",
         "pointpos": 0,
         "type": "box",
         "y": [
          48.64619445800781,
          19.58835220336914,
          36.6102294921875,
          22.35309600830078,
          48.294071197509766
         ]
        },
        {
         "boxpoints": "all",
         "jitter": 0.5,
         "line": {
          "color": "orange"
         },
         "name": "pop_size: 25 <br /> prob_const: 0.8 <br /> p_xo: 0.85 <br /> ms_lower: 0.066 <br /> ms_upper: 0.16666 <br /> ",
         "pointpos": 0,
         "type": "box",
         "y": [
          48.195926666259766,
          19.473085403442383,
          36.532470703125,
          22.138675689697266,
          47.99768829345703
         ]
        },
        {
         "boxpoints": "all",
         "jitter": 0.5,
         "line": {
          "color": "orange"
         },
         "name": "pop_size: 25 <br /> prob_const: 0.8 <br /> p_xo: 0.85 <br /> ms_lower: 0.066 <br /> ms_upper: 0.2 <br /> ",
         "pointpos": 0,
         "type": "box",
         "y": [
          48.060813903808594,
          19.24603271484375,
          36.01347351074219,
          21.804222106933594,
          47.68611145019531
         ]
        },
        {
         "boxpoints": "all",
         "jitter": 0.5,
         "line": {
          "color": "orange"
         },
         "name": "pop_size: 25 <br /> prob_const: 0.8 <br /> p_xo: 0.9 <br /> ms_lower: 0 <br /> ms_upper: 0.13333 <br /> ",
         "pointpos": 0,
         "type": "box",
         "y": [
          49.14588165283203,
          20.138059616088867,
          37.2683219909668,
          23.066631317138672,
          48.835269927978516
         ]
        },
        {
         "boxpoints": "all",
         "jitter": 0.5,
         "line": {
          "color": "orange"
         },
         "name": "pop_size: 25 <br /> prob_const: 0.8 <br /> p_xo: 0.9 <br /> ms_lower: 0 <br /> ms_upper: 0.16666 <br /> ",
         "pointpos": 0,
         "type": "box",
         "y": [
          49.058380126953125,
          19.877029418945312,
          37.034645080566406,
          22.925424575805664,
          48.59128189086914
         ]
        },
        {
         "boxpoints": "all",
         "jitter": 0.5,
         "line": {
          "color": "orange"
         },
         "name": "pop_size: 25 <br /> prob_const: 0.8 <br /> p_xo: 0.9 <br /> ms_lower: 0 <br /> ms_upper: 0.2 <br /> ",
         "pointpos": 0,
         "type": "box",
         "y": [
          48.64185333251953,
          19.616979598999023,
          36.590850830078125,
          22.784439086914062,
          48.34720230102539
         ]
        },
        {
         "boxpoints": "all",
         "jitter": 0.5,
         "line": {
          "color": "orange"
         },
         "name": "pop_size: 25 <br /> prob_const: 0.8 <br /> p_xo: 0.9 <br /> ms_lower: 0.033 <br /> ms_upper: 0.13333 <br /> ",
         "pointpos": 0,
         "type": "box",
         "y": [
          48.960575103759766,
          19.92835235595703,
          36.873233795166016,
          22.795177459716797,
          48.57476043701172
         ]
        },
        {
         "boxpoints": "all",
         "jitter": 0.5,
         "line": {
          "color": "orange"
         },
         "name": "pop_size: 25 <br /> prob_const: 0.8 <br /> p_xo: 0.9 <br /> ms_lower: 0.033 <br /> ms_upper: 0.16666 <br /> ",
         "pointpos": 0,
         "type": "box",
         "y": [
          48.729103088378906,
          19.90113067626953,
          36.57109832763672,
          22.610172271728516,
          48.287925720214844
         ]
        },
        {
         "boxpoints": "all",
         "jitter": 0.5,
         "line": {
          "color": "orange"
         },
         "name": "pop_size: 25 <br /> prob_const: 0.8 <br /> p_xo: 0.9 <br /> ms_lower: 0.033 <br /> ms_upper: 0.2 <br /> ",
         "pointpos": 0,
         "type": "box",
         "y": [
          48.761783599853516,
          19.77052879333496,
          36.58527755737305,
          22.216157913208008,
          47.89670181274414
         ]
        },
        {
         "boxpoints": "all",
         "jitter": 0.5,
         "line": {
          "color": "orange"
         },
         "name": "pop_size: 25 <br /> prob_const: 0.8 <br /> p_xo: 0.9 <br /> ms_lower: 0.066 <br /> ms_upper: 0.13333 <br /> ",
         "pointpos": 0,
         "type": "box",
         "y": [
          49.122493743896484,
          19.996654510498047,
          37.0192756652832,
          22.59278678894043,
          48.38808059692383
         ]
        },
        {
         "boxpoints": "all",
         "jitter": 0.5,
         "line": {
          "color": "orange"
         },
         "name": "pop_size: 25 <br /> prob_const: 0.8 <br /> p_xo: 0.9 <br /> ms_lower: 0.066 <br /> ms_upper: 0.16666 <br /> ",
         "pointpos": 0,
         "type": "box",
         "y": [
          48.519248962402344,
          19.9488468170166,
          36.80621337890625,
          22.305593490600586,
          48.0700798034668
         ]
        },
        {
         "boxpoints": "all",
         "jitter": 0.5,
         "line": {
          "color": "orange"
         },
         "name": "pop_size: 25 <br /> prob_const: 0.8 <br /> p_xo: 0.9 <br /> ms_lower: 0.066 <br /> ms_upper: 0.2 <br /> ",
         "pointpos": 0,
         "type": "box",
         "y": [
          48.35368347167969,
          19.633214950561523,
          36.128929138183594,
          22.18756675720215,
          47.94780349731445
         ]
        },
        {
         "boxpoints": "all",
         "jitter": 0.5,
         "line": {
          "color": "orange"
         },
         "name": "pop_size: 25 <br /> prob_const: 0.8 <br /> p_xo: 0.95 <br /> ms_lower: 0 <br /> ms_upper: 0.13333 <br /> ",
         "pointpos": 0,
         "type": "box",
         "y": [
          49.491851806640625,
          20.602867126464844,
          6.570955276489258,
          23.072933197021484,
          49.125125885009766
         ]
        },
        {
         "boxpoints": "all",
         "jitter": 0.5,
         "line": {
          "color": "orange"
         },
         "name": "pop_size: 25 <br /> prob_const: 0.8 <br /> p_xo: 0.95 <br /> ms_lower: 0 <br /> ms_upper: 0.16666 <br /> ",
         "pointpos": 0,
         "type": "box",
         "y": [
          49.269020080566406,
          20.216346740722656,
          6.60372257232666,
          23.04388427734375,
          48.78132629394531
         ]
        },
        {
         "boxpoints": "all",
         "jitter": 0.5,
         "line": {
          "color": "orange"
         },
         "name": "pop_size: 25 <br /> prob_const: 0.8 <br /> p_xo: 0.95 <br /> ms_lower: 0 <br /> ms_upper: 0.2 <br /> ",
         "pointpos": 0,
         "type": "box",
         "y": [
          49.11005783081055,
          20.294071197509766,
          6.612936019897461,
          22.785362243652344,
          48.58040237426758
         ]
        },
        {
         "boxpoints": "all",
         "jitter": 0.5,
         "line": {
          "color": "orange"
         },
         "name": "pop_size: 25 <br /> prob_const: 0.8 <br /> p_xo: 0.95 <br /> ms_lower: 0.033 <br /> ms_upper: 0.13333 <br /> ",
         "pointpos": 0,
         "type": "box",
         "y": [
          49.263336181640625,
          20.40927505493164,
          6.632346153259277,
          22.998762130737305,
          49.090877532958984
         ]
        },
        {
         "boxpoints": "all",
         "jitter": 0.5,
         "line": {
          "color": "orange"
         },
         "name": "pop_size: 25 <br /> prob_const: 0.8 <br /> p_xo: 0.95 <br /> ms_lower: 0.033 <br /> ms_upper: 0.16666 <br /> ",
         "pointpos": 0,
         "type": "box",
         "y": [
          48.97666931152344,
          20.300823211669922,
          6.66437292098999,
          22.85746192932129,
          48.93747329711914
         ]
        },
        {
         "boxpoints": "all",
         "jitter": 0.5,
         "line": {
          "color": "orange"
         },
         "name": "pop_size: 25 <br /> prob_const: 0.8 <br /> p_xo: 0.95 <br /> ms_lower: 0.033 <br /> ms_upper: 0.2 <br /> ",
         "pointpos": 0,
         "type": "box",
         "y": [
          48.78447723388672,
          19.978878021240234,
          6.578286647796631,
          22.59600067138672,
          48.84969711303711
         ]
        },
        {
         "boxpoints": "all",
         "jitter": 0.5,
         "line": {
          "color": "orange"
         },
         "name": "pop_size: 25 <br /> prob_const: 0.8 <br /> p_xo: 0.95 <br /> ms_lower: 0.066 <br /> ms_upper: 0.13333 <br /> ",
         "pointpos": 0,
         "type": "box",
         "y": [
          49.05049514770508,
          20.406917572021484,
          6.654422760009766,
          22.768945693969727,
          49.09214401245117
         ]
        },
        {
         "boxpoints": "all",
         "jitter": 0.5,
         "line": {
          "color": "orange"
         },
         "name": "pop_size: 25 <br /> prob_const: 0.8 <br /> p_xo: 0.95 <br /> ms_lower: 0.066 <br /> ms_upper: 0.16666 <br /> ",
         "pointpos": 0,
         "type": "box",
         "y": [
          49.054039001464844,
          20.090431213378906,
          6.686100959777832,
          22.482839584350586,
          48.95389938354492
         ]
        },
        {
         "boxpoints": "all",
         "jitter": 0.5,
         "line": {
          "color": "orange"
         },
         "name": "pop_size: 25 <br /> prob_const: 0.8 <br /> p_xo: 0.95 <br /> ms_lower: 0.066 <br /> ms_upper: 0.2 <br /> ",
         "pointpos": 0,
         "type": "box",
         "y": [
          48.801876068115234,
          19.869510650634766,
          6.670653820037842,
          22.746524810791016,
          48.86668395996094
         ]
        },
        {
         "boxpoints": "all",
         "jitter": 0.5,
         "line": {
          "color": "orange"
         },
         "name": "pop_size: 25 <br /> prob_const: 0.9 <br /> p_xo: 0.85 <br /> ms_lower: 0 <br /> ms_upper: 0.13333 <br /> ",
         "pointpos": 0,
         "type": "box",
         "y": [
          48.95643615722656,
          39.07010269165039,
          83.43612670898438,
          22.860431671142578,
          74.6661605834961
         ]
        },
        {
         "boxpoints": "all",
         "jitter": 0.5,
         "line": {
          "color": "orange"
         },
         "name": "pop_size: 25 <br /> prob_const: 0.9 <br /> p_xo: 0.85 <br /> ms_lower: 0 <br /> ms_upper: 0.16666 <br /> ",
         "pointpos": 0,
         "type": "box",
         "y": [
          48.67919921875,
          39.068782806396484,
          83.28995513916016,
          22.637929916381836,
          74.45138549804688
         ]
        },
        {
         "boxpoints": "all",
         "jitter": 0.5,
         "line": {
          "color": "orange"
         },
         "name": "pop_size: 25 <br /> prob_const: 0.9 <br /> p_xo: 0.85 <br /> ms_lower: 0 <br /> ms_upper: 0.2 <br /> ",
         "pointpos": 0,
         "type": "box",
         "y": [
          48.401912689208984,
          38.56072235107422,
          83.02057647705078,
          22.41607093811035,
          74.24131774902344
         ]
        },
        {
         "boxpoints": "all",
         "jitter": 0.5,
         "line": {
          "color": "orange"
         },
         "name": "pop_size: 25 <br /> prob_const: 0.9 <br /> p_xo: 0.85 <br /> ms_lower: 0.033 <br /> ms_upper: 0.13333 <br /> ",
         "pointpos": 0,
         "type": "box",
         "y": [
          49.0124397277832,
          38.9891242980957,
          83.25547790527344,
          22.769161224365234,
          74.46365356445312
         ]
        },
        {
         "boxpoints": "all",
         "jitter": 0.5,
         "line": {
          "color": "orange"
         },
         "name": "pop_size: 25 <br /> prob_const: 0.9 <br /> p_xo: 0.85 <br /> ms_lower: 0.033 <br /> ms_upper: 0.16666 <br /> ",
         "pointpos": 0,
         "type": "box",
         "y": [
          48.51708221435547,
          38.662803649902344,
          83.16204071044922,
          22.669782638549805,
          74.23634338378906
         ]
        },
        {
         "boxpoints": "all",
         "jitter": 0.5,
         "line": {
          "color": "orange"
         },
         "name": "pop_size: 25 <br /> prob_const: 0.9 <br /> p_xo: 0.85 <br /> ms_lower: 0.033 <br /> ms_upper: 0.2 <br /> ",
         "pointpos": 0,
         "type": "box",
         "y": [
          48.39421081542969,
          38.5316162109375,
          82.87419891357422,
          22.130571365356445,
          74.01071166992188
         ]
        },
        {
         "boxpoints": "all",
         "jitter": 0.5,
         "line": {
          "color": "orange"
         },
         "name": "pop_size: 25 <br /> prob_const: 0.9 <br /> p_xo: 0.85 <br /> ms_lower: 0.066 <br /> ms_upper: 0.13333 <br /> ",
         "pointpos": 0,
         "type": "box",
         "y": [
          48.81585693359375,
          38.856571197509766,
          83.15287780761719,
          22.69352149963379,
          74.53280639648438
         ]
        },
        {
         "boxpoints": "all",
         "jitter": 0.5,
         "line": {
          "color": "orange"
         },
         "name": "pop_size: 25 <br /> prob_const: 0.9 <br /> p_xo: 0.85 <br /> ms_lower: 0.066 <br /> ms_upper: 0.16666 <br /> ",
         "pointpos": 0,
         "type": "box",
         "y": [
          48.6959114074707,
          38.65959167480469,
          82.91519927978516,
          22.522695541381836,
          74.23825073242188
         ]
        },
        {
         "boxpoints": "all",
         "jitter": 0.5,
         "line": {
          "color": "orange"
         },
         "name": "pop_size: 25 <br /> prob_const: 0.9 <br /> p_xo: 0.85 <br /> ms_lower: 0.066 <br /> ms_upper: 0.2 <br /> ",
         "pointpos": 0,
         "type": "box",
         "y": [
          48.325218200683594,
          38.62492752075195,
          82.40210723876953,
          22.216388702392578,
          74.03903198242188
         ]
        },
        {
         "boxpoints": "all",
         "jitter": 0.5,
         "line": {
          "color": "orange"
         },
         "name": "pop_size: 25 <br /> prob_const: 0.9 <br /> p_xo: 0.9 <br /> ms_lower: 0 <br /> ms_upper: 0.13333 <br /> ",
         "pointpos": 0,
         "type": "box",
         "y": [
          49.28842544555664,
          39.21498107910156,
          83.75159454345703,
          23.091537475585938,
          74.6657485961914
         ]
        },
        {
         "boxpoints": "all",
         "jitter": 0.5,
         "line": {
          "color": "orange"
         },
         "name": "pop_size: 25 <br /> prob_const: 0.9 <br /> p_xo: 0.9 <br /> ms_lower: 0 <br /> ms_upper: 0.16666 <br /> ",
         "pointpos": 0,
         "type": "box",
         "y": [
          49.32538986206055,
          39.04241180419922,
          83.67200469970703,
          23.138893127441406,
          74.35474395751953
         ]
        },
        {
         "boxpoints": "all",
         "jitter": 0.5,
         "line": {
          "color": "orange"
         },
         "name": "pop_size: 25 <br /> prob_const: 0.9 <br /> p_xo: 0.9 <br /> ms_lower: 0 <br /> ms_upper: 0.2 <br /> ",
         "pointpos": 0,
         "type": "box",
         "y": [
          49.176910400390625,
          38.810340881347656,
          83.45946502685547,
          23.01378059387207,
          74.12554168701172
         ]
        },
        {
         "boxpoints": "all",
         "jitter": 0.5,
         "line": {
          "color": "orange"
         },
         "name": "pop_size: 25 <br /> prob_const: 0.9 <br /> p_xo: 0.9 <br /> ms_lower: 0.033 <br /> ms_upper: 0.13333 <br /> ",
         "pointpos": 0,
         "type": "box",
         "y": [
          49.268306732177734,
          39.197532653808594,
          83.88994598388672,
          23.045438766479492,
          74.43766784667969
         ]
        },
        {
         "boxpoints": "all",
         "jitter": 0.5,
         "line": {
          "color": "orange"
         },
         "name": "pop_size: 25 <br /> prob_const: 0.9 <br /> p_xo: 0.9 <br /> ms_lower: 0.033 <br /> ms_upper: 0.16666 <br /> ",
         "pointpos": 0,
         "type": "box",
         "y": [
          49.106544494628906,
          39.04678726196289,
          83.56060028076172,
          23.074451446533203,
          74.2470703125
         ]
        },
        {
         "boxpoints": "all",
         "jitter": 0.5,
         "line": {
          "color": "orange"
         },
         "name": "pop_size: 25 <br /> prob_const: 0.9 <br /> p_xo: 0.9 <br /> ms_lower: 0.033 <br /> ms_upper: 0.2 <br /> ",
         "pointpos": 0,
         "type": "box",
         "y": [
          48.66104507446289,
          38.8960075378418,
          83.22654724121094,
          22.826528549194336,
          74.043212890625
         ]
        },
        {
         "boxpoints": "all",
         "jitter": 0.5,
         "line": {
          "color": "orange"
         },
         "name": "pop_size: 25 <br /> prob_const: 0.9 <br /> p_xo: 0.9 <br /> ms_lower: 0.066 <br /> ms_upper: 0.13333 <br /> ",
         "pointpos": 0,
         "type": "box",
         "y": [
          49.120670318603516,
          38.96641540527344,
          83.78677368164062,
          23.168712615966797,
          74.5822982788086
         ]
        },
        {
         "boxpoints": "all",
         "jitter": 0.5,
         "line": {
          "color": "orange"
         },
         "name": "pop_size: 25 <br /> prob_const: 0.9 <br /> p_xo: 0.9 <br /> ms_lower: 0.066 <br /> ms_upper: 0.16666 <br /> ",
         "pointpos": 0,
         "type": "box",
         "y": [
          49.06355667114258,
          38.76731872558594,
          83.59532165527344,
          22.88970947265625,
          74.25314331054688
         ]
        },
        {
         "boxpoints": "all",
         "jitter": 0.5,
         "line": {
          "color": "orange"
         },
         "name": "pop_size: 25 <br /> prob_const: 0.9 <br /> p_xo: 0.9 <br /> ms_lower: 0.066 <br /> ms_upper: 0.2 <br /> ",
         "pointpos": 0,
         "type": "box",
         "y": [
          48.581912994384766,
          38.776512145996094,
          83.3662109375,
          22.740711212158203,
          73.9636001586914
         ]
        },
        {
         "boxpoints": "all",
         "jitter": 0.5,
         "line": {
          "color": "orange"
         },
         "name": "pop_size: 25 <br /> prob_const: 0.9 <br /> p_xo: 0.95 <br /> ms_lower: 0 <br /> ms_upper: 0.13333 <br /> ",
         "pointpos": 0,
         "type": "box",
         "y": [
          49.65070724487305,
          39.486263275146484,
          84.12958526611328,
          23.390159606933594,
          75.04961395263672
         ]
        },
        {
         "boxpoints": "all",
         "jitter": 0.5,
         "line": {
          "color": "orange"
         },
         "name": "pop_size: 25 <br /> prob_const: 0.9 <br /> p_xo: 0.95 <br /> ms_lower: 0 <br /> ms_upper: 0.16666 <br /> ",
         "pointpos": 0,
         "type": "box",
         "y": [
          49.54555130004883,
          39.232906341552734,
          84.0464096069336,
          23.316173553466797,
          74.95574951171875
         ]
        },
        {
         "boxpoints": "all",
         "jitter": 0.5,
         "line": {
          "color": "orange"
         },
         "name": "pop_size: 25 <br /> prob_const: 0.9 <br /> p_xo: 0.95 <br /> ms_lower: 0 <br /> ms_upper: 0.2 <br /> ",
         "pointpos": 0,
         "type": "box",
         "y": [
          49.55781555175781,
          39.29536819458008,
          83.87042999267578,
          23.23171615600586,
          74.8754653930664
         ]
        },
        {
         "boxpoints": "all",
         "jitter": 0.5,
         "line": {
          "color": "orange"
         },
         "name": "pop_size: 25 <br /> prob_const: 0.9 <br /> p_xo: 0.95 <br /> ms_lower: 0.033 <br /> ms_upper: 0.13333 <br /> ",
         "pointpos": 0,
         "type": "box",
         "y": [
          49.56403350830078,
          39.53379821777344,
          84.16361999511719,
          23.2978515625,
          75.08192443847656
         ]
        },
        {
         "boxpoints": "all",
         "jitter": 0.5,
         "line": {
          "color": "orange"
         },
         "name": "pop_size: 25 <br /> prob_const: 0.9 <br /> p_xo: 0.95 <br /> ms_lower: 0.033 <br /> ms_upper: 0.16666 <br /> ",
         "pointpos": 0,
         "type": "box",
         "y": [
          49.41850280761719,
          39.243492126464844,
          83.96669006347656,
          23.297273635864258,
          74.87342071533203
         ]
        },
        {
         "boxpoints": "all",
         "jitter": 0.5,
         "line": {
          "color": "orange"
         },
         "name": "pop_size: 25 <br /> prob_const: 0.9 <br /> p_xo: 0.95 <br /> ms_lower: 0.033 <br /> ms_upper: 0.2 <br /> ",
         "pointpos": 0,
         "type": "box",
         "y": [
          49.487205505371094,
          38.89961242675781,
          83.84817504882812,
          23.338275909423828,
          74.78622436523438
         ]
        },
        {
         "boxpoints": "all",
         "jitter": 0.5,
         "line": {
          "color": "orange"
         },
         "name": "pop_size: 25 <br /> prob_const: 0.9 <br /> p_xo: 0.95 <br /> ms_lower: 0.066 <br /> ms_upper: 0.13333 <br /> ",
         "pointpos": 0,
         "type": "box",
         "y": [
          49.58406448364258,
          39.29231643676758,
          84.0517578125,
          23.26740264892578,
          74.62397003173828
         ]
        },
        {
         "boxpoints": "all",
         "jitter": 0.5,
         "line": {
          "color": "orange"
         },
         "name": "pop_size: 25 <br /> prob_const: 0.9 <br /> p_xo: 0.95 <br /> ms_lower: 0.066 <br /> ms_upper: 0.16666 <br /> ",
         "pointpos": 0,
         "type": "box",
         "y": [
          49.41878128051758,
          39.18097686767578,
          83.77847290039062,
          23.122011184692383,
          74.60865020751953
         ]
        },
        {
         "boxpoints": "all",
         "jitter": 0.5,
         "line": {
          "color": "orange"
         },
         "name": "pop_size: 25 <br /> prob_const: 0.9 <br /> p_xo: 0.95 <br /> ms_lower: 0.066 <br /> ms_upper: 0.2 <br /> ",
         "pointpos": 0,
         "type": "box",
         "y": [
          49.31406021118164,
          38.72825241088867,
          83.75627136230469,
          23.040279388427734,
          74.70255279541016
         ]
        },
        {
         "boxpoints": "all",
         "jitter": 0.5,
         "line": {
          "color": "orange"
         },
         "name": "pop_size: 50 <br /> prob_const: 0.7 <br /> p_xo: 0.85 <br /> ms_lower: 0 <br /> ms_upper: 0.13333 <br /> ",
         "pointpos": 0,
         "type": "box",
         "y": [
          15.766366958618164,
          6.290101528167725,
          11.3588228225708,
          21.168188095092773,
          21.187150955200195
         ]
        },
        {
         "boxpoints": "all",
         "jitter": 0.5,
         "line": {
          "color": "orange"
         },
         "name": "pop_size: 50 <br /> prob_const: 0.7 <br /> p_xo: 0.85 <br /> ms_lower: 0 <br /> ms_upper: 0.16666 <br /> ",
         "pointpos": 0,
         "type": "box",
         "y": [
          15.531397819519043,
          6.284538745880127,
          11.358656883239746,
          20.81049156188965,
          20.67274284362793
         ]
        },
        {
         "boxpoints": "all",
         "jitter": 0.5,
         "line": {
          "color": "orange"
         },
         "name": "pop_size: 50 <br /> prob_const: 0.7 <br /> p_xo: 0.85 <br /> ms_lower: 0 <br /> ms_upper: 0.2 <br /> ",
         "pointpos": 0,
         "type": "box",
         "y": [
          15.301573753356934,
          6.267624855041504,
          11.436553001403809,
          20.455259323120117,
          20.293697357177734
         ]
        },
        {
         "boxpoints": "all",
         "jitter": 0.5,
         "line": {
          "color": "orange"
         },
         "name": "pop_size: 50 <br /> prob_const: 0.7 <br /> p_xo: 0.85 <br /> ms_lower: 0.033 <br /> ms_upper: 0.13333 <br /> ",
         "pointpos": 0,
         "type": "box",
         "y": [
          15.483967781066895,
          6.27989387512207,
          11.288643836975098,
          20.964309692382812,
          20.97513771057129
         ]
        },
        {
         "boxpoints": "all",
         "jitter": 0.5,
         "line": {
          "color": "orange"
         },
         "name": "pop_size: 50 <br /> prob_const: 0.7 <br /> p_xo: 0.85 <br /> ms_lower: 0.033 <br /> ms_upper: 0.16666 <br /> ",
         "pointpos": 0,
         "type": "box",
         "y": [
          15.274823188781738,
          6.276080131530762,
          11.385936737060547,
          20.62775230407715,
          20.696517944335938
         ]
        },
        {
         "boxpoints": "all",
         "jitter": 0.5,
         "line": {
          "color": "orange"
         },
         "name": "pop_size: 50 <br /> prob_const: 0.7 <br /> p_xo: 0.85 <br /> ms_lower: 0.033 <br /> ms_upper: 0.2 <br /> ",
         "pointpos": 0,
         "type": "box",
         "y": [
          14.911469459533691,
          6.270914554595947,
          11.469730377197266,
          20.501663208007812,
          20.296695709228516
         ]
        },
        {
         "boxpoints": "all",
         "jitter": 0.5,
         "line": {
          "color": "orange"
         },
         "name": "pop_size: 50 <br /> prob_const: 0.7 <br /> p_xo: 0.85 <br /> ms_lower: 0.066 <br /> ms_upper: 0.13333 <br /> ",
         "pointpos": 0,
         "type": "box",
         "y": [
          15.412211418151855,
          6.243074893951416,
          11.318115234375,
          20.917837142944336,
          20.73160171508789
         ]
        },
        {
         "boxpoints": "all",
         "jitter": 0.5,
         "line": {
          "color": "orange"
         },
         "name": "pop_size: 50 <br /> prob_const: 0.7 <br /> p_xo: 0.85 <br /> ms_lower: 0.066 <br /> ms_upper: 0.16666 <br /> ",
         "pointpos": 0,
         "type": "box",
         "y": [
          15.297164916992188,
          6.244825839996338,
          11.402545928955078,
          20.343517303466797,
          20.391000747680664
         ]
        },
        {
         "boxpoints": "all",
         "jitter": 0.5,
         "line": {
          "color": "orange"
         },
         "name": "pop_size: 50 <br /> prob_const: 0.7 <br /> p_xo: 0.85 <br /> ms_lower: 0.066 <br /> ms_upper: 0.2 <br /> ",
         "pointpos": 0,
         "type": "box",
         "y": [
          15.028266906738281,
          6.252922058105469,
          11.572577476501465,
          20.152202606201172,
          20.0572452545166
         ]
        },
        {
         "boxpoints": "all",
         "jitter": 0.5,
         "line": {
          "color": "orange"
         },
         "name": "pop_size: 50 <br /> prob_const: 0.7 <br /> p_xo: 0.9 <br /> ms_lower: 0 <br /> ms_upper: 0.13333 <br /> ",
         "pointpos": 0,
         "type": "box",
         "y": [
          5.7058796882629395,
          6.257325649261475,
          11.442608833312988,
          21.61212730407715,
          21.478164672851562
         ]
        },
        {
         "boxpoints": "all",
         "jitter": 0.5,
         "line": {
          "color": "orange"
         },
         "name": "pop_size: 50 <br /> prob_const: 0.7 <br /> p_xo: 0.9 <br /> ms_lower: 0 <br /> ms_upper: 0.16666 <br /> ",
         "pointpos": 0,
         "type": "box",
         "y": [
          5.682674407958984,
          6.26498556137085,
          11.483489036560059,
          21.354528427124023,
          21.065319061279297
         ]
        },
        {
         "boxpoints": "all",
         "jitter": 0.5,
         "line": {
          "color": "orange"
         },
         "name": "pop_size: 50 <br /> prob_const: 0.7 <br /> p_xo: 0.9 <br /> ms_lower: 0 <br /> ms_upper: 0.2 <br /> ",
         "pointpos": 0,
         "type": "box",
         "y": [
          5.5814433097839355,
          6.225283622741699,
          11.53414535522461,
          21.113367080688477,
          21.098600387573242
         ]
        },
        {
         "boxpoints": "all",
         "jitter": 0.5,
         "line": {
          "color": "orange"
         },
         "name": "pop_size: 50 <br /> prob_const: 0.7 <br /> p_xo: 0.9 <br /> ms_lower: 0.033 <br /> ms_upper: 0.13333 <br /> ",
         "pointpos": 0,
         "type": "box",
         "y": [
          5.680280685424805,
          6.267618179321289,
          11.492523193359375,
          21.31149673461914,
          21.277536392211914
         ]
        },
        {
         "boxpoints": "all",
         "jitter": 0.5,
         "line": {
          "color": "orange"
         },
         "name": "pop_size: 50 <br /> prob_const: 0.7 <br /> p_xo: 0.9 <br /> ms_lower: 0.033 <br /> ms_upper: 0.16666 <br /> ",
         "pointpos": 0,
         "type": "box",
         "y": [
          5.593947410583496,
          6.244709491729736,
          11.544832229614258,
          20.96674156188965,
          21.07127571105957
         ]
        },
        {
         "boxpoints": "all",
         "jitter": 0.5,
         "line": {
          "color": "orange"
         },
         "name": "pop_size: 50 <br /> prob_const: 0.7 <br /> p_xo: 0.9 <br /> ms_lower: 0.033 <br /> ms_upper: 0.2 <br /> ",
         "pointpos": 0,
         "type": "box",
         "y": [
          5.379530429840088,
          6.2693634033203125,
          11.62585735321045,
          20.59574317932129,
          20.796550750732422
         ]
        },
        {
         "boxpoints": "all",
         "jitter": 0.5,
         "line": {
          "color": "orange"
         },
         "name": "pop_size: 50 <br /> prob_const: 0.7 <br /> p_xo: 0.9 <br /> ms_lower: 0.066 <br /> ms_upper: 0.13333 <br /> ",
         "pointpos": 0,
         "type": "box",
         "y": [
          5.641863822937012,
          6.244984149932861,
          11.504161834716797,
          21.415307998657227,
          21.282424926757812
         ]
        },
        {
         "boxpoints": "all",
         "jitter": 0.5,
         "line": {
          "color": "orange"
         },
         "name": "pop_size: 50 <br /> prob_const: 0.7 <br /> p_xo: 0.9 <br /> ms_lower: 0.066 <br /> ms_upper: 0.16666 <br /> ",
         "pointpos": 0,
         "type": "box",
         "y": [
          5.524151802062988,
          6.249581813812256,
          11.5459623336792,
          20.94141387939453,
          21.158906936645508
         ]
        },
        {
         "boxpoints": "all",
         "jitter": 0.5,
         "line": {
          "color": "orange"
         },
         "name": "pop_size: 50 <br /> prob_const: 0.7 <br /> p_xo: 0.9 <br /> ms_lower: 0.066 <br /> ms_upper: 0.2 <br /> ",
         "pointpos": 0,
         "type": "box",
         "y": [
          5.357312202453613,
          6.2401580810546875,
          11.737744331359863,
          20.626754760742188,
          20.77654266357422
         ]
        },
        {
         "boxpoints": "all",
         "jitter": 0.5,
         "line": {
          "color": "orange"
         },
         "name": "pop_size: 50 <br /> prob_const: 0.7 <br /> p_xo: 0.95 <br /> ms_lower: 0 <br /> ms_upper: 0.13333 <br /> ",
         "pointpos": 0,
         "type": "box",
         "y": [
          17.746246337890625,
          10.923656463623047,
          11.281944274902344,
          21.88074493408203,
          21.72948455810547
         ]
        },
        {
         "boxpoints": "all",
         "jitter": 0.5,
         "line": {
          "color": "orange"
         },
         "name": "pop_size: 50 <br /> prob_const: 0.7 <br /> p_xo: 0.95 <br /> ms_lower: 0 <br /> ms_upper: 0.16666 <br /> ",
         "pointpos": 0,
         "type": "box",
         "y": [
          17.936649322509766,
          10.937865257263184,
          11.348186492919922,
          21.696659088134766,
          21.46723175048828
         ]
        },
        {
         "boxpoints": "all",
         "jitter": 0.5,
         "line": {
          "color": "orange"
         },
         "name": "pop_size: 50 <br /> prob_const: 0.7 <br /> p_xo: 0.95 <br /> ms_lower: 0 <br /> ms_upper: 0.2 <br /> ",
         "pointpos": 0,
         "type": "box",
         "y": [
          17.621427536010742,
          10.938590049743652,
          11.419878005981445,
          21.454599380493164,
          21.30286979675293
         ]
        },
        {
         "boxpoints": "all",
         "jitter": 0.5,
         "line": {
          "color": "orange"
         },
         "name": "pop_size: 50 <br /> prob_const: 0.7 <br /> p_xo: 0.95 <br /> ms_lower: 0.033 <br /> ms_upper: 0.13333 <br /> ",
         "pointpos": 0,
         "type": "box",
         "y": [
          17.730300903320312,
          10.935347557067871,
          11.348790168762207,
          21.80059242248535,
          21.6308536529541
         ]
        },
        {
         "boxpoints": "all",
         "jitter": 0.5,
         "line": {
          "color": "orange"
         },
         "name": "pop_size: 50 <br /> prob_const: 0.7 <br /> p_xo: 0.95 <br /> ms_lower: 0.033 <br /> ms_upper: 0.16666 <br /> ",
         "pointpos": 0,
         "type": "box",
         "y": [
          17.653186798095703,
          10.944524765014648,
          11.440143585205078,
          21.547149658203125,
          21.272050857543945
         ]
        },
        {
         "boxpoints": "all",
         "jitter": 0.5,
         "line": {
          "color": "orange"
         },
         "name": "pop_size: 50 <br /> prob_const: 0.7 <br /> p_xo: 0.95 <br /> ms_lower: 0.033 <br /> ms_upper: 0.2 <br /> ",
         "pointpos": 0,
         "type": "box",
         "y": [
          17.329545974731445,
          10.959354400634766,
          11.521163940429688,
          21.26187515258789,
          21.04719352722168
         ]
        },
        {
         "boxpoints": "all",
         "jitter": 0.5,
         "line": {
          "color": "orange"
         },
         "name": "pop_size: 50 <br /> prob_const: 0.7 <br /> p_xo: 0.95 <br /> ms_lower: 0.066 <br /> ms_upper: 0.13333 <br /> ",
         "pointpos": 0,
         "type": "box",
         "y": [
          17.834684371948242,
          10.936789512634277,
          11.342328071594238,
          21.647336959838867,
          21.48650360107422
         ]
        },
        {
         "boxpoints": "all",
         "jitter": 0.5,
         "line": {
          "color": "orange"
         },
         "name": "pop_size: 50 <br /> prob_const: 0.7 <br /> p_xo: 0.95 <br /> ms_lower: 0.066 <br /> ms_upper: 0.16666 <br /> ",
         "pointpos": 0,
         "type": "box",
         "y": [
          17.480133056640625,
          10.909652709960938,
          11.493924140930176,
          21.50016975402832,
          21.108354568481445
         ]
        },
        {
         "boxpoints": "all",
         "jitter": 0.5,
         "line": {
          "color": "orange"
         },
         "name": "pop_size: 50 <br /> prob_const: 0.7 <br /> p_xo: 0.95 <br /> ms_lower: 0.066 <br /> ms_upper: 0.2 <br /> ",
         "pointpos": 0,
         "type": "box",
         "y": [
          17.2580623626709,
          10.85799789428711,
          11.481760025024414,
          21.347349166870117,
          21.01613426208496
         ]
        },
        {
         "boxpoints": "all",
         "jitter": 0.5,
         "line": {
          "color": "orange"
         },
         "name": "pop_size: 50 <br /> prob_const: 0.8 <br /> p_xo: 0.85 <br /> ms_lower: 0 <br /> ms_upper: 0.13333 <br /> ",
         "pointpos": 0,
         "type": "box",
         "y": [
          9.19930648803711,
          19.967002868652344,
          21.837018966674805,
          12.195882797241211,
          48.587345123291016
         ]
        },
        {
         "boxpoints": "all",
         "jitter": 0.5,
         "line": {
          "color": "orange"
         },
         "name": "pop_size: 50 <br /> prob_const: 0.8 <br /> p_xo: 0.85 <br /> ms_lower: 0 <br /> ms_upper: 0.16666 <br /> ",
         "pointpos": 0,
         "type": "box",
         "y": [
          8.942179679870605,
          19.69382667541504,
          21.644071578979492,
          12.141972541809082,
          48.287841796875
         ]
        },
        {
         "boxpoints": "all",
         "jitter": 0.5,
         "line": {
          "color": "orange"
         },
         "name": "pop_size: 50 <br /> prob_const: 0.8 <br /> p_xo: 0.85 <br /> ms_lower: 0 <br /> ms_upper: 0.2 <br /> ",
         "pointpos": 0,
         "type": "box",
         "y": [
          8.796520233154297,
          19.39706802368164,
          21.384103775024414,
          12.427445411682129,
          47.98827362060547
         ]
        },
        {
         "boxpoints": "all",
         "jitter": 0.5,
         "line": {
          "color": "orange"
         },
         "name": "pop_size: 50 <br /> prob_const: 0.8 <br /> p_xo: 0.85 <br /> ms_lower: 0.033 <br /> ms_upper: 0.13333 <br /> ",
         "pointpos": 0,
         "type": "box",
         "y": [
          9.028948783874512,
          19.901220321655273,
          21.797224044799805,
          12.12684154510498,
          48.32814025878906
         ]
        },
        {
         "boxpoints": "all",
         "jitter": 0.5,
         "line": {
          "color": "orange"
         },
         "name": "pop_size: 50 <br /> prob_const: 0.8 <br /> p_xo: 0.85 <br /> ms_lower: 0.033 <br /> ms_upper: 0.16666 <br /> ",
         "pointpos": 0,
         "type": "box",
         "y": [
          8.912421226501465,
          19.513385772705078,
          21.436220169067383,
          12.044241905212402,
          48.07802200317383
         ]
        },
        {
         "boxpoints": "all",
         "jitter": 0.5,
         "line": {
          "color": "orange"
         },
         "name": "pop_size: 50 <br /> prob_const: 0.8 <br /> p_xo: 0.85 <br /> ms_lower: 0.033 <br /> ms_upper: 0.2 <br /> ",
         "pointpos": 0,
         "type": "box",
         "y": [
          8.700957298278809,
          19.41326904296875,
          21.357667922973633,
          11.911639213562012,
          47.7023811340332
         ]
        },
        {
         "boxpoints": "all",
         "jitter": 0.5,
         "line": {
          "color": "orange"
         },
         "name": "pop_size: 50 <br /> prob_const: 0.8 <br /> p_xo: 0.85 <br /> ms_lower: 0.066 <br /> ms_upper: 0.13333 <br /> ",
         "pointpos": 0,
         "type": "box",
         "y": [
          8.882022857666016,
          19.738353729248047,
          21.46456527709961,
          12.173358917236328,
          48.160865783691406
         ]
        },
        {
         "boxpoints": "all",
         "jitter": 0.5,
         "line": {
          "color": "orange"
         },
         "name": "pop_size: 50 <br /> prob_const: 0.8 <br /> p_xo: 0.85 <br /> ms_lower: 0.066 <br /> ms_upper: 0.16666 <br /> ",
         "pointpos": 0,
         "type": "box",
         "y": [
          8.700274467468262,
          19.302989959716797,
          21.493511199951172,
          11.88685131072998,
          48.05192947387695
         ]
        },
        {
         "boxpoints": "all",
         "jitter": 0.5,
         "line": {
          "color": "orange"
         },
         "name": "pop_size: 50 <br /> prob_const: 0.8 <br /> p_xo: 0.85 <br /> ms_lower: 0.066 <br /> ms_upper: 0.2 <br /> ",
         "pointpos": 0,
         "type": "box",
         "y": [
          8.66668701171875,
          19.164216995239258,
          21.458065032958984,
          11.906688690185547,
          47.436302185058594
         ]
        },
        {
         "boxpoints": "all",
         "jitter": 0.5,
         "line": {
          "color": "orange"
         },
         "name": "pop_size: 50 <br /> prob_const: 0.8 <br /> p_xo: 0.9 <br /> ms_lower: 0 <br /> ms_upper: 0.13333 <br /> ",
         "pointpos": 0,
         "type": "box",
         "y": [
          5.557831764221191,
          20.177974700927734,
          6.866257190704346,
          22.560930252075195,
          48.89365005493164
         ]
        },
        {
         "boxpoints": "all",
         "jitter": 0.5,
         "line": {
          "color": "orange"
         },
         "name": "pop_size: 50 <br /> prob_const: 0.8 <br /> p_xo: 0.9 <br /> ms_lower: 0 <br /> ms_upper: 0.16666 <br /> ",
         "pointpos": 0,
         "type": "box",
         "y": [
          5.4204182624816895,
          19.926746368408203,
          6.870896816253662,
          22.41620445251465,
          48.76983642578125
         ]
        },
        {
         "boxpoints": "all",
         "jitter": 0.5,
         "line": {
          "color": "orange"
         },
         "name": "pop_size: 50 <br /> prob_const: 0.8 <br /> p_xo: 0.9 <br /> ms_lower: 0 <br /> ms_upper: 0.2 <br /> ",
         "pointpos": 0,
         "type": "box",
         "y": [
          5.357237815856934,
          19.676471710205078,
          6.895515441894531,
          22.17989730834961,
          48.32157897949219
         ]
        },
        {
         "boxpoints": "all",
         "jitter": 0.5,
         "line": {
          "color": "orange"
         },
         "name": "pop_size: 50 <br /> prob_const: 0.8 <br /> p_xo: 0.9 <br /> ms_lower: 0.033 <br /> ms_upper: 0.13333 <br /> ",
         "pointpos": 0,
         "type": "box",
         "y": [
          5.477972030639648,
          20.133995056152344,
          6.863068580627441,
          22.394065856933594,
          48.885643005371094
         ]
        },
        {
         "boxpoints": "all",
         "jitter": 0.5,
         "line": {
          "color": "orange"
         },
         "name": "pop_size: 50 <br /> prob_const: 0.8 <br /> p_xo: 0.9 <br /> ms_lower: 0.033 <br /> ms_upper: 0.16666 <br /> ",
         "pointpos": 0,
         "type": "box",
         "y": [
          5.441930294036865,
          19.830535888671875,
          6.885575294494629,
          22.26241683959961,
          48.64091491699219
         ]
        },
        {
         "boxpoints": "all",
         "jitter": 0.5,
         "line": {
          "color": "orange"
         },
         "name": "pop_size: 50 <br /> prob_const: 0.8 <br /> p_xo: 0.9 <br /> ms_lower: 0.033 <br /> ms_upper: 0.2 <br /> ",
         "pointpos": 0,
         "type": "box",
         "y": [
          5.27313756942749,
          19.6433048248291,
          6.930830955505371,
          21.805763244628906,
          48.356388092041016
         ]
        },
        {
         "boxpoints": "all",
         "jitter": 0.5,
         "line": {
          "color": "orange"
         },
         "name": "pop_size: 50 <br /> prob_const: 0.8 <br /> p_xo: 0.9 <br /> ms_lower: 0.066 <br /> ms_upper: 0.13333 <br /> ",
         "pointpos": 0,
         "type": "box",
         "y": [
          5.454630374908447,
          19.82795524597168,
          6.872223854064941,
          22.10822296142578,
          48.402469635009766
         ]
        },
        {
         "boxpoints": "all",
         "jitter": 0.5,
         "line": {
          "color": "orange"
         },
         "name": "pop_size: 50 <br /> prob_const: 0.8 <br /> p_xo: 0.9 <br /> ms_lower: 0.066 <br /> ms_upper: 0.16666 <br /> ",
         "pointpos": 0,
         "type": "box",
         "y": [
          5.3042073249816895,
          19.66873550415039,
          6.938877582550049,
          22.108688354492188,
          48.279815673828125
         ]
        },
        {
         "boxpoints": "all",
         "jitter": 0.5,
         "line": {
          "color": "orange"
         },
         "name": "pop_size: 50 <br /> prob_const: 0.8 <br /> p_xo: 0.9 <br /> ms_lower: 0.066 <br /> ms_upper: 0.2 <br /> ",
         "pointpos": 0,
         "type": "box",
         "y": [
          5.260956287384033,
          19.488815307617188,
          6.940242290496826,
          21.822721481323242,
          48.05302429199219
         ]
        },
        {
         "boxpoints": "all",
         "jitter": 0.5,
         "line": {
          "color": "orange"
         },
         "name": "pop_size: 50 <br /> prob_const: 0.8 <br /> p_xo: 0.95 <br /> ms_lower: 0 <br /> ms_upper: 0.13333 <br /> ",
         "pointpos": 0,
         "type": "box",
         "y": [
          10.55795955657959,
          20.470165252685547,
          17.88658905029297,
          22.867992401123047,
          49.10337829589844
         ]
        },
        {
         "boxpoints": "all",
         "jitter": 0.5,
         "line": {
          "color": "orange"
         },
         "name": "pop_size: 50 <br /> prob_const: 0.8 <br /> p_xo: 0.95 <br /> ms_lower: 0 <br /> ms_upper: 0.16666 <br /> ",
         "pointpos": 0,
         "type": "box",
         "y": [
          10.632990837097168,
          20.290664672851562,
          17.699989318847656,
          22.48414421081543,
          48.92877197265625
         ]
        },
        {
         "boxpoints": "all",
         "jitter": 0.5,
         "line": {
          "color": "orange"
         },
         "name": "pop_size: 50 <br /> prob_const: 0.8 <br /> p_xo: 0.95 <br /> ms_lower: 0 <br /> ms_upper: 0.2 <br /> ",
         "pointpos": 0,
         "type": "box",
         "y": [
          10.451316833496094,
          19.99329948425293,
          17.513490676879883,
          22.3768253326416,
          48.786258697509766
         ]
        },
        {
         "boxpoints": "all",
         "jitter": 0.5,
         "line": {
          "color": "orange"
         },
         "name": "pop_size: 50 <br /> prob_const: 0.8 <br /> p_xo: 0.95 <br /> ms_lower: 0.033 <br /> ms_upper: 0.13333 <br /> ",
         "pointpos": 0,
         "type": "box",
         "y": [
          10.625155448913574,
          20.408466339111328,
          17.87212562561035,
          22.745826721191406,
          48.90896987915039
         ]
        },
        {
         "boxpoints": "all",
         "jitter": 0.5,
         "line": {
          "color": "orange"
         },
         "name": "pop_size: 50 <br /> prob_const: 0.8 <br /> p_xo: 0.95 <br /> ms_lower: 0.033 <br /> ms_upper: 0.16666 <br /> ",
         "pointpos": 0,
         "type": "box",
         "y": [
          10.415508270263672,
          20.21746253967285,
          17.615249633789062,
          22.660602569580078,
          48.85934829711914
         ]
        },
        {
         "boxpoints": "all",
         "jitter": 0.5,
         "line": {
          "color": "orange"
         },
         "name": "pop_size: 50 <br /> prob_const: 0.8 <br /> p_xo: 0.95 <br /> ms_lower: 0.033 <br /> ms_upper: 0.2 <br /> ",
         "pointpos": 0,
         "type": "box",
         "y": [
          10.489837646484375,
          20.090309143066406,
          17.299983978271484,
          22.389694213867188,
          48.62489318847656
         ]
        },
        {
         "boxpoints": "all",
         "jitter": 0.5,
         "line": {
          "color": "orange"
         },
         "name": "pop_size: 50 <br /> prob_const: 0.8 <br /> p_xo: 0.95 <br /> ms_lower: 0.066 <br /> ms_upper: 0.13333 <br /> ",
         "pointpos": 0,
         "type": "box",
         "y": [
          10.591700553894043,
          20.029422760009766,
          17.60408592224121,
          22.60661506652832,
          48.748348236083984
         ]
        },
        {
         "boxpoints": "all",
         "jitter": 0.5,
         "line": {
          "color": "orange"
         },
         "name": "pop_size: 50 <br /> prob_const: 0.8 <br /> p_xo: 0.95 <br /> ms_lower: 0.066 <br /> ms_upper: 0.16666 <br /> ",
         "pointpos": 0,
         "type": "box",
         "y": [
          10.487493515014648,
          20.059490203857422,
          17.562625885009766,
          22.321149826049805,
          48.6817512512207
         ]
        },
        {
         "boxpoints": "all",
         "jitter": 0.5,
         "line": {
          "color": "orange"
         },
         "name": "pop_size: 50 <br /> prob_const: 0.8 <br /> p_xo: 0.95 <br /> ms_lower: 0.066 <br /> ms_upper: 0.2 <br /> ",
         "pointpos": 0,
         "type": "box",
         "y": [
          10.393556594848633,
          19.88638687133789,
          17.28643798828125,
          22.338624954223633,
          48.350120544433594
         ]
        },
        {
         "boxpoints": "all",
         "jitter": 0.5,
         "line": {
          "color": "orange"
         },
         "name": "pop_size: 50 <br /> prob_const: 0.9 <br /> p_xo: 0.85 <br /> ms_lower: 0 <br /> ms_upper: 0.13333 <br /> ",
         "pointpos": 0,
         "type": "box",
         "y": [
          8.498638153076172,
          39.086612701416016,
          21.91736602783203,
          14.871849060058594,
          74.71977996826172
         ]
        },
        {
         "boxpoints": "all",
         "jitter": 0.5,
         "line": {
          "color": "orange"
         },
         "name": "pop_size: 50 <br /> prob_const: 0.9 <br /> p_xo: 0.85 <br /> ms_lower: 0 <br /> ms_upper: 0.16666 <br /> ",
         "pointpos": 0,
         "type": "box",
         "y": [
          8.353080749511719,
          38.57366943359375,
          21.875911712646484,
          14.875285148620605,
          74.2562026977539
         ]
        },
        {
         "boxpoints": "all",
         "jitter": 0.5,
         "line": {
          "color": "orange"
         },
         "name": "pop_size: 50 <br /> prob_const: 0.9 <br /> p_xo: 0.85 <br /> ms_lower: 0 <br /> ms_upper: 0.2 <br /> ",
         "pointpos": 0,
         "type": "box",
         "y": [
          8.32407283782959,
          38.30282974243164,
          21.738548278808594,
          14.870838165283203,
          74.00373840332031
         ]
        },
        {
         "boxpoints": "all",
         "jitter": 0.5,
         "line": {
          "color": "orange"
         },
         "name": "pop_size: 50 <br /> prob_const: 0.9 <br /> p_xo: 0.85 <br /> ms_lower: 0.033 <br /> ms_upper: 0.13333 <br /> ",
         "pointpos": 0,
         "type": "box",
         "y": [
          8.459756851196289,
          38.8583984375,
          21.98513412475586,
          14.86819839477539,
          74.41924285888672
         ]
        },
        {
         "boxpoints": "all",
         "jitter": 0.5,
         "line": {
          "color": "orange"
         },
         "name": "pop_size: 50 <br /> prob_const: 0.9 <br /> p_xo: 0.85 <br /> ms_lower: 0.033 <br /> ms_upper: 0.16666 <br /> ",
         "pointpos": 0,
         "type": "box",
         "y": [
          8.169105529785156,
          38.515625,
          21.862686157226562,
          14.863715171813965,
          74.36859893798828
         ]
        },
        {
         "boxpoints": "all",
         "jitter": 0.5,
         "line": {
          "color": "orange"
         },
         "name": "pop_size: 50 <br /> prob_const: 0.9 <br /> p_xo: 0.85 <br /> ms_lower: 0.033 <br /> ms_upper: 0.2 <br /> ",
         "pointpos": 0,
         "type": "box",
         "y": [
          8.137566566467285,
          38.20759963989258,
          21.738506317138672,
          14.86935043334961,
          73.76275634765625
         ]
        },
        {
         "boxpoints": "all",
         "jitter": 0.5,
         "line": {
          "color": "orange"
         },
         "name": "pop_size: 50 <br /> prob_const: 0.9 <br /> p_xo: 0.85 <br /> ms_lower: 0.066 <br /> ms_upper: 0.13333 <br /> ",
         "pointpos": 0,
         "type": "box",
         "y": [
          8.25766658782959,
          38.66520690917969,
          21.920833587646484,
          14.871073722839355,
          74.19837188720703
         ]
        },
        {
         "boxpoints": "all",
         "jitter": 0.5,
         "line": {
          "color": "orange"
         },
         "name": "pop_size: 50 <br /> prob_const: 0.9 <br /> p_xo: 0.85 <br /> ms_lower: 0.066 <br /> ms_upper: 0.16666 <br /> ",
         "pointpos": 0,
         "type": "box",
         "y": [
          8.210344314575195,
          38.21781921386719,
          21.79665756225586,
          14.839527130126953,
          74.03172302246094
         ]
        },
        {
         "boxpoints": "all",
         "jitter": 0.5,
         "line": {
          "color": "orange"
         },
         "name": "pop_size: 50 <br /> prob_const: 0.9 <br /> p_xo: 0.85 <br /> ms_lower: 0.066 <br /> ms_upper: 0.2 <br /> ",
         "pointpos": 0,
         "type": "box",
         "y": [
          7.989930629730225,
          37.812835693359375,
          21.649316787719727,
          14.855986595153809,
          73.79943084716797
         ]
        },
        {
         "boxpoints": "all",
         "jitter": 0.5,
         "line": {
          "color": "orange"
         },
         "name": "pop_size: 50 <br /> prob_const: 0.9 <br /> p_xo: 0.9 <br /> ms_lower: 0 <br /> ms_upper: 0.13333 <br /> ",
         "pointpos": 0,
         "type": "box",
         "y": [
          10.4342041015625,
          39.234031677246094,
          22.127613067626953,
          23.034263610839844,
          74.901123046875
         ]
        },
        {
         "boxpoints": "all",
         "jitter": 0.5,
         "line": {
          "color": "orange"
         },
         "name": "pop_size: 50 <br /> prob_const: 0.9 <br /> p_xo: 0.9 <br /> ms_lower: 0 <br /> ms_upper: 0.16666 <br /> ",
         "pointpos": 0,
         "type": "box",
         "y": [
          10.324894905090332,
          39.06310272216797,
          22.015926361083984,
          22.845985412597656,
          74.7156753540039
         ]
        },
        {
         "boxpoints": "all",
         "jitter": 0.5,
         "line": {
          "color": "orange"
         },
         "name": "pop_size: 50 <br /> prob_const: 0.9 <br /> p_xo: 0.9 <br /> ms_lower: 0 <br /> ms_upper: 0.2 <br /> ",
         "pointpos": 0,
         "type": "box",
         "y": [
          9.911836624145508,
          38.89222717285156,
          21.902517318725586,
          22.696842193603516,
          74.55049896240234
         ]
        },
        {
         "boxpoints": "all",
         "jitter": 0.5,
         "line": {
          "color": "orange"
         },
         "name": "pop_size: 50 <br /> prob_const: 0.9 <br /> p_xo: 0.9 <br /> ms_lower: 0.033 <br /> ms_upper: 0.13333 <br /> ",
         "pointpos": 0,
         "type": "box",
         "y": [
          10.273763656616211,
          39.13875961303711,
          22.02892303466797,
          22.994707107543945,
          74.68042755126953
         ]
        },
        {
         "boxpoints": "all",
         "jitter": 0.5,
         "line": {
          "color": "orange"
         },
         "name": "pop_size: 50 <br /> prob_const: 0.9 <br /> p_xo: 0.9 <br /> ms_lower: 0.033 <br /> ms_upper: 0.16666 <br /> ",
         "pointpos": 0,
         "type": "box",
         "y": [
          10.239465713500977,
          38.97843933105469,
          21.899776458740234,
          22.781679153442383,
          74.80621337890625
         ]
        },
        {
         "boxpoints": "all",
         "jitter": 0.5,
         "line": {
          "color": "orange"
         },
         "name": "pop_size: 50 <br /> prob_const: 0.9 <br /> p_xo: 0.9 <br /> ms_lower: 0.033 <br /> ms_upper: 0.2 <br /> ",
         "pointpos": 0,
         "type": "box",
         "y": [
          10.028885841369629,
          38.55221939086914,
          21.776336669921875,
          22.597917556762695,
          74.67322540283203
         ]
        },
        {
         "boxpoints": "all",
         "jitter": 0.5,
         "line": {
          "color": "orange"
         },
         "name": "pop_size: 50 <br /> prob_const: 0.9 <br /> p_xo: 0.9 <br /> ms_lower: 0.066 <br /> ms_upper: 0.13333 <br /> ",
         "pointpos": 0,
         "type": "box",
         "y": [
          10.191977500915527,
          38.73411178588867,
          21.94540786743164,
          22.8585205078125,
          74.70771026611328
         ]
        },
        {
         "boxpoints": "all",
         "jitter": 0.5,
         "line": {
          "color": "orange"
         },
         "name": "pop_size: 50 <br /> prob_const: 0.9 <br /> p_xo: 0.9 <br /> ms_lower: 0.066 <br /> ms_upper: 0.16666 <br /> ",
         "pointpos": 0,
         "type": "box",
         "y": [
          10.126107215881348,
          38.72862243652344,
          21.854455947875977,
          22.720497131347656,
          74.64802551269531
         ]
        },
        {
         "boxpoints": "all",
         "jitter": 0.5,
         "line": {
          "color": "orange"
         },
         "name": "pop_size: 50 <br /> prob_const: 0.9 <br /> p_xo: 0.9 <br /> ms_lower: 0.066 <br /> ms_upper: 0.2 <br /> ",
         "pointpos": 0,
         "type": "box",
         "y": [
          9.942479133605957,
          38.53831481933594,
          21.7496395111084,
          22.779142379760742,
          74.50747680664062
         ]
        },
        {
         "boxpoints": "all",
         "jitter": 0.5,
         "line": {
          "color": "orange"
         },
         "name": "pop_size: 50 <br /> prob_const: 0.9 <br /> p_xo: 0.95 <br /> ms_lower: 0 <br /> ms_upper: 0.13333 <br /> ",
         "pointpos": 0,
         "type": "box",
         "y": [
          35.24800109863281,
          39.39956283569336,
          22.157554626464844,
          23.26630401611328,
          74.81964874267578
         ]
        },
        {
         "boxpoints": "all",
         "jitter": 0.5,
         "line": {
          "color": "orange"
         },
         "name": "pop_size: 50 <br /> prob_const: 0.9 <br /> p_xo: 0.95 <br /> ms_lower: 0 <br /> ms_upper: 0.16666 <br /> ",
         "pointpos": 0,
         "type": "box",
         "y": [
          35.12942123413086,
          39.427947998046875,
          22.05430030822754,
          23.17793083190918,
          74.64955139160156
         ]
        },
        {
         "boxpoints": "all",
         "jitter": 0.5,
         "line": {
          "color": "orange"
         },
         "name": "pop_size: 50 <br /> prob_const: 0.9 <br /> p_xo: 0.95 <br /> ms_lower: 0 <br /> ms_upper: 0.2 <br /> ",
         "pointpos": 0,
         "type": "box",
         "y": [
          35.010536193847656,
          39.327850341796875,
          21.970430374145508,
          22.87505531311035,
          74.56211853027344
         ]
        },
        {
         "boxpoints": "all",
         "jitter": 0.5,
         "line": {
          "color": "orange"
         },
         "name": "pop_size: 50 <br /> prob_const: 0.9 <br /> p_xo: 0.95 <br /> ms_lower: 0.033 <br /> ms_upper: 0.13333 <br /> ",
         "pointpos": 0,
         "type": "box",
         "y": [
          35.2994499206543,
          39.48579025268555,
          22.229328155517578,
          23.199438095092773,
          74.76309967041016
         ]
        },
        {
         "boxpoints": "all",
         "jitter": 0.5,
         "line": {
          "color": "orange"
         },
         "name": "pop_size: 50 <br /> prob_const: 0.9 <br /> p_xo: 0.95 <br /> ms_lower: 0.033 <br /> ms_upper: 0.16666 <br /> ",
         "pointpos": 0,
         "type": "box",
         "y": [
          34.98933410644531,
          39.32419204711914,
          22.066022872924805,
          22.92732810974121,
          74.65324401855469
         ]
        },
        {
         "boxpoints": "all",
         "jitter": 0.5,
         "line": {
          "color": "orange"
         },
         "name": "pop_size: 50 <br /> prob_const: 0.9 <br /> p_xo: 0.95 <br /> ms_lower: 0.033 <br /> ms_upper: 0.2 <br /> ",
         "pointpos": 0,
         "type": "box",
         "y": [
          35.09316635131836,
          39.33435821533203,
          21.997467041015625,
          22.787864685058594,
          74.51529693603516
         ]
        },
        {
         "boxpoints": "all",
         "jitter": 0.5,
         "line": {
          "color": "orange"
         },
         "name": "pop_size: 50 <br /> prob_const: 0.9 <br /> p_xo: 0.95 <br /> ms_lower: 0.066 <br /> ms_upper: 0.13333 <br /> ",
         "pointpos": 0,
         "type": "box",
         "y": [
          35.255245208740234,
          39.3885383605957,
          22.159685134887695,
          23.068275451660156,
          74.6459732055664
         ]
        },
        {
         "boxpoints": "all",
         "jitter": 0.5,
         "line": {
          "color": "orange"
         },
         "name": "pop_size: 50 <br /> prob_const: 0.9 <br /> p_xo: 0.95 <br /> ms_lower: 0.066 <br /> ms_upper: 0.16666 <br /> ",
         "pointpos": 0,
         "type": "box",
         "y": [
          34.92164611816406,
          39.18284606933594,
          22.044836044311523,
          22.932193756103516,
          74.59486389160156
         ]
        },
        {
         "boxpoints": "all",
         "jitter": 0.5,
         "line": {
          "color": "orange"
         },
         "name": "pop_size: 50 <br /> prob_const: 0.9 <br /> p_xo: 0.95 <br /> ms_lower: 0.066 <br /> ms_upper: 0.2 <br /> ",
         "pointpos": 0,
         "type": "box",
         "y": [
          34.82476806640625,
          39.0618782043457,
          21.985036849975586,
          22.640268325805664,
          74.45022583007812
         ]
        },
        {
         "boxpoints": "all",
         "jitter": 0.5,
         "line": {
          "color": "orange"
         },
         "name": "pop_size: 75 <br /> prob_const: 0.7 <br /> p_xo: 0.85 <br /> ms_lower: 0 <br /> ms_upper: 0.13333 <br /> ",
         "pointpos": 0,
         "type": "box",
         "y": [
          5.456199645996094,
          6.698032379150391,
          12.169225692749023,
          28.68863868713379,
          6.2407636642456055
         ]
        },
        {
         "boxpoints": "all",
         "jitter": 0.5,
         "line": {
          "color": "orange"
         },
         "name": "pop_size: 75 <br /> prob_const: 0.7 <br /> p_xo: 0.85 <br /> ms_lower: 0 <br /> ms_upper: 0.16666 <br /> ",
         "pointpos": 0,
         "type": "box",
         "y": [
          5.423003196716309,
          6.726978302001953,
          12.284546852111816,
          28.68461799621582,
          5.91265344619751
         ]
        },
        {
         "boxpoints": "all",
         "jitter": 0.5,
         "line": {
          "color": "orange"
         },
         "name": "pop_size: 75 <br /> prob_const: 0.7 <br /> p_xo: 0.85 <br /> ms_lower: 0 <br /> ms_upper: 0.2 <br /> ",
         "pointpos": 0,
         "type": "box",
         "y": [
          5.405795097351074,
          6.704738616943359,
          12.406641960144043,
          28.6890869140625,
          5.572244167327881
         ]
        },
        {
         "boxpoints": "all",
         "jitter": 0.5,
         "line": {
          "color": "orange"
         },
         "name": "pop_size: 75 <br /> prob_const: 0.7 <br /> p_xo: 0.85 <br /> ms_lower: 0.033 <br /> ms_upper: 0.13333 <br /> ",
         "pointpos": 0,
         "type": "box",
         "y": [
          5.4486236572265625,
          6.721521854400635,
          12.20272159576416,
          28.69367027282715,
          5.99345064163208
         ]
        },
        {
         "boxpoints": "all",
         "jitter": 0.5,
         "line": {
          "color": "orange"
         },
         "name": "pop_size: 75 <br /> prob_const: 0.7 <br /> p_xo: 0.85 <br /> ms_lower: 0.033 <br /> ms_upper: 0.16666 <br /> ",
         "pointpos": 0,
         "type": "box",
         "y": [
          5.414290904998779,
          6.688588619232178,
          12.395332336425781,
          28.708782196044922,
          5.772922515869141
         ]
        },
        {
         "boxpoints": "all",
         "jitter": 0.5,
         "line": {
          "color": "orange"
         },
         "name": "pop_size: 75 <br /> prob_const: 0.7 <br /> p_xo: 0.85 <br /> ms_lower: 0.033 <br /> ms_upper: 0.2 <br /> ",
         "pointpos": 0,
         "type": "box",
         "y": [
          5.407220840454102,
          6.677833557128906,
          12.544910430908203,
          28.659149169921875,
          5.388875961303711
         ]
        },
        {
         "boxpoints": "all",
         "jitter": 0.5,
         "line": {
          "color": "orange"
         },
         "name": "pop_size: 75 <br /> prob_const: 0.7 <br /> p_xo: 0.85 <br /> ms_lower: 0.066 <br /> ms_upper: 0.13333 <br /> ",
         "pointpos": 0,
         "type": "box",
         "y": [
          5.447113037109375,
          6.710549831390381,
          12.226646423339844,
          28.703022003173828,
          5.747714042663574
         ]
        },
        {
         "boxpoints": "all",
         "jitter": 0.5,
         "line": {
          "color": "orange"
         },
         "name": "pop_size: 75 <br /> prob_const: 0.7 <br /> p_xo: 0.85 <br /> ms_lower: 0.066 <br /> ms_upper: 0.16666 <br /> ",
         "pointpos": 0,
         "type": "box",
         "y": [
          5.412137508392334,
          6.703924655914307,
          12.315242767333984,
          28.661287307739258,
          5.34396505355835
         ]
        },
        {
         "boxpoints": "all",
         "jitter": 0.5,
         "line": {
          "color": "orange"
         },
         "name": "pop_size: 75 <br /> prob_const: 0.7 <br /> p_xo: 0.85 <br /> ms_lower: 0.066 <br /> ms_upper: 0.2 <br /> ",
         "pointpos": 0,
         "type": "box",
         "y": [
          5.440432548522949,
          6.704204559326172,
          12.52706241607666,
          28.66977310180664,
          5.406041622161865
         ]
        },
        {
         "boxpoints": "all",
         "jitter": 0.5,
         "line": {
          "color": "orange"
         },
         "name": "pop_size: 75 <br /> prob_const: 0.7 <br /> p_xo: 0.9 <br /> ms_lower: 0 <br /> ms_upper: 0.13333 <br /> ",
         "pointpos": 0,
         "type": "box",
         "y": [
          15.61036491394043,
          6.503164768218994,
          9.631103515625,
          23.594104766845703,
          6.3114213943481445
         ]
        },
        {
         "boxpoints": "all",
         "jitter": 0.5,
         "line": {
          "color": "orange"
         },
         "name": "pop_size: 75 <br /> prob_const: 0.7 <br /> p_xo: 0.9 <br /> ms_lower: 0 <br /> ms_upper: 0.16666 <br /> ",
         "pointpos": 0,
         "type": "box",
         "y": [
          15.340275764465332,
          6.484573841094971,
          9.635401725769043,
          23.42525291442871,
          6.131627082824707
         ]
        },
        {
         "boxpoints": "all",
         "jitter": 0.5,
         "line": {
          "color": "orange"
         },
         "name": "pop_size: 75 <br /> prob_const: 0.7 <br /> p_xo: 0.9 <br /> ms_lower: 0 <br /> ms_upper: 0.2 <br /> ",
         "pointpos": 0,
         "type": "box",
         "y": [
          15.07531452178955,
          6.468276500701904,
          9.641284942626953,
          23.3958683013916,
          6.023892402648926
         ]
        },
        {
         "boxpoints": "all",
         "jitter": 0.5,
         "line": {
          "color": "orange"
         },
         "name": "pop_size: 75 <br /> prob_const: 0.7 <br /> p_xo: 0.9 <br /> ms_lower: 0.033 <br /> ms_upper: 0.13333 <br /> ",
         "pointpos": 0,
         "type": "box",
         "y": [
          15.63414478302002,
          6.498354911804199,
          9.59006404876709,
          23.445098876953125,
          6.316725730895996
         ]
        },
        {
         "boxpoints": "all",
         "jitter": 0.5,
         "line": {
          "color": "orange"
         },
         "name": "pop_size: 75 <br /> prob_const: 0.7 <br /> p_xo: 0.9 <br /> ms_lower: 0.033 <br /> ms_upper: 0.16666 <br /> ",
         "pointpos": 0,
         "type": "box",
         "y": [
          15.171270370483398,
          6.483512878417969,
          9.597195625305176,
          22.966686248779297,
          6.047077178955078
         ]
        },
        {
         "boxpoints": "all",
         "jitter": 0.5,
         "line": {
          "color": "orange"
         },
         "name": "pop_size: 75 <br /> prob_const: 0.7 <br /> p_xo: 0.9 <br /> ms_lower: 0.033 <br /> ms_upper: 0.2 <br /> ",
         "pointpos": 0,
         "type": "box",
         "y": [
          15.184879302978516,
          6.481304168701172,
          9.622254371643066,
          22.85458755493164,
          5.91445255279541
         ]
        },
        {
         "boxpoints": "all",
         "jitter": 0.5,
         "line": {
          "color": "orange"
         },
         "name": "pop_size: 75 <br /> prob_const: 0.7 <br /> p_xo: 0.9 <br /> ms_lower: 0.066 <br /> ms_upper: 0.13333 <br /> ",
         "pointpos": 0,
         "type": "box",
         "y": [
          15.379667282104492,
          6.519649505615234,
          9.61208724975586,
          23.518762588500977,
          6.2039666175842285
         ]
        },
        {
         "boxpoints": "all",
         "jitter": 0.5,
         "line": {
          "color": "orange"
         },
         "name": "pop_size: 75 <br /> prob_const: 0.7 <br /> p_xo: 0.9 <br /> ms_lower: 0.066 <br /> ms_upper: 0.16666 <br /> ",
         "pointpos": 0,
         "type": "box",
         "y": [
          15.189231872558594,
          6.495673656463623,
          9.629958152770996,
          23.42364501953125,
          5.976738452911377
         ]
        },
        {
         "boxpoints": "all",
         "jitter": 0.5,
         "line": {
          "color": "orange"
         },
         "name": "pop_size: 75 <br /> prob_const: 0.7 <br /> p_xo: 0.9 <br /> ms_lower: 0.066 <br /> ms_upper: 0.2 <br /> ",
         "pointpos": 0,
         "type": "box",
         "y": [
          15.129622459411621,
          6.45188570022583,
          9.633871078491211,
          23.33427619934082,
          5.9792985916137695
         ]
        },
        {
         "boxpoints": "all",
         "jitter": 0.5,
         "line": {
          "color": "orange"
         },
         "name": "pop_size: 75 <br /> prob_const: 0.7 <br /> p_xo: 0.95 <br /> ms_lower: 0 <br /> ms_upper: 0.13333 <br /> ",
         "pointpos": 0,
         "type": "box",
         "y": [
          9.566868782043457,
          6.180225849151611,
          10.260826110839844,
          10.76974105834961,
          21.773193359375
         ]
        },
        {
         "boxpoints": "all",
         "jitter": 0.5,
         "line": {
          "color": "orange"
         },
         "name": "pop_size: 75 <br /> prob_const: 0.7 <br /> p_xo: 0.95 <br /> ms_lower: 0 <br /> ms_upper: 0.16666 <br /> ",
         "pointpos": 0,
         "type": "box",
         "y": [
          9.375931739807129,
          6.231847286224365,
          10.49181842803955,
          10.725123405456543,
          21.571077346801758
         ]
        },
        {
         "boxpoints": "all",
         "jitter": 0.5,
         "line": {
          "color": "orange"
         },
         "name": "pop_size: 75 <br /> prob_const: 0.7 <br /> p_xo: 0.95 <br /> ms_lower: 0 <br /> ms_upper: 0.2 <br /> ",
         "pointpos": 0,
         "type": "box",
         "y": [
          9.239481925964355,
          6.2244768142700195,
          10.51535415649414,
          10.623250961303711,
          21.36920166015625
         ]
        },
        {
         "boxpoints": "all",
         "jitter": 0.5,
         "line": {
          "color": "orange"
         },
         "name": "pop_size: 75 <br /> prob_const: 0.7 <br /> p_xo: 0.95 <br /> ms_lower: 0.033 <br /> ms_upper: 0.13333 <br /> ",
         "pointpos": 0,
         "type": "box",
         "y": [
          9.476951599121094,
          6.242048263549805,
          10.476066589355469,
          10.76407241821289,
          21.635374069213867
         ]
        },
        {
         "boxpoints": "all",
         "jitter": 0.5,
         "line": {
          "color": "orange"
         },
         "name": "pop_size: 75 <br /> prob_const: 0.7 <br /> p_xo: 0.95 <br /> ms_lower: 0.033 <br /> ms_upper: 0.16666 <br /> ",
         "pointpos": 0,
         "type": "box",
         "y": [
          9.140116691589355,
          6.240729331970215,
          10.507575988769531,
          10.324540138244629,
          21.553403854370117
         ]
        },
        {
         "boxpoints": "all",
         "jitter": 0.5,
         "line": {
          "color": "orange"
         },
         "name": "pop_size: 75 <br /> prob_const: 0.7 <br /> p_xo: 0.95 <br /> ms_lower: 0.033 <br /> ms_upper: 0.2 <br /> ",
         "pointpos": 0,
         "type": "box",
         "y": [
          9.097616195678711,
          6.246847152709961,
          10.545693397521973,
          10.668495178222656,
          21.358945846557617
         ]
        },
        {
         "boxpoints": "all",
         "jitter": 0.5,
         "line": {
          "color": "orange"
         },
         "name": "pop_size: 75 <br /> prob_const: 0.7 <br /> p_xo: 0.95 <br /> ms_lower: 0.066 <br /> ms_upper: 0.13333 <br /> ",
         "pointpos": 0,
         "type": "box",
         "y": [
          9.423137664794922,
          6.264069080352783,
          10.467626571655273,
          10.784697532653809,
          21.400985717773438
         ]
        },
        {
         "boxpoints": "all",
         "jitter": 0.5,
         "line": {
          "color": "orange"
         },
         "name": "pop_size: 75 <br /> prob_const: 0.7 <br /> p_xo: 0.95 <br /> ms_lower: 0.066 <br /> ms_upper: 0.16666 <br /> ",
         "pointpos": 0,
         "type": "box",
         "y": [
          9.193513870239258,
          6.244459629058838,
          10.503349304199219,
          10.326715469360352,
          21.15157699584961
         ]
        },
        {
         "boxpoints": "all",
         "jitter": 0.5,
         "line": {
          "color": "orange"
         },
         "name": "pop_size: 75 <br /> prob_const: 0.7 <br /> p_xo: 0.95 <br /> ms_lower: 0.066 <br /> ms_upper: 0.2 <br /> ",
         "pointpos": 0,
         "type": "box",
         "y": [
          8.961447715759277,
          6.250952243804932,
          10.568193435668945,
          10.443489074707031,
          21.125728607177734
         ]
        },
        {
         "boxpoints": "all",
         "jitter": 0.5,
         "line": {
          "color": "orange"
         },
         "name": "pop_size: 75 <br /> prob_const: 0.8 <br /> p_xo: 0.85 <br /> ms_lower: 0 <br /> ms_upper: 0.13333 <br /> ",
         "pointpos": 0,
         "type": "box",
         "y": [
          36.480926513671875,
          6.045154571533203,
          7.289457321166992,
          22.405017852783203,
          7.441840171813965
         ]
        },
        {
         "boxpoints": "all",
         "jitter": 0.5,
         "line": {
          "color": "orange"
         },
         "name": "pop_size: 75 <br /> prob_const: 0.8 <br /> p_xo: 0.85 <br /> ms_lower: 0 <br /> ms_upper: 0.16666 <br /> ",
         "pointpos": 0,
         "type": "box",
         "y": [
          36.344383239746094,
          6.029784679412842,
          7.261467933654785,
          22.180084228515625,
          7.07227897644043
         ]
        },
        {
         "boxpoints": "all",
         "jitter": 0.5,
         "line": {
          "color": "orange"
         },
         "name": "pop_size: 75 <br /> prob_const: 0.8 <br /> p_xo: 0.85 <br /> ms_lower: 0 <br /> ms_upper: 0.2 <br /> ",
         "pointpos": 0,
         "type": "box",
         "y": [
          36.02823257446289,
          5.982174396514893,
          7.263070583343506,
          22.02027130126953,
          6.948576927185059
         ]
        },
        {
         "boxpoints": "all",
         "jitter": 0.5,
         "line": {
          "color": "orange"
         },
         "name": "pop_size: 75 <br /> prob_const: 0.8 <br /> p_xo: 0.85 <br /> ms_lower: 0.033 <br /> ms_upper: 0.13333 <br /> ",
         "pointpos": 0,
         "type": "box",
         "y": [
          36.66426086425781,
          6.053154945373535,
          7.273575305938721,
          22.34298324584961,
          7.341239929199219
         ]
        },
        {
         "boxpoints": "all",
         "jitter": 0.5,
         "line": {
          "color": "orange"
         },
         "name": "pop_size: 75 <br /> prob_const: 0.8 <br /> p_xo: 0.85 <br /> ms_lower: 0.033 <br /> ms_upper: 0.16666 <br /> ",
         "pointpos": 0,
         "type": "box",
         "y": [
          36.07749557495117,
          6.053131580352783,
          7.269933700561523,
          22.160261154174805,
          7.076453685760498
         ]
        },
        {
         "boxpoints": "all",
         "jitter": 0.5,
         "line": {
          "color": "orange"
         },
         "name": "pop_size: 75 <br /> prob_const: 0.8 <br /> p_xo: 0.85 <br /> ms_lower: 0.033 <br /> ms_upper: 0.2 <br /> ",
         "pointpos": 0,
         "type": "box",
         "y": [
          35.79380416870117,
          5.975057601928711,
          7.253718376159668,
          21.68214988708496,
          6.927972316741943
         ]
        },
        {
         "boxpoints": "all",
         "jitter": 0.5,
         "line": {
          "color": "orange"
         },
         "name": "pop_size: 75 <br /> prob_const: 0.8 <br /> p_xo: 0.85 <br /> ms_lower: 0.066 <br /> ms_upper: 0.13333 <br /> ",
         "pointpos": 0,
         "type": "box",
         "y": [
          36.208595275878906,
          6.03779411315918,
          7.267762184143066,
          22.15397834777832,
          7.213301658630371
         ]
        },
        {
         "boxpoints": "all",
         "jitter": 0.5,
         "line": {
          "color": "orange"
         },
         "name": "pop_size: 75 <br /> prob_const: 0.8 <br /> p_xo: 0.85 <br /> ms_lower: 0.066 <br /> ms_upper: 0.16666 <br /> ",
         "pointpos": 0,
         "type": "box",
         "y": [
          35.873695373535156,
          6.045956611633301,
          7.314407825469971,
          21.907575607299805,
          6.879386901855469
         ]
        },
        {
         "boxpoints": "all",
         "jitter": 0.5,
         "line": {
          "color": "orange"
         },
         "name": "pop_size: 75 <br /> prob_const: 0.8 <br /> p_xo: 0.85 <br /> ms_lower: 0.066 <br /> ms_upper: 0.2 <br /> ",
         "pointpos": 0,
         "type": "box",
         "y": [
          35.50394058227539,
          5.970826625823975,
          7.261739253997803,
          21.73746681213379,
          6.783955097198486
         ]
        },
        {
         "boxpoints": "all",
         "jitter": 0.5,
         "line": {
          "color": "orange"
         },
         "name": "pop_size: 75 <br /> prob_const: 0.8 <br /> p_xo: 0.9 <br /> ms_lower: 0 <br /> ms_upper: 0.13333 <br /> ",
         "pointpos": 0,
         "type": "box",
         "y": [
          36.87051773071289,
          20.296367645263672,
          19.927637100219727,
          25.02488899230957,
          48.6899528503418
         ]
        },
        {
         "boxpoints": "all",
         "jitter": 0.5,
         "line": {
          "color": "orange"
         },
         "name": "pop_size: 75 <br /> prob_const: 0.8 <br /> p_xo: 0.9 <br /> ms_lower: 0 <br /> ms_upper: 0.16666 <br /> ",
         "pointpos": 0,
         "type": "box",
         "y": [
          36.759281158447266,
          19.99357795715332,
          19.84355354309082,
          24.412145614624023,
          48.41459655761719
         ]
        },
        {
         "boxpoints": "all",
         "jitter": 0.5,
         "line": {
          "color": "orange"
         },
         "name": "pop_size: 75 <br /> prob_const: 0.8 <br /> p_xo: 0.9 <br /> ms_lower: 0 <br /> ms_upper: 0.2 <br /> ",
         "pointpos": 0,
         "type": "box",
         "y": [
          36.359493255615234,
          19.570634841918945,
          19.625417709350586,
          24.689748764038086,
          48.13916778564453
         ]
        },
        {
         "boxpoints": "all",
         "jitter": 0.5,
         "line": {
          "color": "orange"
         },
         "name": "pop_size: 75 <br /> prob_const: 0.8 <br /> p_xo: 0.9 <br /> ms_lower: 0.033 <br /> ms_upper: 0.13333 <br /> ",
         "pointpos": 0,
         "type": "box",
         "y": [
          36.784481048583984,
          20.083751678466797,
          19.880495071411133,
          24.130189895629883,
          48.5587043762207
         ]
        },
        {
         "boxpoints": "all",
         "jitter": 0.5,
         "line": {
          "color": "orange"
         },
         "name": "pop_size: 75 <br /> prob_const: 0.8 <br /> p_xo: 0.9 <br /> ms_lower: 0.033 <br /> ms_upper: 0.16666 <br /> ",
         "pointpos": 0,
         "type": "box",
         "y": [
          36.44288635253906,
          19.732419967651367,
          19.55466079711914,
          24.165821075439453,
          48.45085906982422
         ]
        },
        {
         "boxpoints": "all",
         "jitter": 0.5,
         "line": {
          "color": "orange"
         },
         "name": "pop_size: 75 <br /> prob_const: 0.8 <br /> p_xo: 0.9 <br /> ms_lower: 0.033 <br /> ms_upper: 0.2 <br /> ",
         "pointpos": 0,
         "type": "box",
         "y": [
          36.51847839355469,
          19.268646240234375,
          19.43535041809082,
          24.09996223449707,
          47.96037673950195
         ]
        },
        {
         "boxpoints": "all",
         "jitter": 0.5,
         "line": {
          "color": "orange"
         },
         "name": "pop_size: 75 <br /> prob_const: 0.8 <br /> p_xo: 0.9 <br /> ms_lower: 0.066 <br /> ms_upper: 0.13333 <br /> ",
         "pointpos": 0,
         "type": "box",
         "y": [
          36.63022994995117,
          19.98063087463379,
          19.73587989807129,
          23.871501922607422,
          48.4266471862793
         ]
        },
        {
         "boxpoints": "all",
         "jitter": 0.5,
         "line": {
          "color": "orange"
         },
         "name": "pop_size: 75 <br /> prob_const: 0.8 <br /> p_xo: 0.9 <br /> ms_lower: 0.066 <br /> ms_upper: 0.16666 <br /> ",
         "pointpos": 0,
         "type": "box",
         "y": [
          36.29200744628906,
          19.564834594726562,
          19.647014617919922,
          24.176868438720703,
          48.11448669433594
         ]
        },
        {
         "boxpoints": "all",
         "jitter": 0.5,
         "line": {
          "color": "orange"
         },
         "name": "pop_size: 75 <br /> prob_const: 0.8 <br /> p_xo: 0.9 <br /> ms_lower: 0.066 <br /> ms_upper: 0.2 <br /> ",
         "pointpos": 0,
         "type": "box",
         "y": [
          36.184234619140625,
          18.98503875732422,
          19.13013458251953,
          23.213191986083984,
          47.90377426147461
         ]
        },
        {
         "boxpoints": "all",
         "jitter": 0.5,
         "line": {
          "color": "orange"
         },
         "name": "pop_size: 75 <br /> prob_const: 0.8 <br /> p_xo: 0.95 <br /> ms_lower: 0 <br /> ms_upper: 0.13333 <br /> ",
         "pointpos": 0,
         "type": "box",
         "y": [
          6.211883544921875,
          9.39321517944336,
          7.612166881561279,
          52.62456512451172,
          9.378144264221191
         ]
        },
        {
         "boxpoints": "all",
         "jitter": 0.5,
         "line": {
          "color": "orange"
         },
         "name": "pop_size: 75 <br /> prob_const: 0.8 <br /> p_xo: 0.95 <br /> ms_lower: 0 <br /> ms_upper: 0.16666 <br /> ",
         "pointpos": 0,
         "type": "box",
         "y": [
          6.107142925262451,
          9.323705673217773,
          7.525153636932373,
          52.551048278808594,
          9.378046035766602
         ]
        },
        {
         "boxpoints": "all",
         "jitter": 0.5,
         "line": {
          "color": "orange"
         },
         "name": "pop_size: 75 <br /> prob_const: 0.8 <br /> p_xo: 0.95 <br /> ms_lower: 0 <br /> ms_upper: 0.2 <br /> ",
         "pointpos": 0,
         "type": "box",
         "y": [
          6.040017604827881,
          9.188697814941406,
          7.507641792297363,
          52.4672737121582,
          9.245283126831055
         ]
        },
        {
         "boxpoints": "all",
         "jitter": 0.5,
         "line": {
          "color": "orange"
         },
         "name": "pop_size: 75 <br /> prob_const: 0.8 <br /> p_xo: 0.95 <br /> ms_lower: 0.033 <br /> ms_upper: 0.13333 <br /> ",
         "pointpos": 0,
         "type": "box",
         "y": [
          6.091222763061523,
          9.283883094787598,
          7.592769145965576,
          52.57412338256836,
          9.36747932434082
         ]
        },
        {
         "boxpoints": "all",
         "jitter": 0.5,
         "line": {
          "color": "orange"
         },
         "name": "pop_size: 75 <br /> prob_const: 0.8 <br /> p_xo: 0.95 <br /> ms_lower: 0.033 <br /> ms_upper: 0.16666 <br /> ",
         "pointpos": 0,
         "type": "box",
         "y": [
          6.065014362335205,
          9.18282699584961,
          7.529024600982666,
          52.431880950927734,
          9.375046730041504
         ]
        },
        {
         "boxpoints": "all",
         "jitter": 0.5,
         "line": {
          "color": "orange"
         },
         "name": "pop_size: 75 <br /> prob_const: 0.8 <br /> p_xo: 0.95 <br /> ms_lower: 0.033 <br /> ms_upper: 0.2 <br /> ",
         "pointpos": 0,
         "type": "box",
         "y": [
          5.898860454559326,
          9.12329387664795,
          7.502906322479248,
          52.4669303894043,
          9.204757690429688
         ]
        },
        {
         "boxpoints": "all",
         "jitter": 0.5,
         "line": {
          "color": "orange"
         },
         "name": "pop_size: 75 <br /> prob_const: 0.8 <br /> p_xo: 0.95 <br /> ms_lower: 0.066 <br /> ms_upper: 0.13333 <br /> ",
         "pointpos": 0,
         "type": "box",
         "y": [
          6.095358371734619,
          9.080174446105957,
          7.55986213684082,
          52.537288665771484,
          9.31651496887207
         ]
        },
        {
         "boxpoints": "all",
         "jitter": 0.5,
         "line": {
          "color": "orange"
         },
         "name": "pop_size: 75 <br /> prob_const: 0.8 <br /> p_xo: 0.95 <br /> ms_lower: 0.066 <br /> ms_upper: 0.16666 <br /> ",
         "pointpos": 0,
         "type": "box",
         "y": [
          5.993882179260254,
          9.095726013183594,
          7.559085369110107,
          52.399410247802734,
          9.180570602416992
         ]
        },
        {
         "boxpoints": "all",
         "jitter": 0.5,
         "line": {
          "color": "orange"
         },
         "name": "pop_size: 75 <br /> prob_const: 0.8 <br /> p_xo: 0.95 <br /> ms_lower: 0.066 <br /> ms_upper: 0.2 <br /> ",
         "pointpos": 0,
         "type": "box",
         "y": [
          5.975158214569092,
          9.054162979125977,
          7.465788841247559,
          52.3769416809082,
          9.00147819519043
         ]
        },
        {
         "boxpoints": "all",
         "jitter": 0.5,
         "line": {
          "color": "orange"
         },
         "name": "pop_size: 75 <br /> prob_const: 0.9 <br /> p_xo: 0.85 <br /> ms_lower: 0 <br /> ms_upper: 0.13333 <br /> ",
         "pointpos": 0,
         "type": "box",
         "y": [
          49.1895637512207,
          19.618471145629883,
          21.948862075805664,
          22.868703842163086,
          74.4710922241211
         ]
        },
        {
         "boxpoints": "all",
         "jitter": 0.5,
         "line": {
          "color": "orange"
         },
         "name": "pop_size: 75 <br /> prob_const: 0.9 <br /> p_xo: 0.85 <br /> ms_lower: 0 <br /> ms_upper: 0.16666 <br /> ",
         "pointpos": 0,
         "type": "box",
         "y": [
          48.961795806884766,
          19.44232177734375,
          21.795482635498047,
          22.645841598510742,
          74.2470932006836
         ]
        },
        {
         "boxpoints": "all",
         "jitter": 0.5,
         "line": {
          "color": "orange"
         },
         "name": "pop_size: 75 <br /> prob_const: 0.9 <br /> p_xo: 0.85 <br /> ms_lower: 0 <br /> ms_upper: 0.2 <br /> ",
         "pointpos": 0,
         "type": "box",
         "y": [
          48.73398971557617,
          19.236751556396484,
          21.640165328979492,
          22.542491912841797,
          74.0028076171875
         ]
        },
        {
         "boxpoints": "all",
         "jitter": 0.5,
         "line": {
          "color": "orange"
         },
         "name": "pop_size: 75 <br /> prob_const: 0.9 <br /> p_xo: 0.85 <br /> ms_lower: 0.033 <br /> ms_upper: 0.13333 <br /> ",
         "pointpos": 0,
         "type": "box",
         "y": [
          49.14281463623047,
          19.573078155517578,
          21.890466690063477,
          22.79955291748047,
          74.28812408447266
         ]
        },
        {
         "boxpoints": "all",
         "jitter": 0.5,
         "line": {
          "color": "orange"
         },
         "name": "pop_size: 75 <br /> prob_const: 0.9 <br /> p_xo: 0.85 <br /> ms_lower: 0.033 <br /> ms_upper: 0.16666 <br /> ",
         "pointpos": 0,
         "type": "box",
         "y": [
          48.76418685913086,
          19.438528060913086,
          21.72109031677246,
          22.52802848815918,
          74.06896209716797
         ]
        },
        {
         "boxpoints": "all",
         "jitter": 0.5,
         "line": {
          "color": "orange"
         },
         "name": "pop_size: 75 <br /> prob_const: 0.9 <br /> p_xo: 0.85 <br /> ms_lower: 0.033 <br /> ms_upper: 0.2 <br /> ",
         "pointpos": 0,
         "type": "box",
         "y": [
          48.520484924316406,
          19.138134002685547,
          21.521989822387695,
          22.35774040222168,
          73.78509521484375
         ]
        },
        {
         "boxpoints": "all",
         "jitter": 0.5,
         "line": {
          "color": "orange"
         },
         "name": "pop_size: 75 <br /> prob_const: 0.9 <br /> p_xo: 0.85 <br /> ms_lower: 0.066 <br /> ms_upper: 0.13333 <br /> ",
         "pointpos": 0,
         "type": "box",
         "y": [
          48.82377624511719,
          19.394794464111328,
          21.757375717163086,
          22.657394409179688,
          74.28279113769531
         ]
        },
        {
         "boxpoints": "all",
         "jitter": 0.5,
         "line": {
          "color": "orange"
         },
         "name": "pop_size: 75 <br /> prob_const: 0.9 <br /> p_xo: 0.85 <br /> ms_lower: 0.066 <br /> ms_upper: 0.16666 <br /> ",
         "pointpos": 0,
         "type": "box",
         "y": [
          48.68262481689453,
          19.28900909423828,
          21.6119327545166,
          22.315032958984375,
          74.0042953491211
         ]
        },
        {
         "boxpoints": "all",
         "jitter": 0.5,
         "line": {
          "color": "orange"
         },
         "name": "pop_size: 75 <br /> prob_const: 0.9 <br /> p_xo: 0.85 <br /> ms_lower: 0.066 <br /> ms_upper: 0.2 <br /> ",
         "pointpos": 0,
         "type": "box",
         "y": [
          48.69264602661133,
          19.09815788269043,
          21.39926528930664,
          21.89952850341797,
          73.77783966064453
         ]
        },
        {
         "boxpoints": "all",
         "jitter": 0.5,
         "line": {
          "color": "orange"
         },
         "name": "pop_size: 75 <br /> prob_const: 0.9 <br /> p_xo: 0.9 <br /> ms_lower: 0 <br /> ms_upper: 0.13333 <br /> ",
         "pointpos": 0,
         "type": "box",
         "y": [
          49.08163070678711,
          19.76383399963379,
          21.939977645874023,
          13.024760246276855,
          74.50892639160156
         ]
        },
        {
         "boxpoints": "all",
         "jitter": 0.5,
         "line": {
          "color": "orange"
         },
         "name": "pop_size: 75 <br /> prob_const: 0.9 <br /> p_xo: 0.9 <br /> ms_lower: 0 <br /> ms_upper: 0.16666 <br /> ",
         "pointpos": 0,
         "type": "box",
         "y": [
          48.83393096923828,
          19.59360122680664,
          21.783973693847656,
          13.034566879272461,
          74.36343383789062
         ]
        },
        {
         "boxpoints": "all",
         "jitter": 0.5,
         "line": {
          "color": "orange"
         },
         "name": "pop_size: 75 <br /> prob_const: 0.9 <br /> p_xo: 0.9 <br /> ms_lower: 0 <br /> ms_upper: 0.2 <br /> ",
         "pointpos": 0,
         "type": "box",
         "y": [
          48.586158752441406,
          19.447158813476562,
          21.629182815551758,
          13.007079124450684,
          74.21478271484375
         ]
        },
        {
         "boxpoints": "all",
         "jitter": 0.5,
         "line": {
          "color": "orange"
         },
         "name": "pop_size: 75 <br /> prob_const: 0.9 <br /> p_xo: 0.9 <br /> ms_lower: 0.033 <br /> ms_upper: 0.13333 <br /> ",
         "pointpos": 0,
         "type": "box",
         "y": [
          49.228336334228516,
          19.700603485107422,
          21.989709854125977,
          13.029532432556152,
          74.48139190673828
         ]
        },
        {
         "boxpoints": "all",
         "jitter": 0.5,
         "line": {
          "color": "orange"
         },
         "name": "pop_size: 75 <br /> prob_const: 0.9 <br /> p_xo: 0.9 <br /> ms_lower: 0.033 <br /> ms_upper: 0.16666 <br /> ",
         "pointpos": 0,
         "type": "box",
         "y": [
          49.03726577758789,
          19.51275062561035,
          21.828960418701172,
          13.003785133361816,
          74.1419906616211
         ]
        },
        {
         "boxpoints": "all",
         "jitter": 0.5,
         "line": {
          "color": "orange"
         },
         "name": "pop_size: 75 <br /> prob_const: 0.9 <br /> p_xo: 0.9 <br /> ms_lower: 0.033 <br /> ms_upper: 0.2 <br /> ",
         "pointpos": 0,
         "type": "box",
         "y": [
          48.74477005004883,
          19.22475814819336,
          21.74117660522461,
          13.028749465942383,
          74.14456939697266
         ]
        },
        {
         "boxpoints": "all",
         "jitter": 0.5,
         "line": {
          "color": "orange"
         },
         "name": "pop_size: 75 <br /> prob_const: 0.9 <br /> p_xo: 0.9 <br /> ms_lower: 0.066 <br /> ms_upper: 0.13333 <br /> ",
         "pointpos": 0,
         "type": "box",
         "y": [
          49.02980422973633,
          19.45741081237793,
          21.929229736328125,
          13.020808219909668,
          74.3604507446289
         ]
        },
        {
         "boxpoints": "all",
         "jitter": 0.5,
         "line": {
          "color": "orange"
         },
         "name": "pop_size: 75 <br /> prob_const: 0.9 <br /> p_xo: 0.9 <br /> ms_lower: 0.066 <br /> ms_upper: 0.16666 <br /> ",
         "pointpos": 0,
         "type": "box",
         "y": [
          48.72456359863281,
          19.43876838684082,
          21.851511001586914,
          13.0067138671875,
          74.28890228271484
         ]
        },
        {
         "boxpoints": "all",
         "jitter": 0.5,
         "line": {
          "color": "orange"
         },
         "name": "pop_size: 75 <br /> prob_const: 0.9 <br /> p_xo: 0.9 <br /> ms_lower: 0.066 <br /> ms_upper: 0.2 <br /> ",
         "pointpos": 0,
         "type": "box",
         "y": [
          48.45701217651367,
          19.294620513916016,
          21.737565994262695,
          13.021872520446777,
          74.15330505371094
         ]
        },
        {
         "boxpoints": "all",
         "jitter": 0.5,
         "line": {
          "color": "orange"
         },
         "name": "pop_size: 75 <br /> prob_const: 0.9 <br /> p_xo: 0.95 <br /> ms_lower: 0 <br /> ms_upper: 0.13333 <br /> ",
         "pointpos": 0,
         "type": "box",
         "y": [
          49.523128509521484,
          20.173891067504883,
          22.18617820739746,
          15.321540832519531,
          74.74546813964844
         ]
        },
        {
         "boxpoints": "all",
         "jitter": 0.5,
         "line": {
          "color": "orange"
         },
         "name": "pop_size: 75 <br /> prob_const: 0.9 <br /> p_xo: 0.95 <br /> ms_lower: 0 <br /> ms_upper: 0.16666 <br /> ",
         "pointpos": 0,
         "type": "box",
         "y": [
          49.47702407836914,
          20.054534912109375,
          22.088592529296875,
          15.314458847045898,
          74.58344268798828
         ]
        },
        {
         "boxpoints": "all",
         "jitter": 0.5,
         "line": {
          "color": "orange"
         },
         "name": "pop_size: 75 <br /> prob_const: 0.9 <br /> p_xo: 0.95 <br /> ms_lower: 0 <br /> ms_upper: 0.2 <br /> ",
         "pointpos": 0,
         "type": "box",
         "y": [
          49.35545349121094,
          19.964296340942383,
          21.99164581298828,
          15.29477596282959,
          74.41940307617188
         ]
        },
        {
         "boxpoints": "all",
         "jitter": 0.5,
         "line": {
          "color": "orange"
         },
         "name": "pop_size: 75 <br /> prob_const: 0.9 <br /> p_xo: 0.95 <br /> ms_lower: 0.033 <br /> ms_upper: 0.13333 <br /> ",
         "pointpos": 0,
         "type": "box",
         "y": [
          49.47786331176758,
          19.992847442626953,
          22.121929168701172,
          15.342045783996582,
          74.65978240966797
         ]
        },
        {
         "boxpoints": "all",
         "jitter": 0.5,
         "line": {
          "color": "orange"
         },
         "name": "pop_size: 75 <br /> prob_const: 0.9 <br /> p_xo: 0.95 <br /> ms_lower: 0.033 <br /> ms_upper: 0.16666 <br /> ",
         "pointpos": 0,
         "type": "box",
         "y": [
          49.401302337646484,
          20.03022003173828,
          21.9559326171875,
          15.30028247833252,
          74.61699676513672
         ]
        },
        {
         "boxpoints": "all",
         "jitter": 0.5,
         "line": {
          "color": "orange"
         },
         "name": "pop_size: 75 <br /> prob_const: 0.9 <br /> p_xo: 0.95 <br /> ms_lower: 0.033 <br /> ms_upper: 0.2 <br /> ",
         "pointpos": 0,
         "type": "box",
         "y": [
          49.000526428222656,
          19.992584228515625,
          21.883869171142578,
          15.280272483825684,
          74.43673706054688
         ]
        },
        {
         "boxpoints": "all",
         "jitter": 0.5,
         "line": {
          "color": "orange"
         },
         "name": "pop_size: 75 <br /> prob_const: 0.9 <br /> p_xo: 0.95 <br /> ms_lower: 0.066 <br /> ms_upper: 0.13333 <br /> ",
         "pointpos": 0,
         "type": "box",
         "y": [
          49.40205383300781,
          19.98050880432129,
          22.018312454223633,
          15.304065704345703,
          74.67764282226562
         ]
        },
        {
         "boxpoints": "all",
         "jitter": 0.5,
         "line": {
          "color": "orange"
         },
         "name": "pop_size: 75 <br /> prob_const: 0.9 <br /> p_xo: 0.95 <br /> ms_lower: 0.066 <br /> ms_upper: 0.16666 <br /> ",
         "pointpos": 0,
         "type": "box",
         "y": [
          49.23658752441406,
          19.881553649902344,
          22.03803825378418,
          15.275830268859863,
          74.4629135131836
         ]
        },
        {
         "boxpoints": "all",
         "jitter": 0.5,
         "line": {
          "color": "orange"
         },
         "name": "pop_size: 75 <br /> prob_const: 0.9 <br /> p_xo: 0.95 <br /> ms_lower: 0.066 <br /> ms_upper: 0.2 <br /> ",
         "pointpos": 0,
         "type": "box",
         "y": [
          49.14055633544922,
          19.864831924438477,
          21.94552993774414,
          15.272249221801758,
          74.20222473144531
         ]
        }
       ],
       "layout": {
        "height": 500,
        "margin": {
         "b": 20,
         "l": 50,
         "r": 50,
         "t": 50
        },
        "showlegend": false,
        "template": {
         "data": {
          "bar": [
           {
            "error_x": {
             "color": "#2a3f5f"
            },
            "error_y": {
             "color": "#2a3f5f"
            },
            "marker": {
             "line": {
              "color": "white",
              "width": 0.5
             },
             "pattern": {
              "fillmode": "overlay",
              "size": 10,
              "solidity": 0.2
             }
            },
            "type": "bar"
           }
          ],
          "barpolar": [
           {
            "marker": {
             "line": {
              "color": "white",
              "width": 0.5
             },
             "pattern": {
              "fillmode": "overlay",
              "size": 10,
              "solidity": 0.2
             }
            },
            "type": "barpolar"
           }
          ],
          "carpet": [
           {
            "aaxis": {
             "endlinecolor": "#2a3f5f",
             "gridcolor": "#C8D4E3",
             "linecolor": "#C8D4E3",
             "minorgridcolor": "#C8D4E3",
             "startlinecolor": "#2a3f5f"
            },
            "baxis": {
             "endlinecolor": "#2a3f5f",
             "gridcolor": "#C8D4E3",
             "linecolor": "#C8D4E3",
             "minorgridcolor": "#C8D4E3",
             "startlinecolor": "#2a3f5f"
            },
            "type": "carpet"
           }
          ],
          "choropleth": [
           {
            "colorbar": {
             "outlinewidth": 0,
             "ticks": ""
            },
            "type": "choropleth"
           }
          ],
          "contour": [
           {
            "colorbar": {
             "outlinewidth": 0,
             "ticks": ""
            },
            "colorscale": [
             [
              0,
              "#0d0887"
             ],
             [
              0.1111111111111111,
              "#46039f"
             ],
             [
              0.2222222222222222,
              "#7201a8"
             ],
             [
              0.3333333333333333,
              "#9c179e"
             ],
             [
              0.4444444444444444,
              "#bd3786"
             ],
             [
              0.5555555555555556,
              "#d8576b"
             ],
             [
              0.6666666666666666,
              "#ed7953"
             ],
             [
              0.7777777777777778,
              "#fb9f3a"
             ],
             [
              0.8888888888888888,
              "#fdca26"
             ],
             [
              1,
              "#f0f921"
             ]
            ],
            "type": "contour"
           }
          ],
          "contourcarpet": [
           {
            "colorbar": {
             "outlinewidth": 0,
             "ticks": ""
            },
            "type": "contourcarpet"
           }
          ],
          "heatmap": [
           {
            "colorbar": {
             "outlinewidth": 0,
             "ticks": ""
            },
            "colorscale": [
             [
              0,
              "#0d0887"
             ],
             [
              0.1111111111111111,
              "#46039f"
             ],
             [
              0.2222222222222222,
              "#7201a8"
             ],
             [
              0.3333333333333333,
              "#9c179e"
             ],
             [
              0.4444444444444444,
              "#bd3786"
             ],
             [
              0.5555555555555556,
              "#d8576b"
             ],
             [
              0.6666666666666666,
              "#ed7953"
             ],
             [
              0.7777777777777778,
              "#fb9f3a"
             ],
             [
              0.8888888888888888,
              "#fdca26"
             ],
             [
              1,
              "#f0f921"
             ]
            ],
            "type": "heatmap"
           }
          ],
          "histogram": [
           {
            "marker": {
             "pattern": {
              "fillmode": "overlay",
              "size": 10,
              "solidity": 0.2
             }
            },
            "type": "histogram"
           }
          ],
          "histogram2d": [
           {
            "colorbar": {
             "outlinewidth": 0,
             "ticks": ""
            },
            "colorscale": [
             [
              0,
              "#0d0887"
             ],
             [
              0.1111111111111111,
              "#46039f"
             ],
             [
              0.2222222222222222,
              "#7201a8"
             ],
             [
              0.3333333333333333,
              "#9c179e"
             ],
             [
              0.4444444444444444,
              "#bd3786"
             ],
             [
              0.5555555555555556,
              "#d8576b"
             ],
             [
              0.6666666666666666,
              "#ed7953"
             ],
             [
              0.7777777777777778,
              "#fb9f3a"
             ],
             [
              0.8888888888888888,
              "#fdca26"
             ],
             [
              1,
              "#f0f921"
             ]
            ],
            "type": "histogram2d"
           }
          ],
          "histogram2dcontour": [
           {
            "colorbar": {
             "outlinewidth": 0,
             "ticks": ""
            },
            "colorscale": [
             [
              0,
              "#0d0887"
             ],
             [
              0.1111111111111111,
              "#46039f"
             ],
             [
              0.2222222222222222,
              "#7201a8"
             ],
             [
              0.3333333333333333,
              "#9c179e"
             ],
             [
              0.4444444444444444,
              "#bd3786"
             ],
             [
              0.5555555555555556,
              "#d8576b"
             ],
             [
              0.6666666666666666,
              "#ed7953"
             ],
             [
              0.7777777777777778,
              "#fb9f3a"
             ],
             [
              0.8888888888888888,
              "#fdca26"
             ],
             [
              1,
              "#f0f921"
             ]
            ],
            "type": "histogram2dcontour"
           }
          ],
          "mesh3d": [
           {
            "colorbar": {
             "outlinewidth": 0,
             "ticks": ""
            },
            "type": "mesh3d"
           }
          ],
          "parcoords": [
           {
            "line": {
             "colorbar": {
              "outlinewidth": 0,
              "ticks": ""
             }
            },
            "type": "parcoords"
           }
          ],
          "pie": [
           {
            "automargin": true,
            "type": "pie"
           }
          ],
          "scatter": [
           {
            "fillpattern": {
             "fillmode": "overlay",
             "size": 10,
             "solidity": 0.2
            },
            "type": "scatter"
           }
          ],
          "scatter3d": [
           {
            "line": {
             "colorbar": {
              "outlinewidth": 0,
              "ticks": ""
             }
            },
            "marker": {
             "colorbar": {
              "outlinewidth": 0,
              "ticks": ""
             }
            },
            "type": "scatter3d"
           }
          ],
          "scattercarpet": [
           {
            "marker": {
             "colorbar": {
              "outlinewidth": 0,
              "ticks": ""
             }
            },
            "type": "scattercarpet"
           }
          ],
          "scattergeo": [
           {
            "marker": {
             "colorbar": {
              "outlinewidth": 0,
              "ticks": ""
             }
            },
            "type": "scattergeo"
           }
          ],
          "scattergl": [
           {
            "marker": {
             "colorbar": {
              "outlinewidth": 0,
              "ticks": ""
             }
            },
            "type": "scattergl"
           }
          ],
          "scattermap": [
           {
            "marker": {
             "colorbar": {
              "outlinewidth": 0,
              "ticks": ""
             }
            },
            "type": "scattermap"
           }
          ],
          "scattermapbox": [
           {
            "marker": {
             "colorbar": {
              "outlinewidth": 0,
              "ticks": ""
             }
            },
            "type": "scattermapbox"
           }
          ],
          "scatterpolar": [
           {
            "marker": {
             "colorbar": {
              "outlinewidth": 0,
              "ticks": ""
             }
            },
            "type": "scatterpolar"
           }
          ],
          "scatterpolargl": [
           {
            "marker": {
             "colorbar": {
              "outlinewidth": 0,
              "ticks": ""
             }
            },
            "type": "scatterpolargl"
           }
          ],
          "scatterternary": [
           {
            "marker": {
             "colorbar": {
              "outlinewidth": 0,
              "ticks": ""
             }
            },
            "type": "scatterternary"
           }
          ],
          "surface": [
           {
            "colorbar": {
             "outlinewidth": 0,
             "ticks": ""
            },
            "colorscale": [
             [
              0,
              "#0d0887"
             ],
             [
              0.1111111111111111,
              "#46039f"
             ],
             [
              0.2222222222222222,
              "#7201a8"
             ],
             [
              0.3333333333333333,
              "#9c179e"
             ],
             [
              0.4444444444444444,
              "#bd3786"
             ],
             [
              0.5555555555555556,
              "#d8576b"
             ],
             [
              0.6666666666666666,
              "#ed7953"
             ],
             [
              0.7777777777777778,
              "#fb9f3a"
             ],
             [
              0.8888888888888888,
              "#fdca26"
             ],
             [
              1,
              "#f0f921"
             ]
            ],
            "type": "surface"
           }
          ],
          "table": [
           {
            "cells": {
             "fill": {
              "color": "#EBF0F8"
             },
             "line": {
              "color": "white"
             }
            },
            "header": {
             "fill": {
              "color": "#C8D4E3"
             },
             "line": {
              "color": "white"
             }
            },
            "type": "table"
           }
          ]
         },
         "layout": {
          "annotationdefaults": {
           "arrowcolor": "#2a3f5f",
           "arrowhead": 0,
           "arrowwidth": 1
          },
          "autotypenumbers": "strict",
          "coloraxis": {
           "colorbar": {
            "outlinewidth": 0,
            "ticks": ""
           }
          },
          "colorscale": {
           "diverging": [
            [
             0,
             "#8e0152"
            ],
            [
             0.1,
             "#c51b7d"
            ],
            [
             0.2,
             "#de77ae"
            ],
            [
             0.3,
             "#f1b6da"
            ],
            [
             0.4,
             "#fde0ef"
            ],
            [
             0.5,
             "#f7f7f7"
            ],
            [
             0.6,
             "#e6f5d0"
            ],
            [
             0.7,
             "#b8e186"
            ],
            [
             0.8,
             "#7fbc41"
            ],
            [
             0.9,
             "#4d9221"
            ],
            [
             1,
             "#276419"
            ]
           ],
           "sequential": [
            [
             0,
             "#0d0887"
            ],
            [
             0.1111111111111111,
             "#46039f"
            ],
            [
             0.2222222222222222,
             "#7201a8"
            ],
            [
             0.3333333333333333,
             "#9c179e"
            ],
            [
             0.4444444444444444,
             "#bd3786"
            ],
            [
             0.5555555555555556,
             "#d8576b"
            ],
            [
             0.6666666666666666,
             "#ed7953"
            ],
            [
             0.7777777777777778,
             "#fb9f3a"
            ],
            [
             0.8888888888888888,
             "#fdca26"
            ],
            [
             1,
             "#f0f921"
            ]
           ],
           "sequentialminus": [
            [
             0,
             "#0d0887"
            ],
            [
             0.1111111111111111,
             "#46039f"
            ],
            [
             0.2222222222222222,
             "#7201a8"
            ],
            [
             0.3333333333333333,
             "#9c179e"
            ],
            [
             0.4444444444444444,
             "#bd3786"
            ],
            [
             0.5555555555555556,
             "#d8576b"
            ],
            [
             0.6666666666666666,
             "#ed7953"
            ],
            [
             0.7777777777777778,
             "#fb9f3a"
            ],
            [
             0.8888888888888888,
             "#fdca26"
            ],
            [
             1,
             "#f0f921"
            ]
           ]
          },
          "colorway": [
           "#636efa",
           "#EF553B",
           "#00cc96",
           "#ab63fa",
           "#FFA15A",
           "#19d3f3",
           "#FF6692",
           "#B6E880",
           "#FF97FF",
           "#FECB52"
          ],
          "font": {
           "color": "#2a3f5f"
          },
          "geo": {
           "bgcolor": "white",
           "lakecolor": "white",
           "landcolor": "white",
           "showlakes": true,
           "showland": true,
           "subunitcolor": "#C8D4E3"
          },
          "hoverlabel": {
           "align": "left"
          },
          "hovermode": "closest",
          "mapbox": {
           "style": "light"
          },
          "paper_bgcolor": "white",
          "plot_bgcolor": "white",
          "polar": {
           "angularaxis": {
            "gridcolor": "#EBF0F8",
            "linecolor": "#EBF0F8",
            "ticks": ""
           },
           "bgcolor": "white",
           "radialaxis": {
            "gridcolor": "#EBF0F8",
            "linecolor": "#EBF0F8",
            "ticks": ""
           }
          },
          "scene": {
           "xaxis": {
            "backgroundcolor": "white",
            "gridcolor": "#DFE8F3",
            "gridwidth": 2,
            "linecolor": "#EBF0F8",
            "showbackground": true,
            "ticks": "",
            "zerolinecolor": "#EBF0F8"
           },
           "yaxis": {
            "backgroundcolor": "white",
            "gridcolor": "#DFE8F3",
            "gridwidth": 2,
            "linecolor": "#EBF0F8",
            "showbackground": true,
            "ticks": "",
            "zerolinecolor": "#EBF0F8"
           },
           "zaxis": {
            "backgroundcolor": "white",
            "gridcolor": "#DFE8F3",
            "gridwidth": 2,
            "linecolor": "#EBF0F8",
            "showbackground": true,
            "ticks": "",
            "zerolinecolor": "#EBF0F8"
           }
          },
          "shapedefaults": {
           "line": {
            "color": "#2a3f5f"
           }
          },
          "ternary": {
           "aaxis": {
            "gridcolor": "#DFE8F3",
            "linecolor": "#A2B1C6",
            "ticks": ""
           },
           "baxis": {
            "gridcolor": "#DFE8F3",
            "linecolor": "#A2B1C6",
            "ticks": ""
           },
           "bgcolor": "white",
           "caxis": {
            "gridcolor": "#DFE8F3",
            "linecolor": "#A2B1C6",
            "ticks": ""
           }
          },
          "title": {
           "x": 0.05
          },
          "xaxis": {
           "automargin": true,
           "gridcolor": "#EBF0F8",
           "linecolor": "#EBF0F8",
           "ticks": "",
           "title": {
            "standoff": 15
           },
           "zerolinecolor": "#EBF0F8",
           "zerolinewidth": 2
          },
          "yaxis": {
           "automargin": true,
           "gridcolor": "#EBF0F8",
           "linecolor": "#EBF0F8",
           "ticks": "",
           "title": {
            "standoff": 15
           },
           "zerolinecolor": "#EBF0F8",
           "zerolinewidth": 2
          }
         }
        },
        "title": {
         "text": "sustavianfeed dataset"
        },
        "width": 25000,
        "xaxis": {
         "tickangle": -45,
         "title": {
          "text": ""
         }
        },
        "yaxis": {
         "range": [
          0,
          null
         ],
         "title": {
          "text": "Test RMSE"
         }
        }
       }
      }
     },
     "metadata": {},
     "output_type": "display_data"
    }
   ],
   "source": [
    "rmse_by_config = defaultdict(list)\n",
    "\n",
    "for split in results:\n",
    "    rmse_train = []\n",
    "    rmse_test = []\n",
    "    \n",
    "    for result in split:\n",
    "        key = ''\n",
    "        for k, v in result['dynamic_params'].items():\n",
    "            key += k+': '+str(v)+' <br /> '\n",
    "        rmse_by_config[key].append(result['rmse_test'])\n",
    "\n",
    "fig = go.Figure()\n",
    "for config, rmse_values in rmse_by_config.items():\n",
    "    fig.add_trace(go.Box(\n",
    "        y=rmse_values,\n",
    "        boxpoints='all',\n",
    "        jitter=0.5,\n",
    "        pointpos=0,\n",
    "        line=dict(color='orange'),\n",
    "        name=config\n",
    "    ))\n",
    "\n",
    "fig.update_layout(\n",
    "    title= solver_params['dataset_name'] +' dataset',\n",
    "    xaxis_title='',\n",
    "    yaxis_title='Test RMSE',\n",
    "    height=500, width=25000,\n",
    "    xaxis_tickangle=-45,\n",
    "    yaxis_range=[0,None],\n",
    "    margin=dict(l=50, r=50, t=50, b=20),\n",
    "    showlegend=False,\n",
    "    template='plotly_white'\n",
    ")\n",
    "\n",
    "fig.show()"
   ]
  },
  {
   "cell_type": "markdown",
   "metadata": {},
   "source": [
    "### Program Size"
   ]
  },
  {
   "cell_type": "code",
   "execution_count": null,
   "metadata": {},
   "outputs": [
    {
     "data": {
      "application/vnd.plotly.v1+json": {
       "config": {
        "plotlyServerURL": "https://plot.ly"
       },
       "data": [
        {
         "line": {
          "color": "blue"
         },
         "mode": "lines",
         "name": "Size",
         "type": "scatter",
         "x": {
          "bdata": "AAECAwQFBgcICQoLDA0ODxAREhMUFRYXGBkaGxwdHh8gISIjJCUmJygpKissLS4vMDEyMzQ1Njc4OTo7PD0+P0BBQkNERUZHSElKS0xNTk9QUVJTVFVWV1hZWltcXV5fYGFiY2Q=",
          "dtype": "i1"
         },
         "y": {
          "bdata": "MoOXV5Vk5D/G0qVFUQHoP+O8ugJET+4/ZCYkoQ+X8T9nhyt3qVr0P4OIpxs6kPY/5mFKB0Fp+T+OatJShc37P/2gnmnC5/4//7zyJt5PAUDO08q48cUCQDG2J7ppXgRA3POYzUtwBkBogz+iuAgIQIrzj/EvCQlAW6/gD1YbC0DI5qwKHfwLQDij11aLwQ5AsgIYOjxQEEAv2B8teh0RQN0rK9eV+hFAl1B6MesLE0DNoQ2tJhYUQGqST682NhVAhuJ8DpqHFkAQbIdEi4EXQGsYigJfZBhAe+ydJH70GUAmPtVHr2EbQKoOBKaD4BtAaA225jCqHEDL/bSBQ8cdQP2rkIq8qR5AFx87vVzUH0AlwcckwX4gQDotcLfEGCFA7NfPYJ65IUAuLNBHnDIiQEqd0jwHwSJAdADf6RJYI0Dj3sikFcYjQIkXR8ZHOyRAq2+0D26tJEDP34oBoxQlQL7U8I9mcyVAH3mx1Yb6JUCuoKo0QG0mQK/xjwdk+yZAuWuwO8FnJ0Ci6i4n4eQnQCDocifaYyhAnm8NyQriKECtBAOJGkQpQBn5B+LGpSlADatf68EgKkAjF4uBXKQqQABXRQLFLCtAQIB044KXK0CDPCOrUiIsQH1b2eVVpCxAugsrXWcaLUDOUmsoJX0tQJqiYjVc5y1A3TIlJFpgLkAL9KNYHNcuQMqOIIjmTS9A7rGIT9LDL0Cd42fi3R4wQI9xUhHeWjBA+xlSsa6dMEB0VCs2XMkwQN7rjBtkBzFAfvxjGMBPMUBuPMcQ+4sxQPfPi52qyDFAxFh72zUEMkDgjW9fpDwyQFdzz7RffTJAsy/APjm0MkA7dyY9w+4yQATQJCQyKzNAB3oXIdJnM0CxKp3e+Z4zQILqVRJM4jNAVLrDo4EiNEA+TQRAN1g0QLIB/7SjlzRAwYpd/GLKNEBXh9hXNQQ1QNLL3ZsXOjVAzlLKaxl2NUDNPR7J0rQ1QEZUBSDE7jVANtCXlYcwNkD5d34GaWo2QJM6tVe6pjZA5lt/5d/hNkDW+w9R0hU3QJJT3nQqXzdA9Ll+TVmZN0CK0P4NZNU3QA==",
          "dtype": "f8"
         }
        },
        {
         "line": {
          "width": 0
         },
         "mode": "lines",
         "showlegend": false,
         "type": "scatter",
         "x": {
          "bdata": "AAECAwQFBgcICQoLDA0ODxAREhMUFRYXGBkaGxwdHh8gISIjJCUmJygpKissLS4vMDEyMzQ1Njc4OTo7PD0+P0BBQkNERUZHSElKS0xNTk9QUVJTVFVWV1hZWltcXV5fYGFiY2Q=",
          "dtype": "i1"
         },
         "y": {
          "bdata": "/Yz/ONal5j/jYbShLgrwPzodxWm6SPY/AHn8L8hK+j/BDUmIDsz+P2D72vC6HQFAiu2biGd0A0BwWRQ4QBgFQNZPvJUdTAdABoPXy7SwCUDApUdf06cLQDLIzJLJqg1ARPJQkYwjEEBks4zPICsRQORqCEkb3hFA06d/IfgKE0ATW29l7bATQDztl8HjGRVAvzN61c9jFkCv2H07GFIXQPSAfPrxWxhAWf8hTe5jGUBUDviA6HwaQDKBexPFvBtANm2ga7wNHUDjT8oBQhYeQFlOoP12/h5A3BlfGOPeH0Bevb7GtHIgQAIS4kya2SBAdMCTRCtlIUD/EpGHeuIhQOSnjQMdPiJAALYLBybNIkBfph8eByYjQOS14PD9hiNABtFyHyT9I0BtZLEJbmgkQN9Pwtd0tiRAEuMlHUkrJUDke9P9uoclQDCQ7DnjAyZAWRtV1FJ1JkCzJK7DXP8mQIMzh+6BYidAR94RBJz3J0DP3PpZP2ooQDzS8MRoAilALUxyoc9uKUDdkNEofu8pQKIy9hUNdCpAgnEosy0RK0BIoSYCYWsrQMmvsGF92itA3aNEtRVbLEAr++0OAewsQDp4lwzveS1AwT+T3VzbLUBtgZl/PlouQJxUzWEM5i5APAE++aOBL0DnY5QPXPgvQIIumaVZLjBA0Y5ix7FwMEAL/p48UKwwQJ3/FBSK7DBA5kQfGuckMUA7hOIg62AxQKvqxnbXpDFAxr28SknkMUA5LRVsexwyQDawJiY6XTJA8AVUrTaqMkABsIjwdfIyQCGYi0BNNTNAAxrjzXd0M0CL0Pe4b6wzQIAEJsPw8jNA3HlBOZkkNECryXfBT2k0QDuO+L0OrDRAoYO6BZ3tNEAattQWfyo1QMAT3pFUZDVAngRTZ26pNUA6DX2pDOI1QMe4z6eKJDZATVnbuYJkNkDuvWoUtKI2QEhK1VbJ3DZAgkhg5K4XN0CjjnaN+ls3QGzh5DkhmDdAyBXr7zrXN0DGWZEorx04QLvB1uUZZThAiL/LcPurOECpJtpq4Ns4QKlHequAJjlAinnQqB5eOUDR/tWrGJw5QA==",
          "dtype": "f8"
         }
        },
        {
         "fill": "tonexty",
         "fillcolor": "rgba(0,0,255,0.1)",
         "line": {
          "width": 0
         },
         "mode": "lines",
         "showlegend": false,
         "type": "scatter",
         "x": {
          "bdata": "AAECAwQFBgcICQoLDA0ODxAREhMUFRYXGBkaGxwdHh8gISIjJCUmJygpKissLS4vMDEyMzQ1Njc4OTo7PD0+P0BBQkNERUZHSElKS0xNTk9QUVJTVFVWV1hZWltcXV5fYGFiY2Q=",
          "dtype": "i1"
         },
         "y": {
          "bdata": "Z3kvdlQj4j+Nw8WPitzfP1I/6zETDeA/j6eXJK7G4T8aAhzMiNLjP4w0Mqv8yeU/b9G5+mXT5z95RPhqFNXqP5tEiU+Tbu4/8O0bBA/e8T+5A5wkIMjzP19IBcMTJPY/XgYg8fwy+T8OQMtKX3b7P5YiHqJSrPw/EA/C3LsgAEBqF3tKX5YAQPhrfypPTwNASqNrPVF5BEBer4M9uNEFQIyts2dzMgdAqkOlK9BnCUCMakayyV4LQERHR5ZQXw1A1ldZsXcBEEA9iESH1OwQQH3icwdHyhFAGr/cMBkKFECRAS0C9d0VQFD5Q7LSDRZA6JlERAuKFkCY1Uf0kckXQDEIBg4/1xhALdJebG0OGkDXt99W9q4bQCBJ//sWVR1Apb1ZRDHsHkDe590LlfkfQLXq4qGZyyBA1h2YttyEIUDiQb5LcAQiQOKeoVKsciJA/cMTS4nlIkDrmmc/6SkjQPl1WjFLhCNA9xNRp3H9I0CNZFoPQXAkQCIRL0pf9CRARYvu1bJgJUBnRIwlRNolQJ6d7zinUyZAum3y3ueyJkASaN8P1BwnQGlCX2IQcSdAPbJ6IW7mJ0AbMyj0t1woQMY18/ea3yhAv8BV6ahTKUCZ96zWZuopQF5i5WmfYipAOBYYwSqzKkC1QUJB7gErQDDokh8FcitAF0iFuVDfK0D/6wk4mFUsQFseF+i4wixAENrSatY9LUD9hdpHobktQObwu1fJIS5AYOzOLyiuLkBe94IAeuwuQAxP5iEcYy9AGebnBpPqL0DbyAUxgCUwQM0HjPoHXDBAhZcT6fOTMEA1S+cF2cwwQC7ieKbOBzFAiuU+RNlDMUDLJNW4NnQxQM0RUYpVqjFAbXB0PAfiMUBIn2WmdBMyQETBzZJDYDJACnA04JSbMkBCjYvWYc4yQJ1KLsK8CjNANbzfPkMwM0DAUEabtmUzQFxN5uBllzNAGl0084PUM0D37MUEqw00QCDHJQZnRTRApIpEO9SJNEAslmvkIrc0QGuzk8la6DRARPgyWsQXNUAD0UU3xE81QHtfQj7UlzVAXvos8pPUNUBDoidwrw42QA==",
          "dtype": "f8"
         }
        }
       ],
       "layout": {
        "height": 500,
        "legend": {
         "orientation": "h",
         "x": 0.5,
         "xanchor": "center",
         "y": -0.2
        },
        "template": {
         "data": {
          "bar": [
           {
            "error_x": {
             "color": "#2a3f5f"
            },
            "error_y": {
             "color": "#2a3f5f"
            },
            "marker": {
             "line": {
              "color": "#E5ECF6",
              "width": 0.5
             },
             "pattern": {
              "fillmode": "overlay",
              "size": 10,
              "solidity": 0.2
             }
            },
            "type": "bar"
           }
          ],
          "barpolar": [
           {
            "marker": {
             "line": {
              "color": "#E5ECF6",
              "width": 0.5
             },
             "pattern": {
              "fillmode": "overlay",
              "size": 10,
              "solidity": 0.2
             }
            },
            "type": "barpolar"
           }
          ],
          "carpet": [
           {
            "aaxis": {
             "endlinecolor": "#2a3f5f",
             "gridcolor": "white",
             "linecolor": "white",
             "minorgridcolor": "white",
             "startlinecolor": "#2a3f5f"
            },
            "baxis": {
             "endlinecolor": "#2a3f5f",
             "gridcolor": "white",
             "linecolor": "white",
             "minorgridcolor": "white",
             "startlinecolor": "#2a3f5f"
            },
            "type": "carpet"
           }
          ],
          "choropleth": [
           {
            "colorbar": {
             "outlinewidth": 0,
             "ticks": ""
            },
            "type": "choropleth"
           }
          ],
          "contour": [
           {
            "colorbar": {
             "outlinewidth": 0,
             "ticks": ""
            },
            "colorscale": [
             [
              0,
              "#0d0887"
             ],
             [
              0.1111111111111111,
              "#46039f"
             ],
             [
              0.2222222222222222,
              "#7201a8"
             ],
             [
              0.3333333333333333,
              "#9c179e"
             ],
             [
              0.4444444444444444,
              "#bd3786"
             ],
             [
              0.5555555555555556,
              "#d8576b"
             ],
             [
              0.6666666666666666,
              "#ed7953"
             ],
             [
              0.7777777777777778,
              "#fb9f3a"
             ],
             [
              0.8888888888888888,
              "#fdca26"
             ],
             [
              1,
              "#f0f921"
             ]
            ],
            "type": "contour"
           }
          ],
          "contourcarpet": [
           {
            "colorbar": {
             "outlinewidth": 0,
             "ticks": ""
            },
            "type": "contourcarpet"
           }
          ],
          "heatmap": [
           {
            "colorbar": {
             "outlinewidth": 0,
             "ticks": ""
            },
            "colorscale": [
             [
              0,
              "#0d0887"
             ],
             [
              0.1111111111111111,
              "#46039f"
             ],
             [
              0.2222222222222222,
              "#7201a8"
             ],
             [
              0.3333333333333333,
              "#9c179e"
             ],
             [
              0.4444444444444444,
              "#bd3786"
             ],
             [
              0.5555555555555556,
              "#d8576b"
             ],
             [
              0.6666666666666666,
              "#ed7953"
             ],
             [
              0.7777777777777778,
              "#fb9f3a"
             ],
             [
              0.8888888888888888,
              "#fdca26"
             ],
             [
              1,
              "#f0f921"
             ]
            ],
            "type": "heatmap"
           }
          ],
          "histogram": [
           {
            "marker": {
             "pattern": {
              "fillmode": "overlay",
              "size": 10,
              "solidity": 0.2
             }
            },
            "type": "histogram"
           }
          ],
          "histogram2d": [
           {
            "colorbar": {
             "outlinewidth": 0,
             "ticks": ""
            },
            "colorscale": [
             [
              0,
              "#0d0887"
             ],
             [
              0.1111111111111111,
              "#46039f"
             ],
             [
              0.2222222222222222,
              "#7201a8"
             ],
             [
              0.3333333333333333,
              "#9c179e"
             ],
             [
              0.4444444444444444,
              "#bd3786"
             ],
             [
              0.5555555555555556,
              "#d8576b"
             ],
             [
              0.6666666666666666,
              "#ed7953"
             ],
             [
              0.7777777777777778,
              "#fb9f3a"
             ],
             [
              0.8888888888888888,
              "#fdca26"
             ],
             [
              1,
              "#f0f921"
             ]
            ],
            "type": "histogram2d"
           }
          ],
          "histogram2dcontour": [
           {
            "colorbar": {
             "outlinewidth": 0,
             "ticks": ""
            },
            "colorscale": [
             [
              0,
              "#0d0887"
             ],
             [
              0.1111111111111111,
              "#46039f"
             ],
             [
              0.2222222222222222,
              "#7201a8"
             ],
             [
              0.3333333333333333,
              "#9c179e"
             ],
             [
              0.4444444444444444,
              "#bd3786"
             ],
             [
              0.5555555555555556,
              "#d8576b"
             ],
             [
              0.6666666666666666,
              "#ed7953"
             ],
             [
              0.7777777777777778,
              "#fb9f3a"
             ],
             [
              0.8888888888888888,
              "#fdca26"
             ],
             [
              1,
              "#f0f921"
             ]
            ],
            "type": "histogram2dcontour"
           }
          ],
          "mesh3d": [
           {
            "colorbar": {
             "outlinewidth": 0,
             "ticks": ""
            },
            "type": "mesh3d"
           }
          ],
          "parcoords": [
           {
            "line": {
             "colorbar": {
              "outlinewidth": 0,
              "ticks": ""
             }
            },
            "type": "parcoords"
           }
          ],
          "pie": [
           {
            "automargin": true,
            "type": "pie"
           }
          ],
          "scatter": [
           {
            "fillpattern": {
             "fillmode": "overlay",
             "size": 10,
             "solidity": 0.2
            },
            "type": "scatter"
           }
          ],
          "scatter3d": [
           {
            "line": {
             "colorbar": {
              "outlinewidth": 0,
              "ticks": ""
             }
            },
            "marker": {
             "colorbar": {
              "outlinewidth": 0,
              "ticks": ""
             }
            },
            "type": "scatter3d"
           }
          ],
          "scattercarpet": [
           {
            "marker": {
             "colorbar": {
              "outlinewidth": 0,
              "ticks": ""
             }
            },
            "type": "scattercarpet"
           }
          ],
          "scattergeo": [
           {
            "marker": {
             "colorbar": {
              "outlinewidth": 0,
              "ticks": ""
             }
            },
            "type": "scattergeo"
           }
          ],
          "scattergl": [
           {
            "marker": {
             "colorbar": {
              "outlinewidth": 0,
              "ticks": ""
             }
            },
            "type": "scattergl"
           }
          ],
          "scattermap": [
           {
            "marker": {
             "colorbar": {
              "outlinewidth": 0,
              "ticks": ""
             }
            },
            "type": "scattermap"
           }
          ],
          "scattermapbox": [
           {
            "marker": {
             "colorbar": {
              "outlinewidth": 0,
              "ticks": ""
             }
            },
            "type": "scattermapbox"
           }
          ],
          "scatterpolar": [
           {
            "marker": {
             "colorbar": {
              "outlinewidth": 0,
              "ticks": ""
             }
            },
            "type": "scatterpolar"
           }
          ],
          "scatterpolargl": [
           {
            "marker": {
             "colorbar": {
              "outlinewidth": 0,
              "ticks": ""
             }
            },
            "type": "scatterpolargl"
           }
          ],
          "scatterternary": [
           {
            "marker": {
             "colorbar": {
              "outlinewidth": 0,
              "ticks": ""
             }
            },
            "type": "scatterternary"
           }
          ],
          "surface": [
           {
            "colorbar": {
             "outlinewidth": 0,
             "ticks": ""
            },
            "colorscale": [
             [
              0,
              "#0d0887"
             ],
             [
              0.1111111111111111,
              "#46039f"
             ],
             [
              0.2222222222222222,
              "#7201a8"
             ],
             [
              0.3333333333333333,
              "#9c179e"
             ],
             [
              0.4444444444444444,
              "#bd3786"
             ],
             [
              0.5555555555555556,
              "#d8576b"
             ],
             [
              0.6666666666666666,
              "#ed7953"
             ],
             [
              0.7777777777777778,
              "#fb9f3a"
             ],
             [
              0.8888888888888888,
              "#fdca26"
             ],
             [
              1,
              "#f0f921"
             ]
            ],
            "type": "surface"
           }
          ],
          "table": [
           {
            "cells": {
             "fill": {
              "color": "#EBF0F8"
             },
             "line": {
              "color": "white"
             }
            },
            "header": {
             "fill": {
              "color": "#C8D4E3"
             },
             "line": {
              "color": "white"
             }
            },
            "type": "table"
           }
          ]
         },
         "layout": {
          "annotationdefaults": {
           "arrowcolor": "#2a3f5f",
           "arrowhead": 0,
           "arrowwidth": 1
          },
          "autotypenumbers": "strict",
          "coloraxis": {
           "colorbar": {
            "outlinewidth": 0,
            "ticks": ""
           }
          },
          "colorscale": {
           "diverging": [
            [
             0,
             "#8e0152"
            ],
            [
             0.1,
             "#c51b7d"
            ],
            [
             0.2,
             "#de77ae"
            ],
            [
             0.3,
             "#f1b6da"
            ],
            [
             0.4,
             "#fde0ef"
            ],
            [
             0.5,
             "#f7f7f7"
            ],
            [
             0.6,
             "#e6f5d0"
            ],
            [
             0.7,
             "#b8e186"
            ],
            [
             0.8,
             "#7fbc41"
            ],
            [
             0.9,
             "#4d9221"
            ],
            [
             1,
             "#276419"
            ]
           ],
           "sequential": [
            [
             0,
             "#0d0887"
            ],
            [
             0.1111111111111111,
             "#46039f"
            ],
            [
             0.2222222222222222,
             "#7201a8"
            ],
            [
             0.3333333333333333,
             "#9c179e"
            ],
            [
             0.4444444444444444,
             "#bd3786"
            ],
            [
             0.5555555555555556,
             "#d8576b"
            ],
            [
             0.6666666666666666,
             "#ed7953"
            ],
            [
             0.7777777777777778,
             "#fb9f3a"
            ],
            [
             0.8888888888888888,
             "#fdca26"
            ],
            [
             1,
             "#f0f921"
            ]
           ],
           "sequentialminus": [
            [
             0,
             "#0d0887"
            ],
            [
             0.1111111111111111,
             "#46039f"
            ],
            [
             0.2222222222222222,
             "#7201a8"
            ],
            [
             0.3333333333333333,
             "#9c179e"
            ],
            [
             0.4444444444444444,
             "#bd3786"
            ],
            [
             0.5555555555555556,
             "#d8576b"
            ],
            [
             0.6666666666666666,
             "#ed7953"
            ],
            [
             0.7777777777777778,
             "#fb9f3a"
            ],
            [
             0.8888888888888888,
             "#fdca26"
            ],
            [
             1,
             "#f0f921"
            ]
           ]
          },
          "colorway": [
           "#636efa",
           "#EF553B",
           "#00cc96",
           "#ab63fa",
           "#FFA15A",
           "#19d3f3",
           "#FF6692",
           "#B6E880",
           "#FF97FF",
           "#FECB52"
          ],
          "font": {
           "color": "#2a3f5f"
          },
          "geo": {
           "bgcolor": "white",
           "lakecolor": "white",
           "landcolor": "#E5ECF6",
           "showlakes": true,
           "showland": true,
           "subunitcolor": "white"
          },
          "hoverlabel": {
           "align": "left"
          },
          "hovermode": "closest",
          "mapbox": {
           "style": "light"
          },
          "paper_bgcolor": "white",
          "plot_bgcolor": "#E5ECF6",
          "polar": {
           "angularaxis": {
            "gridcolor": "white",
            "linecolor": "white",
            "ticks": ""
           },
           "bgcolor": "#E5ECF6",
           "radialaxis": {
            "gridcolor": "white",
            "linecolor": "white",
            "ticks": ""
           }
          },
          "scene": {
           "xaxis": {
            "backgroundcolor": "#E5ECF6",
            "gridcolor": "white",
            "gridwidth": 2,
            "linecolor": "white",
            "showbackground": true,
            "ticks": "",
            "zerolinecolor": "white"
           },
           "yaxis": {
            "backgroundcolor": "#E5ECF6",
            "gridcolor": "white",
            "gridwidth": 2,
            "linecolor": "white",
            "showbackground": true,
            "ticks": "",
            "zerolinecolor": "white"
           },
           "zaxis": {
            "backgroundcolor": "#E5ECF6",
            "gridcolor": "white",
            "gridwidth": 2,
            "linecolor": "white",
            "showbackground": true,
            "ticks": "",
            "zerolinecolor": "white"
           }
          },
          "shapedefaults": {
           "line": {
            "color": "#2a3f5f"
           }
          },
          "ternary": {
           "aaxis": {
            "gridcolor": "white",
            "linecolor": "white",
            "ticks": ""
           },
           "baxis": {
            "gridcolor": "white",
            "linecolor": "white",
            "ticks": ""
           },
           "bgcolor": "#E5ECF6",
           "caxis": {
            "gridcolor": "white",
            "linecolor": "white",
            "ticks": ""
           }
          },
          "title": {
           "x": 0.05
          },
          "xaxis": {
           "automargin": true,
           "gridcolor": "white",
           "linecolor": "white",
           "ticks": "",
           "title": {
            "standoff": 15
           },
           "zerolinecolor": "white",
           "zerolinewidth": 2
          },
          "yaxis": {
           "automargin": true,
           "gridcolor": "white",
           "linecolor": "white",
           "ticks": "",
           "title": {
            "standoff": 15
           },
           "zerolinecolor": "white",
           "zerolinewidth": 2
          }
         }
        },
        "title": {
         "text": "GSGP - Train vs Test Fitness ('sustavianfeed' dataset)"
        },
        "width": 800,
        "xaxis": {
         "title": {
          "text": "Generation"
         }
        },
        "yaxis": {
         "range": [
          0,
          null
         ],
         "title": {
          "text": "Log Program Size"
         }
        }
       }
      }
     },
     "metadata": {},
     "output_type": "display_data"
    }
   ],
   "source": [
    "plotter.make_evolution_plot(\n",
    "    df_log,  \n",
    "    plot_title = f\"GSGP - Train vs Test Fitness ('{dataset_name}' dataset)\", \n",
    "    logarithmic=True,\n",
    "    var='size'\n",
    ")"
   ]
  },
  {
   "cell_type": "markdown",
   "metadata": {},
   "source": [
    "### Discussion\n",
    "\n",
    "Our GSGP model is characterized by two defining traits, which are, extreme bloat of the solutions and better results than our previous GP model implementation.  \n",
    "\n",
    "Regarding **bloat**, as is shown in plot above - where we have to resort to a logarithmic scale to even plot the number solution size- solution size grew at an exponential rate, as was to be expected from the GSGP algorithm. We believe this stems from a few key reasons which are:\n",
    "\n",
    "- longer individuals are more stable under crossover, and the lack of any deflationary measures.\n",
    "- because offspring are created through geometric semantic operators that combine parent solutions without controlling their size which leads to the exponential growth in solution complexity. \n",
    "- and since fitness gains often come from small semantic changes, larger individuals tend to accumulate redundant or unnecessary parts. \n",
    "\n",
    "Given then absence of any pruning or pressure to keep solutions simple, these were allowed to growth unchecked. Making the very best solutions this algorithm generated absolutely uninterpretable and computationally inefficiency.\n",
    "\n",
    "As for the results themselves, the very best solutions consitently achieved a fitness well below the minimum for the GP solutions, both dominating them in that regard, and serving as evidence for our claims in that other notebook regarding premature convergence of solutions in local minima.\n",
    "\n",
    "Lastly, **overfitting** was mostly absent, which we surmize is mostly due to the smoothness and overall niceness of the data, which being mostly normal allows for smooth travelling over the loss landscape, as well as, the quality of the parametrization of the models.  "
   ]
  }
 ],
 "metadata": {
  "kernelspec": {
   "display_name": "nel",
   "language": "python",
   "name": "python3"
  },
  "language_info": {
   "codemirror_mode": {
    "name": "ipython",
    "version": 3
   },
   "file_extension": ".py",
   "mimetype": "text/x-python",
   "name": "python",
   "nbconvert_exporter": "python",
   "pygments_lexer": "ipython3",
   "version": "3.12.7"
  }
 },
 "nbformat": 4,
 "nbformat_minor": 4
}
