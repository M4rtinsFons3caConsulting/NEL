{
 "cells": [
  {
   "cell_type": "markdown",
   "metadata": {},
   "source": [
    "# Partial Delivery III – Genetic Programming (SLIM)\n",
    "\n",
    "In this notebook, we address the problem of predicting **crude protein** weight using the other variables in the dataset `sustavianfeed.xlsx`. This is achieved through **Semantic Learning with Inflate Deflate Mutation** (SLIM) using symbolic regression to evolve a mathematical expression that approximates the target variable, while minimizing solution expression bloat.\n",
    "\n",
    "The notebook is organized into the following sections:\n",
    "\n",
    "- [1. Imports and Configurations](#1-imports-and-configurations)  \n",
    "- [2. Data Wrangling](#2-data-wrangling)  \n",
    "- [3. Initialization](#3-initialization)  \n",
    "- [4. Hyperparameter Tuning](#4-hyperparameter-tuning)\n",
    "- [5. Model Assessment](#5-model-assessment)\n",
    "- [6. Discussion](#6-discussion)\n"
   ]
  },
  {
   "cell_type": "markdown",
   "metadata": {},
   "source": [
    "## 1. Imports and Configurations\n",
    "- Imports the necessary libraries.\n",
    "- Validates and loads configuration `.json` file."
   ]
  },
  {
   "cell_type": "markdown",
   "metadata": {},
   "source": [
    "### Imports\n",
    "\n",
    "Below the list of imports used for this notebook."
   ]
  },
  {
   "cell_type": "code",
   "execution_count": 151,
   "metadata": {},
   "outputs": [],
   "source": [
    "# Standard Library\n",
    "import os\n",
    "from collections import defaultdict\n",
    "\n",
    "# Data-handling\n",
    "import numpy as np\n",
    "import pandas as pd\n",
    "\n",
    "# Plotting\n",
    "import plotly.graph_objects as go\n",
    "\n",
    "# Validation\n",
    "from sklearn.model_selection import KFold\n",
    "\n",
    "# Tensors\n",
    "import torch\n",
    "\n",
    "# Optimizer\n",
    "from slim_gsgp.main_slim import slim\n",
    "\n",
    "# Local\n",
    "from nel_utils import json_parser, plotter, imputer, caller, selector\n"
   ]
  },
  {
   "cell_type": "markdown",
   "metadata": {},
   "source": [
    "### Configurations\n",
    "\n",
    "When possible, our pattern of choice is to load our configurations from a `.json` file. This ensures easy reproducibility across all notebooks that make use of configurations, as well as making versioning simpler.\n",
    "\n",
    "Our notebook requires **four types of input arguments**:\n",
    "\n",
    "- **System and visualization parameters:** Control the aesthetics of plots.  \n",
    "- **Solution Space parameters:** Define the problem being solved.  \n",
    "- **Solver parameters:** Specify optimization and algorithmic settings.  \n",
    "- **Model hyperparameters:** Configure model-specific options.\n",
    "- **Logger parameters:** Manages model and solver logging ouputs.  "
   ]
  },
  {
   "cell_type": "code",
   "execution_count": 152,
   "metadata": {},
   "outputs": [],
   "source": [
    "# Configuration File\n",
    "config_path = '../configs/slim_config.json'\n",
    "config = json_parser.load_config(\n",
    "    config_path,\n",
    "    algorithm_schema='slim'\n",
    ")"
   ]
  },
  {
   "cell_type": "code",
   "execution_count": 153,
   "metadata": {},
   "outputs": [],
   "source": [
    "# Assigning them out to their respective key entries\n",
    "sys_params = config.get('system_params')\n",
    "data_params = config.get('data_params')\n",
    "solver_params = config.get('solver_params')\n",
    "grid_params = config.get('grid_params')\n",
    "log_params = config.get('logging_params')"
   ]
  },
  {
   "cell_type": "code",
   "execution_count": 154,
   "metadata": {},
   "outputs": [],
   "source": [
    "# Ensuring logging\n",
    "\n",
    "if not os.path.exists(log_params['log_path']):\n",
    "    os.makedirs(log_params['log_path'])"
   ]
  },
  {
   "cell_type": "markdown",
   "metadata": {},
   "source": [
    "## 2. Data Wrangling\n",
    "\n",
    "We now ingest, and wrangle the data."
   ]
  },
  {
   "cell_type": "code",
   "execution_count": 155,
   "metadata": {},
   "outputs": [
    {
     "data": {
      "application/vnd.microsoft.datawrangler.viewer.v0+json": {
       "columns": [
        {
         "name": "WING TAG",
         "rawType": "object",
         "type": "string"
        },
        {
         "name": "WEIGHT",
         "rawType": "float64",
         "type": "float"
        },
        {
         "name": "HOT CARCASS WEIGHT",
         "rawType": "float64",
         "type": "float"
        },
        {
         "name": "CARCASS WEIGHT WITH HEAD AND LEGS",
         "rawType": "float64",
         "type": "float"
        },
        {
         "name": "COLD CARCASS WEIGHT",
         "rawType": "float64",
         "type": "float"
        },
        {
         "name": "BREAST WEIGHT (2)",
         "rawType": "float64",
         "type": "float"
        },
        {
         "name": "THIGH WEIGHT (2)",
         "rawType": "float64",
         "type": "float"
        },
        {
         "name": "SPLEEN",
         "rawType": "float64",
         "type": "float"
        },
        {
         "name": "LIVER",
         "rawType": "float64",
         "type": "float"
        },
        {
         "name": "HEART",
         "rawType": "float64",
         "type": "float"
        },
        {
         "name": "INTESTINE",
         "rawType": "float64",
         "type": "float"
        },
        {
         "name": "EMPTY MUSCULAR STOMACH",
         "rawType": "float64",
         "type": "float"
        },
        {
         "name": "GLANDULAR STOMACH",
         "rawType": "float64",
         "type": "float"
        },
        {
         "name": "CRUDE PROTEIN",
         "rawType": "float64",
         "type": "float"
        },
        {
         "name": "ETHER EXTRACT",
         "rawType": "float64",
         "type": "float"
        }
       ],
       "ref": "5cf2434b-8c51-4dcb-99d8-4031a68bd36f",
       "rows": [
        [
         "G403",
         "2223.3",
         "1429.6",
         "1725.6",
         "1394.0",
         "214.0",
         "489.4",
         "3.716",
         "38.636",
         "9.305",
         "123.171",
         null,
         "13.17",
         "86.10546875",
         "0.38"
        ],
        [
         "G439",
         "2201.9",
         "1450.2",
         "1769.8",
         "1405.4",
         "236.0",
         "538.7",
         "3.494",
         "34.725",
         "10.084",
         "71.8",
         "45.273",
         "9.781",
         "86.14347234814144",
         "1.66"
        ],
        [
         "G454",
         "2159.9",
         "1398.4",
         "1724.9",
         "1461.7",
         "241.8",
         "512.1",
         "4.023",
         "31.932",
         "10.635",
         "61.38",
         null,
         "6.217",
         "86.41689847009737",
         "0.98"
        ],
        [
         "G465",
         "2198.7",
         "1473.9",
         "1800.4",
         "1425.1",
         "227.7",
         "549.9",
         "3.087",
         "32.326",
         "11.927",
         "64.879",
         "35.861",
         "8.358",
         "85.95993515516443",
         "1.1"
        ],
        [
         "G428",
         "2003.2",
         "1291.2",
         "1581.6",
         "1260.1",
         "224.7",
         "473.2",
         "3.723",
         "30.105",
         "9.855",
         "68.562",
         "36.526",
         "7.572",
         "81.69363716424483",
         "6.34"
        ]
       ],
       "shape": {
        "columns": 14,
        "rows": 5
       }
      },
      "text/html": [
       "<div>\n",
       "<style scoped>\n",
       "    .dataframe tbody tr th:only-of-type {\n",
       "        vertical-align: middle;\n",
       "    }\n",
       "\n",
       "    .dataframe tbody tr th {\n",
       "        vertical-align: top;\n",
       "    }\n",
       "\n",
       "    .dataframe thead th {\n",
       "        text-align: right;\n",
       "    }\n",
       "</style>\n",
       "<table border=\"1\" class=\"dataframe\">\n",
       "  <thead>\n",
       "    <tr style=\"text-align: right;\">\n",
       "      <th></th>\n",
       "      <th>WEIGHT</th>\n",
       "      <th>HOT CARCASS WEIGHT</th>\n",
       "      <th>CARCASS WEIGHT WITH HEAD AND LEGS</th>\n",
       "      <th>COLD CARCASS WEIGHT</th>\n",
       "      <th>BREAST WEIGHT (2)</th>\n",
       "      <th>THIGH WEIGHT (2)</th>\n",
       "      <th>SPLEEN</th>\n",
       "      <th>LIVER</th>\n",
       "      <th>HEART</th>\n",
       "      <th>INTESTINE</th>\n",
       "      <th>EMPTY MUSCULAR STOMACH</th>\n",
       "      <th>GLANDULAR STOMACH</th>\n",
       "      <th>CRUDE PROTEIN</th>\n",
       "      <th>ETHER EXTRACT</th>\n",
       "    </tr>\n",
       "    <tr>\n",
       "      <th>WING TAG</th>\n",
       "      <th></th>\n",
       "      <th></th>\n",
       "      <th></th>\n",
       "      <th></th>\n",
       "      <th></th>\n",
       "      <th></th>\n",
       "      <th></th>\n",
       "      <th></th>\n",
       "      <th></th>\n",
       "      <th></th>\n",
       "      <th></th>\n",
       "      <th></th>\n",
       "      <th></th>\n",
       "      <th></th>\n",
       "    </tr>\n",
       "  </thead>\n",
       "  <tbody>\n",
       "    <tr>\n",
       "      <th>G403</th>\n",
       "      <td>2223.3</td>\n",
       "      <td>1429.6</td>\n",
       "      <td>1725.6</td>\n",
       "      <td>1394.0</td>\n",
       "      <td>214.0</td>\n",
       "      <td>489.4</td>\n",
       "      <td>3.716</td>\n",
       "      <td>38.636</td>\n",
       "      <td>9.305</td>\n",
       "      <td>123.171</td>\n",
       "      <td>NaN</td>\n",
       "      <td>13.170</td>\n",
       "      <td>86.105469</td>\n",
       "      <td>0.38</td>\n",
       "    </tr>\n",
       "    <tr>\n",
       "      <th>G439</th>\n",
       "      <td>2201.9</td>\n",
       "      <td>1450.2</td>\n",
       "      <td>1769.8</td>\n",
       "      <td>1405.4</td>\n",
       "      <td>236.0</td>\n",
       "      <td>538.7</td>\n",
       "      <td>3.494</td>\n",
       "      <td>34.725</td>\n",
       "      <td>10.084</td>\n",
       "      <td>71.800</td>\n",
       "      <td>45.273</td>\n",
       "      <td>9.781</td>\n",
       "      <td>86.143472</td>\n",
       "      <td>1.66</td>\n",
       "    </tr>\n",
       "    <tr>\n",
       "      <th>G454</th>\n",
       "      <td>2159.9</td>\n",
       "      <td>1398.4</td>\n",
       "      <td>1724.9</td>\n",
       "      <td>1461.7</td>\n",
       "      <td>241.8</td>\n",
       "      <td>512.1</td>\n",
       "      <td>4.023</td>\n",
       "      <td>31.932</td>\n",
       "      <td>10.635</td>\n",
       "      <td>61.380</td>\n",
       "      <td>NaN</td>\n",
       "      <td>6.217</td>\n",
       "      <td>86.416898</td>\n",
       "      <td>0.98</td>\n",
       "    </tr>\n",
       "    <tr>\n",
       "      <th>G465</th>\n",
       "      <td>2198.7</td>\n",
       "      <td>1473.9</td>\n",
       "      <td>1800.4</td>\n",
       "      <td>1425.1</td>\n",
       "      <td>227.7</td>\n",
       "      <td>549.9</td>\n",
       "      <td>3.087</td>\n",
       "      <td>32.326</td>\n",
       "      <td>11.927</td>\n",
       "      <td>64.879</td>\n",
       "      <td>35.861</td>\n",
       "      <td>8.358</td>\n",
       "      <td>85.959935</td>\n",
       "      <td>1.10</td>\n",
       "    </tr>\n",
       "    <tr>\n",
       "      <th>G428</th>\n",
       "      <td>2003.2</td>\n",
       "      <td>1291.2</td>\n",
       "      <td>1581.6</td>\n",
       "      <td>1260.1</td>\n",
       "      <td>224.7</td>\n",
       "      <td>473.2</td>\n",
       "      <td>3.723</td>\n",
       "      <td>30.105</td>\n",
       "      <td>9.855</td>\n",
       "      <td>68.562</td>\n",
       "      <td>36.526</td>\n",
       "      <td>7.572</td>\n",
       "      <td>81.693637</td>\n",
       "      <td>6.34</td>\n",
       "    </tr>\n",
       "  </tbody>\n",
       "</table>\n",
       "</div>"
      ],
      "text/plain": [
       "          WEIGHT  HOT CARCASS WEIGHT  CARCASS WEIGHT WITH HEAD AND LEGS  \\\n",
       "WING TAG                                                                  \n",
       "G403      2223.3              1429.6                             1725.6   \n",
       "G439      2201.9              1450.2                             1769.8   \n",
       "G454      2159.9              1398.4                             1724.9   \n",
       "G465      2198.7              1473.9                             1800.4   \n",
       "G428      2003.2              1291.2                             1581.6   \n",
       "\n",
       "          COLD CARCASS WEIGHT  BREAST WEIGHT (2)  THIGH WEIGHT (2)  SPLEEN  \\\n",
       "WING TAG                                                                     \n",
       "G403                   1394.0              214.0             489.4   3.716   \n",
       "G439                   1405.4              236.0             538.7   3.494   \n",
       "G454                   1461.7              241.8             512.1   4.023   \n",
       "G465                   1425.1              227.7             549.9   3.087   \n",
       "G428                   1260.1              224.7             473.2   3.723   \n",
       "\n",
       "           LIVER   HEART  INTESTINE  EMPTY MUSCULAR STOMACH  \\\n",
       "WING TAG                                                      \n",
       "G403      38.636   9.305    123.171                     NaN   \n",
       "G439      34.725  10.084     71.800                  45.273   \n",
       "G454      31.932  10.635     61.380                     NaN   \n",
       "G465      32.326  11.927     64.879                  35.861   \n",
       "G428      30.105   9.855     68.562                  36.526   \n",
       "\n",
       "          GLANDULAR STOMACH  CRUDE PROTEIN  ETHER EXTRACT  \n",
       "WING TAG                                                   \n",
       "G403                 13.170      86.105469           0.38  \n",
       "G439                  9.781      86.143472           1.66  \n",
       "G454                  6.217      86.416898           0.98  \n",
       "G465                  8.358      85.959935           1.10  \n",
       "G428                  7.572      81.693637           6.34  "
      ]
     },
     "execution_count": 155,
     "metadata": {},
     "output_type": "execute_result"
    }
   ],
   "source": [
    "csv_file = '../data/sustavianfeed.xlsx' \n",
    "df = pd.read_excel(csv_file, index_col='WING TAG', na_values=\"/\")\n",
    "df.head()"
   ]
  },
  {
   "cell_type": "markdown",
   "metadata": {},
   "source": [
    "And inspect the resulting distributions."
   ]
  },
  {
   "cell_type": "code",
   "execution_count": 156,
   "metadata": {},
   "outputs": [
    {
     "data": {
      "application/vnd.plotly.v1+json": {
       "config": {
        "plotlyServerURL": "https://plot.ly"
       },
       "data": [
        {
         "marker": {
          "color": "black"
         },
         "name": "WEIGHT",
         "opacity": 1,
         "showlegend": false,
         "type": "histogram",
         "x": {
          "bdata": "mpmZmZleoUDNzMzMzDOhQM3MzMzM36BAZmZmZmYtoUDNzMzMzEyfQDMzMzMzVaBAMzMzMzMfoEAzMzMzM5ehQM3MzMzMd6FAzczMzMzMoUAzMzMzM0qgQAAAAAAAFqBAAAAAAAC7oECamZmZmXSgQJqZmZmZwZ5AZmZmZmZKoUAzMzMzM3WhQJqZmZmZrKFAmpmZmZmMoEAzMzMzM+egQAAAAAAAAqFAZmZmZmZWokAzMzMzM2ShQM3MzMzMqaFAZmZmZmaJoEBmZmZmZgiiQGZmZmZmsKBAMzMzMzOMokAzMzMzM1qhQDMzMzMzvqFAAAAAAADCoEAzMzMzM7eiQJqZmZmZpqFAzczMzMxCokDNzMzMzLihQJqZmZmZDaJAzczMzMxtoUAzMzMzM9iiQM3MzMzMTKBAmpmZmZmBokAzMzMzM5+fQAAAAAAApKFAAAAAAAAmoUDNzMzMzDKhQGZmZmZmCKJAzczMzMwUokAzMzMzM7agQGZmZmZml6JAAAAAAADuoUAAAAAAAEKkQGZmZmZmPaFAMzMzMzNho0DNzMzMzGWhQGZmZmZm4aJAmpmZmZl8o0DNzMzMzBikQAAAAAAAG6RAAAAAAAA2pEBmZmZmZiqhQAAAAAAA5KJAmpmZmZn4oUDNzMzMzP+hQJqZmZmZVKRAzczMzMyvo0CamZmZmY2iQGZmZmZm9aFAZmZmZmZIoUAAAAAAALqkQGZmZmZm0p9AMzMzMzPNokDNzMzMzEajQGZmZmZmH6RAAAAAAAB4okAAAAAAALOjQAAAAAAAq6RAAAAAAACVpkCamZmZmcKgQJqZmZmZs6VAMzMzMzPnokCamZmZmXSiQAAAAAAAQ6VAzczMzMySpEAzMzMzM1ejQJqZmZmZEKZAZmZmZmaroUBmZmZmZlKjQGZmZmZmbqRAzczMzMw3o0AzMzMzM22hQDMzMzMzH6VAMzMzMzPho0AzMzMzM5KkQGZmZmZmVKJAZmZmZmawpEAzMzMzM62hQJqZmZmZIKVA",
          "dtype": "f8"
         },
         "xaxis": "x",
         "yaxis": "y"
        },
        {
         "marker": {
          "color": "black"
         },
         "name": "HOT CARCASS WEIGHT",
         "opacity": 1,
         "showlegend": false,
         "type": "histogram",
         "x": {
          "bdata": "ZmZmZmZWlkDNzMzMzKiWQJqZmZmZ2ZVAmpmZmZkHl0DNzMzMzCyUQM3MzMzMOpdAMzMzMzPVlEAzMzMzM1OWQAAAAAAAipZAMzMzMzOhlkAzMzMzMzeVQGZmZmZmWJVAAAAAAABqlEBmZmZmZrKUQAAAAAAA1pRAmpmZmZlFlkBmZmZmZiyWQAAAAAAANpdAMzMzMzP/lUAzMzMzM6mWQAAAAAAAApdAZmZmZmbGl0BmZmZmZtqWQGZmZmZm/pZAmpmZmZnblEBmZmZmZgKXQAAAAAAAqpZAmpmZmZlzmEDNzMzMzPKVQJqZmZmZmZdAMzMzMzNDlUAzMzMzM6OYQM3MzMzMJJdAZmZmZmbWlkDNzMzMzIqWQJqZmZmZdZdAZmZmZmZel0BmZmZmZqqXQJqZmZmZE5RAMzMzMzP3mEAzMzMzM++UQAAAAAAASpdAZmZmZmYslkCamZmZmW2WQDMzMzMze5hAZmZmZmbyl0DNzMzMzHiUQM3MzMzMzpdAMzMzMzNRmEBmZmZmZnSaQM3MzMzM1pVAAAAAAAB6mUDNzMzMzI6WQM3MzMzMlJhAMzMzMzOdmECamZmZmVuZQAAAAAAA2ppAAAAAAADamkBmZmZmZr6VQJqZmZmZkZhAZmZmZmbIlUCamZmZmcGWQAAAAAAA4ppAMzMzMzPPmUAAAAAAAGaYQGZmZmZmwJdAmpmZmZlzlUAzMzMzM0ObQGZmZmZmMJRAmpmZmZlHlkAzMzMzMx+ZQM3MzMzMmpxAAAAAAADql0DNzMzMzDiaQDMzMzMzhZlAmpmZmZklnkBmZmZmZsKVQDMzMzMzQ5xAzczMzMzgmECamZmZmXeXQJqZmZmZ05tAmpmZmZkrm0DNzMzMzOKZQDMzMzMzk51AAAAAAABelkDNzMzMzCiZQDMzMzMzQ5tAMzMzMzNhmEAzMzMzM5+WQM3MzMzMZJxAmpmZmZkrmkDNzMzMzEyaQDMzMzMzL5hAmpmZmZnrmkAAAAAAAGqXQDMzMzMzi5pA",
          "dtype": "f8"
         },
         "xaxis": "x2",
         "yaxis": "y2"
        },
        {
         "marker": {
          "color": "black"
         },
         "name": "CARCASS WEIGHT WITH HEAD AND LEGS",
         "opacity": 1,
         "showlegend": false,
         "type": "histogram",
         "x": {
          "bdata": "ZmZmZmb2mkAzMzMzM6ebQJqZmZmZ85pAmpmZmZkhnEBmZmZmZraYQDMzMzMzP5pAmpmZmZnxmECamZmZmVebQGZmZmZmNJtAMzMzMzNvm0AzMzMzMw+aQJqZmZmZsZlAZmZmZmaQmUAzMzMzM9uZQGZmZmZm+JhAMzMzMzOXm0AzMzMzM9eaQJqZmZmZ1ZtAAAAAAADKmkDNzMzMzDCbQM3MzMzMOptAzczMzMyCnUAAAAAAAOKaQGZmZmZmeptAAAAAAAD4mUCamZmZmTOcQJqZmZmZj5pAMzMzMzOTnUDNzMzMzDCbQJqZmZmZqZxAzczMzMwUmkCamZmZmcOdQM3MzMzMNJtAzczMzMzSm0AzMzMzM0ObQJqZmZmZ8ZxAMzMzMzMlnEBmZmZmZvKcQDMzMzMz/5hAZmZmZmbSnUBmZmZmZraZQJqZmZmZtZxAmpmZmZlHm0BmZmZmZkqbQGZmZmZmJJ1AMzMzMzNjnUDNzMzMzBSaQGZmZmZm8pxAMzMzMzOlnEDNzMzMzL6fQM3MzMzMYJpAzczMzMxWnkDNzMzMzKqaQAAAAAAAVp1AmpmZmZl9nUAzMzMzM2eeQM3MzMzMaJ9AmpmZmZm7n0CamZmZmXmaQGZmZmZmfJ1AZmZmZmYQmkAAAAAAALqbQDMzMzMzCqBAmpmZmZmbnkAzMzMzM5udQGZmZmZmyJxAmpmZmZnpmUBmZmZmZtSfQJqZmZmZSZhAMzMzMzNlm0BmZmZmZsqdQJqZmZmZhaBAAAAAAADenEAAAAAAALyfQGZmZmZmbJ9AmpmZmZmtoUAzMzMzM4GaQDMzMzMz3aBAAAAAAABqnUAAAAAAAIqcQJqZmZmZi6BAmpmZmZnHn0CamZmZmbGeQGZmZmZmZKFAAAAAAAAwm0CamZmZmWGeQJqZmZmZw59AmpmZmZnxnUCamZmZmYGbQGZmZmZmvKBAAAAAAAByn0BmZmZmZsifQAAAAAAAbpxAAAAAAAAEoECamZmZmVecQDMzMzMz259A",
          "dtype": "f8"
         },
         "xaxis": "x3",
         "yaxis": "y3"
        },
        {
         "marker": {
          "color": "black"
         },
         "name": "COLD CARCASS WEIGHT",
         "opacity": 1,
         "showlegend": false,
         "type": "histogram",
         "x": {
          "bdata": "AAAAAADIlUCamZmZmfWVQM3MzMzM1pZAZmZmZmZElkBmZmZmZrCTQM3MzMzMApVAZmZmZmY2lEAAAAAAAJaVQM3MzMzM5pVAzczMzMz+lUDNzMzMzHCUQGZmZmZmvpRAAAAAAABSlEDNzMzMzAaUQAAAAAAAKpZAMzMzMzOLlUDNzMzMzIiVQAAAAAAAjpZAzczMzMxylUDNzMzMzPyVQM3MzMzMcpZAmpmZmZn/lkDNzMzMzESWQM3MzMzMRpZAAAAAAADak0BmZmZmZlaWQJqZmZmZX5RAZmZmZma+l0DNzMzMzFKVQJqZmZmZl5ZAzczMzMyqlECamZmZmfeXQM3MzMzMOpZAzczMzMxIlkAAAAAAANCVQM3MzMzM3JZAAAAAAABClUAAAAAAAAiXQGZmZmZmkpNAZmZmZmY0mEBmZmZmZl6UQAAAAAAA0pZAzczMzMyslUBmZmZmZt6VQAAAAAAA3pdAzczMzMxel0AAAAAAAMiTQAAAAAAAJJdAAAAAAAC+l0AAAAAAAOCZQGZmZmZmXJVAAAAAAADwmEAzMzMzMxeWQGZmZmZm+pdAMzMzMzMdmEAAAAAAAKiYQJqZmZmZU5pAzczMzMw2mkAzMzMzM0uVQAAAAAAA2pdAMzMzMzM3lUAAAAAAADSWQGZmZmZmXppAzczMzMxCmUAzMzMzM+WXQGZmZmZmMpdAAAAAAADwlEBmZmZmZoSaQGZmZmZmypNAMzMzMzOdlUDNzMzMzJaYQJqZmZmZr5tAMzMzMzNfl0AzMzMzM52ZQGZmZmZm/JhAzczMzMyOnUAAAAAAAEiVQAAAAAAAgJtAZmZmZmY6mEDNzMzMzM6WQJqZmZmZYZtAMzMzMzMzmkDNzMzMzEaZQDMzMzMz0ZxAZmZmZmbYlUDNzMzMzJaYQAAAAAAAzJpAZmZmZmaql0DNzMzMzDCWQJqZmZmZoZtAmpmZmZmrmUDNzMzMzJSZQM3MzMzMnJdAMzMzMzMXmkAAAAAAAPCWQGZmZmZm3plA",
          "dtype": "f8"
         },
         "xaxis": "x4",
         "yaxis": "y4"
        },
        {
         "marker": {
          "color": "black"
         },
         "name": "BREAST WEIGHT (2)",
         "opacity": 1,
         "showlegend": false,
         "type": "histogram",
         "x": {
          "bdata": "AAAAAADAakAAAAAAAIBtQJqZmZmZOW5AZmZmZmZ2bEBmZmZmZhZsQGZmZmZmxmxAZmZmZma2aUAAAAAAADBuQM3MzMzMvGxAmpmZmZm5b0BmZmZmZrZsQAAAAAAAgGxAzczMzMzsaUDNzMzMzExqQGZmZmZm5m1AMzMzMzMTbEBmZmZmZtZsQDMzMzMzW3FAmpmZmZmJbEDNzMzMzGxtQGZmZmZmBnBAZmZmZmZGbkAAAAAAAABvQJqZmZmZGW1AMzMzMzPjaECamZmZmYlsQDMzMzMzU21AzczMzMwMb0AAAAAAADBuQJqZmZmZmW1AzczMzMzsakAzMzMzM/NwQM3MzMzMfGxAmpmZmZmpa0DNzMzMzHxrQAAAAAAAgG5AMzMzMzPjakCamZmZmdltQJqZmZmZOWpAmpmZmZn5bkDNzMzMzCxqQGZmZmZmRm5AMzMzMzNjbEBmZmZmZuZtQDMzMzMzy3BAMzMzMzPjbUCamZmZmXloQJqZmZmZqW1AZmZmZmambkBmZmZmZg5wQGZmZmZmRmdAmpmZmZnpaUBmZmZmZoZrQM3MzMzMjGtAMzMzMzOjbUAAAAAAAKBsQJqZmZmZeW5AMzMzMzNjbkAzMzMzMyNmQJqZmZmZWW1AzczMzMxMakAAAAAAAIBnQJqZmZmZwXBAzczMzMxMbkAAAAAAAJBsQM3MzMzMLGxAAAAAAAAAaECamZmZmRlwQJqZmZmZuWdAZmZmZmZ2aEAzMzMzM5NqQAAAAAAA8HFAzczMzMy8a0AAAAAAAGBtQAAAAAAAgG1AZmZmZmY2cUAzMzMzM1NnQM3MzMzMHG9AmpmZmZk5bUCamZmZmZloQGZmZmZmhm5AzczMzMwMbUAAAAAAALBsQJqZmZmZGXFAmpmZmZmpgEDNzMzMzFxsQAAAAAAAsHBAmpmZmZlZbUCamZmZmalpQGZmZmZmNnBAzczMzMyMbECamZmZmblqQAAAAAAAgGxAMzMzMzOjb0AzMzMzM4NqQGZmZmZmtm5A",
          "dtype": "f8"
         },
         "xaxis": "x5",
         "yaxis": "y5"
        },
        {
         "marker": {
          "color": "black"
         },
         "name": "THIGH WEIGHT (2)",
         "opacity": 1,
         "showlegend": false,
         "type": "histogram",
         "x": {
          "bdata": "ZmZmZmaWfkCamZmZmdWAQM3MzMzMAIBAMzMzMzMvgUAzMzMzM5N9QAAAAAAAXIBAzczMzMx8fkAzMzMzM+t/QDMzMzMzq39AAAAAAADMgECamZmZmSl/QDMzMzMzo39AMzMzMzNrfUDNzMzMzPR+QM3MzMzM9H9AzczMzMwkgEBmZmZmZqaAQJqZmZmZYYBAmpmZmZm5f0DNzMzMzFx+QDMzMzMzi4BAmpmZmZkpgUAzMzMzMzuAQAAAAAAACIFAAAAAAACgfkDNzMzMzPSAQGZmZmZmFn5AZmZmZmaugUAzMzMzM3N/QGZmZmZmZoFAZmZmZmbGf0AAAAAAAPCBQAAAAAAAEH9AmpmZmZkdgECamZmZmXGAQDMzMzMzy4FAmpmZmZlBf0CamZmZmU2BQJqZmZmZQX1AZmZmZmbugUBmZmZmZq5+QAAAAAAAqIFAAAAAAAAMgEAAAAAAACiAQDMzMzMzb4FAZmZmZmbagUBmZmZmZvZ+QJqZmZmZmYBAMzMzMzN/gkBmZmZmZuKCQGZmZmZm7n9AmpmZmZnhgkDNzMzMzHSAQDMzMzMzq4FAzczMzMwMgUBmZmZmZhaDQGZmZmZmMoNAzczMzMyMgkCamZmZmVGAQGZmZmZmUoFAAAAAAAB4fkBmZmZmZq6AQAAAAAAANIJAZmZmZmZegUDNzMzMzJiBQDMzMzMzm4FAmpmZmZkhfkAAAAAAABSDQGZmZmZmzntAAAAAAABogEBmZmZmZoKAQGZmZmZm1oNAzczMzMxAgUAAAAAAAASDQDMzMzMzJ4JAzczMzMzIhEAzMzMzM7t/QAAAAAAA6INAZmZmZmbKgEDNzMzMzFiBQM3MzMzMXIJAAAAAAAB8gUCamZmZmbWCQM3MzMzMlIVAmpmZmZk5ZkBmZmZmZv6BQAAAAAAAVIRAzczMzMzIgUDNzMzMzJx/QGZmZmZmooNAzczMzMwwg0AzMzMzMxeDQJqZmZmZgYBAAAAAAAAQg0AzMzMzMyOBQDMzMzMz94JA",
          "dtype": "f8"
         },
         "xaxis": "x6",
         "yaxis": "y6"
        },
        {
         "marker": {
          "color": "black"
         },
         "name": "SPLEEN",
         "opacity": 1,
         "showlegend": false,
         "type": "histogram",
         "x": {
          "bdata": "7nw/NV66DUDByqFFtvMLQGQ730+NFxBAGQRWDi2yCEBiEFg5tMgNQCcxCKwcWg5A9ihcj8L1DUC8dJMYBFYEQJMYBFYOLRFAhxbZzvfTEUDRItv5fmoNQNV46SYxCA5AKVyPwvUoF0BYObTIdr4KQH0/NV66SQVA1XjpJjEIH0BmZmZmZmYQQG3n+6nxUhZABFYOLbKdEUDn+6nx0s0SQOxRuB6F6wZAzczMzMzMDUAQWDm0yHYRQF66SQwCKxFAlkOLbOf7CUAIrBxaZLsTQOkmMQisnBFA+n5qvHQTEECsHFpkO98SQHWTGARWDhBAyXa+nxovE0BxPQrXo3AUQAisHFpkuxFAg8DKoUW2A0C28/3UeOkSQG8Sg8DKoQ5AmG4Sg8BKEEBEi2zn+6kaQH9qvHSTGApAWmQ730+NFUD+1HjpJjEFQBfZzvdT4xJA8tJNYhDYFkAbL90kBoEIQCuHFtnO9wtA4XoUrkfhC0Bcj8L1KFwUQDVeukkMghFA4XoUrkfhDkDfT42XbpITQF66SQwCqxFAoBov3SQGDUCPwvUoXI8MQIcW2c73UxJAx0s3iUFgDEACK4cW2c4IQPyp8dJN4hFAjZduEoPAEkC8dJMYBFYHQNejcD0K1xdAO99PjZduCkD2KFyPwvUPQKrx0k1iEApAYOXQItv5B0DByqFFtnMUQB1aZDvfTw1Ay6FFtvP9CEACK4cW2c4XQCcxCKwcWg5AlkOLbOf7DkDn+6nx0k0NQGIQWDm0yBNAc2iR7Xy/EEA730+Nl+4SQHnpJjEILBhAtMh2vp8aDUDufD81XjoSQKwcWmQ73xNAhetRuB6FE0AOLbKd76cPQClcj8L1qBVAc2iR7Xw/C0DVeOkmMQgQQFyPwvUoXBpAzczMzMzMCUCuR+F6FC4RQDvfT42XbhRAI9v5fmq8B0B56SYxCKwHQIGVQ4ts5xNAf2q8dJOYE0DP91PjpRsTQPyp8dJNYg1ATmIQWDm0FEBvEoPAyqEGQNejcD0K1xdA",
          "dtype": "f8"
         },
         "xaxis": "x7",
         "yaxis": "y7"
        },
        {
         "marker": {
          "color": "black"
         },
         "name": "LIVER",
         "opacity": 1,
         "showlegend": false,
         "type": "histogram",
         "x": {
          "bdata": "xSCwcmhRQ0DNzMzMzFxBQDvfT42X7j9AfT81XropQEB7FK5H4Ro+QNEi2/l+6jlAYhBYObQYQEB9PzVeuqlAQLByaJHtfEFAgZVDi2xnQkAj2/l+avw9QBsv3SQG8UFAd76fGi/NSECNl24Sg8BAQLpJDAIrB0JADi2yne9XQkAhsHJokd1AQDm0yHa+nz9AoBov3SQ2QUDXo3A9CjdAQDm0yHa+3z5AF9nO91NjP0DByqFFttM6QJzEILByqEBA5dAi2/kuQ0CPwvUoXC9GQM3MzMzMrEFAObTIdr4PQECoxks3iTFBQGq8dJMYBD1AsHJoke08PUCcxCCwcihAQJhuEoPAekFASgwCK4d2QUA730+Nl/5BQA4tsp3v10BA1XjpJjFIQUCF61G4HuVCQKAaL90kZkJA2/l+arwkQUCHFtnO93NCQHe+nxov3T5AhetRuB6FPUC0yHa+n5pAQI2XbhKDgEVAF9nO91NjPkD8qfHSTSJDQPT91Hjp1kJALbKd76cGQEBSuB6F63FFQNEi2/l+CkFA/tR46SYBQkBxPQrXo6BBQOxRuB6Fi0RArkfhehRuRECLbOf7qaFFQPYoXI/CFUNARrbz/dSIRUAK16NwPfpEQLx0kxgEdkRA001iEFjJQEAxCKwcWtREQOxRuB6FK0RAO99PjZdeQUDpJjEIrOxBQNV46SYxKD1A1XjpJjHYRUDjpZvEIABGQH9qvHSTOEBAGy/dJAaRSkD8qfHSTeJDQIlBYOXQckFAbxKDwMrRR0Dn+6nx0p1DQPhT46WblElAw/UoXI9iQ0AlBoGVQ0tAQO58PzVeWkZA8tJNYhBIQkCNl24Sg0BFQOxRuB6Fe0JAO99PjZcuQkAnMQisHJpEQOxRuB6Fe0JAJzEIrBy6RUB3vp8aL21DQIXrUbgeFUJATmIQWDmEREBiEFg5tOg+QL6fGi/dVEFArkfhehQuREDl0CLb+f5GQOxRuB6Fi0FAcT0K16NASUBqvHSTGEQ+QLx0kxgEdkRA",
          "dtype": "f8"
         },
         "xaxis": "x8",
         "yaxis": "y8"
        },
        {
         "marker": {
          "color": "black"
         },
         "name": "HEART",
         "opacity": 1,
         "showlegend": false,
         "type": "histogram",
         "x": {
          "bdata": "XI/C9SicIkBeukkMAiskQIXrUbgeRSVAtMh2vp/aJ0D2KFyPwrUjQAwCK4cWmS1AnMQgsHLoJUDy0k1iEBgnQDvfT42X7iRAJzEIrByaI0BI4XoUrochQGZmZmZmZixAy6FFtvO9JUDpJjEIrNwmQG8Sg8DKISJAYhBYObTIKkDByqFFtjMlQPyp8dJNYihAz/dT46XbJkCPwvUoXE8qQJqZmZmZGSRAAAAAAAAAJECLbOf7qfEpQBSuR+F6FCZA0SLb+X4qJEBg5dAi2zkrQGZmZmZmJiZAMzMzMzMzLECamZmZmZkkQMUgsHJokSZAg8DKoUW2IkAUrkfhepQqQCcxCKwcGiNATDeJQWAlJ0BOYhBYOfQnQLKd76fGCyhAsp3vp8bLJUBOYhBYOTQsQOXQItv5/iJAhetRuB7FLEDD9Shcj0IkQNejcD0KlytApHA9CtejJ0DJdr6fGi8tQMUgsHJoESVAKVyPwvXoKkDl0CLb+X4kQFyPwvUoHCpAwcqhRbbzJkA1XrpJDEIsQAIrhxbZzitAg8DKoUV2KkD0/dR46eYiQDeJQWDlECdAaJHtfD+1LEB/arx0k9gjQG3n+6nxUiVAvp8aL93kKkDP91PjpdskQHE9CtejMDBA/tR46SbxLECamZmZmRkpQOxRuB6Fqy5ATmIQWDm0JUCgGi/dJAYnQAAAAAAAQClASgwCK4dWLkAbL90kBoEmQFpkO99PDSRArBxaZDsfIUDb+X5qvDQoQGiR7Xw/FTFALbKd76fGKUACK4cW2Y4oQBfZzvdTIydAuB6F61G4KECYbhKDwAooQB+F61G4XixAvp8aL91kJUDTTWIQWLkkQNv5fmq8NCdAQmDl0CIbLEBMN4lBYOUqQEjhehSuhyxAbxKDwMohKkAdWmQ7348pQMP1KFyPgidAGQRWDi0yJkAxCKwcWqQhQLgehetR+CtA/tR46SYxLEBkO99PjZcpQDVeukkMAidAi2zn+6kxMUA1XrpJDEImQHE9CtejMDBA",
          "dtype": "f8"
         },
         "xaxis": "x9",
         "yaxis": "y9"
        },
        {
         "marker": {
          "color": "black"
         },
         "name": "INTESTINE",
         "opacity": 1,
         "showlegend": false,
         "type": "histogram",
         "x": {
          "bdata": "bef7qfHKXkAzMzMzM/NRQHE9CtejsE5Ax0s3iUE4UECHFtnO9yNRQMUgsHJoAU1AtvP91HgJUkAfhetRuCZSQPhT46WbhFRAarx0kxjcVUC28/3UeAlLQNnO91PjVUxAbxKDwMoZWkAj2/l+auxOQCUGgZVDK09AYhBYObQQU0BKDAIrhx5RQB+F61G4XlBApHA9CtfTTEBvEoPAyjlQQIcW2c73q1BAHVpkO98vUEAX2c73UwNSQKAaL90kPlBAsp3vp8ZbUkCWQ4ts52tTQN0kBoGVG1BAmG4Sg8CKUEBiEFg5tEhJQDMzMzMzk0pAokW28/1kT0BU46WbxBBMQMuhRbbzHVJAgZVDi2x/VUDJdr6fGtdTQGiR7Xw/zVBAGy/dJAY5UECWQ4ts5ytRQGZmZmZmblFAXI/C9Si8TEBKDAIrh2ZXQJHtfD81bkpAZDvfT403TkBaZDvfT3VQQIPAyqFFtk9Ax0s3iUGoUED6fmq8dANRQFTjpZvEIFJAZDvfT43XSkCwcmiR7YxVQIts5/upoVFABFYOLbIVUUCe76fGS0dPQH0/NV66uU5ASgwCK4cGVEDP91PjpStTQM3MzMzMDFBA001iEFhhVEAdWmQ73+9SQCcxCKwcMlJAGy/dJAYRRkDXo3A9Cv9QQPCnxks3WU5AmpmZmZlZUUCHFtnO96NOQGZmZmZmBklA6SYxCKwsTEAnMQisHBJTQFyPwvUoPE5A8tJNYhC4U0AAAAAAAEBRQBsv3SQGIVFA4XoUrkdxVUBqvHSTGCRPQHe+nxovNVZAkxgEVg49VEAK16NwPfpHQC/dJAaBPVRAlkOLbOebUEAUrkfhehRRQO58PzVeilNA001iEFiRU0CPwvUoXI9OQNNNYhBYoVFAiUFg5dCSVEDVeOkmMeBQQIPAyqFFtlFAI9v5fmrsUEDjpZvEICBPQFyPwvUopFBAy6FFtvP9UEBGtvP91LhSQIXrUbgeHVFA46WbxCBgVEDFILByaIFKQCcxCKwcMlJA",
          "dtype": "f8"
         },
         "xaxis": "x10",
         "yaxis": "y10"
        },
        {
         "marker": {
          "color": "black"
         },
         "name": "EMPTY MUSCULAR STOMACH",
         "opacity": 1,
         "showlegend": false,
         "type": "histogram",
         "x": {
          "bdata": "bef7qfGiRkCR7Xw/Ne5BQBfZzvdTQ0JAyXa+nxp/REC28/3UeHlEQNNNYhBYqUZAz/dT46ULRUBt5/up8ZJIQJ7vp8ZLZ0dA7nw/NV4aP0Ce76fGS4dIQHNoke18z0NAqvHSTWKQRUCuR+F6FL5KQF66SQwCa0NAdZMYBFY+RkCF61G4HtVHQFTjpZvEAElAKVyPwvXYRUC8dJMYBMZNQLpJDAIrp05AYOXQItvZTkDy0k1iEAhOQBBYObTItkZA7nw/NV66SkBeukkMAstFQG3n+6nx0khADAIrhxbJT0Bt5/up8cJHQK5H4XoU7k9A30+Nl24iUECTGARWDm1FQKwcWmQ7D0lAhetRuB5VQECiRbbz/ZRBQIcW2c73U0dAPQrXo3BtRkBCYOXQIntGQLByaJHt7ElAN4lBYOXARkDFILByaBFJQAwCK4cW6UVAgZVDi2ynUECDwMqhRbY9QCuHFtnOd0RA/Knx0k1CSkBOYhBYObRBQEa28/3U+ElA5/up8dK9REA9CtejcB1MQL6fGi/d1EtAFK5H4XpURUCPwvUoXA9AQAisHFpk+0VADAIrhxbxUkBg5dAi26lGQI2XbhKDEEVACKwcWmT7R0ArhxbZzmdGQOkmMQisTEBA8KfGSzd5QECkcD0K1xNDQP7UeOkmAUhAI9v5fmosTEC0yHa+n8pNQPCnxks3qUlAtMh2vp9aTUBMN4lBYPVEQGZmZmZmNkRA3SQGgZXzSUDTTWIQWFlMQJqZmZmZWURADAIrhxapRkDZzvdT49VLQEoMAiuHJlFAVOOlm8QARkB7FK5H4VpLQMUgsHJo0UZAf2q8dJNYQUCBlUOLbHdIQPYoXI/ChUZAw/UoXI8CSEA3iUFg5VBFQAIrhxbZrkZA0SLb+X46SkCHFtnO96NIQKabxCCwAktAoBov3SQWRUCamZmZmdlIQJzEILByaEdADAIrhxbxUkA=",
          "dtype": "f8"
         },
         "xaxis": "x11",
         "yaxis": "y11"
        },
        {
         "marker": {
          "color": "black"
         },
         "name": "GLANDULAR STOMACH",
         "opacity": 1,
         "showlegend": false,
         "type": "histogram",
         "x": {
          "bdata": "16NwPQpXKkAdWmQ7348jQJHtfD813hhAnu+nxku3IEB9PzVeukkeQB+F61G43iBAqMZLN4nBGkAhsHJokS0hQHnpJjEIrCdASgwCK4dWJkAfhetRuJ4eQP7UeOkmsRlAJQaBlUNLI0Boke18P7UcQCGwcmiRrSRA2/l+arz0HEBaZDvfT40YQG3n+6nxUiNA30+Nl24SHkCe76fGS7clQPT91Hjp5iBAqvHSTWJQIEDRItv5fmohQP7UeOkmMRtAtvP91HhpGUDl0CLb+f4kQL6fGi/dJCBANV66SQyCKED2KFyPwrUgQHsUrkfh+hpAsp3vp8bLGkDfT42XbhIaQBBYObTIdiFA9ihcj8J1JkBcj8L1KNweQLpJDAIrhx9A6SYxCKwcKkAdWmQ7388kQAAAAAAAAB9A8tJNYhBYIkAzMzMzMzMgQBsv3SQGAR5Ag8DKoUW2IkB7FK5H4foeQAIrhxbZzh9AZDvfT42XIUAZBFYOLTIlQLByaJHtPCRAVOOlm8QgH0BCYOXQIlseQIcW2c73UyFA0SLb+X5qGkBzaJHtfD8ZQHNoke18PxpApHA9CtcjJ0ArhxbZzvcbQMuhRbbz/RxAy6FFtvO9KEDjpZvEILAcQK5H4XoUrh1A4XoUrkdhHECDwMqhRbYgQHWTGARWDh1A6SYxCKycH0DD9Shcj8IYQLByaJHt/BVASgwCK4eWGEC+nxov3SQbQESLbOf7KRpAxSCwcmgRHEAAAAAAAAAcQKabxCCwsiNASOF6FK7HHEB9PzVeuokgQCUGgZVDCxlAmpmZmZkZI0BSuB6F61EWQBfZzvdTYxxAwcqhRbbzHUAtsp3vp4YiQCuHFtnONyBABoGVQ4usIUDD9Shcj8IbQPYoXI/CNSBACtejcD2KHkCuR+F6FO4hQB+F61G4niJA7nw/NV66HUB9PzVeukkZQC2yne+nBiBACKwcWmS7IkAhsHJokW0fQAwCK4cWWR9AhxbZzvdTHUAzMzMzM7MVQK5H4XoUrh1A",
          "dtype": "f8"
         },
         "xaxis": "x12",
         "yaxis": "y12"
        },
        {
         "marker": {
          "color": "black"
         },
         "name": "CRUDE PROTEIN",
         "opacity": 1,
         "showlegend": false,
         "type": "histogram",
         "x": {
          "bdata": "AAAAAMCGVUB2yaSmLolVQIW063aumlVAkG3ck299VUAx7iGNZGxUQEb0bL8d4lVAcUCZuNK1VUD+NtePyw9WQKQrHWuN4lVAzCoNBFAMVkCanggGUfJVQP3Ta1HFj1VA0zGXCE+KVUAMvdALvaBVQNbR5n2KtVVAxKzkaK8/VUDOk2HzZJhVQEO9a86nIFZAPY2w3NNAVUB9u2iOnn5VQPz9T97WPVZAfIMKKQwwVUAZ9AV9QcdVQHqzED8B0VVA0NvHm59gVUCMgRLeaMpVQPTtHXqTNVVAyh+Y/IG5VUBC9Zm2xt5VQNcNpshnDVZAvr29vb3dVEB0uVwul5VVQFqgo2yVpVVASTpUSWX5VUDDOjSgHCRWQGlORIPN2lVA+eCDD37+VUAXZc7gJStVQNc/BmyUdVJAoLrUMFJ8VUANUOBBi6NVQDiYIp916VVAdQfAUF/mVUDOmYgtD4tVQPslv8mlFlZA9Tuyy+jQVUDte0ROEK5VQCGCY5dGUVVA2NwBkI3wVUDTRRdddPlVQNXWUWjSClZAAgAAAAAcVkBEhQoVKshVQPJ/YfQT5lVAZeJK9wb8VUDORASS86RVQDseR1E411VAcSE3eDslVkD6yEc+8mFWQMhxHMdxyVVALj03TeL9VUCBxTsyefNVQB4ERhnjglVAkm8NWDMuVkCEu7HvERlWQLb3Oj+dQFZAb+qk1tJBVUDIUBcj1dFVQDgvzuSD41VAHFeM/tLcVUA/iCauKRVWQLAZLJT5RFZAAJMvxJW3VUCVUkoppVxWQI5h7wH3JlZAG9uqsa3qVUBsq8a2auxVQMYsR36uQFZAPCxa1fdnVkAYBlK9Gl9WQAWanCf+PlZAjPmn8I4bVkCv5eBmvyhWQH1zRfJkj1ZAzkQEkvOkVUCLd6zXD9xVQD2xEzsxOlZACkqAD3IuVkCoULxZ5TVWQJze9KY3NVZAFo9ZgYr0VUBRfaat8T9WQMiXMmZ3IFZArC1ynQmYVkCLcEvNhs1WQDeDt4jNNFZA",
          "dtype": "f8"
         },
         "xaxis": "x13",
         "yaxis": "y13"
        },
        {
         "marker": {
          "color": "black"
         },
         "name": "ETHER EXTRACT",
         "opacity": 1,
         "showlegend": false,
         "type": "histogram",
         "x": {
          "bdata": "UrgehetR2D+PwvUoXI/6P1yPwvUoXO8/mpmZmZmZ8T9cj8L1KFwZQOF6FK5H4f4/rkfhehSuCUAzMzMzMzPrP7gehetRuO4/MzMzMzMz9z+PwvUoXI8AQOxRuB6F6+k/zczMzMzMAkCkcD0K16MIQFyPwvUoXPs/16NwPQrXC0BSuB6F61EGQD0K16NwPQJA7FG4HoXrFkD2KFyPwvUIQFK4HoXrUfA/PQrXo3A9EUCuR+F6FK4HQMP1KFyPwu0/rkfhehSuEEDD9Shcj8L1P8P1KFyPwg1A4XoUrkfhAEAAAAAAAAD0P+xRuB6F6/k/uB6F61G4GkAfhetRuB4PQLgehetRuPI/mpmZmZmZAUCPwvUoXI/2P3sUrkfhevw/ZmZmZmZmAED2KFyPwvUWQBSuR+F6FA5AuB6F61G4DEApXI/C9SgQQIXrUbgehQNAKVyPwvUoAkAK16NwPQoPQD0K16NwPeo/H4XrUbge/T8UrkfhehTyPz0K16NwPRVAuB6F61G47j9mZmZmZmbyP8P1KFyPwu0/H4XrUbge7T+4HoXrUbjyP7gehetRuABAmpmZmZmZ/T/2KFyPwvUGQFK4HoXrUfA/pHA9Ctej+D+kcD0K16PoP7gehetRuPo/FK5H4XoU7j97FK5H4Xr8P9ejcD0K1xJA9ihcj8L16D8K16NwPQr7Pz0K16NwPfo/4XoUrkfhBkB7FK5H4XoCQArXo3A9CvM/SOF6FK5HB0C4HoXrUbjyP65H4XoUru8/zczMzMzM9D/D9Shcj8LlPzMzMzMzM/s/PQrXo3A9/j+F61G4HoX/P1yPwvUoXPs/7FG4HoXr/T89CtejcD3iP1yPwvUoXPs/ZmZmZmZm8j9I4XoUrkf5P3sUrkfhetQ/16NwPQrXD0AK16NwPQr/PzMzMzMzM+M/mpmZmZmZ+T/NzMzMzMz8P7gehetRuN4/H4XrUbgeA0AfhetRuB7xPxSuR+F6FPI/j8L1KFyP/j+uR+F6FK4BQClcj8L1KPg/",
          "dtype": "f8"
         },
         "xaxis": "x14",
         "yaxis": "y14"
        }
       ],
       "layout": {
        "annotations": [
         {
          "font": {
           "size": 16
          },
          "showarrow": false,
          "text": "WEIGHT",
          "x": 0.14444444444444446,
          "xanchor": "center",
          "xref": "paper",
          "y": 1,
          "yanchor": "bottom",
          "yref": "paper"
         },
         {
          "font": {
           "size": 16
          },
          "showarrow": false,
          "text": "HOT CARCASS WEIGHT",
          "x": 0.5,
          "xanchor": "center",
          "xref": "paper",
          "y": 1,
          "yanchor": "bottom",
          "yref": "paper"
         },
         {
          "font": {
           "size": 16
          },
          "showarrow": false,
          "text": "CARCASS WEIGHT WITH HEAD AND LEGS",
          "x": 0.8555555555555556,
          "xanchor": "center",
          "xref": "paper",
          "y": 1,
          "yanchor": "bottom",
          "yref": "paper"
         },
         {
          "font": {
           "size": 16
          },
          "showarrow": false,
          "text": "COLD CARCASS WEIGHT",
          "x": 0.14444444444444446,
          "xanchor": "center",
          "xref": "paper",
          "y": 0.78,
          "yanchor": "bottom",
          "yref": "paper"
         },
         {
          "font": {
           "size": 16
          },
          "showarrow": false,
          "text": "BREAST WEIGHT (2)",
          "x": 0.5,
          "xanchor": "center",
          "xref": "paper",
          "y": 0.78,
          "yanchor": "bottom",
          "yref": "paper"
         },
         {
          "font": {
           "size": 16
          },
          "showarrow": false,
          "text": "THIGH WEIGHT (2)",
          "x": 0.8555555555555556,
          "xanchor": "center",
          "xref": "paper",
          "y": 0.78,
          "yanchor": "bottom",
          "yref": "paper"
         },
         {
          "font": {
           "size": 16
          },
          "showarrow": false,
          "text": "SPLEEN",
          "x": 0.14444444444444446,
          "xanchor": "center",
          "xref": "paper",
          "y": 0.56,
          "yanchor": "bottom",
          "yref": "paper"
         },
         {
          "font": {
           "size": 16
          },
          "showarrow": false,
          "text": "LIVER",
          "x": 0.5,
          "xanchor": "center",
          "xref": "paper",
          "y": 0.56,
          "yanchor": "bottom",
          "yref": "paper"
         },
         {
          "font": {
           "size": 16
          },
          "showarrow": false,
          "text": "HEART",
          "x": 0.8555555555555556,
          "xanchor": "center",
          "xref": "paper",
          "y": 0.56,
          "yanchor": "bottom",
          "yref": "paper"
         },
         {
          "font": {
           "size": 16
          },
          "showarrow": false,
          "text": "INTESTINE",
          "x": 0.14444444444444446,
          "xanchor": "center",
          "xref": "paper",
          "y": 0.33999999999999997,
          "yanchor": "bottom",
          "yref": "paper"
         },
         {
          "font": {
           "size": 16
          },
          "showarrow": false,
          "text": "EMPTY MUSCULAR STOMACH",
          "x": 0.5,
          "xanchor": "center",
          "xref": "paper",
          "y": 0.33999999999999997,
          "yanchor": "bottom",
          "yref": "paper"
         },
         {
          "font": {
           "size": 16
          },
          "showarrow": false,
          "text": "GLANDULAR STOMACH",
          "x": 0.8555555555555556,
          "xanchor": "center",
          "xref": "paper",
          "y": 0.33999999999999997,
          "yanchor": "bottom",
          "yref": "paper"
         },
         {
          "font": {
           "size": 16
          },
          "showarrow": false,
          "text": "CRUDE PROTEIN",
          "x": 0.14444444444444446,
          "xanchor": "center",
          "xref": "paper",
          "y": 0.12,
          "yanchor": "bottom",
          "yref": "paper"
         },
         {
          "font": {
           "size": 16
          },
          "showarrow": false,
          "text": "ETHER EXTRACT",
          "x": 0.5,
          "xanchor": "center",
          "xref": "paper",
          "y": 0.12,
          "yanchor": "bottom",
          "yref": "paper"
         }
        ],
        "bargap": 0.2,
        "height": 1500,
        "template": {
         "data": {
          "bar": [
           {
            "error_x": {
             "color": "#2a3f5f"
            },
            "error_y": {
             "color": "#2a3f5f"
            },
            "marker": {
             "line": {
              "color": "#E5ECF6",
              "width": 0.5
             },
             "pattern": {
              "fillmode": "overlay",
              "size": 10,
              "solidity": 0.2
             }
            },
            "type": "bar"
           }
          ],
          "barpolar": [
           {
            "marker": {
             "line": {
              "color": "#E5ECF6",
              "width": 0.5
             },
             "pattern": {
              "fillmode": "overlay",
              "size": 10,
              "solidity": 0.2
             }
            },
            "type": "barpolar"
           }
          ],
          "carpet": [
           {
            "aaxis": {
             "endlinecolor": "#2a3f5f",
             "gridcolor": "white",
             "linecolor": "white",
             "minorgridcolor": "white",
             "startlinecolor": "#2a3f5f"
            },
            "baxis": {
             "endlinecolor": "#2a3f5f",
             "gridcolor": "white",
             "linecolor": "white",
             "minorgridcolor": "white",
             "startlinecolor": "#2a3f5f"
            },
            "type": "carpet"
           }
          ],
          "choropleth": [
           {
            "colorbar": {
             "outlinewidth": 0,
             "ticks": ""
            },
            "type": "choropleth"
           }
          ],
          "contour": [
           {
            "colorbar": {
             "outlinewidth": 0,
             "ticks": ""
            },
            "colorscale": [
             [
              0,
              "#0d0887"
             ],
             [
              0.1111111111111111,
              "#46039f"
             ],
             [
              0.2222222222222222,
              "#7201a8"
             ],
             [
              0.3333333333333333,
              "#9c179e"
             ],
             [
              0.4444444444444444,
              "#bd3786"
             ],
             [
              0.5555555555555556,
              "#d8576b"
             ],
             [
              0.6666666666666666,
              "#ed7953"
             ],
             [
              0.7777777777777778,
              "#fb9f3a"
             ],
             [
              0.8888888888888888,
              "#fdca26"
             ],
             [
              1,
              "#f0f921"
             ]
            ],
            "type": "contour"
           }
          ],
          "contourcarpet": [
           {
            "colorbar": {
             "outlinewidth": 0,
             "ticks": ""
            },
            "type": "contourcarpet"
           }
          ],
          "heatmap": [
           {
            "colorbar": {
             "outlinewidth": 0,
             "ticks": ""
            },
            "colorscale": [
             [
              0,
              "#0d0887"
             ],
             [
              0.1111111111111111,
              "#46039f"
             ],
             [
              0.2222222222222222,
              "#7201a8"
             ],
             [
              0.3333333333333333,
              "#9c179e"
             ],
             [
              0.4444444444444444,
              "#bd3786"
             ],
             [
              0.5555555555555556,
              "#d8576b"
             ],
             [
              0.6666666666666666,
              "#ed7953"
             ],
             [
              0.7777777777777778,
              "#fb9f3a"
             ],
             [
              0.8888888888888888,
              "#fdca26"
             ],
             [
              1,
              "#f0f921"
             ]
            ],
            "type": "heatmap"
           }
          ],
          "histogram": [
           {
            "marker": {
             "pattern": {
              "fillmode": "overlay",
              "size": 10,
              "solidity": 0.2
             }
            },
            "type": "histogram"
           }
          ],
          "histogram2d": [
           {
            "colorbar": {
             "outlinewidth": 0,
             "ticks": ""
            },
            "colorscale": [
             [
              0,
              "#0d0887"
             ],
             [
              0.1111111111111111,
              "#46039f"
             ],
             [
              0.2222222222222222,
              "#7201a8"
             ],
             [
              0.3333333333333333,
              "#9c179e"
             ],
             [
              0.4444444444444444,
              "#bd3786"
             ],
             [
              0.5555555555555556,
              "#d8576b"
             ],
             [
              0.6666666666666666,
              "#ed7953"
             ],
             [
              0.7777777777777778,
              "#fb9f3a"
             ],
             [
              0.8888888888888888,
              "#fdca26"
             ],
             [
              1,
              "#f0f921"
             ]
            ],
            "type": "histogram2d"
           }
          ],
          "histogram2dcontour": [
           {
            "colorbar": {
             "outlinewidth": 0,
             "ticks": ""
            },
            "colorscale": [
             [
              0,
              "#0d0887"
             ],
             [
              0.1111111111111111,
              "#46039f"
             ],
             [
              0.2222222222222222,
              "#7201a8"
             ],
             [
              0.3333333333333333,
              "#9c179e"
             ],
             [
              0.4444444444444444,
              "#bd3786"
             ],
             [
              0.5555555555555556,
              "#d8576b"
             ],
             [
              0.6666666666666666,
              "#ed7953"
             ],
             [
              0.7777777777777778,
              "#fb9f3a"
             ],
             [
              0.8888888888888888,
              "#fdca26"
             ],
             [
              1,
              "#f0f921"
             ]
            ],
            "type": "histogram2dcontour"
           }
          ],
          "mesh3d": [
           {
            "colorbar": {
             "outlinewidth": 0,
             "ticks": ""
            },
            "type": "mesh3d"
           }
          ],
          "parcoords": [
           {
            "line": {
             "colorbar": {
              "outlinewidth": 0,
              "ticks": ""
             }
            },
            "type": "parcoords"
           }
          ],
          "pie": [
           {
            "automargin": true,
            "type": "pie"
           }
          ],
          "scatter": [
           {
            "fillpattern": {
             "fillmode": "overlay",
             "size": 10,
             "solidity": 0.2
            },
            "type": "scatter"
           }
          ],
          "scatter3d": [
           {
            "line": {
             "colorbar": {
              "outlinewidth": 0,
              "ticks": ""
             }
            },
            "marker": {
             "colorbar": {
              "outlinewidth": 0,
              "ticks": ""
             }
            },
            "type": "scatter3d"
           }
          ],
          "scattercarpet": [
           {
            "marker": {
             "colorbar": {
              "outlinewidth": 0,
              "ticks": ""
             }
            },
            "type": "scattercarpet"
           }
          ],
          "scattergeo": [
           {
            "marker": {
             "colorbar": {
              "outlinewidth": 0,
              "ticks": ""
             }
            },
            "type": "scattergeo"
           }
          ],
          "scattergl": [
           {
            "marker": {
             "colorbar": {
              "outlinewidth": 0,
              "ticks": ""
             }
            },
            "type": "scattergl"
           }
          ],
          "scattermap": [
           {
            "marker": {
             "colorbar": {
              "outlinewidth": 0,
              "ticks": ""
             }
            },
            "type": "scattermap"
           }
          ],
          "scattermapbox": [
           {
            "marker": {
             "colorbar": {
              "outlinewidth": 0,
              "ticks": ""
             }
            },
            "type": "scattermapbox"
           }
          ],
          "scatterpolar": [
           {
            "marker": {
             "colorbar": {
              "outlinewidth": 0,
              "ticks": ""
             }
            },
            "type": "scatterpolar"
           }
          ],
          "scatterpolargl": [
           {
            "marker": {
             "colorbar": {
              "outlinewidth": 0,
              "ticks": ""
             }
            },
            "type": "scatterpolargl"
           }
          ],
          "scatterternary": [
           {
            "marker": {
             "colorbar": {
              "outlinewidth": 0,
              "ticks": ""
             }
            },
            "type": "scatterternary"
           }
          ],
          "surface": [
           {
            "colorbar": {
             "outlinewidth": 0,
             "ticks": ""
            },
            "colorscale": [
             [
              0,
              "#0d0887"
             ],
             [
              0.1111111111111111,
              "#46039f"
             ],
             [
              0.2222222222222222,
              "#7201a8"
             ],
             [
              0.3333333333333333,
              "#9c179e"
             ],
             [
              0.4444444444444444,
              "#bd3786"
             ],
             [
              0.5555555555555556,
              "#d8576b"
             ],
             [
              0.6666666666666666,
              "#ed7953"
             ],
             [
              0.7777777777777778,
              "#fb9f3a"
             ],
             [
              0.8888888888888888,
              "#fdca26"
             ],
             [
              1,
              "#f0f921"
             ]
            ],
            "type": "surface"
           }
          ],
          "table": [
           {
            "cells": {
             "fill": {
              "color": "#EBF0F8"
             },
             "line": {
              "color": "white"
             }
            },
            "header": {
             "fill": {
              "color": "#C8D4E3"
             },
             "line": {
              "color": "white"
             }
            },
            "type": "table"
           }
          ]
         },
         "layout": {
          "annotationdefaults": {
           "arrowcolor": "#2a3f5f",
           "arrowhead": 0,
           "arrowwidth": 1
          },
          "autotypenumbers": "strict",
          "coloraxis": {
           "colorbar": {
            "outlinewidth": 0,
            "ticks": ""
           }
          },
          "colorscale": {
           "diverging": [
            [
             0,
             "#8e0152"
            ],
            [
             0.1,
             "#c51b7d"
            ],
            [
             0.2,
             "#de77ae"
            ],
            [
             0.3,
             "#f1b6da"
            ],
            [
             0.4,
             "#fde0ef"
            ],
            [
             0.5,
             "#f7f7f7"
            ],
            [
             0.6,
             "#e6f5d0"
            ],
            [
             0.7,
             "#b8e186"
            ],
            [
             0.8,
             "#7fbc41"
            ],
            [
             0.9,
             "#4d9221"
            ],
            [
             1,
             "#276419"
            ]
           ],
           "sequential": [
            [
             0,
             "#0d0887"
            ],
            [
             0.1111111111111111,
             "#46039f"
            ],
            [
             0.2222222222222222,
             "#7201a8"
            ],
            [
             0.3333333333333333,
             "#9c179e"
            ],
            [
             0.4444444444444444,
             "#bd3786"
            ],
            [
             0.5555555555555556,
             "#d8576b"
            ],
            [
             0.6666666666666666,
             "#ed7953"
            ],
            [
             0.7777777777777778,
             "#fb9f3a"
            ],
            [
             0.8888888888888888,
             "#fdca26"
            ],
            [
             1,
             "#f0f921"
            ]
           ],
           "sequentialminus": [
            [
             0,
             "#0d0887"
            ],
            [
             0.1111111111111111,
             "#46039f"
            ],
            [
             0.2222222222222222,
             "#7201a8"
            ],
            [
             0.3333333333333333,
             "#9c179e"
            ],
            [
             0.4444444444444444,
             "#bd3786"
            ],
            [
             0.5555555555555556,
             "#d8576b"
            ],
            [
             0.6666666666666666,
             "#ed7953"
            ],
            [
             0.7777777777777778,
             "#fb9f3a"
            ],
            [
             0.8888888888888888,
             "#fdca26"
            ],
            [
             1,
             "#f0f921"
            ]
           ]
          },
          "colorway": [
           "#636efa",
           "#EF553B",
           "#00cc96",
           "#ab63fa",
           "#FFA15A",
           "#19d3f3",
           "#FF6692",
           "#B6E880",
           "#FF97FF",
           "#FECB52"
          ],
          "font": {
           "color": "#2a3f5f"
          },
          "geo": {
           "bgcolor": "white",
           "lakecolor": "white",
           "landcolor": "#E5ECF6",
           "showlakes": true,
           "showland": true,
           "subunitcolor": "white"
          },
          "hoverlabel": {
           "align": "left"
          },
          "hovermode": "closest",
          "mapbox": {
           "style": "light"
          },
          "paper_bgcolor": "white",
          "plot_bgcolor": "#E5ECF6",
          "polar": {
           "angularaxis": {
            "gridcolor": "white",
            "linecolor": "white",
            "ticks": ""
           },
           "bgcolor": "#E5ECF6",
           "radialaxis": {
            "gridcolor": "white",
            "linecolor": "white",
            "ticks": ""
           }
          },
          "scene": {
           "xaxis": {
            "backgroundcolor": "#E5ECF6",
            "gridcolor": "white",
            "gridwidth": 2,
            "linecolor": "white",
            "showbackground": true,
            "ticks": "",
            "zerolinecolor": "white"
           },
           "yaxis": {
            "backgroundcolor": "#E5ECF6",
            "gridcolor": "white",
            "gridwidth": 2,
            "linecolor": "white",
            "showbackground": true,
            "ticks": "",
            "zerolinecolor": "white"
           },
           "zaxis": {
            "backgroundcolor": "#E5ECF6",
            "gridcolor": "white",
            "gridwidth": 2,
            "linecolor": "white",
            "showbackground": true,
            "ticks": "",
            "zerolinecolor": "white"
           }
          },
          "shapedefaults": {
           "line": {
            "color": "#2a3f5f"
           }
          },
          "ternary": {
           "aaxis": {
            "gridcolor": "white",
            "linecolor": "white",
            "ticks": ""
           },
           "baxis": {
            "gridcolor": "white",
            "linecolor": "white",
            "ticks": ""
           },
           "bgcolor": "#E5ECF6",
           "caxis": {
            "gridcolor": "white",
            "linecolor": "white",
            "ticks": ""
           }
          },
          "title": {
           "x": 0.05
          },
          "xaxis": {
           "automargin": true,
           "gridcolor": "white",
           "linecolor": "white",
           "ticks": "",
           "title": {
            "standoff": 15
           },
           "zerolinecolor": "white",
           "zerolinewidth": 2
          },
          "yaxis": {
           "automargin": true,
           "gridcolor": "white",
           "linecolor": "white",
           "ticks": "",
           "title": {
            "standoff": 15
           },
           "zerolinecolor": "white",
           "zerolinewidth": 2
          }
         }
        },
        "title": {
         "text": "Feature Distributions"
        },
        "width": 1100,
        "xaxis": {
         "anchor": "y",
         "domain": [
          0,
          0.2888888888888889
         ]
        },
        "xaxis10": {
         "anchor": "y10",
         "domain": [
          0,
          0.2888888888888889
         ]
        },
        "xaxis11": {
         "anchor": "y11",
         "domain": [
          0.35555555555555557,
          0.6444444444444445
         ]
        },
        "xaxis12": {
         "anchor": "y12",
         "domain": [
          0.7111111111111111,
          1
         ]
        },
        "xaxis13": {
         "anchor": "y13",
         "domain": [
          0,
          0.2888888888888889
         ]
        },
        "xaxis14": {
         "anchor": "y14",
         "domain": [
          0.35555555555555557,
          0.6444444444444445
         ]
        },
        "xaxis15": {
         "anchor": "y15",
         "domain": [
          0.7111111111111111,
          1
         ]
        },
        "xaxis2": {
         "anchor": "y2",
         "domain": [
          0.35555555555555557,
          0.6444444444444445
         ]
        },
        "xaxis3": {
         "anchor": "y3",
         "domain": [
          0.7111111111111111,
          1
         ]
        },
        "xaxis4": {
         "anchor": "y4",
         "domain": [
          0,
          0.2888888888888889
         ]
        },
        "xaxis5": {
         "anchor": "y5",
         "domain": [
          0.35555555555555557,
          0.6444444444444445
         ]
        },
        "xaxis6": {
         "anchor": "y6",
         "domain": [
          0.7111111111111111,
          1
         ]
        },
        "xaxis7": {
         "anchor": "y7",
         "domain": [
          0,
          0.2888888888888889
         ]
        },
        "xaxis8": {
         "anchor": "y8",
         "domain": [
          0.35555555555555557,
          0.6444444444444445
         ]
        },
        "xaxis9": {
         "anchor": "y9",
         "domain": [
          0.7111111111111111,
          1
         ]
        },
        "yaxis": {
         "anchor": "x",
         "domain": [
          0.88,
          1
         ]
        },
        "yaxis10": {
         "anchor": "x10",
         "domain": [
          0.22,
          0.33999999999999997
         ]
        },
        "yaxis11": {
         "anchor": "x11",
         "domain": [
          0.22,
          0.33999999999999997
         ]
        },
        "yaxis12": {
         "anchor": "x12",
         "domain": [
          0.22,
          0.33999999999999997
         ]
        },
        "yaxis13": {
         "anchor": "x13",
         "domain": [
          0,
          0.12
         ]
        },
        "yaxis14": {
         "anchor": "x14",
         "domain": [
          0,
          0.12
         ]
        },
        "yaxis15": {
         "anchor": "x15",
         "domain": [
          0,
          0.12
         ]
        },
        "yaxis2": {
         "anchor": "x2",
         "domain": [
          0.88,
          1
         ]
        },
        "yaxis3": {
         "anchor": "x3",
         "domain": [
          0.88,
          1
         ]
        },
        "yaxis4": {
         "anchor": "x4",
         "domain": [
          0.66,
          0.78
         ]
        },
        "yaxis5": {
         "anchor": "x5",
         "domain": [
          0.66,
          0.78
         ]
        },
        "yaxis6": {
         "anchor": "x6",
         "domain": [
          0.66,
          0.78
         ]
        },
        "yaxis7": {
         "anchor": "x7",
         "domain": [
          0.44,
          0.56
         ]
        },
        "yaxis8": {
         "anchor": "x8",
         "domain": [
          0.44,
          0.56
         ]
        },
        "yaxis9": {
         "anchor": "x9",
         "domain": [
          0.44,
          0.56
         ]
        }
       }
      }
     },
     "metadata": {},
     "output_type": "display_data"
    }
   ],
   "source": [
    "plotter.plot_features(\n",
    "    df, \n",
    "    df.columns,\n",
    "    plot_type= 'Histogram',\n",
    "    num_columns=3, \n",
    "    plot_title='Feature Distributions'\n",
    ")"
   ]
  },
  {
   "cell_type": "code",
   "execution_count": 157,
   "metadata": {},
   "outputs": [
    {
     "data": {
      "application/vnd.plotly.v1+json": {
       "config": {
        "plotlyServerURL": "https://plot.ly"
       },
       "data": [
        {
         "boxmean": "sd",
         "marker": {
          "color": "black"
         },
         "name": "WEIGHT",
         "showlegend": false,
         "type": "box",
         "xaxis": "x",
         "y": {
          "bdata": "mpmZmZleoUDNzMzMzDOhQM3MzMzM36BAZmZmZmYtoUDNzMzMzEyfQDMzMzMzVaBAMzMzMzMfoEAzMzMzM5ehQM3MzMzMd6FAzczMzMzMoUAzMzMzM0qgQAAAAAAAFqBAAAAAAAC7oECamZmZmXSgQJqZmZmZwZ5AZmZmZmZKoUAzMzMzM3WhQJqZmZmZrKFAmpmZmZmMoEAzMzMzM+egQAAAAAAAAqFAZmZmZmZWokAzMzMzM2ShQM3MzMzMqaFAZmZmZmaJoEBmZmZmZgiiQGZmZmZmsKBAMzMzMzOMokAzMzMzM1qhQDMzMzMzvqFAAAAAAADCoEAzMzMzM7eiQJqZmZmZpqFAzczMzMxCokDNzMzMzLihQJqZmZmZDaJAzczMzMxtoUAzMzMzM9iiQM3MzMzMTKBAmpmZmZmBokAzMzMzM5+fQAAAAAAApKFAAAAAAAAmoUDNzMzMzDKhQGZmZmZmCKJAzczMzMwUokAzMzMzM7agQGZmZmZml6JAAAAAAADuoUAAAAAAAEKkQGZmZmZmPaFAMzMzMzNho0DNzMzMzGWhQGZmZmZm4aJAmpmZmZl8o0DNzMzMzBikQAAAAAAAG6RAAAAAAAA2pEBmZmZmZiqhQAAAAAAA5KJAmpmZmZn4oUDNzMzMzP+hQJqZmZmZVKRAzczMzMyvo0CamZmZmY2iQGZmZmZm9aFAZmZmZmZIoUAAAAAAALqkQGZmZmZm0p9AMzMzMzPNokDNzMzMzEajQGZmZmZmH6RAAAAAAAB4okAAAAAAALOjQAAAAAAAq6RAAAAAAACVpkCamZmZmcKgQJqZmZmZs6VAMzMzMzPnokCamZmZmXSiQAAAAAAAQ6VAzczMzMySpEAzMzMzM1ejQJqZmZmZEKZAZmZmZmaroUBmZmZmZlKjQGZmZmZmbqRAzczMzMw3o0AzMzMzM22hQDMzMzMzH6VAMzMzMzPho0AzMzMzM5KkQGZmZmZmVKJAZmZmZmawpEAzMzMzM62hQJqZmZmZIKVA",
          "dtype": "f8"
         },
         "yaxis": "y"
        },
        {
         "boxmean": "sd",
         "marker": {
          "color": "black"
         },
         "name": "HOT CARCASS WEIGHT",
         "showlegend": false,
         "type": "box",
         "xaxis": "x2",
         "y": {
          "bdata": "ZmZmZmZWlkDNzMzMzKiWQJqZmZmZ2ZVAmpmZmZkHl0DNzMzMzCyUQM3MzMzMOpdAMzMzMzPVlEAzMzMzM1OWQAAAAAAAipZAMzMzMzOhlkAzMzMzMzeVQGZmZmZmWJVAAAAAAABqlEBmZmZmZrKUQAAAAAAA1pRAmpmZmZlFlkBmZmZmZiyWQAAAAAAANpdAMzMzMzP/lUAzMzMzM6mWQAAAAAAAApdAZmZmZmbGl0BmZmZmZtqWQGZmZmZm/pZAmpmZmZnblEBmZmZmZgKXQAAAAAAAqpZAmpmZmZlzmEDNzMzMzPKVQJqZmZmZmZdAMzMzMzNDlUAzMzMzM6OYQM3MzMzMJJdAZmZmZmbWlkDNzMzMzIqWQJqZmZmZdZdAZmZmZmZel0BmZmZmZqqXQJqZmZmZE5RAMzMzMzP3mEAzMzMzM++UQAAAAAAASpdAZmZmZmYslkCamZmZmW2WQDMzMzMze5hAZmZmZmbyl0DNzMzMzHiUQM3MzMzMzpdAMzMzMzNRmEBmZmZmZnSaQM3MzMzM1pVAAAAAAAB6mUDNzMzMzI6WQM3MzMzMlJhAMzMzMzOdmECamZmZmVuZQAAAAAAA2ppAAAAAAADamkBmZmZmZr6VQJqZmZmZkZhAZmZmZmbIlUCamZmZmcGWQAAAAAAA4ppAMzMzMzPPmUAAAAAAAGaYQGZmZmZmwJdAmpmZmZlzlUAzMzMzM0ObQGZmZmZmMJRAmpmZmZlHlkAzMzMzMx+ZQM3MzMzMmpxAAAAAAADql0DNzMzMzDiaQDMzMzMzhZlAmpmZmZklnkBmZmZmZsKVQDMzMzMzQ5xAzczMzMzgmECamZmZmXeXQJqZmZmZ05tAmpmZmZkrm0DNzMzMzOKZQDMzMzMzk51AAAAAAABelkDNzMzMzCiZQDMzMzMzQ5tAMzMzMzNhmEAzMzMzM5+WQM3MzMzMZJxAmpmZmZkrmkDNzMzMzEyaQDMzMzMzL5hAmpmZmZnrmkAAAAAAAGqXQDMzMzMzi5pA",
          "dtype": "f8"
         },
         "yaxis": "y2"
        },
        {
         "boxmean": "sd",
         "marker": {
          "color": "black"
         },
         "name": "CARCASS WEIGHT WITH HEAD AND LEGS",
         "showlegend": false,
         "type": "box",
         "xaxis": "x3",
         "y": {
          "bdata": "ZmZmZmb2mkAzMzMzM6ebQJqZmZmZ85pAmpmZmZkhnEBmZmZmZraYQDMzMzMzP5pAmpmZmZnxmECamZmZmVebQGZmZmZmNJtAMzMzMzNvm0AzMzMzMw+aQJqZmZmZsZlAZmZmZmaQmUAzMzMzM9uZQGZmZmZm+JhAMzMzMzOXm0AzMzMzM9eaQJqZmZmZ1ZtAAAAAAADKmkDNzMzMzDCbQM3MzMzMOptAzczMzMyCnUAAAAAAAOKaQGZmZmZmeptAAAAAAAD4mUCamZmZmTOcQJqZmZmZj5pAMzMzMzOTnUDNzMzMzDCbQJqZmZmZqZxAzczMzMwUmkCamZmZmcOdQM3MzMzMNJtAzczMzMzSm0AzMzMzM0ObQJqZmZmZ8ZxAMzMzMzMlnEBmZmZmZvKcQDMzMzMz/5hAZmZmZmbSnUBmZmZmZraZQJqZmZmZtZxAmpmZmZlHm0BmZmZmZkqbQGZmZmZmJJ1AMzMzMzNjnUDNzMzMzBSaQGZmZmZm8pxAMzMzMzOlnEDNzMzMzL6fQM3MzMzMYJpAzczMzMxWnkDNzMzMzKqaQAAAAAAAVp1AmpmZmZl9nUAzMzMzM2eeQM3MzMzMaJ9AmpmZmZm7n0CamZmZmXmaQGZmZmZmfJ1AZmZmZmYQmkAAAAAAALqbQDMzMzMzCqBAmpmZmZmbnkAzMzMzM5udQGZmZmZmyJxAmpmZmZnpmUBmZmZmZtSfQJqZmZmZSZhAMzMzMzNlm0BmZmZmZsqdQJqZmZmZhaBAAAAAAADenEAAAAAAALyfQGZmZmZmbJ9AmpmZmZmtoUAzMzMzM4GaQDMzMzMz3aBAAAAAAABqnUAAAAAAAIqcQJqZmZmZi6BAmpmZmZnHn0CamZmZmbGeQGZmZmZmZKFAAAAAAAAwm0CamZmZmWGeQJqZmZmZw59AmpmZmZnxnUCamZmZmYGbQGZmZmZmvKBAAAAAAAByn0BmZmZmZsifQAAAAAAAbpxAAAAAAAAEoECamZmZmVecQDMzMzMz259A",
          "dtype": "f8"
         },
         "yaxis": "y3"
        },
        {
         "boxmean": "sd",
         "marker": {
          "color": "black"
         },
         "name": "COLD CARCASS WEIGHT",
         "showlegend": false,
         "type": "box",
         "xaxis": "x4",
         "y": {
          "bdata": "AAAAAADIlUCamZmZmfWVQM3MzMzM1pZAZmZmZmZElkBmZmZmZrCTQM3MzMzMApVAZmZmZmY2lEAAAAAAAJaVQM3MzMzM5pVAzczMzMz+lUDNzMzMzHCUQGZmZmZmvpRAAAAAAABSlEDNzMzMzAaUQAAAAAAAKpZAMzMzMzOLlUDNzMzMzIiVQAAAAAAAjpZAzczMzMxylUDNzMzMzPyVQM3MzMzMcpZAmpmZmZn/lkDNzMzMzESWQM3MzMzMRpZAAAAAAADak0BmZmZmZlaWQJqZmZmZX5RAZmZmZma+l0DNzMzMzFKVQJqZmZmZl5ZAzczMzMyqlECamZmZmfeXQM3MzMzMOpZAzczMzMxIlkAAAAAAANCVQM3MzMzM3JZAAAAAAABClUAAAAAAAAiXQGZmZmZmkpNAZmZmZmY0mEBmZmZmZl6UQAAAAAAA0pZAzczMzMyslUBmZmZmZt6VQAAAAAAA3pdAzczMzMxel0AAAAAAAMiTQAAAAAAAJJdAAAAAAAC+l0AAAAAAAOCZQGZmZmZmXJVAAAAAAADwmEAzMzMzMxeWQGZmZmZm+pdAMzMzMzMdmEAAAAAAAKiYQJqZmZmZU5pAzczMzMw2mkAzMzMzM0uVQAAAAAAA2pdAMzMzMzM3lUAAAAAAADSWQGZmZmZmXppAzczMzMxCmUAzMzMzM+WXQGZmZmZmMpdAAAAAAADwlEBmZmZmZoSaQGZmZmZmypNAMzMzMzOdlUDNzMzMzJaYQJqZmZmZr5tAMzMzMzNfl0AzMzMzM52ZQGZmZmZm/JhAzczMzMyOnUAAAAAAAEiVQAAAAAAAgJtAZmZmZmY6mEDNzMzMzM6WQJqZmZmZYZtAMzMzMzMzmkDNzMzMzEaZQDMzMzMz0ZxAZmZmZmbYlUDNzMzMzJaYQAAAAAAAzJpAZmZmZmaql0DNzMzMzDCWQJqZmZmZoZtAmpmZmZmrmUDNzMzMzJSZQM3MzMzMnJdAMzMzMzMXmkAAAAAAAPCWQGZmZmZm3plA",
          "dtype": "f8"
         },
         "yaxis": "y4"
        },
        {
         "boxmean": "sd",
         "marker": {
          "color": "black"
         },
         "name": "BREAST WEIGHT (2)",
         "showlegend": false,
         "type": "box",
         "xaxis": "x5",
         "y": {
          "bdata": "AAAAAADAakAAAAAAAIBtQJqZmZmZOW5AZmZmZmZ2bEBmZmZmZhZsQGZmZmZmxmxAZmZmZma2aUAAAAAAADBuQM3MzMzMvGxAmpmZmZm5b0BmZmZmZrZsQAAAAAAAgGxAzczMzMzsaUDNzMzMzExqQGZmZmZm5m1AMzMzMzMTbEBmZmZmZtZsQDMzMzMzW3FAmpmZmZmJbEDNzMzMzGxtQGZmZmZmBnBAZmZmZmZGbkAAAAAAAABvQJqZmZmZGW1AMzMzMzPjaECamZmZmYlsQDMzMzMzU21AzczMzMwMb0AAAAAAADBuQJqZmZmZmW1AzczMzMzsakAzMzMzM/NwQM3MzMzMfGxAmpmZmZmpa0DNzMzMzHxrQAAAAAAAgG5AMzMzMzPjakCamZmZmdltQJqZmZmZOWpAmpmZmZn5bkDNzMzMzCxqQGZmZmZmRm5AMzMzMzNjbEBmZmZmZuZtQDMzMzMzy3BAMzMzMzPjbUCamZmZmXloQJqZmZmZqW1AZmZmZmambkBmZmZmZg5wQGZmZmZmRmdAmpmZmZnpaUBmZmZmZoZrQM3MzMzMjGtAMzMzMzOjbUAAAAAAAKBsQJqZmZmZeW5AMzMzMzNjbkAzMzMzMyNmQJqZmZmZWW1AzczMzMxMakAAAAAAAIBnQJqZmZmZwXBAzczMzMxMbkAAAAAAAJBsQM3MzMzMLGxAAAAAAAAAaECamZmZmRlwQJqZmZmZuWdAZmZmZmZ2aEAzMzMzM5NqQAAAAAAA8HFAzczMzMy8a0AAAAAAAGBtQAAAAAAAgG1AZmZmZmY2cUAzMzMzM1NnQM3MzMzMHG9AmpmZmZk5bUCamZmZmZloQGZmZmZmhm5AzczMzMwMbUAAAAAAALBsQJqZmZmZGXFAmpmZmZmpgEDNzMzMzFxsQAAAAAAAsHBAmpmZmZlZbUCamZmZmalpQGZmZmZmNnBAzczMzMyMbECamZmZmblqQAAAAAAAgGxAMzMzMzOjb0AzMzMzM4NqQGZmZmZmtm5A",
          "dtype": "f8"
         },
         "yaxis": "y5"
        },
        {
         "boxmean": "sd",
         "marker": {
          "color": "black"
         },
         "name": "THIGH WEIGHT (2)",
         "showlegend": false,
         "type": "box",
         "xaxis": "x6",
         "y": {
          "bdata": "ZmZmZmaWfkCamZmZmdWAQM3MzMzMAIBAMzMzMzMvgUAzMzMzM5N9QAAAAAAAXIBAzczMzMx8fkAzMzMzM+t/QDMzMzMzq39AAAAAAADMgECamZmZmSl/QDMzMzMzo39AMzMzMzNrfUDNzMzMzPR+QM3MzMzM9H9AzczMzMwkgEBmZmZmZqaAQJqZmZmZYYBAmpmZmZm5f0DNzMzMzFx+QDMzMzMzi4BAmpmZmZkpgUAzMzMzMzuAQAAAAAAACIFAAAAAAACgfkDNzMzMzPSAQGZmZmZmFn5AZmZmZmaugUAzMzMzM3N/QGZmZmZmZoFAZmZmZmbGf0AAAAAAAPCBQAAAAAAAEH9AmpmZmZkdgECamZmZmXGAQDMzMzMzy4FAmpmZmZlBf0CamZmZmU2BQJqZmZmZQX1AZmZmZmbugUBmZmZmZq5+QAAAAAAAqIFAAAAAAAAMgEAAAAAAACiAQDMzMzMzb4FAZmZmZmbagUBmZmZmZvZ+QJqZmZmZmYBAMzMzMzN/gkBmZmZmZuKCQGZmZmZm7n9AmpmZmZnhgkDNzMzMzHSAQDMzMzMzq4FAzczMzMwMgUBmZmZmZhaDQGZmZmZmMoNAzczMzMyMgkCamZmZmVGAQGZmZmZmUoFAAAAAAAB4fkBmZmZmZq6AQAAAAAAANIJAZmZmZmZegUDNzMzMzJiBQDMzMzMzm4FAmpmZmZkhfkAAAAAAABSDQGZmZmZmzntAAAAAAABogEBmZmZmZoKAQGZmZmZm1oNAzczMzMxAgUAAAAAAAASDQDMzMzMzJ4JAzczMzMzIhEAzMzMzM7t/QAAAAAAA6INAZmZmZmbKgEDNzMzMzFiBQM3MzMzMXIJAAAAAAAB8gUCamZmZmbWCQM3MzMzMlIVAmpmZmZk5ZkBmZmZmZv6BQAAAAAAAVIRAzczMzMzIgUDNzMzMzJx/QGZmZmZmooNAzczMzMwwg0AzMzMzMxeDQJqZmZmZgYBAAAAAAAAQg0AzMzMzMyOBQDMzMzMz94JA",
          "dtype": "f8"
         },
         "yaxis": "y6"
        },
        {
         "boxmean": "sd",
         "marker": {
          "color": "black"
         },
         "name": "SPLEEN",
         "showlegend": false,
         "type": "box",
         "xaxis": "x7",
         "y": {
          "bdata": "7nw/NV66DUDByqFFtvMLQGQ730+NFxBAGQRWDi2yCEBiEFg5tMgNQCcxCKwcWg5A9ihcj8L1DUC8dJMYBFYEQJMYBFYOLRFAhxbZzvfTEUDRItv5fmoNQNV46SYxCA5AKVyPwvUoF0BYObTIdr4KQH0/NV66SQVA1XjpJjEIH0BmZmZmZmYQQG3n+6nxUhZABFYOLbKdEUDn+6nx0s0SQOxRuB6F6wZAzczMzMzMDUAQWDm0yHYRQF66SQwCKxFAlkOLbOf7CUAIrBxaZLsTQOkmMQisnBFA+n5qvHQTEECsHFpkO98SQHWTGARWDhBAyXa+nxovE0BxPQrXo3AUQAisHFpkuxFAg8DKoUW2A0C28/3UeOkSQG8Sg8DKoQ5AmG4Sg8BKEEBEi2zn+6kaQH9qvHSTGApAWmQ730+NFUD+1HjpJjEFQBfZzvdT4xJA8tJNYhDYFkAbL90kBoEIQCuHFtnO9wtA4XoUrkfhC0Bcj8L1KFwUQDVeukkMghFA4XoUrkfhDkDfT42XbpITQF66SQwCqxFAoBov3SQGDUCPwvUoXI8MQIcW2c73UxJAx0s3iUFgDEACK4cW2c4IQPyp8dJN4hFAjZduEoPAEkC8dJMYBFYHQNejcD0K1xdAO99PjZduCkD2KFyPwvUPQKrx0k1iEApAYOXQItv5B0DByqFFtnMUQB1aZDvfTw1Ay6FFtvP9CEACK4cW2c4XQCcxCKwcWg5AlkOLbOf7DkDn+6nx0k0NQGIQWDm0yBNAc2iR7Xy/EEA730+Nl+4SQHnpJjEILBhAtMh2vp8aDUDufD81XjoSQKwcWmQ73xNAhetRuB6FE0AOLbKd76cPQClcj8L1qBVAc2iR7Xw/C0DVeOkmMQgQQFyPwvUoXBpAzczMzMzMCUCuR+F6FC4RQDvfT42XbhRAI9v5fmq8B0B56SYxCKwHQIGVQ4ts5xNAf2q8dJOYE0DP91PjpRsTQPyp8dJNYg1ATmIQWDm0FEBvEoPAyqEGQNejcD0K1xdA",
          "dtype": "f8"
         },
         "yaxis": "y7"
        },
        {
         "boxmean": "sd",
         "marker": {
          "color": "black"
         },
         "name": "LIVER",
         "showlegend": false,
         "type": "box",
         "xaxis": "x8",
         "y": {
          "bdata": "xSCwcmhRQ0DNzMzMzFxBQDvfT42X7j9AfT81XropQEB7FK5H4Ro+QNEi2/l+6jlAYhBYObQYQEB9PzVeuqlAQLByaJHtfEFAgZVDi2xnQkAj2/l+avw9QBsv3SQG8UFAd76fGi/NSECNl24Sg8BAQLpJDAIrB0JADi2yne9XQkAhsHJokd1AQDm0yHa+nz9AoBov3SQ2QUDXo3A9CjdAQDm0yHa+3z5AF9nO91NjP0DByqFFttM6QJzEILByqEBA5dAi2/kuQ0CPwvUoXC9GQM3MzMzMrEFAObTIdr4PQECoxks3iTFBQGq8dJMYBD1AsHJoke08PUCcxCCwcihAQJhuEoPAekFASgwCK4d2QUA730+Nl/5BQA4tsp3v10BA1XjpJjFIQUCF61G4HuVCQKAaL90kZkJA2/l+arwkQUCHFtnO93NCQHe+nxov3T5AhetRuB6FPUC0yHa+n5pAQI2XbhKDgEVAF9nO91NjPkD8qfHSTSJDQPT91Hjp1kJALbKd76cGQEBSuB6F63FFQNEi2/l+CkFA/tR46SYBQkBxPQrXo6BBQOxRuB6Fi0RArkfhehRuRECLbOf7qaFFQPYoXI/CFUNARrbz/dSIRUAK16NwPfpEQLx0kxgEdkRA001iEFjJQEAxCKwcWtREQOxRuB6FK0RAO99PjZdeQUDpJjEIrOxBQNV46SYxKD1A1XjpJjHYRUDjpZvEIABGQH9qvHSTOEBAGy/dJAaRSkD8qfHSTeJDQIlBYOXQckFAbxKDwMrRR0Dn+6nx0p1DQPhT46WblElAw/UoXI9iQ0AlBoGVQ0tAQO58PzVeWkZA8tJNYhBIQkCNl24Sg0BFQOxRuB6Fe0JAO99PjZcuQkAnMQisHJpEQOxRuB6Fe0JAJzEIrBy6RUB3vp8aL21DQIXrUbgeFUJATmIQWDmEREBiEFg5tOg+QL6fGi/dVEFArkfhehQuREDl0CLb+f5GQOxRuB6Fi0FAcT0K16NASUBqvHSTGEQ+QLx0kxgEdkRA",
          "dtype": "f8"
         },
         "yaxis": "y8"
        },
        {
         "boxmean": "sd",
         "marker": {
          "color": "black"
         },
         "name": "HEART",
         "showlegend": false,
         "type": "box",
         "xaxis": "x9",
         "y": {
          "bdata": "XI/C9SicIkBeukkMAiskQIXrUbgeRSVAtMh2vp/aJ0D2KFyPwrUjQAwCK4cWmS1AnMQgsHLoJUDy0k1iEBgnQDvfT42X7iRAJzEIrByaI0BI4XoUrochQGZmZmZmZixAy6FFtvO9JUDpJjEIrNwmQG8Sg8DKISJAYhBYObTIKkDByqFFtjMlQPyp8dJNYihAz/dT46XbJkCPwvUoXE8qQJqZmZmZGSRAAAAAAAAAJECLbOf7qfEpQBSuR+F6FCZA0SLb+X4qJEBg5dAi2zkrQGZmZmZmJiZAMzMzMzMzLECamZmZmZkkQMUgsHJokSZAg8DKoUW2IkAUrkfhepQqQCcxCKwcGiNATDeJQWAlJ0BOYhBYOfQnQLKd76fGCyhAsp3vp8bLJUBOYhBYOTQsQOXQItv5/iJAhetRuB7FLEDD9Shcj0IkQNejcD0KlytApHA9CtejJ0DJdr6fGi8tQMUgsHJoESVAKVyPwvXoKkDl0CLb+X4kQFyPwvUoHCpAwcqhRbbzJkA1XrpJDEIsQAIrhxbZzitAg8DKoUV2KkD0/dR46eYiQDeJQWDlECdAaJHtfD+1LEB/arx0k9gjQG3n+6nxUiVAvp8aL93kKkDP91PjpdskQHE9CtejMDBA/tR46SbxLECamZmZmRkpQOxRuB6Fqy5ATmIQWDm0JUCgGi/dJAYnQAAAAAAAQClASgwCK4dWLkAbL90kBoEmQFpkO99PDSRArBxaZDsfIUDb+X5qvDQoQGiR7Xw/FTFALbKd76fGKUACK4cW2Y4oQBfZzvdTIydAuB6F61G4KECYbhKDwAooQB+F61G4XixAvp8aL91kJUDTTWIQWLkkQNv5fmq8NCdAQmDl0CIbLEBMN4lBYOUqQEjhehSuhyxAbxKDwMohKkAdWmQ7348pQMP1KFyPgidAGQRWDi0yJkAxCKwcWqQhQLgehetR+CtA/tR46SYxLEBkO99PjZcpQDVeukkMAidAi2zn+6kxMUA1XrpJDEImQHE9CtejMDBA",
          "dtype": "f8"
         },
         "yaxis": "y9"
        },
        {
         "boxmean": "sd",
         "marker": {
          "color": "black"
         },
         "name": "INTESTINE",
         "showlegend": false,
         "type": "box",
         "xaxis": "x10",
         "y": {
          "bdata": "bef7qfHKXkAzMzMzM/NRQHE9CtejsE5Ax0s3iUE4UECHFtnO9yNRQMUgsHJoAU1AtvP91HgJUkAfhetRuCZSQPhT46WbhFRAarx0kxjcVUC28/3UeAlLQNnO91PjVUxAbxKDwMoZWkAj2/l+auxOQCUGgZVDK09AYhBYObQQU0BKDAIrhx5RQB+F61G4XlBApHA9CtfTTEBvEoPAyjlQQIcW2c73q1BAHVpkO98vUEAX2c73UwNSQKAaL90kPlBAsp3vp8ZbUkCWQ4ts52tTQN0kBoGVG1BAmG4Sg8CKUEBiEFg5tEhJQDMzMzMzk0pAokW28/1kT0BU46WbxBBMQMuhRbbzHVJAgZVDi2x/VUDJdr6fGtdTQGiR7Xw/zVBAGy/dJAY5UECWQ4ts5ytRQGZmZmZmblFAXI/C9Si8TEBKDAIrh2ZXQJHtfD81bkpAZDvfT403TkBaZDvfT3VQQIPAyqFFtk9Ax0s3iUGoUED6fmq8dANRQFTjpZvEIFJAZDvfT43XSkCwcmiR7YxVQIts5/upoVFABFYOLbIVUUCe76fGS0dPQH0/NV66uU5ASgwCK4cGVEDP91PjpStTQM3MzMzMDFBA001iEFhhVEAdWmQ73+9SQCcxCKwcMlJAGy/dJAYRRkDXo3A9Cv9QQPCnxks3WU5AmpmZmZlZUUCHFtnO96NOQGZmZmZmBklA6SYxCKwsTEAnMQisHBJTQFyPwvUoPE5A8tJNYhC4U0AAAAAAAEBRQBsv3SQGIVFA4XoUrkdxVUBqvHSTGCRPQHe+nxovNVZAkxgEVg49VEAK16NwPfpHQC/dJAaBPVRAlkOLbOebUEAUrkfhehRRQO58PzVeilNA001iEFiRU0CPwvUoXI9OQNNNYhBYoVFAiUFg5dCSVEDVeOkmMeBQQIPAyqFFtlFAI9v5fmrsUEDjpZvEICBPQFyPwvUopFBAy6FFtvP9UEBGtvP91LhSQIXrUbgeHVFA46WbxCBgVEDFILByaIFKQCcxCKwcMlJA",
          "dtype": "f8"
         },
         "yaxis": "y10"
        },
        {
         "boxmean": "sd",
         "marker": {
          "color": "black"
         },
         "name": "EMPTY MUSCULAR STOMACH",
         "showlegend": false,
         "type": "box",
         "xaxis": "x11",
         "y": {
          "bdata": "bef7qfGiRkCR7Xw/Ne5BQBfZzvdTQ0JAyXa+nxp/REC28/3UeHlEQNNNYhBYqUZAz/dT46ULRUBt5/up8ZJIQJ7vp8ZLZ0dA7nw/NV4aP0Ce76fGS4dIQHNoke18z0NAqvHSTWKQRUCuR+F6FL5KQF66SQwCa0NAdZMYBFY+RkCF61G4HtVHQFTjpZvEAElAKVyPwvXYRUC8dJMYBMZNQLpJDAIrp05AYOXQItvZTkDy0k1iEAhOQBBYObTItkZA7nw/NV66SkBeukkMAstFQG3n+6nx0khADAIrhxbJT0Bt5/up8cJHQK5H4XoU7k9A30+Nl24iUECTGARWDm1FQKwcWmQ7D0lAhetRuB5VQECiRbbz/ZRBQIcW2c73U0dAPQrXo3BtRkBCYOXQIntGQLByaJHt7ElAN4lBYOXARkDFILByaBFJQAwCK4cW6UVAgZVDi2ynUECDwMqhRbY9QCuHFtnOd0RA/Knx0k1CSkBOYhBYObRBQEa28/3U+ElA5/up8dK9REA9CtejcB1MQL6fGi/d1EtAFK5H4XpURUCPwvUoXA9AQAisHFpk+0VADAIrhxbxUkBg5dAi26lGQI2XbhKDEEVACKwcWmT7R0ArhxbZzmdGQOkmMQisTEBA8KfGSzd5QECkcD0K1xNDQP7UeOkmAUhAI9v5fmosTEC0yHa+n8pNQPCnxks3qUlAtMh2vp9aTUBMN4lBYPVEQGZmZmZmNkRA3SQGgZXzSUDTTWIQWFlMQJqZmZmZWURADAIrhxapRkDZzvdT49VLQEoMAiuHJlFAVOOlm8QARkB7FK5H4VpLQMUgsHJo0UZAf2q8dJNYQUCBlUOLbHdIQPYoXI/ChUZAw/UoXI8CSEA3iUFg5VBFQAIrhxbZrkZA0SLb+X46SkCHFtnO96NIQKabxCCwAktAoBov3SQWRUCamZmZmdlIQJzEILByaEdADAIrhxbxUkA=",
          "dtype": "f8"
         },
         "yaxis": "y11"
        },
        {
         "boxmean": "sd",
         "marker": {
          "color": "black"
         },
         "name": "GLANDULAR STOMACH",
         "showlegend": false,
         "type": "box",
         "xaxis": "x12",
         "y": {
          "bdata": "16NwPQpXKkAdWmQ7348jQJHtfD813hhAnu+nxku3IEB9PzVeukkeQB+F61G43iBAqMZLN4nBGkAhsHJokS0hQHnpJjEIrCdASgwCK4dWJkAfhetRuJ4eQP7UeOkmsRlAJQaBlUNLI0Boke18P7UcQCGwcmiRrSRA2/l+arz0HEBaZDvfT40YQG3n+6nxUiNA30+Nl24SHkCe76fGS7clQPT91Hjp5iBAqvHSTWJQIEDRItv5fmohQP7UeOkmMRtAtvP91HhpGUDl0CLb+f4kQL6fGi/dJCBANV66SQyCKED2KFyPwrUgQHsUrkfh+hpAsp3vp8bLGkDfT42XbhIaQBBYObTIdiFA9ihcj8J1JkBcj8L1KNweQLpJDAIrhx9A6SYxCKwcKkAdWmQ7388kQAAAAAAAAB9A8tJNYhBYIkAzMzMzMzMgQBsv3SQGAR5Ag8DKoUW2IkB7FK5H4foeQAIrhxbZzh9AZDvfT42XIUAZBFYOLTIlQLByaJHtPCRAVOOlm8QgH0BCYOXQIlseQIcW2c73UyFA0SLb+X5qGkBzaJHtfD8ZQHNoke18PxpApHA9CtcjJ0ArhxbZzvcbQMuhRbbz/RxAy6FFtvO9KEDjpZvEILAcQK5H4XoUrh1A4XoUrkdhHECDwMqhRbYgQHWTGARWDh1A6SYxCKycH0DD9Shcj8IYQLByaJHt/BVASgwCK4eWGEC+nxov3SQbQESLbOf7KRpAxSCwcmgRHEAAAAAAAAAcQKabxCCwsiNASOF6FK7HHEB9PzVeuokgQCUGgZVDCxlAmpmZmZkZI0BSuB6F61EWQBfZzvdTYxxAwcqhRbbzHUAtsp3vp4YiQCuHFtnONyBABoGVQ4usIUDD9Shcj8IbQPYoXI/CNSBACtejcD2KHkCuR+F6FO4hQB+F61G4niJA7nw/NV66HUB9PzVeukkZQC2yne+nBiBACKwcWmS7IkAhsHJokW0fQAwCK4cWWR9AhxbZzvdTHUAzMzMzM7MVQK5H4XoUrh1A",
          "dtype": "f8"
         },
         "yaxis": "y12"
        },
        {
         "boxmean": "sd",
         "marker": {
          "color": "black"
         },
         "name": "CRUDE PROTEIN",
         "showlegend": false,
         "type": "box",
         "xaxis": "x13",
         "y": {
          "bdata": "AAAAAMCGVUB2yaSmLolVQIW063aumlVAkG3ck299VUAx7iGNZGxUQEb0bL8d4lVAcUCZuNK1VUD+NtePyw9WQKQrHWuN4lVAzCoNBFAMVkCanggGUfJVQP3Ta1HFj1VA0zGXCE+KVUAMvdALvaBVQNbR5n2KtVVAxKzkaK8/VUDOk2HzZJhVQEO9a86nIFZAPY2w3NNAVUB9u2iOnn5VQPz9T97WPVZAfIMKKQwwVUAZ9AV9QcdVQHqzED8B0VVA0NvHm59gVUCMgRLeaMpVQPTtHXqTNVVAyh+Y/IG5VUBC9Zm2xt5VQNcNpshnDVZAvr29vb3dVEB0uVwul5VVQFqgo2yVpVVASTpUSWX5VUDDOjSgHCRWQGlORIPN2lVA+eCDD37+VUAXZc7gJStVQNc/BmyUdVJAoLrUMFJ8VUANUOBBi6NVQDiYIp916VVAdQfAUF/mVUDOmYgtD4tVQPslv8mlFlZA9Tuyy+jQVUDte0ROEK5VQCGCY5dGUVVA2NwBkI3wVUDTRRdddPlVQNXWUWjSClZAAgAAAAAcVkBEhQoVKshVQPJ/YfQT5lVAZeJK9wb8VUDORASS86RVQDseR1E411VAcSE3eDslVkD6yEc+8mFWQMhxHMdxyVVALj03TeL9VUCBxTsyefNVQB4ERhnjglVAkm8NWDMuVkCEu7HvERlWQLb3Oj+dQFZAb+qk1tJBVUDIUBcj1dFVQDgvzuSD41VAHFeM/tLcVUA/iCauKRVWQLAZLJT5RFZAAJMvxJW3VUCVUkoppVxWQI5h7wH3JlZAG9uqsa3qVUBsq8a2auxVQMYsR36uQFZAPCxa1fdnVkAYBlK9Gl9WQAWanCf+PlZAjPmn8I4bVkCv5eBmvyhWQH1zRfJkj1ZAzkQEkvOkVUCLd6zXD9xVQD2xEzsxOlZACkqAD3IuVkCoULxZ5TVWQJze9KY3NVZAFo9ZgYr0VUBRfaat8T9WQMiXMmZ3IFZArC1ynQmYVkCLcEvNhs1WQDeDt4jNNFZA",
          "dtype": "f8"
         },
         "yaxis": "y13"
        },
        {
         "boxmean": "sd",
         "marker": {
          "color": "black"
         },
         "name": "ETHER EXTRACT",
         "showlegend": false,
         "type": "box",
         "xaxis": "x14",
         "y": {
          "bdata": "UrgehetR2D+PwvUoXI/6P1yPwvUoXO8/mpmZmZmZ8T9cj8L1KFwZQOF6FK5H4f4/rkfhehSuCUAzMzMzMzPrP7gehetRuO4/MzMzMzMz9z+PwvUoXI8AQOxRuB6F6+k/zczMzMzMAkCkcD0K16MIQFyPwvUoXPs/16NwPQrXC0BSuB6F61EGQD0K16NwPQJA7FG4HoXrFkD2KFyPwvUIQFK4HoXrUfA/PQrXo3A9EUCuR+F6FK4HQMP1KFyPwu0/rkfhehSuEEDD9Shcj8L1P8P1KFyPwg1A4XoUrkfhAEAAAAAAAAD0P+xRuB6F6/k/uB6F61G4GkAfhetRuB4PQLgehetRuPI/mpmZmZmZAUCPwvUoXI/2P3sUrkfhevw/ZmZmZmZmAED2KFyPwvUWQBSuR+F6FA5AuB6F61G4DEApXI/C9SgQQIXrUbgehQNAKVyPwvUoAkAK16NwPQoPQD0K16NwPeo/H4XrUbge/T8UrkfhehTyPz0K16NwPRVAuB6F61G47j9mZmZmZmbyP8P1KFyPwu0/H4XrUbge7T+4HoXrUbjyP7gehetRuABAmpmZmZmZ/T/2KFyPwvUGQFK4HoXrUfA/pHA9Ctej+D+kcD0K16PoP7gehetRuPo/FK5H4XoU7j97FK5H4Xr8P9ejcD0K1xJA9ihcj8L16D8K16NwPQr7Pz0K16NwPfo/4XoUrkfhBkB7FK5H4XoCQArXo3A9CvM/SOF6FK5HB0C4HoXrUbjyP65H4XoUru8/zczMzMzM9D/D9Shcj8LlPzMzMzMzM/s/PQrXo3A9/j+F61G4HoX/P1yPwvUoXPs/7FG4HoXr/T89CtejcD3iP1yPwvUoXPs/ZmZmZmZm8j9I4XoUrkf5P3sUrkfhetQ/16NwPQrXD0AK16NwPQr/PzMzMzMzM+M/mpmZmZmZ+T/NzMzMzMz8P7gehetRuN4/H4XrUbgeA0AfhetRuB7xPxSuR+F6FPI/j8L1KFyP/j+uR+F6FK4BQClcj8L1KPg/",
          "dtype": "f8"
         },
         "yaxis": "y14"
        }
       ],
       "layout": {
        "annotations": [
         {
          "font": {
           "size": 16
          },
          "showarrow": false,
          "text": "WEIGHT",
          "x": 0.14444444444444446,
          "xanchor": "center",
          "xref": "paper",
          "y": 1,
          "yanchor": "bottom",
          "yref": "paper"
         },
         {
          "font": {
           "size": 16
          },
          "showarrow": false,
          "text": "HOT CARCASS WEIGHT",
          "x": 0.5,
          "xanchor": "center",
          "xref": "paper",
          "y": 1,
          "yanchor": "bottom",
          "yref": "paper"
         },
         {
          "font": {
           "size": 16
          },
          "showarrow": false,
          "text": "CARCASS WEIGHT WITH HEAD AND LEGS",
          "x": 0.8555555555555556,
          "xanchor": "center",
          "xref": "paper",
          "y": 1,
          "yanchor": "bottom",
          "yref": "paper"
         },
         {
          "font": {
           "size": 16
          },
          "showarrow": false,
          "text": "COLD CARCASS WEIGHT",
          "x": 0.14444444444444446,
          "xanchor": "center",
          "xref": "paper",
          "y": 0.78,
          "yanchor": "bottom",
          "yref": "paper"
         },
         {
          "font": {
           "size": 16
          },
          "showarrow": false,
          "text": "BREAST WEIGHT (2)",
          "x": 0.5,
          "xanchor": "center",
          "xref": "paper",
          "y": 0.78,
          "yanchor": "bottom",
          "yref": "paper"
         },
         {
          "font": {
           "size": 16
          },
          "showarrow": false,
          "text": "THIGH WEIGHT (2)",
          "x": 0.8555555555555556,
          "xanchor": "center",
          "xref": "paper",
          "y": 0.78,
          "yanchor": "bottom",
          "yref": "paper"
         },
         {
          "font": {
           "size": 16
          },
          "showarrow": false,
          "text": "SPLEEN",
          "x": 0.14444444444444446,
          "xanchor": "center",
          "xref": "paper",
          "y": 0.56,
          "yanchor": "bottom",
          "yref": "paper"
         },
         {
          "font": {
           "size": 16
          },
          "showarrow": false,
          "text": "LIVER",
          "x": 0.5,
          "xanchor": "center",
          "xref": "paper",
          "y": 0.56,
          "yanchor": "bottom",
          "yref": "paper"
         },
         {
          "font": {
           "size": 16
          },
          "showarrow": false,
          "text": "HEART",
          "x": 0.8555555555555556,
          "xanchor": "center",
          "xref": "paper",
          "y": 0.56,
          "yanchor": "bottom",
          "yref": "paper"
         },
         {
          "font": {
           "size": 16
          },
          "showarrow": false,
          "text": "INTESTINE",
          "x": 0.14444444444444446,
          "xanchor": "center",
          "xref": "paper",
          "y": 0.33999999999999997,
          "yanchor": "bottom",
          "yref": "paper"
         },
         {
          "font": {
           "size": 16
          },
          "showarrow": false,
          "text": "EMPTY MUSCULAR STOMACH",
          "x": 0.5,
          "xanchor": "center",
          "xref": "paper",
          "y": 0.33999999999999997,
          "yanchor": "bottom",
          "yref": "paper"
         },
         {
          "font": {
           "size": 16
          },
          "showarrow": false,
          "text": "GLANDULAR STOMACH",
          "x": 0.8555555555555556,
          "xanchor": "center",
          "xref": "paper",
          "y": 0.33999999999999997,
          "yanchor": "bottom",
          "yref": "paper"
         },
         {
          "font": {
           "size": 16
          },
          "showarrow": false,
          "text": "CRUDE PROTEIN",
          "x": 0.14444444444444446,
          "xanchor": "center",
          "xref": "paper",
          "y": 0.12,
          "yanchor": "bottom",
          "yref": "paper"
         },
         {
          "font": {
           "size": 16
          },
          "showarrow": false,
          "text": "ETHER EXTRACT",
          "x": 0.5,
          "xanchor": "center",
          "xref": "paper",
          "y": 0.12,
          "yanchor": "bottom",
          "yref": "paper"
         }
        ],
        "bargap": 0.2,
        "height": 1500,
        "template": {
         "data": {
          "bar": [
           {
            "error_x": {
             "color": "#2a3f5f"
            },
            "error_y": {
             "color": "#2a3f5f"
            },
            "marker": {
             "line": {
              "color": "#E5ECF6",
              "width": 0.5
             },
             "pattern": {
              "fillmode": "overlay",
              "size": 10,
              "solidity": 0.2
             }
            },
            "type": "bar"
           }
          ],
          "barpolar": [
           {
            "marker": {
             "line": {
              "color": "#E5ECF6",
              "width": 0.5
             },
             "pattern": {
              "fillmode": "overlay",
              "size": 10,
              "solidity": 0.2
             }
            },
            "type": "barpolar"
           }
          ],
          "carpet": [
           {
            "aaxis": {
             "endlinecolor": "#2a3f5f",
             "gridcolor": "white",
             "linecolor": "white",
             "minorgridcolor": "white",
             "startlinecolor": "#2a3f5f"
            },
            "baxis": {
             "endlinecolor": "#2a3f5f",
             "gridcolor": "white",
             "linecolor": "white",
             "minorgridcolor": "white",
             "startlinecolor": "#2a3f5f"
            },
            "type": "carpet"
           }
          ],
          "choropleth": [
           {
            "colorbar": {
             "outlinewidth": 0,
             "ticks": ""
            },
            "type": "choropleth"
           }
          ],
          "contour": [
           {
            "colorbar": {
             "outlinewidth": 0,
             "ticks": ""
            },
            "colorscale": [
             [
              0,
              "#0d0887"
             ],
             [
              0.1111111111111111,
              "#46039f"
             ],
             [
              0.2222222222222222,
              "#7201a8"
             ],
             [
              0.3333333333333333,
              "#9c179e"
             ],
             [
              0.4444444444444444,
              "#bd3786"
             ],
             [
              0.5555555555555556,
              "#d8576b"
             ],
             [
              0.6666666666666666,
              "#ed7953"
             ],
             [
              0.7777777777777778,
              "#fb9f3a"
             ],
             [
              0.8888888888888888,
              "#fdca26"
             ],
             [
              1,
              "#f0f921"
             ]
            ],
            "type": "contour"
           }
          ],
          "contourcarpet": [
           {
            "colorbar": {
             "outlinewidth": 0,
             "ticks": ""
            },
            "type": "contourcarpet"
           }
          ],
          "heatmap": [
           {
            "colorbar": {
             "outlinewidth": 0,
             "ticks": ""
            },
            "colorscale": [
             [
              0,
              "#0d0887"
             ],
             [
              0.1111111111111111,
              "#46039f"
             ],
             [
              0.2222222222222222,
              "#7201a8"
             ],
             [
              0.3333333333333333,
              "#9c179e"
             ],
             [
              0.4444444444444444,
              "#bd3786"
             ],
             [
              0.5555555555555556,
              "#d8576b"
             ],
             [
              0.6666666666666666,
              "#ed7953"
             ],
             [
              0.7777777777777778,
              "#fb9f3a"
             ],
             [
              0.8888888888888888,
              "#fdca26"
             ],
             [
              1,
              "#f0f921"
             ]
            ],
            "type": "heatmap"
           }
          ],
          "histogram": [
           {
            "marker": {
             "pattern": {
              "fillmode": "overlay",
              "size": 10,
              "solidity": 0.2
             }
            },
            "type": "histogram"
           }
          ],
          "histogram2d": [
           {
            "colorbar": {
             "outlinewidth": 0,
             "ticks": ""
            },
            "colorscale": [
             [
              0,
              "#0d0887"
             ],
             [
              0.1111111111111111,
              "#46039f"
             ],
             [
              0.2222222222222222,
              "#7201a8"
             ],
             [
              0.3333333333333333,
              "#9c179e"
             ],
             [
              0.4444444444444444,
              "#bd3786"
             ],
             [
              0.5555555555555556,
              "#d8576b"
             ],
             [
              0.6666666666666666,
              "#ed7953"
             ],
             [
              0.7777777777777778,
              "#fb9f3a"
             ],
             [
              0.8888888888888888,
              "#fdca26"
             ],
             [
              1,
              "#f0f921"
             ]
            ],
            "type": "histogram2d"
           }
          ],
          "histogram2dcontour": [
           {
            "colorbar": {
             "outlinewidth": 0,
             "ticks": ""
            },
            "colorscale": [
             [
              0,
              "#0d0887"
             ],
             [
              0.1111111111111111,
              "#46039f"
             ],
             [
              0.2222222222222222,
              "#7201a8"
             ],
             [
              0.3333333333333333,
              "#9c179e"
             ],
             [
              0.4444444444444444,
              "#bd3786"
             ],
             [
              0.5555555555555556,
              "#d8576b"
             ],
             [
              0.6666666666666666,
              "#ed7953"
             ],
             [
              0.7777777777777778,
              "#fb9f3a"
             ],
             [
              0.8888888888888888,
              "#fdca26"
             ],
             [
              1,
              "#f0f921"
             ]
            ],
            "type": "histogram2dcontour"
           }
          ],
          "mesh3d": [
           {
            "colorbar": {
             "outlinewidth": 0,
             "ticks": ""
            },
            "type": "mesh3d"
           }
          ],
          "parcoords": [
           {
            "line": {
             "colorbar": {
              "outlinewidth": 0,
              "ticks": ""
             }
            },
            "type": "parcoords"
           }
          ],
          "pie": [
           {
            "automargin": true,
            "type": "pie"
           }
          ],
          "scatter": [
           {
            "fillpattern": {
             "fillmode": "overlay",
             "size": 10,
             "solidity": 0.2
            },
            "type": "scatter"
           }
          ],
          "scatter3d": [
           {
            "line": {
             "colorbar": {
              "outlinewidth": 0,
              "ticks": ""
             }
            },
            "marker": {
             "colorbar": {
              "outlinewidth": 0,
              "ticks": ""
             }
            },
            "type": "scatter3d"
           }
          ],
          "scattercarpet": [
           {
            "marker": {
             "colorbar": {
              "outlinewidth": 0,
              "ticks": ""
             }
            },
            "type": "scattercarpet"
           }
          ],
          "scattergeo": [
           {
            "marker": {
             "colorbar": {
              "outlinewidth": 0,
              "ticks": ""
             }
            },
            "type": "scattergeo"
           }
          ],
          "scattergl": [
           {
            "marker": {
             "colorbar": {
              "outlinewidth": 0,
              "ticks": ""
             }
            },
            "type": "scattergl"
           }
          ],
          "scattermap": [
           {
            "marker": {
             "colorbar": {
              "outlinewidth": 0,
              "ticks": ""
             }
            },
            "type": "scattermap"
           }
          ],
          "scattermapbox": [
           {
            "marker": {
             "colorbar": {
              "outlinewidth": 0,
              "ticks": ""
             }
            },
            "type": "scattermapbox"
           }
          ],
          "scatterpolar": [
           {
            "marker": {
             "colorbar": {
              "outlinewidth": 0,
              "ticks": ""
             }
            },
            "type": "scatterpolar"
           }
          ],
          "scatterpolargl": [
           {
            "marker": {
             "colorbar": {
              "outlinewidth": 0,
              "ticks": ""
             }
            },
            "type": "scatterpolargl"
           }
          ],
          "scatterternary": [
           {
            "marker": {
             "colorbar": {
              "outlinewidth": 0,
              "ticks": ""
             }
            },
            "type": "scatterternary"
           }
          ],
          "surface": [
           {
            "colorbar": {
             "outlinewidth": 0,
             "ticks": ""
            },
            "colorscale": [
             [
              0,
              "#0d0887"
             ],
             [
              0.1111111111111111,
              "#46039f"
             ],
             [
              0.2222222222222222,
              "#7201a8"
             ],
             [
              0.3333333333333333,
              "#9c179e"
             ],
             [
              0.4444444444444444,
              "#bd3786"
             ],
             [
              0.5555555555555556,
              "#d8576b"
             ],
             [
              0.6666666666666666,
              "#ed7953"
             ],
             [
              0.7777777777777778,
              "#fb9f3a"
             ],
             [
              0.8888888888888888,
              "#fdca26"
             ],
             [
              1,
              "#f0f921"
             ]
            ],
            "type": "surface"
           }
          ],
          "table": [
           {
            "cells": {
             "fill": {
              "color": "#EBF0F8"
             },
             "line": {
              "color": "white"
             }
            },
            "header": {
             "fill": {
              "color": "#C8D4E3"
             },
             "line": {
              "color": "white"
             }
            },
            "type": "table"
           }
          ]
         },
         "layout": {
          "annotationdefaults": {
           "arrowcolor": "#2a3f5f",
           "arrowhead": 0,
           "arrowwidth": 1
          },
          "autotypenumbers": "strict",
          "coloraxis": {
           "colorbar": {
            "outlinewidth": 0,
            "ticks": ""
           }
          },
          "colorscale": {
           "diverging": [
            [
             0,
             "#8e0152"
            ],
            [
             0.1,
             "#c51b7d"
            ],
            [
             0.2,
             "#de77ae"
            ],
            [
             0.3,
             "#f1b6da"
            ],
            [
             0.4,
             "#fde0ef"
            ],
            [
             0.5,
             "#f7f7f7"
            ],
            [
             0.6,
             "#e6f5d0"
            ],
            [
             0.7,
             "#b8e186"
            ],
            [
             0.8,
             "#7fbc41"
            ],
            [
             0.9,
             "#4d9221"
            ],
            [
             1,
             "#276419"
            ]
           ],
           "sequential": [
            [
             0,
             "#0d0887"
            ],
            [
             0.1111111111111111,
             "#46039f"
            ],
            [
             0.2222222222222222,
             "#7201a8"
            ],
            [
             0.3333333333333333,
             "#9c179e"
            ],
            [
             0.4444444444444444,
             "#bd3786"
            ],
            [
             0.5555555555555556,
             "#d8576b"
            ],
            [
             0.6666666666666666,
             "#ed7953"
            ],
            [
             0.7777777777777778,
             "#fb9f3a"
            ],
            [
             0.8888888888888888,
             "#fdca26"
            ],
            [
             1,
             "#f0f921"
            ]
           ],
           "sequentialminus": [
            [
             0,
             "#0d0887"
            ],
            [
             0.1111111111111111,
             "#46039f"
            ],
            [
             0.2222222222222222,
             "#7201a8"
            ],
            [
             0.3333333333333333,
             "#9c179e"
            ],
            [
             0.4444444444444444,
             "#bd3786"
            ],
            [
             0.5555555555555556,
             "#d8576b"
            ],
            [
             0.6666666666666666,
             "#ed7953"
            ],
            [
             0.7777777777777778,
             "#fb9f3a"
            ],
            [
             0.8888888888888888,
             "#fdca26"
            ],
            [
             1,
             "#f0f921"
            ]
           ]
          },
          "colorway": [
           "#636efa",
           "#EF553B",
           "#00cc96",
           "#ab63fa",
           "#FFA15A",
           "#19d3f3",
           "#FF6692",
           "#B6E880",
           "#FF97FF",
           "#FECB52"
          ],
          "font": {
           "color": "#2a3f5f"
          },
          "geo": {
           "bgcolor": "white",
           "lakecolor": "white",
           "landcolor": "#E5ECF6",
           "showlakes": true,
           "showland": true,
           "subunitcolor": "white"
          },
          "hoverlabel": {
           "align": "left"
          },
          "hovermode": "closest",
          "mapbox": {
           "style": "light"
          },
          "paper_bgcolor": "white",
          "plot_bgcolor": "#E5ECF6",
          "polar": {
           "angularaxis": {
            "gridcolor": "white",
            "linecolor": "white",
            "ticks": ""
           },
           "bgcolor": "#E5ECF6",
           "radialaxis": {
            "gridcolor": "white",
            "linecolor": "white",
            "ticks": ""
           }
          },
          "scene": {
           "xaxis": {
            "backgroundcolor": "#E5ECF6",
            "gridcolor": "white",
            "gridwidth": 2,
            "linecolor": "white",
            "showbackground": true,
            "ticks": "",
            "zerolinecolor": "white"
           },
           "yaxis": {
            "backgroundcolor": "#E5ECF6",
            "gridcolor": "white",
            "gridwidth": 2,
            "linecolor": "white",
            "showbackground": true,
            "ticks": "",
            "zerolinecolor": "white"
           },
           "zaxis": {
            "backgroundcolor": "#E5ECF6",
            "gridcolor": "white",
            "gridwidth": 2,
            "linecolor": "white",
            "showbackground": true,
            "ticks": "",
            "zerolinecolor": "white"
           }
          },
          "shapedefaults": {
           "line": {
            "color": "#2a3f5f"
           }
          },
          "ternary": {
           "aaxis": {
            "gridcolor": "white",
            "linecolor": "white",
            "ticks": ""
           },
           "baxis": {
            "gridcolor": "white",
            "linecolor": "white",
            "ticks": ""
           },
           "bgcolor": "#E5ECF6",
           "caxis": {
            "gridcolor": "white",
            "linecolor": "white",
            "ticks": ""
           }
          },
          "title": {
           "x": 0.05
          },
          "xaxis": {
           "automargin": true,
           "gridcolor": "white",
           "linecolor": "white",
           "ticks": "",
           "title": {
            "standoff": 15
           },
           "zerolinecolor": "white",
           "zerolinewidth": 2
          },
          "yaxis": {
           "automargin": true,
           "gridcolor": "white",
           "linecolor": "white",
           "ticks": "",
           "title": {
            "standoff": 15
           },
           "zerolinecolor": "white",
           "zerolinewidth": 2
          }
         }
        },
        "title": {
         "text": "Feature Distributions"
        },
        "width": 1100,
        "xaxis": {
         "anchor": "y",
         "domain": [
          0,
          0.2888888888888889
         ]
        },
        "xaxis10": {
         "anchor": "y10",
         "domain": [
          0,
          0.2888888888888889
         ]
        },
        "xaxis11": {
         "anchor": "y11",
         "domain": [
          0.35555555555555557,
          0.6444444444444445
         ]
        },
        "xaxis12": {
         "anchor": "y12",
         "domain": [
          0.7111111111111111,
          1
         ]
        },
        "xaxis13": {
         "anchor": "y13",
         "domain": [
          0,
          0.2888888888888889
         ]
        },
        "xaxis14": {
         "anchor": "y14",
         "domain": [
          0.35555555555555557,
          0.6444444444444445
         ]
        },
        "xaxis15": {
         "anchor": "y15",
         "domain": [
          0.7111111111111111,
          1
         ]
        },
        "xaxis2": {
         "anchor": "y2",
         "domain": [
          0.35555555555555557,
          0.6444444444444445
         ]
        },
        "xaxis3": {
         "anchor": "y3",
         "domain": [
          0.7111111111111111,
          1
         ]
        },
        "xaxis4": {
         "anchor": "y4",
         "domain": [
          0,
          0.2888888888888889
         ]
        },
        "xaxis5": {
         "anchor": "y5",
         "domain": [
          0.35555555555555557,
          0.6444444444444445
         ]
        },
        "xaxis6": {
         "anchor": "y6",
         "domain": [
          0.7111111111111111,
          1
         ]
        },
        "xaxis7": {
         "anchor": "y7",
         "domain": [
          0,
          0.2888888888888889
         ]
        },
        "xaxis8": {
         "anchor": "y8",
         "domain": [
          0.35555555555555557,
          0.6444444444444445
         ]
        },
        "xaxis9": {
         "anchor": "y9",
         "domain": [
          0.7111111111111111,
          1
         ]
        },
        "yaxis": {
         "anchor": "x",
         "domain": [
          0.88,
          1
         ]
        },
        "yaxis10": {
         "anchor": "x10",
         "domain": [
          0.22,
          0.33999999999999997
         ]
        },
        "yaxis11": {
         "anchor": "x11",
         "domain": [
          0.22,
          0.33999999999999997
         ]
        },
        "yaxis12": {
         "anchor": "x12",
         "domain": [
          0.22,
          0.33999999999999997
         ]
        },
        "yaxis13": {
         "anchor": "x13",
         "domain": [
          0,
          0.12
         ]
        },
        "yaxis14": {
         "anchor": "x14",
         "domain": [
          0,
          0.12
         ]
        },
        "yaxis15": {
         "anchor": "x15",
         "domain": [
          0,
          0.12
         ]
        },
        "yaxis2": {
         "anchor": "x2",
         "domain": [
          0.88,
          1
         ]
        },
        "yaxis3": {
         "anchor": "x3",
         "domain": [
          0.88,
          1
         ]
        },
        "yaxis4": {
         "anchor": "x4",
         "domain": [
          0.66,
          0.78
         ]
        },
        "yaxis5": {
         "anchor": "x5",
         "domain": [
          0.66,
          0.78
         ]
        },
        "yaxis6": {
         "anchor": "x6",
         "domain": [
          0.66,
          0.78
         ]
        },
        "yaxis7": {
         "anchor": "x7",
         "domain": [
          0.44,
          0.56
         ]
        },
        "yaxis8": {
         "anchor": "x8",
         "domain": [
          0.44,
          0.56
         ]
        },
        "yaxis9": {
         "anchor": "x9",
         "domain": [
          0.44,
          0.56
         ]
        }
       }
      }
     },
     "metadata": {},
     "output_type": "display_data"
    }
   ],
   "source": [
    "plotter.plot_features(\n",
    "    df, \n",
    "    df.columns, \n",
    "    plot_type= 'Box',\n",
    "    num_columns=3, \n",
    "    plot_title='Feature Distributions'\n",
    ")"
   ]
  },
  {
   "cell_type": "markdown",
   "metadata": {},
   "source": [
    "#### **On outliers**\n",
    "\n",
    "Inspection of the distributions above informs us that the variables appear more or less normal, with very few abnormal values. Despite the possibility of treating these values, this is fundamentally a problem of learning the best representation of the target variable (**WEIGHT**) using other features. There is no strong reason to assume that outliers, even if present, necessarily break the proportional relationships inherent to animal morphology.\n",
    "\n",
    "Moreover, the **WEIGHT** variable follows a visibly normal distribution. Barring pathological cases—such as an animal with near-zero fitness, or, say, a chicken that has suffered severe physical trauma and lost a significant portion of its body mass—there is no biological or statistical rationale to exclude or transform these points.\n",
    "\n",
    "Thus, we retain all observations, positing — for now — that outliers are not noise to be removed but potential expressions of the natural variation in the population, which a good model would learn to account for. Albeit, naturally, we will revise this approach in a later instance.\n"
   ]
  },
  {
   "cell_type": "markdown",
   "metadata": {},
   "source": [
    "#### **On missing values**\n",
    "\n",
    "Given the well behaved distributions of our features, we can easily and confidently use a Nearest Neighbours approach to fill our missing values."
   ]
  },
  {
   "cell_type": "code",
   "execution_count": 158,
   "metadata": {},
   "outputs": [],
   "source": [
    "df = imputer.knn_impute(df, n_neighbors=5)"
   ]
  },
  {
   "cell_type": "markdown",
   "metadata": {},
   "source": [
    "Inspecting the resulting imputations, they map more or less to the median value, so an even simpler strategy could have been pursued with **SimpleImputer**, and **mode=median**."
   ]
  },
  {
   "cell_type": "markdown",
   "metadata": {},
   "source": [
    "## 3. Initialization\n",
    "\n",
    "- Creates training splits\n",
    "- Initializes the Genetic Programming (GP) model.\n",
    "- Sets up logging mechanisms for tracking progress and results.\n",
    "- Prepares validation logic and supporting utilities."
   ]
  },
  {
   "cell_type": "markdown",
   "metadata": {},
   "source": [
    "### Folds and splits"
   ]
  },
  {
   "cell_type": "code",
   "execution_count": 159,
   "metadata": {},
   "outputs": [],
   "source": [
    "# Get the seed and splits\n",
    "seed = sys_params['random_seed']\n",
    "k_outter = data_params['inner_folds']\n",
    "k_inner = data_params['inner_folds']\n",
    "\n",
    "# Make the folds\n",
    "outter_cv = KFold(\n",
    "    n_splits=k_outter, \n",
    "    random_state=seed, \n",
    "    shuffle=True\n",
    ")\n",
    "\n",
    "inner_cv = KFold(\n",
    "    n_splits=k_inner, \n",
    "    random_state=seed, \n",
    "    shuffle=True\n",
    ")"
   ]
  },
  {
   "cell_type": "markdown",
   "metadata": {},
   "source": [
    "### Setting the target\n",
    "\n",
    "We now set out target and convert to Tensors."
   ]
  },
  {
   "cell_type": "code",
   "execution_count": 160,
   "metadata": {},
   "outputs": [
    {
     "data": {
      "text/plain": [
       "(tensor([[2.2233e+03, 1.4296e+03, 1.7256e+03,  ..., 4.7176e+01, 1.3170e+01,\n",
       "          3.8000e-01],\n",
       "         [2.2019e+03, 1.4502e+03, 1.7698e+03,  ..., 4.5273e+01, 9.7810e+00,\n",
       "          1.6600e+00],\n",
       "         [2.1599e+03, 1.3984e+03, 1.7249e+03,  ..., 4.9286e+01, 6.2170e+00,\n",
       "          9.8000e-01],\n",
       "         ...,\n",
       "         [2.6482e+03, 1.7229e+03, 2.0500e+03,  ..., 4.9700e+01, 7.3320e+00,\n",
       "          1.9100e+00],\n",
       "         [2.2626e+03, 1.4985e+03, 1.8139e+03,  ..., 4.6816e+01, 5.4250e+00,\n",
       "          2.2100e+00],\n",
       "         [2.7043e+03, 1.6988e+03, 2.0388e+03,  ..., 7.5767e+01, 7.4200e+00,\n",
       "          1.5100e+00]]),\n",
       " tensor([86.1055, 86.1435, 86.4169, 85.9599, 81.6936, 87.5331, 86.8410, 88.2468,\n",
       "         87.5399, 88.1924, 87.7862, 86.2464, 86.1611, 86.5115, 86.8366, 84.9951,\n",
       "         86.3812, 88.5102, 85.0129, 85.9784, 88.9662, 84.7507, 87.1134, 87.2657,\n",
       "         85.5097, 87.1627, 84.8371, 86.8986, 87.4809, 88.2095, 83.4647, 86.3373,\n",
       "         86.5872, 87.8968, 88.5642, 87.4188, 87.9764, 84.6742, 73.8372, 85.9425,\n",
       "         86.5554, 87.6478, 87.5996, 86.1728, 88.3539, 87.2642, 86.7197, 85.2699,\n",
       "         87.7586, 87.8977, 88.1691, 88.4375, 87.1276, 87.5950, 87.9379, 86.5774,\n",
       "         87.3628, 88.5818, 89.5304, 87.1476, 87.9669, 87.8043, 86.0451, 88.7219,\n",
       "         88.3917, 89.0096, 85.0285, 87.2786, 87.5549, 87.4504, 88.3307, 89.0777,\n",
       "         86.8685, 89.4476, 88.6088, 87.6669, 87.6940, 89.0107, 89.6245, 89.4860,\n",
       "         88.9843, 88.4306, 88.6367, 90.2405, 86.5774, 87.4385, 88.9093, 88.7257,\n",
       "         88.8421, 88.8315, 87.8210, 88.9991, 88.5073, 90.3756, 91.2113, 88.8250]))"
      ]
     },
     "execution_count": 160,
     "metadata": {},
     "output_type": "execute_result"
    }
   ],
   "source": [
    "X = torch.tensor(\n",
    "    np.delete(\n",
    "        df.values, \n",
    "        -2, \n",
    "        axis=1\n",
    "    ), \n",
    "    dtype=torch.float32\n",
    ")  \n",
    "\n",
    "y = torch.tensor(\n",
    "    df.values[:, -2], \n",
    "    dtype=torch.float32\n",
    ")  \n",
    "\n",
    "X, y"
   ]
  },
  {
   "cell_type": "code",
   "execution_count": 161,
   "metadata": {},
   "outputs": [
    {
     "name": "stdout",
     "output_type": "stream",
     "text": [
      "Total Instances:\t96\n",
      "--\n",
      "Outer Train set:\t77\n",
      "Test set:\t\t19\n",
      "--\n",
      "Inner Train set:\t62\n",
      "Validation set:\t\t15\n",
      "\n"
     ]
    }
   ],
   "source": [
    "total_instances = X.shape[0]\n",
    "outer_test_size = total_instances // k_outter\n",
    "outer_train_size = total_instances - outer_test_size\n",
    "inner_val_size = outer_train_size // k_inner\n",
    "inner_train_size = outer_train_size - inner_val_size\n",
    "\n",
    "print(f'Total Instances:\\t{total_instances}\\n--')\n",
    "print(f'Outer Train set:\\t{outer_train_size}')\n",
    "print(f'Test set:\\t\\t{outer_test_size}\\n--')\n",
    "print(f'Inner Train set:\\t{inner_train_size}')\n",
    "print(f'Validation set:\\t\\t{inner_val_size}\\n')\n"
   ]
  },
  {
   "cell_type": "markdown",
   "metadata": {},
   "source": [
    "## 4. Model fitting with Hyperparameter Tuning\n",
    "\n",
    "- Runs the symbolic regression, making use of nested cross validation with kfolds to optimize for model parameters and hyperparameter.\n",
    "- Evolves expressions to minimize prediction error.\n",
    "- Tracks progress and logs intermediate results."
   ]
  },
  {
   "cell_type": "markdown",
   "metadata": {},
   "source": [
    "### Splits"
   ]
  },
  {
   "cell_type": "code",
   "execution_count": 162,
   "metadata": {},
   "outputs": [],
   "source": [
    "# Enumerating the outer splits\n",
    "data_cv_outer = [\n",
    "    [learning_ix, test_ix] for learning_ix, test_ix in outter_cv.split(X, y)\n",
    "]"
   ]
  },
  {
   "cell_type": "code",
   "execution_count": 163,
   "metadata": {},
   "outputs": [
    {
     "name": "stdout",
     "output_type": "stream",
     "text": [
      "\n",
      "-----------------------------------------\n",
      "\n",
      "Outer CV\n",
      "Learning shape: torch.Size([76, 13])\n",
      "Test shape: torch.Size([20, 13])\n",
      "\n"
     ]
    }
   ],
   "source": [
    "# Asserting Outer CV\n",
    "learning_ix, test_ix = data_cv_outer[0]\n",
    "\n",
    "X_learning = X[learning_ix]\n",
    "y_learning = y[learning_ix]\n",
    "X_test = X[test_ix]\n",
    "y_test = y[test_ix]\n",
    "\n",
    "print('\\n' + '-' * 41 + '\\n')\n",
    "print(f'Outer CV\\nLearning shape: {X_learning.shape}\\nTest shape: {X_test.shape}\\n')"
   ]
  },
  {
   "cell_type": "code",
   "execution_count": 164,
   "metadata": {},
   "outputs": [],
   "source": [
    "# Enumerating the inner splits\n",
    "data_cv_inner = [[train_ix, val_ix] for train_ix, val_ix in inner_cv.split(X_learning, y_learning)]"
   ]
  },
  {
   "cell_type": "markdown",
   "metadata": {},
   "source": [
    "### Model Fitting"
   ]
  },
  {
   "cell_type": "code",
   "execution_count": 165,
   "metadata": {},
   "outputs": [
    {
     "name": "stdout",
     "output_type": "stream",
     "text": [
      "-----\n",
      "Inner CV 0\n",
      "Training shape: torch.Size([60, 13])\n",
      "Validation shape: torch.Size([16, 13])\n",
      "\n",
      "Verbose Reporter\n",
      "-----------------------------------------------------------------------------------------------------------------------------------------\n",
      "|         Dataset         |  Generation  |     Train Fitness     |       Test Fitness       |        Timing          |      Nodes       |\n",
      "-----------------------------------------------------------------------------------------------------------------------------------------\n",
      "|     sustavianfeed       |       0      |   23.677398681640625  |   17.286808013916016     |   0.009444713592529297 |      3           |\n",
      "|     sustavianfeed       |       1      |   18.821378707885742  |   26.72747230529785      |   0.008974552154541016 |      18          |\n",
      "|     sustavianfeed       |       2      |   16.535158157348633  |   13.349160194396973     |   0.009202241897583008 |      18          |\n",
      "|     sustavianfeed       |       3      |   16.19427490234375   |   14.171558380126953     |   0.009343862533569336 |      18          |\n",
      "|     sustavianfeed       |       4      |   16.19427490234375   |   14.171558380126953     |   0.009871482849121094 |      18          |\n",
      "|     sustavianfeed       |       5      |   16.19427490234375   |   14.171558380126953     |   0.009431123733520508 |      18          |\n",
      "|     sustavianfeed       |       6      |   16.173595428466797  |   14.316018104553223     |   0.009884834289550781 |      37          |\n",
      "|     sustavianfeed       |       7      |   16.173595428466797  |   14.316018104553223     |   0.011168718338012695 |      37          |\n",
      "|     sustavianfeed       |       8      |   16.173595428466797  |   14.316018104553223     |   0.008918523788452148 |      37          |\n",
      "|     sustavianfeed       |       9      |   16.173595428466797  |   14.316018104553223     |   0.008750200271606445 |      37          |\n",
      "|     sustavianfeed       |       10     |   16.173595428466797  |   14.316018104553223     |   0.008472919464111328 |      37          |\n",
      "|     sustavianfeed       |       11     |   16.08757781982422   |   14.305939674377441     |   0.009755373001098633 |      48          |\n",
      "|     sustavianfeed       |       12     |   15.914445877075195  |   18.89806365966797      |   0.010585546493530273 |      33          |\n",
      "|     sustavianfeed       |       13     |   15.914445877075195  |   18.89806365966797      |   0.009473323822021484 |      33          |\n",
      "|     sustavianfeed       |       14     |   15.914445877075195  |   18.89806365966797      |   0.01202535629272461  |      33          |\n",
      "|     sustavianfeed       |       15     |   15.642651557922363  |   16.934247970581055     |   0.01289987564086914  |      48          |\n",
      "|     sustavianfeed       |       16     |   15.642651557922363  |   16.934247970581055     |   0.012346744537353516 |      48          |\n",
      "|     sustavianfeed       |       17     |   15.640259742736816  |   17.08770751953125      |   0.009908437728881836 |      48          |\n",
      "|     sustavianfeed       |       18     |   15.640259742736816  |   17.08770751953125      |   0.008524179458618164 |      48          |\n",
      "|     sustavianfeed       |       19     |   15.640259742736816  |   17.08770751953125      |   0.00830984115600586  |      48          |\n",
      "|     sustavianfeed       |       20     |   15.640259742736816  |   17.08770751953125      |   0.010715961456298828 |      48          |\n",
      "|     sustavianfeed       |       21     |   15.640259742736816  |   17.08770751953125      |   0.008460283279418945 |      48          |\n",
      "|     sustavianfeed       |       22     |   15.640259742736816  |   17.08770751953125      |   0.0078012943267822266|      48          |\n",
      "|     sustavianfeed       |       23     |   15.563217163085938  |   16.424400329589844     |   0.00917673110961914  |      35          |\n",
      "|     sustavianfeed       |       24     |   15.563217163085938  |   16.424400329589844     |   0.009248495101928711 |      35          |\n",
      "|     sustavianfeed       |       25     |   15.553393363952637  |   16.521760940551758     |   0.009932279586791992 |      50          |\n",
      "|     sustavianfeed       |       26     |   15.553393363952637  |   16.521760940551758     |   0.009831666946411133 |      50          |\n",
      "|     sustavianfeed       |       27     |   15.553393363952637  |   16.521760940551758     |   0.009944438934326172 |      50          |\n",
      "|     sustavianfeed       |       28     |   15.553393363952637  |   16.521760940551758     |   0.009490489959716797 |      50          |\n",
      "|     sustavianfeed       |       29     |   15.553393363952637  |   16.521760940551758     |   0.009117603302001953 |      50          |\n",
      "|     sustavianfeed       |       30     |   15.552438735961914  |   17.260040283203125     |   0.0086669921875      |      50          |\n",
      "|     sustavianfeed       |       31     |   15.545735359191895  |   16.625539779663086     |   0.009854316711425781 |      50          |\n",
      "|     sustavianfeed       |       32     |   15.545735359191895  |   16.625539779663086     |   0.009893178939819336 |      50          |\n",
      "|     sustavianfeed       |       33     |   15.545735359191895  |   16.625539779663086     |   0.009727716445922852 |      50          |\n",
      "|     sustavianfeed       |       34     |   15.545735359191895  |   16.625539779663086     |   0.007505655288696289 |      50          |\n",
      "|     sustavianfeed       |       35     |   15.545735359191895  |   16.625539779663086     |   0.008277416229248047 |      50          |\n",
      "|     sustavianfeed       |       36     |   15.540587425231934  |   16.735233306884766     |   0.008617639541625977 |      65          |\n",
      "|     sustavianfeed       |       37     |   15.540587425231934  |   16.735233306884766     |   0.009531021118164062 |      65          |\n",
      "|     sustavianfeed       |       38     |   15.540587425231934  |   16.735233306884766     |   0.00885462760925293  |      65          |\n",
      "|     sustavianfeed       |       39     |   15.540587425231934  |   16.735233306884766     |   0.010415315628051758 |      65          |\n",
      "|     sustavianfeed       |       40     |   15.540587425231934  |   16.735233306884766     |   0.00961756706237793  |      65          |\n",
      "|     sustavianfeed       |       41     |   15.540587425231934  |   16.735233306884766     |   0.010014057159423828 |      65          |\n",
      "|     sustavianfeed       |       42     |   15.540587425231934  |   16.735233306884766     |   0.010319948196411133 |      65          |\n",
      "|     sustavianfeed       |       43     |   15.540587425231934  |   16.735233306884766     |   0.009656906127929688 |      65          |\n",
      "|     sustavianfeed       |       44     |   15.540056228637695  |   17.02022933959961      |   0.00948476791381836  |      50          |\n",
      "|     sustavianfeed       |       45     |   15.540056228637695  |   17.02022933959961      |   0.009069681167602539 |      50          |\n",
      "|     sustavianfeed       |       46     |   15.540056228637695  |   17.02022933959961      |   0.0094146728515625   |      50          |\n",
      "|     sustavianfeed       |       47     |   15.538273811340332  |   16.92386817932129      |   0.010328531265258789 |      50          |\n",
      "|     sustavianfeed       |       48     |   15.538273811340332  |   16.92386817932129      |   0.010224103927612305 |      50          |\n",
      "|     sustavianfeed       |       49     |   15.538273811340332  |   16.92386817932129      |   0.009800195693969727 |      50          |\n",
      "|     sustavianfeed       |       50     |   15.538273811340332  |   16.92386817932129      |   0.00954294204711914  |      50          |\n",
      "|     sustavianfeed       |       51     |   15.538273811340332  |   16.92386817932129      |   0.007487773895263672 |      50          |\n",
      "|     sustavianfeed       |       52     |   15.538273811340332  |   16.92386817932129      |   0.009418725967407227 |      50          |\n",
      "|     sustavianfeed       |       53     |   15.538273811340332  |   16.92386817932129      |   0.00827932357788086  |      50          |\n",
      "|     sustavianfeed       |       54     |   15.538273811340332  |   16.92386817932129      |   0.009402036666870117 |      50          |\n",
      "|     sustavianfeed       |       55     |   15.538273811340332  |   16.92386817932129      |   0.009241342544555664 |      50          |\n",
      "|     sustavianfeed       |       56     |   15.535689353942871  |   16.865863800048828     |   0.01052713394165039  |      52          |\n",
      "|     sustavianfeed       |       57     |   15.535689353942871  |   16.865863800048828     |   0.01124715805053711  |      52          |\n",
      "|     sustavianfeed       |       58     |   15.535689353942871  |   16.865863800048828     |   0.009785652160644531 |      52          |\n",
      "|     sustavianfeed       |       59     |   15.535689353942871  |   16.865863800048828     |   0.00883030891418457  |      52          |\n",
      "|     sustavianfeed       |       60     |   15.535689353942871  |   16.865863800048828     |   0.010955810546875    |      52          |\n",
      "|     sustavianfeed       |       61     |   15.535689353942871  |   16.865863800048828     |   0.009441614151000977 |      52          |\n",
      "|     sustavianfeed       |       62     |   15.535689353942871  |   16.865863800048828     |   0.009376764297485352 |      52          |\n",
      "|     sustavianfeed       |       63     |   15.535689353942871  |   16.865863800048828     |   0.00878000259399414  |      52          |\n",
      "|     sustavianfeed       |       64     |   15.535689353942871  |   16.865863800048828     |   0.009620428085327148 |      52          |\n",
      "|     sustavianfeed       |       65     |   15.535689353942871  |   16.865863800048828     |   0.00988006591796875  |      52          |\n",
      "|     sustavianfeed       |       66     |   15.535689353942871  |   16.865863800048828     |   0.00866246223449707  |      52          |\n",
      "|     sustavianfeed       |       67     |   15.535689353942871  |   16.865863800048828     |   0.008231639862060547 |      52          |\n",
      "|     sustavianfeed       |       68     |   15.535689353942871  |   16.865863800048828     |   0.007286548614501953 |      52          |\n",
      "|     sustavianfeed       |       69     |   15.535689353942871  |   16.865863800048828     |   0.007434368133544922 |      52          |\n",
      "|     sustavianfeed       |       70     |   15.535689353942871  |   16.865863800048828     |   0.0067365169525146484|      52          |\n",
      "|     sustavianfeed       |       71     |   15.535689353942871  |   16.865863800048828     |   0.007083892822265625 |      52          |\n",
      "|     sustavianfeed       |       72     |   15.535689353942871  |   16.865863800048828     |   0.00755000114440918  |      52          |\n",
      "|     sustavianfeed       |       73     |   15.535689353942871  |   16.865863800048828     |   0.006484270095825195 |      52          |\n",
      "|     sustavianfeed       |       74     |   15.535689353942871  |   16.865863800048828     |   0.006571769714355469 |      52          |\n",
      "|     sustavianfeed       |       75     |   15.535689353942871  |   16.865863800048828     |   0.0067403316497802734|      52          |\n",
      "|     sustavianfeed       |       76     |   15.535689353942871  |   16.865863800048828     |   0.006777524948120117 |      52          |\n",
      "|     sustavianfeed       |       77     |   15.535689353942871  |   16.865863800048828     |   0.005143165588378906 |      52          |\n",
      "|     sustavianfeed       |       78     |   15.535689353942871  |   16.865863800048828     |   0.007708311080932617 |      52          |\n",
      "|     sustavianfeed       |       79     |   15.535689353942871  |   16.865863800048828     |   0.0071828365325927734|      52          |\n",
      "|     sustavianfeed       |       80     |   15.535689353942871  |   16.865863800048828     |   0.008714675903320312 |      52          |\n",
      "|     sustavianfeed       |       81     |   15.535689353942871  |   16.865863800048828     |   0.008443832397460938 |      52          |\n",
      "|     sustavianfeed       |       82     |   15.535689353942871  |   16.865863800048828     |   0.007435321807861328 |      52          |\n",
      "|     sustavianfeed       |       83     |   15.535689353942871  |   16.865863800048828     |   0.0066034793853759766|      52          |\n",
      "|     sustavianfeed       |       84     |   15.535689353942871  |   16.865863800048828     |   0.006605386734008789 |      52          |\n",
      "|     sustavianfeed       |       85     |   15.535689353942871  |   16.865863800048828     |   0.008414745330810547 |      52          |\n",
      "|     sustavianfeed       |       86     |   15.535689353942871  |   16.865863800048828     |   0.006278514862060547 |      52          |\n",
      "|     sustavianfeed       |       87     |   15.535689353942871  |   16.865863800048828     |   0.00714111328125     |      52          |\n",
      "|     sustavianfeed       |       88     |   15.535689353942871  |   16.865863800048828     |   0.007817745208740234 |      52          |\n",
      "|     sustavianfeed       |       89     |   15.535689353942871  |   16.865863800048828     |   0.008985519409179688 |      52          |\n",
      "|     sustavianfeed       |       90     |   15.535689353942871  |   16.865863800048828     |   0.007737874984741211 |      52          |\n",
      "|     sustavianfeed       |       91     |   15.535689353942871  |   16.865863800048828     |   0.006742715835571289 |      52          |\n",
      "|     sustavianfeed       |       92     |   15.535689353942871  |   16.865863800048828     |   0.007165670394897461 |      52          |\n",
      "|     sustavianfeed       |       93     |   15.535689353942871  |   16.865863800048828     |   0.005918025970458984 |      52          |\n",
      "|     sustavianfeed       |       94     |   15.535689353942871  |   16.865863800048828     |   0.005965709686279297 |      52          |\n",
      "|     sustavianfeed       |       95     |   15.535689353942871  |   16.865863800048828     |   0.007203340530395508 |      52          |\n",
      "|     sustavianfeed       |       96     |   15.535689353942871  |   16.865863800048828     |   0.005507946014404297 |      52          |\n",
      "|     sustavianfeed       |       97     |   15.535689353942871  |   16.865863800048828     |   0.0059969425201416016|      52          |\n",
      "|     sustavianfeed       |       98     |   15.535689353942871  |   16.865863800048828     |   0.0069103240966796875|      52          |\n",
      "|     sustavianfeed       |       99     |   15.535689353942871  |   16.865863800048828     |   0.005972623825073242 |      52          |\n",
      "|     sustavianfeed       |       100    |   15.535689353942871  |   16.865863800048828     |   0.007067203521728516 |      52          |\n",
      "|     sustavianfeed       |       101    |   15.535689353942871  |   16.865863800048828     |   0.006813526153564453 |      52          |\n",
      "|     sustavianfeed       |       102    |   15.535689353942871  |   16.865863800048828     |   0.00831460952758789  |      52          |\n",
      "|     sustavianfeed       |       103    |   15.535689353942871  |   16.865863800048828     |   0.006009101867675781 |      52          |\n",
      "|     sustavianfeed       |       104    |   15.535689353942871  |   16.865863800048828     |   0.00691676139831543  |      52          |\n",
      "|     sustavianfeed       |       105    |   15.535689353942871  |   16.865863800048828     |   0.006877899169921875 |      52          |\n",
      "|     sustavianfeed       |       106    |   15.535689353942871  |   16.865863800048828     |   0.006745815277099609 |      52          |\n",
      "|     sustavianfeed       |       107    |   15.535689353942871  |   16.865863800048828     |   0.00707244873046875  |      52          |\n",
      "|     sustavianfeed       |       108    |   15.535689353942871  |   16.865863800048828     |   0.007297039031982422 |      52          |\n",
      "|     sustavianfeed       |       109    |   15.535689353942871  |   16.865863800048828     |   0.008915185928344727 |      52          |\n",
      "|     sustavianfeed       |       110    |   15.535689353942871  |   16.865863800048828     |   0.008402585983276367 |      52          |\n",
      "|     sustavianfeed       |       111    |   15.533769607543945  |   16.797700881958008     |   0.007859230041503906 |      65          |\n",
      "|     sustavianfeed       |       112    |   15.533769607543945  |   16.797700881958008     |   0.008048534393310547 |      65          |\n",
      "|     sustavianfeed       |       113    |   15.533769607543945  |   16.797700881958008     |   0.00576019287109375  |      65          |\n",
      "|     sustavianfeed       |       114    |   15.533036231994629  |   17.02936553955078      |   0.00676727294921875  |      131         |\n",
      "|     sustavianfeed       |       115    |   15.533036231994629  |   17.02936553955078      |   0.007631063461303711 |      131         |\n",
      "|     sustavianfeed       |       116    |   15.532280921936035  |   16.984111785888672     |   0.0059015750885009766|      116         |\n",
      "|     sustavianfeed       |       117    |   15.532280921936035  |   16.984111785888672     |   0.006731510162353516 |      116         |\n",
      "|     sustavianfeed       |       118    |   15.532280921936035  |   16.984111785888672     |   0.008574962615966797 |      116         |\n",
      "|     sustavianfeed       |       119    |   15.532280921936035  |   16.984111785888672     |   0.006306886672973633 |      116         |\n",
      "|     sustavianfeed       |       120    |   15.532280921936035  |   16.984111785888672     |   0.008414030075073242 |      116         |\n",
      "|     sustavianfeed       |       121    |   15.532280921936035  |   16.984111785888672     |   0.009645700454711914 |      116         |\n",
      "|     sustavianfeed       |       122    |   15.532280921936035  |   16.984111785888672     |   0.006476163864135742 |      116         |\n",
      "|     sustavianfeed       |       123    |   15.532280921936035  |   16.984111785888672     |   0.006197452545166016 |      116         |\n",
      "|     sustavianfeed       |       124    |   15.532280921936035  |   16.984111785888672     |   0.006287813186645508 |      116         |\n",
      "|     sustavianfeed       |       125    |   15.531974792480469  |   16.94651222229004      |   0.0053462982177734375|      131         |\n",
      "|     sustavianfeed       |       126    |   15.531974792480469  |   16.94651222229004      |   0.0066242218017578125|      131         |\n",
      "|     sustavianfeed       |       127    |   15.531974792480469  |   16.94651222229004      |   0.0066797733306884766|      131         |\n",
      "|     sustavianfeed       |       128    |   15.531974792480469  |   16.94651222229004      |   0.004467487335205078 |      131         |\n",
      "|     sustavianfeed       |       129    |   15.531974792480469  |   16.94651222229004      |   0.005987882614135742 |      131         |\n",
      "|     sustavianfeed       |       130    |   15.531974792480469  |   16.94651222229004      |   0.006272315979003906 |      131         |\n",
      "|     sustavianfeed       |       131    |   15.531974792480469  |   16.94651222229004      |   0.0052492618560791016|      131         |\n",
      "|     sustavianfeed       |       132    |   15.531974792480469  |   16.94651222229004      |   0.005745887756347656 |      131         |\n",
      "|     sustavianfeed       |       133    |   15.531974792480469  |   16.94651222229004      |   0.004855155944824219 |      131         |\n",
      "|     sustavianfeed       |       134    |   15.531974792480469  |   16.94651222229004      |   0.00541234016418457  |      131         |\n",
      "|     sustavianfeed       |       135    |   15.531974792480469  |   16.94651222229004      |   0.007416486740112305 |      131         |\n",
      "|     sustavianfeed       |       136    |   15.531974792480469  |   16.94651222229004      |   0.005095481872558594 |      131         |\n",
      "|     sustavianfeed       |       137    |   15.531974792480469  |   16.94651222229004      |   0.007124423980712891 |      131         |\n",
      "|     sustavianfeed       |       138    |   15.531974792480469  |   16.94651222229004      |   0.007292509078979492 |      131         |\n",
      "|     sustavianfeed       |       139    |   15.531974792480469  |   16.94651222229004      |   0.005821943283081055 |      131         |\n",
      "|     sustavianfeed       |       140    |   15.531974792480469  |   16.94651222229004      |   0.0064203739166259766|      131         |\n",
      "|     sustavianfeed       |       141    |   15.531974792480469  |   16.94651222229004      |   0.004658699035644531 |      131         |\n",
      "|     sustavianfeed       |       142    |   15.531974792480469  |   16.94651222229004      |   0.00546574592590332  |      131         |\n",
      "|     sustavianfeed       |       143    |   15.531974792480469  |   16.94651222229004      |   0.005226612091064453 |      131         |\n",
      "|     sustavianfeed       |       144    |   15.531974792480469  |   16.94651222229004      |   0.0043752193450927734|      131         |\n",
      "|     sustavianfeed       |       145    |   15.531974792480469  |   16.94651222229004      |   0.0046613216400146484|      131         |\n",
      "|     sustavianfeed       |       146    |   15.531974792480469  |   16.94651222229004      |   0.004271268844604492 |      131         |\n",
      "|     sustavianfeed       |       147    |   15.531974792480469  |   16.94651222229004      |   0.0055315494537353516|      131         |\n",
      "|     sustavianfeed       |       148    |   15.531974792480469  |   16.94651222229004      |   0.00881648063659668  |      131         |\n",
      "|     sustavianfeed       |       149    |   15.531974792480469  |   16.94651222229004      |   0.004107475280761719 |      131         |\n",
      "|     sustavianfeed       |       150    |   15.531974792480469  |   16.94651222229004      |   0.005548000335693359 |      131         |\n",
      "Verbose Reporter\n",
      "-----------------------------------------------------------------------------------------------------------------------------------------\n",
      "|         Dataset         |  Generation  |     Train Fitness     |       Test Fitness       |        Timing          |      Nodes       |\n",
      "-----------------------------------------------------------------------------------------------------------------------------------------\n",
      "|     sustavianfeed       |       0      |   23.677398681640625  |   17.286808013916016     |   0.006651163101196289 |      3           |\n",
      "|     sustavianfeed       |       1      |   18.821378707885742  |   26.72747230529785      |   0.007680177688598633 |      18          |\n",
      "|     sustavianfeed       |       2      |   16.535158157348633  |   13.349160194396973     |   0.007489681243896484 |      18          |\n",
      "|     sustavianfeed       |       3      |   16.19427490234375   |   14.171558380126953     |   0.007782697677612305 |      18          |\n",
      "|     sustavianfeed       |       4      |   16.19427490234375   |   14.171558380126953     |   0.008222341537475586 |      18          |\n",
      "|     sustavianfeed       |       5      |   16.19427490234375   |   14.171558380126953     |   0.00825643539428711  |      18          |\n",
      "|     sustavianfeed       |       6      |   16.173595428466797  |   14.316018104553223     |   0.00891566276550293  |      37          |\n",
      "|     sustavianfeed       |       7      |   16.173595428466797  |   14.316018104553223     |   0.009774923324584961 |      37          |\n",
      "|     sustavianfeed       |       8      |   16.173595428466797  |   14.316018104553223     |   0.008892297744750977 |      37          |\n",
      "|     sustavianfeed       |       9      |   16.173595428466797  |   14.316018104553223     |   0.008997201919555664 |      37          |\n",
      "|     sustavianfeed       |       10     |   16.173595428466797  |   14.316018104553223     |   0.008272647857666016 |      37          |\n",
      "|     sustavianfeed       |       11     |   16.08757781982422   |   14.305939674377441     |   0.009135007858276367 |      48          |\n",
      "|     sustavianfeed       |       12     |   15.914445877075195  |   18.89806365966797      |   0.009618043899536133 |      33          |\n",
      "|     sustavianfeed       |       13     |   15.914445877075195  |   18.89806365966797      |   0.0099334716796875   |      33          |\n",
      "|     sustavianfeed       |       14     |   15.914445877075195  |   18.89806365966797      |   0.01018381118774414  |      33          |\n",
      "|     sustavianfeed       |       15     |   15.642651557922363  |   16.934247970581055     |   0.009815216064453125 |      48          |\n",
      "|     sustavianfeed       |       16     |   15.642651557922363  |   16.934247970581055     |   0.009373664855957031 |      48          |\n",
      "|     sustavianfeed       |       17     |   15.640259742736816  |   17.08770751953125      |   0.009804487228393555 |      48          |\n",
      "|     sustavianfeed       |       18     |   15.640259742736816  |   17.08770751953125      |   0.008682012557983398 |      48          |\n",
      "|     sustavianfeed       |       19     |   15.640259742736816  |   17.08770751953125      |   0.007726430892944336 |      48          |\n",
      "|     sustavianfeed       |       20     |   15.640259742736816  |   17.08770751953125      |   0.010441303253173828 |      48          |\n",
      "|     sustavianfeed       |       21     |   15.640259742736816  |   17.08770751953125      |   0.008791685104370117 |      48          |\n",
      "|     sustavianfeed       |       22     |   15.640259742736816  |   17.08770751953125      |   0.00850677490234375  |      48          |\n",
      "|     sustavianfeed       |       23     |   15.563217163085938  |   16.424400329589844     |   0.009379148483276367 |      35          |\n",
      "|     sustavianfeed       |       24     |   15.563217163085938  |   16.424400329589844     |   0.010555744171142578 |      35          |\n",
      "|     sustavianfeed       |       25     |   15.553393363952637  |   16.521760940551758     |   0.010509490966796875 |      50          |\n",
      "|     sustavianfeed       |       26     |   15.553393363952637  |   16.521760940551758     |   0.01025700569152832  |      50          |\n",
      "|     sustavianfeed       |       27     |   15.553393363952637  |   16.521760940551758     |   0.010314702987670898 |      50          |\n",
      "|     sustavianfeed       |       28     |   15.553393363952637  |   16.521760940551758     |   0.00996088981628418  |      50          |\n",
      "|     sustavianfeed       |       29     |   15.553393363952637  |   16.521760940551758     |   0.009252071380615234 |      50          |\n",
      "|     sustavianfeed       |       30     |   15.552438735961914  |   17.260040283203125     |   0.008724451065063477 |      50          |\n",
      "|     sustavianfeed       |       31     |   15.545735359191895  |   16.625539779663086     |   0.010620594024658203 |      50          |\n",
      "|     sustavianfeed       |       32     |   15.545735359191895  |   16.625539779663086     |   0.01035451889038086  |      50          |\n",
      "|     sustavianfeed       |       33     |   15.545735359191895  |   16.625539779663086     |   0.01062774658203125  |      50          |\n",
      "|     sustavianfeed       |       34     |   15.545735359191895  |   16.625539779663086     |   0.009491443634033203 |      50          |\n",
      "|     sustavianfeed       |       35     |   15.545735359191895  |   16.625539779663086     |   0.007098197937011719 |      50          |\n",
      "|     sustavianfeed       |       36     |   15.540587425231934  |   16.735233306884766     |   0.00968313217163086  |      65          |\n",
      "|     sustavianfeed       |       37     |   15.540587425231934  |   16.735233306884766     |   0.010225772857666016 |      65          |\n",
      "|     sustavianfeed       |       38     |   15.540587425231934  |   16.735233306884766     |   0.00898122787475586  |      65          |\n",
      "|     sustavianfeed       |       39     |   15.540587425231934  |   16.735233306884766     |   0.011934757232666016 |      65          |\n",
      "|     sustavianfeed       |       40     |   15.540587425231934  |   16.735233306884766     |   0.00868082046508789  |      65          |\n",
      "|     sustavianfeed       |       41     |   15.540587425231934  |   16.735233306884766     |   0.011151790618896484 |      65          |\n",
      "|     sustavianfeed       |       42     |   15.540587425231934  |   16.735233306884766     |   0.010226726531982422 |      65          |\n",
      "|     sustavianfeed       |       43     |   15.540587425231934  |   16.735233306884766     |   0.011186599731445312 |      65          |\n",
      "|     sustavianfeed       |       44     |   15.540056228637695  |   17.02022933959961      |   0.011436223983764648 |      50          |\n",
      "|     sustavianfeed       |       45     |   15.540056228637695  |   17.02022933959961      |   0.009495258331298828 |      50          |\n",
      "|     sustavianfeed       |       46     |   15.540056228637695  |   17.02022933959961      |   0.011331319808959961 |      50          |\n",
      "|     sustavianfeed       |       47     |   15.538273811340332  |   16.92386817932129      |   0.012077808380126953 |      50          |\n",
      "|     sustavianfeed       |       48     |   15.538273811340332  |   16.92386817932129      |   0.011084556579589844 |      50          |\n",
      "|     sustavianfeed       |       49     |   15.538273811340332  |   16.92386817932129      |   0.009063005447387695 |      50          |\n",
      "|     sustavianfeed       |       50     |   15.538273811340332  |   16.92386817932129      |   0.009252309799194336 |      50          |\n",
      "|     sustavianfeed       |       51     |   15.538273811340332  |   16.92386817932129      |   0.008127212524414062 |      50          |\n",
      "|     sustavianfeed       |       52     |   15.538273811340332  |   16.92386817932129      |   0.009860038757324219 |      50          |\n",
      "|     sustavianfeed       |       53     |   15.538273811340332  |   16.92386817932129      |   0.00992274284362793  |      50          |\n",
      "|     sustavianfeed       |       54     |   15.538273811340332  |   16.92386817932129      |   0.010120153427124023 |      50          |\n",
      "|     sustavianfeed       |       55     |   15.538273811340332  |   16.92386817932129      |   0.00932455062866211  |      50          |\n",
      "|     sustavianfeed       |       56     |   15.535689353942871  |   16.865863800048828     |   0.00930476188659668  |      52          |\n",
      "|     sustavianfeed       |       57     |   15.535689353942871  |   16.865863800048828     |   0.00946950912475586  |      52          |\n",
      "|     sustavianfeed       |       58     |   15.535689353942871  |   16.865863800048828     |   0.008773326873779297 |      52          |\n",
      "|     sustavianfeed       |       59     |   15.535689353942871  |   16.865863800048828     |   0.008959531784057617 |      52          |\n",
      "|     sustavianfeed       |       60     |   15.535689353942871  |   16.865863800048828     |   0.010046243667602539 |      52          |\n",
      "|     sustavianfeed       |       61     |   15.535689353942871  |   16.865863800048828     |   0.009924650192260742 |      52          |\n",
      "|     sustavianfeed       |       62     |   15.535689353942871  |   16.865863800048828     |   0.009735345840454102 |      52          |\n",
      "|     sustavianfeed       |       63     |   15.535689353942871  |   16.865863800048828     |   0.00966787338256836  |      52          |\n",
      "|     sustavianfeed       |       64     |   15.535689353942871  |   16.865863800048828     |   0.01011514663696289  |      52          |\n",
      "|     sustavianfeed       |       65     |   15.535689353942871  |   16.865863800048828     |   0.009744644165039062 |      52          |\n",
      "|     sustavianfeed       |       66     |   15.535689353942871  |   16.865863800048828     |   0.00946807861328125  |      52          |\n",
      "|     sustavianfeed       |       67     |   15.535689353942871  |   16.865863800048828     |   0.00784611701965332  |      52          |\n",
      "|     sustavianfeed       |       68     |   15.535689353942871  |   16.865863800048828     |   0.007347822189331055 |      52          |\n",
      "|     sustavianfeed       |       69     |   15.535689353942871  |   16.865863800048828     |   0.007287740707397461 |      52          |\n",
      "|     sustavianfeed       |       70     |   15.535689353942871  |   16.865863800048828     |   0.007120609283447266 |      52          |\n",
      "|     sustavianfeed       |       71     |   15.535689353942871  |   16.865863800048828     |   0.0069086551666259766|      52          |\n",
      "|     sustavianfeed       |       72     |   15.535689353942871  |   16.865863800048828     |   0.007642984390258789 |      52          |\n",
      "|     sustavianfeed       |       73     |   15.535689353942871  |   16.865863800048828     |   0.006631135940551758 |      52          |\n",
      "|     sustavianfeed       |       74     |   15.535689353942871  |   16.865863800048828     |   0.006794929504394531 |      52          |\n",
      "|     sustavianfeed       |       75     |   15.535689353942871  |   16.865863800048828     |   0.006596803665161133 |      52          |\n",
      "|     sustavianfeed       |       76     |   15.535689353942871  |   16.865863800048828     |   0.007431983947753906 |      52          |\n",
      "|     sustavianfeed       |       77     |   15.535689353942871  |   16.865863800048828     |   0.005942821502685547 |      52          |\n",
      "|     sustavianfeed       |       78     |   15.535689353942871  |   16.865863800048828     |   0.007552623748779297 |      52          |\n",
      "|     sustavianfeed       |       79     |   15.535689353942871  |   16.865863800048828     |   0.0071790218353271484|      52          |\n",
      "|     sustavianfeed       |       80     |   15.535689353942871  |   16.865863800048828     |   0.007373809814453125 |      52          |\n",
      "|     sustavianfeed       |       81     |   15.535689353942871  |   16.865863800048828     |   0.007947206497192383 |      52          |\n",
      "|     sustavianfeed       |       82     |   15.535689353942871  |   16.865863800048828     |   0.0069234371185302734|      52          |\n",
      "|     sustavianfeed       |       83     |   15.535689353942871  |   16.865863800048828     |   0.006342649459838867 |      52          |\n",
      "|     sustavianfeed       |       84     |   15.535689353942871  |   16.865863800048828     |   0.006249904632568359 |      52          |\n",
      "|     sustavianfeed       |       85     |   15.535689353942871  |   16.865863800048828     |   0.007203578948974609 |      52          |\n",
      "|     sustavianfeed       |       86     |   15.535689353942871  |   16.865863800048828     |   0.0056760311126708984|      52          |\n",
      "|     sustavianfeed       |       87     |   15.535689353942871  |   16.865863800048828     |   0.006108760833740234 |      52          |\n",
      "|     sustavianfeed       |       88     |   15.535689353942871  |   16.865863800048828     |   0.007608890533447266 |      52          |\n",
      "|     sustavianfeed       |       89     |   15.535689353942871  |   16.865863800048828     |   0.008377790451049805 |      52          |\n",
      "|     sustavianfeed       |       90     |   15.535689353942871  |   16.865863800048828     |   0.007205486297607422 |      52          |\n",
      "|     sustavianfeed       |       91     |   15.535689353942871  |   16.865863800048828     |   0.006449460983276367 |      52          |\n",
      "|     sustavianfeed       |       92     |   15.535689353942871  |   16.865863800048828     |   0.006617069244384766 |      52          |\n",
      "|     sustavianfeed       |       93     |   15.535689353942871  |   16.865863800048828     |   0.005766868591308594 |      52          |\n",
      "|     sustavianfeed       |       94     |   15.535689353942871  |   16.865863800048828     |   0.0056192874908447266|      52          |\n",
      "|     sustavianfeed       |       95     |   15.535689353942871  |   16.865863800048828     |   0.006699323654174805 |      52          |\n",
      "|     sustavianfeed       |       96     |   15.535689353942871  |   16.865863800048828     |   0.005570411682128906 |      52          |\n",
      "|     sustavianfeed       |       97     |   15.535689353942871  |   16.865863800048828     |   0.006026744842529297 |      52          |\n",
      "|     sustavianfeed       |       98     |   15.535689353942871  |   16.865863800048828     |   0.006785869598388672 |      52          |\n",
      "|     sustavianfeed       |       99     |   15.535689353942871  |   16.865863800048828     |   0.005996227264404297 |      52          |\n",
      "|     sustavianfeed       |       100    |   15.535689353942871  |   16.865863800048828     |   0.006550312042236328 |      52          |\n",
      "|     sustavianfeed       |       101    |   15.535689353942871  |   16.865863800048828     |   0.006465911865234375 |      52          |\n",
      "|     sustavianfeed       |       102    |   15.535689353942871  |   16.865863800048828     |   0.007957696914672852 |      52          |\n",
      "|     sustavianfeed       |       103    |   15.535689353942871  |   16.865863800048828     |   0.005927085876464844 |      52          |\n",
      "|     sustavianfeed       |       104    |   15.535689353942871  |   16.865863800048828     |   0.0066835880279541016|      52          |\n",
      "|     sustavianfeed       |       105    |   15.535689353942871  |   16.865863800048828     |   0.007893085479736328 |      52          |\n",
      "|     sustavianfeed       |       106    |   15.535689353942871  |   16.865863800048828     |   0.0072100162506103516|      52          |\n",
      "|     sustavianfeed       |       107    |   15.535689353942871  |   16.865863800048828     |   0.00794076919555664  |      52          |\n",
      "|     sustavianfeed       |       108    |   15.535689353942871  |   16.865863800048828     |   0.00976872444152832  |      52          |\n",
      "|     sustavianfeed       |       109    |   15.535689353942871  |   16.865863800048828     |   0.015915393829345703 |      52          |\n",
      "|     sustavianfeed       |       110    |   15.535689353942871  |   16.865863800048828     |   0.010300397872924805 |      52          |\n",
      "|     sustavianfeed       |       111    |   15.533769607543945  |   16.797700881958008     |   0.008886098861694336 |      65          |\n",
      "|     sustavianfeed       |       112    |   15.533769607543945  |   16.797700881958008     |   0.01071023941040039  |      65          |\n",
      "|     sustavianfeed       |       113    |   15.533769607543945  |   16.797700881958008     |   0.004703044891357422 |      65          |\n",
      "|     sustavianfeed       |       114    |   15.533036231994629  |   17.02936553955078      |   0.00773310661315918  |      131         |\n",
      "|     sustavianfeed       |       115    |   15.533036231994629  |   17.02936553955078      |   0.008428573608398438 |      131         |\n",
      "|     sustavianfeed       |       116    |   15.532280921936035  |   16.984111785888672     |   0.00867009162902832  |      116         |\n",
      "|     sustavianfeed       |       117    |   15.532280921936035  |   16.984111785888672     |   0.008843421936035156 |      116         |\n",
      "|     sustavianfeed       |       118    |   15.532280921936035  |   16.984111785888672     |   0.008790969848632812 |      116         |\n",
      "|     sustavianfeed       |       119    |   15.532280921936035  |   16.984111785888672     |   0.009055852890014648 |      116         |\n",
      "|     sustavianfeed       |       120    |   15.532280921936035  |   16.984111785888672     |   0.006566286087036133 |      116         |\n",
      "|     sustavianfeed       |       121    |   15.532280921936035  |   16.984111785888672     |   0.009138822555541992 |      116         |\n",
      "|     sustavianfeed       |       122    |   15.532280921936035  |   16.984111785888672     |   0.005464315414428711 |      116         |\n",
      "|     sustavianfeed       |       123    |   15.532280921936035  |   16.984111785888672     |   0.0049135684967041016|      116         |\n",
      "|     sustavianfeed       |       124    |   15.532280921936035  |   16.984111785888672     |   0.005081653594970703 |      116         |\n",
      "|     sustavianfeed       |       125    |   15.531974792480469  |   16.94651222229004      |   0.004884004592895508 |      131         |\n",
      "|     sustavianfeed       |       126    |   15.531974792480469  |   16.94651222229004      |   0.005435943603515625 |      131         |\n",
      "|     sustavianfeed       |       127    |   15.531974792480469  |   16.94651222229004      |   0.006011962890625    |      131         |\n",
      "|     sustavianfeed       |       128    |   15.531974792480469  |   16.94651222229004      |   0.0048029422760009766|      131         |\n",
      "|     sustavianfeed       |       129    |   15.531974792480469  |   16.94651222229004      |   0.004537343978881836 |      131         |\n",
      "|     sustavianfeed       |       130    |   15.531974792480469  |   16.94651222229004      |   0.005483865737915039 |      131         |\n",
      "|     sustavianfeed       |       131    |   15.531974792480469  |   16.94651222229004      |   0.004523754119873047 |      131         |\n",
      "|     sustavianfeed       |       132    |   15.531974792480469  |   16.94651222229004      |   0.004935503005981445 |      131         |\n",
      "|     sustavianfeed       |       133    |   15.531974792480469  |   16.94651222229004      |   0.004451274871826172 |      131         |\n",
      "|     sustavianfeed       |       134    |   15.531974792480469  |   16.94651222229004      |   0.0044956207275390625|      131         |\n",
      "|     sustavianfeed       |       135    |   15.531974792480469  |   16.94651222229004      |   0.005170583724975586 |      131         |\n",
      "|     sustavianfeed       |       136    |   15.531974792480469  |   16.94651222229004      |   0.005488872528076172 |      131         |\n",
      "|     sustavianfeed       |       137    |   15.531974792480469  |   16.94651222229004      |   0.00529932975769043  |      131         |\n",
      "|     sustavianfeed       |       138    |   15.531974792480469  |   16.94651222229004      |   0.005828380584716797 |      131         |\n",
      "|     sustavianfeed       |       139    |   15.531974792480469  |   16.94651222229004      |   0.0054857730865478516|      131         |\n",
      "|     sustavianfeed       |       140    |   15.531974792480469  |   16.94651222229004      |   0.006415843963623047 |      131         |\n",
      "|     sustavianfeed       |       141    |   15.531974792480469  |   16.94651222229004      |   0.004862070083618164 |      131         |\n",
      "|     sustavianfeed       |       142    |   15.531974792480469  |   16.94651222229004      |   0.004925251007080078 |      131         |\n",
      "|     sustavianfeed       |       143    |   15.531974792480469  |   16.94651222229004      |   0.0048065185546875   |      131         |\n",
      "|     sustavianfeed       |       144    |   15.531974792480469  |   16.94651222229004      |   0.004235506057739258 |      131         |\n",
      "|     sustavianfeed       |       145    |   15.531974792480469  |   16.94651222229004      |   0.004678964614868164 |      131         |\n",
      "|     sustavianfeed       |       146    |   15.531974792480469  |   16.94651222229004      |   0.004469633102416992 |      131         |\n",
      "|     sustavianfeed       |       147    |   15.531974792480469  |   16.94651222229004      |   0.005633831024169922 |      131         |\n",
      "|     sustavianfeed       |       148    |   15.531974792480469  |   16.94651222229004      |   0.0049817562103271484|      131         |\n",
      "|     sustavianfeed       |       149    |   15.531974792480469  |   16.94651222229004      |   0.004361867904663086 |      131         |\n",
      "|     sustavianfeed       |       150    |   15.531974792480469  |   16.94651222229004      |   0.0044977664947509766|      131         |\n",
      "Verbose Reporter\n",
      "-----------------------------------------------------------------------------------------------------------------------------------------\n",
      "|         Dataset         |  Generation  |     Train Fitness     |       Test Fitness       |        Timing          |      Nodes       |\n",
      "-----------------------------------------------------------------------------------------------------------------------------------------\n",
      "|     sustavianfeed       |       0      |   23.677398681640625  |   17.286808013916016     |   0.006854534149169922 |      3           |\n",
      "|     sustavianfeed       |       1      |   17.693681716918945  |   12.901569366455078     |   0.008233308792114258 |      18          |\n",
      "|     sustavianfeed       |       2      |   16.573678970336914  |   13.24614429473877      |   0.00857234001159668  |      33          |\n",
      "|     sustavianfeed       |       3      |   15.675027847290039  |   16.47073745727539      |   0.009179115295410156 |      48          |\n",
      "|     sustavianfeed       |       4      |   15.675027847290039  |   16.47073745727539      |   0.00867319107055664  |      48          |\n",
      "|     sustavianfeed       |       5      |   15.675027847290039  |   16.47073745727539      |   0.009176969528198242 |      48          |\n",
      "|     sustavianfeed       |       6      |   15.639055252075195  |   16.538654327392578     |   0.009396076202392578 |      63          |\n",
      "|     sustavianfeed       |       7      |   15.371659278869629  |   18.012821197509766     |   0.01076650619506836  |      93          |\n",
      "|     sustavianfeed       |       8      |   15.371659278869629  |   18.012821197509766     |   0.009029626846313477 |      93          |\n",
      "|     sustavianfeed       |       9      |   15.371659278869629  |   18.012821197509766     |   0.008937358856201172 |      93          |\n",
      "|     sustavianfeed       |       10     |   15.337667465209961  |   18.19814682006836      |   0.009894847869873047 |      95          |\n",
      "|     sustavianfeed       |       11     |   15.337667465209961  |   18.19814682006836      |   0.010198593139648438 |      95          |\n",
      "|     sustavianfeed       |       12     |   15.337667465209961  |   18.19814682006836      |   0.010957956314086914 |      95          |\n",
      "|     sustavianfeed       |       13     |   15.337667465209961  |   18.19814682006836      |   0.009193897247314453 |      95          |\n",
      "|     sustavianfeed       |       14     |   15.337667465209961  |   18.19814682006836      |   0.008408069610595703 |      95          |\n",
      "|     sustavianfeed       |       15     |   15.337197303771973  |   18.162689208984375     |   0.009088277816772461 |      110         |\n",
      "|     sustavianfeed       |       16     |   15.337197303771973  |   18.162689208984375     |   0.008846521377563477 |      110         |\n",
      "|     sustavianfeed       |       17     |   15.337132453918457  |   18.079526901245117     |   0.010690927505493164 |      125         |\n",
      "|     sustavianfeed       |       18     |   15.337132453918457  |   18.079526901245117     |   0.0072095394134521484|      125         |\n",
      "|     sustavianfeed       |       19     |   15.337104797363281  |   18.15158462524414      |   0.008865594863891602 |      93          |\n",
      "|     sustavianfeed       |       20     |   15.337021827697754  |   18.137224197387695     |   0.00607752799987793  |      125         |\n",
      "|     sustavianfeed       |       21     |   15.337021827697754  |   18.137224197387695     |   0.0063703060150146484|      125         |\n",
      "|     sustavianfeed       |       22     |   15.337021827697754  |   18.137224197387695     |   0.006130695343017578 |      125         |\n",
      "|     sustavianfeed       |       23     |   15.337021827697754  |   18.137224197387695     |   0.0067670345306396484|      125         |\n",
      "|     sustavianfeed       |       24     |   15.337021827697754  |   18.137224197387695     |   0.0068471431732177734|      125         |\n",
      "|     sustavianfeed       |       25     |   15.337021827697754  |   18.137224197387695     |   0.008502721786499023 |      125         |\n",
      "|     sustavianfeed       |       26     |   15.337021827697754  |   18.137224197387695     |   0.006360054016113281 |      125         |\n",
      "|     sustavianfeed       |       27     |   15.337021827697754  |   18.137224197387695     |   0.005318880081176758 |      125         |\n",
      "|     sustavianfeed       |       28     |   15.337021827697754  |   18.137224197387695     |   0.005257844924926758 |      125         |\n",
      "|     sustavianfeed       |       29     |   15.337021827697754  |   18.137224197387695     |   0.00523066520690918  |      125         |\n",
      "|     sustavianfeed       |       30     |   15.337021827697754  |   18.137224197387695     |   0.005143404006958008 |      125         |\n",
      "|     sustavianfeed       |       31     |   15.337021827697754  |   18.137224197387695     |   0.004992008209228516 |      125         |\n",
      "|     sustavianfeed       |       32     |   15.337021827697754  |   18.137224197387695     |   0.005242109298706055 |      125         |\n",
      "|     sustavianfeed       |       33     |   15.337021827697754  |   18.137224197387695     |   0.0049135684967041016|      125         |\n",
      "|     sustavianfeed       |       34     |   15.337021827697754  |   18.137224197387695     |   0.004474163055419922 |      125         |\n",
      "|     sustavianfeed       |       35     |   15.337021827697754  |   18.137224197387695     |   0.004568576812744141 |      125         |\n",
      "|     sustavianfeed       |       36     |   15.337021827697754  |   18.137224197387695     |   0.0043261051177978516|      125         |\n",
      "|     sustavianfeed       |       37     |   15.337021827697754  |   18.137224197387695     |   0.005056619644165039 |      125         |\n",
      "|     sustavianfeed       |       38     |   15.337021827697754  |   18.137224197387695     |   0.005250215530395508 |      125         |\n",
      "|     sustavianfeed       |       39     |   15.337021827697754  |   18.137224197387695     |   0.004959583282470703 |      125         |\n",
      "|     sustavianfeed       |       40     |   15.337021827697754  |   18.137224197387695     |   0.004657268524169922 |      125         |\n",
      "|     sustavianfeed       |       41     |   15.337021827697754  |   18.137224197387695     |   0.005137443542480469 |      125         |\n",
      "|     sustavianfeed       |       42     |   15.337021827697754  |   18.137224197387695     |   0.006630897521972656 |      125         |\n",
      "|     sustavianfeed       |       43     |   15.337021827697754  |   18.137224197387695     |   0.005078315734863281 |      125         |\n",
      "|     sustavianfeed       |       44     |   15.337021827697754  |   18.137224197387695     |   0.005785226821899414 |      125         |\n",
      "|     sustavianfeed       |       45     |   15.337021827697754  |   18.137224197387695     |   0.0052852630615234375|      125         |\n",
      "|     sustavianfeed       |       46     |   15.337021827697754  |   18.137224197387695     |   0.004336833953857422 |      125         |\n",
      "|     sustavianfeed       |       47     |   15.336980819702148  |   18.11425018310547      |   0.00543522834777832  |      93          |\n",
      "|     sustavianfeed       |       48     |   15.336980819702148  |   18.11425018310547      |   0.005472421646118164 |      93          |\n",
      "|     sustavianfeed       |       49     |   15.336980819702148  |   18.11425018310547      |   0.0062503814697265625|      93          |\n",
      "|     sustavianfeed       |       50     |   15.336980819702148  |   18.11425018310547      |   0.004868268966674805 |      93          |\n",
      "|     sustavianfeed       |       51     |   15.336980819702148  |   18.11425018310547      |   0.00507664680480957  |      93          |\n",
      "|     sustavianfeed       |       52     |   15.336980819702148  |   18.11425018310547      |   0.00487971305847168  |      93          |\n",
      "|     sustavianfeed       |       53     |   15.336980819702148  |   18.11425018310547      |   0.005226612091064453 |      93          |\n",
      "|     sustavianfeed       |       54     |   15.336980819702148  |   18.11425018310547      |   0.0061681270599365234|      93          |\n",
      "|     sustavianfeed       |       55     |   15.336980819702148  |   18.11425018310547      |   0.005784273147583008 |      93          |\n",
      "|     sustavianfeed       |       56     |   15.336980819702148  |   18.11425018310547      |   0.005944013595581055 |      93          |\n",
      "|     sustavianfeed       |       57     |   15.336980819702148  |   18.11425018310547      |   0.006688117980957031 |      93          |\n",
      "|     sustavianfeed       |       58     |   15.336980819702148  |   18.11425018310547      |   0.0069217681884765625|      93          |\n",
      "|     sustavianfeed       |       59     |   15.336980819702148  |   18.11425018310547      |   0.0071563720703125   |      93          |\n",
      "|     sustavianfeed       |       60     |   15.336980819702148  |   18.11425018310547      |   0.0068187713623046875|      93          |\n",
      "|     sustavianfeed       |       61     |   15.336980819702148  |   18.11425018310547      |   0.0052945613861083984|      93          |\n",
      "|     sustavianfeed       |       62     |   15.336980819702148  |   18.11425018310547      |   0.005084037780761719 |      93          |\n",
      "|     sustavianfeed       |       63     |   15.336980819702148  |   18.11425018310547      |   0.005480289459228516 |      93          |\n",
      "|     sustavianfeed       |       64     |   15.336980819702148  |   18.11425018310547      |   0.004981517791748047 |      93          |\n",
      "|     sustavianfeed       |       65     |   15.336980819702148  |   18.11425018310547      |   0.004393339157104492 |      93          |\n",
      "|     sustavianfeed       |       66     |   15.336980819702148  |   18.11425018310547      |   0.005233287811279297 |      93          |\n",
      "|     sustavianfeed       |       67     |   15.336980819702148  |   18.11425018310547      |   0.006089687347412109 |      93          |\n",
      "|     sustavianfeed       |       68     |   15.336980819702148  |   18.11425018310547      |   0.006628751754760742 |      93          |\n",
      "|     sustavianfeed       |       69     |   15.336980819702148  |   18.11425018310547      |   0.005606651306152344 |      93          |\n",
      "|     sustavianfeed       |       70     |   15.336980819702148  |   18.11425018310547      |   0.006235361099243164 |      93          |\n",
      "|     sustavianfeed       |       71     |   15.336980819702148  |   18.11425018310547      |   0.0073146820068359375|      93          |\n",
      "|     sustavianfeed       |       72     |   15.336980819702148  |   18.11425018310547      |   0.007301807403564453 |      93          |\n",
      "|     sustavianfeed       |       73     |   15.336980819702148  |   18.11425018310547      |   0.006332874298095703 |      93          |\n",
      "|     sustavianfeed       |       74     |   15.336980819702148  |   18.11425018310547      |   0.006512880325317383 |      93          |\n",
      "|     sustavianfeed       |       75     |   15.336980819702148  |   18.11425018310547      |   0.00759434700012207  |      93          |\n",
      "|     sustavianfeed       |       76     |   15.336980819702148  |   18.11425018310547      |   0.007092475891113281 |      93          |\n",
      "|     sustavianfeed       |       77     |   15.336980819702148  |   18.11425018310547      |   0.00702357292175293  |      93          |\n",
      "|     sustavianfeed       |       78     |   15.336980819702148  |   18.11425018310547      |   0.0064449310302734375|      93          |\n",
      "|     sustavianfeed       |       79     |   15.336980819702148  |   18.11425018310547      |   0.007188081741333008 |      93          |\n",
      "|     sustavianfeed       |       80     |   15.336980819702148  |   18.11425018310547      |   0.006049394607543945 |      93          |\n",
      "|     sustavianfeed       |       81     |   15.336980819702148  |   18.11425018310547      |   0.00634765625        |      93          |\n",
      "|     sustavianfeed       |       82     |   15.336980819702148  |   18.11425018310547      |   0.0059337615966796875|      93          |\n",
      "|     sustavianfeed       |       83     |   15.336980819702148  |   18.11425018310547      |   0.006249427795410156 |      93          |\n",
      "|     sustavianfeed       |       84     |   15.336980819702148  |   18.11425018310547      |   0.006147146224975586 |      93          |\n",
      "|     sustavianfeed       |       85     |   15.336980819702148  |   18.11425018310547      |   0.006132602691650391 |      93          |\n",
      "|     sustavianfeed       |       86     |   15.336980819702148  |   18.11425018310547      |   0.006148576736450195 |      93          |\n",
      "|     sustavianfeed       |       87     |   15.336980819702148  |   18.11425018310547      |   0.005419731140136719 |      93          |\n",
      "|     sustavianfeed       |       88     |   15.336980819702148  |   18.11425018310547      |   0.006651878356933594 |      93          |\n",
      "|     sustavianfeed       |       89     |   15.336980819702148  |   18.11425018310547      |   0.006664276123046875 |      93          |\n",
      "|     sustavianfeed       |       90     |   15.336980819702148  |   18.11425018310547      |   0.005460977554321289 |      93          |\n",
      "|     sustavianfeed       |       91     |   15.336980819702148  |   18.11425018310547      |   0.0051097869873046875|      93          |\n",
      "|     sustavianfeed       |       92     |   15.336980819702148  |   18.11425018310547      |   0.005476236343383789 |      93          |\n",
      "|     sustavianfeed       |       93     |   15.336980819702148  |   18.11425018310547      |   0.004834413528442383 |      93          |\n",
      "|     sustavianfeed       |       94     |   15.336980819702148  |   18.11425018310547      |   0.0053539276123046875|      93          |\n",
      "|     sustavianfeed       |       95     |   15.336980819702148  |   18.11425018310547      |   0.0060384273529052734|      93          |\n",
      "|     sustavianfeed       |       96     |   15.336980819702148  |   18.11425018310547      |   0.005817890167236328 |      93          |\n",
      "|     sustavianfeed       |       97     |   15.336980819702148  |   18.11425018310547      |   0.005662679672241211 |      93          |\n",
      "|     sustavianfeed       |       98     |   15.336980819702148  |   18.11425018310547      |   0.005888700485229492 |      93          |\n",
      "|     sustavianfeed       |       99     |   15.336980819702148  |   18.11425018310547      |   0.005920886993408203 |      93          |\n",
      "|     sustavianfeed       |       100    |   15.336980819702148  |   18.11425018310547      |   0.005875110626220703 |      93          |\n",
      "|     sustavianfeed       |       101    |   15.336980819702148  |   18.11425018310547      |   0.005804777145385742 |      93          |\n",
      "|     sustavianfeed       |       102    |   15.336980819702148  |   18.11425018310547      |   0.005469799041748047 |      93          |\n",
      "|     sustavianfeed       |       103    |   15.336980819702148  |   18.11425018310547      |   0.005163908004760742 |      93          |\n",
      "|     sustavianfeed       |       104    |   15.336980819702148  |   18.11425018310547      |   0.005124330520629883 |      93          |\n",
      "|     sustavianfeed       |       105    |   15.336980819702148  |   18.11425018310547      |   0.005892038345336914 |      93          |\n",
      "|     sustavianfeed       |       106    |   15.336980819702148  |   18.11425018310547      |   0.005797624588012695 |      93          |\n",
      "|     sustavianfeed       |       107    |   15.336980819702148  |   18.11425018310547      |   0.0068149566650390625|      93          |\n",
      "|     sustavianfeed       |       108    |   15.336980819702148  |   18.11425018310547      |   0.005929231643676758 |      93          |\n",
      "|     sustavianfeed       |       109    |   15.336980819702148  |   18.11425018310547      |   0.00575709342956543  |      93          |\n",
      "|     sustavianfeed       |       110    |   15.336980819702148  |   18.11425018310547      |   0.005969524383544922 |      93          |\n",
      "|     sustavianfeed       |       111    |   15.336980819702148  |   18.11425018310547      |   0.004680156707763672 |      93          |\n",
      "|     sustavianfeed       |       112    |   15.336980819702148  |   18.11425018310547      |   0.005102396011352539 |      93          |\n",
      "|     sustavianfeed       |       113    |   15.336980819702148  |   18.11425018310547      |   0.005804538726806641 |      93          |\n",
      "|     sustavianfeed       |       114    |   15.336980819702148  |   18.11425018310547      |   0.0057146549224853516|      93          |\n",
      "|     sustavianfeed       |       115    |   15.336980819702148  |   18.11425018310547      |   0.0061337947845458984|      93          |\n",
      "|     sustavianfeed       |       116    |   15.336980819702148  |   18.11425018310547      |   0.0055849552154541016|      93          |\n",
      "|     sustavianfeed       |       117    |   15.336980819702148  |   18.11425018310547      |   0.004530429840087891 |      93          |\n",
      "|     sustavianfeed       |       118    |   15.336980819702148  |   18.11425018310547      |   0.0056726932525634766|      93          |\n",
      "|     sustavianfeed       |       119    |   15.336980819702148  |   18.11425018310547      |   0.006617307662963867 |      93          |\n",
      "|     sustavianfeed       |       120    |   15.336980819702148  |   18.11425018310547      |   0.006337404251098633 |      93          |\n",
      "|     sustavianfeed       |       121    |   15.336980819702148  |   18.11425018310547      |   0.00475001335144043  |      93          |\n",
      "|     sustavianfeed       |       122    |   15.336980819702148  |   18.11425018310547      |   0.0059053897857666016|      93          |\n",
      "|     sustavianfeed       |       123    |   15.336980819702148  |   18.11425018310547      |   0.005497455596923828 |      93          |\n",
      "|     sustavianfeed       |       124    |   15.336980819702148  |   18.11425018310547      |   0.005065441131591797 |      93          |\n",
      "|     sustavianfeed       |       125    |   15.336980819702148  |   18.11425018310547      |   0.0058672428131103516|      93          |\n",
      "|     sustavianfeed       |       126    |   15.336980819702148  |   18.11425018310547      |   0.006163358688354492 |      93          |\n",
      "|     sustavianfeed       |       127    |   15.336980819702148  |   18.11425018310547      |   0.006143808364868164 |      93          |\n",
      "|     sustavianfeed       |       128    |   15.336980819702148  |   18.11425018310547      |   0.006640434265136719 |      93          |\n",
      "|     sustavianfeed       |       129    |   15.336980819702148  |   18.11425018310547      |   0.00599980354309082  |      93          |\n",
      "|     sustavianfeed       |       130    |   15.336980819702148  |   18.11425018310547      |   0.004965305328369141 |      93          |\n",
      "|     sustavianfeed       |       131    |   15.336980819702148  |   18.11425018310547      |   0.005344867706298828 |      93          |\n",
      "|     sustavianfeed       |       132    |   15.336980819702148  |   18.11425018310547      |   0.0062313079833984375|      93          |\n",
      "|     sustavianfeed       |       133    |   15.336980819702148  |   18.11425018310547      |   0.005836963653564453 |      93          |\n",
      "|     sustavianfeed       |       134    |   15.336980819702148  |   18.11425018310547      |   0.005532979965209961 |      93          |\n",
      "|     sustavianfeed       |       135    |   15.336980819702148  |   18.11425018310547      |   0.0060710906982421875|      93          |\n",
      "|     sustavianfeed       |       136    |   15.336980819702148  |   18.11425018310547      |   0.006838321685791016 |      93          |\n",
      "|     sustavianfeed       |       137    |   15.336980819702148  |   18.11425018310547      |   0.005779743194580078 |      93          |\n",
      "|     sustavianfeed       |       138    |   15.336980819702148  |   18.11425018310547      |   0.007595062255859375 |      93          |\n",
      "|     sustavianfeed       |       139    |   15.336980819702148  |   18.11425018310547      |   0.005549430847167969 |      93          |\n",
      "|     sustavianfeed       |       140    |   15.336980819702148  |   18.11425018310547      |   0.007018566131591797 |      93          |\n",
      "|     sustavianfeed       |       141    |   15.336980819702148  |   18.11425018310547      |   0.008159875869750977 |      93          |\n",
      "|     sustavianfeed       |       142    |   15.336980819702148  |   18.11425018310547      |   0.006885051727294922 |      93          |\n",
      "|     sustavianfeed       |       143    |   15.336980819702148  |   18.11425018310547      |   0.007039546966552734 |      93          |\n",
      "|     sustavianfeed       |       144    |   15.336980819702148  |   18.11425018310547      |   0.005668163299560547 |      93          |\n",
      "|     sustavianfeed       |       145    |   15.336980819702148  |   18.11425018310547      |   0.005804777145385742 |      93          |\n",
      "|     sustavianfeed       |       146    |   15.336980819702148  |   18.11425018310547      |   0.00439763069152832  |      93          |\n",
      "|     sustavianfeed       |       147    |   15.336980819702148  |   18.11425018310547      |   0.0060727596282958984|      93          |\n",
      "|     sustavianfeed       |       148    |   15.336980819702148  |   18.11425018310547      |   0.006245851516723633 |      93          |\n",
      "|     sustavianfeed       |       149    |   15.336980819702148  |   18.11425018310547      |   0.006293773651123047 |      93          |\n",
      "|     sustavianfeed       |       150    |   15.336980819702148  |   18.11425018310547      |   0.005176067352294922 |      93          |\n",
      "Verbose Reporter\n",
      "-----------------------------------------------------------------------------------------------------------------------------------------\n",
      "|         Dataset         |  Generation  |     Train Fitness     |       Test Fitness       |        Timing          |      Nodes       |\n",
      "-----------------------------------------------------------------------------------------------------------------------------------------\n",
      "|     sustavianfeed       |       0      |   23.677398681640625  |   17.286808013916016     |   0.007890701293945312 |      3           |\n",
      "|     sustavianfeed       |       1      |   17.693681716918945  |   12.901569366455078     |   0.009193181991577148 |      18          |\n",
      "|     sustavianfeed       |       2      |   16.573678970336914  |   13.24614429473877      |   0.00948643684387207  |      33          |\n",
      "|     sustavianfeed       |       3      |   15.675027847290039  |   16.47073745727539      |   0.00978851318359375  |      48          |\n",
      "|     sustavianfeed       |       4      |   15.675027847290039  |   16.47073745727539      |   0.009064435958862305 |      48          |\n",
      "|     sustavianfeed       |       5      |   15.675027847290039  |   16.47073745727539      |   0.009816408157348633 |      48          |\n",
      "|     sustavianfeed       |       6      |   15.639055252075195  |   16.538654327392578     |   0.009827136993408203 |      63          |\n",
      "|     sustavianfeed       |       7      |   15.371659278869629  |   18.012821197509766     |   0.010759115219116211 |      93          |\n",
      "|     sustavianfeed       |       8      |   15.371659278869629  |   18.012821197509766     |   0.009270668029785156 |      93          |\n",
      "|     sustavianfeed       |       9      |   15.371659278869629  |   18.012821197509766     |   0.009460210800170898 |      93          |\n",
      "|     sustavianfeed       |       10     |   15.337667465209961  |   18.19814682006836      |   0.009030580520629883 |      95          |\n",
      "|     sustavianfeed       |       11     |   15.337667465209961  |   18.19814682006836      |   0.009053707122802734 |      95          |\n",
      "|     sustavianfeed       |       12     |   15.337667465209961  |   18.19814682006836      |   0.009064674377441406 |      95          |\n",
      "|     sustavianfeed       |       13     |   15.337667465209961  |   18.19814682006836      |   0.009344816207885742 |      95          |\n",
      "|     sustavianfeed       |       14     |   15.337667465209961  |   18.19814682006836      |   0.007771015167236328 |      95          |\n",
      "|     sustavianfeed       |       15     |   15.337197303771973  |   18.162689208984375     |   0.008238077163696289 |      110         |\n",
      "|     sustavianfeed       |       16     |   15.337197303771973  |   18.162689208984375     |   0.007803201675415039 |      110         |\n",
      "|     sustavianfeed       |       17     |   15.337132453918457  |   18.079526901245117     |   0.009417533874511719 |      125         |\n",
      "|     sustavianfeed       |       18     |   15.337132453918457  |   18.079526901245117     |   0.006520748138427734 |      125         |\n",
      "|     sustavianfeed       |       19     |   15.337104797363281  |   18.15158462524414      |   0.007731437683105469 |      93          |\n",
      "|     sustavianfeed       |       20     |   15.337021827697754  |   18.137224197387695     |   0.005317211151123047 |      125         |\n",
      "|     sustavianfeed       |       21     |   15.337021827697754  |   18.137224197387695     |   0.005780220031738281 |      125         |\n",
      "|     sustavianfeed       |       22     |   15.337021827697754  |   18.137224197387695     |   0.005698680877685547 |      125         |\n",
      "|     sustavianfeed       |       23     |   15.337021827697754  |   18.137224197387695     |   0.006361246109008789 |      125         |\n",
      "|     sustavianfeed       |       24     |   15.337021827697754  |   18.137224197387695     |   0.005910396575927734 |      125         |\n",
      "|     sustavianfeed       |       25     |   15.337021827697754  |   18.137224197387695     |   0.007429599761962891 |      125         |\n",
      "|     sustavianfeed       |       26     |   15.337021827697754  |   18.137224197387695     |   0.005827903747558594 |      125         |\n",
      "|     sustavianfeed       |       27     |   15.337021827697754  |   18.137224197387695     |   0.005358219146728516 |      125         |\n",
      "|     sustavianfeed       |       28     |   15.337021827697754  |   18.137224197387695     |   0.0050811767578125   |      125         |\n",
      "|     sustavianfeed       |       29     |   15.337021827697754  |   18.137224197387695     |   0.004998445510864258 |      125         |\n",
      "|     sustavianfeed       |       30     |   15.337021827697754  |   18.137224197387695     |   0.0053997039794921875|      125         |\n",
      "|     sustavianfeed       |       31     |   15.337021827697754  |   18.137224197387695     |   0.005299568176269531 |      125         |\n",
      "|     sustavianfeed       |       32     |   15.337021827697754  |   18.137224197387695     |   0.005554676055908203 |      125         |\n",
      "|     sustavianfeed       |       33     |   15.337021827697754  |   18.137224197387695     |   0.005135536193847656 |      125         |\n",
      "|     sustavianfeed       |       34     |   15.337021827697754  |   18.137224197387695     |   0.0046427249908447266|      125         |\n",
      "|     sustavianfeed       |       35     |   15.337021827697754  |   18.137224197387695     |   0.00481724739074707  |      125         |\n",
      "|     sustavianfeed       |       36     |   15.337021827697754  |   18.137224197387695     |   0.004636526107788086 |      125         |\n",
      "|     sustavianfeed       |       37     |   15.337021827697754  |   18.137224197387695     |   0.005278587341308594 |      125         |\n",
      "|     sustavianfeed       |       38     |   15.337021827697754  |   18.137224197387695     |   0.0046389102935791016|      125         |\n",
      "|     sustavianfeed       |       39     |   15.337021827697754  |   18.137224197387695     |   0.005343914031982422 |      125         |\n",
      "|     sustavianfeed       |       40     |   15.337021827697754  |   18.137224197387695     |   0.005027055740356445 |      125         |\n",
      "|     sustavianfeed       |       41     |   15.337021827697754  |   18.137224197387695     |   0.005113124847412109 |      125         |\n",
      "|     sustavianfeed       |       42     |   15.337021827697754  |   18.137224197387695     |   0.006354093551635742 |      125         |\n",
      "|     sustavianfeed       |       43     |   15.337021827697754  |   18.137224197387695     |   0.00490117073059082  |      125         |\n",
      "|     sustavianfeed       |       44     |   15.337021827697754  |   18.137224197387695     |   0.0061283111572265625|      125         |\n",
      "|     sustavianfeed       |       45     |   15.337021827697754  |   18.137224197387695     |   0.006501913070678711 |      125         |\n",
      "|     sustavianfeed       |       46     |   15.337021827697754  |   18.137224197387695     |   0.004944562911987305 |      125         |\n",
      "|     sustavianfeed       |       47     |   15.336980819702148  |   18.11425018310547      |   0.00534367561340332  |      93          |\n",
      "|     sustavianfeed       |       48     |   15.336980819702148  |   18.11425018310547      |   0.005828857421875    |      93          |\n",
      "|     sustavianfeed       |       49     |   15.336980819702148  |   18.11425018310547      |   0.006506204605102539 |      93          |\n",
      "|     sustavianfeed       |       50     |   15.336980819702148  |   18.11425018310547      |   0.005215167999267578 |      93          |\n",
      "|     sustavianfeed       |       51     |   15.336980819702148  |   18.11425018310547      |   0.005362272262573242 |      93          |\n",
      "|     sustavianfeed       |       52     |   15.336980819702148  |   18.11425018310547      |   0.005177736282348633 |      93          |\n",
      "|     sustavianfeed       |       53     |   15.336980819702148  |   18.11425018310547      |   0.006074428558349609 |      93          |\n",
      "|     sustavianfeed       |       54     |   15.336980819702148  |   18.11425018310547      |   0.006741523742675781 |      93          |\n",
      "|     sustavianfeed       |       55     |   15.336980819702148  |   18.11425018310547      |   0.00630950927734375  |      93          |\n",
      "|     sustavianfeed       |       56     |   15.336980819702148  |   18.11425018310547      |   0.006383657455444336 |      93          |\n",
      "|     sustavianfeed       |       57     |   15.336980819702148  |   18.11425018310547      |   0.006636857986450195 |      93          |\n",
      "|     sustavianfeed       |       58     |   15.336980819702148  |   18.11425018310547      |   0.007159233093261719 |      93          |\n",
      "|     sustavianfeed       |       59     |   15.336980819702148  |   18.11425018310547      |   0.007437229156494141 |      93          |\n",
      "|     sustavianfeed       |       60     |   15.336980819702148  |   18.11425018310547      |   0.007046699523925781 |      93          |\n",
      "|     sustavianfeed       |       61     |   15.336980819702148  |   18.11425018310547      |   0.0050733089447021484|      93          |\n",
      "|     sustavianfeed       |       62     |   15.336980819702148  |   18.11425018310547      |   0.004999399185180664 |      93          |\n",
      "|     sustavianfeed       |       63     |   15.336980819702148  |   18.11425018310547      |   0.005482196807861328 |      93          |\n",
      "|     sustavianfeed       |       64     |   15.336980819702148  |   18.11425018310547      |   0.00468897819519043  |      93          |\n",
      "|     sustavianfeed       |       65     |   15.336980819702148  |   18.11425018310547      |   0.004193782806396484 |      93          |\n",
      "|     sustavianfeed       |       66     |   15.336980819702148  |   18.11425018310547      |   0.004990339279174805 |      93          |\n",
      "|     sustavianfeed       |       67     |   15.336980819702148  |   18.11425018310547      |   0.005733966827392578 |      93          |\n",
      "|     sustavianfeed       |       68     |   15.336980819702148  |   18.11425018310547      |   0.006062746047973633 |      93          |\n",
      "|     sustavianfeed       |       69     |   15.336980819702148  |   18.11425018310547      |   0.0052242279052734375|      93          |\n",
      "|     sustavianfeed       |       70     |   15.336980819702148  |   18.11425018310547      |   0.005899667739868164 |      93          |\n",
      "|     sustavianfeed       |       71     |   15.336980819702148  |   18.11425018310547      |   0.006594657897949219 |      93          |\n",
      "|     sustavianfeed       |       72     |   15.336980819702148  |   18.11425018310547      |   0.007197856903076172 |      93          |\n",
      "|     sustavianfeed       |       73     |   15.336980819702148  |   18.11425018310547      |   0.005452394485473633 |      93          |\n",
      "|     sustavianfeed       |       74     |   15.336980819702148  |   18.11425018310547      |   0.005683422088623047 |      93          |\n",
      "|     sustavianfeed       |       75     |   15.336980819702148  |   18.11425018310547      |   0.00616908073425293  |      93          |\n",
      "|     sustavianfeed       |       76     |   15.336980819702148  |   18.11425018310547      |   0.005964517593383789 |      93          |\n",
      "|     sustavianfeed       |       77     |   15.336980819702148  |   18.11425018310547      |   0.006991147994995117 |      93          |\n",
      "|     sustavianfeed       |       78     |   15.336980819702148  |   18.11425018310547      |   0.005814790725708008 |      93          |\n",
      "|     sustavianfeed       |       79     |   15.336980819702148  |   18.11425018310547      |   0.006780385971069336 |      93          |\n",
      "|     sustavianfeed       |       80     |   15.336980819702148  |   18.11425018310547      |   0.005654573440551758 |      93          |\n",
      "|     sustavianfeed       |       81     |   15.336980819702148  |   18.11425018310547      |   0.005894184112548828 |      93          |\n",
      "|     sustavianfeed       |       82     |   15.336980819702148  |   18.11425018310547      |   0.005692958831787109 |      93          |\n",
      "|     sustavianfeed       |       83     |   15.336980819702148  |   18.11425018310547      |   0.005859375          |      93          |\n",
      "|     sustavianfeed       |       84     |   15.336980819702148  |   18.11425018310547      |   0.006043910980224609 |      93          |\n",
      "|     sustavianfeed       |       85     |   15.336980819702148  |   18.11425018310547      |   0.0060269832611083984|      93          |\n",
      "|     sustavianfeed       |       86     |   15.336980819702148  |   18.11425018310547      |   0.005948543548583984 |      93          |\n",
      "|     sustavianfeed       |       87     |   15.336980819702148  |   18.11425018310547      |   0.005469799041748047 |      93          |\n",
      "|     sustavianfeed       |       88     |   15.336980819702148  |   18.11425018310547      |   0.005704641342163086 |      93          |\n",
      "|     sustavianfeed       |       89     |   15.336980819702148  |   18.11425018310547      |   0.0061681270599365234|      93          |\n",
      "|     sustavianfeed       |       90     |   15.336980819702148  |   18.11425018310547      |   0.005384683609008789 |      93          |\n",
      "|     sustavianfeed       |       91     |   15.336980819702148  |   18.11425018310547      |   0.0052831172943115234|      93          |\n",
      "|     sustavianfeed       |       92     |   15.336980819702148  |   18.11425018310547      |   0.005794525146484375 |      93          |\n",
      "|     sustavianfeed       |       93     |   15.336980819702148  |   18.11425018310547      |   0.0047588348388671875|      93          |\n",
      "|     sustavianfeed       |       94     |   15.336980819702148  |   18.11425018310547      |   0.005368947982788086 |      93          |\n",
      "|     sustavianfeed       |       95     |   15.336980819702148  |   18.11425018310547      |   0.005825519561767578 |      93          |\n",
      "|     sustavianfeed       |       96     |   15.336980819702148  |   18.11425018310547      |   0.005444765090942383 |      93          |\n",
      "|     sustavianfeed       |       97     |   15.336980819702148  |   18.11425018310547      |   0.005410194396972656 |      93          |\n",
      "|     sustavianfeed       |       98     |   15.336980819702148  |   18.11425018310547      |   0.005563974380493164 |      93          |\n",
      "|     sustavianfeed       |       99     |   15.336980819702148  |   18.11425018310547      |   0.005599021911621094 |      93          |\n",
      "|     sustavianfeed       |       100    |   15.336980819702148  |   18.11425018310547      |   0.0058672428131103516|      93          |\n",
      "|     sustavianfeed       |       101    |   15.336980819702148  |   18.11425018310547      |   0.005619525909423828 |      93          |\n",
      "|     sustavianfeed       |       102    |   15.336980819702148  |   18.11425018310547      |   0.005111217498779297 |      93          |\n",
      "|     sustavianfeed       |       103    |   15.336980819702148  |   18.11425018310547      |   0.005469083786010742 |      93          |\n",
      "|     sustavianfeed       |       104    |   15.336980819702148  |   18.11425018310547      |   0.00523686408996582  |      93          |\n",
      "|     sustavianfeed       |       105    |   15.336980819702148  |   18.11425018310547      |   0.0066907405853271484|      93          |\n",
      "|     sustavianfeed       |       106    |   15.336980819702148  |   18.11425018310547      |   0.006524801254272461 |      93          |\n",
      "|     sustavianfeed       |       107    |   15.336980819702148  |   18.11425018310547      |   0.006343364715576172 |      93          |\n",
      "|     sustavianfeed       |       108    |   15.336980819702148  |   18.11425018310547      |   0.005864143371582031 |      93          |\n",
      "|     sustavianfeed       |       109    |   15.336980819702148  |   18.11425018310547      |   0.0060825347900390625|      93          |\n",
      "|     sustavianfeed       |       110    |   15.336980819702148  |   18.11425018310547      |   0.00642085075378418  |      93          |\n",
      "|     sustavianfeed       |       111    |   15.336980819702148  |   18.11425018310547      |   0.005251646041870117 |      93          |\n",
      "|     sustavianfeed       |       112    |   15.336980819702148  |   18.11425018310547      |   0.005604982376098633 |      93          |\n",
      "|     sustavianfeed       |       113    |   15.336980819702148  |   18.11425018310547      |   0.0061838626861572266|      93          |\n",
      "|     sustavianfeed       |       114    |   15.336980819702148  |   18.11425018310547      |   0.005799055099487305 |      93          |\n",
      "|     sustavianfeed       |       115    |   15.336980819702148  |   18.11425018310547      |   0.006356239318847656 |      93          |\n",
      "|     sustavianfeed       |       116    |   15.336980819702148  |   18.11425018310547      |   0.006026744842529297 |      93          |\n",
      "|     sustavianfeed       |       117    |   15.336980819702148  |   18.11425018310547      |   0.005046367645263672 |      93          |\n",
      "|     sustavianfeed       |       118    |   15.336980819702148  |   18.11425018310547      |   0.005713701248168945 |      93          |\n",
      "|     sustavianfeed       |       119    |   15.336980819702148  |   18.11425018310547      |   0.006746530532836914 |      93          |\n",
      "|     sustavianfeed       |       120    |   15.336980819702148  |   18.11425018310547      |   0.005967140197753906 |      93          |\n",
      "|     sustavianfeed       |       121    |   15.336980819702148  |   18.11425018310547      |   0.0041656494140625   |      93          |\n",
      "|     sustavianfeed       |       122    |   15.336980819702148  |   18.11425018310547      |   0.005698204040527344 |      93          |\n",
      "|     sustavianfeed       |       123    |   15.336980819702148  |   18.11425018310547      |   0.005656242370605469 |      93          |\n",
      "|     sustavianfeed       |       124    |   15.336980819702148  |   18.11425018310547      |   0.005177497863769531 |      93          |\n",
      "|     sustavianfeed       |       125    |   15.336980819702148  |   18.11425018310547      |   0.0060117244720458984|      93          |\n",
      "|     sustavianfeed       |       126    |   15.336980819702148  |   18.11425018310547      |   0.00599980354309082  |      93          |\n",
      "|     sustavianfeed       |       127    |   15.336980819702148  |   18.11425018310547      |   0.006086111068725586 |      93          |\n",
      "|     sustavianfeed       |       128    |   15.336980819702148  |   18.11425018310547      |   0.0065081119537353516|      93          |\n",
      "|     sustavianfeed       |       129    |   15.336980819702148  |   18.11425018310547      |   0.005410909652709961 |      93          |\n",
      "|     sustavianfeed       |       130    |   15.336980819702148  |   18.11425018310547      |   0.005292654037475586 |      93          |\n",
      "|     sustavianfeed       |       131    |   15.336980819702148  |   18.11425018310547      |   0.005240201950073242 |      93          |\n",
      "|     sustavianfeed       |       132    |   15.336980819702148  |   18.11425018310547      |   0.005791664123535156 |      93          |\n",
      "|     sustavianfeed       |       133    |   15.336980819702148  |   18.11425018310547      |   0.005906343460083008 |      93          |\n",
      "|     sustavianfeed       |       134    |   15.336980819702148  |   18.11425018310547      |   0.005314826965332031 |      93          |\n",
      "|     sustavianfeed       |       135    |   15.336980819702148  |   18.11425018310547      |   0.005241870880126953 |      93          |\n",
      "|     sustavianfeed       |       136    |   15.336980819702148  |   18.11425018310547      |   0.006117343902587891 |      93          |\n",
      "|     sustavianfeed       |       137    |   15.336980819702148  |   18.11425018310547      |   0.005526065826416016 |      93          |\n",
      "|     sustavianfeed       |       138    |   15.336980819702148  |   18.11425018310547      |   0.007335186004638672 |      93          |\n",
      "|     sustavianfeed       |       139    |   15.336980819702148  |   18.11425018310547      |   0.005585193634033203 |      93          |\n",
      "|     sustavianfeed       |       140    |   15.336980819702148  |   18.11425018310547      |   0.005627632141113281 |      93          |\n",
      "|     sustavianfeed       |       141    |   15.336980819702148  |   18.11425018310547      |   0.0072479248046875   |      93          |\n",
      "|     sustavianfeed       |       142    |   15.336980819702148  |   18.11425018310547      |   0.006403923034667969 |      93          |\n",
      "|     sustavianfeed       |       143    |   15.336980819702148  |   18.11425018310547      |   0.007164478302001953 |      93          |\n",
      "|     sustavianfeed       |       144    |   15.336980819702148  |   18.11425018310547      |   0.005854368209838867 |      93          |\n",
      "|     sustavianfeed       |       145    |   15.336980819702148  |   18.11425018310547      |   0.005167961120605469 |      93          |\n",
      "|     sustavianfeed       |       146    |   15.336980819702148  |   18.11425018310547      |   0.004683971405029297 |      93          |\n",
      "|     sustavianfeed       |       147    |   15.336980819702148  |   18.11425018310547      |   0.0054569244384765625|      93          |\n",
      "|     sustavianfeed       |       148    |   15.336980819702148  |   18.11425018310547      |   0.005959033966064453 |      93          |\n",
      "|     sustavianfeed       |       149    |   15.336980819702148  |   18.11425018310547      |   0.0059185028076171875|      93          |\n",
      "|     sustavianfeed       |       150    |   15.336980819702148  |   18.11425018310547      |   0.004714488983154297 |      93          |\n",
      "Verbose Reporter\n",
      "-----------------------------------------------------------------------------------------------------------------------------------------\n",
      "|         Dataset         |  Generation  |     Train Fitness     |       Test Fitness       |        Timing          |      Nodes       |\n",
      "-----------------------------------------------------------------------------------------------------------------------------------------\n",
      "|     sustavianfeed       |       0      |   23.677398681640625  |   17.286808013916016     |   0.006804704666137695 |      3           |\n",
      "|     sustavianfeed       |       1      |   18.86277198791504   |   26.81829833984375      |   0.008321046829223633 |      18          |\n",
      "|     sustavianfeed       |       2      |   16.137752532958984  |   14.876361846923828     |   0.008427143096923828 |      18          |\n",
      "|     sustavianfeed       |       3      |   15.926456451416016  |   15.417999267578125     |   0.008899927139282227 |      49          |\n",
      "|     sustavianfeed       |       4      |   15.926456451416016  |   15.417999267578125     |   0.008748292922973633 |      49          |\n",
      "|     sustavianfeed       |       5      |   15.926456451416016  |   15.417999267578125     |   0.009406089782714844 |      49          |\n",
      "|     sustavianfeed       |       6      |   15.926456451416016  |   15.417999267578125     |   0.0097808837890625   |      49          |\n",
      "|     sustavianfeed       |       7      |   15.926456451416016  |   15.417999267578125     |   0.010174274444580078 |      49          |\n",
      "|     sustavianfeed       |       8      |   15.926456451416016  |   15.417999267578125     |   0.009333610534667969 |      49          |\n",
      "|     sustavianfeed       |       9      |   15.926456451416016  |   15.417999267578125     |   0.009146690368652344 |      49          |\n",
      "|     sustavianfeed       |       10     |   11.720191955566406  |   14.882173538208008     |   0.010031700134277344 |      66          |\n",
      "|     sustavianfeed       |       11     |   11.647263526916504  |   14.95595932006836      |   0.010779380798339844 |      81          |\n",
      "|     sustavianfeed       |       12     |   11.595115661621094  |   16.575809478759766     |   0.012026548385620117 |      100         |\n",
      "|     sustavianfeed       |       13     |   11.325389862060547  |   15.661773681640625     |   0.010338544845581055 |      79          |\n",
      "|     sustavianfeed       |       14     |   11.325389862060547  |   15.661773681640625     |   0.010471820831298828 |      79          |\n",
      "|     sustavianfeed       |       15     |   11.310478210449219  |   15.78056526184082      |   0.011014223098754883 |      94          |\n",
      "|     sustavianfeed       |       16     |   11.310478210449219  |   15.78056526184082      |   0.009969711303710938 |      94          |\n",
      "|     sustavianfeed       |       17     |   11.310478210449219  |   15.78056526184082      |   0.01093149185180664  |      94          |\n",
      "|     sustavianfeed       |       18     |   11.310478210449219  |   15.78056526184082      |   0.009552955627441406 |      94          |\n",
      "|     sustavianfeed       |       19     |   11.310478210449219  |   15.78056526184082      |   0.008536815643310547 |      94          |\n",
      "|     sustavianfeed       |       20     |   11.310478210449219  |   15.78056526184082      |   0.00836181640625     |      94          |\n",
      "|     sustavianfeed       |       21     |   11.310478210449219  |   15.78056526184082      |   0.00794076919555664  |      94          |\n",
      "|     sustavianfeed       |       22     |   11.310478210449219  |   15.78056526184082      |   0.008080005645751953 |      94          |\n",
      "|     sustavianfeed       |       23     |   11.301597595214844  |   15.96383285522461      |   0.006905555725097656 |      94          |\n",
      "|     sustavianfeed       |       24     |   11.301597595214844  |   15.96383285522461      |   0.006661891937255859 |      94          |\n",
      "|     sustavianfeed       |       25     |   11.301597595214844  |   15.96383285522461      |   0.006579875946044922 |      94          |\n",
      "|     sustavianfeed       |       26     |   11.301597595214844  |   15.96383285522461      |   0.0063991546630859375|      94          |\n",
      "|     sustavianfeed       |       27     |   11.301597595214844  |   15.96383285522461      |   0.006102800369262695 |      94          |\n",
      "|     sustavianfeed       |       28     |   11.301597595214844  |   15.96383285522461      |   0.00601959228515625  |      94          |\n",
      "|     sustavianfeed       |       29     |   11.301597595214844  |   15.96383285522461      |   0.006133556365966797 |      94          |\n",
      "|     sustavianfeed       |       30     |   11.301597595214844  |   15.96383285522461      |   0.005076408386230469 |      94          |\n",
      "|     sustavianfeed       |       31     |   11.301597595214844  |   15.96383285522461      |   0.005216121673583984 |      94          |\n",
      "|     sustavianfeed       |       32     |   11.301597595214844  |   15.96383285522461      |   0.0045773983001708984|      94          |\n",
      "|     sustavianfeed       |       33     |   11.301597595214844  |   15.96383285522461      |   0.0044116973876953125|      94          |\n",
      "|     sustavianfeed       |       34     |   11.301597595214844  |   15.96383285522461      |   0.004975080490112305 |      94          |\n",
      "|     sustavianfeed       |       35     |   11.301597595214844  |   15.96383285522461      |   0.0054318904876708984|      94          |\n",
      "|     sustavianfeed       |       36     |   11.301597595214844  |   15.96383285522461      |   0.00636744499206543  |      94          |\n",
      "|     sustavianfeed       |       37     |   11.301597595214844  |   15.96383285522461      |   0.005114316940307617 |      94          |\n",
      "|     sustavianfeed       |       38     |   11.301597595214844  |   15.96383285522461      |   0.004251956939697266 |      94          |\n",
      "|     sustavianfeed       |       39     |   11.301597595214844  |   15.96383285522461      |   0.006428718566894531 |      94          |\n",
      "|     sustavianfeed       |       40     |   11.301597595214844  |   15.96383285522461      |   0.005007505416870117 |      94          |\n",
      "|     sustavianfeed       |       41     |   11.301597595214844  |   15.96383285522461      |   0.005110263824462891 |      94          |\n",
      "|     sustavianfeed       |       42     |   11.301597595214844  |   15.96383285522461      |   0.005160093307495117 |      94          |\n",
      "|     sustavianfeed       |       43     |   11.301597595214844  |   15.96383285522461      |   0.014127731323242188 |      94          |\n",
      "|     sustavianfeed       |       44     |   11.301597595214844  |   15.96383285522461      |   0.012910127639770508 |      94          |\n",
      "|     sustavianfeed       |       45     |   11.301597595214844  |   15.96383285522461      |   0.006189584732055664 |      94          |\n",
      "|     sustavianfeed       |       46     |   11.301597595214844  |   15.96383285522461      |   0.009806394577026367 |      94          |\n"
     ]
    },
    {
     "ename": "KeyboardInterrupt",
     "evalue": "",
     "output_type": "error",
     "traceback": [
      "\u001b[0;31m---------------------------------------------------------------------------\u001b[0m",
      "\u001b[0;31mKeyboardInterrupt\u001b[0m                         Traceback (most recent call last)",
      "Cell \u001b[0;32mIn[165], line 25\u001b[0m\n\u001b[1;32m     21\u001b[0m     os\u001b[38;5;241m.\u001b[39mremove(log_path)\n\u001b[1;32m     23\u001b[0m solver_params\u001b[38;5;241m.\u001b[39mupdate({\u001b[38;5;124m'\u001b[39m\u001b[38;5;124mlog_path\u001b[39m\u001b[38;5;124m'\u001b[39m: log_path})\n\u001b[0;32m---> 25\u001b[0m res \u001b[38;5;241m=\u001b[39m \u001b[43mcaller\u001b[49m\u001b[38;5;241;43m.\u001b[39;49m\u001b[43mcall_model\u001b[49m\u001b[43m(\u001b[49m\n\u001b[1;32m     26\u001b[0m \u001b[43m    \u001b[49m\u001b[43msolver_params\u001b[49m\u001b[43m,\u001b[49m\u001b[43m \u001b[49m\n\u001b[1;32m     27\u001b[0m \u001b[43m    \u001b[49m\u001b[43mgrid_params\u001b[49m\u001b[43m,\u001b[49m\n\u001b[1;32m     28\u001b[0m \u001b[43m    \u001b[49m\u001b[43mseed\u001b[49m\u001b[38;5;241;43m=\u001b[39;49m\u001b[43m(\u001b[49m\u001b[43msys_params\u001b[49m\u001b[43m[\u001b[49m\u001b[38;5;124;43m'\u001b[39;49m\u001b[38;5;124;43mrandom_seed\u001b[39;49m\u001b[38;5;124;43m'\u001b[39;49m\u001b[43m]\u001b[49m\u001b[43m \u001b[49m\u001b[38;5;241;43m+\u001b[39;49m\u001b[43m \u001b[49m\u001b[43mi_inner\u001b[49m\u001b[43m)\u001b[49m\u001b[43m    \u001b[49m\n\u001b[1;32m     29\u001b[0m \u001b[43m\u001b[49m\u001b[43m)\u001b[49m\n\u001b[1;32m     31\u001b[0m \u001b[38;5;66;03m# Log\u001b[39;00m\n\u001b[1;32m     32\u001b[0m results\u001b[38;5;241m.\u001b[39mappend(res)\n",
      "File \u001b[0;32m~/MsC/NEL/src/nel_utils/caller.py:34\u001b[0m, in \u001b[0;36mcall_model\u001b[0;34m(fixed_params, param_grid, seed, set_max_depth)\u001b[0m\n\u001b[1;32m     31\u001b[0m \u001b[38;5;28;01mif\u001b[39;00m set_max_depth:\n\u001b[1;32m     32\u001b[0m     full_params\u001b[38;5;241m.\u001b[39mupdate({\u001b[38;5;124m'\u001b[39m\u001b[38;5;124mmax_depth\u001b[39m\u001b[38;5;124m'\u001b[39m: full_params[\u001b[38;5;124m'\u001b[39m\u001b[38;5;124minit_depth\u001b[39m\u001b[38;5;124m'\u001b[39m]\u001b[38;5;241m+\u001b[39m\u001b[38;5;241m15\u001b[39m})\n\u001b[0;32m---> 34\u001b[0m model \u001b[38;5;241m=\u001b[39m \u001b[43mmodel_dict\u001b[49m\u001b[43m[\u001b[49m\u001b[43mmodel_key\u001b[49m\u001b[43m]\u001b[49m\u001b[43m(\u001b[49m\u001b[38;5;241;43m*\u001b[39;49m\u001b[38;5;241;43m*\u001b[39;49m\u001b[43mfull_params\u001b[49m\u001b[43m,\u001b[49m\u001b[43m \u001b[49m\u001b[43mseed\u001b[49m\u001b[38;5;241;43m=\u001b[39;49m\u001b[43mseed\u001b[49m\u001b[43m)\u001b[49m\n\u001b[1;32m     36\u001b[0m res \u001b[38;5;241m=\u001b[39m {\u001b[38;5;124m'\u001b[39m\u001b[38;5;124mmodel\u001b[39m\u001b[38;5;124m'\u001b[39m: model}\n\u001b[1;32m     37\u001b[0m res\u001b[38;5;241m.\u001b[39mupdate({\u001b[38;5;124m'\u001b[39m\u001b[38;5;124mrmse_train\u001b[39m\u001b[38;5;124m'\u001b[39m: model\u001b[38;5;241m.\u001b[39mfitness\u001b[38;5;241m.\u001b[39mitem()})\n",
      "File \u001b[0;32m~/miniconda3/envs/nel/lib/python3.12/site-packages/slim_gsgp/main_slim.py:282\u001b[0m, in \u001b[0;36mslim\u001b[0;34m(X_train, y_train, X_test, y_test, dataset_name, slim_version, pop_size, n_iter, elitism, n_elites, init_depth, ms_lower, ms_upper, p_inflate, log_path, seed, log_level, verbose, reconstruct, fitness_function, initializer, minimization, prob_const, tree_functions, tree_constants, copy_parent, max_depth, n_jobs, tournament_size, test_elite)\u001b[0m\n\u001b[1;32m    273\u001b[0m \u001b[38;5;66;03m# ================================\u001b[39;00m\n\u001b[1;32m    274\u001b[0m \u001b[38;5;66;03m#       Running the Algorithm\u001b[39;00m\n\u001b[1;32m    275\u001b[0m \u001b[38;5;66;03m# ================================\u001b[39;00m\n\u001b[1;32m    277\u001b[0m optimizer \u001b[38;5;241m=\u001b[39m SLIM_GSGP(\n\u001b[1;32m    278\u001b[0m     pi_init\u001b[38;5;241m=\u001b[39mslim_gsgp_pi_init,\n\u001b[1;32m    279\u001b[0m     \u001b[38;5;241m*\u001b[39m\u001b[38;5;241m*\u001b[39mslim_gsgp_parameters\n\u001b[1;32m    280\u001b[0m )\n\u001b[0;32m--> 282\u001b[0m \u001b[43moptimizer\u001b[49m\u001b[38;5;241;43m.\u001b[39;49m\u001b[43msolve\u001b[49m\u001b[43m(\u001b[49m\n\u001b[1;32m    283\u001b[0m \u001b[43m    \u001b[49m\u001b[43mX_train\u001b[49m\u001b[38;5;241;43m=\u001b[39;49m\u001b[43mX_train\u001b[49m\u001b[43m,\u001b[49m\n\u001b[1;32m    284\u001b[0m \u001b[43m    \u001b[49m\u001b[43mX_test\u001b[49m\u001b[38;5;241;43m=\u001b[39;49m\u001b[43mX_test\u001b[49m\u001b[43m,\u001b[49m\n\u001b[1;32m    285\u001b[0m \u001b[43m    \u001b[49m\u001b[43my_train\u001b[49m\u001b[38;5;241;43m=\u001b[39;49m\u001b[43my_train\u001b[49m\u001b[43m,\u001b[49m\n\u001b[1;32m    286\u001b[0m \u001b[43m    \u001b[49m\u001b[43my_test\u001b[49m\u001b[38;5;241;43m=\u001b[39;49m\u001b[43my_test\u001b[49m\u001b[43m,\u001b[49m\n\u001b[1;32m    287\u001b[0m \u001b[43m    \u001b[49m\u001b[43mcurr_dataset\u001b[49m\u001b[38;5;241;43m=\u001b[39;49m\u001b[43mdataset_name\u001b[49m\u001b[43m,\u001b[49m\n\u001b[1;32m    288\u001b[0m \u001b[43m    \u001b[49m\u001b[38;5;241;43m*\u001b[39;49m\u001b[38;5;241;43m*\u001b[39;49m\u001b[43mslim_gsgp_solve_parameters\u001b[49m\n\u001b[1;32m    289\u001b[0m \u001b[43m\u001b[49m\u001b[43m)\u001b[49m\n\u001b[1;32m    291\u001b[0m log_settings(\n\u001b[1;32m    292\u001b[0m     path\u001b[38;5;241m=\u001b[39mlog_path[:\u001b[38;5;241m-\u001b[39m\u001b[38;5;241m4\u001b[39m] \u001b[38;5;241m+\u001b[39m \u001b[38;5;124m\"\u001b[39m\u001b[38;5;124m_settings.csv\u001b[39m\u001b[38;5;124m\"\u001b[39m,\n\u001b[1;32m    293\u001b[0m     settings_dict\u001b[38;5;241m=\u001b[39m[slim_gsgp_solve_parameters,\n\u001b[0;32m   (...)\u001b[0m\n\u001b[1;32m    297\u001b[0m     unique_run_id\u001b[38;5;241m=\u001b[39mUNIQUE_RUN_ID\n\u001b[1;32m    298\u001b[0m )\n\u001b[1;32m    300\u001b[0m optimizer\u001b[38;5;241m.\u001b[39melite\u001b[38;5;241m.\u001b[39mversion \u001b[38;5;241m=\u001b[39m slim_version\n",
      "File \u001b[0;32m~/miniconda3/envs/nel/lib/python3.12/site-packages/slim_gsgp/algorithms/SLIM_GSGP/slim_gsgp.py:496\u001b[0m, in \u001b[0;36mSLIM_GSGP.solve\u001b[0;34m(self, X_train, X_test, y_train, y_test, curr_dataset, run_info, n_iter, elitism, log, verbose, test_elite, log_path, ffunction, max_depth, n_elites, reconstruct, n_jobs)\u001b[0m\n\u001b[1;32m    493\u001b[0m offs_pop\u001b[38;5;241m.\u001b[39mcalculate_semantics(X_train)\n\u001b[1;32m    495\u001b[0m \u001b[38;5;66;03m# evaluating the offspring population\u001b[39;00m\n\u001b[0;32m--> 496\u001b[0m \u001b[43moffs_pop\u001b[49m\u001b[38;5;241;43m.\u001b[39;49m\u001b[43mevaluate\u001b[49m\u001b[43m(\u001b[49m\u001b[43mffunction\u001b[49m\u001b[43m,\u001b[49m\u001b[43m \u001b[49m\u001b[43my\u001b[49m\u001b[38;5;241;43m=\u001b[39;49m\u001b[43my_train\u001b[49m\u001b[43m,\u001b[49m\u001b[43m \u001b[49m\u001b[43moperator\u001b[49m\u001b[38;5;241;43m=\u001b[39;49m\u001b[38;5;28;43mself\u001b[39;49m\u001b[38;5;241;43m.\u001b[39;49m\u001b[43moperator\u001b[49m\u001b[43m,\u001b[49m\u001b[43m \u001b[49m\u001b[43mn_jobs\u001b[49m\u001b[38;5;241;43m=\u001b[39;49m\u001b[43mn_jobs\u001b[49m\u001b[43m)\u001b[49m\n\u001b[1;32m    498\u001b[0m \u001b[38;5;66;03m# replacing the current population with the offspring population P = P'\u001b[39;00m\n\u001b[1;32m    499\u001b[0m population \u001b[38;5;241m=\u001b[39m offs_pop\n",
      "File \u001b[0;32m~/miniconda3/envs/nel/lib/python3.12/site-packages/slim_gsgp/algorithms/SLIM_GSGP/representations/population.py:157\u001b[0m, in \u001b[0;36mPopulation.evaluate\u001b[0;34m(self, ffunction, y, operator, n_jobs)\u001b[0m\n\u001b[1;32m    138\u001b[0m \u001b[38;5;250m\u001b[39m\u001b[38;5;124;03m\"\"\"\u001b[39;00m\n\u001b[1;32m    139\u001b[0m \u001b[38;5;124;03mEvaluate the population using a fitness function.\u001b[39;00m\n\u001b[1;32m    140\u001b[0m \n\u001b[0;32m   (...)\u001b[0m\n\u001b[1;32m    154\u001b[0m \u001b[38;5;124;03mNone\u001b[39;00m\n\u001b[1;32m    155\u001b[0m \u001b[38;5;124;03m\"\"\"\u001b[39;00m\n\u001b[1;32m    156\u001b[0m \u001b[38;5;66;03m# Evaluates individuals' fitnesses\u001b[39;00m\n\u001b[0;32m--> 157\u001b[0m \u001b[38;5;28mself\u001b[39m\u001b[38;5;241m.\u001b[39mfit \u001b[38;5;241m=\u001b[39m \u001b[43mParallel\u001b[49m\u001b[43m(\u001b[49m\u001b[43mn_jobs\u001b[49m\u001b[38;5;241;43m=\u001b[39;49m\u001b[43mn_jobs\u001b[49m\u001b[43m)\u001b[49m\u001b[43m(\u001b[49m\n\u001b[1;32m    158\u001b[0m \u001b[43m    \u001b[49m\u001b[43mdelayed\u001b[49m\u001b[43m(\u001b[49m\u001b[43m_evaluate_slim_individual\u001b[49m\u001b[43m)\u001b[49m\u001b[43m(\u001b[49m\u001b[43mindividual\u001b[49m\u001b[43m,\u001b[49m\u001b[43m \u001b[49m\u001b[43mffunction\u001b[49m\u001b[38;5;241;43m=\u001b[39;49m\u001b[43mffunction\u001b[49m\u001b[43m,\u001b[49m\u001b[43m \u001b[49m\u001b[43my\u001b[49m\u001b[38;5;241;43m=\u001b[39;49m\u001b[43my\u001b[49m\u001b[43m,\u001b[49m\u001b[43m \u001b[49m\u001b[43moperator\u001b[49m\u001b[38;5;241;43m=\u001b[39;49m\u001b[43moperator\u001b[49m\n\u001b[1;32m    159\u001b[0m \u001b[43m    \u001b[49m\u001b[43m)\u001b[49m\u001b[43m \u001b[49m\u001b[38;5;28;43;01mfor\u001b[39;49;00m\u001b[43m \u001b[49m\u001b[43mindividual\u001b[49m\u001b[43m \u001b[49m\u001b[38;5;129;43;01min\u001b[39;49;00m\u001b[43m \u001b[49m\u001b[38;5;28;43mself\u001b[39;49m\u001b[38;5;241;43m.\u001b[39;49m\u001b[43mpopulation\u001b[49m\u001b[43m)\u001b[49m\n\u001b[1;32m    161\u001b[0m \u001b[38;5;66;03m# Assigning individuals' fitness as an attribute\u001b[39;00m\n\u001b[1;32m    162\u001b[0m [\u001b[38;5;28mself\u001b[39m\u001b[38;5;241m.\u001b[39mpopulation[i]\u001b[38;5;241m.\u001b[39m\u001b[38;5;21m__setattr__\u001b[39m(\u001b[38;5;124m'\u001b[39m\u001b[38;5;124mfitness\u001b[39m\u001b[38;5;124m'\u001b[39m, f) \u001b[38;5;28;01mfor\u001b[39;00m i, f \u001b[38;5;129;01min\u001b[39;00m \u001b[38;5;28menumerate\u001b[39m(\u001b[38;5;28mself\u001b[39m\u001b[38;5;241m.\u001b[39mfit)]\n",
      "File \u001b[0;32m~/miniconda3/envs/nel/lib/python3.12/site-packages/joblib/parallel.py:1918\u001b[0m, in \u001b[0;36mParallel.__call__\u001b[0;34m(self, iterable)\u001b[0m\n\u001b[1;32m   1916\u001b[0m     output \u001b[38;5;241m=\u001b[39m \u001b[38;5;28mself\u001b[39m\u001b[38;5;241m.\u001b[39m_get_sequential_output(iterable)\n\u001b[1;32m   1917\u001b[0m     \u001b[38;5;28mnext\u001b[39m(output)\n\u001b[0;32m-> 1918\u001b[0m     \u001b[38;5;28;01mreturn\u001b[39;00m output \u001b[38;5;28;01mif\u001b[39;00m \u001b[38;5;28mself\u001b[39m\u001b[38;5;241m.\u001b[39mreturn_generator \u001b[38;5;28;01melse\u001b[39;00m \u001b[38;5;28;43mlist\u001b[39;49m\u001b[43m(\u001b[49m\u001b[43moutput\u001b[49m\u001b[43m)\u001b[49m\n\u001b[1;32m   1920\u001b[0m \u001b[38;5;66;03m# Let's create an ID that uniquely identifies the current call. If the\u001b[39;00m\n\u001b[1;32m   1921\u001b[0m \u001b[38;5;66;03m# call is interrupted early and that the same instance is immediately\u001b[39;00m\n\u001b[1;32m   1922\u001b[0m \u001b[38;5;66;03m# re-used, this id will be used to prevent workers that were\u001b[39;00m\n\u001b[1;32m   1923\u001b[0m \u001b[38;5;66;03m# concurrently finalizing a task from the previous call to run the\u001b[39;00m\n\u001b[1;32m   1924\u001b[0m \u001b[38;5;66;03m# callback.\u001b[39;00m\n\u001b[1;32m   1925\u001b[0m \u001b[38;5;28;01mwith\u001b[39;00m \u001b[38;5;28mself\u001b[39m\u001b[38;5;241m.\u001b[39m_lock:\n",
      "File \u001b[0;32m~/miniconda3/envs/nel/lib/python3.12/site-packages/joblib/parallel.py:1847\u001b[0m, in \u001b[0;36mParallel._get_sequential_output\u001b[0;34m(self, iterable)\u001b[0m\n\u001b[1;32m   1845\u001b[0m \u001b[38;5;28mself\u001b[39m\u001b[38;5;241m.\u001b[39mn_dispatched_batches \u001b[38;5;241m+\u001b[39m\u001b[38;5;241m=\u001b[39m \u001b[38;5;241m1\u001b[39m\n\u001b[1;32m   1846\u001b[0m \u001b[38;5;28mself\u001b[39m\u001b[38;5;241m.\u001b[39mn_dispatched_tasks \u001b[38;5;241m+\u001b[39m\u001b[38;5;241m=\u001b[39m \u001b[38;5;241m1\u001b[39m\n\u001b[0;32m-> 1847\u001b[0m res \u001b[38;5;241m=\u001b[39m \u001b[43mfunc\u001b[49m\u001b[43m(\u001b[49m\u001b[38;5;241;43m*\u001b[39;49m\u001b[43margs\u001b[49m\u001b[43m,\u001b[49m\u001b[43m \u001b[49m\u001b[38;5;241;43m*\u001b[39;49m\u001b[38;5;241;43m*\u001b[39;49m\u001b[43mkwargs\u001b[49m\u001b[43m)\u001b[49m\n\u001b[1;32m   1848\u001b[0m \u001b[38;5;28mself\u001b[39m\u001b[38;5;241m.\u001b[39mn_completed_tasks \u001b[38;5;241m+\u001b[39m\u001b[38;5;241m=\u001b[39m \u001b[38;5;241m1\u001b[39m\n\u001b[1;32m   1849\u001b[0m \u001b[38;5;28mself\u001b[39m\u001b[38;5;241m.\u001b[39mprint_progress()\n",
      "File \u001b[0;32m~/miniconda3/envs/nel/lib/python3.12/site-packages/slim_gsgp/utils/utils.py:677\u001b[0m, in \u001b[0;36m_evaluate_slim_individual\u001b[0;34m(individual, ffunction, y, testing, operator)\u001b[0m\n\u001b[1;32m    667\u001b[0m     individual\u001b[38;5;241m.\u001b[39mtest_fitness \u001b[38;5;241m=\u001b[39m ffunction(\n\u001b[1;32m    668\u001b[0m         y,\n\u001b[1;32m    669\u001b[0m         torch\u001b[38;5;241m.\u001b[39mclamp(\n\u001b[0;32m   (...)\u001b[0m\n\u001b[1;32m    673\u001b[0m         ),\n\u001b[1;32m    674\u001b[0m     )\n\u001b[1;32m    676\u001b[0m \u001b[38;5;28;01melse\u001b[39;00m:\n\u001b[0;32m--> 677\u001b[0m     individual\u001b[38;5;241m.\u001b[39mfitness \u001b[38;5;241m=\u001b[39m \u001b[43mffunction\u001b[49m\u001b[43m(\u001b[49m\n\u001b[1;32m    678\u001b[0m \u001b[43m        \u001b[49m\u001b[43my\u001b[49m\u001b[43m,\u001b[49m\n\u001b[1;32m    679\u001b[0m \u001b[43m        \u001b[49m\u001b[43mtorch\u001b[49m\u001b[38;5;241;43m.\u001b[39;49m\u001b[43mclamp\u001b[49m\u001b[43m(\u001b[49m\n\u001b[1;32m    680\u001b[0m \u001b[43m            \u001b[49m\u001b[43moperator\u001b[49m\u001b[43m(\u001b[49m\u001b[43mindividual\u001b[49m\u001b[38;5;241;43m.\u001b[39;49m\u001b[43mtrain_semantics\u001b[49m\u001b[43m,\u001b[49m\u001b[43m \u001b[49m\u001b[43mdim\u001b[49m\u001b[38;5;241;43m=\u001b[39;49m\u001b[38;5;241;43m0\u001b[39;49m\u001b[43m)\u001b[49m\u001b[43m,\u001b[49m\n\u001b[1;32m    681\u001b[0m \u001b[43m            \u001b[49m\u001b[38;5;241;43m-\u001b[39;49m\u001b[38;5;241;43m1000000000000.0\u001b[39;49m\u001b[43m,\u001b[49m\n\u001b[1;32m    682\u001b[0m \u001b[43m            \u001b[49m\u001b[38;5;241;43m1000000000000.0\u001b[39;49m\u001b[43m,\u001b[49m\n\u001b[1;32m    683\u001b[0m \u001b[43m        \u001b[49m\u001b[43m)\u001b[49m\u001b[43m,\u001b[49m\n\u001b[1;32m    684\u001b[0m \u001b[43m    \u001b[49m\u001b[43m)\u001b[49m\n\u001b[1;32m    686\u001b[0m     \u001b[38;5;66;03m# if testing is false, return the value so that training parallelization has effect\u001b[39;00m\n\u001b[1;32m    687\u001b[0m     \u001b[38;5;28;01mreturn\u001b[39;00m ffunction(\n\u001b[1;32m    688\u001b[0m             y,\n\u001b[1;32m    689\u001b[0m             torch\u001b[38;5;241m.\u001b[39mclamp(\n\u001b[0;32m   (...)\u001b[0m\n\u001b[1;32m    693\u001b[0m             ),\n\u001b[1;32m    694\u001b[0m         )\n",
      "File \u001b[0;32m~/miniconda3/envs/nel/lib/python3.12/site-packages/slim_gsgp/evaluators/fitness_functions.py:45\u001b[0m, in \u001b[0;36mrmse\u001b[0;34m(y_true, y_pred)\u001b[0m\n\u001b[1;32m     29\u001b[0m \u001b[38;5;28;01mdef\u001b[39;00m\u001b[38;5;250m \u001b[39m\u001b[38;5;21mrmse\u001b[39m(y_true: torch\u001b[38;5;241m.\u001b[39mTensor, y_pred: torch\u001b[38;5;241m.\u001b[39mTensor) \u001b[38;5;241m-\u001b[39m\u001b[38;5;241m>\u001b[39m torch\u001b[38;5;241m.\u001b[39mTensor:\n\u001b[1;32m     30\u001b[0m \u001b[38;5;250m    \u001b[39m\u001b[38;5;124;03m\"\"\"\u001b[39;00m\n\u001b[1;32m     31\u001b[0m \u001b[38;5;124;03m    Compute Root Mean Squared Error (RMSE).\u001b[39;00m\n\u001b[1;32m     32\u001b[0m \n\u001b[0;32m   (...)\u001b[0m\n\u001b[1;32m     43\u001b[0m \u001b[38;5;124;03m        RMSE value.\u001b[39;00m\n\u001b[1;32m     44\u001b[0m \u001b[38;5;124;03m    \"\"\"\u001b[39;00m\n\u001b[0;32m---> 45\u001b[0m     \u001b[38;5;28;01mreturn\u001b[39;00m \u001b[43mtorch\u001b[49m\u001b[38;5;241;43m.\u001b[39;49m\u001b[43msqrt\u001b[49m\u001b[43m(\u001b[49m\u001b[43mtorch\u001b[49m\u001b[38;5;241;43m.\u001b[39;49m\u001b[43mmean\u001b[49m\u001b[43m(\u001b[49m\u001b[43mtorch\u001b[49m\u001b[38;5;241;43m.\u001b[39;49m\u001b[43msquare\u001b[49m\u001b[43m(\u001b[49m\u001b[43mtorch\u001b[49m\u001b[38;5;241;43m.\u001b[39;49m\u001b[43msub\u001b[49m\u001b[43m(\u001b[49m\u001b[43my_true\u001b[49m\u001b[43m,\u001b[49m\u001b[43m \u001b[49m\u001b[43my_pred\u001b[49m\u001b[43m)\u001b[49m\u001b[43m)\u001b[49m\u001b[43m,\u001b[49m\u001b[43m \u001b[49m\u001b[43mdim\u001b[49m\u001b[38;5;241;43m=\u001b[39;49m\u001b[38;5;28;43mlen\u001b[39;49m\u001b[43m(\u001b[49m\u001b[43my_pred\u001b[49m\u001b[38;5;241;43m.\u001b[39;49m\u001b[43mshape\u001b[49m\u001b[43m)\u001b[49m\u001b[43m \u001b[49m\u001b[38;5;241;43m-\u001b[39;49m\u001b[43m \u001b[49m\u001b[38;5;241;43m1\u001b[39;49m\u001b[43m)\u001b[49m\u001b[43m)\u001b[49m\n",
      "\u001b[0;31mKeyboardInterrupt\u001b[0m: "
     ]
    }
   ],
   "source": [
    "# Running the model\n",
    "results = []\n",
    "for i_inner, (train_ix, val_ix) in enumerate(data_cv_inner):\n",
    "    print('-----\\nInner CV {}'.format(i_inner))\n",
    "    \n",
    "    # Data\n",
    "    X_train, y_train = X_learning[train_ix], y_learning[train_ix]\n",
    "    X_val, y_val = X_learning[val_ix], y_learning[val_ix]\n",
    "\n",
    "    print(f'Training shape: {X_train.shape}\\nValidation shape: {X_val.shape}\\n')\n",
    "    \n",
    "    solver_params.update({\n",
    "        'X_train': X_train, 'y_train': y_train,\n",
    "        'X_test': X_val, 'y_test': y_val\n",
    "    })\n",
    "\n",
    "    # Fit\n",
    "    log_path = f\"{log_params['log_path']}_{solver_params['algorithm']}_{str(i_inner)}.csv\"\n",
    "\n",
    "    if os.path.exists(log_path):\n",
    "        os.remove(log_path)\n",
    "\n",
    "    solver_params.update({'log_path': log_path})\n",
    "    \n",
    "    res = caller.call_model(\n",
    "        solver_params, \n",
    "        grid_params,\n",
    "        seed=(sys_params['random_seed'] + i_inner)    \n",
    "    )\n",
    "    \n",
    "    # Log\n",
    "    results.append(res)"
   ]
  },
  {
   "cell_type": "markdown",
   "metadata": {},
   "source": [
    "## 5. Model Assessment\n",
    "\n",
    "- Visualize train, validation results for convergence and overfit.\n",
    "- Assesses symbolic expressions for bloat.\n",
    "- Assess best model based on above criteria"
   ]
  },
  {
   "cell_type": "code",
   "execution_count": null,
   "metadata": {},
   "outputs": [],
   "source": [
    "# Plotting Settings\n",
    "dataset_name = solver_params['dataset_name']\n",
    "log_dir = log_params['log_path']\n",
    "train_color = sys_params['train_color']\n",
    "test_color = sys_params['test_color']"
   ]
  },
  {
   "cell_type": "code",
   "execution_count": null,
   "metadata": {},
   "outputs": [],
   "source": [
    "# Plot settings\n",
    "df_log = []\n",
    "for i_inner in range(k_inner):\n",
    "    tmp = pd.read_csv(f\"{log_dir}_{solver_params['algorithm']}_{i_inner}.csv\", header=None)\n",
    "    tmp['cv'] = i_inner\n",
    "    df_log.append(tmp)\n",
    "df_log = pd.concat(df_log, ignore_index=True)"
   ]
  },
  {
   "cell_type": "markdown",
   "metadata": {},
   "source": [
    "### Train, Validation Average Fold Results"
   ]
  },
  {
   "cell_type": "code",
   "execution_count": null,
   "metadata": {},
   "outputs": [
    {
     "data": {
      "application/vnd.plotly.v1+json": {
       "config": {
        "plotlyServerURL": "https://plot.ly"
       },
       "data": [
        {
         "line": {
          "color": "blue"
         },
         "mode": "lines",
         "name": "Train",
         "type": "scatter",
         "x": {
          "bdata": "AAABAAIAAwAEAAUABgAHAAgACQAKAAsADAANAA4ADwAQABEAEgATABQAFQAWABcAGAAZABoAGwAcAB0AHgAfACAAIQAiACMAJAAlACYAJwAoACkAKgArACwALQAuAC8AMAAxADIAMwA0ADUANgA3ADgAOQA6ADsAPAA9AD4APwBAAEEAQgBDAEQARQBGAEcASABJAEoASwBMAE0ATgBPAFAAUQBSAFMAVABVAFYAVwBYAFkAWgBbAFwAXQBeAF8AYABhAGIAYwBkAGUAZgBnAGgAaQBqAGsAbABtAG4AbwBwAHEAcgBzAHQAdQB2AHcAeAB5AHoAewB8AH0AfgB/AIAAgQCCAIMAhACFAIYAhwCIAIkAigCLAIwAjQCOAI8AkACRAJIAkwCUAJUAlgA=",
          "dtype": "i2"
         },
         "y": {
          "bdata": "ZmZmMvB1OkAiIuLldGk5QLy7u0y4PThAd3d3iUd8N0Dv7u5qu+g2QBEREa+KaDZAMzOzsKEJNkBmZuYfpr41QBEREZ/CgTVAmpnZlLBLNUBmZuZMcCc1QERERHXIDjVAd3f316r5NEDNzMwbnOo0QGZmJpkB3jRAVVWVZCDZNEB3d3foXNI0QJqZGSHZyTRARETELq/FNEAiImK1ncM0QFVV1Y8CwTRAiYjIHtG/NEDv7u4Vur00QHd3d8O1uzRAzczMCS66NEBVVVUCFbk0QHd3N+dPtzRAVVVVbUS2NECamRm3SbU0QEREBHydtDRAERERjiW0NEAAAIDS67E0QAAAgGq+rzRAVVXVPFWvNEAzMzPx/600QFVV1W4irTRAREQE8sirNEDNzEy57qo0QN7dnbBaqjRAMzOz4OWpNECamRl0Pqk0QLy7e6JxqDRA7+7u88+nNEAzM3PQY6c0QO/urkjYpjRAERGRnBWmNECJiAhWUaU0QN7dHUX1ozRAzcyMg2ijNEDe3R3HJKM0QKuqamuOojRA3t2d3yOiNEAREZEi+6A0QLy7u4mXoDRAIiLiMUqgNECrqmo3E6A0QDMzM9cinzRAMzMzXfaeNEC8u/t9/J00QCIiokxXnTRAzcxMswadNEAzMzM/3Zw0QM3MzL0rnDRAIiKiOa6bNEDv7m5MYps0QFVVFQr+mjRAiYjInySaNEDv7i6q0pk0QFVVFTqLmTRAVVUVRSyZNEAzM3PgApk0QO/uLoC7mDRAiYhIb3GYNEDe3Z36Tpg0QJqZ2XAAmDRAq6oqRsaWNEAAAMAmX5Y0QO/u7vR9lTRAERERrNGUNEAAAMCC7ZM0QDMzs/3LkzRAvLs794uTNEAREREvQ5M0QGZmZgMkkzRAZmYmta+SNEDe3R1WkJI0QFVV1U/KkTRAIiIiR5SRNEB3dzf7cJE0QFVV1ZhVkTRAZmYm5gmRNECamVnetZA0QJqZ2S6MkDRAzcwMiFyQNEBERISpE5A0QImIyFHijzRAVVVV07KPNECrquoXSI80QCIiIoqMjjRAERHRYHOONEAAAEA8Q440QCIiIqkyjjRAREQEHfGNNEBmZia53400QImISIyyjTRAERGR5huNNEB3dzdd8Yw0QHd3dwzajDRAVVVVZ12MNECrqioyQIw0QO/uLlYnjDRAzcyMBgCMNEDNzExG6Is0QO/uLgzQizRAd3e3EJCLNEDv7m52CYs0QImISO36ijRAvLt7TeGKNEBEREQPxIo0QHd3d3atijRAd3e3nQ2KNECrqqoO8ok0QN7d3enMiTRAiYjIFrSJNEBVVVVRnYk0QM3MjISRiTRAAAAAx0+JNEBERIQ6LIk0QBERkYrBiDRAq6qq5p+INEDv7u7XkIg0QJqZmRZ/iDRAq6rq6luINEDe3V3GI4g0QAAAADDHhzRAvLs7wWqHNEBERMR/W4c0QLy7Ow1FhzRAIiLiayOHNEDe3R0V34Y0QO/u7igrhjRAiYiIMhGGNEAiIuLz/IU0QJqZGbvmhTRAAABA9diFNEAAAABwwYU0QGZmphaahTRAzczMNIuFNEBERMTFeIU0QERERCxrhTRAIiJiMWCFNEA=",
          "dtype": "f8"
         }
        },
        {
         "line": {
          "width": 0
         },
         "mode": "lines",
         "showlegend": false,
         "type": "scatter",
         "x": {
          "bdata": "AAABAAIAAwAEAAUABgAHAAgACQAKAAsADAANAA4ADwAQABEAEgATABQAFQAWABcAGAAZABoAGwAcAB0AHgAfACAAIQAiACMAJAAlACYAJwAoACkAKgArACwALQAuAC8AMAAxADIAMwA0ADUANgA3ADgAOQA6ADsAPAA9AD4APwBAAEEAQgBDAEQARQBGAEcASABJAEoASwBMAE0ATgBPAFAAUQBSAFMAVABVAFYAVwBYAFkAWgBbAFwAXQBeAF8AYABhAGIAYwBkAGUAZgBnAGgAaQBqAGsAbABtAG4AbwBwAHEAcgBzAHQAdQB2AHcAeAB5AHoAewB8AH0AfgB/AIAAgQCCAIMAhACFAIYAhwCIAIkAigCLAIwAjQCOAI8AkACRAJIAkwCUAJUAlgA=",
          "dtype": "i2"
         },
         "y": {
          "bdata": "c1kE7vM0QkA49qbm5M9BQAiNmusPKEFAeNML4hyxQECVfsBabEJAQD1Qvkogxz9Atkqo9FA+P0DD0oPt8NE+QEzIUFlZfT5AUEjKfpEtPkAWMM/g4/s9QGyZd3/63D1AoWL8UIG9PUBQEeHCGK09QCOz4qOqnT1A7RuMxB6XPUBN0wzuBJA9QPan1hbqhj1AeDi1/qWBPUChrdFvdH89QBjM2EenfD1AF6gj7xJ7PUDqeG/xong9QOzc0k1zdj1AIHuD6aR0PUBAbeEo23I9QEjmopWQcD1AGDFlvuxuPUAYahfwUG09QISgFnmFbD1AHpwUM+BrPUDYGYTOuGg9QNcbobazZj1ATjw18TJmPUBe6zH/52Q9QP7/55W+Yz1A/NAuw/VhPUAXGxXAVWE9QIZLuH2YYD1AiSDCGxdgPUA4rnyl5V49QGhqbKkiXj1Advp/eYJdPUCyE8pi5Vw9QP5Vy4ZWXD1AVK+mQapbPUAoKnj+Jls9QIbUzbFqWj1APJEqDK5ZPUDqKW4VYFk9QN52/OnEWD1AVawaNvVXPUAmvIgWLVc9QOpGLgThVj1Apd6ZhW5WPUALN04OIFY9QL5xx1CeVD1ACrU02mVUPUAvTXkdSlM9QEHfDpWgUj1AFlLn4i1SPUD61+Fp9lE9QKT6q4AYUT1A0FPKF3hQPUDmJcBsOVA9QKvJG9XnTz1AtI+Een5OPUCqLDko/009QMIhJzqsTT1A5j6KGzNNPUBYB/0QAE09QLgG1NXhTD1AJATNwX9MPUBYrxb5Rkw9QM9jI2rzSz1ApT3CiANKPUAdVCWbgkk9QPhIN6h1SD1AYAuMVx5IPUCKZN3Zckc9QOicNMpURz1AlzxNLAdHPUBue1prr0Y9QBKl6wl/Rj1APsC26/lFPUDAWTxf1EU9QCeYiwb3RD1ASt6xTL1EPUAlgRukkkQ9QMxAh/VuRD1A4n65xxVEPUA2vxZmr0M9QKLg1gWAQz1AUrIlo1FDPUBPUYKIG0M9QD5KKoX4Qj1AyrjSMMVCPUBLz6PvEUI9QEb8B/2XQT1Ax8i7QXtBPUC0IbpFUkE9QLrPP68+QT1AcHxpEgpBPUBDkpBj6kA9QCow7IaOQD1ARIzT9+I/PUBoaxnPoz89QLzQqh52Pz1A1HtyjeE+PUBsSIDyuT49QG2QaXuSPj1AGA3lyE0+PUCCt9zNLT49QOK8wKULPj1ANMIUEMg9PUDQlXeibT09QG78IJdYPT1AqAZPYy49PUA7hbktCz09QGICKHXdPD1AfBbSu3I8PUDOcCwOSTw9QHBlMO0HPD1A5szPCPA7PUCwy6BDwTs9QMS+WqKwOz1Abg6/REo7PUAOgVdCDTs9QJIv6mLgOj1Abr3IkrQ6PUAqzbzMnzo9QDpowQ6GOj1A0sd8qlk6PUC4cegNLDo9QKYSXZXWOT1AuyumQpE5PUCLgCZFazk9QOa6oRtTOT1A2K4cXi45PUB2L2u5yTg9QCzXX0kxOD1AF9mbXQA4PUD5H1pl1zc9QCBtAiKxNz1AZJcViqE3PUDdD1D5aDc9QN4ctjAzNz1A0PIWMx43PUBmCPhYCTc9QNhRfRT6Nj1ARvixoek2PUA=",
          "dtype": "f8"
         }
        },
        {
         "fill": "tonexty",
         "fillcolor": "rgba(0,0,255,0.1)",
         "line": {
          "width": 0
         },
         "mode": "lines",
         "showlegend": false,
         "type": "scatter",
         "x": {
          "bdata": "AAABAAIAAwAEAAUABgAHAAgACQAKAAsADAANAA4ADwAQABEAEgATABQAFQAWABcAGAAZABoAGwAcAB0AHgAfACAAIQAiACMAJAAlACYAJwAoACkAKgArACwALQAuAC8AMAAxADIAMwA0ADUANgA3ADgAOQA6ADsAPAA9AD4APwBAAEEAQgBDAEQARQBGAEcASABJAEoASwBMAE0ATgBPAFAAUQBSAFMAVABVAFYAVwBYAFkAWgBbAFwAXQBeAF8AYABhAGIAYwBkAGUAZgBnAGgAaQBqAGsAbABtAG4AbwBwAHEAcgBzAHQAdQB2AHcAeAB5AHoAewB8AH0AfgB/AIAAgQCCAIMAhACFAIYAhwCIAIkAigCLAIwAjQCOAI8AkACRAJIAkwCUAJUAlgA=",
          "dtype": "i2"
         },
         "y": {
          "bdata": "5hnEiPiBMECnr+z8P2YuQNK6hIShVixA+4+unaosK0BowblAPJkqQMqjxybqEypAYDd82eSpKUAS9JGktlYpQKyzoslXDClAx9XRVZ/TKEBsOftx+aUoQDfeIdYsgShAmhjlvahrKECUEHHpPlAoQFIz1ByxPChAeh09CUQ2KEBCN8TFaSkoQH0WuVaQGShAIaCmvXATKEBGLeX1jQ8oQCW9o6+7CihA9tHanB4JKEDoydx0ogUoQAQkOHLwAShA8zwsVG7/J0DUepK3nf4nQE0RmHEe/CdAI/OKODj7J0A3kjf8hPonQAjQ4/1q+SdACAwb0tX4J0BPzPesPfYnQFLIvTyS8SdAuNzqEO/wJ0AP9mjGL+4nQFlVhY8M7SdAGG+zQTjrJ0AG/QhlD+knQGzgBsc56CdAuotIS2nnJ0D3CW2FLucnQCAaFjeB5SdA0Ma73DrkJ0BppTh8xOMnQMEPJRW04idAm+X27gHhJ0DVzTFb994nQG3O27D/2idAvBDe9UXaJ0CjI5vx0tknQPC8sdmv2CdAzh5CEqXYJ0D5yzJdktUnQBthkh6c1CdAPstUvEvUJ0CWPA7BDNQnQE/pPbtO0ydAuWJjwA3TJ0CSVPy8XdEnQAbKaggc0CdAB49kB7/PJ0DXHAkpiM8nQOs92/V9zidA6eDztsjNJ0DxbztYFs0nQP7BHX4ozCdAvQIZipXLJ0BpYklYTMsnQNERB3TUyidAiddA3UrKJ0AdvtJfC8onQEyuE1UqySdA3BmIOcbIJ0DHGEr4rcgnQMqeH+8ayCdAYi8mBxLHJ0DGV7Vkd8YnQMspTYMMxSdAhS0sAQrDJ0DtNkVX0MAnQPySY2KGwCdAwnVUhCHAJ0BnTY/lrb8nQHNPwvmRvydAHBks/cq+J0D5w/6ZmL4nQAYlPjI7vSdA9cskg9a8J0CS26aknrwnQL3TRnh4vCdA05smCfy7J0D75ziteLsnQCSluK8wuydAkc7n2c66J0BybgyVF7onQKmNzTyYuSdAv+Ov60C5J0AWDGOA/LgnQP2PeC4CtydAtrLM/9a2J0CXvItlaLYnQBXpCEZNtidAMBg+T7C1J0ASdXgdqrUnQNDBSSOttSdAvSudqqm0J0AMB6vWfbQnQGQ8iPR7tCdArF1wgrKzJ0DUGarjjLMnQOKa6GF4sydAAxlpiGSzJ0AxxHl9RbMnQPdBOuUosydAdFm0IrCyJ0AbkMyUSrEnQEgp4IY6sSdAoeFQbyixJ0CaBp7h+bAnQBjZje/6sCdA5LA5/1CvJ0AQyVEeNq8nQJisFs0jrydAWYiCSfCuJ0DzvRO+8q4nQK21fc3kridAI+OBkqquJ0DzDmJllq4nQCHlb2RFrSdAzy8ZdRatJ0BoIULGA60nQPOV4zzwrCdABxuxVrysJ0AJlKb9NqwnQLXaRZVvqydAepeif4iqJ0D6D8R0l6onQCN5q/1tqidA1ypP8zCqJ0CLGKHh6KknQGQN/BBKqCdA9m/qDkSoJ0CWSNQERagnQCeMYag4qCdAONHUwCCoJ0BG4F/NM6gnQN1fLfkBqCdAk00FbfCnJ0BDACFl0KcnQGFtFoi4pydA/Jckgq2nJ0A=",
          "dtype": "f8"
         }
        },
        {
         "line": {
          "color": "orange"
         },
         "mode": "lines",
         "name": "Validation",
         "type": "scatter",
         "x": {
          "bdata": "AAABAAIAAwAEAAUABgAHAAgACQAKAAsADAANAA4ADwAQABEAEgATABQAFQAWABcAGAAZABoAGwAcAB0AHgAfACAAIQAiACMAJAAlACYAJwAoACkAKgArACwALQAuAC8AMAAxADIAMwA0ADUANgA3ADgAOQA6ADsAPAA9AD4APwBAAEEAQgBDAEQARQBGAEcASABJAEoASwBMAE0ATgBPAFAAUQBSAFMAVABVAFYAVwBYAFkAWgBbAFwAXQBeAF8AYABhAGIAYwBkAGUAZgBnAGgAaQBqAGsAbABtAG4AbwBwAHEAcgBzAHQAdQB2AHcAeAB5AHoAewB8AH0AfgB/AIAAgQCCAIMAhACFAIYAhwCIAIkAigCLAIwAjQCOAI8AkACRAJIAkwCUAJUAlgA=",
          "dtype": "i2"
         },
         "y": {
          "bdata": "ZmZm7lRcOkCrqmqwcyo5QGZmJqUF0jdAd3f3VFwNN0Dv7u7AP5U2QN7dnXZpMTZAiYiIzxfwNUAAAIDPN7w1QDMz81H1hzVAvLu7mXlbNUAzM/NHEDo1QAAAQAnvJDVAERHRFF8PNUCJiEj24QE1QEREBHFb+DRAmpkZNsbzNEDv7i7e9+40QM3MTLMR5jRAERGRlj/jNEC8uzve++I0QAAAwPFe4jRAIiJiWSThNEDv7i4Xjd80QN7dXTb83DRARESEUt/cNEC8uzso7ts0QJqZmWXN2jRAzczMBLbZNECamVkObdk0QN7dHduR2DRAAADAQ3fZNEAAAIBrjdc0QM3MDLIO1TRA7+7uu8zUNEC8u/vQBdM0QM3MzBrk0TRAvLv7XdnQNECrqur1dtE0QO/urnWN0TRAIiIiThTSNEDe3Z37JdE0QJqZWQP1zzRAq6rqiHHPNEBERMSg0M40QImICIhEzjRAIiKiRl/NNEAzMzMIrcw0QDMzsxptyzRAERERkZnLNEBVVRWVyMs0QAAAQAHryjRAZmbmImrKNEDNzMx/Q8k0QAAAAD7dyDRAVVUV8prINEAiImLpXcg0QBERUc97xzRAvLs7Gg/INEB3dzcyF8c0QM3MjCWWxjRA7+7ukzfGNEDv7m4iQ8Y0QGZmpqVIxTRAMzMzRffENEBmZmY3QsU0QImIyKjDxDRAq6qqIwzENEBmZuY8V8M0QJqZmbJMwzRAq6rqQ0TDNEDe3Z3lP8M0QJqZmVCowjRAiYhIl2bCNEAAAEAGU8I0QFVV1WTRwTRAMzMz3JTANEDNzIxfh780QHd39+VUvjRA7+6uLyC/NEAAAEDhjr40QLy7u2aTvjRAAADAEVa/NEC8u/varr80QEREhIJOvzRAd3e35TO/NEAAAABoWb80QN7dnRy5vjRAq6oqRlm+NECamRn+H780QKuq6onyvjRAvLu7E7u+NEAzMzO8Zb40QO/u7sgQvjRAd3e3iAa+NEDv7u5UT740QDMzM/i6vTRAVVUVd6u9NEBVVZWEbr00QDMz886dvDRAMzMzqVe9NEARERHBBL00QImIyLDsvDRAIiKi1pW8NEBERIQycrw0QKuq6j9HvDRAZmYmFq27NEBmZuY5nbs0QAAAwA6SuzRAvLv7fPu6NECJiIgM97o0QImIiIHEujRAVVVV1rC6NEAAAEBzmro0QDMzs4h7ujRAmpkZIJK5NECrquoMlLo0QKuqqi4yujRAVVWV3iG6NEAzM/MlOro0QGZmpnEdujRA7+7uVaa5NEDe3V3gn7k0QHd398e0uTRAq6rqa7+5NEDv7u4sqLk0QImIiEqTuTRA7+5uTSW5NEBEREQbDLk0QM3MjIW0uDRAMzNzcoa4NEDNzAxTkbg0QAAAgB//uDRAzcwMewu5NECJiMi/R7k0QLy7O2oSuTRAq6pqSSW4NEAiIiLDGLg0QLy7+8LWtzRAiYiISKu3NECamdmFdbc0QLy7ewqhtjRA7+7uUoK2NEAiIiIFhLY0QBERUaOAtjRAIiJirom2NECamZnLZ7Y0QN7dHft+tjRAiYjIH3m2NEB3dzfkZbY0QLy7O2g7tjRAiYhIwCa2NEA=",
          "dtype": "f8"
         }
        },
        {
         "line": {
          "width": 0
         },
         "mode": "lines",
         "showlegend": false,
         "type": "scatter",
         "x": {
          "bdata": "AAABAAIAAwAEAAUABgAHAAgACQAKAAsADAANAA4ADwAQABEAEgATABQAFQAWABcAGAAZABoAGwAcAB0AHgAfACAAIQAiACMAJAAlACYAJwAoACkAKgArACwALQAuAC8AMAAxADIAMwA0ADUANgA3ADgAOQA6ADsAPAA9AD4APwBAAEEAQgBDAEQARQBGAEcASABJAEoASwBMAE0ATgBPAFAAUQBSAFMAVABVAFYAVwBYAFkAWgBbAFwAXQBeAF8AYABhAGIAYwBkAGUAZgBnAGgAaQBqAGsAbABtAG4AbwBwAHEAcgBzAHQAdQB2AHcAeAB5AHoAewB8AH0AfgB/AIAAgQCCAIMAhACFAIYAhwCIAIkAigCLAIwAjQCOAI8AkACRAJIAkwCUAJUAlgA=",
          "dtype": "i2"
         },
         "y": {
          "bdata": "Ho0jU/YgQkA/pmZWEKlBQLFkQBbT80BA9VZBBcV/QEAsC4xD5BxAQK6Woel8kj9Al5GXYcQdP0A5pNmGIcM+QM6ezknkeT5Aom8H/gA0PkCGibM3CAc+QKTP6vo67D1AhP9GAXHOPUDCED8FhMA9QGBiT2YotD1AMlY7bC2uPUC7Z1PMqqg9QHjDIW3Hnz1AwHJzwI6bPUDUjcnLSJo9QOys8oezmD1ADK9gnt2XPUCCHl+8vZU9QE2Wyyg9lD1ABt8d+pySPUCGNtsY5ZA9QEvCchBLjz1A1sfC38KNPUAIkMGTWYw9QIKgeyZliz1ALuBg0MmLPUDvs1cp0Ig9QHze9SbKhj1AfnZKF1OGPUA15h8Q6YQ9QJvni4SXgz1Ayj87ZiCCPUD0rx7KDoI9QDbR5A7ugT1ArgZiOfmBPUC2t1kYp4A9QPiP7BDGfz1Aiwe0rEp/PUDIbCUshH49QKH4PhL9fT1AYrheVFp9PUAkdxne93w9QMgvVdNkfD1AZvx0Mit8PUDeRROsBnw9QIFlAJ9Zez1A/dO8/XJ6PUAdd9xg4nk9QB+py1aaeT1AoK9ZmTZ5PUCYPewD+Hg9QAYnWN2bdz1Ahzd/rsN3PUD0UJUO83Y9QAOqy2lodj1ADgb/gxl2PUAoiXF4+XU9QIRHCXL3dD1AKTh3Aod0PUACa5g7dnQ9QDW7AvgVdD1AppInV9NyPUCEO2KdTXI9QLQI5ocncj1AypE7CtFxPUAmIUiMnXE9QApDJqZucT1AMAoqyxdxPUDfPc7J33A9QEjwfVt4cD1A6EleYJ1uPUDmh9B4H249QE7Q62lZbT1AYMmIPmVtPUBUO9kM9Gw9QD02i6HabD1AxXWiCu5tPUDqNQVG3209QNsLPt+MbT1AXjaEA1VtPUDLfKUUUm09QLqTJbKnbD1Agt0etWJsPUAg8WSWn2w9QCR544ZzbD1ABBdGNz5sPUA6wljd2Gs9QNI1Azubaz1AOMvTjnxrPUCMF2uXnGs9QKyR9R9vaz1AWvMAojtrPUDEtMxOq2o9QPJ5Hlgvaj1AVIucc3VqPUBFwbGGJWo9QAh23EkUaj1ALI11lO9pPUCcjL1GxWk9QBXnP9JzaT1AcgJcndRoPUA6wAeYwmg9QE+pce+kaD1AQEScQgtoPUAkGNC//mc9QAjAbd/MZz1AHi72GZVnPUBiQd2qcWc9QFrZ7AVOZz1AiL94KOdmPUCmm71vCWc9QC6lmt+wZj1AFKCmyYNmPUDa50URhmY9QBoLJxdZZj1A7na7qzhmPUCicJOPE2Y9QATGxkftZT1AIKEGr/NlPUCX13yBy2U9QN6matm0ZT1AJD1HkjJlPUDEchmHAmU9QG4T5iXmZD1AFBi4ULZkPUA7kOh0rmQ9QPSYr8zyZD1ApA7JPeFkPUDEUcqp/WQ9QHzWguy8ZD1AiEjv0B5kPUC+t8qI+mM9QBSz0hfRYz1AJOohibtjPUC3DGHwZmM9QNVGsKrRYj1A/s4M7Z5iPUCgZkM9gWI9QBAj3/NlYj1AUzxrgmdiPUAwlFdUJGI9QKvfJ6MlYj1A2HviYQ5iPUAbB+eH+mE9QAcSFlHSYT1APuKARL5hPUA=",
          "dtype": "f8"
         }
        },
        {
         "fill": "tonexty",
         "fillcolor": "rgba(255,165,0,0.1)",
         "line": {
          "width": 0
         },
         "mode": "lines",
         "showlegend": false,
         "type": "scatter",
         "x": {
          "bdata": "AAABAAIAAwAEAAUABgAHAAgACQAKAAsADAANAA4ADwAQABEAEgATABQAFQAWABcAGAAZABoAGwAcAB0AHgAfACAAIQAiACMAJAAlACYAJwAoACkAKgArACwALQAuAC8AMAAxADIAMwA0ADUANgA3ADgAOQA6ADsAPAA9AD4APwBAAEEAQgBDAEQARQBGAEcASABJAEoASwBMAE0ATgBPAFAAUQBSAFMAVABVAFYAVwBYAFkAWgBbAFwAXQBeAF8AYABhAGIAYwBkAGUAZgBnAGgAaQBqAGsAbABtAG4AbwBwAHEAcgBzAHQAdQB2AHcAeAB5AHoAewB8AH0AfgB/AIAAgQCCAIMAhACFAIYAhwCIAIkAigCLAIwAjQCOAI8AkACRAJIAkwCUAJUAlgA=",
          "dtype": "i2"
         },
         "y": {
          "bdata": "kbKFNr12MECvERBojQUuQNQGmDvKeCtAB4LYPl02KkAMj4v1beEpQB1KNAesoClA9v7yetaEKUCOt0wwnGopQC+PL7QMLClArA/gauQFKUDAuWWwMNooQLhgKi9GuyhAPUW2UJqgKEChAKTOf4YoQFFMcvcceShAA7rv/71yKEBG7BTgiWooQESs7/K3WChAxF5d2eBVKEBJ01vhXVcoQCmmGrcUWChAcSrHKNZUKEC5fv3juFIoQN5K4Id2SyhAA1PVVUNOKEDlgThv7k0oQNLhgHWfTChAh6OtU1JLKEBZRuMRAU0oQHQ2gB99SyhAoz8+bklOKEAimFBblUwoQD12R3qmRihAv84mwYxGKECGIq8jRUIoQP5jG2JhQChAXG94qyQ/KEDDSm1DvkEoQE8Z8rhZQihAK3vExV5EKEALCMS9SUMoQHhGjetHQChAlptCyjA/KEB/N8YqOj4oQOIwpPsXPShAxBfLccg6KECD3plkxDgoQDxtIsTqNChAd0ta3w82KECYyS78FDcoQP40/8b4NChAnvEfkMI0KED6RHo9STEoQMKtaEpAMChAFPahlf4vKEBXDbCdhy8oQDj2k4K3LihA4n/wC7UwKED1O7Ordi4oQC7fm8KHLShAn6+9R6ssKEBsqdiYGS0oQI8Kh7IzKyhAelzeD88qKECVw2hmHCwoQLqrHLPiKihAX4Vb4IkqKECPItW4wSgoQABVmrrjKChAGYcz+24pKEAtNed9xCkoQFTgGfbDJyhAww3OxmonKEBChGOFjCcoQMV0WdxUJihA/DgQsBglKEBpI5KM3iEoQEE9BsSgHihA/SiqQbYhKEBXiU1rUyAoQHaC2FeYIChAdhS7MXwhKEAdg+Tf/CIoQFr5lEsgIihAH3HVjyUiKEBqBrV2wSIoQANQLA6VIShAqO9srp8gKEAohJzLQCMoQGS44xnjIihA6cBi4G8iKEBYSBs25SEoQBhQta0MIShAbEc2BSEhKECljOUkBCIoQHWp4aANIChAoW5TmDYgKEDM67t0YyAoQOjYj4sYHihAJbaTvXMgKEC6weD2xx8oQBM2aS+KHyhAMW6dMXgeKEDX95U8Ph4oQILcKls1HihAs5ThHQsdKEAkGYq37xwoQGKtHFz+HChAcGa2btcbKEDd8YGy3hsoQBOiRkd4GyhAGPloJZkbKEA9fUV3hhsoQBca8xZSGyhAWed0L3oYKEBgcy9UPRwoQE9gdftmGyhALBUI538bKEAZ/UB13BsoQGSDS5jDGyhA381EACgaKEAzllBiWBooQNNRUJD4GihAbWidURYbKECODMKwCRsoQGnUTHfjGihAdEEtETAaKECHK95eKxooQFgMZ8oFGShAo5xcKK0YKEC+EmJi6BgoQBfOoOQWGihA7BWhcGsaKECdfo2rIxsoQPlB6c/PGihAnBnMg1cYKEAMGfP6bRgoQMmISdy4FyhA3E3eDzYXKED6TKQ2CBcoQEZhjtTgFChAwB2iccsUKEBIuwGaDRUoQCX+haU2FShA4g+ytFcVKEAHPreFVhUoQCK4J6awFShAcypdu8cVKECmzw+BohUoQOLKwv5IFShAp10geB4VKEA=",
          "dtype": "f8"
         }
        }
       ],
       "layout": {
        "height": 500,
        "legend": {
         "orientation": "h",
         "x": 0.5,
         "xanchor": "center",
         "y": -0.2
        },
        "template": {
         "data": {
          "bar": [
           {
            "error_x": {
             "color": "#2a3f5f"
            },
            "error_y": {
             "color": "#2a3f5f"
            },
            "marker": {
             "line": {
              "color": "#E5ECF6",
              "width": 0.5
             },
             "pattern": {
              "fillmode": "overlay",
              "size": 10,
              "solidity": 0.2
             }
            },
            "type": "bar"
           }
          ],
          "barpolar": [
           {
            "marker": {
             "line": {
              "color": "#E5ECF6",
              "width": 0.5
             },
             "pattern": {
              "fillmode": "overlay",
              "size": 10,
              "solidity": 0.2
             }
            },
            "type": "barpolar"
           }
          ],
          "carpet": [
           {
            "aaxis": {
             "endlinecolor": "#2a3f5f",
             "gridcolor": "white",
             "linecolor": "white",
             "minorgridcolor": "white",
             "startlinecolor": "#2a3f5f"
            },
            "baxis": {
             "endlinecolor": "#2a3f5f",
             "gridcolor": "white",
             "linecolor": "white",
             "minorgridcolor": "white",
             "startlinecolor": "#2a3f5f"
            },
            "type": "carpet"
           }
          ],
          "choropleth": [
           {
            "colorbar": {
             "outlinewidth": 0,
             "ticks": ""
            },
            "type": "choropleth"
           }
          ],
          "contour": [
           {
            "colorbar": {
             "outlinewidth": 0,
             "ticks": ""
            },
            "colorscale": [
             [
              0,
              "#0d0887"
             ],
             [
              0.1111111111111111,
              "#46039f"
             ],
             [
              0.2222222222222222,
              "#7201a8"
             ],
             [
              0.3333333333333333,
              "#9c179e"
             ],
             [
              0.4444444444444444,
              "#bd3786"
             ],
             [
              0.5555555555555556,
              "#d8576b"
             ],
             [
              0.6666666666666666,
              "#ed7953"
             ],
             [
              0.7777777777777778,
              "#fb9f3a"
             ],
             [
              0.8888888888888888,
              "#fdca26"
             ],
             [
              1,
              "#f0f921"
             ]
            ],
            "type": "contour"
           }
          ],
          "contourcarpet": [
           {
            "colorbar": {
             "outlinewidth": 0,
             "ticks": ""
            },
            "type": "contourcarpet"
           }
          ],
          "heatmap": [
           {
            "colorbar": {
             "outlinewidth": 0,
             "ticks": ""
            },
            "colorscale": [
             [
              0,
              "#0d0887"
             ],
             [
              0.1111111111111111,
              "#46039f"
             ],
             [
              0.2222222222222222,
              "#7201a8"
             ],
             [
              0.3333333333333333,
              "#9c179e"
             ],
             [
              0.4444444444444444,
              "#bd3786"
             ],
             [
              0.5555555555555556,
              "#d8576b"
             ],
             [
              0.6666666666666666,
              "#ed7953"
             ],
             [
              0.7777777777777778,
              "#fb9f3a"
             ],
             [
              0.8888888888888888,
              "#fdca26"
             ],
             [
              1,
              "#f0f921"
             ]
            ],
            "type": "heatmap"
           }
          ],
          "histogram": [
           {
            "marker": {
             "pattern": {
              "fillmode": "overlay",
              "size": 10,
              "solidity": 0.2
             }
            },
            "type": "histogram"
           }
          ],
          "histogram2d": [
           {
            "colorbar": {
             "outlinewidth": 0,
             "ticks": ""
            },
            "colorscale": [
             [
              0,
              "#0d0887"
             ],
             [
              0.1111111111111111,
              "#46039f"
             ],
             [
              0.2222222222222222,
              "#7201a8"
             ],
             [
              0.3333333333333333,
              "#9c179e"
             ],
             [
              0.4444444444444444,
              "#bd3786"
             ],
             [
              0.5555555555555556,
              "#d8576b"
             ],
             [
              0.6666666666666666,
              "#ed7953"
             ],
             [
              0.7777777777777778,
              "#fb9f3a"
             ],
             [
              0.8888888888888888,
              "#fdca26"
             ],
             [
              1,
              "#f0f921"
             ]
            ],
            "type": "histogram2d"
           }
          ],
          "histogram2dcontour": [
           {
            "colorbar": {
             "outlinewidth": 0,
             "ticks": ""
            },
            "colorscale": [
             [
              0,
              "#0d0887"
             ],
             [
              0.1111111111111111,
              "#46039f"
             ],
             [
              0.2222222222222222,
              "#7201a8"
             ],
             [
              0.3333333333333333,
              "#9c179e"
             ],
             [
              0.4444444444444444,
              "#bd3786"
             ],
             [
              0.5555555555555556,
              "#d8576b"
             ],
             [
              0.6666666666666666,
              "#ed7953"
             ],
             [
              0.7777777777777778,
              "#fb9f3a"
             ],
             [
              0.8888888888888888,
              "#fdca26"
             ],
             [
              1,
              "#f0f921"
             ]
            ],
            "type": "histogram2dcontour"
           }
          ],
          "mesh3d": [
           {
            "colorbar": {
             "outlinewidth": 0,
             "ticks": ""
            },
            "type": "mesh3d"
           }
          ],
          "parcoords": [
           {
            "line": {
             "colorbar": {
              "outlinewidth": 0,
              "ticks": ""
             }
            },
            "type": "parcoords"
           }
          ],
          "pie": [
           {
            "automargin": true,
            "type": "pie"
           }
          ],
          "scatter": [
           {
            "fillpattern": {
             "fillmode": "overlay",
             "size": 10,
             "solidity": 0.2
            },
            "type": "scatter"
           }
          ],
          "scatter3d": [
           {
            "line": {
             "colorbar": {
              "outlinewidth": 0,
              "ticks": ""
             }
            },
            "marker": {
             "colorbar": {
              "outlinewidth": 0,
              "ticks": ""
             }
            },
            "type": "scatter3d"
           }
          ],
          "scattercarpet": [
           {
            "marker": {
             "colorbar": {
              "outlinewidth": 0,
              "ticks": ""
             }
            },
            "type": "scattercarpet"
           }
          ],
          "scattergeo": [
           {
            "marker": {
             "colorbar": {
              "outlinewidth": 0,
              "ticks": ""
             }
            },
            "type": "scattergeo"
           }
          ],
          "scattergl": [
           {
            "marker": {
             "colorbar": {
              "outlinewidth": 0,
              "ticks": ""
             }
            },
            "type": "scattergl"
           }
          ],
          "scattermap": [
           {
            "marker": {
             "colorbar": {
              "outlinewidth": 0,
              "ticks": ""
             }
            },
            "type": "scattermap"
           }
          ],
          "scattermapbox": [
           {
            "marker": {
             "colorbar": {
              "outlinewidth": 0,
              "ticks": ""
             }
            },
            "type": "scattermapbox"
           }
          ],
          "scatterpolar": [
           {
            "marker": {
             "colorbar": {
              "outlinewidth": 0,
              "ticks": ""
             }
            },
            "type": "scatterpolar"
           }
          ],
          "scatterpolargl": [
           {
            "marker": {
             "colorbar": {
              "outlinewidth": 0,
              "ticks": ""
             }
            },
            "type": "scatterpolargl"
           }
          ],
          "scatterternary": [
           {
            "marker": {
             "colorbar": {
              "outlinewidth": 0,
              "ticks": ""
             }
            },
            "type": "scatterternary"
           }
          ],
          "surface": [
           {
            "colorbar": {
             "outlinewidth": 0,
             "ticks": ""
            },
            "colorscale": [
             [
              0,
              "#0d0887"
             ],
             [
              0.1111111111111111,
              "#46039f"
             ],
             [
              0.2222222222222222,
              "#7201a8"
             ],
             [
              0.3333333333333333,
              "#9c179e"
             ],
             [
              0.4444444444444444,
              "#bd3786"
             ],
             [
              0.5555555555555556,
              "#d8576b"
             ],
             [
              0.6666666666666666,
              "#ed7953"
             ],
             [
              0.7777777777777778,
              "#fb9f3a"
             ],
             [
              0.8888888888888888,
              "#fdca26"
             ],
             [
              1,
              "#f0f921"
             ]
            ],
            "type": "surface"
           }
          ],
          "table": [
           {
            "cells": {
             "fill": {
              "color": "#EBF0F8"
             },
             "line": {
              "color": "white"
             }
            },
            "header": {
             "fill": {
              "color": "#C8D4E3"
             },
             "line": {
              "color": "white"
             }
            },
            "type": "table"
           }
          ]
         },
         "layout": {
          "annotationdefaults": {
           "arrowcolor": "#2a3f5f",
           "arrowhead": 0,
           "arrowwidth": 1
          },
          "autotypenumbers": "strict",
          "coloraxis": {
           "colorbar": {
            "outlinewidth": 0,
            "ticks": ""
           }
          },
          "colorscale": {
           "diverging": [
            [
             0,
             "#8e0152"
            ],
            [
             0.1,
             "#c51b7d"
            ],
            [
             0.2,
             "#de77ae"
            ],
            [
             0.3,
             "#f1b6da"
            ],
            [
             0.4,
             "#fde0ef"
            ],
            [
             0.5,
             "#f7f7f7"
            ],
            [
             0.6,
             "#e6f5d0"
            ],
            [
             0.7,
             "#b8e186"
            ],
            [
             0.8,
             "#7fbc41"
            ],
            [
             0.9,
             "#4d9221"
            ],
            [
             1,
             "#276419"
            ]
           ],
           "sequential": [
            [
             0,
             "#0d0887"
            ],
            [
             0.1111111111111111,
             "#46039f"
            ],
            [
             0.2222222222222222,
             "#7201a8"
            ],
            [
             0.3333333333333333,
             "#9c179e"
            ],
            [
             0.4444444444444444,
             "#bd3786"
            ],
            [
             0.5555555555555556,
             "#d8576b"
            ],
            [
             0.6666666666666666,
             "#ed7953"
            ],
            [
             0.7777777777777778,
             "#fb9f3a"
            ],
            [
             0.8888888888888888,
             "#fdca26"
            ],
            [
             1,
             "#f0f921"
            ]
           ],
           "sequentialminus": [
            [
             0,
             "#0d0887"
            ],
            [
             0.1111111111111111,
             "#46039f"
            ],
            [
             0.2222222222222222,
             "#7201a8"
            ],
            [
             0.3333333333333333,
             "#9c179e"
            ],
            [
             0.4444444444444444,
             "#bd3786"
            ],
            [
             0.5555555555555556,
             "#d8576b"
            ],
            [
             0.6666666666666666,
             "#ed7953"
            ],
            [
             0.7777777777777778,
             "#fb9f3a"
            ],
            [
             0.8888888888888888,
             "#fdca26"
            ],
            [
             1,
             "#f0f921"
            ]
           ]
          },
          "colorway": [
           "#636efa",
           "#EF553B",
           "#00cc96",
           "#ab63fa",
           "#FFA15A",
           "#19d3f3",
           "#FF6692",
           "#B6E880",
           "#FF97FF",
           "#FECB52"
          ],
          "font": {
           "color": "#2a3f5f"
          },
          "geo": {
           "bgcolor": "white",
           "lakecolor": "white",
           "landcolor": "#E5ECF6",
           "showlakes": true,
           "showland": true,
           "subunitcolor": "white"
          },
          "hoverlabel": {
           "align": "left"
          },
          "hovermode": "closest",
          "mapbox": {
           "style": "light"
          },
          "paper_bgcolor": "white",
          "plot_bgcolor": "#E5ECF6",
          "polar": {
           "angularaxis": {
            "gridcolor": "white",
            "linecolor": "white",
            "ticks": ""
           },
           "bgcolor": "#E5ECF6",
           "radialaxis": {
            "gridcolor": "white",
            "linecolor": "white",
            "ticks": ""
           }
          },
          "scene": {
           "xaxis": {
            "backgroundcolor": "#E5ECF6",
            "gridcolor": "white",
            "gridwidth": 2,
            "linecolor": "white",
            "showbackground": true,
            "ticks": "",
            "zerolinecolor": "white"
           },
           "yaxis": {
            "backgroundcolor": "#E5ECF6",
            "gridcolor": "white",
            "gridwidth": 2,
            "linecolor": "white",
            "showbackground": true,
            "ticks": "",
            "zerolinecolor": "white"
           },
           "zaxis": {
            "backgroundcolor": "#E5ECF6",
            "gridcolor": "white",
            "gridwidth": 2,
            "linecolor": "white",
            "showbackground": true,
            "ticks": "",
            "zerolinecolor": "white"
           }
          },
          "shapedefaults": {
           "line": {
            "color": "#2a3f5f"
           }
          },
          "ternary": {
           "aaxis": {
            "gridcolor": "white",
            "linecolor": "white",
            "ticks": ""
           },
           "baxis": {
            "gridcolor": "white",
            "linecolor": "white",
            "ticks": ""
           },
           "bgcolor": "#E5ECF6",
           "caxis": {
            "gridcolor": "white",
            "linecolor": "white",
            "ticks": ""
           }
          },
          "title": {
           "x": 0.05
          },
          "xaxis": {
           "automargin": true,
           "gridcolor": "white",
           "linecolor": "white",
           "ticks": "",
           "title": {
            "standoff": 15
           },
           "zerolinecolor": "white",
           "zerolinewidth": 2
          },
          "yaxis": {
           "automargin": true,
           "gridcolor": "white",
           "linecolor": "white",
           "ticks": "",
           "title": {
            "standoff": 15
           },
           "zerolinecolor": "white",
           "zerolinewidth": 2
          }
         }
        },
        "title": {
         "text": "SLIM - Train vs Validation Fitness ('sustavianfeed' dataset)"
        },
        "width": 800,
        "xaxis": {
         "title": {
          "text": "Generation"
         }
        },
        "yaxis": {
         "range": [
          0,
          null
         ],
         "title": {
          "text": "RMSE"
         }
        }
       }
      }
     },
     "metadata": {},
     "output_type": "display_data"
    }
   ],
   "source": [
    "plotter.make_evolution_plot(\n",
    "    df_log,  plot_title = f\"SLIM - Train vs Validation Fitness ('{dataset_name}' dataset)\", var='rmse')"
   ]
  },
  {
   "cell_type": "markdown",
   "metadata": {},
   "source": [
    "### By Fold, Test Fitness"
   ]
  },
  {
   "cell_type": "code",
   "execution_count": null,
   "metadata": {},
   "outputs": [
    {
     "data": {
      "application/vnd.plotly.v1+json": {
       "config": {
        "plotlyServerURL": "https://plot.ly"
       },
       "data": [
        {
         "boxpoints": "all",
         "jitter": 0.5,
         "line": {
          "color": "orange"
         },
         "name": "pop_size: 50 <br /> prob_const: 0.8 <br /> ms_lower: 0.033 <br /> ms_upper: 0.13333 <br /> p_inflate: 0.5 <br /> slim_version: SLIM+SIG2 <br /> ",
         "pointpos": 0,
         "type": "box",
         "y": [
          16.49308967590332,
          11.395835876464844,
          35.6889533996582,
          23.069360733032227,
          24.44359016418457
         ]
        },
        {
         "boxpoints": "all",
         "jitter": 0.5,
         "line": {
          "color": "orange"
         },
         "name": "pop_size: 50 <br /> prob_const: 0.8 <br /> ms_lower: 0.033 <br /> ms_upper: 0.13333 <br /> p_inflate: 0.5 <br /> slim_version: SLIM+SIG1 <br /> ",
         "pointpos": 0,
         "type": "box",
         "y": [
          16.32619285583496,
          11.354706764221191,
          35.49333572387695,
          22.910350799560547,
          24.24886703491211
         ]
        },
        {
         "boxpoints": "all",
         "jitter": 0.5,
         "line": {
          "color": "orange"
         },
         "name": "pop_size: 50 <br /> prob_const: 0.8 <br /> ms_lower: 0.033 <br /> ms_upper: 0.13333 <br /> p_inflate: 0.5 <br /> slim_version: SLIM+ABS <br /> ",
         "pointpos": 0,
         "type": "box",
         "y": [
          16.442493438720703,
          11.383740425109863,
          35.57564163208008,
          23.046199798583984,
          24.44775390625
         ]
        },
        {
         "boxpoints": "all",
         "jitter": 0.5,
         "line": {
          "color": "orange"
         },
         "name": "pop_size: 50 <br /> prob_const: 0.8 <br /> ms_lower: 0.033 <br /> ms_upper: 0.13333 <br /> p_inflate: 0.5 <br /> slim_version: SLIM*SIG2 <br /> ",
         "pointpos": 0,
         "type": "box",
         "y": [
          16.861434936523438,
          10.735249519348145,
          18.266050338745117,
          15.612771034240723,
          15.851548194885254
         ]
        },
        {
         "boxpoints": "all",
         "jitter": 0.5,
         "line": {
          "color": "orange"
         },
         "name": "pop_size: 50 <br /> prob_const: 0.8 <br /> ms_lower: 0.033 <br /> ms_upper: 0.13333 <br /> p_inflate: 0.5 <br /> slim_version: SLIM*SIG1 <br /> ",
         "pointpos": 0,
         "type": "box",
         "y": [
          16.183977127075195,
          10.65822696685791,
          18.10543441772461,
          15.724568367004395,
          15.808855056762695
         ]
        },
        {
         "boxpoints": "all",
         "jitter": 0.5,
         "line": {
          "color": "orange"
         },
         "name": "pop_size: 50 <br /> prob_const: 0.8 <br /> ms_lower: 0.033 <br /> ms_upper: 0.13333 <br /> p_inflate: 0.5 <br /> slim_version: SLIM*ABS <br /> ",
         "pointpos": 0,
         "type": "box",
         "y": [
          18.197895050048828,
          10.823816299438477,
          18.202796936035156,
          15.586861610412598,
          15.648653984069824
         ]
        },
        {
         "boxpoints": "all",
         "jitter": 0.5,
         "line": {
          "color": "orange"
         },
         "name": "pop_size: 50 <br /> prob_const: 0.8 <br /> ms_lower: 0.033 <br /> ms_upper: 0.13333 <br /> p_inflate: 0.75 <br /> slim_version: SLIM+SIG2 <br /> ",
         "pointpos": 0,
         "type": "box",
         "y": [
          16.700145721435547,
          11.609794616699219,
          35.927825927734375,
          23.42518424987793,
          24.656803131103516
         ]
        },
        {
         "boxpoints": "all",
         "jitter": 0.5,
         "line": {
          "color": "orange"
         },
         "name": "pop_size: 50 <br /> prob_const: 0.8 <br /> ms_lower: 0.033 <br /> ms_upper: 0.13333 <br /> p_inflate: 0.75 <br /> slim_version: SLIM+SIG1 <br /> ",
         "pointpos": 0,
         "type": "box",
         "y": [
          16.58024787902832,
          11.402544021606445,
          35.54011535644531,
          23.027917861938477,
          24.514385223388672
         ]
        },
        {
         "boxpoints": "all",
         "jitter": 0.5,
         "line": {
          "color": "orange"
         },
         "name": "pop_size: 50 <br /> prob_const: 0.8 <br /> ms_lower: 0.033 <br /> ms_upper: 0.13333 <br /> p_inflate: 0.75 <br /> slim_version: SLIM+ABS <br /> ",
         "pointpos": 0,
         "type": "box",
         "y": [
          16.534570693969727,
          11.506998062133789,
          35.76561737060547,
          23.092844009399414,
          24.562747955322266
         ]
        },
        {
         "boxpoints": "all",
         "jitter": 0.5,
         "line": {
          "color": "orange"
         },
         "name": "pop_size: 50 <br /> prob_const: 0.8 <br /> ms_lower: 0.033 <br /> ms_upper: 0.13333 <br /> p_inflate: 0.75 <br /> slim_version: SLIM*SIG2 <br /> ",
         "pointpos": 0,
         "type": "box",
         "y": [
          16.799165725708008,
          10.7057523727417,
          18.017370223999023,
          15.608235359191895,
          15.67168140411377
         ]
        },
        {
         "boxpoints": "all",
         "jitter": 0.5,
         "line": {
          "color": "orange"
         },
         "name": "pop_size: 50 <br /> prob_const: 0.8 <br /> ms_lower: 0.033 <br /> ms_upper: 0.13333 <br /> p_inflate: 0.75 <br /> slim_version: SLIM*SIG1 <br /> ",
         "pointpos": 0,
         "type": "box",
         "y": [
          16.0322208404541,
          10.705968856811523,
          18.174650192260742,
          15.374044418334961,
          16.329193115234375
         ]
        },
        {
         "boxpoints": "all",
         "jitter": 0.5,
         "line": {
          "color": "orange"
         },
         "name": "pop_size: 50 <br /> prob_const: 0.8 <br /> ms_lower: 0.033 <br /> ms_upper: 0.13333 <br /> p_inflate: 0.75 <br /> slim_version: SLIM*ABS <br /> ",
         "pointpos": 0,
         "type": "box",
         "y": [
          16.247888565063477,
          10.663125991821289,
          18.203371047973633,
          15.926079750061035,
          15.875362396240234
         ]
        },
        {
         "boxpoints": "all",
         "jitter": 0.5,
         "line": {
          "color": "orange"
         },
         "name": "pop_size: 50 <br /> prob_const: 0.8 <br /> ms_lower: 0.033 <br /> ms_upper: 0.16666 <br /> p_inflate: 0.5 <br /> slim_version: SLIM+SIG2 <br /> ",
         "pointpos": 0,
         "type": "box",
         "y": [
          16.268539428710938,
          11.289937973022461,
          35.45928192138672,
          22.896759033203125,
          24.28985023498535
         ]
        },
        {
         "boxpoints": "all",
         "jitter": 0.5,
         "line": {
          "color": "orange"
         },
         "name": "pop_size: 50 <br /> prob_const: 0.8 <br /> ms_lower: 0.033 <br /> ms_upper: 0.16666 <br /> p_inflate: 0.5 <br /> slim_version: SLIM+SIG1 <br /> ",
         "pointpos": 0,
         "type": "box",
         "y": [
          16.13279151916504,
          11.225174903869629,
          35.16606903076172,
          22.64523696899414,
          23.99747085571289
         ]
        },
        {
         "boxpoints": "all",
         "jitter": 0.5,
         "line": {
          "color": "orange"
         },
         "name": "pop_size: 50 <br /> prob_const: 0.8 <br /> ms_lower: 0.033 <br /> ms_upper: 0.16666 <br /> p_inflate: 0.5 <br /> slim_version: SLIM+ABS <br /> ",
         "pointpos": 0,
         "type": "box",
         "y": [
          16.283220291137695,
          11.250626564025879,
          35.31425857543945,
          22.780136108398438,
          24.21122932434082
         ]
        },
        {
         "boxpoints": "all",
         "jitter": 0.5,
         "line": {
          "color": "orange"
         },
         "name": "pop_size: 50 <br /> prob_const: 0.8 <br /> ms_lower: 0.033 <br /> ms_upper: 0.16666 <br /> p_inflate: 0.5 <br /> slim_version: SLIM*SIG2 <br /> ",
         "pointpos": 0,
         "type": "box",
         "y": [
          16.337324142456055,
          9.598156929016113,
          18.337804794311523,
          15.767691612243652,
          15.879539489746094
         ]
        },
        {
         "boxpoints": "all",
         "jitter": 0.5,
         "line": {
          "color": "orange"
         },
         "name": "pop_size: 50 <br /> prob_const: 0.8 <br /> ms_lower: 0.033 <br /> ms_upper: 0.16666 <br /> p_inflate: 0.5 <br /> slim_version: SLIM*SIG1 <br /> ",
         "pointpos": 0,
         "type": "box",
         "y": [
          16.15007781982422,
          10.682165145874023,
          15.70685863494873,
          15.481139183044434,
          15.839698791503906
         ]
        },
        {
         "boxpoints": "all",
         "jitter": 0.5,
         "line": {
          "color": "orange"
         },
         "name": "pop_size: 50 <br /> prob_const: 0.8 <br /> ms_lower: 0.033 <br /> ms_upper: 0.16666 <br /> p_inflate: 0.5 <br /> slim_version: SLIM*ABS <br /> ",
         "pointpos": 0,
         "type": "box",
         "y": [
          17.81603240966797,
          10.682893753051758,
          18.86733627319336,
          16.063282012939453,
          15.765703201293945
         ]
        },
        {
         "boxpoints": "all",
         "jitter": 0.5,
         "line": {
          "color": "orange"
         },
         "name": "pop_size: 50 <br /> prob_const: 0.8 <br /> ms_lower: 0.033 <br /> ms_upper: 0.16666 <br /> p_inflate: 0.75 <br /> slim_version: SLIM+SIG2 <br /> ",
         "pointpos": 0,
         "type": "box",
         "y": [
          16.553213119506836,
          11.513784408569336,
          35.828956604003906,
          23.24311637878418,
          24.55643081665039
         ]
        },
        {
         "boxpoints": "all",
         "jitter": 0.5,
         "line": {
          "color": "orange"
         },
         "name": "pop_size: 50 <br /> prob_const: 0.8 <br /> ms_lower: 0.033 <br /> ms_upper: 0.16666 <br /> p_inflate: 0.75 <br /> slim_version: SLIM+SIG1 <br /> ",
         "pointpos": 0,
         "type": "box",
         "y": [
          16.36165428161621,
          11.20656681060791,
          35.54151916503906,
          22.793073654174805,
          24.295034408569336
         ]
        },
        {
         "boxpoints": "all",
         "jitter": 0.5,
         "line": {
          "color": "orange"
         },
         "name": "pop_size: 50 <br /> prob_const: 0.8 <br /> ms_lower: 0.033 <br /> ms_upper: 0.16666 <br /> p_inflate: 0.75 <br /> slim_version: SLIM+ABS <br /> ",
         "pointpos": 0,
         "type": "box",
         "y": [
          16.36131477355957,
          11.270483016967773,
          35.58900833129883,
          22.95925521850586,
          24.2860164642334
         ]
        },
        {
         "boxpoints": "all",
         "jitter": 0.5,
         "line": {
          "color": "orange"
         },
         "name": "pop_size: 50 <br /> prob_const: 0.8 <br /> ms_lower: 0.033 <br /> ms_upper: 0.16666 <br /> p_inflate: 0.75 <br /> slim_version: SLIM*SIG2 <br /> ",
         "pointpos": 0,
         "type": "box",
         "y": [
          16.49121856689453,
          10.79944133758545,
          18.19901466369629,
          15.557607650756836,
          16.262155532836914
         ]
        },
        {
         "boxpoints": "all",
         "jitter": 0.5,
         "line": {
          "color": "orange"
         },
         "name": "pop_size: 50 <br /> prob_const: 0.8 <br /> ms_lower: 0.033 <br /> ms_upper: 0.16666 <br /> p_inflate: 0.75 <br /> slim_version: SLIM*SIG1 <br /> ",
         "pointpos": 0,
         "type": "box",
         "y": [
          16.462120056152344,
          10.678374290466309,
          18.147960662841797,
          15.435962677001953,
          15.83446216583252
         ]
        },
        {
         "boxpoints": "all",
         "jitter": 0.5,
         "line": {
          "color": "orange"
         },
         "name": "pop_size: 50 <br /> prob_const: 0.8 <br /> ms_lower: 0.033 <br /> ms_upper: 0.16666 <br /> p_inflate: 0.75 <br /> slim_version: SLIM*ABS <br /> ",
         "pointpos": 0,
         "type": "box",
         "y": [
          17.61720848083496,
          10.89277172088623,
          18.252384185791016,
          15.48059368133545,
          15.862714767456055
         ]
        },
        {
         "boxpoints": "all",
         "jitter": 0.5,
         "line": {
          "color": "orange"
         },
         "name": "pop_size: 50 <br /> prob_const: 0.8 <br /> ms_lower: 0.066 <br /> ms_upper: 0.13333 <br /> p_inflate: 0.5 <br /> slim_version: SLIM+SIG2 <br /> ",
         "pointpos": 0,
         "type": "box",
         "y": [
          16.4846134185791,
          11.4132080078125,
          35.63622283935547,
          22.936660766601562,
          24.49942970275879
         ]
        },
        {
         "boxpoints": "all",
         "jitter": 0.5,
         "line": {
          "color": "orange"
         },
         "name": "pop_size: 50 <br /> prob_const: 0.8 <br /> ms_lower: 0.066 <br /> ms_upper: 0.13333 <br /> p_inflate: 0.5 <br /> slim_version: SLIM+SIG1 <br /> ",
         "pointpos": 0,
         "type": "box",
         "y": [
          16.34493637084961,
          11.287155151367188,
          35.4407844543457,
          22.89431381225586,
          24.255842208862305
         ]
        },
        {
         "boxpoints": "all",
         "jitter": 0.5,
         "line": {
          "color": "orange"
         },
         "name": "pop_size: 50 <br /> prob_const: 0.8 <br /> ms_lower: 0.066 <br /> ms_upper: 0.13333 <br /> p_inflate: 0.5 <br /> slim_version: SLIM+ABS <br /> ",
         "pointpos": 0,
         "type": "box",
         "y": [
          16.438955307006836,
          11.384842872619629,
          35.56084060668945,
          23.0028076171875,
          24.385828018188477
         ]
        },
        {
         "boxpoints": "all",
         "jitter": 0.5,
         "line": {
          "color": "orange"
         },
         "name": "pop_size: 50 <br /> prob_const: 0.8 <br /> ms_lower: 0.066 <br /> ms_upper: 0.13333 <br /> p_inflate: 0.5 <br /> slim_version: SLIM*SIG2 <br /> ",
         "pointpos": 0,
         "type": "box",
         "y": [
          16.307493209838867,
          9.555145263671875,
          17.453887939453125,
          15.78377628326416,
          15.752768516540527
         ]
        },
        {
         "boxpoints": "all",
         "jitter": 0.5,
         "line": {
          "color": "orange"
         },
         "name": "pop_size: 50 <br /> prob_const: 0.8 <br /> ms_lower: 0.066 <br /> ms_upper: 0.13333 <br /> p_inflate: 0.5 <br /> slim_version: SLIM*SIG1 <br /> ",
         "pointpos": 0,
         "type": "box",
         "y": [
          16.296493530273438,
          10.659246444702148,
          18.11105728149414,
          15.83764934539795,
          15.998579025268555
         ]
        },
        {
         "boxpoints": "all",
         "jitter": 0.5,
         "line": {
          "color": "orange"
         },
         "name": "pop_size: 50 <br /> prob_const: 0.8 <br /> ms_lower: 0.066 <br /> ms_upper: 0.13333 <br /> p_inflate: 0.5 <br /> slim_version: SLIM*ABS <br /> ",
         "pointpos": 0,
         "type": "box",
         "y": [
          17.440847396850586,
          10.874979019165039,
          18.111879348754883,
          15.461372375488281,
          16.04146385192871
         ]
        },
        {
         "boxpoints": "all",
         "jitter": 0.5,
         "line": {
          "color": "orange"
         },
         "name": "pop_size: 50 <br /> prob_const: 0.8 <br /> ms_lower: 0.066 <br /> ms_upper: 0.13333 <br /> p_inflate: 0.75 <br /> slim_version: SLIM+SIG2 <br /> ",
         "pointpos": 0,
         "type": "box",
         "y": [
          16.609542846679688,
          11.455988883972168,
          35.937252044677734,
          23.271848678588867,
          24.63683319091797
         ]
        },
        {
         "boxpoints": "all",
         "jitter": 0.5,
         "line": {
          "color": "orange"
         },
         "name": "pop_size: 50 <br /> prob_const: 0.8 <br /> ms_lower: 0.066 <br /> ms_upper: 0.13333 <br /> p_inflate: 0.75 <br /> slim_version: SLIM+SIG1 <br /> ",
         "pointpos": 0,
         "type": "box",
         "y": [
          16.56548309326172,
          11.45109748840332,
          35.573978424072266,
          22.942941665649414,
          24.452638626098633
         ]
        },
        {
         "boxpoints": "all",
         "jitter": 0.5,
         "line": {
          "color": "orange"
         },
         "name": "pop_size: 50 <br /> prob_const: 0.8 <br /> ms_lower: 0.066 <br /> ms_upper: 0.13333 <br /> p_inflate: 0.75 <br /> slim_version: SLIM+ABS <br /> ",
         "pointpos": 0,
         "type": "box",
         "y": [
          16.51299285888672,
          11.49140453338623,
          35.817840576171875,
          23.090787887573242,
          24.583293914794922
         ]
        },
        {
         "boxpoints": "all",
         "jitter": 0.5,
         "line": {
          "color": "orange"
         },
         "name": "pop_size: 50 <br /> prob_const: 0.8 <br /> ms_lower: 0.066 <br /> ms_upper: 0.13333 <br /> p_inflate: 0.75 <br /> slim_version: SLIM*SIG2 <br /> ",
         "pointpos": 0,
         "type": "box",
         "y": [
          16.13905906677246,
          10.681921005249023,
          18.3409366607666,
          15.552957534790039,
          15.974807739257812
         ]
        },
        {
         "boxpoints": "all",
         "jitter": 0.5,
         "line": {
          "color": "orange"
         },
         "name": "pop_size: 50 <br /> prob_const: 0.8 <br /> ms_lower: 0.066 <br /> ms_upper: 0.13333 <br /> p_inflate: 0.75 <br /> slim_version: SLIM*SIG1 <br /> ",
         "pointpos": 0,
         "type": "box",
         "y": [
          15.238266944885254,
          10.762171745300293,
          17.973989486694336,
          15.801740646362305,
          16.377912521362305
         ]
        },
        {
         "boxpoints": "all",
         "jitter": 0.5,
         "line": {
          "color": "orange"
         },
         "name": "pop_size: 50 <br /> prob_const: 0.8 <br /> ms_lower: 0.066 <br /> ms_upper: 0.13333 <br /> p_inflate: 0.75 <br /> slim_version: SLIM*ABS <br /> ",
         "pointpos": 0,
         "type": "box",
         "y": [
          16.562999725341797,
          10.804082870483398,
          18.898643493652344,
          15.718757629394531,
          15.825392723083496
         ]
        },
        {
         "boxpoints": "all",
         "jitter": 0.5,
         "line": {
          "color": "orange"
         },
         "name": "pop_size: 50 <br /> prob_const: 0.8 <br /> ms_lower: 0.066 <br /> ms_upper: 0.16666 <br /> p_inflate: 0.5 <br /> slim_version: SLIM+SIG2 <br /> ",
         "pointpos": 0,
         "type": "box",
         "y": [
          16.296030044555664,
          11.270214080810547,
          35.344913482666016,
          22.801036834716797,
          24.06887435913086
         ]
        },
        {
         "boxpoints": "all",
         "jitter": 0.5,
         "line": {
          "color": "orange"
         },
         "name": "pop_size: 50 <br /> prob_const: 0.8 <br /> ms_lower: 0.066 <br /> ms_upper: 0.16666 <br /> p_inflate: 0.5 <br /> slim_version: SLIM+SIG1 <br /> ",
         "pointpos": 0,
         "type": "box",
         "y": [
          16.131284713745117,
          11.189066886901855,
          35.14219665527344,
          22.60190773010254,
          23.968400955200195
         ]
        },
        {
         "boxpoints": "all",
         "jitter": 0.5,
         "line": {
          "color": "orange"
         },
         "name": "pop_size: 50 <br /> prob_const: 0.8 <br /> ms_lower: 0.066 <br /> ms_upper: 0.16666 <br /> p_inflate: 0.5 <br /> slim_version: SLIM+ABS <br /> ",
         "pointpos": 0,
         "type": "box",
         "y": [
          16.220338821411133,
          11.252998352050781,
          35.28433609008789,
          22.75503158569336,
          24.14103126525879
         ]
        },
        {
         "boxpoints": "all",
         "jitter": 0.5,
         "line": {
          "color": "orange"
         },
         "name": "pop_size: 50 <br /> prob_const: 0.8 <br /> ms_lower: 0.066 <br /> ms_upper: 0.16666 <br /> p_inflate: 0.5 <br /> slim_version: SLIM*SIG2 <br /> ",
         "pointpos": 0,
         "type": "box",
         "y": [
          16.56500816345215,
          10.780280113220215,
          18.67214584350586,
          15.652692794799805,
          16.332353591918945
         ]
        },
        {
         "boxpoints": "all",
         "jitter": 0.5,
         "line": {
          "color": "orange"
         },
         "name": "pop_size: 50 <br /> prob_const: 0.8 <br /> ms_lower: 0.066 <br /> ms_upper: 0.16666 <br /> p_inflate: 0.5 <br /> slim_version: SLIM*SIG1 <br /> ",
         "pointpos": 0,
         "type": "box",
         "y": [
          16.120649337768555,
          10.73224925994873,
          15.930614471435547,
          15.737141609191895,
          15.933842658996582
         ]
        },
        {
         "boxpoints": "all",
         "jitter": 0.5,
         "line": {
          "color": "orange"
         },
         "name": "pop_size: 50 <br /> prob_const: 0.8 <br /> ms_lower: 0.066 <br /> ms_upper: 0.16666 <br /> p_inflate: 0.5 <br /> slim_version: SLIM*ABS <br /> ",
         "pointpos": 0,
         "type": "box",
         "y": [
          18.21940803527832,
          10.874702453613281,
          18.856264114379883,
          15.517999649047852,
          16.153249740600586
         ]
        },
        {
         "boxpoints": "all",
         "jitter": 0.5,
         "line": {
          "color": "orange"
         },
         "name": "pop_size: 50 <br /> prob_const: 0.8 <br /> ms_lower: 0.066 <br /> ms_upper: 0.16666 <br /> p_inflate: 0.75 <br /> slim_version: SLIM+SIG2 <br /> ",
         "pointpos": 0,
         "type": "box",
         "y": [
          16.60072898864746,
          11.489792823791504,
          35.867897033691406,
          23.26001739501953,
          24.44408416748047
         ]
        },
        {
         "boxpoints": "all",
         "jitter": 0.5,
         "line": {
          "color": "orange"
         },
         "name": "pop_size: 50 <br /> prob_const: 0.8 <br /> ms_lower: 0.066 <br /> ms_upper: 0.16666 <br /> p_inflate: 0.75 <br /> slim_version: SLIM+SIG1 <br /> ",
         "pointpos": 0,
         "type": "box",
         "y": [
          16.417823791503906,
          11.31988525390625,
          35.41518783569336,
          22.695526123046875,
          24.14871597290039
         ]
        },
        {
         "boxpoints": "all",
         "jitter": 0.5,
         "line": {
          "color": "orange"
         },
         "name": "pop_size: 50 <br /> prob_const: 0.8 <br /> ms_lower: 0.066 <br /> ms_upper: 0.16666 <br /> p_inflate: 0.75 <br /> slim_version: SLIM+ABS <br /> ",
         "pointpos": 0,
         "type": "box",
         "y": [
          16.38167953491211,
          11.396048545837402,
          35.61035919189453,
          22.813871383666992,
          24.418764114379883
         ]
        },
        {
         "boxpoints": "all",
         "jitter": 0.5,
         "line": {
          "color": "orange"
         },
         "name": "pop_size: 50 <br /> prob_const: 0.8 <br /> ms_lower: 0.066 <br /> ms_upper: 0.16666 <br /> p_inflate: 0.75 <br /> slim_version: SLIM*SIG2 <br /> ",
         "pointpos": 0,
         "type": "box",
         "y": [
          16.976642608642578,
          10.714509963989258,
          18.13016128540039,
          15.3152494430542,
          16.042327880859375
         ]
        },
        {
         "boxpoints": "all",
         "jitter": 0.5,
         "line": {
          "color": "orange"
         },
         "name": "pop_size: 50 <br /> prob_const: 0.8 <br /> ms_lower: 0.066 <br /> ms_upper: 0.16666 <br /> p_inflate: 0.75 <br /> slim_version: SLIM*SIG1 <br /> ",
         "pointpos": 0,
         "type": "box",
         "y": [
          16.59773063659668,
          10.660019874572754,
          17.420494079589844,
          14.796669960021973,
          15.71603012084961
         ]
        },
        {
         "boxpoints": "all",
         "jitter": 0.5,
         "line": {
          "color": "orange"
         },
         "name": "pop_size: 50 <br /> prob_const: 0.8 <br /> ms_lower: 0.066 <br /> ms_upper: 0.16666 <br /> p_inflate: 0.75 <br /> slim_version: SLIM*ABS <br /> ",
         "pointpos": 0,
         "type": "box",
         "y": [
          15.709993362426758,
          10.944137573242188,
          18.105972290039062,
          15.727677345275879,
          15.782894134521484
         ]
        },
        {
         "boxpoints": "all",
         "jitter": 0.5,
         "line": {
          "color": "orange"
         },
         "name": "pop_size: 50 <br /> prob_const: 0.9 <br /> ms_lower: 0.033 <br /> ms_upper: 0.13333 <br /> p_inflate: 0.5 <br /> slim_version: SLIM+SIG2 <br /> ",
         "pointpos": 0,
         "type": "box",
         "y": [
          17.13648796081543,
          39.75846481323242,
          50.44084167480469,
          23.22920799255371,
          24.664154052734375
         ]
        },
        {
         "boxpoints": "all",
         "jitter": 0.5,
         "line": {
          "color": "orange"
         },
         "name": "pop_size: 50 <br /> prob_const: 0.9 <br /> ms_lower: 0.033 <br /> ms_upper: 0.13333 <br /> p_inflate: 0.5 <br /> slim_version: SLIM+SIG1 <br /> ",
         "pointpos": 0,
         "type": "box",
         "y": [
          16.77305030822754,
          39.46303939819336,
          50.075801849365234,
          22.899723052978516,
          24.31671142578125
         ]
        },
        {
         "boxpoints": "all",
         "jitter": 0.5,
         "line": {
          "color": "orange"
         },
         "name": "pop_size: 50 <br /> prob_const: 0.9 <br /> ms_lower: 0.033 <br /> ms_upper: 0.13333 <br /> p_inflate: 0.5 <br /> slim_version: SLIM+ABS <br /> ",
         "pointpos": 0,
         "type": "box",
         "y": [
          16.936487197875977,
          39.5584831237793,
          50.179473876953125,
          23.11913299560547,
          24.463062286376953
         ]
        },
        {
         "boxpoints": "all",
         "jitter": 0.5,
         "line": {
          "color": "orange"
         },
         "name": "pop_size: 50 <br /> prob_const: 0.9 <br /> ms_lower: 0.033 <br /> ms_upper: 0.13333 <br /> p_inflate: 0.5 <br /> slim_version: SLIM*SIG2 <br /> ",
         "pointpos": 0,
         "type": "box",
         "y": [
          16.20557975769043,
          10.337992668151855,
          19.031688690185547,
          15.616291046142578,
          16.053857803344727
         ]
        },
        {
         "boxpoints": "all",
         "jitter": 0.5,
         "line": {
          "color": "orange"
         },
         "name": "pop_size: 50 <br /> prob_const: 0.9 <br /> ms_lower: 0.033 <br /> ms_upper: 0.13333 <br /> p_inflate: 0.5 <br /> slim_version: SLIM*SIG1 <br /> ",
         "pointpos": 0,
         "type": "box",
         "y": [
          16.217029571533203,
          10.275436401367188,
          12.184929847717285,
          15.732580184936523,
          15.766966819763184
         ]
        },
        {
         "boxpoints": "all",
         "jitter": 0.5,
         "line": {
          "color": "orange"
         },
         "name": "pop_size: 50 <br /> prob_const: 0.9 <br /> ms_lower: 0.033 <br /> ms_upper: 0.13333 <br /> p_inflate: 0.5 <br /> slim_version: SLIM*ABS <br /> ",
         "pointpos": 0,
         "type": "box",
         "y": [
          17.797834396362305,
          10.272746086120605,
          12.290315628051758,
          15.877086639404297,
          15.662975311279297
         ]
        },
        {
         "boxpoints": "all",
         "jitter": 0.5,
         "line": {
          "color": "orange"
         },
         "name": "pop_size: 50 <br /> prob_const: 0.9 <br /> ms_lower: 0.033 <br /> ms_upper: 0.13333 <br /> p_inflate: 0.75 <br /> slim_version: SLIM+SIG2 <br /> ",
         "pointpos": 0,
         "type": "box",
         "y": [
          17.36071014404297,
          40.04844665527344,
          50.66755294799805,
          23.456249237060547,
          24.844703674316406
         ]
        },
        {
         "boxpoints": "all",
         "jitter": 0.5,
         "line": {
          "color": "orange"
         },
         "name": "pop_size: 50 <br /> prob_const: 0.9 <br /> ms_lower: 0.033 <br /> ms_upper: 0.13333 <br /> p_inflate: 0.75 <br /> slim_version: SLIM+SIG1 <br /> ",
         "pointpos": 0,
         "type": "box",
         "y": [
          17.158218383789062,
          39.852561950683594,
          50.45387649536133,
          23.037912368774414,
          24.745769500732422
         ]
        },
        {
         "boxpoints": "all",
         "jitter": 0.5,
         "line": {
          "color": "orange"
         },
         "name": "pop_size: 50 <br /> prob_const: 0.9 <br /> ms_lower: 0.033 <br /> ms_upper: 0.13333 <br /> p_inflate: 0.75 <br /> slim_version: SLIM+ABS <br /> ",
         "pointpos": 0,
         "type": "box",
         "y": [
          17.13296890258789,
          39.73395538330078,
          50.46788787841797,
          23.104555130004883,
          24.548208236694336
         ]
        },
        {
         "boxpoints": "all",
         "jitter": 0.5,
         "line": {
          "color": "orange"
         },
         "name": "pop_size: 50 <br /> prob_const: 0.9 <br /> ms_lower: 0.033 <br /> ms_upper: 0.13333 <br /> p_inflate: 0.75 <br /> slim_version: SLIM*SIG2 <br /> ",
         "pointpos": 0,
         "type": "box",
         "y": [
          16.038774490356445,
          10.638566970825195,
          22.466262817382812,
          15.203458786010742,
          15.942939758300781
         ]
        },
        {
         "boxpoints": "all",
         "jitter": 0.5,
         "line": {
          "color": "orange"
         },
         "name": "pop_size: 50 <br /> prob_const: 0.9 <br /> ms_lower: 0.033 <br /> ms_upper: 0.13333 <br /> p_inflate: 0.75 <br /> slim_version: SLIM*SIG1 <br /> ",
         "pointpos": 0,
         "type": "box",
         "y": [
          16.5231876373291,
          19.51249885559082,
          12.903069496154785,
          15.209059715270996,
          15.7667236328125
         ]
        },
        {
         "boxpoints": "all",
         "jitter": 0.5,
         "line": {
          "color": "orange"
         },
         "name": "pop_size: 50 <br /> prob_const: 0.9 <br /> ms_lower: 0.033 <br /> ms_upper: 0.13333 <br /> p_inflate: 0.75 <br /> slim_version: SLIM*ABS <br /> ",
         "pointpos": 0,
         "type": "box",
         "y": [
          16.94742202758789,
          19.74390411376953,
          24.7482967376709,
          15.42646312713623,
          15.715070724487305
         ]
        },
        {
         "boxpoints": "all",
         "jitter": 0.5,
         "line": {
          "color": "orange"
         },
         "name": "pop_size: 50 <br /> prob_const: 0.9 <br /> ms_lower: 0.033 <br /> ms_upper: 0.16666 <br /> p_inflate: 0.5 <br /> slim_version: SLIM+SIG2 <br /> ",
         "pointpos": 0,
         "type": "box",
         "y": [
          16.865314483642578,
          39.66716384887695,
          50.21957015991211,
          23.142763137817383,
          24.476289749145508
         ]
        },
        {
         "boxpoints": "all",
         "jitter": 0.5,
         "line": {
          "color": "orange"
         },
         "name": "pop_size: 50 <br /> prob_const: 0.9 <br /> ms_lower: 0.033 <br /> ms_upper: 0.16666 <br /> p_inflate: 0.5 <br /> slim_version: SLIM+SIG1 <br /> ",
         "pointpos": 0,
         "type": "box",
         "y": [
          16.681612014770508,
          39.2259635925293,
          49.737213134765625,
          22.65991973876953,
          24.12760353088379
         ]
        },
        {
         "boxpoints": "all",
         "jitter": 0.5,
         "line": {
          "color": "orange"
         },
         "name": "pop_size: 50 <br /> prob_const: 0.9 <br /> ms_lower: 0.033 <br /> ms_upper: 0.16666 <br /> p_inflate: 0.5 <br /> slim_version: SLIM+ABS <br /> ",
         "pointpos": 0,
         "type": "box",
         "y": [
          16.69255828857422,
          39.351806640625,
          49.879852294921875,
          22.80349349975586,
          24.237407684326172
         ]
        },
        {
         "boxpoints": "all",
         "jitter": 0.5,
         "line": {
          "color": "orange"
         },
         "name": "pop_size: 50 <br /> prob_const: 0.9 <br /> ms_lower: 0.033 <br /> ms_upper: 0.16666 <br /> p_inflate: 0.5 <br /> slim_version: SLIM*SIG2 <br /> ",
         "pointpos": 0,
         "type": "box",
         "y": [
          16.377025604248047,
          10.280747413635254,
          12.20828914642334,
          15.705915451049805,
          15.373261451721191
         ]
        },
        {
         "boxpoints": "all",
         "jitter": 0.5,
         "line": {
          "color": "orange"
         },
         "name": "pop_size: 50 <br /> prob_const: 0.9 <br /> ms_lower: 0.033 <br /> ms_upper: 0.16666 <br /> p_inflate: 0.5 <br /> slim_version: SLIM*SIG1 <br /> ",
         "pointpos": 0,
         "type": "box",
         "y": [
          16.491943359375,
          10.2824068069458,
          12.185188293457031,
          15.427421569824219,
          15.944940567016602
         ]
        },
        {
         "boxpoints": "all",
         "jitter": 0.5,
         "line": {
          "color": "orange"
         },
         "name": "pop_size: 50 <br /> prob_const: 0.9 <br /> ms_lower: 0.033 <br /> ms_upper: 0.16666 <br /> p_inflate: 0.5 <br /> slim_version: SLIM*ABS <br /> ",
         "pointpos": 0,
         "type": "box",
         "y": [
          17.841737747192383,
          10.261516571044922,
          12.264877319335938,
          16.074060440063477,
          15.748624801635742
         ]
        },
        {
         "boxpoints": "all",
         "jitter": 0.5,
         "line": {
          "color": "orange"
         },
         "name": "pop_size: 50 <br /> prob_const: 0.9 <br /> ms_lower: 0.033 <br /> ms_upper: 0.16666 <br /> p_inflate: 0.75 <br /> slim_version: SLIM+SIG2 <br /> ",
         "pointpos": 0,
         "type": "box",
         "y": [
          17.08926010131836,
          39.9344482421875,
          50.37003707885742,
          23.168611526489258,
          24.79505729675293
         ]
        },
        {
         "boxpoints": "all",
         "jitter": 0.5,
         "line": {
          "color": "orange"
         },
         "name": "pop_size: 50 <br /> prob_const: 0.9 <br /> ms_lower: 0.033 <br /> ms_upper: 0.16666 <br /> p_inflate: 0.75 <br /> slim_version: SLIM+SIG1 <br /> ",
         "pointpos": 0,
         "type": "box",
         "y": [
          16.897796630859375,
          39.3914680480957,
          50.196861267089844,
          22.88698959350586,
          24.330677032470703
         ]
        },
        {
         "boxpoints": "all",
         "jitter": 0.5,
         "line": {
          "color": "orange"
         },
         "name": "pop_size: 50 <br /> prob_const: 0.9 <br /> ms_lower: 0.033 <br /> ms_upper: 0.16666 <br /> p_inflate: 0.75 <br /> slim_version: SLIM+ABS <br /> ",
         "pointpos": 0,
         "type": "box",
         "y": [
          16.866641998291016,
          39.50351333618164,
          50.29713821411133,
          23.023326873779297,
          24.327089309692383
         ]
        },
        {
         "boxpoints": "all",
         "jitter": 0.5,
         "line": {
          "color": "orange"
         },
         "name": "pop_size: 50 <br /> prob_const: 0.9 <br /> ms_lower: 0.033 <br /> ms_upper: 0.16666 <br /> p_inflate: 0.75 <br /> slim_version: SLIM*SIG2 <br /> ",
         "pointpos": 0,
         "type": "box",
         "y": [
          16.080984115600586,
          10.38701343536377,
          15.01246452331543,
          15.514508247375488,
          15.750114440917969
         ]
        },
        {
         "boxpoints": "all",
         "jitter": 0.5,
         "line": {
          "color": "orange"
         },
         "name": "pop_size: 50 <br /> prob_const: 0.9 <br /> ms_lower: 0.033 <br /> ms_upper: 0.16666 <br /> p_inflate: 0.75 <br /> slim_version: SLIM*SIG1 <br /> ",
         "pointpos": 0,
         "type": "box",
         "y": [
          16.794939041137695,
          19.48159408569336,
          12.203434944152832,
          15.210859298706055,
          16.02361488342285
         ]
        },
        {
         "boxpoints": "all",
         "jitter": 0.5,
         "line": {
          "color": "orange"
         },
         "name": "pop_size: 50 <br /> prob_const: 0.9 <br /> ms_lower: 0.033 <br /> ms_upper: 0.16666 <br /> p_inflate: 0.75 <br /> slim_version: SLIM*ABS <br /> ",
         "pointpos": 0,
         "type": "box",
         "y": [
          16.490325927734375,
          19.789222717285156,
          14.501830101013184,
          15.606575012207031,
          15.922707557678223
         ]
        },
        {
         "boxpoints": "all",
         "jitter": 0.5,
         "line": {
          "color": "orange"
         },
         "name": "pop_size: 50 <br /> prob_const: 0.9 <br /> ms_lower: 0.066 <br /> ms_upper: 0.13333 <br /> p_inflate: 0.5 <br /> slim_version: SLIM+SIG2 <br /> ",
         "pointpos": 0,
         "type": "box",
         "y": [
          17.01449966430664,
          39.77018737792969,
          50.48943328857422,
          23.136720657348633,
          24.656940460205078
         ]
        },
        {
         "boxpoints": "all",
         "jitter": 0.5,
         "line": {
          "color": "orange"
         },
         "name": "pop_size: 50 <br /> prob_const: 0.9 <br /> ms_lower: 0.066 <br /> ms_upper: 0.13333 <br /> p_inflate: 0.5 <br /> slim_version: SLIM+SIG1 <br /> ",
         "pointpos": 0,
         "type": "box",
         "y": [
          16.825225830078125,
          39.45790481567383,
          50.088321685791016,
          22.912582397460938,
          24.28719711303711
         ]
        },
        {
         "boxpoints": "all",
         "jitter": 0.5,
         "line": {
          "color": "orange"
         },
         "name": "pop_size: 50 <br /> prob_const: 0.9 <br /> ms_lower: 0.066 <br /> ms_upper: 0.13333 <br /> p_inflate: 0.5 <br /> slim_version: SLIM+ABS <br /> ",
         "pointpos": 0,
         "type": "box",
         "y": [
          16.86933708190918,
          39.54581832885742,
          50.16129684448242,
          23.16283416748047,
          24.41663360595703
         ]
        },
        {
         "boxpoints": "all",
         "jitter": 0.5,
         "line": {
          "color": "orange"
         },
         "name": "pop_size: 50 <br /> prob_const: 0.9 <br /> ms_lower: 0.066 <br /> ms_upper: 0.13333 <br /> p_inflate: 0.5 <br /> slim_version: SLIM*SIG2 <br /> ",
         "pointpos": 0,
         "type": "box",
         "y": [
          16.868824005126953,
          10.281855583190918,
          15.937225341796875,
          15.145452499389648,
          16.16804313659668
         ]
        },
        {
         "boxpoints": "all",
         "jitter": 0.5,
         "line": {
          "color": "orange"
         },
         "name": "pop_size: 50 <br /> prob_const: 0.9 <br /> ms_lower: 0.066 <br /> ms_upper: 0.13333 <br /> p_inflate: 0.5 <br /> slim_version: SLIM*SIG1 <br /> ",
         "pointpos": 0,
         "type": "box",
         "y": [
          16.116334915161133,
          10.266378402709961,
          12.337065696716309,
          15.685665130615234,
          15.946733474731445
         ]
        },
        {
         "boxpoints": "all",
         "jitter": 0.5,
         "line": {
          "color": "orange"
         },
         "name": "pop_size: 50 <br /> prob_const: 0.9 <br /> ms_lower: 0.066 <br /> ms_upper: 0.13333 <br /> p_inflate: 0.5 <br /> slim_version: SLIM*ABS <br /> ",
         "pointpos": 0,
         "type": "box",
         "y": [
          16.356487274169922,
          10.39792537689209,
          12.389867782592773,
          15.950557708740234,
          15.70866870880127
         ]
        },
        {
         "boxpoints": "all",
         "jitter": 0.5,
         "line": {
          "color": "orange"
         },
         "name": "pop_size: 50 <br /> prob_const: 0.9 <br /> ms_lower: 0.066 <br /> ms_upper: 0.13333 <br /> p_inflate: 0.75 <br /> slim_version: SLIM+SIG2 <br /> ",
         "pointpos": 0,
         "type": "box",
         "y": [
          17.18045425415039,
          39.89482879638672,
          50.393375396728516,
          23.33062171936035,
          24.817642211914062
         ]
        },
        {
         "boxpoints": "all",
         "jitter": 0.5,
         "line": {
          "color": "orange"
         },
         "name": "pop_size: 50 <br /> prob_const: 0.9 <br /> ms_lower: 0.066 <br /> ms_upper: 0.13333 <br /> p_inflate: 0.75 <br /> slim_version: SLIM+SIG1 <br /> ",
         "pointpos": 0,
         "type": "box",
         "y": [
          17.04502296447754,
          39.660579681396484,
          50.28384780883789,
          22.99643898010254,
          24.52290153503418
         ]
        },
        {
         "boxpoints": "all",
         "jitter": 0.5,
         "line": {
          "color": "orange"
         },
         "name": "pop_size: 50 <br /> prob_const: 0.9 <br /> ms_lower: 0.066 <br /> ms_upper: 0.13333 <br /> p_inflate: 0.75 <br /> slim_version: SLIM+ABS <br /> ",
         "pointpos": 0,
         "type": "box",
         "y": [
          16.971418380737305,
          39.663875579833984,
          50.28903579711914,
          23.227705001831055,
          24.498764038085938
         ]
        },
        {
         "boxpoints": "all",
         "jitter": 0.5,
         "line": {
          "color": "orange"
         },
         "name": "pop_size: 50 <br /> prob_const: 0.9 <br /> ms_lower: 0.066 <br /> ms_upper: 0.13333 <br /> p_inflate: 0.75 <br /> slim_version: SLIM*SIG2 <br /> ",
         "pointpos": 0,
         "type": "box",
         "y": [
          16.785737991333008,
          10.41778564453125,
          22.846284866333008,
          15.385645866394043,
          15.823023796081543
         ]
        },
        {
         "boxpoints": "all",
         "jitter": 0.5,
         "line": {
          "color": "orange"
         },
         "name": "pop_size: 50 <br /> prob_const: 0.9 <br /> ms_lower: 0.066 <br /> ms_upper: 0.13333 <br /> p_inflate: 0.75 <br /> slim_version: SLIM*SIG1 <br /> ",
         "pointpos": 0,
         "type": "box",
         "y": [
          16.703819274902344,
          10.320528030395508,
          12.1849946975708,
          15.209999084472656,
          16.008115768432617
         ]
        },
        {
         "boxpoints": "all",
         "jitter": 0.5,
         "line": {
          "color": "orange"
         },
         "name": "pop_size: 50 <br /> prob_const: 0.9 <br /> ms_lower: 0.066 <br /> ms_upper: 0.13333 <br /> p_inflate: 0.75 <br /> slim_version: SLIM*ABS <br /> ",
         "pointpos": 0,
         "type": "box",
         "y": [
          17.445907592773438,
          19.510892868041992,
          12.222067832946777,
          15.454060554504395,
          16.020658493041992
         ]
        },
        {
         "boxpoints": "all",
         "jitter": 0.5,
         "line": {
          "color": "orange"
         },
         "name": "pop_size: 50 <br /> prob_const: 0.9 <br /> ms_lower: 0.066 <br /> ms_upper: 0.16666 <br /> p_inflate: 0.5 <br /> slim_version: SLIM+SIG2 <br /> ",
         "pointpos": 0,
         "type": "box",
         "y": [
          16.99429702758789,
          39.63666915893555,
          50.28229522705078,
          23.08637809753418,
          24.421485900878906
         ]
        },
        {
         "boxpoints": "all",
         "jitter": 0.5,
         "line": {
          "color": "orange"
         },
         "name": "pop_size: 50 <br /> prob_const: 0.9 <br /> ms_lower: 0.066 <br /> ms_upper: 0.16666 <br /> p_inflate: 0.5 <br /> slim_version: SLIM+SIG1 <br /> ",
         "pointpos": 0,
         "type": "box",
         "y": [
          16.58351707458496,
          39.20310974121094,
          49.859031677246094,
          22.701438903808594,
          23.981441497802734
         ]
        },
        {
         "boxpoints": "all",
         "jitter": 0.5,
         "line": {
          "color": "orange"
         },
         "name": "pop_size: 50 <br /> prob_const: 0.9 <br /> ms_lower: 0.066 <br /> ms_upper: 0.16666 <br /> p_inflate: 0.5 <br /> slim_version: SLIM+ABS <br /> ",
         "pointpos": 0,
         "type": "box",
         "y": [
          16.693775177001953,
          39.295433044433594,
          49.877811431884766,
          22.781051635742188,
          24.19183349609375
         ]
        },
        {
         "boxpoints": "all",
         "jitter": 0.5,
         "line": {
          "color": "orange"
         },
         "name": "pop_size: 50 <br /> prob_const: 0.9 <br /> ms_lower: 0.066 <br /> ms_upper: 0.16666 <br /> p_inflate: 0.5 <br /> slim_version: SLIM*SIG2 <br /> ",
         "pointpos": 0,
         "type": "box",
         "y": [
          17.380075454711914,
          10.143104553222656,
          12.185833930969238,
          15.595318794250488,
          15.905837059020996
         ]
        },
        {
         "boxpoints": "all",
         "jitter": 0.5,
         "line": {
          "color": "orange"
         },
         "name": "pop_size: 50 <br /> prob_const: 0.9 <br /> ms_lower: 0.066 <br /> ms_upper: 0.16666 <br /> p_inflate: 0.5 <br /> slim_version: SLIM*SIG1 <br /> ",
         "pointpos": 0,
         "type": "box",
         "y": [
          15.624571800231934,
          10.275604248046875,
          12.384592056274414,
          15.688851356506348,
          16.573726654052734
         ]
        },
        {
         "boxpoints": "all",
         "jitter": 0.5,
         "line": {
          "color": "orange"
         },
         "name": "pop_size: 50 <br /> prob_const: 0.9 <br /> ms_lower: 0.066 <br /> ms_upper: 0.16666 <br /> p_inflate: 0.5 <br /> slim_version: SLIM*ABS <br /> ",
         "pointpos": 0,
         "type": "box",
         "y": [
          17.239179611206055,
          10.35045051574707,
          12.28036117553711,
          16.179832458496094,
          15.660341262817383
         ]
        },
        {
         "boxpoints": "all",
         "jitter": 0.5,
         "line": {
          "color": "orange"
         },
         "name": "pop_size: 50 <br /> prob_const: 0.9 <br /> ms_lower: 0.066 <br /> ms_upper: 0.16666 <br /> p_inflate: 0.75 <br /> slim_version: SLIM+SIG2 <br /> ",
         "pointpos": 0,
         "type": "box",
         "y": [
          17.121726989746094,
          39.8226432800293,
          50.43014144897461,
          23.24009895324707,
          24.71101188659668
         ]
        },
        {
         "boxpoints": "all",
         "jitter": 0.5,
         "line": {
          "color": "orange"
         },
         "name": "pop_size: 50 <br /> prob_const: 0.9 <br /> ms_lower: 0.066 <br /> ms_upper: 0.16666 <br /> p_inflate: 0.75 <br /> slim_version: SLIM+SIG1 <br /> ",
         "pointpos": 0,
         "type": "box",
         "y": [
          16.734359741210938,
          39.417579650878906,
          50.1036262512207,
          22.834251403808594,
          24.415184020996094
         ]
        },
        {
         "boxpoints": "all",
         "jitter": 0.5,
         "line": {
          "color": "orange"
         },
         "name": "pop_size: 50 <br /> prob_const: 0.9 <br /> ms_lower: 0.066 <br /> ms_upper: 0.16666 <br /> p_inflate: 0.75 <br /> slim_version: SLIM+ABS <br /> ",
         "pointpos": 0,
         "type": "box",
         "y": [
          16.834665298461914,
          39.51944351196289,
          50.00111770629883,
          23.0423641204834,
          24.491107940673828
         ]
        },
        {
         "boxpoints": "all",
         "jitter": 0.5,
         "line": {
          "color": "orange"
         },
         "name": "pop_size: 50 <br /> prob_const: 0.9 <br /> ms_lower: 0.066 <br /> ms_upper: 0.16666 <br /> p_inflate: 0.75 <br /> slim_version: SLIM*SIG2 <br /> ",
         "pointpos": 0,
         "type": "box",
         "y": [
          16.420486450195312,
          10.282943725585938,
          15.134989738464355,
          15.660537719726562,
          15.815808296203613
         ]
        },
        {
         "boxpoints": "all",
         "jitter": 0.5,
         "line": {
          "color": "orange"
         },
         "name": "pop_size: 50 <br /> prob_const: 0.9 <br /> ms_lower: 0.066 <br /> ms_upper: 0.16666 <br /> p_inflate: 0.75 <br /> slim_version: SLIM*SIG1 <br /> ",
         "pointpos": 0,
         "type": "box",
         "y": [
          16.864765167236328,
          19.471094131469727,
          12.184934616088867,
          15.214872360229492,
          16.017709732055664
         ]
        },
        {
         "boxpoints": "all",
         "jitter": 0.5,
         "line": {
          "color": "orange"
         },
         "name": "pop_size: 50 <br /> prob_const: 0.9 <br /> ms_lower: 0.066 <br /> ms_upper: 0.16666 <br /> p_inflate: 0.75 <br /> slim_version: SLIM*ABS <br /> ",
         "pointpos": 0,
         "type": "box",
         "y": [
          17.093290328979492,
          19.876371383666992,
          12.256918907165527,
          15.749167442321777,
          16.26641845703125
         ]
        },
        {
         "boxpoints": "all",
         "jitter": 0.5,
         "line": {
          "color": "orange"
         },
         "name": "pop_size: 75 <br /> prob_const: 0.8 <br /> ms_lower: 0.033 <br /> ms_upper: 0.13333 <br /> p_inflate: 0.5 <br /> slim_version: SLIM+SIG2 <br /> ",
         "pointpos": 0,
         "type": "box",
         "y": [
          47.04473114013672,
          20.017507553100586,
          22.323287963867188,
          23.202266693115234,
          23.956762313842773
         ]
        },
        {
         "boxpoints": "all",
         "jitter": 0.5,
         "line": {
          "color": "orange"
         },
         "name": "pop_size: 75 <br /> prob_const: 0.8 <br /> ms_lower: 0.033 <br /> ms_upper: 0.13333 <br /> p_inflate: 0.5 <br /> slim_version: SLIM+SIG1 <br /> ",
         "pointpos": 0,
         "type": "box",
         "y": [
          46.72156524658203,
          19.811525344848633,
          22.18055534362793,
          22.864532470703125,
          23.7915096282959
         ]
        },
        {
         "boxpoints": "all",
         "jitter": 0.5,
         "line": {
          "color": "orange"
         },
         "name": "pop_size: 75 <br /> prob_const: 0.8 <br /> ms_lower: 0.033 <br /> ms_upper: 0.13333 <br /> p_inflate: 0.5 <br /> slim_version: SLIM+ABS <br /> ",
         "pointpos": 0,
         "type": "box",
         "y": [
          46.86030960083008,
          19.91472816467285,
          22.27373695373535,
          22.988929748535156,
          23.952056884765625
         ]
        },
        {
         "boxpoints": "all",
         "jitter": 0.5,
         "line": {
          "color": "orange"
         },
         "name": "pop_size: 75 <br /> prob_const: 0.8 <br /> ms_lower: 0.033 <br /> ms_upper: 0.13333 <br /> p_inflate: 0.5 <br /> slim_version: SLIM*SIG2 <br /> ",
         "pointpos": 0,
         "type": "box",
         "y": [
          18.87553596496582,
          12.287452697753906,
          23.02656364440918,
          15.572102546691895,
          15.711603164672852
         ]
        },
        {
         "boxpoints": "all",
         "jitter": 0.5,
         "line": {
          "color": "orange"
         },
         "name": "pop_size: 75 <br /> prob_const: 0.8 <br /> ms_lower: 0.033 <br /> ms_upper: 0.13333 <br /> p_inflate: 0.5 <br /> slim_version: SLIM*SIG1 <br /> ",
         "pointpos": 0,
         "type": "box",
         "y": [
          19.250595092773438,
          12.412483215332031,
          22.76968002319336,
          15.571887969970703,
          15.656031608581543
         ]
        },
        {
         "boxpoints": "all",
         "jitter": 0.5,
         "line": {
          "color": "orange"
         },
         "name": "pop_size: 75 <br /> prob_const: 0.8 <br /> ms_lower: 0.033 <br /> ms_upper: 0.13333 <br /> p_inflate: 0.5 <br /> slim_version: SLIM*ABS <br /> ",
         "pointpos": 0,
         "type": "box",
         "y": [
          18.322601318359375,
          12.389330863952637,
          22.263221740722656,
          15.726025581359863,
          15.480779647827148
         ]
        },
        {
         "boxpoints": "all",
         "jitter": 0.5,
         "line": {
          "color": "orange"
         },
         "name": "pop_size: 75 <br /> prob_const: 0.8 <br /> ms_lower: 0.033 <br /> ms_upper: 0.13333 <br /> p_inflate: 0.75 <br /> slim_version: SLIM+SIG2 <br /> ",
         "pointpos": 0,
         "type": "box",
         "y": [
          47.12868881225586,
          20.244625091552734,
          22.480087280273438,
          23.3825626373291,
          24.135704040527344
         ]
        },
        {
         "boxpoints": "all",
         "jitter": 0.5,
         "line": {
          "color": "orange"
         },
         "name": "pop_size: 75 <br /> prob_const: 0.8 <br /> ms_lower: 0.033 <br /> ms_upper: 0.13333 <br /> p_inflate: 0.75 <br /> slim_version: SLIM+SIG1 <br /> ",
         "pointpos": 0,
         "type": "box",
         "y": [
          46.90279769897461,
          20.066116333007812,
          22.34183120727539,
          23.047405242919922,
          24.074386596679688
         ]
        },
        {
         "boxpoints": "all",
         "jitter": 0.5,
         "line": {
          "color": "orange"
         },
         "name": "pop_size: 75 <br /> prob_const: 0.8 <br /> ms_lower: 0.033 <br /> ms_upper: 0.13333 <br /> p_inflate: 0.75 <br /> slim_version: SLIM+ABS <br /> ",
         "pointpos": 0,
         "type": "box",
         "y": [
          46.992591857910156,
          20.054248809814453,
          22.362220764160156,
          23.099515914916992,
          24.11447525024414
         ]
        },
        {
         "boxpoints": "all",
         "jitter": 0.5,
         "line": {
          "color": "orange"
         },
         "name": "pop_size: 75 <br /> prob_const: 0.8 <br /> ms_lower: 0.033 <br /> ms_upper: 0.13333 <br /> p_inflate: 0.75 <br /> slim_version: SLIM*SIG2 <br /> ",
         "pointpos": 0,
         "type": "box",
         "y": [
          18.20435905456543,
          12.406108856201172,
          23.323545455932617,
          15.424671173095703,
          15.744013786315918
         ]
        },
        {
         "boxpoints": "all",
         "jitter": 0.5,
         "line": {
          "color": "orange"
         },
         "name": "pop_size: 75 <br /> prob_const: 0.8 <br /> ms_lower: 0.033 <br /> ms_upper: 0.13333 <br /> p_inflate: 0.75 <br /> slim_version: SLIM*SIG1 <br /> ",
         "pointpos": 0,
         "type": "box",
         "y": [
          18.38566780090332,
          12.365436553955078,
          23.037973403930664,
          15.416131973266602,
          16.257898330688477
         ]
        },
        {
         "boxpoints": "all",
         "jitter": 0.5,
         "line": {
          "color": "orange"
         },
         "name": "pop_size: 75 <br /> prob_const: 0.8 <br /> ms_lower: 0.033 <br /> ms_upper: 0.13333 <br /> p_inflate: 0.75 <br /> slim_version: SLIM*ABS <br /> ",
         "pointpos": 0,
         "type": "box",
         "y": [
          18.398574829101562,
          12.664301872253418,
          22.24414825439453,
          15.649392127990723,
          15.938939094543457
         ]
        },
        {
         "boxpoints": "all",
         "jitter": 0.5,
         "line": {
          "color": "orange"
         },
         "name": "pop_size: 75 <br /> prob_const: 0.8 <br /> ms_lower: 0.033 <br /> ms_upper: 0.16666 <br /> p_inflate: 0.5 <br /> slim_version: SLIM+SIG2 <br /> ",
         "pointpos": 0,
         "type": "box",
         "y": [
          46.76083755493164,
          19.731563568115234,
          22.169776916503906,
          22.787527084350586,
          23.595548629760742
         ]
        },
        {
         "boxpoints": "all",
         "jitter": 0.5,
         "line": {
          "color": "orange"
         },
         "name": "pop_size: 75 <br /> prob_const: 0.8 <br /> ms_lower: 0.033 <br /> ms_upper: 0.16666 <br /> p_inflate: 0.5 <br /> slim_version: SLIM+SIG1 <br /> ",
         "pointpos": 0,
         "type": "box",
         "y": [
          46.424468994140625,
          19.538806915283203,
          21.99580955505371,
          22.598989486694336,
          23.512130737304688
         ]
        },
        {
         "boxpoints": "all",
         "jitter": 0.5,
         "line": {
          "color": "orange"
         },
         "name": "pop_size: 75 <br /> prob_const: 0.8 <br /> ms_lower: 0.033 <br /> ms_upper: 0.16666 <br /> p_inflate: 0.5 <br /> slim_version: SLIM+ABS <br /> ",
         "pointpos": 0,
         "type": "box",
         "y": [
          46.62746810913086,
          19.676515579223633,
          22.06743049621582,
          22.77520179748535,
          23.70439910888672
         ]
        },
        {
         "boxpoints": "all",
         "jitter": 0.5,
         "line": {
          "color": "orange"
         },
         "name": "pop_size: 75 <br /> prob_const: 0.8 <br /> ms_lower: 0.033 <br /> ms_upper: 0.16666 <br /> p_inflate: 0.5 <br /> slim_version: SLIM*SIG2 <br /> ",
         "pointpos": 0,
         "type": "box",
         "y": [
          19.22552490234375,
          12.393424987792969,
          23.181135177612305,
          15.793181419372559,
          15.836172103881836
         ]
        },
        {
         "boxpoints": "all",
         "jitter": 0.5,
         "line": {
          "color": "orange"
         },
         "name": "pop_size: 75 <br /> prob_const: 0.8 <br /> ms_lower: 0.033 <br /> ms_upper: 0.16666 <br /> p_inflate: 0.5 <br /> slim_version: SLIM*SIG1 <br /> ",
         "pointpos": 0,
         "type": "box",
         "y": [
          18.38640785217285,
          12.442782402038574,
          19.79332733154297,
          15.734233856201172,
          16.484893798828125
         ]
        },
        {
         "boxpoints": "all",
         "jitter": 0.5,
         "line": {
          "color": "orange"
         },
         "name": "pop_size: 75 <br /> prob_const: 0.8 <br /> ms_lower: 0.033 <br /> ms_upper: 0.16666 <br /> p_inflate: 0.5 <br /> slim_version: SLIM*ABS <br /> ",
         "pointpos": 0,
         "type": "box",
         "y": [
          18.404821395874023,
          12.525861740112305,
          22.24363899230957,
          16.011062622070312,
          15.715004920959473
         ]
        },
        {
         "boxpoints": "all",
         "jitter": 0.5,
         "line": {
          "color": "orange"
         },
         "name": "pop_size: 75 <br /> prob_const: 0.8 <br /> ms_lower: 0.033 <br /> ms_upper: 0.16666 <br /> p_inflate: 0.75 <br /> slim_version: SLIM+SIG2 <br /> ",
         "pointpos": 0,
         "type": "box",
         "y": [
          46.95530700683594,
          19.975252151489258,
          22.348161697387695,
          23.136322021484375,
          24.0894832611084
         ]
        },
        {
         "boxpoints": "all",
         "jitter": 0.5,
         "line": {
          "color": "orange"
         },
         "name": "pop_size: 75 <br /> prob_const: 0.8 <br /> ms_lower: 0.033 <br /> ms_upper: 0.16666 <br /> p_inflate: 0.75 <br /> slim_version: SLIM+SIG1 <br /> ",
         "pointpos": 0,
         "type": "box",
         "y": [
          46.65312957763672,
          19.87249183654785,
          22.104917526245117,
          22.83390998840332,
          23.973651885986328
         ]
        },
        {
         "boxpoints": "all",
         "jitter": 0.5,
         "line": {
          "color": "orange"
         },
         "name": "pop_size: 75 <br /> prob_const: 0.8 <br /> ms_lower: 0.033 <br /> ms_upper: 0.16666 <br /> p_inflate: 0.75 <br /> slim_version: SLIM+ABS <br /> ",
         "pointpos": 0,
         "type": "box",
         "y": [
          46.769309997558594,
          19.697261810302734,
          22.18684196472168,
          22.93377685546875,
          23.81800079345703
         ]
        },
        {
         "boxpoints": "all",
         "jitter": 0.5,
         "line": {
          "color": "orange"
         },
         "name": "pop_size: 75 <br /> prob_const: 0.8 <br /> ms_lower: 0.033 <br /> ms_upper: 0.16666 <br /> p_inflate: 0.75 <br /> slim_version: SLIM*SIG2 <br /> ",
         "pointpos": 0,
         "type": "box",
         "y": [
          19.16878890991211,
          12.416234016418457,
          24.08846092224121,
          14.77046012878418,
          13.569746971130371
         ]
        },
        {
         "boxpoints": "all",
         "jitter": 0.5,
         "line": {
          "color": "orange"
         },
         "name": "pop_size: 75 <br /> prob_const: 0.8 <br /> ms_lower: 0.033 <br /> ms_upper: 0.16666 <br /> p_inflate: 0.75 <br /> slim_version: SLIM*SIG1 <br /> ",
         "pointpos": 0,
         "type": "box",
         "y": [
          18.38797378540039,
          12.54063892364502,
          24.109771728515625,
          15.538768768310547,
          16.613121032714844
         ]
        },
        {
         "boxpoints": "all",
         "jitter": 0.5,
         "line": {
          "color": "orange"
         },
         "name": "pop_size: 75 <br /> prob_const: 0.8 <br /> ms_lower: 0.033 <br /> ms_upper: 0.16666 <br /> p_inflate: 0.75 <br /> slim_version: SLIM*ABS <br /> ",
         "pointpos": 0,
         "type": "box",
         "y": [
          18.377914428710938,
          12.72675895690918,
          22.263944625854492,
          15.841363906860352,
          15.570155143737793
         ]
        },
        {
         "boxpoints": "all",
         "jitter": 0.5,
         "line": {
          "color": "orange"
         },
         "name": "pop_size: 75 <br /> prob_const: 0.8 <br /> ms_lower: 0.066 <br /> ms_upper: 0.13333 <br /> p_inflate: 0.5 <br /> slim_version: SLIM+SIG2 <br /> ",
         "pointpos": 0,
         "type": "box",
         "y": [
          46.9528694152832,
          19.941186904907227,
          22.24513053894043,
          23.024709701538086,
          23.979520797729492
         ]
        },
        {
         "boxpoints": "all",
         "jitter": 0.5,
         "line": {
          "color": "orange"
         },
         "name": "pop_size: 75 <br /> prob_const: 0.8 <br /> ms_lower: 0.066 <br /> ms_upper: 0.13333 <br /> p_inflate: 0.5 <br /> slim_version: SLIM+SIG1 <br /> ",
         "pointpos": 0,
         "type": "box",
         "y": [
          46.73225021362305,
          19.772441864013672,
          22.16304588317871,
          22.86241912841797,
          23.795324325561523
         ]
        },
        {
         "boxpoints": "all",
         "jitter": 0.5,
         "line": {
          "color": "orange"
         },
         "name": "pop_size: 75 <br /> prob_const: 0.8 <br /> ms_lower: 0.066 <br /> ms_upper: 0.13333 <br /> p_inflate: 0.5 <br /> slim_version: SLIM+ABS <br /> ",
         "pointpos": 0,
         "type": "box",
         "y": [
          46.85519027709961,
          19.93548011779785,
          22.251737594604492,
          23.002649307250977,
          23.939247131347656
         ]
        },
        {
         "boxpoints": "all",
         "jitter": 0.5,
         "line": {
          "color": "orange"
         },
         "name": "pop_size: 75 <br /> prob_const: 0.8 <br /> ms_lower: 0.066 <br /> ms_upper: 0.13333 <br /> p_inflate: 0.5 <br /> slim_version: SLIM*SIG2 <br /> ",
         "pointpos": 0,
         "type": "box",
         "y": [
          18.41187286376953,
          12.632417678833008,
          23.59151840209961,
          15.804943084716797,
          15.824823379516602
         ]
        },
        {
         "boxpoints": "all",
         "jitter": 0.5,
         "line": {
          "color": "orange"
         },
         "name": "pop_size: 75 <br /> prob_const: 0.8 <br /> ms_lower: 0.066 <br /> ms_upper: 0.13333 <br /> p_inflate: 0.5 <br /> slim_version: SLIM*SIG1 <br /> ",
         "pointpos": 0,
         "type": "box",
         "y": [
          18.382577896118164,
          11.750962257385254,
          18.6261043548584,
          15.77852725982666,
          16.371023178100586
         ]
        },
        {
         "boxpoints": "all",
         "jitter": 0.5,
         "line": {
          "color": "orange"
         },
         "name": "pop_size: 75 <br /> prob_const: 0.8 <br /> ms_lower: 0.066 <br /> ms_upper: 0.13333 <br /> p_inflate: 0.5 <br /> slim_version: SLIM*ABS <br /> ",
         "pointpos": 0,
         "type": "box",
         "y": [
          18.440298080444336,
          11.167842864990234,
          22.145183563232422,
          15.605895042419434,
          15.601045608520508
         ]
        },
        {
         "boxpoints": "all",
         "jitter": 0.5,
         "line": {
          "color": "orange"
         },
         "name": "pop_size: 75 <br /> prob_const: 0.8 <br /> ms_lower: 0.066 <br /> ms_upper: 0.13333 <br /> p_inflate: 0.75 <br /> slim_version: SLIM+SIG2 <br /> ",
         "pointpos": 0,
         "type": "box",
         "y": [
          47.16794204711914,
          20.217151641845703,
          22.26976776123047,
          23.263809204101562,
          24.163043975830078
         ]
        },
        {
         "boxpoints": "all",
         "jitter": 0.5,
         "line": {
          "color": "orange"
         },
         "name": "pop_size: 75 <br /> prob_const: 0.8 <br /> ms_lower: 0.066 <br /> ms_upper: 0.13333 <br /> p_inflate: 0.75 <br /> slim_version: SLIM+SIG1 <br /> ",
         "pointpos": 0,
         "type": "box",
         "y": [
          46.869449615478516,
          20.00697135925293,
          22.263525009155273,
          22.959396362304688,
          24.016847610473633
         ]
        },
        {
         "boxpoints": "all",
         "jitter": 0.5,
         "line": {
          "color": "orange"
         },
         "name": "pop_size: 75 <br /> prob_const: 0.8 <br /> ms_lower: 0.066 <br /> ms_upper: 0.13333 <br /> p_inflate: 0.75 <br /> slim_version: SLIM+ABS <br /> ",
         "pointpos": 0,
         "type": "box",
         "y": [
          46.99258041381836,
          19.95870018005371,
          22.313364028930664,
          23.051355361938477,
          24.14371109008789
         ]
        },
        {
         "boxpoints": "all",
         "jitter": 0.5,
         "line": {
          "color": "orange"
         },
         "name": "pop_size: 75 <br /> prob_const: 0.8 <br /> ms_lower: 0.066 <br /> ms_upper: 0.13333 <br /> p_inflate: 0.75 <br /> slim_version: SLIM*SIG2 <br /> ",
         "pointpos": 0,
         "type": "box",
         "y": [
          17.942241668701172,
          12.42131519317627,
          22.869077682495117,
          15.772717475891113,
          16.53676986694336
         ]
        },
        {
         "boxpoints": "all",
         "jitter": 0.5,
         "line": {
          "color": "orange"
         },
         "name": "pop_size: 75 <br /> prob_const: 0.8 <br /> ms_lower: 0.066 <br /> ms_upper: 0.13333 <br /> p_inflate: 0.75 <br /> slim_version: SLIM*SIG1 <br /> ",
         "pointpos": 0,
         "type": "box",
         "y": [
          18.385112762451172,
          10.426338195800781,
          23.395130157470703,
          15.6810941696167,
          15.855143547058105
         ]
        },
        {
         "boxpoints": "all",
         "jitter": 0.5,
         "line": {
          "color": "orange"
         },
         "name": "pop_size: 75 <br /> prob_const: 0.8 <br /> ms_lower: 0.066 <br /> ms_upper: 0.13333 <br /> p_inflate: 0.75 <br /> slim_version: SLIM*ABS <br /> ",
         "pointpos": 0,
         "type": "box",
         "y": [
          18.277408599853516,
          12.727275848388672,
          22.257638931274414,
          15.771869659423828,
          15.721606254577637
         ]
        },
        {
         "boxpoints": "all",
         "jitter": 0.5,
         "line": {
          "color": "orange"
         },
         "name": "pop_size: 75 <br /> prob_const: 0.8 <br /> ms_lower: 0.066 <br /> ms_upper: 0.16666 <br /> p_inflate: 0.5 <br /> slim_version: SLIM+SIG2 <br /> ",
         "pointpos": 0,
         "type": "box",
         "y": [
          46.72333526611328,
          19.685327529907227,
          22.13634490966797,
          22.766651153564453,
          23.634227752685547
         ]
        },
        {
         "boxpoints": "all",
         "jitter": 0.5,
         "line": {
          "color": "orange"
         },
         "name": "pop_size: 75 <br /> prob_const: 0.8 <br /> ms_lower: 0.066 <br /> ms_upper: 0.16666 <br /> p_inflate: 0.5 <br /> slim_version: SLIM+SIG1 <br /> ",
         "pointpos": 0,
         "type": "box",
         "y": [
          46.41084289550781,
          19.509910583496094,
          21.96872901916504,
          22.59100341796875,
          23.507701873779297
         ]
        },
        {
         "boxpoints": "all",
         "jitter": 0.5,
         "line": {
          "color": "orange"
         },
         "name": "pop_size: 75 <br /> prob_const: 0.8 <br /> ms_lower: 0.066 <br /> ms_upper: 0.16666 <br /> p_inflate: 0.5 <br /> slim_version: SLIM+ABS <br /> ",
         "pointpos": 0,
         "type": "box",
         "y": [
          46.58418273925781,
          19.66484260559082,
          22.0693359375,
          22.729888916015625,
          23.672903060913086
         ]
        },
        {
         "boxpoints": "all",
         "jitter": 0.5,
         "line": {
          "color": "orange"
         },
         "name": "pop_size: 75 <br /> prob_const: 0.8 <br /> ms_lower: 0.066 <br /> ms_upper: 0.16666 <br /> p_inflate: 0.5 <br /> slim_version: SLIM*SIG2 <br /> ",
         "pointpos": 0,
         "type": "box",
         "y": [
          18.64633560180664,
          10.477180480957031,
          23.33570671081543,
          15.7249116897583,
          15.34169864654541
         ]
        },
        {
         "boxpoints": "all",
         "jitter": 0.5,
         "line": {
          "color": "orange"
         },
         "name": "pop_size: 75 <br /> prob_const: 0.8 <br /> ms_lower: 0.066 <br /> ms_upper: 0.16666 <br /> p_inflate: 0.5 <br /> slim_version: SLIM*SIG1 <br /> ",
         "pointpos": 0,
         "type": "box",
         "y": [
          19.980802536010742,
          12.399901390075684,
          23.36564064025879,
          15.48306655883789,
          15.739855766296387
         ]
        },
        {
         "boxpoints": "all",
         "jitter": 0.5,
         "line": {
          "color": "orange"
         },
         "name": "pop_size: 75 <br /> prob_const: 0.8 <br /> ms_lower: 0.066 <br /> ms_upper: 0.16666 <br /> p_inflate: 0.5 <br /> slim_version: SLIM*ABS <br /> ",
         "pointpos": 0,
         "type": "box",
         "y": [
          18.336193084716797,
          12.385125160217285,
          22.120162963867188,
          15.957253456115723,
          15.697610855102539
         ]
        },
        {
         "boxpoints": "all",
         "jitter": 0.5,
         "line": {
          "color": "orange"
         },
         "name": "pop_size: 75 <br /> prob_const: 0.8 <br /> ms_lower: 0.066 <br /> ms_upper: 0.16666 <br /> p_inflate: 0.75 <br /> slim_version: SLIM+SIG2 <br /> ",
         "pointpos": 0,
         "type": "box",
         "y": [
          46.82923889160156,
          20.031818389892578,
          22.31332778930664,
          23.22553253173828,
          23.81272315979004
         ]
        },
        {
         "boxpoints": "all",
         "jitter": 0.5,
         "line": {
          "color": "orange"
         },
         "name": "pop_size: 75 <br /> prob_const: 0.8 <br /> ms_lower: 0.066 <br /> ms_upper: 0.16666 <br /> p_inflate: 0.75 <br /> slim_version: SLIM+SIG1 <br /> ",
         "pointpos": 0,
         "type": "box",
         "y": [
          46.552669525146484,
          19.80815887451172,
          22.11944007873535,
          22.74962615966797,
          23.865650177001953
         ]
        },
        {
         "boxpoints": "all",
         "jitter": 0.5,
         "line": {
          "color": "orange"
         },
         "name": "pop_size: 75 <br /> prob_const: 0.8 <br /> ms_lower: 0.066 <br /> ms_upper: 0.16666 <br /> p_inflate: 0.75 <br /> slim_version: SLIM+ABS <br /> ",
         "pointpos": 0,
         "type": "box",
         "y": [
          46.76033020019531,
          19.778886795043945,
          22.14384651184082,
          22.785701751708984,
          23.89396858215332
         ]
        },
        {
         "boxpoints": "all",
         "jitter": 0.5,
         "line": {
          "color": "orange"
         },
         "name": "pop_size: 75 <br /> prob_const: 0.8 <br /> ms_lower: 0.066 <br /> ms_upper: 0.16666 <br /> p_inflate: 0.75 <br /> slim_version: SLIM*SIG2 <br /> ",
         "pointpos": 0,
         "type": "box",
         "y": [
          18.474594116210938,
          12.408784866333008,
          22.8402042388916,
          15.821967124938965,
          13.470061302185059
         ]
        },
        {
         "boxpoints": "all",
         "jitter": 0.5,
         "line": {
          "color": "orange"
         },
         "name": "pop_size: 75 <br /> prob_const: 0.8 <br /> ms_lower: 0.066 <br /> ms_upper: 0.16666 <br /> p_inflate: 0.75 <br /> slim_version: SLIM*SIG1 <br /> ",
         "pointpos": 0,
         "type": "box",
         "y": [
          18.38603401184082,
          12.510483741760254,
          22.271921157836914,
          15.479405403137207,
          15.829852104187012
         ]
        },
        {
         "boxpoints": "all",
         "jitter": 0.5,
         "line": {
          "color": "orange"
         },
         "name": "pop_size: 75 <br /> prob_const: 0.8 <br /> ms_lower: 0.066 <br /> ms_upper: 0.16666 <br /> p_inflate: 0.75 <br /> slim_version: SLIM*ABS <br /> ",
         "pointpos": 0,
         "type": "box",
         "y": [
          18.297256469726562,
          12.72574520111084,
          22.102617263793945,
          15.620783805847168,
          15.51870059967041
         ]
        },
        {
         "boxpoints": "all",
         "jitter": 0.5,
         "line": {
          "color": "orange"
         },
         "name": "pop_size: 75 <br /> prob_const: 0.9 <br /> ms_lower: 0.033 <br /> ms_upper: 0.13333 <br /> p_inflate: 0.5 <br /> slim_version: SLIM+SIG2 <br /> ",
         "pointpos": 0,
         "type": "box",
         "y": [
          16.430213928222656,
          20.165836334228516,
          22.458330154418945,
          22.891521453857422,
          26.202726364135742
         ]
        },
        {
         "boxpoints": "all",
         "jitter": 0.5,
         "line": {
          "color": "orange"
         },
         "name": "pop_size: 75 <br /> prob_const: 0.9 <br /> ms_lower: 0.033 <br /> ms_upper: 0.13333 <br /> p_inflate: 0.5 <br /> slim_version: SLIM+SIG1 <br /> ",
         "pointpos": 0,
         "type": "box",
         "y": [
          16.258047103881836,
          19.84332847595215,
          22.180465698242188,
          22.60536766052246,
          26.010236740112305
         ]
        },
        {
         "boxpoints": "all",
         "jitter": 0.5,
         "line": {
          "color": "orange"
         },
         "name": "pop_size: 75 <br /> prob_const: 0.9 <br /> ms_lower: 0.033 <br /> ms_upper: 0.13333 <br /> p_inflate: 0.5 <br /> slim_version: SLIM+ABS <br /> ",
         "pointpos": 0,
         "type": "box",
         "y": [
          16.321269989013672,
          19.927156448364258,
          22.26905632019043,
          22.719322204589844,
          26.097963333129883
         ]
        },
        {
         "boxpoints": "all",
         "jitter": 0.5,
         "line": {
          "color": "orange"
         },
         "name": "pop_size: 75 <br /> prob_const: 0.9 <br /> ms_lower: 0.033 <br /> ms_upper: 0.13333 <br /> p_inflate: 0.5 <br /> slim_version: SLIM*SIG2 <br /> ",
         "pointpos": 0,
         "type": "box",
         "y": [
          16.33379554748535,
          12.087907791137695,
          22.755571365356445,
          15.849334716796875,
          16.266183853149414
         ]
        },
        {
         "boxpoints": "all",
         "jitter": 0.5,
         "line": {
          "color": "orange"
         },
         "name": "pop_size: 75 <br /> prob_const: 0.9 <br /> ms_lower: 0.033 <br /> ms_upper: 0.13333 <br /> p_inflate: 0.5 <br /> slim_version: SLIM*SIG1 <br /> ",
         "pointpos": 0,
         "type": "box",
         "y": [
          16.564393997192383,
          12.400649070739746,
          22.270322799682617,
          15.234607696533203,
          16.19883155822754
         ]
        },
        {
         "boxpoints": "all",
         "jitter": 0.5,
         "line": {
          "color": "orange"
         },
         "name": "pop_size: 75 <br /> prob_const: 0.9 <br /> ms_lower: 0.033 <br /> ms_upper: 0.13333 <br /> p_inflate: 0.5 <br /> slim_version: SLIM*ABS <br /> ",
         "pointpos": 0,
         "type": "box",
         "y": [
          16.50538444519043,
          12.473578453063965,
          22.15959930419922,
          15.856759071350098,
          16.11121940612793
         ]
        },
        {
         "boxpoints": "all",
         "jitter": 0.5,
         "line": {
          "color": "orange"
         },
         "name": "pop_size: 75 <br /> prob_const: 0.9 <br /> ms_lower: 0.033 <br /> ms_upper: 0.13333 <br /> p_inflate: 0.75 <br /> slim_version: SLIM+SIG2 <br /> ",
         "pointpos": 0,
         "type": "box",
         "y": [
          16.617666244506836,
          20.2398681640625,
          22.556774139404297,
          22.867406845092773,
          26.47869110107422
         ]
        },
        {
         "boxpoints": "all",
         "jitter": 0.5,
         "line": {
          "color": "orange"
         },
         "name": "pop_size: 75 <br /> prob_const: 0.9 <br /> ms_lower: 0.033 <br /> ms_upper: 0.13333 <br /> p_inflate: 0.75 <br /> slim_version: SLIM+SIG1 <br /> ",
         "pointpos": 0,
         "type": "box",
         "y": [
          16.334623336791992,
          20.065555572509766,
          22.512958526611328,
          22.81847381591797,
          26.15497398376465
         ]
        },
        {
         "boxpoints": "all",
         "jitter": 0.5,
         "line": {
          "color": "orange"
         },
         "name": "pop_size: 75 <br /> prob_const: 0.9 <br /> ms_lower: 0.033 <br /> ms_upper: 0.13333 <br /> p_inflate: 0.75 <br /> slim_version: SLIM+ABS <br /> ",
         "pointpos": 0,
         "type": "box",
         "y": [
          16.50087547302246,
          20.16127586364746,
          22.38068199157715,
          22.813438415527344,
          26.42835807800293
         ]
        },
        {
         "boxpoints": "all",
         "jitter": 0.5,
         "line": {
          "color": "orange"
         },
         "name": "pop_size: 75 <br /> prob_const: 0.9 <br /> ms_lower: 0.033 <br /> ms_upper: 0.13333 <br /> p_inflate: 0.75 <br /> slim_version: SLIM*SIG2 <br /> ",
         "pointpos": 0,
         "type": "box",
         "y": [
          16.119789123535156,
          12.422776222229004,
          22.810575485229492,
          15.827832221984863,
          16.773942947387695
         ]
        },
        {
         "boxpoints": "all",
         "jitter": 0.5,
         "line": {
          "color": "orange"
         },
         "name": "pop_size: 75 <br /> prob_const: 0.9 <br /> ms_lower: 0.033 <br /> ms_upper: 0.13333 <br /> p_inflate: 0.75 <br /> slim_version: SLIM*SIG1 <br /> ",
         "pointpos": 0,
         "type": "box",
         "y": [
          15.554585456848145,
          12.397735595703125,
          22.265819549560547,
          15.460648536682129,
          17.030851364135742
         ]
        },
        {
         "boxpoints": "all",
         "jitter": 0.5,
         "line": {
          "color": "orange"
         },
         "name": "pop_size: 75 <br /> prob_const: 0.9 <br /> ms_lower: 0.033 <br /> ms_upper: 0.13333 <br /> p_inflate: 0.75 <br /> slim_version: SLIM*ABS <br /> ",
         "pointpos": 0,
         "type": "box",
         "y": [
          17.558244705200195,
          12.445904731750488,
          22.265459060668945,
          16.044292449951172,
          16.08479118347168
         ]
        },
        {
         "boxpoints": "all",
         "jitter": 0.5,
         "line": {
          "color": "orange"
         },
         "name": "pop_size: 75 <br /> prob_const: 0.9 <br /> ms_lower: 0.033 <br /> ms_upper: 0.16666 <br /> p_inflate: 0.5 <br /> slim_version: SLIM+SIG2 <br /> ",
         "pointpos": 0,
         "type": "box",
         "y": [
          16.156152725219727,
          19.812023162841797,
          22.50698471069336,
          22.514209747314453,
          26.00982666015625
         ]
        },
        {
         "boxpoints": "all",
         "jitter": 0.5,
         "line": {
          "color": "orange"
         },
         "name": "pop_size: 75 <br /> prob_const: 0.9 <br /> ms_lower: 0.033 <br /> ms_upper: 0.16666 <br /> p_inflate: 0.5 <br /> slim_version: SLIM+SIG1 <br /> ",
         "pointpos": 0,
         "type": "box",
         "y": [
          16.000131607055664,
          19.572175979614258,
          22.095138549804688,
          22.37111473083496,
          25.721813201904297
         ]
        },
        {
         "boxpoints": "all",
         "jitter": 0.5,
         "line": {
          "color": "orange"
         },
         "name": "pop_size: 75 <br /> prob_const: 0.9 <br /> ms_lower: 0.033 <br /> ms_upper: 0.16666 <br /> p_inflate: 0.5 <br /> slim_version: SLIM+ABS <br /> ",
         "pointpos": 0,
         "type": "box",
         "y": [
          16.18196678161621,
          19.720430374145508,
          22.12701988220215,
          22.469701766967773,
          25.826154708862305
         ]
        },
        {
         "boxpoints": "all",
         "jitter": 0.5,
         "line": {
          "color": "orange"
         },
         "name": "pop_size: 75 <br /> prob_const: 0.9 <br /> ms_lower: 0.033 <br /> ms_upper: 0.16666 <br /> p_inflate: 0.5 <br /> slim_version: SLIM*SIG2 <br /> ",
         "pointpos": 0,
         "type": "box",
         "y": [
          16.93798065185547,
          12.445801734924316,
          23.227352142333984,
          15.451213836669922,
          16.2248477935791
         ]
        },
        {
         "boxpoints": "all",
         "jitter": 0.5,
         "line": {
          "color": "orange"
         },
         "name": "pop_size: 75 <br /> prob_const: 0.9 <br /> ms_lower: 0.033 <br /> ms_upper: 0.16666 <br /> p_inflate: 0.5 <br /> slim_version: SLIM*SIG1 <br /> ",
         "pointpos": 0,
         "type": "box",
         "y": [
          15.676870346069336,
          12.393770217895508,
          22.26894187927246,
          15.290145874023438,
          16.314001083374023
         ]
        },
        {
         "boxpoints": "all",
         "jitter": 0.5,
         "line": {
          "color": "orange"
         },
         "name": "pop_size: 75 <br /> prob_const: 0.9 <br /> ms_lower: 0.033 <br /> ms_upper: 0.16666 <br /> p_inflate: 0.5 <br /> slim_version: SLIM*ABS <br /> ",
         "pointpos": 0,
         "type": "box",
         "y": [
          17.916725158691406,
          12.458940505981445,
          25.743453979492188,
          15.90701961517334,
          16.20451545715332
         ]
        },
        {
         "boxpoints": "all",
         "jitter": 0.5,
         "line": {
          "color": "orange"
         },
         "name": "pop_size: 75 <br /> prob_const: 0.9 <br /> ms_lower: 0.033 <br /> ms_upper: 0.16666 <br /> p_inflate: 0.75 <br /> slim_version: SLIM+SIG2 <br /> ",
         "pointpos": 0,
         "type": "box",
         "y": [
          16.609437942504883,
          20.07002830505371,
          22.52604103088379,
          22.770984649658203,
          26.433059692382812
         ]
        },
        {
         "boxpoints": "all",
         "jitter": 0.5,
         "line": {
          "color": "orange"
         },
         "name": "pop_size: 75 <br /> prob_const: 0.9 <br /> ms_lower: 0.033 <br /> ms_upper: 0.16666 <br /> p_inflate: 0.75 <br /> slim_version: SLIM+SIG1 <br /> ",
         "pointpos": 0,
         "type": "box",
         "y": [
          16.283588409423828,
          19.933429718017578,
          22.41178321838379,
          22.599369049072266,
          26.150197982788086
         ]
        },
        {
         "boxpoints": "all",
         "jitter": 0.5,
         "line": {
          "color": "orange"
         },
         "name": "pop_size: 75 <br /> prob_const: 0.9 <br /> ms_lower: 0.033 <br /> ms_upper: 0.16666 <br /> p_inflate: 0.75 <br /> slim_version: SLIM+ABS <br /> ",
         "pointpos": 0,
         "type": "box",
         "y": [
          16.43486213684082,
          19.95527458190918,
          22.3806095123291,
          22.5106201171875,
          26.07819175720215
         ]
        },
        {
         "boxpoints": "all",
         "jitter": 0.5,
         "line": {
          "color": "orange"
         },
         "name": "pop_size: 75 <br /> prob_const: 0.9 <br /> ms_lower: 0.033 <br /> ms_upper: 0.16666 <br /> p_inflate: 0.75 <br /> slim_version: SLIM*SIG2 <br /> ",
         "pointpos": 0,
         "type": "box",
         "y": [
          15.941598892211914,
          12.408514022827148,
          22.598445892333984,
          15.612584114074707,
          16.336105346679688
         ]
        },
        {
         "boxpoints": "all",
         "jitter": 0.5,
         "line": {
          "color": "orange"
         },
         "name": "pop_size: 75 <br /> prob_const: 0.9 <br /> ms_lower: 0.033 <br /> ms_upper: 0.16666 <br /> p_inflate: 0.75 <br /> slim_version: SLIM*SIG1 <br /> ",
         "pointpos": 0,
         "type": "box",
         "y": [
          15.09650993347168,
          12.423494338989258,
          23.283660888671875,
          16.149757385253906,
          16.385868072509766
         ]
        },
        {
         "boxpoints": "all",
         "jitter": 0.5,
         "line": {
          "color": "orange"
         },
         "name": "pop_size: 75 <br /> prob_const: 0.9 <br /> ms_lower: 0.033 <br /> ms_upper: 0.16666 <br /> p_inflate: 0.75 <br /> slim_version: SLIM*ABS <br /> ",
         "pointpos": 0,
         "type": "box",
         "y": [
          15.59428596496582,
          12.550968170166016,
          22.277814865112305,
          15.635498046875,
          16.25868034362793
         ]
        },
        {
         "boxpoints": "all",
         "jitter": 0.5,
         "line": {
          "color": "orange"
         },
         "name": "pop_size: 75 <br /> prob_const: 0.9 <br /> ms_lower: 0.066 <br /> ms_upper: 0.13333 <br /> p_inflate: 0.5 <br /> slim_version: SLIM+SIG2 <br /> ",
         "pointpos": 0,
         "type": "box",
         "y": [
          16.414813995361328,
          20.147441864013672,
          22.280088424682617,
          22.77230453491211,
          26.300168991088867
         ]
        },
        {
         "boxpoints": "all",
         "jitter": 0.5,
         "line": {
          "color": "orange"
         },
         "name": "pop_size: 75 <br /> prob_const: 0.9 <br /> ms_lower: 0.066 <br /> ms_upper: 0.13333 <br /> p_inflate: 0.5 <br /> slim_version: SLIM+SIG1 <br /> ",
         "pointpos": 0,
         "type": "box",
         "y": [
          16.245649337768555,
          19.812028884887695,
          22.176864624023438,
          22.528608322143555,
          25.977298736572266
         ]
        },
        {
         "boxpoints": "all",
         "jitter": 0.5,
         "line": {
          "color": "orange"
         },
         "name": "pop_size: 75 <br /> prob_const: 0.9 <br /> ms_lower: 0.066 <br /> ms_upper: 0.13333 <br /> p_inflate: 0.5 <br /> slim_version: SLIM+ABS <br /> ",
         "pointpos": 0,
         "type": "box",
         "y": [
          16.348011016845703,
          19.91868019104004,
          22.275075912475586,
          22.649831771850586,
          26.093591690063477
         ]
        },
        {
         "boxpoints": "all",
         "jitter": 0.5,
         "line": {
          "color": "orange"
         },
         "name": "pop_size: 75 <br /> prob_const: 0.9 <br /> ms_lower: 0.066 <br /> ms_upper: 0.13333 <br /> p_inflate: 0.5 <br /> slim_version: SLIM*SIG2 <br /> ",
         "pointpos": 0,
         "type": "box",
         "y": [
          16.15717887878418,
          12.430207252502441,
          22.871963500976562,
          15.631961822509766,
          16.41738510131836
         ]
        },
        {
         "boxpoints": "all",
         "jitter": 0.5,
         "line": {
          "color": "orange"
         },
         "name": "pop_size: 75 <br /> prob_const: 0.9 <br /> ms_lower: 0.066 <br /> ms_upper: 0.13333 <br /> p_inflate: 0.5 <br /> slim_version: SLIM*SIG1 <br /> ",
         "pointpos": 0,
         "type": "box",
         "y": [
          17.05451774597168,
          12.473392486572266,
          22.41402244567871,
          15.119755744934082,
          16.268857955932617
         ]
        },
        {
         "boxpoints": "all",
         "jitter": 0.5,
         "line": {
          "color": "orange"
         },
         "name": "pop_size: 75 <br /> prob_const: 0.9 <br /> ms_lower: 0.066 <br /> ms_upper: 0.13333 <br /> p_inflate: 0.5 <br /> slim_version: SLIM*ABS <br /> ",
         "pointpos": 0,
         "type": "box",
         "y": [
          17.529516220092773,
          12.4535493850708,
          22.190658569335938,
          15.775110244750977,
          16.14498519897461
         ]
        },
        {
         "boxpoints": "all",
         "jitter": 0.5,
         "line": {
          "color": "orange"
         },
         "name": "pop_size: 75 <br /> prob_const: 0.9 <br /> ms_lower: 0.066 <br /> ms_upper: 0.13333 <br /> p_inflate: 0.75 <br /> slim_version: SLIM+SIG2 <br /> ",
         "pointpos": 0,
         "type": "box",
         "y": [
          16.598339080810547,
          20.2230167388916,
          22.59572410583496,
          22.954763412475586,
          26.57245445251465
         ]
        },
        {
         "boxpoints": "all",
         "jitter": 0.5,
         "line": {
          "color": "orange"
         },
         "name": "pop_size: 75 <br /> prob_const: 0.9 <br /> ms_lower: 0.066 <br /> ms_upper: 0.13333 <br /> p_inflate: 0.75 <br /> slim_version: SLIM+SIG1 <br /> ",
         "pointpos": 0,
         "type": "box",
         "y": [
          16.293941497802734,
          19.997982025146484,
          22.37032699584961,
          22.770299911499023,
          26.20460319519043
         ]
        },
        {
         "boxpoints": "all",
         "jitter": 0.5,
         "line": {
          "color": "orange"
         },
         "name": "pop_size: 75 <br /> prob_const: 0.9 <br /> ms_lower: 0.066 <br /> ms_upper: 0.13333 <br /> p_inflate: 0.75 <br /> slim_version: SLIM+ABS <br /> ",
         "pointpos": 0,
         "type": "box",
         "y": [
          16.336910247802734,
          20.069334030151367,
          22.334278106689453,
          22.72618865966797,
          26.229583740234375
         ]
        },
        {
         "boxpoints": "all",
         "jitter": 0.5,
         "line": {
          "color": "orange"
         },
         "name": "pop_size: 75 <br /> prob_const: 0.9 <br /> ms_lower: 0.066 <br /> ms_upper: 0.13333 <br /> p_inflate: 0.75 <br /> slim_version: SLIM*SIG2 <br /> ",
         "pointpos": 0,
         "type": "box",
         "y": [
          16.31272315979004,
          12.400008201599121,
          22.93286895751953,
          15.839454650878906,
          16.33411407470703
         ]
        },
        {
         "boxpoints": "all",
         "jitter": 0.5,
         "line": {
          "color": "orange"
         },
         "name": "pop_size: 75 <br /> prob_const: 0.9 <br /> ms_lower: 0.066 <br /> ms_upper: 0.13333 <br /> p_inflate: 0.75 <br /> slim_version: SLIM*SIG1 <br /> ",
         "pointpos": 0,
         "type": "box",
         "y": [
          15.60995101928711,
          12.415497779846191,
          22.264692306518555,
          15.353525161743164,
          16.38178825378418
         ]
        },
        {
         "boxpoints": "all",
         "jitter": 0.5,
         "line": {
          "color": "orange"
         },
         "name": "pop_size: 75 <br /> prob_const: 0.9 <br /> ms_lower: 0.066 <br /> ms_upper: 0.13333 <br /> p_inflate: 0.75 <br /> slim_version: SLIM*ABS <br /> ",
         "pointpos": 0,
         "type": "box",
         "y": [
          16.256088256835938,
          12.512927055358887,
          22.192140579223633,
          15.827420234680176,
          16.180179595947266
         ]
        },
        {
         "boxpoints": "all",
         "jitter": 0.5,
         "line": {
          "color": "orange"
         },
         "name": "pop_size: 75 <br /> prob_const: 0.9 <br /> ms_lower: 0.066 <br /> ms_upper: 0.16666 <br /> p_inflate: 0.5 <br /> slim_version: SLIM+SIG2 <br /> ",
         "pointpos": 0,
         "type": "box",
         "y": [
          16.219772338867188,
          19.93861961364746,
          22.258392333984375,
          22.741455078125,
          26.083606719970703
         ]
        },
        {
         "boxpoints": "all",
         "jitter": 0.5,
         "line": {
          "color": "orange"
         },
         "name": "pop_size: 75 <br /> prob_const: 0.9 <br /> ms_lower: 0.066 <br /> ms_upper: 0.16666 <br /> p_inflate: 0.5 <br /> slim_version: SLIM+SIG1 <br /> ",
         "pointpos": 0,
         "type": "box",
         "y": [
          16.023534774780273,
          19.583993911743164,
          22.001129150390625,
          22.356861114501953,
          25.682437896728516
         ]
        },
        {
         "boxpoints": "all",
         "jitter": 0.5,
         "line": {
          "color": "orange"
         },
         "name": "pop_size: 75 <br /> prob_const: 0.9 <br /> ms_lower: 0.066 <br /> ms_upper: 0.16666 <br /> p_inflate: 0.5 <br /> slim_version: SLIM+ABS <br /> ",
         "pointpos": 0,
         "type": "box",
         "y": [
          16.146039962768555,
          19.670469284057617,
          22.08961296081543,
          22.44611358642578,
          25.841289520263672
         ]
        },
        {
         "boxpoints": "all",
         "jitter": 0.5,
         "line": {
          "color": "orange"
         },
         "name": "pop_size: 75 <br /> prob_const: 0.9 <br /> ms_lower: 0.066 <br /> ms_upper: 0.16666 <br /> p_inflate: 0.5 <br /> slim_version: SLIM*SIG2 <br /> ",
         "pointpos": 0,
         "type": "box",
         "y": [
          15.68262767791748,
          12.408562660217285,
          22.932987213134766,
          15.646868705749512,
          16.227218627929688
         ]
        },
        {
         "boxpoints": "all",
         "jitter": 0.5,
         "line": {
          "color": "orange"
         },
         "name": "pop_size: 75 <br /> prob_const: 0.9 <br /> ms_lower: 0.066 <br /> ms_upper: 0.16666 <br /> p_inflate: 0.5 <br /> slim_version: SLIM*SIG1 <br /> ",
         "pointpos": 0,
         "type": "box",
         "y": [
          16.063997268676758,
          12.48814868927002,
          22.430723190307617,
          15.118237495422363,
          16.271100997924805
         ]
        },
        {
         "boxpoints": "all",
         "jitter": 0.5,
         "line": {
          "color": "orange"
         },
         "name": "pop_size: 75 <br /> prob_const: 0.9 <br /> ms_lower: 0.066 <br /> ms_upper: 0.16666 <br /> p_inflate: 0.5 <br /> slim_version: SLIM*ABS <br /> ",
         "pointpos": 0,
         "type": "box",
         "y": [
          17.14603042602539,
          12.486184120178223,
          21.95448875427246,
          15.52135181427002,
          16.11588478088379
         ]
        },
        {
         "boxpoints": "all",
         "jitter": 0.5,
         "line": {
          "color": "orange"
         },
         "name": "pop_size: 75 <br /> prob_const: 0.9 <br /> ms_lower: 0.066 <br /> ms_upper: 0.16666 <br /> p_inflate: 0.75 <br /> slim_version: SLIM+SIG2 <br /> ",
         "pointpos": 0,
         "type": "box",
         "y": [
          16.605863571166992,
          20.021217346191406,
          22.469736099243164,
          22.76398277282715,
          26.34442138671875
         ]
        },
        {
         "boxpoints": "all",
         "jitter": 0.5,
         "line": {
          "color": "orange"
         },
         "name": "pop_size: 75 <br /> prob_const: 0.9 <br /> ms_lower: 0.066 <br /> ms_upper: 0.16666 <br /> p_inflate: 0.75 <br /> slim_version: SLIM+SIG1 <br /> ",
         "pointpos": 0,
         "type": "box",
         "y": [
          16.174945831298828,
          19.644929885864258,
          22.148530960083008,
          22.582887649536133,
          25.88447380065918
         ]
        },
        {
         "boxpoints": "all",
         "jitter": 0.5,
         "line": {
          "color": "orange"
         },
         "name": "pop_size: 75 <br /> prob_const: 0.9 <br /> ms_lower: 0.066 <br /> ms_upper: 0.16666 <br /> p_inflate: 0.75 <br /> slim_version: SLIM+ABS <br /> ",
         "pointpos": 0,
         "type": "box",
         "y": [
          16.3092041015625,
          19.751171112060547,
          22.225482940673828,
          22.550817489624023,
          26.018552780151367
         ]
        },
        {
         "boxpoints": "all",
         "jitter": 0.5,
         "line": {
          "color": "orange"
         },
         "name": "pop_size: 75 <br /> prob_const: 0.9 <br /> ms_lower: 0.066 <br /> ms_upper: 0.16666 <br /> p_inflate: 0.75 <br /> slim_version: SLIM*SIG2 <br /> ",
         "pointpos": 0,
         "type": "box",
         "y": [
          16.48326873779297,
          12.37157154083252,
          22.367637634277344,
          15.138047218322754,
          16.428752899169922
         ]
        },
        {
         "boxpoints": "all",
         "jitter": 0.5,
         "line": {
          "color": "orange"
         },
         "name": "pop_size: 75 <br /> prob_const: 0.9 <br /> ms_lower: 0.066 <br /> ms_upper: 0.16666 <br /> p_inflate: 0.75 <br /> slim_version: SLIM*SIG1 <br /> ",
         "pointpos": 0,
         "type": "box",
         "y": [
          16.021455764770508,
          12.42342472076416,
          22.262943267822266,
          15.747719764709473,
          16.393049240112305
         ]
        },
        {
         "boxpoints": "all",
         "jitter": 0.5,
         "line": {
          "color": "orange"
         },
         "name": "pop_size: 75 <br /> prob_const: 0.9 <br /> ms_lower: 0.066 <br /> ms_upper: 0.16666 <br /> p_inflate: 0.75 <br /> slim_version: SLIM*ABS <br /> ",
         "pointpos": 0,
         "type": "box",
         "y": [
          16.122644424438477,
          12.530230522155762,
          22.184131622314453,
          15.89675235748291,
          16.190235137939453
         ]
        }
       ],
       "layout": {
        "height": 500,
        "margin": {
         "b": 20,
         "l": 50,
         "r": 50,
         "t": 50
        },
        "showlegend": false,
        "template": {
         "data": {
          "bar": [
           {
            "error_x": {
             "color": "#2a3f5f"
            },
            "error_y": {
             "color": "#2a3f5f"
            },
            "marker": {
             "line": {
              "color": "white",
              "width": 0.5
             },
             "pattern": {
              "fillmode": "overlay",
              "size": 10,
              "solidity": 0.2
             }
            },
            "type": "bar"
           }
          ],
          "barpolar": [
           {
            "marker": {
             "line": {
              "color": "white",
              "width": 0.5
             },
             "pattern": {
              "fillmode": "overlay",
              "size": 10,
              "solidity": 0.2
             }
            },
            "type": "barpolar"
           }
          ],
          "carpet": [
           {
            "aaxis": {
             "endlinecolor": "#2a3f5f",
             "gridcolor": "#C8D4E3",
             "linecolor": "#C8D4E3",
             "minorgridcolor": "#C8D4E3",
             "startlinecolor": "#2a3f5f"
            },
            "baxis": {
             "endlinecolor": "#2a3f5f",
             "gridcolor": "#C8D4E3",
             "linecolor": "#C8D4E3",
             "minorgridcolor": "#C8D4E3",
             "startlinecolor": "#2a3f5f"
            },
            "type": "carpet"
           }
          ],
          "choropleth": [
           {
            "colorbar": {
             "outlinewidth": 0,
             "ticks": ""
            },
            "type": "choropleth"
           }
          ],
          "contour": [
           {
            "colorbar": {
             "outlinewidth": 0,
             "ticks": ""
            },
            "colorscale": [
             [
              0,
              "#0d0887"
             ],
             [
              0.1111111111111111,
              "#46039f"
             ],
             [
              0.2222222222222222,
              "#7201a8"
             ],
             [
              0.3333333333333333,
              "#9c179e"
             ],
             [
              0.4444444444444444,
              "#bd3786"
             ],
             [
              0.5555555555555556,
              "#d8576b"
             ],
             [
              0.6666666666666666,
              "#ed7953"
             ],
             [
              0.7777777777777778,
              "#fb9f3a"
             ],
             [
              0.8888888888888888,
              "#fdca26"
             ],
             [
              1,
              "#f0f921"
             ]
            ],
            "type": "contour"
           }
          ],
          "contourcarpet": [
           {
            "colorbar": {
             "outlinewidth": 0,
             "ticks": ""
            },
            "type": "contourcarpet"
           }
          ],
          "heatmap": [
           {
            "colorbar": {
             "outlinewidth": 0,
             "ticks": ""
            },
            "colorscale": [
             [
              0,
              "#0d0887"
             ],
             [
              0.1111111111111111,
              "#46039f"
             ],
             [
              0.2222222222222222,
              "#7201a8"
             ],
             [
              0.3333333333333333,
              "#9c179e"
             ],
             [
              0.4444444444444444,
              "#bd3786"
             ],
             [
              0.5555555555555556,
              "#d8576b"
             ],
             [
              0.6666666666666666,
              "#ed7953"
             ],
             [
              0.7777777777777778,
              "#fb9f3a"
             ],
             [
              0.8888888888888888,
              "#fdca26"
             ],
             [
              1,
              "#f0f921"
             ]
            ],
            "type": "heatmap"
           }
          ],
          "histogram": [
           {
            "marker": {
             "pattern": {
              "fillmode": "overlay",
              "size": 10,
              "solidity": 0.2
             }
            },
            "type": "histogram"
           }
          ],
          "histogram2d": [
           {
            "colorbar": {
             "outlinewidth": 0,
             "ticks": ""
            },
            "colorscale": [
             [
              0,
              "#0d0887"
             ],
             [
              0.1111111111111111,
              "#46039f"
             ],
             [
              0.2222222222222222,
              "#7201a8"
             ],
             [
              0.3333333333333333,
              "#9c179e"
             ],
             [
              0.4444444444444444,
              "#bd3786"
             ],
             [
              0.5555555555555556,
              "#d8576b"
             ],
             [
              0.6666666666666666,
              "#ed7953"
             ],
             [
              0.7777777777777778,
              "#fb9f3a"
             ],
             [
              0.8888888888888888,
              "#fdca26"
             ],
             [
              1,
              "#f0f921"
             ]
            ],
            "type": "histogram2d"
           }
          ],
          "histogram2dcontour": [
           {
            "colorbar": {
             "outlinewidth": 0,
             "ticks": ""
            },
            "colorscale": [
             [
              0,
              "#0d0887"
             ],
             [
              0.1111111111111111,
              "#46039f"
             ],
             [
              0.2222222222222222,
              "#7201a8"
             ],
             [
              0.3333333333333333,
              "#9c179e"
             ],
             [
              0.4444444444444444,
              "#bd3786"
             ],
             [
              0.5555555555555556,
              "#d8576b"
             ],
             [
              0.6666666666666666,
              "#ed7953"
             ],
             [
              0.7777777777777778,
              "#fb9f3a"
             ],
             [
              0.8888888888888888,
              "#fdca26"
             ],
             [
              1,
              "#f0f921"
             ]
            ],
            "type": "histogram2dcontour"
           }
          ],
          "mesh3d": [
           {
            "colorbar": {
             "outlinewidth": 0,
             "ticks": ""
            },
            "type": "mesh3d"
           }
          ],
          "parcoords": [
           {
            "line": {
             "colorbar": {
              "outlinewidth": 0,
              "ticks": ""
             }
            },
            "type": "parcoords"
           }
          ],
          "pie": [
           {
            "automargin": true,
            "type": "pie"
           }
          ],
          "scatter": [
           {
            "fillpattern": {
             "fillmode": "overlay",
             "size": 10,
             "solidity": 0.2
            },
            "type": "scatter"
           }
          ],
          "scatter3d": [
           {
            "line": {
             "colorbar": {
              "outlinewidth": 0,
              "ticks": ""
             }
            },
            "marker": {
             "colorbar": {
              "outlinewidth": 0,
              "ticks": ""
             }
            },
            "type": "scatter3d"
           }
          ],
          "scattercarpet": [
           {
            "marker": {
             "colorbar": {
              "outlinewidth": 0,
              "ticks": ""
             }
            },
            "type": "scattercarpet"
           }
          ],
          "scattergeo": [
           {
            "marker": {
             "colorbar": {
              "outlinewidth": 0,
              "ticks": ""
             }
            },
            "type": "scattergeo"
           }
          ],
          "scattergl": [
           {
            "marker": {
             "colorbar": {
              "outlinewidth": 0,
              "ticks": ""
             }
            },
            "type": "scattergl"
           }
          ],
          "scattermap": [
           {
            "marker": {
             "colorbar": {
              "outlinewidth": 0,
              "ticks": ""
             }
            },
            "type": "scattermap"
           }
          ],
          "scattermapbox": [
           {
            "marker": {
             "colorbar": {
              "outlinewidth": 0,
              "ticks": ""
             }
            },
            "type": "scattermapbox"
           }
          ],
          "scatterpolar": [
           {
            "marker": {
             "colorbar": {
              "outlinewidth": 0,
              "ticks": ""
             }
            },
            "type": "scatterpolar"
           }
          ],
          "scatterpolargl": [
           {
            "marker": {
             "colorbar": {
              "outlinewidth": 0,
              "ticks": ""
             }
            },
            "type": "scatterpolargl"
           }
          ],
          "scatterternary": [
           {
            "marker": {
             "colorbar": {
              "outlinewidth": 0,
              "ticks": ""
             }
            },
            "type": "scatterternary"
           }
          ],
          "surface": [
           {
            "colorbar": {
             "outlinewidth": 0,
             "ticks": ""
            },
            "colorscale": [
             [
              0,
              "#0d0887"
             ],
             [
              0.1111111111111111,
              "#46039f"
             ],
             [
              0.2222222222222222,
              "#7201a8"
             ],
             [
              0.3333333333333333,
              "#9c179e"
             ],
             [
              0.4444444444444444,
              "#bd3786"
             ],
             [
              0.5555555555555556,
              "#d8576b"
             ],
             [
              0.6666666666666666,
              "#ed7953"
             ],
             [
              0.7777777777777778,
              "#fb9f3a"
             ],
             [
              0.8888888888888888,
              "#fdca26"
             ],
             [
              1,
              "#f0f921"
             ]
            ],
            "type": "surface"
           }
          ],
          "table": [
           {
            "cells": {
             "fill": {
              "color": "#EBF0F8"
             },
             "line": {
              "color": "white"
             }
            },
            "header": {
             "fill": {
              "color": "#C8D4E3"
             },
             "line": {
              "color": "white"
             }
            },
            "type": "table"
           }
          ]
         },
         "layout": {
          "annotationdefaults": {
           "arrowcolor": "#2a3f5f",
           "arrowhead": 0,
           "arrowwidth": 1
          },
          "autotypenumbers": "strict",
          "coloraxis": {
           "colorbar": {
            "outlinewidth": 0,
            "ticks": ""
           }
          },
          "colorscale": {
           "diverging": [
            [
             0,
             "#8e0152"
            ],
            [
             0.1,
             "#c51b7d"
            ],
            [
             0.2,
             "#de77ae"
            ],
            [
             0.3,
             "#f1b6da"
            ],
            [
             0.4,
             "#fde0ef"
            ],
            [
             0.5,
             "#f7f7f7"
            ],
            [
             0.6,
             "#e6f5d0"
            ],
            [
             0.7,
             "#b8e186"
            ],
            [
             0.8,
             "#7fbc41"
            ],
            [
             0.9,
             "#4d9221"
            ],
            [
             1,
             "#276419"
            ]
           ],
           "sequential": [
            [
             0,
             "#0d0887"
            ],
            [
             0.1111111111111111,
             "#46039f"
            ],
            [
             0.2222222222222222,
             "#7201a8"
            ],
            [
             0.3333333333333333,
             "#9c179e"
            ],
            [
             0.4444444444444444,
             "#bd3786"
            ],
            [
             0.5555555555555556,
             "#d8576b"
            ],
            [
             0.6666666666666666,
             "#ed7953"
            ],
            [
             0.7777777777777778,
             "#fb9f3a"
            ],
            [
             0.8888888888888888,
             "#fdca26"
            ],
            [
             1,
             "#f0f921"
            ]
           ],
           "sequentialminus": [
            [
             0,
             "#0d0887"
            ],
            [
             0.1111111111111111,
             "#46039f"
            ],
            [
             0.2222222222222222,
             "#7201a8"
            ],
            [
             0.3333333333333333,
             "#9c179e"
            ],
            [
             0.4444444444444444,
             "#bd3786"
            ],
            [
             0.5555555555555556,
             "#d8576b"
            ],
            [
             0.6666666666666666,
             "#ed7953"
            ],
            [
             0.7777777777777778,
             "#fb9f3a"
            ],
            [
             0.8888888888888888,
             "#fdca26"
            ],
            [
             1,
             "#f0f921"
            ]
           ]
          },
          "colorway": [
           "#636efa",
           "#EF553B",
           "#00cc96",
           "#ab63fa",
           "#FFA15A",
           "#19d3f3",
           "#FF6692",
           "#B6E880",
           "#FF97FF",
           "#FECB52"
          ],
          "font": {
           "color": "#2a3f5f"
          },
          "geo": {
           "bgcolor": "white",
           "lakecolor": "white",
           "landcolor": "white",
           "showlakes": true,
           "showland": true,
           "subunitcolor": "#C8D4E3"
          },
          "hoverlabel": {
           "align": "left"
          },
          "hovermode": "closest",
          "mapbox": {
           "style": "light"
          },
          "paper_bgcolor": "white",
          "plot_bgcolor": "white",
          "polar": {
           "angularaxis": {
            "gridcolor": "#EBF0F8",
            "linecolor": "#EBF0F8",
            "ticks": ""
           },
           "bgcolor": "white",
           "radialaxis": {
            "gridcolor": "#EBF0F8",
            "linecolor": "#EBF0F8",
            "ticks": ""
           }
          },
          "scene": {
           "xaxis": {
            "backgroundcolor": "white",
            "gridcolor": "#DFE8F3",
            "gridwidth": 2,
            "linecolor": "#EBF0F8",
            "showbackground": true,
            "ticks": "",
            "zerolinecolor": "#EBF0F8"
           },
           "yaxis": {
            "backgroundcolor": "white",
            "gridcolor": "#DFE8F3",
            "gridwidth": 2,
            "linecolor": "#EBF0F8",
            "showbackground": true,
            "ticks": "",
            "zerolinecolor": "#EBF0F8"
           },
           "zaxis": {
            "backgroundcolor": "white",
            "gridcolor": "#DFE8F3",
            "gridwidth": 2,
            "linecolor": "#EBF0F8",
            "showbackground": true,
            "ticks": "",
            "zerolinecolor": "#EBF0F8"
           }
          },
          "shapedefaults": {
           "line": {
            "color": "#2a3f5f"
           }
          },
          "ternary": {
           "aaxis": {
            "gridcolor": "#DFE8F3",
            "linecolor": "#A2B1C6",
            "ticks": ""
           },
           "baxis": {
            "gridcolor": "#DFE8F3",
            "linecolor": "#A2B1C6",
            "ticks": ""
           },
           "bgcolor": "white",
           "caxis": {
            "gridcolor": "#DFE8F3",
            "linecolor": "#A2B1C6",
            "ticks": ""
           }
          },
          "title": {
           "x": 0.05
          },
          "xaxis": {
           "automargin": true,
           "gridcolor": "#EBF0F8",
           "linecolor": "#EBF0F8",
           "ticks": "",
           "title": {
            "standoff": 15
           },
           "zerolinecolor": "#EBF0F8",
           "zerolinewidth": 2
          },
          "yaxis": {
           "automargin": true,
           "gridcolor": "#EBF0F8",
           "linecolor": "#EBF0F8",
           "ticks": "",
           "title": {
            "standoff": 15
           },
           "zerolinecolor": "#EBF0F8",
           "zerolinewidth": 2
          }
         }
        },
        "title": {
         "text": "sustavianfeed dataset"
        },
        "width": 25000,
        "xaxis": {
         "tickangle": -45,
         "title": {
          "text": ""
         }
        },
        "yaxis": {
         "range": [
          0,
          null
         ],
         "title": {
          "text": "Test RMSE"
         }
        }
       }
      }
     },
     "metadata": {},
     "output_type": "display_data"
    }
   ],
   "source": [
    "rmse_by_config = defaultdict(list)\n",
    "\n",
    "for split in results:\n",
    "    rmse_train = []\n",
    "    rmse_test = []\n",
    "    \n",
    "    for result in split:\n",
    "        key = ''\n",
    "        for k, v in result['dynamic_params'].items():\n",
    "            key += k+': '+str(v)+' <br /> '\n",
    "        rmse_by_config[key].append(result['rmse_test'])\n",
    "\n",
    "fig = go.Figure()\n",
    "for config, rmse_values in rmse_by_config.items():\n",
    "    fig.add_trace(go.Box(\n",
    "        y=rmse_values,\n",
    "        boxpoints='all',\n",
    "        jitter=0.5,\n",
    "        pointpos=0,\n",
    "        line=dict(color='orange'),\n",
    "        name=config\n",
    "    ))\n",
    "\n",
    "fig.update_layout(\n",
    "    title= solver_params['dataset_name'] +' dataset',\n",
    "    xaxis_title='',\n",
    "    yaxis_title='Test RMSE',\n",
    "    height=500, width=25000,\n",
    "    xaxis_tickangle=-45,\n",
    "    yaxis_range=[0,None],\n",
    "    margin=dict(l=50, r=50, t=50, b=20),\n",
    "    showlegend=False,\n",
    "    template='plotly_white'\n",
    ")\n",
    "\n",
    "fig.show()"
   ]
  },
  {
   "cell_type": "markdown",
   "metadata": {},
   "source": [
    "### Program Size"
   ]
  },
  {
   "cell_type": "code",
   "execution_count": null,
   "metadata": {},
   "outputs": [
    {
     "data": {
      "application/vnd.plotly.v1+json": {
       "config": {
        "plotlyServerURL": "https://plot.ly"
       },
       "data": [
        {
         "line": {
          "color": "blue"
         },
         "mode": "lines",
         "name": "Size",
         "showlegend": true,
         "type": "scatter",
         "x": {
          "bdata": "AAABAAIAAwAEAAUABgAHAAgACQAKAAsADAANAA4ADwAQABEAEgATABQAFQAWABcAGAAZABoAGwAcAB0AHgAfACAAIQAiACMAJAAlACYAJwAoACkAKgArACwALQAuAC8AMAAxADIAMwA0ADUANgA3ADgAOQA6ADsAPAA9AD4APwBAAEEAQgBDAEQARQBGAEcASABJAEoASwBMAE0ATgBPAFAAUQBSAFMAVABVAFYAVwBYAFkAWgBbAFwAXQBeAF8AYABhAGIAYwBkAGUAZgBnAGgAaQBqAGsAbABtAG4AbwBwAHEAcgBzAHQAdQB2AHcAeAB5AHoAewB8AH0AfgB/AIAAgQCCAIMAhACFAIYAhwCIAIkAigCLAIwAjQCOAI8AkACRAJIAkwCUAJUAlgA=",
          "dtype": "i2"
         },
         "xaxis": "x",
         "y": {
          "bdata": "zczMzMzMFkCamZmZmRktQDMzMzMz2zdAmpmZmZl1QEAAAAAAADRFQJqZmZmZqUpAAAAAAADUTkAzMzMzM8VRQM3MzMzMPlRAAAAAAABgVkDNzMzMzCJZQAAAAAAA9lpAZmZmZmaKXEDNzMzMzCZeQDMzMzMzW19AZmZmZmbCX0DNzMzMzAxgQJqZmZmZKmBAZmZmZmZMYEBmZmZmZmFgQJqZmZmZf2BAzczMzMxwYECamZmZmXRgQJqZmZmZjWBAZmZmZmaOYEDNzMzMzI5gQDMzMzMzl2BAAAAAAACQYECamZmZmY9gQM3MzMzMmWBAZmZmZmaSYECamZmZmZZgQJqZmZmZmGBAZmZmZmaXYEBmZmZmZpdgQDMzMzMzmWBAAAAAAACaYEAzMzMzM5tgQM3MzMzMmmBAAAAAAACcYEDNzMzMzJ9gQM3MzMzMn2BAZmZmZmahYEAzMzMzM6JgQJqZmZmZomBAZmZmZmakYEAzMzMzM6FgQM3MzMzMoGBAzczMzMyjYEAAAAAAAKdgQGZmZmZmpWBAzczMzMyhYEAAAAAAAKVgQGZmZmZmpWBAMzMzMzOiYEAzMzMzM6ZgQGZmZmZmpWBAzczMzMylYECamZmZmaRgQM3MzMzMpWBAzczMzMynYEAzMzMzM6hgQM3MzMzMp2BAzczMzMypYEAzMzMzM6pgQAAAAAAAq2BAzczMzMyrYEAzMzMzM69gQJqZmZmZr2BAzczMzMysYEAAAAAAAK5gQM3MzMzMrGBAzczMzMytYEAzMzMzM65gQDMzMzMzsGBAzczMzMyvYEAAAAAAAK9gQJqZmZmZsWBAmpmZmZmvYEAzMzMzM69gQDMzMzMzr2BAAAAAAACwYEBmZmZmZrBgQGZmZmZmsGBAAAAAAACyYEDNzMzMzLJgQM3MzMzMsmBAAAAAAACzYEAzMzMzM7JgQM3MzMzMsWBAmpmZmZmwYEBmZmZmZrFgQJqZmZmZsGBAZmZmZmaxYEAzMzMzM7JgQAAAAAAAs2BAZmZmZmazYECamZmZmbRgQJqZmZmZtGBAZmZmZma1YEBmZmZmZrNgQGZmZmZms2BAmpmZmZm1YEAzMzMzM7VgQM3MzMzMtmBAMzMzMzO3YEDNzMzMzLZgQJqZmZmZtWBAMzMzMzO3YEAzMzMzM7dgQAAAAAAAuWBAMzMzMzO4YEDNzMzMzLdgQAAAAAAAt2BAmpmZmZm4YECamZmZmbhgQM3MzMzMumBAZmZmZma9YEAzMzMzM75gQGZmZmZmv2BAAAAAAAC/YEDNzMzMzMBgQJqZmZmZwWBAmpmZmZnDYEDNzMzMzMRgQAAAAAAAxmBAMzMzMzPFYEDNzMzMzMRgQGZmZmZmxGBAmpmZmZnFYEBmZmZmZsRgQDMzMzMzw2BAmpmZmZnDYEAzMzMzM8NgQAAAAAAAxGBAmpmZmZnDYECamZmZmcVgQAAAAAAAxmBAMzMzMzPFYEDNzMzMzMdgQJqZmZmZyGBAZmZmZmbJYEAAAAAAAMlgQAAAAAAAyWBAZmZmZmbJYECamZmZmcpgQDMzMzMzymBAmpmZmZnKYECamZmZmcpgQGZmZmZmyWBAMzMzMzPKYEA=",
          "dtype": "f8"
         },
         "yaxis": "y"
        },
        {
         "line": {
          "width": 0
         },
         "mode": "lines",
         "name": "+1 std Train",
         "showlegend": false,
         "type": "scatter",
         "x": {
          "bdata": "AAABAAIAAwAEAAUABgAHAAgACQAKAAsADAANAA4ADwAQABEAEgATABQAFQAWABcAGAAZABoAGwAcAB0AHgAfACAAIQAiACMAJAAlACYAJwAoACkAKgArACwALQAuAC8AMAAxADIAMwA0ADUANgA3ADgAOQA6ADsAPAA9AD4APwBAAEEAQgBDAEQARQBGAEcASABJAEoASwBMAE0ATgBPAFAAUQBSAFMAVABVAFYAVwBYAFkAWgBbAFwAXQBeAF8AYABhAGIAYwBkAGUAZgBnAGgAaQBqAGsAbABtAG4AbwBwAHEAcgBzAHQAdQB2AHcAeAB5AHoAewB8AH0AfgB/AIAAgQCCAIMAhACFAIYAhwCIAIkAigCLAIwAjQCOAI8AkACRAJIAkwCUAJUAlgA=",
          "dtype": "i2"
         },
         "xaxis": "x",
         "y": {
          "bdata": "xi1k1tPXI0AKw8Bq3oA1QFvnHegG6T5AaKIQTOj6REBMgIt3vElKQAT8IYrvJ1BAFegOv2qMUkAr04IVtSFVQBXO/TlqzVdA/Q2K3MSLWkBM3UxaPJtdQKcNqrL9sF9ANfPsj8hWYEBNEVFQpLxgQEaRYwZ8M2FAOIZxT6E/YUAwgO/tYlBhQPMSsj8zbWFA0b+26KFzYUCSt0BJW3JhQJRQVZlihGFAHsIdoTuAYUCAFdcRWYFhQOs5kHINlWFA+RdyncGUYUDE+qpca5JhQFKY3cE/l2FA0VVF2U2SYUA3YPusx5RhQDJBHBenmGFA0qwgGDSRYUCyd4hSqpZhQKrT3ahVn2FA4v0KFNSVYUC8uXxFhpVhQPG/wNf/l2FA04qt6myZYUBghTpxJZphQMrZURPMmmFArpR71AScYUBA2ABSXJ1hQEUWOUHRnWFAEKnTuLefYUDrHB6QyZxhQCrE1X+Im2FAbrMUCtmiYUAYGElB+Z5hQBN/uapanWFAISdE50OeYUAIAH1r9KNhQP1rKs89omFAdVHbe2mbYUDnuFtYa6BhQPkqd1TIoWFALzt/dxSlYUAbSjgTW6VhQJ40XnLgpGFAFuyqCvmlYUBH6sJesqRhQENgPKJ5pmFAC4qj9WuqYUC6pdiTp6thQNp8xqG2q2FADchaSj2uYUC54a9uu61hQBuirM4mrmFA9TfgZpGuYUCCmdgav7JhQPRR8NTfsmFApG3V5G6tYUClvJ8HkrBhQEwNxZZIr2FAWyse1I2pYUBHpEk0V6phQOaasnNsrGFA69YP+VqsYUD+D6w2RKxhQLpbKBZfr2FAiZ0p0D+tYUCxtDup+axhQBzUgYZhrWFA1hY9xqWvYUD3j0yDhrBhQAr99vkTsWFAFs7sPXiyYUDSvqS0w7RhQPWp7sFDtGFATlgpV262YUDCdRzspLRhQMvWnwDGs2FACPUkp8yzYUBcqqQYsrRhQMmW/2insmFAP4x2RbOzYUDVU2dmi7RhQC684FlWtGFAW2aFTei0YUDzwH5NULZhQG4a+AadtmFAVPcHan64YUB3VGlqAbZhQHdUaWoBtmFAbuV6dbC1YUDAjCUunrRhQCg38qGWt2FARCnaGnS4YUAnHE+RcLhhQNLYvTELt2FAacQfHWa6YUB2a8upJLthQNaaLJvcvmFA0SgKl9e9YUBIkvQiCb1hQEnbnCbTumFAaBJ0hNK8YUCOryKJSLthQOoYQ8rTuGFAa+oLa5K3YUBjaMS6lbhhQOQ6v9JAumFAx9IWSlC6YUDsXMOd4LhhQOB3gU5PuWFA8Kz2Wnu8YUAPe/Awir5hQHOJPqGxvWFAkbieBom9YUAdicUjCr1hQA5tDWzWvWFArOopEyu/YUAMb1GUbL1hQNiBvunkumFA4o+buMW9YUD7o4Pmbb1hQCqwR1BXvWFAJQelix68YUCs6ikTK79hQL/pOp46wGFAuvWAR7S/YUAEQRayYMJhQOXmJxFBw2FAKyfgg8vEYUBj6q3R3sRhQGPqrdHexGFApokaHKrFYUArw+gN0cZhQP2DkclZx2FAxWPiFUvIYUAXrFucRsdhQIwsrLAsxmFAHoim5KfHYUA=",
          "dtype": "f8"
         },
         "yaxis": "y"
        },
        {
         "fill": "tonexty",
         "fillcolor": "rgba(0,0,255,0.1)",
         "line": {
          "width": 0
         },
         "mode": "lines",
         "name": "-1 std Train",
         "showlegend": false,
         "type": "scatter",
         "x": {
          "bdata": "AAABAAIAAwAEAAUABgAHAAgACQAKAAsADAANAA4ADwAQABEAEgATABQAFQAWABcAGAAZABoAGwAcAB0AHgAfACAAIQAiACMAJAAlACYAJwAoACkAKgArACwALQAuAC8AMAAxADIAMwA0ADUANgA3ADgAOQA6ADsAPAA9AD4APwBAAEEAQgBDAEQARQBGAEcASABJAEoASwBMAE0ATgBPAFAAUQBSAFMAVABVAFYAVwBYAFkAWgBbAFwAXQBeAF8AYABhAGIAYwBkAGUAZgBnAGgAaQBqAGsAbABtAG4AbwBwAHEAcgBzAHQAdQB2AHcAeAB5AHoAewB8AH0AfgB/AIAAgQCCAIMAhACFAIYAhwCIAIkAigCLAIwAjQCOAI8AkACRAJIAkwCUAJUAlgA=",
          "dtype": "i2"
         },
         "xaxis": "x",
         "y": {
          "bdata": "NPhEs8en9z8/WmO77GIeQAt/SH5fzTBAlyFFzpXgN0C0f3SIQx5AQCs77x5UA0VA1i/igSqPSEB2JsehYtFMQIXLm18vsFBAA/J1Izs0UkBOvEw/XapUQFnyVU0CO1ZAYubyrDtnWEABd/f4UNRaQNpDn1luT1xAXMDpLYoFXUDVMlRXbZJdQINAAuf/z11A9hksyFVKXkB1KhgH46BeQEDFuzOh9V5A+K738LvCXkBnO7hCtM9eQJLyRYFLDF9Apmm1XhYQX0CsPd15XBZfQCicEUlNLl9AXlR1TWQbX0D6pW8M1xRfQNGw+gTlNV9A9D9YaTEnX0AEd1XBES1fQBS/qhS7I19A1J2DcfExX0AfJqAOjTJfQOpMSx3NNF9AWeqkKiY1X0ANwlfqgThfQKF/jwybNV9Ao9YIV/Y3X0CzgjGPekRfQKkGwbCQQ19AeEfyJypGX0D2kpCsOU9fQBXeumZVU19AvTJwhedLX0CcnDpK2kZfQA41wN19SF9A8eSqZKtSX0Dx/wUpF1RfQJ7BRPsdUV9ASpB8O2BQX0AzjkhPKVNfQKZDq/AIUl9Ab1bO3aM+X0CWOFymFk5fQFww3bTYS19ACVvdHUFLX0DakeCoAUlfQK5yuu4/Sl9AHh/sR1tKX0BYgRulfUlfQH85pu/FR19AGqN9nrhKX0BaCW3vVU1fQMq7pmKyT19ASsNyZRBSX0DImRuXTldfQIDChbymWF9A7FeIaVVYX0C1hsDw21ZfQJwYqQWiVF9Af9z2ihdkX0A+hDlkHmRfQACXZ+XzZ19AXYUTQX1mX0AE4KeSd2NfQPSuFTqoZ19AVSsTxuZjX0BpY1V62WJfQJMkyb8JYl9AVdKFc7RgX0CpeQCTjGBfQISfq6VxX19A1GMmhA9jX0CQtenJq2FfQErfVa+rYl9AZE+tUSNfX0BI4ZP0gl9fQJ6F8zGnX19AV3wcGM1aX0DgRFBoNVxfQNU4Z5QXXV9AGoGsDjNeX0AhJf7/tV9fQKWHPkxTY19A48yO/shjX0CC5GjLxWVfQI0xdlgsZV9A8KqJxZxkX0Cr8MbElmFfQKvwxsSWYV9AjJtwewVrX0BMs4FwkGtfQOTETu8FbF9ARHoYl+RrX0Dl+pQQUmpfQMS06gJQaF9A+kONkgBoX0Dh9TV5g2ZfQFXKpslGZl9AK3u4nh1lX0CkDkrtIGVfQG5JxrJZZl9AmUF+XcFoX0BMByFU1WtfQGABrZ6LeV9AwsSBw3SGX0AF/ENXoYdfQNAjG/QXiV9AclrSa1+HX0Bdeaz3cZFfQKh2Y8nHk19AiQx5sG+VX0AXPVLRHpZfQBvtgr2cnF9Aq1uPv7qZX0D6IKjrHplfQHy/fsHslV9AD5ESQBCYX0CAu/ZwwJZfQBvJT/kCl19Ao0Yv9dqSX0DWhMX/8JFfQK2fcF9RlV9AH1gcTymWX0APkRJAEJhfQIIsisOKl19AWeHKPWSVX0AssQbPcZpfQJ6YFkTkm19AQkvZkQKcX0A5K6RcQppfQDkrpFxCml9ATYZkYUWaX0AR4JRKxJxfQNHEqTkZml9A3Z6hOtCZX0A6Dq8t2ZtfQH9AQThAmV9AkLx/A32ZX0A=",
          "dtype": "f8"
         },
         "yaxis": "y"
        },
        {
         "line": {
          "color": "blue"
         },
         "mode": "lines",
         "name": "Size",
         "showlegend": false,
         "type": "scatter",
         "x": {
          "bdata": "AAABAAIAAwAEAAUABgAHAAgACQAKAAsADAANAA4ADwAQABEAEgATABQAFQAWABcAGAAZABoAGwAcAB0AHgAfACAAIQAiACMAJAAlACYAJwAoACkAKgArACwALQAuAC8AMAAxADIAMwA0ADUANgA3ADgAOQA6ADsAPAA9AD4APwBAAEEAQgBDAEQARQBGAEcASABJAEoASwBMAE0ATgBPAFAAUQBSAFMAVABVAFYAVwBYAFkAWgBbAFwAXQBeAF8AYABhAGIAYwBkAGUAZgBnAGgAaQBqAGsAbABtAG4AbwBwAHEAcgBzAHQAdQB2AHcAeAB5AHoAewB8AH0AfgB/AIAAgQCCAIMAhACFAIYAhwCIAIkAigCLAIwAjQCOAI8AkACRAJIAkwCUAJUAlgA=",
          "dtype": "i2"
         },
         "xaxis": "x2",
         "y": {
          "bdata": "zczMzMzMFkCamZmZmVkvQJqZmZmZwThAZmZmZmYiQUDNzMzMzJRFQM3MzMzM6EtAAAAAAAB0UEBmZmZmZjZTQJqZmZmZk1VAAAAAAAD4V0BmZmZmZl5aQDMzMzMzp1tAAAAAAAB2XEAAAAAAANZcQDMzMzMzC11AZmZmZmYoXUAzMzMzM0FdQM3MzMzMUF1AZmZmZmZaXUAAAAAAAFBdQGZmZmZmWl1AzczMzMxkXUBmZmZmZmBdQJqZmZmZaV1AmpmZmZllXUBmZmZmZl5dQM3MzMzMYF1AZmZmZmZqXUAzMzMzM2tdQAAAAAAAbF1AMzMzMzNrXUAzMzMzM29dQGZmZmZmal1AmpmZmZltXUAzMzMzM29dQGZmZmZmcF1AMzMzMzNtXUDNzMzMzGpdQM3MzMzMbl1AmpmZmZlrXUDNzMzMzGpdQGZmZmZmaF1AZmZmZmZoXUAAAAAAAGZdQM3MzMzMdl1AZmZmZmZ2XUAAAAAAAH5dQAAAAAAAfl1AzczMzMyCXUAAAAAAAIJdQGZmZmZmhF1AmpmZmZmHXUAzMzMzM4VdQM3MzMzMgl1AzczMzMyCXUBmZmZmZoRdQDMzMzMzgV1AAAAAAACGXUAAAAAAAIZdQJqZmZmZh11AZmZmZmaOXUDNzMzMzIxdQDMzMzMzi11AAAAAAACMXUAAAAAAAIxdQGZmZmZmkF1AmpmZmZmPXUDNzMzMzI5dQM3MzMzMjl1AmpmZmZmTXUBmZmZmZpRdQGZmZmZmlF1AmpmZmZmTXUCamZmZmZNdQAAAAAAAjl1AZmZmZmaQXUAAAAAAAJJdQM3MzMzMkl1AZmZmZmaUXUCamZmZmZddQJqZmZmZk11AmpmZmZmTXUDNzMzMzJZdQJqZmZmZl11AAAAAAACaXUBmZmZmZphdQGZmZmZmmF1AMzMzMzOVXUAAAAAAAJZdQDMzMzMzlV1AMzMzMzOVXUAzMzMzM5VdQDMzMzMzlV1AMzMzMzORXUDNzMzMzI5dQJqZmZmZj11AMzMzMzORXUAzMzMzM5FdQDMzMzMzkV1AAAAAAACOXUBmZmZmZpBdQJqZmZmZj11AMzMzMzONXUAAAAAAAI5dQGZmZmZmkF1AZmZmZmaQXUCamZmZmY9dQM3MzMzMkl1AmpmZmZmTXUBmZmZmZpRdQDMzMzMzlV1AZmZmZmaaXUBmZmZmZppdQGZmZmZmnl1AZmZmZmaeXUAAAAAAAKBdQAAAAAAAoF1AzczMzMygXUCamZmZmaFdQM3MzMzMoF1AmpmZmZmhXUDNzMzMzKRdQJqZmZmZpV1AZmZmZmaiXUBmZmZmZqJdQAAAAAAApF1AzczMzMymXUAAAAAAAKZdQJqZmZmZp11AMzMzMzOpXUDNzMzMzKZdQM3MzMzMpl1AzczMzMymXUBmZmZmZqhdQDMzMzMzqV1AzczMzMyqXUAzMzMzM6ldQGZmZmZmqF1AzczMzMymXUDNzMzMzKZdQM3MzMzMpl1AZmZmZmakXUCamZmZmaldQAAAAAAAqF1AMzMzMzOnXUBmZmZmZqZdQJqZmZmZpV1AZmZmZmamXUAAAAAAAKhdQM3MzMzMqF1AmpmZmZmpXUA=",
          "dtype": "f8"
         },
         "yaxis": "y2"
        },
        {
         "line": {
          "width": 0
         },
         "mode": "lines",
         "name": "+1 std Train",
         "showlegend": false,
         "type": "scatter",
         "x": {
          "bdata": "AAABAAIAAwAEAAUABgAHAAgACQAKAAsADAANAA4ADwAQABEAEgATABQAFQAWABcAGAAZABoAGwAcAB0AHgAfACAAIQAiACMAJAAlACYAJwAoACkAKgArACwALQAuAC8AMAAxADIAMwA0ADUANgA3ADgAOQA6ADsAPAA9AD4APwBAAEEAQgBDAEQARQBGAEcASABJAEoASwBMAE0ATgBPAFAAUQBSAFMAVABVAFYAVwBYAFkAWgBbAFwAXQBeAF8AYABhAGIAYwBkAGUAZgBnAGgAaQBqAGsAbABtAG4AbwBwAHEAcgBzAHQAdQB2AHcAeAB5AHoAewB8AH0AfgB/AIAAgQCCAIMAhACFAIYAhwCIAIkAigCLAIwAjQCOAI8AkACRAJIAkwCUAJUAlgA=",
          "dtype": "i2"
         },
         "xaxis": "x2",
         "y": {
          "bdata": "xi1k1tPXI0D3bn2FCbI1QHtt6IJ4fD9Avns9E4fARUAnysSIk85KQNQPAyxsoVBAf0RAIWwxU0AC85nqAjNWQJ9e1sUy6FhAeluN7YuKW0BwWcjU9+ldQJMSEYPshl5AlO53rjcMX0AeZYRlOCBfQDBdfswBL19ARIYugTceX0DU1+o2nhtfQGwOPlEsIl9ALsEKHAguX0D6ZHJBry9fQJ6gG4AZKF9AOfrD2zstX0BFz2FakzJfQEnGvlI4NV9AgPP093EwX0CuUka8QCRfQFM5IoYBJV9A23q9jo0xX0D697F3cjZfQL9V92tIN19AaKk3s1k4X0AB33W/njtfQJkHYd+4NV9Ae9tVmGM4X0CxvEx7RjpfQN4SKbylOl9AE3A2dzYxX0DV7ZLmPy5fQHBzQy6KOF9AJAVeCQU5X0AIf1oR9DZfQI536THiNF9AhRMBW2oyX0BYB+MgljRfQP64ax/FOl9AAEa07a8yX0C9gisWZzVfQEVRPE3+M19AwZM3yJlAX0AigVmBwz5fQA49QAXBP19AUEFxcJtDX0BO0V3zPUFfQLBVzN1TP19AinJz4wA9X0Bu/PV0JUFfQCqy/S/+O19AHlGZurc9X0A+eRauET5fQP/ZoMJHQV9AEkReY2tGX0AC+1F0GkVfQFb/fcAhRF9A6Dh58SRFX0CcAY9ocURfQDq/sV+8Rl9AfWOAkyNHX0ASvi8IuURfQMq9+bFNR19A/A7/M+pLX0BnkdbR2E1fQPiUe2glTV9AeRxEyp1MX0B+q6P1YUxfQEXRwJbTQV9ADnh/ATJDX0AI3VDIJkZfQHybS+PqRl9AHjvqqoFLX0AJM8GrXk1fQGRm3KncSF9Azno6V9ZEX0ArpjZnfkVfQFOjcNQCRl9AwFIJv19LX0Air/xq6khfQCKv/GrqSF9AdyjErPRGX0Bm9ZpfekdfQGNboRMNRV9A6QndJEpFX0DpCd0kSkVfQItddy3ERV9A8WMybY5EX0BEAGnglUBfQGUw0Y1gRV9APRIChNtHX0AGth5urkZfQAa2Hm6uRl9AKzfIk0xCX0BRKbzyQ0ZfQAUZt61+RV9AwtKsmyxDX0DB5EtvxUJfQDC7jmwkRF9AMLuObCREX0DsbfBj80FfQKii1HfqSl9AZED0Rq5LX0DjpPq1cUxfQDV6eozqS19AH77JzBVNX0AfvsnMFU1fQOFbHH00Tl9Aid/vm+tOX0Dfn3Y42k5fQN+fdjjaTl9AsKTsdzFNX0AjZVfdK05fQLCk7HcxTV9AX40t+HRJX0DipZ5aHk1fQKPgsRXZTV9AAeIrU3ZNX0AB4itTdk1fQG14jmw0Tl9AVWkJoqFNX0A0ceTg/01fQCXLCInoUF9AFq2R9BRTX0CPVOWb6FBfQI9U5ZvoUF9AGOu1xHtOX0DDnymHqVBfQH71e62gUV9A7cZ9exFTX0DtQN+BYlFfQKp8TNbuT19A6xBz0sBNX0DGr/sCRE1fQDK5SwmOS19AQnueMnJLX0CMUFfh8UdfQMrWe/2BRV9AgZibSElEX0B7r+t0D0RfQCnkMQfVQ19ALnZlmM5EX0B2uxA0IkNfQLGUlFJaQ19AiX5ocBJEX0A=",
          "dtype": "f8"
         },
         "yaxis": "y2"
        },
        {
         "fill": "tonexty",
         "fillcolor": "rgba(0,0,255,0.1)",
         "line": {
          "width": 0
         },
         "mode": "lines",
         "name": "-1 std Train",
         "showlegend": false,
         "type": "scatter",
         "x": {
          "bdata": "AAABAAIAAwAEAAUABgAHAAgACQAKAAsADAANAA4ADwAQABEAEgATABQAFQAWABcAGAAZABoAGwAcAB0AHgAfACAAIQAiACMAJAAlACYAJwAoACkAKgArACwALQAuAC8AMAAxADIAMwA0ADUANgA3ADgAOQA6ADsAPAA9AD4APwBAAEEAQgBDAEQARQBGAEcASABJAEoASwBMAE0ATgBPAFAAUQBSAFMAVABVAFYAVwBYAFkAWgBbAFwAXQBeAF8AYABhAGIAYwBkAGUAZgBnAGgAaQBqAGsAbABtAG4AbwBwAHEAcgBzAHQAdQB2AHcAeAB5AHoAewB8AH0AfgB/AIAAgQCCAIMAhACFAIYAhwCIAIkAigCLAIwAjQCOAI8AkACRAJIAkwCUAJUAlgA=",
          "dtype": "i2"
         },
         "xaxis": "x2",
         "y": {
          "bdata": "NPhEs8en9z9GVTgoIE8jQLnFSrC6BjJAHKIec4sIOUBzz9QQBltAQPJ5k0HBjkZAAnd/vSdtS0DK2TLiyTlQQJXUXG0AP1JAhqRyEnRlVEBccwT41NJWQNNTVeN5x1hAbBGIUcjfWUDimnuax4taQDYJ6Jlk51pAiEaeS5UyW0CSjnsvyGZbQC6LW0htf1tAngvCsMSGW0AGm42+UHBbQC4ssUyzjFtAYZ/VvV2cW0CH/WpyOY5bQOtsdOD6nVtAtD8+O8GaW0AeeoYQjJhbQEdgdxOYnFtA8VEPPj+jW0BsbrTu859bQEGqCJS3oFtA/rwuswyeW0Blh/Cmx6JbQDPFa+0Tn1tAuVfdms+iW0C1qRnrH6RbQO65oxAnpltAU/Yv7y+pW0DFqwazWadbQComVmsPpVtAEC7VKS6eW0CSGj+IpZ5bQD5V45rqm1tAR7nLcWKeW0Co+BzfaZdbQJzgLXrUsltAzIYY3xy6W0BDfdTpmMZbQLuuw7IByFtA2QVi0f/EW0DefqZ+PMVbQL6PjMcLyVtA5PHBwpfLW0AYlQhzKMlbQOpDzbtFxltAECcmtpjIW0Be0NZXp8dbQDy0aDZoxltA4q5mRUjOW0DChulR7s1bQDVZknDrzVtAuohuaWHWW0CYnkclf9RbQBBn6KVE0ltAGMeGDtvSW0Bk/nCXjtNbQJING20Q2ltAt8+ynw/YW0CI22mR4NhbQNDbn+dL1ltAOCQ0/0jbW0BlO/b689pbQNQ3UWSn21tAuxbvaJXaW0C2h4890dpbQLsuP2ks2ltAvlRNy5rdW0D4Iq832d1bQB7+Tbau3ltArpHiIUvdW0ArAHKH1OFbQNDMVolW3ltAZrj421ziW0Bv82IyG+hbQOGPwl4w6VtAQK32QKDoW0CqHdBh4udbQKod0GHi51tA7z2iuXHjW0CaCmWgheRbQAMLxVJZ5VtAfVyJQRzlW0B9XIlBHOVbQNsI7zii5FtAdQI0+dfdW0BWmTC5A91bQM8CYqXS2VtAKVRk4oraW0BgsEf4t9tbQGCwR/i321tA1cg3bLPZW0B7oxDaiNpbQC8afIW02VtApJO5yjnXW0A/G7SQOtlbQJwRPmCo3FtAnBE+YKjcW0BIxULPP91bQPL2xCGv2ltA0PI+7ITbW0DpJ9IWW9xbQDHs69l73ltArQ4DALfnW0CtDgMAt+dbQOtwsE+Y7ltAQ+3cMOHtW0AhYInHJfFbQCFgiccl8VtA6vSsIWj0W0ARzttVB/VbQOr0rCFo9FtA1aUFO775W0C48/o+e/xbQJFSgR1a/VtAy+qgeVb3W0DL6qB5VvdbQJOHcZPL+VtARTCQ9/f/W0DMjhsfAP5bQA9oKqpK/ltAULnUcVH/W0ALRbT9sPxbQAtFtP2w/FtAgq7j1B3/W0AJLaNFIwBcQOhw6rjFAFxArdIbHogCXEB5JYfkAwFcQCJQgPbdAFxAr4gmx9j/W0DU6Z2WVQBcQGjgTZALAlxAilEumlr9W0Co4ttRQQtcQDYphAJ+ClxA5c3KHR0KXEBRHeFXvQhcQAtPASxeB1xAnlZnNP4HXECKRO/L3QxcQOkEBUc/DlxAq7TKwiAPXEA=",
          "dtype": "f8"
         },
         "yaxis": "y2"
        },
        {
         "line": {
          "color": "blue"
         },
         "mode": "lines",
         "name": "Size",
         "showlegend": false,
         "type": "scatter",
         "x": {
          "bdata": "AAABAAIAAwAEAAUABgAHAAgACQAKAAsADAANAA4ADwAQABEAEgATABQAFQAWABcAGAAZABoAGwAcAB0AHgAfACAAIQAiACMAJAAlACYAJwAoACkAKgArACwALQAuAC8AMAAxADIAMwA0ADUANgA3ADgAOQA6ADsAPAA9AD4APwBAAEEAQgBDAEQARQBGAEcASABJAEoASwBMAE0ATgBPAFAAUQBSAFMAVABVAFYAVwBYAFkAWgBbAFwAXQBeAF8AYABhAGIAYwBkAGUAZgBnAGgAaQBqAGsAbABtAG4AbwBwAHEAcgBzAHQAdQB2AHcAeAB5AHoAewB8AH0AfgB/AIAAgQCCAIMAhACFAIYAhwCIAIkAigCLAIwAjQCOAI8AkACRAJIAkwCUAJUAlgA=",
          "dtype": "i2"
         },
         "xaxis": "x3",
         "y": {
          "bdata": "zczMzMzMFkBmZmZmZmYrQM3MzMzMzDhAMzMzMzPXQUDNzMzMzIxHQAAAAAAAQE1AzczMzMyIUUAzMzMzM4FUQDMzMzMzL1dAmpmZmZk5WkAAAAAAAPRbQM3MzMzMKF1AzczMzMzaXUCamZmZmYNeQAAAAAAArF5AmpmZmZnNXkAAAAAAAAhfQJqZmZmZJV9AZmZmZmYsX0DNzMzMzEBfQM3MzMzMPl9AAAAAAABMX0AAAAAAAFJfQAAAAAAAVF9AmpmZmZlFX0CamZmZmV1fQJqZmZmZaV9AMzMzMzNrX0DNzMzMzGxfQDMzMzMzd19AAAAAAAB4X0BmZmZmZnpfQAAAAAAAeF9AAAAAAAB4X0DNzMzMzHhfQGZmZmZmgl9AmpmZmZl9X0CamZmZmX1fQGZmZmZmhl9AZmZmZmaGX0BmZmZmZoZfQJqZmZmZgV9AMzMzMzOJX0BmZmZmZohfQGZmZmZmiF9AMzMzMzOJX0BmZmZmZohfQAAAAAAAgl9AZmZmZmaEX0AzMzMzM4VfQDMzMzMzhV9AzczMzMyCX0BmZmZmZoRfQDMzMzMzgV9AAAAAAACCX0AzMzMzM31fQM3MzMzMfl9AZmZmZmaAX0AzMzMzM4FfQJqZmZmZg19AzczMzMyCX0CamZmZmYNfQJqZmZmZhV9AMzMzMzONX0AzMzMzM41fQGZmZmZmjF9AMzMzMzONX0BmZmZmZoxfQM3MzMzMil9AzczMzMyKX0CamZmZmYtfQGZmZmZmjF9AMzMzMzONX0BmZmZmZoxfQM3MzMzMjl9AmpmZmZmLX0DNzMzMzI5fQGZmZmZmkF9AzczMzMyOX0DNzMzMzJRfQAAAAAAAml9AzczMzMyWX0DNzMzMzJZfQJqZmZmZl19AZmZmZmaUX0BmZmZmZpRfQM3MzMzMll9AzczMzMyWX0AAAAAAAJZfQM3MzMzMll9AZmZmZmaUX0DNzMzMzJJfQJqZmZmZk19AMzMzMzOVX0AzMzMzM5VfQJqZmZmZl19AzczMzMyWX0AzMzMzM5VfQDMzMzMzlV9AAAAAAACaX0AAAAAAAJpfQJqZmZmZm19AmpmZmZmbX0CamZmZmZtfQJqZmZmZm19AMzMzMzOdX0CamZmZmZtfQJqZmZmZm19AmpmZmZmbX0BmZmZmZphfQM3MzMzMml9AmpmZmZmbX0DNzMzMzJpfQAAAAAAAml9AzczMzMyaX0CamZmZmZtfQM3MzMzMml9AZmZmZmaYX0DNzMzMzJZfQJqZmZmZl19AmpmZmZmXX0CamZmZmZdfQGZmZmZmmF9AzczMzMyWX0BmZmZmZppfQAAAAAAAnF9AzczMzMygX0AzMzMzM59fQJqZmZmZoV9AZmZmZmaeX0CamZmZmaFfQGZmZmZmol9AZmZmZmaiX0CamZmZmaFfQGZmZmZmnl9AzczMzMygX0DNzMzMzKBfQGZmZmZmol9AZmZmZmaiX0AAAAAAAKRfQGZmZmZmol9AAAAAAACkX0AAAAAAAKRfQAAAAAAApF9AmpmZmZmhX0DNzMzMzKRfQGZmZmZmpl9AAAAAAACoX0BmZmZmZqZfQM3MzMzMqF9AMzMzMzOrX0A=",
          "dtype": "f8"
         },
         "yaxis": "y3"
        },
        {
         "line": {
          "width": 0
         },
         "mode": "lines",
         "name": "+1 std Train",
         "showlegend": false,
         "type": "scatter",
         "x": {
          "bdata": "AAABAAIAAwAEAAUABgAHAAgACQAKAAsADAANAA4ADwAQABEAEgATABQAFQAWABcAGAAZABoAGwAcAB0AHgAfACAAIQAiACMAJAAlACYAJwAoACkAKgArACwALQAuAC8AMAAxADIAMwA0ADUANgA3ADgAOQA6ADsAPAA9AD4APwBAAEEAQgBDAEQARQBGAEcASABJAEoASwBMAE0ATgBPAFAAUQBSAFMAVABVAFYAVwBYAFkAWgBbAFwAXQBeAF8AYABhAGIAYwBkAGUAZgBnAGgAaQBqAGsAbABtAG4AbwBwAHEAcgBzAHQAdQB2AHcAeAB5AHoAewB8AH0AfgB/AIAAgQCCAIMAhACFAIYAhwCIAIkAigCLAIwAjQCOAI8AkACRAJIAkwCUAJUAlgA=",
          "dtype": "i2"
         },
         "xaxis": "x3",
         "y": {
          "bdata": "xi1k1tPXI0Av+K4ecJk1QB/l8xNyi0BAmau0BWivRkCGIWSBqclNQB73Ecie6VFAQufNzE5EVUBQgG8Oh91YQMqMS/m+wltAljvQMTHQXkDxlYw90MBfQJdwSjWnS2BAHQXya59mYECT9Llq82hgQE8dGGbefWBAP8M99qR6YEAeenls4nhgQDUa5FindWBAa1J0e99+YEB44u1ZwoJgQD3CD45ugGBAetHKrNx+YEBmiVnT0YBgQPpIrBP7gmBA+CA8xGB/YECa6wLdwYNgQCyfXcyfhGBAsTp6uWSGYEBS5hzs/4NgQPFukH/Gh2BAADDSEn2HYECQM4RcZIhgQPqbwJJYhmBAUtGg+DeGYECldWUbQ4dgQAaiXlbZhmBAPkY+vQ6EYEA+Rj69DoRgQPSSFqv+i2BAvxZvpaSKYEBgY5xtm4lgQIUS6UJMiWBAxAs2lfaKYEAQzdpK24lgQAkwl+q5iWBARBTjipyLYEDw359PxIpgQJY7Q0Xeh2BAjznINt2IYEDuyEpP74hgQGVH+fZSiWBALWM7M2WIYECJ4Yp0f4dgQOPWWuOlhWBADkTlmRyGYEDDyziqE4VgQHa0aF2HhmBAj2mkMgqIYEDQ/9rdPohgQMFfVV1nimBA6psDEzOKYEA0Usc7solgQPHSdeiRiWBAsAp7xmOKYEBe2B+5yIpgQHBKSz0zimBAMWw0A5KLYEBmKL2luYpgQM42JeJKiWBAHhDl7fKJYEAGDSErv4lgQLNMVWzKimBA931CW/aLYEAgPFFkxYtgQPgOnD6ljWBAoKAAOJ6MYED5Sf6SjY5gQI8NJ2lzj2BALYC0OL+OYEDnWcRX6I9gQKCmYXmUjmBAZGFMyPKMYEBSGcb8EI9gQFSklbA+j2BAnUw7GUaNYEDNQELjWIxgQLxOaKRxkGBAh3lz5EeNYEChWbRv1oxgQId5c+RHjWBACy4QCRSKYEDi0nkVBodgQJGrxRAzh2BA8fuYzE+JYEDy7Q+XColgQKRQQD/HimBA4f5izd+KYEBk1akIhopgQGTVqQiGimBAIp+Xdi2NYEAwmxW/2I1gQA33zTCnjWBAj0bmzYSNYECPRubNhI1gQN6a0mRijWBA3xtlcnONYEA8Xm4E+4xgQIbKBWyTjGBApWw9myuMYEB8q2UsboxgQPBcTsMEjmBAqtQAXNmQYEB9G32WzpBgQEqEJRHXj2BADV97jiWQYEDfeLUo+5BgQH5ttty/j2BAox/ZJQiOYEDVgR8GN4xgQDK36s0OjWBAu0yOWh+MYEAF8tihQYxgQLmv3hzmjWBA5HniWUaOYEBX2+6+gopgQLmxpGGGi2BARNnCK7uNYECs9TpzSY5gQH0l8EGWj2BAchphDduKYEB4hVjIl4xgQMqWnWkGjWBAch/KSeOMYEB4hVjIl4xgQDZUr3KKi2BAR3XGDZ2OYEDv+XAZSo9gQLABz1F6j2BAedZPOxKPYEDK2wC9QI9gQPwRPLfMjmBAehTjFdiOYECph64NNJBgQKmHrg00kGBAN2/OrXOPYEAkH1r/k5FgQH/MK+PkkWBAEm5lLwSTYEBCZXvL15NgQKpOK4cNlmBAB/miULOZYEA=",
          "dtype": "f8"
         },
         "yaxis": "y3"
        },
        {
         "fill": "tonexty",
         "fillcolor": "rgba(0,0,255,0.1)",
         "line": {
          "width": 0
         },
         "mode": "lines",
         "name": "-1 std Train",
         "showlegend": false,
         "type": "scatter",
         "x": {
          "bdata": "AAABAAIAAwAEAAUABgAHAAgACQAKAAsADAANAA4ADwAQABEAEgATABQAFQAWABcAGAAZABoAGwAcAB0AHgAfACAAIQAiACMAJAAlACYAJwAoACkAKgArACwALQAuAC8AMAAxADIAMwA0ADUANgA3ADgAOQA6ADsAPAA9AD4APwBAAEEAQgBDAEQARQBGAEcASABJAEoASwBMAE0ATgBPAFAAUQBSAFMAVABVAFYAVwBYAFkAWgBbAFwAXQBeAF8AYABhAGIAYwBkAGUAZgBnAGgAaQBqAGsAbABtAG4AbwBwAHEAcgBzAHQAdQB2AHcAeAB5AHoAewB8AH0AfgB/AIAAgQCCAIMAhACFAIYAhwCIAIkAigCLAIwAjQCOAI8AkACRAJIAkwCUAJUAlgA=",
          "dtype": "i2"
         },
         "xaxis": "x3",
         "y": {
          "bdata": "NPhEs8en9z/cuN0e2TMXQFzPsXG1gjBAmnVjwfz9OUAUeDUY8E9BQMQR3G/CrEZAr2SXmZWaS0AW5vZX3yRQQJzZGm2nm1JAnvdiAQKjVUAPanPCLydYQGy4BC9LullAYI+1wVroWkAOSr9dTDVcQGHFzzNDXFxAtqy3RumlXEDECw0nOx5dQMv+aoHkX11A9Sfk1Q1bXUCq1L3lFHxdQB8Ven28fF1ADF1qpkaaXUAz7UxZXKJdQAtup9gJol1ARfG6qnGMXUD/Wy15r7NdQNz0d5rzyV1ABfFx85zJXUD1zF/BmdFdQISIRWfZ3l1AAKBb2gXhXUCtZcQTBORdQA3IftpO411AW12+DpDjXUBRrs5iE+NdQMGIDyAa911AuKa2uBXzXUC4pra4FfNdQOOmn3bP9F1ATp/ugYP3XUALBpTxlfldQCkOYa2a8F1A3k76O3n8XUCsMhc3Fv1dQLpsnvdY/V1A3z2gUC37XUDsDI0tRPtdQNOIeXVD9F1Ar1k8XxL3XUCL1NDHh/hdQJvXc3jA911AQNMiM8/0XUC5CbfjzfldQKG4sJ8a911A43c1zMb3XUDhzvQRP/BdQK8wyN6K8F1ArfmDZ7jwXUDGZrCq6PFdQLJziHhk8l1AxmGSczPxXUDLjqS7zvNdQFKNR2IP+F1ABlFw2Z4FXkCrtSb01AReQOs3NlJmBF5ABI79X0IDXkABfFKBWQNeQP0rT9UDA15AX3nPvbMBXkAoGfHctANeQGczIvQ3A15AeGrhr3kCXkCMVCoEQgFeQKp7YRxPAl5A9fExw/b9XUCoBZ1zfgBeQK6xfvrlAV5AQZkwKBsAXkDM5RDqyAleQMGyPA3XFl5A09YACbQTXkD2Zg2gdw9eQI3qB9K1EF5AkjNWmkAOXkAxS0gGGxBeQCP8yFC2DF5AjKay0AkTXkC+TJcgUxJeQIymstAJE15AtnCsuqQUXkDX86VujRdeQBLcpxHNGF5AhG40zcYXXkCCikY4URheQOuRsrSkGV5A2JvT/tkXXkCeuxJVWhVeQJ67ElVaFV5Au8HQEqUZXkCfydSBThheQBlFl9HkG15AFqZmlykcXkAWpmaXKRxeQHf9jWluHF5AqC6cgX8fXkC8dlYqPR1eQCieJ1sMHl5A6lm4/NseXkDUdQF08BdeQLrf/BKQGV5A34kxe4AVXkCfYp9s/BNeQGz3tN1RFF5AgNuifE4VXkB2QcjhPBVeQJ++LOAZFl5Ah40agbwUXkDwlVqNKxVeQNDEXZcVFV5AvpkWfvQWXkAqT4HvrxZeQFptD5MAFV5A0qXU5QwRXkAdFu9Oxx9eQI6ctjzzIF5AEucTQiMmXkAOe/B/0yFeQDnoUq8GJF5A6JcKshYnXkBEKIKiAypeQDifkfm/Kl5A6Y04OQYrXkBEKIKiAypeQF8kbue3JV5ADK8Mfl8kXkC7pbdmBSNeQGzJLinYJV5A2x8tVqgmXkBrSP6FfileQNSoVF4zJ15AC9c51E8qXkCt8KLklydeQK3wouSXJ15Ax1SW10skXkBTW+WacSZeQM8zdQYDKV5A3SM1ofcpXkBIAtY1HSVeQEX8Qot+JV5AWXQgxf8iXkA=",
          "dtype": "f8"
         },
         "yaxis": "y3"
        },
        {
         "line": {
          "color": "blue"
         },
         "mode": "lines",
         "name": "Size",
         "showlegend": false,
         "type": "scatter",
         "x": {
          "bdata": "AAABAAIAAwAEAAUABgAHAAgACQAKAAsADAANAA4ADwAQABEAEgATABQAFQAWABcAGAAZABoAGwAcAB0AHgAfACAAIQAiACMAJAAlACYAJwAoACkAKgArACwALQAuAC8AMAAxADIAMwA0ADUANgA3ADgAOQA6ADsAPAA9AD4APwBAAEEAQgBDAEQARQBGAEcASABJAEoASwBMAE0ATgBPAFAAUQBSAFMAVABVAFYAVwBYAFkAWgBbAFwAXQBeAF8AYABhAGIAYwBkAGUAZgBnAGgAaQBqAGsAbABtAG4AbwBwAHEAcgBzAHQAdQB2AHcAeAB5AHoAewB8AH0AfgB/AIAAgQCCAIMAhACFAIYAhwCIAIkAigCLAIwAjQCOAI8AkACRAJIAkwCUAJUAlgA=",
          "dtype": "i2"
         },
         "xaxis": "x4",
         "y": {
          "bdata": "zczMzMzMFkDNzMzMzEwvQGZmZmZm7jtAMzMzMzNPQ0CamZmZmWlHQAAAAAAAIE1AmpmZmZm7UEDNzMzMzJJSQJqZmZmZbVRAMzMzMzNlVkAAAAAAANZXQGZmZmZm6FhAMzMzMzNLWkDNzMzMzEJbQM3MzMzMDlxAMzMzMzN5XEAAAAAAAMBcQAAAAAAALF1AAAAAAACiXUAAAAAAAAheQM3MzMzMlF5AzczMzMzEXkCamZmZmd9eQGZmZmZmPl9AzczMzMx+X0DNzMzMzJxfQGZmZmZmll9AzczMzMzsX0BmZmZmZghgQDMzMzMzE2BAAAAAAAAYYEAAAAAAAClgQGZmZmZmM2BAZmZmZmZBYEAzMzMzM1VgQDMzMzMzWGBAAAAAAABjYEAzMzMzM3VgQDMzMzMzfGBAMzMzMzOFYEAAAAAAAIZgQAAAAAAAkmBAZmZmZmaPYEBmZmZmZqJgQJqZmZmZuGBAzczMzMzAYEAzMzMzM8lgQDMzMzMzw2BAmpmZmZnPYEBmZmZmZsBgQGZmZmZmtGBAZmZmZma2YECamZmZmbpgQM3MzMzMvGBAMzMzMzPHYEAzMzMzM9RgQM3MzMzM1mBAmpmZmZndYEAAAAAAAN5gQGZmZmZm6GBAzczMzMziYEAzMzMzM+xgQJqZmZmZA2FAZmZmZmb3YECamZmZmQJhQGZmZmZmBGFAmpmZmZkIYUCamZmZmRRhQDMzMzMzGmFAmpmZmZkUYUCamZmZmRFhQM3MzMzMDmFAMzMzMzMMYUCamZmZmQxhQGZmZmZmB2FAZmZmZmYNYUAzMzMzMwthQDMzMzMzDmFAzczMzMwNYUAzMzMzMw9hQAAAAAAADmFAAAAAAAAUYUAAAAAAAA5hQGZmZmZmDmFAMzMzMzMKYUDNzMzMzAlhQM3MzMzMEGFAAAAAAAAQYUAAAAAAABZhQM3MzMzMEWFAAAAAAAARYUCamZmZmRVhQJqZmZmZFWFAZmZmZmYdYUAzMzMzMxthQGZmZmZmH2FAzczMzMwfYUAzMzMzMyBhQDMzMzMzKWFAZmZmZmYoYUDNzMzMzCphQM3MzMzMJ2FAMzMzMzMvYUCamZmZmSZhQJqZmZmZLWFAzczMzMw0YUDNzMzMzCRhQDMzMzMzKGFAmpmZmZkyYUCamZmZmS9hQGZmZmZmN2FAmpmZmZk4YUDNzMzMzDphQDMzMzMzO2FAMzMzMzNEYUCamZmZmUphQAAAAAAARWFAmpmZmZlJYUBmZmZmZk5hQJqZmZmZVWFAAAAAAABQYUBmZmZmZlBhQJqZmZmZUmFAZmZmZmZTYUCamZmZmVRhQJqZmZmZVGFAmpmZmZlUYUDNzMzMzFNhQDMzMzMzUWFAzczMzMxJYUBmZmZmZklhQAAAAAAASWFAZmZmZmZHYUAzMzMzM0FhQGZmZmZmSWFAzczMzMxGYUAzMzMzM0dhQAAAAAAAUmFAMzMzMzNNYUAzMzMzM01hQGZmZmZmVWFAzczMzMxWYUBmZmZmZllhQAAAAAAAXGFAmpmZmZlYYUBmZmZmZlNhQJqZmZmZUWFAmpmZmZlXYUCamZmZmVdhQJqZmZmZV2FAZmZmZmZYYUA=",
          "dtype": "f8"
         },
         "yaxis": "y4"
        },
        {
         "line": {
          "width": 0
         },
         "mode": "lines",
         "name": "+1 std Train",
         "showlegend": false,
         "type": "scatter",
         "x": {
          "bdata": "AAABAAIAAwAEAAUABgAHAAgACQAKAAsADAANAA4ADwAQABEAEgATABQAFQAWABcAGAAZABoAGwAcAB0AHgAfACAAIQAiACMAJAAlACYAJwAoACkAKgArACwALQAuAC8AMAAxADIAMwA0ADUANgA3ADgAOQA6ADsAPAA9AD4APwBAAEEAQgBDAEQARQBGAEcASABJAEoASwBMAE0ATgBPAFAAUQBSAFMAVABVAFYAVwBYAFkAWgBbAFwAXQBeAF8AYABhAGIAYwBkAGUAZgBnAGgAaQBqAGsAbABtAG4AbwBwAHEAcgBzAHQAdQB2AHcAeAB5AHoAewB8AH0AfgB/AIAAgQCCAIMAhACFAIYAhwCIAIkAigCLAIwAjQCOAI8AkACRAJIAkwCUAJUAlgA=",
          "dtype": "i2"
         },
         "xaxis": "x4",
         "y": {
          "bdata": "xi1k1tPXI0AxnP+Z/v42QJYf/o/s6EFA+UFD3YFxSEDJh+HQ5Q5OQIi5IFwSVVJAFxp2Vz3GVEBwMyz1Q25XQKSispBs4VlA6G9242B6XEC3I3AsLjpeQN5eZAavWV9Anja0G+xWYEBVbk1ykbFgQJNS/1VbK2FAzCRHyiBCYUDeoqgEvmFhQB/Gg3dTsGFAeopb9enUYUCKjKSkgfxhQKgy8fb3HGJAddd0T1ATYkBoMIKooh1iQLZ68gLmQGJA1kelvJhgYkAFBwuhiEtiQEAFey2LP2JAaUcHT6JCYkBqTxlPCUhiQE/CVhwNY2JALgo+zxNpYkCTTZ0Y721iQPa5jg9BdWJA2aUUOCp1YkAOu+fVy3FiQAyNL+PvZWJAJlTaHZpoYkA3804eB3BiQBAebrnLd2JAbcycGrF+YkDYJcL1AYdiQLVBAp65l2JABtw2ZLOLYkAGKuNYW5JiQEaDkpvAm2JArQQ+JR6SYkDIdCLJyI9iQNBfK1MMkWJAZEQdFRaaYkBrQtaXlpRiQFVc9JhJj2JAuzgoBiuVYkCDvT/agKRiQMTlSadwpmJApu9yXsifYkC9Wt2emI5iQM5m5dvIimJAXQ70h5CZYkDBcqsT8pdiQAOVe0JYkWJAj1Tlm+iMYkAGfLvjVIdiQEalwZwadWJAIrHagbiGYkB0pP/CCXliQHHOvp9tdGJAtXcDjtBwYkCohdpos31iQDjDF5XJhGJAYe4+Sx6RYkB1/aPoFo9iQEjV819xjGJAqU1slP6JYkD0LPI1HYliQIqACVATj2JATa80vbKKYkD+872Vh4diQCvFBGGAiGJA6SZcmceKYkDEEqIn6otiQIKveMQ5l2JA7mWBuKSTYkDCyAFCPY1iQAX3gxq7gmJAYaMzEKh2YkDJcKt/oXViQGYx2jUvfmJAZ49X93B7YkAWx3nD6HtiQOrC7qm1e2JAKUkK5/d5YkC4dx+rhn5iQLJh6ArmfGJAlugUx+qBYkDsmAhAAH5iQKlaTAZogWJAX7KxYOWAYkCs8b8fjYFiQGgo54UchGJAZhQRh7F5YkBfrqfzQoNiQBSneOu4fmJAQmDPFxCAYkCvAd1BynliQMGoZVE6e2JAtNgElqt2YkAISXSxxnBiQDStWBafcmJAmWfTmaN7YkAVP/YMyXtiQFMkvVC4eGJAVShHrL97YkDsdshPjnhiQOYSU8JUcWJAStfeL2ZyYkDhCC4IkHRiQHx9bJ41d2JAHYxuFvKCYkDKhcBq64JiQH7EhJAVhWJAeFJA3RmDYkASD3pZZYNiQHychmpHemJAqGBJTFR6YkCkUDrZ3nliQKRQOtneeWJApFA62d55YkATf/K6vnZiQD1zjor9c2JAbtmaU0B5YkAOAJtzx3hiQOgZsW9OeGJAAw1HeNB1YkDF3ie+4XxiQOSTow4Ff2JAG6gKW4J+YkCOzQlx5n5iQGAdyXINhWJADNmwyY6EYkAM2bDJjoRiQL123rcje2JAiooyRmx3YkD6AQJHWXdiQHw3kokWeGJA8FFMPtp1YkApUst+W3hiQI95JPhcd2JA7bZptQl8YkDttmm1CXxiQO22abUJfGJA/FgvUmN9YkA=",
          "dtype": "f8"
         },
         "yaxis": "y4"
        },
        {
         "fill": "tonexty",
         "fillcolor": "rgba(0,0,255,0.1)",
         "line": {
          "width": 0
         },
         "mode": "lines",
         "name": "-1 std Train",
         "showlegend": false,
         "type": "scatter",
         "x": {
          "bdata": "AAABAAIAAwAEAAUABgAHAAgACQAKAAsADAANAA4ADwAQABEAEgATABQAFQAWABcAGAAZABoAGwAcAB0AHgAfACAAIQAiACMAJAAlACYAJwAoACkAKgArACwALQAuAC8AMAAxADIAMwA0ADUANgA3ADgAOQA6ADsAPAA9AD4APwBAAEEAQgBDAEQARQBGAEcASABJAEoASwBMAE0ATgBPAFAAUQBSAFMAVABVAFYAVwBYAFkAWgBbAFwAXQBeAF8AYABhAGIAYwBkAGUAZgBnAGgAaQBqAGsAbABtAG4AbwBwAHEAcgBzAHQAdQB2AHcAeAB5AHoAewB8AH0AfgB/AIAAgQCCAIMAhACFAIYAhwCIAIkAigCLAIwAjQCOAI8AkACRAJIAkwCUAJUAlgA=",
          "dtype": "i2"
         },
         "xaxis": "x4",
         "y": {
          "bdata": "NPhEs8en9z84YZplnJsgQJ+N0KzzCjRA2khGEslZPEBrq1FiTcRAQPGMvkfblUVAOjJ6t+thSUBVzNpIq25LQCAhAUWN801AfvbvggVQUEBJ3I/T0XFRQO5taMYdd1JAKfn9Lo7oU0DwvP60diJVQHT0mu3ixlVAzxzY0SRuVkBEuq72g7xWQMJz+BBZ91ZAC+tIFSyaV0Ds5ra2/BZYQEk0t6up71hAsOqv+vhiWUBk0i7i7YNZQGDX58YA+1lA7wlPIGg8WkCQi4NXiKJaQE3C1nG2rVpAyAqL+1RUW0DF+mb7hpFbQC5IH5SyhltApOuDYdiNW0DaZMXOIchbQKwlfHoX41tA5k1wKUUbXECwVv0gNXFcQLSybQbtlFxAtFdLxMu6XEBe5i6QvvRcQKyQ8Fk1AV1A8jOTl2oXXUBPtHsU/AldQJZ8+8OMGF1Ai+Er0TImXUCMRdPn4mRdQNtfQS/lql1A2im36PbeXUA744c6OwVeQCsNdia06l1AoN0rPDoKXkDDFO1pbNhdQO7gsGcGs11AIihJjUOvXUBi6+axZKFdQKxnn+RRpl1AgO3mDzzdXUBSFxKPmzNeQJllaHuhRV5Ar0l+VkVDXkB+GqnYG0heQJNvohTpfl5AFopo+2FxXkDA1FUFI6JeQN0b4ywxJF9AVDfklSjQXkCAHWfgUhhfQLX8G1q+KF9A/3ZfSsVAX0AYW7GU/1ZfQFtGnaI5X19Ap4nozykwX0B+ax6VOChfQKOIS3NQIl9AejH0o88cX0CADIL6KyBfQIOYhvly/15A/TowHzQgX0DQ5FChvR1fQHdCwwrMJ19AYuV6AKQhX0BDp4h9+CRfQPugDneMCV9AJDT9jrYoX0B7bvx7hR1fQI6rkWQjNF9ACoZlrHw7X0CiUdwz8DtfQGjQfsfURl9AMeFQER5JX0DUcQx5LmBfQF+tVd/HT19Arm3rMRBQX0D5dicQWVlfQASjlVCaXF9AbchvC8RxX0D0mrtMzHBfQEXkAI3Jel9Ads7PcWh9X0B16UyNsn1fQP17/sCTnF9AzXB3izauX0B21uNLraRfQA3lQVzBoV9ASQwunay8X0ALY6zi0aZfQOYUm8Pxv19Ay4EpB9zlX0AkoUrQpbFfQGNyG6COu19ANpe/Mh/TX0A96HlM1MZfQPJQH/go7F9AvhXYDefqX0BcRaKTFvpfQIBTE6QRBWBAHI+HNgAWYEBTKgUroyBgQISCk2HKEmBAF6fEHEEQYEACRwxi4RlgQLZurqIdJmBAiK2/IuYcYEC6vVJzZx1gQLiWrMjrKmBAJGyDgHgsYECQ4vhZVC9gQJDi+FlUL2BAkOL4WVQvYECHGqfe2jBgQCnz19toLmBALMD+RVkaYEC+zDFZBRpgQBjmTpCxGWBAyb+FVPwYYEChhz6ohAVgQOg4Kb7HE2BAf/GOPhcPYEDYmFz1fw9gQKDiNo3yHmBAWo21nNcVYEBajbWc1xVgQA9W7hSpL2BAEA9nUy02YEDSysqFcztgQITIbXbpP2BAROHm9Fg7YECjegFOcS5gQKW5DjvWK2BAR3zJfSkzYEBHfMl9KTNgQEd8yX0pM2BA0HOdemkzYEA=",
          "dtype": "f8"
         },
         "yaxis": "y4"
        },
        {
         "line": {
          "color": "blue"
         },
         "mode": "lines",
         "name": "Size",
         "showlegend": false,
         "type": "scatter",
         "x": {
          "bdata": "AAABAAIAAwAEAAUABgAHAAgACQAKAAsADAANAA4ADwAQABEAEgATABQAFQAWABcAGAAZABoAGwAcAB0AHgAfACAAIQAiACMAJAAlACYAJwAoACkAKgArACwALQAuAC8AMAAxADIAMwA0ADUANgA3ADgAOQA6ADsAPAA9AD4APwBAAEEAQgBDAEQARQBGAEcASABJAEoASwBMAE0ATgBPAFAAUQBSAFMAVABVAFYAVwBYAFkAWgBbAFwAXQBeAF8AYABhAGIAYwBkAGUAZgBnAGgAaQBqAGsAbABtAG4AbwBwAHEAcgBzAHQAdQB2AHcAeAB5AHoAewB8AH0AfgB/AIAAgQCCAIMAhACFAIYAhwCIAIkAigCLAIwAjQCOAI8AkACRAJIAkwCUAJUAlgA=",
          "dtype": "i2"
         },
         "xaxis": "x5",
         "y": {
          "bdata": "zczMzMzMFkDNzMzMzGwxQDMzMzMzkzxAzczMzMz8QkDNzMzMzGxHQDMzMzMzx0tAAAAAAACwTkDNzMzMzKxQQJqZmZmZ11FAMzMzMzP3UkDNzMzMzPxTQM3MzMzMpFRAmpmZmZlDVUCamZmZmdNVQDMzMzMzUVZAZmZmZmbkVkDNzMzMzChXQM3MzMzMgFdAmpmZmZm9V0DNzMzMzNZXQDMzMzMzKVhAAAAAAABeWEAAAAAAAF5YQAAAAAAAhFhAmpmZmZmfWEAzMzMzM6lYQJqZmZmZuVhAAAAAAADKWEDNzMzMzNJYQM3MzMzM+FhAmpmZmZntWEAzMzMzMxVZQAAAAAAAFllAAAAAAAAWWUAzMzMzMztZQM3MzMzMUFlAMzMzMzNNWUCamZmZmVdZQJqZmZmZdVlAAAAAAACAWUAzMzMzM7lZQM3MzMzM3FlAAAAAAADcWUCamZmZmddZQDMzMzMz5VlAZmZmZmYEWkDNzMzMzPRZQM3MzMzM9FlAzczMzMz0WUDNzMzMzPRZQJqZmZmZ+1lAZmZmZmYCWkCamZmZmQdaQM3MzMzMDFpAzczMzMwSWkDNzMzMzBJaQM3MzMzMDFpAzczMzMwyWkAzMzMzMyNaQGZmZmZmKFpAzczMzMw4WkAAAAAAADhaQAAAAAAARFpAAAAAAAA4WkAzMzMzM0NaQGZmZmZmSFpAmpmZmZlNWkAzMzMzM0NaQGZmZmZmSFpAmpmZmZlNWkAzMzMzM11aQDMzMzMzUVpAzczMzMxSWkAAAAAAAFhaQGZmZmZmYlpAMzMzMzNdWkAzMzMzM2laQGZmZmZmblpAmpmZmZmHWkDNzMzMzIxaQJqZmZmZgVpAmpmZmZmBWkCamZmZmYFaQM3MzMzMhlpAzczMzMyGWkCamZmZmYFaQAAAAAAAhlpAzczMzMyGWkDNzMzMzIZaQGZmZmZmkFpAmpmZmZmPWkDNzMzMzJRaQJqZmZmZm1pAzczMzMygWkAzMzMzM6taQJqZmZmZqVpAmpmZmZmpWkCamZmZmalaQM3MzMzMrlpAAAAAAACoWkDNzMzMzKJaQM3MzMzMolpAAAAAAACoWkAAAAAAAKhaQAAAAAAArlpAAAAAAACuWkAAAAAAAK5aQDMzMzMzy1pAMzMzMzPLWkAzMzMzM8taQDMzMzMzy1pAMzMzMzPLWkAzMzMzM8taQDMzMzMzy1pAAAAAAADMWkBmZmZmZvxaQGZmZmZmFltAzczMzMwgW0BmZmZmZhxbQGZmZmZmHFtAzczMzMwmW0DNzMzMzCZbQAAAAAAAJltAZmZmZmYwW0BmZmZmZjBbQGZmZmZmMFtAZmZmZmYwW0BmZmZmZjBbQM3MzMzMOltAzczMzMw6W0DNzMzMzDpbQJqZmZmZO1tAmpmZmZk7W0AAAAAAAEBbQGZmZmZmPltAZmZmZmY+W0BmZmZmZj5bQJqZmZmZSVtAmpmZmZlJW0BmZmZmZkpbQM3MzMzMSFtAzczMzMxIW0DNzMzMzEhbQM3MzMzMSFtAzczMzMxIW0BmZmZmZj5bQGZmZmZmPltAZmZmZmY+W0BmZmZmZj5bQGZmZmZmPltAZmZmZmY+W0A=",
          "dtype": "f8"
         },
         "yaxis": "y5"
        },
        {
         "line": {
          "width": 0
         },
         "mode": "lines",
         "name": "+1 std Train",
         "showlegend": false,
         "type": "scatter",
         "x": {
          "bdata": "AAABAAIAAwAEAAUABgAHAAgACQAKAAsADAANAA4ADwAQABEAEgATABQAFQAWABcAGAAZABoAGwAcAB0AHgAfACAAIQAiACMAJAAlACYAJwAoACkAKgArACwALQAuAC8AMAAxADIAMwA0ADUANgA3ADgAOQA6ADsAPAA9AD4APwBAAEEAQgBDAEQARQBGAEcASABJAEoASwBMAE0ATgBPAFAAUQBSAFMAVABVAFYAVwBYAFkAWgBbAFwAXQBeAF8AYABhAGIAYwBkAGUAZgBnAGgAaQBqAGsAbABtAG4AbwBwAHEAcgBzAHQAdQB2AHcAeAB5AHoAewB8AH0AfgB/AIAAgQCCAIMAhACFAIYAhwCIAIkAigCLAIwAjQCOAI8AkACRAJIAkwCUAJUAlgA=",
          "dtype": "i2"
         },
         "xaxis": "x5",
         "y": {
          "bdata": "xi1k1tPXI0Be68qZ9+w3QECRMcP0JkJADpS1cRAsSEBmL9kNdY5NQGRsjLJLpVFAef5JYiLZU0D6A2sopvdVQMJlngfEFFhAzzInVs8VWkC6mpxZbU1bQMlKxOm2oVtAHnZTdBE2XEC7uKM5Jt5cQBVTnrI0Pl1AE2yjtEOaXUA2veFOfxVeQGZWgjQIRl5ARJZZ/bRwXkBO4P+eFHdeQHdLQyybzF5AH+tf7snuXkBsWUoCkQFfQEiAc9UbIV9A9z0Dqes0X0AyYzDcWztfQHS2uBvAPl9AtBhglARHX0BAe9mzRFBfQFGapGMabF9A5DzZU8pnX0CpK7k8GI1fQPKZkGxtkV9A8pmQbG2RX0C1WYLFwrNfQDfBs63exl9AqtAwiDHIX0Csvig8wshfQEIkxcQr9l9Ajg136DQBYEAz3FVL5wJgQJMsTntrGWBA3C0uofMWYECYN49oUxhgQMdc2ftNFGBA44AF5k0LYEDRLJNnQgtgQNEsk2dCC2BA0SyTZ0ILYEDRLJNnQgtgQBeWqfooEmBARKsIkE4RYEBpPVYgpAxgQJzwuV52EGBA2aO/nDIRYEDZo7+cMhFgQDBXBNUfEmBAKOgsqx0eYEB/sG22bxpgQGjtG8a/HmBAxO6COiAoYEDBv+X8fyhgQHrE07a2K2BALFJgBCcrYEB+Aggz2C1gQIrixYKYMGBAJcog5QM2YEBLObmQIS9gQExYE+VJMWBAv3E8Rmw1YEAz/IVftDpgQGuP/i1GNGBAUdJuWEM1YEA5ouZulzZgQMH/bzBhN2BAwZ4S7IU5YECti6X8x0FgQJMe1TIKRGBAJlPgHe5FYECyg1nd3klgQHWKOZUhRWBAdYo5lSFFYEB1ijmVIUVgQKSP5rqPR2BApI/muo9HYEB5w5YS6kRgQArP+88pSGBARAADbrpIYEBEAANuukhgQDBmf2cXTmBAUVrFevtHYEBLvyZ3BUxgQN2QtTwrUWBADZriGE9PYECfr02Vx09gQBmAiI7mTmBAGYCIjuZOYEAZgIiO5k5gQBnKvuuvUmBAEp4IgudMYEDv6Z2ciEpgQO/pnZyISmBAEp4IgudMYEASngiC50xgQNbjFQCISmBA1uMVAIhKYEDW4xUAiEpgQFOUo6ULVGBAU5SjpQtUYEBTlKOlC1RgQFOUo6ULVGBAU5SjpQtUYEBTlKOlC1RgQFOUo6ULVGBA/ol4EIhVYEBzuhZxjVdgQJ+DG3wGXWBAn5g/zkhjYED4ook/RGZgQPiiiT9EZmBAQk2GvH5sYEBCTYa8fmxgQKwoxeaga2BAX1CnA19uYEBfUKcDX25gQF9QpwNfbmBAX1CnA19uYEBfUKcDX25gQM9EFP6RcmBAz0QU/pFyYEDPRBT+kXJgQBSbeetuc2BAFJt5625zYEAl1B3ZJ3ZgQJ02PqjSdGBAD4j+r0htYEAPiP6vSG1gQLLFuC3Zb2BAssW4LdlvYEAgBwLvv3BgQBf9RFJFb2BAF/1EUkVvYEAX/URSRW9gQBf9RFJFb2BAF/1EUkVvYECO6VBdMGxgQI7pUF0wbGBAjulQXTBsYECO6VBdMGxgQI7pUF0wbGBAjulQXTBsYEA=",
          "dtype": "f8"
         },
         "yaxis": "y5"
        },
        {
         "fill": "tonexty",
         "fillcolor": "rgba(0,0,255,0.1)",
         "line": {
          "width": 0
         },
         "mode": "lines",
         "name": "-1 std Train",
         "showlegend": false,
         "type": "scatter",
         "x": {
          "bdata": "AAABAAIAAwAEAAUABgAHAAgACQAKAAsADAANAA4ADwAQABEAEgATABQAFQAWABcAGAAZABoAGwAcAB0AHgAfACAAIQAiACMAJAAlACYAJwAoACkAKgArACwALQAuAC8AMAAxADIAMwA0ADUANgA3ADgAOQA6ADsAPAA9AD4APwBAAEEAQgBDAEQARQBGAEcASABJAEoASwBMAE0ATgBPAFAAUQBSAFMAVABVAFYAVwBYAFkAWgBbAFwAXQBeAF8AYABhAGIAYwBkAGUAZgBnAGgAaQBqAGsAbABtAG4AbwBwAHEAcgBzAHQAdQB2AHcAeAB5AHoAewB8AH0AfgB/AIAAgQCCAIMAhACFAIYAhwCIAIkAigCLAIwAjQCOAI8AkACRAJIAkwCUAJUAlgA=",
          "dtype": "i2"
         },
         "xaxis": "x5",
         "y": {
          "bdata": "NPhEs8en9z93XJ3/Q9klQOVDA+B82DRAGQvITxKbO0A0asCLJEtBQJ6NTQHPQ0RADgNsO7utRUBAK13i5sNGQOSaKVfeNEdALmd+IC6xR0DA/fl/WFhJQKKdql/FT0tALXq/fUOiTEDy9B7zGZJNQKImkGdjyE5AuWApGIkuUEBk3LdKGjxQQDRDF2WRu1BA8JzZNX4KUUBMuZn6hDZRQO8aIzrLhVFA4RSgETbNUUCUprX9brpRQLh/jCrk5lFAPfUvikcKUkA0AzaKChdSQMB8ehdzNFJATOefa/tMUkBaHsDlVFVSQEn/9DV/hVJAUPZZ32hzUkC9Oq0pTp1SQA5mb5OSmlJADmZvk5KaUkCxDOSgo8JSQGPY5eu62lJAvJU13jTSUkCIdAr3cOZSQPIObm4H9VJA5OQRL5b9UkABrrrPl2xTQHRA/aLChlNASaSjvRiKU0ADxBRijH5TQNess27KoVNABcvBADHyU0D3P3PKFNNTQPc/c8oU01NA9z9zyhTTU0D3P3PKFNNTQAYH4D3h0lNARHa7rC/iU0BiuIby6vVTQGG4Jdys+FNA51EaYDQDVEDnURpgNANUQDrrkO9Z9VNASsk/Q14pVEBoBYv5hhFUQPzxlEBNE1RAEryTJFkhVEB+gDQGAB9UQA13WJKSMFRAqVs/97EZVEBqYVYAtipUQLgHQcebL1RA6p7xaCsvVEDR8/NEIyhUQDQcpgI5LlRAtk+6plowVEABblqn/URUQJBHaQraOVRA+fS76BI7VECNuzIi0UJUQErN7GsKVlRA5ChBjlpHVEAMTxtt1k5UQKaPIme4VFRA6Ixy91aDVEA3kube24VUQEoewAjweFRASh7ACPB4VEBKHsAI8HhUQFJ6zCN6flRAUnrMI3p+VEBCrAUOX3lUQOxhCGCse1RAEpmTvSR8VEASmZO9JHxUQGsAzv2dhFRAkn6oPTyPVEAEG0yrjpFUQHkRyLnclFRAgGXUZ/uiVEAoB8s717ZUQAEzIhZmtVRAATMiFma1VEABMyIWZrVUQGgFHMI5uFRA3MPu+zC2VEC8xV1giLBUQLzFXWCIsFRA3MPu+zC2VEDcw+77MLZUQFQ41P/vxlRAVDjU/+/GVEBUONT/78ZUQL89HxtP7lRAvz0fG0/uVEC/PR8bT+5UQL89HxtP7lRAvz0fG0/uVEC/PR8bT+5UQL89HxtP7lRAA+wO3+/sVEDmV5/qsUlVQI7FldS/clVAXWga/Qd7VUDchrlNRGxVQNyGuU1EbFVAFv+MIJx0VUAW/4wgnHRVQKmudTK+dFVADix+xQ6EVUAOLH7FDoRVQA4sfsUOhFVADix+xQ6EVUAOLH7FDoRVQPwPcZ11kFVA/A9xnXWQVUD8D3GddZBVQAz9P1xVkFVADP0/XFWQVUC2V8RNsJNVQJJfUHwnk1VAr7zPbDuiVUCvvM9sO6JVQNCnwdeAs1VA0KfB14CzVUCMvsjuTLNVQGyfD/UOs1VAbJ8P9Q6zVUBsnw/1DrNVQGyfD/UOs1VAbJ8P9Q6zVUCv+SoSbKRVQK/5KhJspFVAr/kqEmykVUCv+SoSbKRVQK/5KhJspFVAr/kqEmykVUA=",
          "dtype": "f8"
         },
         "yaxis": "y5"
        },
        {
         "line": {
          "color": "blue"
         },
         "mode": "lines",
         "name": "Size",
         "showlegend": false,
         "type": "scatter",
         "x": {
          "bdata": "AAABAAIAAwAEAAUABgAHAAgACQAKAAsADAANAA4ADwAQABEAEgATABQAFQAWABcAGAAZABoAGwAcAB0AHgAfACAAIQAiACMAJAAlACYAJwAoACkAKgArACwALQAuAC8AMAAxADIAMwA0ADUANgA3ADgAOQA6ADsAPAA9AD4APwBAAEEAQgBDAEQARQBGAEcASABJAEoASwBMAE0ATgBPAFAAUQBSAFMAVABVAFYAVwBYAFkAWgBbAFwAXQBeAF8AYABhAGIAYwBkAGUAZgBnAGgAaQBqAGsAbABtAG4AbwBwAHEAcgBzAHQAdQB2AHcAeAB5AHoAewB8AH0AfgB/AIAAgQCCAIMAhACFAIYAhwCIAIkAigCLAIwAjQCOAI8AkACRAJIAkwCUAJUAlgA=",
          "dtype": "i2"
         },
         "xaxis": "x6",
         "y": {
          "bdata": "zczMzMzMFkAzMzMzMxMwQGZmZmZmfjxAMzMzMzMTREBmZmZmZv5HQGZmZmZm5ktAAAAAAABmUEBmZmZmZppSQGZmZmZmGFRAzczMzMygVUAzMzMzM7tWQGZmZmZmZFdAzczMzMxOWEDNzMzMzNZYQAAAAAAAFllAAAAAAABmWUBmZmZmZrZZQGZmZmZmMlpAZmZmZmYqWkBmZmZmZjJaQGZmZmZmSFpAMzMzMzNVWkAAAAAAAMhaQAAAAAAA+FpAMzMzMzMBW0AzMzMzM/VaQJqZmZmZCVtAmpmZmZkpW0DNzMzMzERbQM3MzMzMVltAZmZmZmZkW0DNzMzMzJBbQAAAAAAAiltAAAAAAACQW0AzMzMzM6FbQJqZmZmZr1tAzczMzMzAW0CamZmZmdlbQAAAAAAA0ltAmpmZmZnTW0DNzMzMzPpbQGZmZmZm7FtAZmZmZmbyW0AAAAAAAPZbQM3MzMzM6ltAzczMzMwCXEDNzMzMzBRcQM3MzMzMFFxAzczMzMwaXECamZmZmSdcQGZmZmZmLlxAZmZmZmZAXEBmZmZmZlJcQM3MzMzMYlxAzczMzMxoXEDNzMzMzGhcQM3MzMzMaFxAzczMzMxuXEDNzMzMzHRcQGZmZmZmglxAZmZmZmaCXEBmZmZmZnxcQM3MzMzMhlxAmpmZmZmNXECamZmZmYdcQGZmZmZmmlxAZmZmZma2XEBmZmZmZrxcQDMzMzMzyVxAMzMzMzPPXEBmZmZmZshcQDMzMzMzz1xAAAAAAADWXEAAAAAAANxcQJqZmZmZ9VxAmpmZmZn1XEAzMzMzMwNdQDMzMzMz8VxAMzMzMzPrXEBmZmZmZvBcQJqZmZmZ71xAzczMzMzoXEBmZmZmZuRcQDMzMzMz2VxAmpmZmZnRXEAAAAAAAOJcQGZmZmZm4FxAzczMzMzkXEDNzMzMzORcQM3MzMzM2FxAZmZmZmbaXEBmZmZmZtpcQGZmZmZm2lxAZmZmZmbsXEAzMzMzM/NcQDMzMzMz+VxAMzMzMzP/XEAAAAAAAAxdQAAAAAAADF1AAAAAAAASXUAAAAAAABJdQDMzMzMzC11AAAAAAAAMXUAAAAAAAAxdQAAAAAAADF1AAAAAAAAMXUAzMzMzMwtdQAAAAAAADF1AAAAAAAAMXUAAAAAAAAxdQAAAAAAADF1AAAAAAAAMXUAAAAAAAAxdQDMzMzMzBV1AMzMzMzP/XEAzMzMzM/9cQDMzMzMzBV1AMzMzMzMLXUAAAAAAAAxdQM3MzMzMDF1AMzMzMzMRXUAzMzMzMwtdQDMzMzMzBV1AmpmZmZklXUCamZmZmSVdQJqZmZmZJV1AmpmZmZkxXUCamZmZmTFdQJqZmZmZMV1AZmZmZmYyXUBmZmZmZjJdQDMzMzMzOV1AMzMzMzM5XUAAAAAAADpdQAAAAAAAOl1AMzMzMzNJXUAzMzMzM0NdQDMzMzMzQ11AMzMzMzNDXUBmZmZmZjxdQGZmZmZmNl1AZmZmZmY2XUBmZmZmZjZdQGZmZmZmNl1AZmZmZmY2XUBmZmZmZjZdQGZmZmZmNl1AZmZmZmYwXUBmZmZmZjBdQGZmZmZmMF1AZmZmZmYwXUA=",
          "dtype": "f8"
         },
         "yaxis": "y6"
        },
        {
         "line": {
          "width": 0
         },
         "mode": "lines",
         "name": "+1 std Train",
         "showlegend": false,
         "type": "scatter",
         "x": {
          "bdata": "AAABAAIAAwAEAAUABgAHAAgACQAKAAsADAANAA4ADwAQABEAEgATABQAFQAWABcAGAAZABoAGwAcAB0AHgAfACAAIQAiACMAJAAlACYAJwAoACkAKgArACwALQAuAC8AMAAxADIAMwA0ADUANgA3ADgAOQA6ADsAPAA9AD4APwBAAEEAQgBDAEQARQBGAEcASABJAEoASwBMAE0ATgBPAFAAUQBSAFMAVABVAFYAVwBYAFkAWgBbAFwAXQBeAF8AYABhAGIAYwBkAGUAZgBnAGgAaQBqAGsAbABtAG4AbwBwAHEAcgBzAHQAdQB2AHcAeAB5AHoAewB8AH0AfgB/AIAAgQCCAIMAhACFAIYAhwCIAIkAigCLAIwAjQCOAI8AkACRAJIAkwCUAJUAlgA=",
          "dtype": "i2"
         },
         "xaxis": "x6",
         "y": {
          "bdata": "xi1k1tPXI0DwOMDoKFk4QF2HaUPwqUJAQ2grHkuvSUBxjWYmjN5OQC7uqzsz51FAnL9zAT0rVUBRTqmaL0ZYQFU8umIweVpAK3a7ZEVfXECLyqilOnxdQNScYs/+/l1Afpxhq3j3XkB+5rOfslJfQFysUJWGVV9AthsThDqVX0CuO+oxtNpfQGKRxL8LG2BA/gUWYl8lYEAeXHapNShgQIVM040XIWBAr3e5qpklYEDJwtXFRD1gQMJ32GwkSGBA5ZXS90ZVYEDkoVu+vFZgQB01BJ7SYGBAa2qkajJmYEA/NWVeyntgQMtuZVLYf2BAhAbCmhCDYEDXS3v9s5NgQFgO9LCPjWBAQT9ZJYSPYEBA+ZmrZohgQBRo0PD2kmBAIufkAMeUYEDUIY/E6Z9gQHUbnvHcmmBA2aHBTsaoYECL6HBxwbNgQPwAW7zruGBANZNdmeDBYEA4bWx178BgQK8wAgeHu2BACDLAo47IYECqX8dr381gQKpfx2vfzWBAuEdRAGTSYECS7LxeJdZgQNpD7SS02mBAUSBswp7eYEAUa2duMdhgQCpe65Gn3WBA6tNxkZ3iYEDq03GRneJgQOrTcZGd4mBAwnk+4KLhYEC4936z5+BgQOBv0mhv5mBA4G/SaG/mYEAvQ0Nj3uVgQJ28tEml5GBAydp+mZvoYEB6ohKeauVgQC8+MSn45mBA4qdYVmHsYEB110BPMetgQH9EdfAe6WBAUOlHLFHsYEBI/YBPQOxgQFDpRyxR7GBAmi5BCUPwYEDGc2114PNgQBpaqsvZ8WBAGlqqy9nxYEDI9HacuupgQL5K3/Rj4mBARhC3WnThYEC++RiTBuFgQCrnCjw83mBAk21VZ/HdYECmYeX8u9xgQAS3uRti22BACsqX4V7WYEBEYqPVMN1gQLo9NyZq22BAs4BaIqzdYECzgFoirN1gQAy4QBHL3GBA93AScifeYED3cBJyJ95gQPdwEnIn3mBASFMfBdflYECrv7wS0eZgQCei59oE5mBAot55NPPoYEAATeeBm+hgQABN54Gb6GBAQSJdwBDqYEBLvKQvBOtgQAy399pw52BA5L+J+/noYEDkv4n7+ehgQOS/ifv56GBA5L+J+/noYEDSqRGVXuhgQKtsds6z6GBAq2x2zrPoYECrbHbOs+hgQKtsds6z6GBAq2x2zrPoYECrbHbOs+hgQNXSswDm7GBA3MeHrrLrYEDcx4eusutgQOgyqfyV7GBA2uojk/fjYEDQ1Y6kmeZgQJl0Cio152BAUcB3pYjpYEA4frlZfeZgQEe5KVvO5WBAFz64QRzdYEAXPrhBHN1gQBc+uEEc3WBA/3rL5RHhYED/esvlEeFgQP96y+UR4WBAj6k2jgbiYECPqTaOBuJgQDKyWFpm2mBAMrJYWmbaYEBkYMuGDNtgQGRgy4YM22BAhjk6+hvjYEB5WXjDtulgQHlZeMO26WBAeVl4w7bpYEBcMu0Fx+NgQD7/4klY4GBAPv/iSVjgYEA+/+JJWOBgQD7/4klY4GBA8gVnYnzkYEDyBWdifORgQF0yNkqE42BAFryhGhLgYEAWvKEaEuBgQBa8oRoS4GBAFryhGhLgYEA=",
          "dtype": "f8"
         },
         "yaxis": "y6"
        },
        {
         "fill": "tonexty",
         "fillcolor": "rgba(0,0,255,0.1)",
         "line": {
          "width": 0
         },
         "mode": "lines",
         "name": "-1 std Train",
         "showlegend": false,
         "type": "scatter",
         "x": {
          "bdata": "AAABAAIAAwAEAAUABgAHAAgACQAKAAsADAANAA4ADwAQABEAEgATABQAFQAWABcAGAAZABoAGwAcAB0AHgAfACAAIQAiACMAJAAlACYAJwAoACkAKgArACwALQAuAC8AMAAxADIAMwA0ADUANgA3ADgAOQA6ADsAPAA9AD4APwBAAEEAQgBDAEQARQBGAEcASABJAEoASwBMAE0ATgBPAFAAUQBSAFMAVABVAFYAVwBYAFkAWgBbAFwAXQBeAF8AYABhAGIAYwBkAGUAZgBnAGgAaQBqAGsAbABtAG4AbwBwAHEAcgBzAHQAdQB2AHcAeAB5AHoAewB8AH0AfgB/AIAAgQCCAIMAhACFAIYAhwCIAIkAigCLAIwAjQCOAI8AkACRAJIAkwCUAJUAlgA=",
          "dtype": "i2"
         },
         "xaxis": "x6",
         "y": {
          "bdata": "NPhEs8en9z/YtZj29TQfQBK++UXsqDNARvx1kDbuPEBbP2amQB5BQG/wdFVm/kNAyYAY/YVBR0D2/EZkOt1JQO4gJdQ4b0tA3ka8aajETUC2N3uBV/RPQPgvav3NyVBAHP037iCmUUAcs+X55lpSQKRTr2p51lJASuTse8U2U0AekeKaGJJTQAmqQ021LlRA0MCgCA4KVECQFOB5YRRUQMIzJrGdTlRACHfzEDNfVEBuelR0dhVVQHwQTya3X1VAnDrBdthXVUCeIq/p7DxVQPrIKveNUVVAXl7qXc6GVUAcL8/cBJJVQAO8zvTorVVAxL9Il6vCVUDrAaOeMfpVQE/jF57g+FVAfoFNtfcAVkDlczIPmTFWQAxjklFFOVZAV8vPlwtYVkCL7xSqX3NWQBfJwxxGblZAg++vlaZVVkCEyLe2Fo5WQNPKFlT1ZlZAYqYRmgthVkCQJScVIWpWQDw4lYuLXlZAijUZUnx0VkBG2grC2o1WQEbaCsLajVZAKwr3mNGQVkAQWrl16KJWQBdF8oJkp1ZAKoz0R4/DVkCk9v3vafRWQEXdwnVKCldAx/G1dl4MV0DH8bV2XgxXQMfxtXZeDFdAFaYc2VMaV0AqqpsyyidXQA3tJ/vtN1dADe0n++03V0BuRkYGEC1XQF8gMAZPRFdAon01APxJV0A/7g33XURXQG5QanrcZldACH0bIAqUV0DiHUsuaqJXQGfde4UowFdAxpPWDcTFV0A80sotTLhXQMaT1g3ExVdAzKJ97XnLV0B0GCUVP9BXQAF/3pt/B1hAAX/em38HWEDVfHgt8TBYQOrQp3yeHVhA2kX4sH0TWEBQ2Zqmvx5YQOFkHbu6IlhAc77uyrYVWECACQLTVA9YQF/48i6i+1dAIJ8DcHX2V0B5O7lUnglYQFhRXoD4CVhANJjkVEEOWEA0mORUQQ5YQIIpGHcD+FdA3uqn6H34V0De6qfoffhXQN7qp+h9+FdAPCaOwh4NWEAQ5+xAxBhYQBgil7BcJlhAIaly/X8sWEAAZjH8yEZYQABmMfzIRlhAf7tFf95PWEBrh7ag901YQE/4drCER1hAOIDsCAxGWEA4gOwIDEZYQDiA7AgMRlhAOIDsCAxGWEDCEkM8qUVYQKomE2OYRlhAqiYTY5hGWECqJhNjmEZYQKomE2OYRlhAqiYTY5hGWECqJhNjmEZYQLzA/mSaMFhAr9ZWCQEnWECv1lYJASdYQJYAFG06MVhAs5AeQHdOWEBfVOK2zEpYQGiwhEUvS1hAxOV2G1VPWED2afOya0lYQNjzErDJPlhABbfCr/qQWEAFt8Kv+pBYQAW3wq/6kFhANT2cZw+hWEA1PZxnD6FYQDU9nGcPoVhArXlfsL+gWECteV+wv6BYQAMCtbGZvVhAAwK1sZm9WEA4P2ny5r1YQDg/afLmvVhAWfPxcS7MWEB0s3Xf+LJYQHSzdd/4slhAdLN13/iyWEAUaPLAPrFYQFDOBjkcrFhAUM4GORysWEBQzgY5HKxYQFDOBjkcrFhA58D+B9SjWEDnwP4H1KNYQBJoYDjEpVhAn1SJl6igWECfVImXqKBYQJ9UiZeooFhAn1SJl6igWEA=",
          "dtype": "f8"
         },
         "yaxis": "y6"
        }
       ],
       "layout": {
        "annotations": [
         {
          "font": {
           "size": 16
          },
          "showarrow": false,
          "text": "SLIM+SIG2",
          "x": 0.13333333333333333,
          "xanchor": "center",
          "xref": "paper",
          "y": 1,
          "yanchor": "bottom",
          "yref": "paper"
         },
         {
          "font": {
           "size": 16
          },
          "showarrow": false,
          "text": "SLIM+SIG1",
          "x": 0.5,
          "xanchor": "center",
          "xref": "paper",
          "y": 1,
          "yanchor": "bottom",
          "yref": "paper"
         },
         {
          "font": {
           "size": 16
          },
          "showarrow": false,
          "text": "SLIM+ABS",
          "x": 0.8666666666666667,
          "xanchor": "center",
          "xref": "paper",
          "y": 1,
          "yanchor": "bottom",
          "yref": "paper"
         },
         {
          "font": {
           "size": 16
          },
          "showarrow": false,
          "text": "SLIM*SIG2",
          "x": 0.13333333333333333,
          "xanchor": "center",
          "xref": "paper",
          "y": 0.45,
          "yanchor": "bottom",
          "yref": "paper"
         },
         {
          "font": {
           "size": 16
          },
          "showarrow": false,
          "text": "SLIM*SIG1",
          "x": 0.5,
          "xanchor": "center",
          "xref": "paper",
          "y": 0.45,
          "yanchor": "bottom",
          "yref": "paper"
         },
         {
          "font": {
           "size": 16
          },
          "showarrow": false,
          "text": "SLIM*ABS",
          "x": 0.8666666666666667,
          "xanchor": "center",
          "xref": "paper",
          "y": 0.45,
          "yanchor": "bottom",
          "yref": "paper"
         }
        ],
        "height": 700,
        "legend": {
         "orientation": "h",
         "x": 0.5,
         "xanchor": "center",
         "y": -0.15,
         "yanchor": "bottom"
        },
        "template": {
         "data": {
          "bar": [
           {
            "error_x": {
             "color": "#2a3f5f"
            },
            "error_y": {
             "color": "#2a3f5f"
            },
            "marker": {
             "line": {
              "color": "#E5ECF6",
              "width": 0.5
             },
             "pattern": {
              "fillmode": "overlay",
              "size": 10,
              "solidity": 0.2
             }
            },
            "type": "bar"
           }
          ],
          "barpolar": [
           {
            "marker": {
             "line": {
              "color": "#E5ECF6",
              "width": 0.5
             },
             "pattern": {
              "fillmode": "overlay",
              "size": 10,
              "solidity": 0.2
             }
            },
            "type": "barpolar"
           }
          ],
          "carpet": [
           {
            "aaxis": {
             "endlinecolor": "#2a3f5f",
             "gridcolor": "white",
             "linecolor": "white",
             "minorgridcolor": "white",
             "startlinecolor": "#2a3f5f"
            },
            "baxis": {
             "endlinecolor": "#2a3f5f",
             "gridcolor": "white",
             "linecolor": "white",
             "minorgridcolor": "white",
             "startlinecolor": "#2a3f5f"
            },
            "type": "carpet"
           }
          ],
          "choropleth": [
           {
            "colorbar": {
             "outlinewidth": 0,
             "ticks": ""
            },
            "type": "choropleth"
           }
          ],
          "contour": [
           {
            "colorbar": {
             "outlinewidth": 0,
             "ticks": ""
            },
            "colorscale": [
             [
              0,
              "#0d0887"
             ],
             [
              0.1111111111111111,
              "#46039f"
             ],
             [
              0.2222222222222222,
              "#7201a8"
             ],
             [
              0.3333333333333333,
              "#9c179e"
             ],
             [
              0.4444444444444444,
              "#bd3786"
             ],
             [
              0.5555555555555556,
              "#d8576b"
             ],
             [
              0.6666666666666666,
              "#ed7953"
             ],
             [
              0.7777777777777778,
              "#fb9f3a"
             ],
             [
              0.8888888888888888,
              "#fdca26"
             ],
             [
              1,
              "#f0f921"
             ]
            ],
            "type": "contour"
           }
          ],
          "contourcarpet": [
           {
            "colorbar": {
             "outlinewidth": 0,
             "ticks": ""
            },
            "type": "contourcarpet"
           }
          ],
          "heatmap": [
           {
            "colorbar": {
             "outlinewidth": 0,
             "ticks": ""
            },
            "colorscale": [
             [
              0,
              "#0d0887"
             ],
             [
              0.1111111111111111,
              "#46039f"
             ],
             [
              0.2222222222222222,
              "#7201a8"
             ],
             [
              0.3333333333333333,
              "#9c179e"
             ],
             [
              0.4444444444444444,
              "#bd3786"
             ],
             [
              0.5555555555555556,
              "#d8576b"
             ],
             [
              0.6666666666666666,
              "#ed7953"
             ],
             [
              0.7777777777777778,
              "#fb9f3a"
             ],
             [
              0.8888888888888888,
              "#fdca26"
             ],
             [
              1,
              "#f0f921"
             ]
            ],
            "type": "heatmap"
           }
          ],
          "histogram": [
           {
            "marker": {
             "pattern": {
              "fillmode": "overlay",
              "size": 10,
              "solidity": 0.2
             }
            },
            "type": "histogram"
           }
          ],
          "histogram2d": [
           {
            "colorbar": {
             "outlinewidth": 0,
             "ticks": ""
            },
            "colorscale": [
             [
              0,
              "#0d0887"
             ],
             [
              0.1111111111111111,
              "#46039f"
             ],
             [
              0.2222222222222222,
              "#7201a8"
             ],
             [
              0.3333333333333333,
              "#9c179e"
             ],
             [
              0.4444444444444444,
              "#bd3786"
             ],
             [
              0.5555555555555556,
              "#d8576b"
             ],
             [
              0.6666666666666666,
              "#ed7953"
             ],
             [
              0.7777777777777778,
              "#fb9f3a"
             ],
             [
              0.8888888888888888,
              "#fdca26"
             ],
             [
              1,
              "#f0f921"
             ]
            ],
            "type": "histogram2d"
           }
          ],
          "histogram2dcontour": [
           {
            "colorbar": {
             "outlinewidth": 0,
             "ticks": ""
            },
            "colorscale": [
             [
              0,
              "#0d0887"
             ],
             [
              0.1111111111111111,
              "#46039f"
             ],
             [
              0.2222222222222222,
              "#7201a8"
             ],
             [
              0.3333333333333333,
              "#9c179e"
             ],
             [
              0.4444444444444444,
              "#bd3786"
             ],
             [
              0.5555555555555556,
              "#d8576b"
             ],
             [
              0.6666666666666666,
              "#ed7953"
             ],
             [
              0.7777777777777778,
              "#fb9f3a"
             ],
             [
              0.8888888888888888,
              "#fdca26"
             ],
             [
              1,
              "#f0f921"
             ]
            ],
            "type": "histogram2dcontour"
           }
          ],
          "mesh3d": [
           {
            "colorbar": {
             "outlinewidth": 0,
             "ticks": ""
            },
            "type": "mesh3d"
           }
          ],
          "parcoords": [
           {
            "line": {
             "colorbar": {
              "outlinewidth": 0,
              "ticks": ""
             }
            },
            "type": "parcoords"
           }
          ],
          "pie": [
           {
            "automargin": true,
            "type": "pie"
           }
          ],
          "scatter": [
           {
            "fillpattern": {
             "fillmode": "overlay",
             "size": 10,
             "solidity": 0.2
            },
            "type": "scatter"
           }
          ],
          "scatter3d": [
           {
            "line": {
             "colorbar": {
              "outlinewidth": 0,
              "ticks": ""
             }
            },
            "marker": {
             "colorbar": {
              "outlinewidth": 0,
              "ticks": ""
             }
            },
            "type": "scatter3d"
           }
          ],
          "scattercarpet": [
           {
            "marker": {
             "colorbar": {
              "outlinewidth": 0,
              "ticks": ""
             }
            },
            "type": "scattercarpet"
           }
          ],
          "scattergeo": [
           {
            "marker": {
             "colorbar": {
              "outlinewidth": 0,
              "ticks": ""
             }
            },
            "type": "scattergeo"
           }
          ],
          "scattergl": [
           {
            "marker": {
             "colorbar": {
              "outlinewidth": 0,
              "ticks": ""
             }
            },
            "type": "scattergl"
           }
          ],
          "scattermap": [
           {
            "marker": {
             "colorbar": {
              "outlinewidth": 0,
              "ticks": ""
             }
            },
            "type": "scattermap"
           }
          ],
          "scattermapbox": [
           {
            "marker": {
             "colorbar": {
              "outlinewidth": 0,
              "ticks": ""
             }
            },
            "type": "scattermapbox"
           }
          ],
          "scatterpolar": [
           {
            "marker": {
             "colorbar": {
              "outlinewidth": 0,
              "ticks": ""
             }
            },
            "type": "scatterpolar"
           }
          ],
          "scatterpolargl": [
           {
            "marker": {
             "colorbar": {
              "outlinewidth": 0,
              "ticks": ""
             }
            },
            "type": "scatterpolargl"
           }
          ],
          "scatterternary": [
           {
            "marker": {
             "colorbar": {
              "outlinewidth": 0,
              "ticks": ""
             }
            },
            "type": "scatterternary"
           }
          ],
          "surface": [
           {
            "colorbar": {
             "outlinewidth": 0,
             "ticks": ""
            },
            "colorscale": [
             [
              0,
              "#0d0887"
             ],
             [
              0.1111111111111111,
              "#46039f"
             ],
             [
              0.2222222222222222,
              "#7201a8"
             ],
             [
              0.3333333333333333,
              "#9c179e"
             ],
             [
              0.4444444444444444,
              "#bd3786"
             ],
             [
              0.5555555555555556,
              "#d8576b"
             ],
             [
              0.6666666666666666,
              "#ed7953"
             ],
             [
              0.7777777777777778,
              "#fb9f3a"
             ],
             [
              0.8888888888888888,
              "#fdca26"
             ],
             [
              1,
              "#f0f921"
             ]
            ],
            "type": "surface"
           }
          ],
          "table": [
           {
            "cells": {
             "fill": {
              "color": "#EBF0F8"
             },
             "line": {
              "color": "white"
             }
            },
            "header": {
             "fill": {
              "color": "#C8D4E3"
             },
             "line": {
              "color": "white"
             }
            },
            "type": "table"
           }
          ]
         },
         "layout": {
          "annotationdefaults": {
           "arrowcolor": "#2a3f5f",
           "arrowhead": 0,
           "arrowwidth": 1
          },
          "autotypenumbers": "strict",
          "coloraxis": {
           "colorbar": {
            "outlinewidth": 0,
            "ticks": ""
           }
          },
          "colorscale": {
           "diverging": [
            [
             0,
             "#8e0152"
            ],
            [
             0.1,
             "#c51b7d"
            ],
            [
             0.2,
             "#de77ae"
            ],
            [
             0.3,
             "#f1b6da"
            ],
            [
             0.4,
             "#fde0ef"
            ],
            [
             0.5,
             "#f7f7f7"
            ],
            [
             0.6,
             "#e6f5d0"
            ],
            [
             0.7,
             "#b8e186"
            ],
            [
             0.8,
             "#7fbc41"
            ],
            [
             0.9,
             "#4d9221"
            ],
            [
             1,
             "#276419"
            ]
           ],
           "sequential": [
            [
             0,
             "#0d0887"
            ],
            [
             0.1111111111111111,
             "#46039f"
            ],
            [
             0.2222222222222222,
             "#7201a8"
            ],
            [
             0.3333333333333333,
             "#9c179e"
            ],
            [
             0.4444444444444444,
             "#bd3786"
            ],
            [
             0.5555555555555556,
             "#d8576b"
            ],
            [
             0.6666666666666666,
             "#ed7953"
            ],
            [
             0.7777777777777778,
             "#fb9f3a"
            ],
            [
             0.8888888888888888,
             "#fdca26"
            ],
            [
             1,
             "#f0f921"
            ]
           ],
           "sequentialminus": [
            [
             0,
             "#0d0887"
            ],
            [
             0.1111111111111111,
             "#46039f"
            ],
            [
             0.2222222222222222,
             "#7201a8"
            ],
            [
             0.3333333333333333,
             "#9c179e"
            ],
            [
             0.4444444444444444,
             "#bd3786"
            ],
            [
             0.5555555555555556,
             "#d8576b"
            ],
            [
             0.6666666666666666,
             "#ed7953"
            ],
            [
             0.7777777777777778,
             "#fb9f3a"
            ],
            [
             0.8888888888888888,
             "#fdca26"
            ],
            [
             1,
             "#f0f921"
            ]
           ]
          },
          "colorway": [
           "#636efa",
           "#EF553B",
           "#00cc96",
           "#ab63fa",
           "#FFA15A",
           "#19d3f3",
           "#FF6692",
           "#B6E880",
           "#FF97FF",
           "#FECB52"
          ],
          "font": {
           "color": "#2a3f5f"
          },
          "geo": {
           "bgcolor": "white",
           "lakecolor": "white",
           "landcolor": "#E5ECF6",
           "showlakes": true,
           "showland": true,
           "subunitcolor": "white"
          },
          "hoverlabel": {
           "align": "left"
          },
          "hovermode": "closest",
          "mapbox": {
           "style": "light"
          },
          "paper_bgcolor": "white",
          "plot_bgcolor": "#E5ECF6",
          "polar": {
           "angularaxis": {
            "gridcolor": "white",
            "linecolor": "white",
            "ticks": ""
           },
           "bgcolor": "#E5ECF6",
           "radialaxis": {
            "gridcolor": "white",
            "linecolor": "white",
            "ticks": ""
           }
          },
          "scene": {
           "xaxis": {
            "backgroundcolor": "#E5ECF6",
            "gridcolor": "white",
            "gridwidth": 2,
            "linecolor": "white",
            "showbackground": true,
            "ticks": "",
            "zerolinecolor": "white"
           },
           "yaxis": {
            "backgroundcolor": "#E5ECF6",
            "gridcolor": "white",
            "gridwidth": 2,
            "linecolor": "white",
            "showbackground": true,
            "ticks": "",
            "zerolinecolor": "white"
           },
           "zaxis": {
            "backgroundcolor": "#E5ECF6",
            "gridcolor": "white",
            "gridwidth": 2,
            "linecolor": "white",
            "showbackground": true,
            "ticks": "",
            "zerolinecolor": "white"
           }
          },
          "shapedefaults": {
           "line": {
            "color": "#2a3f5f"
           }
          },
          "ternary": {
           "aaxis": {
            "gridcolor": "white",
            "linecolor": "white",
            "ticks": ""
           },
           "baxis": {
            "gridcolor": "white",
            "linecolor": "white",
            "ticks": ""
           },
           "bgcolor": "#E5ECF6",
           "caxis": {
            "gridcolor": "white",
            "linecolor": "white",
            "ticks": ""
           }
          },
          "title": {
           "x": 0.05
          },
          "xaxis": {
           "automargin": true,
           "gridcolor": "white",
           "linecolor": "white",
           "ticks": "",
           "title": {
            "standoff": 15
           },
           "zerolinecolor": "white",
           "zerolinewidth": 2
          },
          "yaxis": {
           "automargin": true,
           "gridcolor": "white",
           "linecolor": "white",
           "ticks": "",
           "title": {
            "standoff": 15
           },
           "zerolinecolor": "white",
           "zerolinewidth": 2
          }
         }
        },
        "title": {
         "text": "SLIM - Train vs Test Fitness ('sustavianfeed' dataset)"
        },
        "width": 1100,
        "xaxis": {
         "anchor": "y",
         "domain": [
          0,
          0.26666666666666666
         ],
         "title": {
          "text": ""
         }
        },
        "xaxis2": {
         "anchor": "y2",
         "domain": [
          0.3666666666666667,
          0.6333333333333333
         ]
        },
        "xaxis3": {
         "anchor": "y3",
         "domain": [
          0.7333333333333334,
          1
         ]
        },
        "xaxis4": {
         "anchor": "y4",
         "domain": [
          0,
          0.26666666666666666
         ]
        },
        "xaxis5": {
         "anchor": "y5",
         "domain": [
          0.3666666666666667,
          0.6333333333333333
         ]
        },
        "xaxis6": {
         "anchor": "y6",
         "domain": [
          0.7333333333333334,
          1
         ]
        },
        "yaxis": {
         "anchor": "x",
         "domain": [
          0.55,
          1
         ],
         "range": [
          0,
          null
         ],
         "title": {
          "text": ""
         }
        },
        "yaxis2": {
         "anchor": "x2",
         "domain": [
          0.55,
          1
         ],
         "range": [
          0,
          null
         ]
        },
        "yaxis3": {
         "anchor": "x3",
         "domain": [
          0.55,
          1
         ],
         "range": [
          0,
          null
         ]
        },
        "yaxis4": {
         "anchor": "x4",
         "domain": [
          0,
          0.45
         ],
         "range": [
          0,
          null
         ]
        },
        "yaxis5": {
         "anchor": "x5",
         "domain": [
          0,
          0.45
         ],
         "range": [
          0,
          null
         ]
        },
        "yaxis6": {
         "anchor": "x6",
         "domain": [
          0,
          0.45
         ],
         "range": [
          0,
          null
         ]
        }
       }
      }
     },
     "metadata": {},
     "output_type": "display_data"
    }
   ],
   "source": [
    "plotter.make_slim_evolution_plots(\n",
    "    df_log=df_log,\n",
    "    n_cols=3,\n",
    "    n_rows=2,\n",
    "    slim_versions=grid_params['slim_version'],\n",
    "    plot_title = f\"SLIM - Train vs Test Fitness ('{dataset_name}' dataset)\", \n",
    "    var='size'\n",
    ")"
   ]
  },
  {
   "cell_type": "markdown",
   "metadata": {},
   "source": [
    "### Discussion\n",
    "\n"
   ]
  },
  {
   "cell_type": "markdown",
   "metadata": {},
   "source": [
    "### Model Selection\n",
    "\n",
    "Based on these results we, opt for the model that provides the best fitness, on the median of the folds, which we can assert via visual inpection to be:\n",
    "\n"
   ]
  }
 ],
 "metadata": {
  "kernelspec": {
   "display_name": "nel",
   "language": "python",
   "name": "python3"
  },
  "language_info": {
   "codemirror_mode": {
    "name": "ipython",
    "version": 3
   },
   "file_extension": ".py",
   "mimetype": "text/x-python",
   "name": "python",
   "nbconvert_exporter": "python",
   "pygments_lexer": "ipython3",
   "version": "3.12.7"
  }
 },
 "nbformat": 4,
 "nbformat_minor": 4
}
